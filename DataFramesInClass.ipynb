{
 "cells": [
  {
   "cell_type": "markdown",
   "metadata": {},
   "source": [
    "Create a dataframe for this data:\n",
    "\n",
    "|  Name  | GPA | Major |    Phone     |\n",
    "|:------:|:---:|:-----:|:------------:|\n",
    "| Alexa  | 3.7 |  FBM  | 212 398 2375 |\n",
    "| Tanya  | 3.6 |  AMC  | 212 323 3040 |\n",
    "| Hubert | 3.4 |  FBM  | 718 232 9392 |\n",
    "\n",
    "-   Create a data frame `df` by using the `data.frame` function.\n",
    "-   You will need to make some appropriate vectors to be the columns of\n",
    "    your dataframe. Replace the word `CODE` below with the appropriate\n",
    "    vector using the function `c`\n",
    "-   Use the argument `stringsAsFactors=FALSE` in your data.frame\n",
    "    function:"
   ]
  },
  {
   "cell_type": "code",
   "execution_count": null,
   "metadata": {},
   "outputs": [],
   "source": [
    "df <- data.frame(Name = CODE,\n",
    "              GPA = CODE,\n",
    "              Major = CODE,\n",
    "              Phone = CODE,\n",
    "              stringsAsFactors=FALSE)"
   ]
  },
  {
   "cell_type": "markdown",
   "metadata": {},
   "source": [
    "-   Print out the structure of your data frame using `str`"
   ]
  },
  {
   "cell_type": "code",
   "execution_count": null,
   "metadata": {},
   "outputs": [],
   "source": [
    "PUT CODE HERE"
   ]
  },
  {
   "cell_type": "markdown",
   "metadata": {},
   "source": [
    "-   Print out just the GPA column using \\$ sign `df$GPA`"
   ]
  },
  {
   "cell_type": "code",
   "execution_count": null,
   "metadata": {},
   "outputs": [],
   "source": [
    "PUT CODE HERE"
   ]
  },
  {
   "cell_type": "markdown",
   "metadata": {},
   "source": [
    "-   Print out just the Phone column using \\$ sign `df$Phone`:"
   ]
  },
  {
   "cell_type": "code",
   "execution_count": null,
   "metadata": {},
   "outputs": [],
   "source": [
    "PUT CODE HERE"
   ]
  },
  {
   "cell_type": "markdown",
   "metadata": {},
   "source": [
    "Now print out the first few lines of the data frame using `head(df)`. In\n",
    "this case it will be all the data, since `head` prints the first 6\n",
    "lines, and this data has less than 6 lines.\n",
    "\n",
    "-   Print out your dataframe using `head(df)`"
   ]
  },
  {
   "cell_type": "code",
   "execution_count": null,
   "metadata": {},
   "outputs": [],
   "source": [
    "PUT CODE HERE"
   ]
  },
  {
   "cell_type": "markdown",
   "metadata": {},
   "source": [
    "-   Use `summary(df)` to print out a summary of the data frame data:"
   ]
  },
  {
   "cell_type": "code",
   "execution_count": null,
   "metadata": {},
   "outputs": [],
   "source": [
    "PUT CODE HERE"
   ]
  },
  {
   "cell_type": "markdown",
   "metadata": {},
   "source": [
    "-   Delete the column “Major” from the data frame (use `df$Major<-NULL`)"
   ]
  },
  {
   "cell_type": "code",
   "execution_count": null,
   "metadata": {},
   "outputs": [],
   "source": [
    "PUT CODE HERE"
   ]
  },
  {
   "cell_type": "markdown",
   "metadata": {},
   "source": [
    "-   Print out the structure of your data frame showing the column above\n",
    "    removed:"
   ]
  },
  {
   "cell_type": "code",
   "execution_count": null,
   "metadata": {},
   "outputs": [],
   "source": [
    "PUT CODE HERE"
   ]
  },
  {
   "cell_type": "markdown",
   "metadata": {},
   "source": [
    "Finally add a column called “ID” Your data frame should now look like\n",
    "this:\n",
    "\n",
    "|  Name  | GPA |    Phone     |  ID  |\n",
    "|:------:|:---:|:------------:|:----:|\n",
    "| Alexa  | 3.7 | 212 398 2375 | 1001 |\n",
    "| Tanya  | 3.6 | 212 323 3040 | 1002 |\n",
    "| Hubert | 3.4 | 718 232 9392 | 1003 |\n",
    "\n",
    "-   Add a column using `df$ID<-c(1001,1002,1003)`"
   ]
  },
  {
   "cell_type": "code",
   "execution_count": null,
   "metadata": {},
   "outputs": [],
   "source": [
    "PUT CODE HERE"
   ]
  },
  {
   "cell_type": "markdown",
   "metadata": {},
   "source": [
    "-   Print out the structure of the new data frame using `str`:"
   ]
  },
  {
   "cell_type": "code",
   "execution_count": null,
   "metadata": {},
   "outputs": [],
   "source": [
    "PUT CODE HERE"
   ]
  },
  {
   "cell_type": "markdown",
   "metadata": {},
   "source": [
    "-   Change Tanyas GPA in the dataframe to be `3.98`"
   ]
  },
  {
   "cell_type": "code",
   "execution_count": null,
   "metadata": {},
   "outputs": [],
   "source": [
    "PUT CODE HERE"
   ]
  },
  {
   "cell_type": "markdown",
   "metadata": {},
   "source": [
    "-   Print out the data frame using `head` to make sure her GPA is\n",
    "    changed:"
   ]
  },
  {
   "cell_type": "code",
   "execution_count": null,
   "metadata": {},
   "outputs": [],
   "source": [
    "PUT CODE HERE"
   ]
  },
  {
   "cell_type": "markdown",
   "metadata": {},
   "source": [
    "-   Extract (print out) the element in the 2nd row and 3rd column by\n",
    "    using `df[,]`, and using the right index or indices inside the\n",
    "    square brackets:"
   ]
  },
  {
   "cell_type": "code",
   "execution_count": null,
   "metadata": {},
   "outputs": [],
   "source": [
    "PUT CODE HERE"
   ]
  }
 ],
 "nbformat": 4,
 "nbformat_minor": 5,
 "metadata": {
  "kernelspec": {
   "name": "ir",
   "display_name": "R",
   "language": "R"
  }
 }
}
