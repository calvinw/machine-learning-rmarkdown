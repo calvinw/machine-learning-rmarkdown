{
  "cells": [
    {
      "cell_type": "markdown",
      "metadata": {},
      "source": [
        "# Data Frames InClass\n",
        "\n",
        "Create a dataframe for this data:\n",
        "\n",
        "|  Name  | GPA | Major |    Phone     |\n",
        "|:------:|:---:|:-----:|:------------:|\n",
        "| Alexa  | 3.7 |  FBM  | 212 398 2375 |\n",
        "| Tanya  | 3.6 |  AMC  | 212 323 3040 |\n",
        "| Hubert | 3.4 |  FBM  | 718 232 9392 |\n",
        "\n",
        "-   Create a data frame `df` by using the `data.frame` function.\n",
        "-   You will need to make some appropriate vectors to be the columns of\n",
        "    your dataframe. Replace the word `CODE` below with the appropriate\n",
        "    vector using the function `c`\n",
        "-   Use the argument `stringsAsFactors=FALSE` in your data.frame\n",
        "    function:"
      ],
      "id": "e9cb498f-47d7-4bbc-8613-38a2c31bb2e3"
    },
    {
      "cell_type": "code",
      "execution_count": null,
      "metadata": {},
      "outputs": [],
      "source": [
        "Name <- CODE\n",
        "GPA <- CODE\n",
        "Major<- CODE\n",
        "Phone<- CODE\n",
        "df <- data.frame(Name, GPA, Major, Phone, stringsAsFactors=FALSE)"
      ],
      "id": "5f74d2a4-c9a1-44a2-a10f-b5d32d2955e4"
    },
    {
      "cell_type": "markdown",
      "metadata": {},
      "source": [
        "-   Print out the structure of your data frame using `str`"
      ],
      "id": "5da0847c-0c49-4ae7-9343-faf21ae231d7"
    },
    {
      "cell_type": "code",
      "execution_count": null,
      "metadata": {},
      "outputs": [],
      "source": [
        "CODE"
      ],
      "id": "a213bc14-3fe1-4186-a63e-e61dfbc2cc56"
    },
    {
      "cell_type": "markdown",
      "metadata": {},
      "source": [
        "-   Print out just the GPA column using \\$ sign `df$GPA`"
      ],
      "id": "750086de-f30b-470b-84b3-33c587107d46"
    },
    {
      "cell_type": "code",
      "execution_count": null,
      "metadata": {},
      "outputs": [],
      "source": [
        "CODE"
      ],
      "id": "f9635749-f75c-4aeb-9220-68748e112772"
    },
    {
      "cell_type": "markdown",
      "metadata": {},
      "source": [
        "-   Print out just the Phone column using \\$ sign `df$Phone`:"
      ],
      "id": "88f81785-762c-40eb-8992-43b9c1c4c650"
    },
    {
      "cell_type": "code",
      "execution_count": null,
      "metadata": {},
      "outputs": [],
      "source": [
        "CODE"
      ],
      "id": "6515cb4f-f5bd-4bd8-aafb-c315d5ebb4aa"
    },
    {
      "cell_type": "markdown",
      "metadata": {},
      "source": [
        "Now print out the first few lines of the data frame using `head(df)`. In\n",
        "this case it will be all the data, since `head` prints the first 6\n",
        "lines, and this data has less than 6 lines.\n",
        "\n",
        "-   Print out your dataframe using `head(df)`"
      ],
      "id": "01239506-1c76-448e-811c-102170c1c9da"
    },
    {
      "cell_type": "code",
      "execution_count": null,
      "metadata": {},
      "outputs": [],
      "source": [
        "CODE"
      ],
      "id": "fe8183cd-8628-423d-9d8e-414225151edd"
    },
    {
      "cell_type": "markdown",
      "metadata": {},
      "source": [
        "-   Use `summary(df)` to print out a summary of the data frame data:"
      ],
      "id": "3ce66ee8-b972-44f3-9ed7-714915054e91"
    },
    {
      "cell_type": "code",
      "execution_count": null,
      "metadata": {},
      "outputs": [],
      "source": [
        "CODE"
      ],
      "id": "5b11c57e-c34b-48b2-8b4e-53723f47b705"
    },
    {
      "cell_type": "markdown",
      "metadata": {},
      "source": [
        "-   Delete the column “Major” from the data frame (use `df$Major<-NULL`)"
      ],
      "id": "283a0fd0-de79-494d-ae46-b64f610def81"
    },
    {
      "cell_type": "code",
      "execution_count": null,
      "metadata": {},
      "outputs": [],
      "source": [
        "CODE"
      ],
      "id": "a2f4d804-53fc-4578-a363-4911ee8d5bd3"
    },
    {
      "cell_type": "markdown",
      "metadata": {},
      "source": [
        "-   Print out the structure of your data frame showing the column above\n",
        "    removed:"
      ],
      "id": "e4a5634d-e0c9-4775-9777-9d761b307a8a"
    },
    {
      "cell_type": "code",
      "execution_count": null,
      "metadata": {},
      "outputs": [],
      "source": [
        "CODE"
      ],
      "id": "d0173fd0-1a01-4f76-9551-bd37283f45c7"
    },
    {
      "cell_type": "markdown",
      "metadata": {},
      "source": [
        "Finally add a column called “ID” Your data frame should now look like\n",
        "this:\n",
        "\n",
        "|  Name  | GPA |    Phone     |  ID  |\n",
        "|:------:|:---:|:------------:|:----:|\n",
        "| Alexa  | 3.7 | 212 398 2375 | 1001 |\n",
        "| Tanya  | 3.6 | 212 323 3040 | 1002 |\n",
        "| Hubert | 3.4 | 718 232 9392 | 1003 |\n",
        "\n",
        "-   Add a column using `df$ID<-c(1001,1002,1003)`"
      ],
      "id": "ab76726a-59e5-4300-8014-cf766b26edd7"
    },
    {
      "cell_type": "code",
      "execution_count": null,
      "metadata": {},
      "outputs": [],
      "source": [
        "CODE"
      ],
      "id": "2c150f83-48f6-4807-88a0-b269f40a61ba"
    },
    {
      "cell_type": "markdown",
      "metadata": {},
      "source": [
        "-   Print out the structure of the new data frame using `str`:"
      ],
      "id": "e9d9df11-e961-49b6-bbbe-8bfad91b56f5"
    },
    {
      "cell_type": "code",
      "execution_count": null,
      "metadata": {},
      "outputs": [],
      "source": [
        "CODE"
      ],
      "id": "8db8ae53-d8df-40b8-99b0-0f65217d0561"
    },
    {
      "cell_type": "markdown",
      "metadata": {},
      "source": [
        "-   Change Alexas GPA in the dataframe to be 3.98 (use `df[1,2]<-3.98`)"
      ],
      "id": "be701063-c884-41a6-8f84-8bac211fcad0"
    },
    {
      "cell_type": "code",
      "execution_count": null,
      "metadata": {},
      "outputs": [],
      "source": [
        "CODE"
      ],
      "id": "7fd5e402-152c-457e-a4bf-3d487f6680fe"
    },
    {
      "cell_type": "markdown",
      "metadata": {},
      "source": [
        "-   Change Huberts ID in the dataframe to be 1004"
      ],
      "id": "8cd86ddb-c5fc-4486-b9ce-61eb26e20d6c"
    },
    {
      "cell_type": "code",
      "execution_count": null,
      "metadata": {},
      "outputs": [],
      "source": [
        "CODE"
      ],
      "id": "8d13e3bd-ae16-4a69-805e-1d6a1c7c9378"
    },
    {
      "cell_type": "markdown",
      "metadata": {},
      "source": [
        "-   Print out the data frame using `head` to make sure Alexas GPA is\n",
        "    changed:"
      ],
      "id": "771c39d2-7653-4fc9-9043-b6982ca6a6a2"
    },
    {
      "cell_type": "code",
      "execution_count": null,
      "metadata": {},
      "outputs": [],
      "source": [
        "CODE"
      ],
      "id": "d27bfd91-ed55-40e2-ba65-dc14b5d36340"
    },
    {
      "cell_type": "markdown",
      "metadata": {},
      "source": [
        "-   Print out the element in the 2nd row and 3rd column"
      ],
      "id": "cde6a146-83d7-447f-9f98-a49459eb15f4"
    },
    {
      "cell_type": "code",
      "execution_count": null,
      "metadata": {},
      "outputs": [],
      "source": [
        "CODE"
      ],
      "id": "a59bc8b2-148d-4879-8a90-3ce1b4dfad7f"
    },
    {
      "cell_type": "markdown",
      "metadata": {},
      "source": [
        "This should be the telephone number “212 323 3040”"
      ],
      "id": "84f7a1c9-1026-4b3d-a881-035debec4b0c"
    }
  ],
  "nbformat": 4,
  "nbformat_minor": 5,
  "metadata": {
    "kernelspec": {
      "name": "ir",
      "display_name": "R",
      "language": "R"
    }
  }
}