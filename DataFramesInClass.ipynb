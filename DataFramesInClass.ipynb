{
  "cells": [
    {
      "cell_type": "markdown",
      "metadata": {},
      "source": [
        "# Data Frames InClass\n",
        "\n",
        "Create a dataframe for this data:\n",
        "\n",
        "|  Name  | GPA | Major |    Phone     |\n",
        "|:------:|:---:|:-----:|:------------:|\n",
        "| Alexa  | 3.7 |  FBM  | 212 398 2375 |\n",
        "| Tanya  | 3.6 |  AMC  | 212 323 3040 |\n",
        "| Hubert | 3.4 |  FBM  | 718 232 9392 |\n",
        "\n",
        "-   Create a data frame `df` by using the `data.frame` function.\n",
        "-   You will need to make some appropriate vectors to be the columns of\n",
        "    your dataframe. Replace the word `CODE` below with the appropriate\n",
        "    vector using the function `c`\n",
        "-   Use the argument `stringsAsFactors=FALSE` in your data.frame\n",
        "    function:"
      ],
      "id": "0d3a1b25-fd72-4480-9d05-5ed5b383677b"
    },
    {
      "cell_type": "code",
      "execution_count": null,
      "metadata": {},
      "outputs": [],
      "source": [
        "Name <- CODE\n",
        "GPA <- CODE\n",
        "Major<- CODE\n",
        "Phone<- CODE\n",
        "df <- data.frame(Name, GPA, Major, Phone, stringsAsFactors=FALSE)"
      ],
      "id": "6c401dcb-f42a-46ad-bd83-d9d876ac1678"
    },
    {
      "cell_type": "markdown",
      "metadata": {},
      "source": [
        "-   Print out the structure of your data frame using `str`"
      ],
      "id": "f6cb3f7a-468a-47e5-8b72-6c4ca35a9144"
    },
    {
      "cell_type": "code",
      "execution_count": null,
      "metadata": {},
      "outputs": [],
      "source": [
        "CODE"
      ],
      "id": "14830b77-0676-47e6-8fcc-3a835e6a65a0"
    },
    {
      "cell_type": "markdown",
      "metadata": {},
      "source": [
        "-   Print out just the GPA column using \\$ sign `df$GPA`"
      ],
      "id": "fb1590d4-13c0-49a9-a44d-102e082992e1"
    },
    {
      "cell_type": "code",
      "execution_count": null,
      "metadata": {},
      "outputs": [],
      "source": [
        "CODE"
      ],
      "id": "4dac5f79-11cc-4a84-94b0-d7936a0c0940"
    },
    {
      "cell_type": "markdown",
      "metadata": {},
      "source": [
        "-   Print out just the Phone column using \\$ sign `df$Phone`:"
      ],
      "id": "f55b2106-1b81-4c0a-a4cc-813a338260a4"
    },
    {
      "cell_type": "code",
      "execution_count": null,
      "metadata": {},
      "outputs": [],
      "source": [
        "CODE"
      ],
      "id": "9ba1e3f6-b90d-4539-a070-abc961f4256d"
    },
    {
      "cell_type": "markdown",
      "metadata": {},
      "source": [
        "Now print out the first few lines of the data frame using `head(df)`. In\n",
        "this case it will be all the data, since `head` prints the first 6\n",
        "lines, and this data has less than 6 lines.\n",
        "\n",
        "-   Print out your dataframe using `head(df)`"
      ],
      "id": "f374f51a-c069-48b0-9342-db560a04d69b"
    },
    {
      "cell_type": "code",
      "execution_count": null,
      "metadata": {},
      "outputs": [],
      "source": [
        "CODE"
      ],
      "id": "e3c63b59-b6c9-4a1c-8e94-82418a6886ce"
    },
    {
      "cell_type": "markdown",
      "metadata": {},
      "source": [
        "-   Use `summary(df)` to print out a summary of the data frame data:"
      ],
      "id": "88f0763d-adc3-4403-8ee5-1db57859bf24"
    },
    {
      "cell_type": "code",
      "execution_count": null,
      "metadata": {},
      "outputs": [],
      "source": [
        "CODE"
      ],
      "id": "0c095b8b-7d1a-48b0-bbdd-83b45b0b6574"
    },
    {
      "cell_type": "markdown",
      "metadata": {},
      "source": [
        "-   Delete the column “Major” from the data frame (use `df$Major<-NULL`)"
      ],
      "id": "98f1f44e-f7ca-4d28-8fa6-685c495f82d4"
    },
    {
      "cell_type": "code",
      "execution_count": null,
      "metadata": {},
      "outputs": [],
      "source": [
        "CODE"
      ],
      "id": "45842000-2f0e-489d-bce3-7492d1398610"
    },
    {
      "cell_type": "markdown",
      "metadata": {},
      "source": [
        "-   Print out the structure of your data frame showing the column above\n",
        "    removed:"
      ],
      "id": "a0aeab9d-28d0-4805-8052-818b974b90b3"
    },
    {
      "cell_type": "code",
      "execution_count": null,
      "metadata": {},
      "outputs": [],
      "source": [
        "CODE"
      ],
      "id": "edbce54a-c7ff-4a35-bbca-4f41b252fc83"
    },
    {
      "cell_type": "markdown",
      "metadata": {},
      "source": [
        "Finally add a column called “ID” Your data frame should now look like\n",
        "this:\n",
        "\n",
        "|  Name  | GPA |    Phone     |  ID  |\n",
        "|:------:|:---:|:------------:|:----:|\n",
        "| Alexa  | 3.7 | 212 398 2375 | 1001 |\n",
        "| Tanya  | 3.6 | 212 323 3040 | 1002 |\n",
        "| Hubert | 3.4 | 718 232 9392 | 1003 |\n",
        "\n",
        "-   Add a column using `df$ID<-c(1001,1002,1003)`"
      ],
      "id": "6815a0e5-075f-4315-9cbe-202826eee1d8"
    },
    {
      "cell_type": "code",
      "execution_count": null,
      "metadata": {},
      "outputs": [],
      "source": [
        "CODE"
      ],
      "id": "9047c659-ffad-4010-bbc9-1d3d373a7ae0"
    },
    {
      "cell_type": "markdown",
      "metadata": {},
      "source": [
        "-   Print out the structure of the new data frame using `str`:"
      ],
      "id": "6821993a-30ce-4d63-bc59-233556370adb"
    },
    {
      "cell_type": "code",
      "execution_count": null,
      "metadata": {},
      "outputs": [],
      "source": [
        "CODE"
      ],
      "id": "0677dff6-c344-4200-a069-cd7f849ff557"
    },
    {
      "cell_type": "markdown",
      "metadata": {},
      "source": [
        "-   Change Alexas GPA in the dataframe to be 3.98 (use `df[1,2]<-3.98`)"
      ],
      "id": "32b2418c-61b2-456d-b1ce-b0654e53a5d3"
    },
    {
      "cell_type": "code",
      "execution_count": null,
      "metadata": {},
      "outputs": [],
      "source": [
        "CODE"
      ],
      "id": "73ac9ee6-0767-49f2-8ea3-97ef1643ca07"
    },
    {
      "cell_type": "markdown",
      "metadata": {},
      "source": [
        "-   Change Huberts ID in the dataframe to be 1004"
      ],
      "id": "5b3463be-a670-4f3d-8284-1baaa4a8cf1d"
    },
    {
      "cell_type": "code",
      "execution_count": null,
      "metadata": {},
      "outputs": [],
      "source": [
        "CODE"
      ],
      "id": "b5443a23-fe2e-4fbe-b567-47ae1e880b8e"
    },
    {
      "cell_type": "markdown",
      "metadata": {},
      "source": [
        "-   Print out the data frame using `head` to make sure Alexas GPA is\n",
        "    changed:"
      ],
      "id": "c1a8eb48-c85e-41e9-8d0e-ba8c12bd0b79"
    },
    {
      "cell_type": "code",
      "execution_count": null,
      "metadata": {},
      "outputs": [],
      "source": [
        "CODE"
      ],
      "id": "4d61d81d-3549-4772-95fc-c4a6602fe60f"
    },
    {
      "cell_type": "markdown",
      "metadata": {},
      "source": [
        "-   Print out the element in the 2nd row and 3rd column"
      ],
      "id": "03406566-65d2-43d7-a802-c86c89a6d962"
    },
    {
      "cell_type": "code",
      "execution_count": null,
      "metadata": {},
      "outputs": [],
      "source": [
        "CODE"
      ],
      "id": "7b058787-d683-4ccb-bb1e-85bf009b9b80"
    },
    {
      "cell_type": "markdown",
      "metadata": {},
      "source": [
        "This should be the telephone number “212 323 3040”"
      ],
      "id": "c5207210-97c8-40ff-b0af-398bd814ac0d"
    }
  ],
  "nbformat": 4,
  "nbformat_minor": 5,
  "metadata": {
    "kernelspec": {
      "name": "ir",
      "display_name": "R",
      "language": "R"
    }
  }
}