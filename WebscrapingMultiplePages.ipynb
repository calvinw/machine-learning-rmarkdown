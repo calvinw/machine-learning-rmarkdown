{
 "cells": [
  {
   "cell_type": "markdown",
   "metadata": {},
   "source": [
    "This technique is taken from here: [Webscraping Multiple\n",
    "Pages](https://rstudio-pubs-static.s3.amazonaws.com/287509_dde580b0adf94bae8a7994d7ae0cb849.html)\n",
    "\n",
    "This related page is also a nice example of webscraping prices: [ML\n",
    "Books - Price Scraping](http://rpubs.com/Marcelobn/ML_books)\n",
    "\n",
    "Prices, discounts, and names of products are very interesting things to\n",
    "scrape from websites. That is what we want to do here. Often times there\n",
    "are page after page of products so we would like to find a way to scrape\n",
    "multiple pages of the same kind of data.\n",
    "\n",
    "Install rvest if needed and then load it:"
   ]
  },
  {
   "cell_type": "code",
   "execution_count": null,
   "metadata": {},
   "outputs": [],
   "source": [
    "if (!require(\"rvest\")) install.packages(\"rvest\")\n",
    "library(\"rvest\")"
   ]
  },
  {
   "cell_type": "markdown",
   "metadata": {},
   "source": [
    "Now first we just pull one page of data like before. And look for the\n",
    "prices. We will get a page off of \\[Rent the Runway\\]\n",
    "(<a href=\"https://www.renttherunway.com\" class=\"uri\">https://www.renttherunway.com</a>),\n",
    "we are interested in comparing the retail price for something and the\n",
    "“one-time” rental that renttherunway charges for those not signed up for\n",
    "their service. You can use the Selector Gadget in chrome to see what css\n",
    "selectors you need to grab the retail price and the range that the piece\n",
    "would rent for. Here the retail price is identified by the selector\n",
    "`.product-card-price__retail-quiet`, and the range of rental prices is\n",
    "in the selector `.product-card-price__regular`"
   ]
  },
  {
   "cell_type": "code",
   "execution_count": null,
   "metadata": {},
   "outputs": [],
   "source": [
    "library(\"rvest\")\n",
    "url <- \"https://www.renttherunway.com/c/dresses?page=1\"\n",
    "webpage <- read_html(url)\n",
    "nodes <- html_nodes(webpage,'.product-card-price__retail-quiet')\n",
    "retail <- html_text(nodes)\n",
    "retail"
   ]
  },
  {
   "cell_type": "markdown",
   "metadata": {},
   "source": [
    "We can see we need to get rid of the `retail` and later on the \\$. We\n",
    "leave it in for the moment:"
   ]
  },
  {
   "cell_type": "code",
   "execution_count": null,
   "metadata": {},
   "outputs": [],
   "source": [
    "retail<-gsub(\" retail\",\"\", retail, fixed=TRUE)\n",
    "retail"
   ]
  },
  {
   "cell_type": "markdown",
   "metadata": {},
   "source": [
    "That looks pretty good now. Next lets work on rental price. This is\n",
    "given as a range of values on the website, so we will need to pull that\n",
    "range, and then deal with the high and low values of the range of the\n",
    "rental price:"
   ]
  },
  {
   "cell_type": "code",
   "execution_count": null,
   "metadata": {},
   "outputs": [],
   "source": [
    "nodes <- html_nodes(webpage,'.product-card-price__regular')\n",
    "rental <- html_text(nodes)\n",
    "rental"
   ]
  },
  {
   "cell_type": "markdown",
   "metadata": {},
   "source": [
    "We have to remove this funny dash in the string. Then we use something\n",
    "that just extracts the low price. That is what we will work with for\n",
    "now. We could take an average of the high and low values with a little\n",
    "more work, but okay:"
   ]
  },
  {
   "cell_type": "code",
   "execution_count": null,
   "metadata": {},
   "outputs": [],
   "source": [
    "rental <- strsplit(rental, \" – \",)\n",
    "lower <- sapply(rental, function(x) x[1])\n",
    "upper <- sapply(rental, function(x) x[2])\n",
    "lower\n",
    "upper"
   ]
  },
  {
   "cell_type": "markdown",
   "metadata": {},
   "source": [
    "Now lets see if we can pull multiple pages for of this data.\n",
    "\n",
    "First lets take a look at the following construct:"
   ]
  },
  {
   "cell_type": "code",
   "execution_count": null,
   "metadata": {},
   "outputs": [],
   "source": [
    "pageUrls<-paste0('https://www.renttherunway.com/c/dresses?page=', 1:3)\n",
    "pageUrls"
   ]
  },
  {
   "cell_type": "markdown",
   "metadata": {},
   "source": [
    "What this does is just make a vector of length 3 with the urls of the\n",
    "first three pages that we want to pull.\n",
    "\n",
    "Now for this vector of urls, lets actually read the html from each of\n",
    "the pages, and store that in the webpages vector. Then we can use that\n",
    "to process each field we want from the different pages."
   ]
  },
  {
   "cell_type": "code",
   "execution_count": null,
   "metadata": {},
   "outputs": [],
   "source": [
    "webpages <- lapply(pageUrls, read_html)"
   ]
  },
  {
   "cell_type": "markdown",
   "metadata": {},
   "source": [
    "Now there is a function called `lapply` that lets you pass in a list or\n",
    "vector and it will apply a function you provide to this list and return\n",
    "the results of that. In this case we pass in a function that does\n",
    "exactly what we did above when we read the url (a page that is) then\n",
    "found the retail and rental ranges\n",
    "\n",
    "Here are the retail prices:"
   ]
  },
  {
   "cell_type": "code",
   "execution_count": null,
   "metadata": {},
   "outputs": [],
   "source": [
    "retail <- lapply(webpages,\n",
    "        function(webpage){\n",
    "        nodes<-html_nodes(webpage, '.product-card-price__retail-quiet')\n",
    "        price <- html_text(nodes) \n",
    "        gsub(\" retail\",\"\", price)\n",
    "        })\n",
    "retail <- unlist(retail)\n",
    "retail"
   ]
  },
  {
   "cell_type": "markdown",
   "metadata": {},
   "source": [
    "Here is are the rental amounts (the lower of the range):"
   ]
  },
  {
   "cell_type": "code",
   "execution_count": null,
   "metadata": {},
   "outputs": [],
   "source": [
    "rental <- lapply(webpages,\n",
    "        function(webpage){\n",
    "        nodes <- html_nodes(webpage,'.product-card-price__regular')\n",
    "        range <- html_text(nodes)\n",
    "        range <- strsplit(range, \" – \",)\n",
    "        sapply(range, function(x) x[1])\n",
    "        })\n",
    "rental <- unlist(rental)"
   ]
  },
  {
   "cell_type": "markdown",
   "metadata": {},
   "source": [
    "Finally lets clean up the dollar sign and the comma if numbers are over\n",
    "1,000:"
   ]
  },
  {
   "cell_type": "code",
   "execution_count": null,
   "metadata": {},
   "outputs": [],
   "source": [
    "retail <-gsub(\",\",\"\", retail)\n",
    "rental <-gsub(\",\",\"\", rental)\n",
    "\n",
    "retail <-gsub(\"$\",\"\", retail, fixed=TRUE)\n",
    "rental <-gsub(\"$\",\"\", rental, fixed=TRUE)"
   ]
  },
  {
   "cell_type": "markdown",
   "metadata": {},
   "source": [
    "Now we should be all set, lets turn them into numbers!"
   ]
  },
  {
   "cell_type": "code",
   "execution_count": null,
   "metadata": {},
   "outputs": [],
   "source": [
    "retail <- as.numeric(retail)\n",
    "rental <- as.numeric(rental)"
   ]
  },
  {
   "cell_type": "code",
   "execution_count": null,
   "metadata": {},
   "outputs": [],
   "source": [
    "df = data.frame(retail, rental)\n",
    "df"
   ]
  },
  {
   "cell_type": "markdown",
   "metadata": {},
   "source": [
    "Just for fun, do you think we can predict the rental price of something\n",
    "if we know the retail price?"
   ]
  },
  {
   "cell_type": "code",
   "execution_count": null,
   "metadata": {},
   "outputs": [],
   "source": [
    "plot(retail, rental, pch=20)"
   ]
  },
  {
   "cell_type": "markdown",
   "metadata": {},
   "source": [
    "Looks pretty good…"
   ]
  },
  {
   "cell_type": "code",
   "execution_count": null,
   "metadata": {},
   "outputs": [],
   "source": [
    "options(\"scipen\"=100, \"digits\"=4)\n",
    "model<-lm(rental ~ retail, data=df)\n",
    "summary(model)"
   ]
  },
  {
   "cell_type": "markdown",
   "metadata": {},
   "source": [
    "Nice… What about what percent the rental is of the retail:"
   ]
  },
  {
   "cell_type": "code",
   "execution_count": null,
   "metadata": {},
   "outputs": [],
   "source": [
    "percentage <- rental/retail\n",
    "percentage"
   ]
  },
  {
   "cell_type": "markdown",
   "metadata": {},
   "source": [
    "Whats the range you can expect?"
   ]
  },
  {
   "cell_type": "code",
   "execution_count": null,
   "metadata": {},
   "outputs": [],
   "source": [
    "descriptive<-summary(percentage)\n",
    "descriptive"
   ]
  },
  {
   "cell_type": "markdown",
   "metadata": {},
   "source": [
    "Looks like….\n",
    "\n",
    "**For one time rental only…The runway can be yours for from NA% to NA%\n",
    "of the retail price!!!!**\n",
    "\n",
    "Nice!"
   ]
  }
 ],
 "nbformat": 4,
 "nbformat_minor": 5,
 "metadata": {
  "kernelspec": {
   "name": "ir",
   "display_name": "R",
   "language": "R"
  }
 }
}

