{
  "cells": [
    {
      "cell_type": "markdown",
      "metadata": {},
      "source": [
        "# Diamonds Carat Clarity\n",
        "\n",
        "Here is some data for Diamonds\n",
        "\n",
        "-   Run this first to set nice print outs"
      ],
      "id": "8e84c77b-02fe-4489-b7ae-ff43a8b54b74"
    },
    {
      "cell_type": "code",
      "execution_count": null,
      "metadata": {},
      "outputs": [],
      "source": [
        "options(\"scipen\"=100, \"digits\"=4)"
      ],
      "id": "85ecfd64-5b46-4c6c-a38a-44febeeeeba3"
    },
    {
      "cell_type": "markdown",
      "metadata": {},
      "source": [
        "| carat | clarity | price |\n",
        "|-------|---------|-------|\n",
        "| 0.71  | 3       | 2554  |\n",
        "| 0.72  | 5       | 2691  |\n",
        "| 0.33  | 4       | 854   |\n",
        "| 1.52  | 4       | 9576  |\n",
        "| 1.23  | 4       | 9116  |\n",
        "| 0.54  | 6       | 1829  |\n",
        "| 0.32  | 5       | 828   |\n",
        "| 1.31  | 3       | 8767  |\n",
        "| 1.11  | 2       | 5648  |\n",
        "| 1.03  | 2       | 4283  |\n",
        "| 0.56  | 5       | 1131  |\n",
        "| 1.29  | 2       | 5601  |\n",
        "| 0.53  | 5       | 1577  |\n",
        "| 1.7   | 5       | 11257 |\n",
        "| 0.3   | 4       | 615   |\n",
        "\n",
        "-   create a data `df` using the vectors"
      ],
      "id": "f8b4a2c5-da1a-46a9-86cb-f748c648c52e"
    },
    {
      "cell_type": "code",
      "execution_count": null,
      "metadata": {},
      "outputs": [],
      "source": [
        "carat<-c(0.71,0.72,0.33,1.52,1.23,0.54,0.32,1.31,1.11,1.03,0.56,1.29,0.53,1.7, 0.3) \n",
        "clarity<-c(3,5,4,4,4,6,5,3,2,2,5,2,5,5,4)\n",
        "price<-c(2554,2691,854,9576,9116,1829,828,8767,5648,4283,1131,5601,1577,11257,615)\n",
        "df<-data.frame(CODE)"
      ],
      "id": "133e2846-190d-41b8-8551-ae224ff5547f"
    },
    {
      "cell_type": "markdown",
      "metadata": {},
      "source": [
        "-   print out info for the dataframe using `str`"
      ],
      "id": "b015388f-f44e-4435-9136-fe4110337b38"
    },
    {
      "cell_type": "code",
      "execution_count": null,
      "metadata": {},
      "outputs": [],
      "source": [
        "CODE"
      ],
      "id": "92cb960a-8471-449b-8504-5b1675893a6b"
    },
    {
      "cell_type": "markdown",
      "metadata": {},
      "source": [
        "-   print out the first few rows in the dataframe use `head`"
      ],
      "id": "e71a249b-5075-44ab-9c23-42e912dab19a"
    },
    {
      "cell_type": "code",
      "execution_count": null,
      "metadata": {},
      "outputs": [],
      "source": [
        "CODE"
      ],
      "id": "02d1d404-973e-482d-9326-5656f99c7519"
    },
    {
      "cell_type": "markdown",
      "metadata": {},
      "source": [
        "-   create scatterplots of the columns\n",
        "    `plot(df, upper.panel=NULL, pch=19)`"
      ],
      "id": "f855d812-a222-4a9c-b748-1622c58c58ad"
    },
    {
      "cell_type": "code",
      "execution_count": null,
      "metadata": {},
      "outputs": [],
      "source": [
        "CODE"
      ],
      "id": "9131caab-777d-4d2f-a4c8-c83a6914e02d"
    },
    {
      "cell_type": "markdown",
      "metadata": {},
      "source": [
        "-   create correlation matrix for `df` using the code `cor(df)`"
      ],
      "id": "a81db0dd-7c22-4639-8e57-defa9c023644"
    },
    {
      "cell_type": "code",
      "execution_count": null,
      "metadata": {},
      "outputs": [],
      "source": [
        "CODE"
      ],
      "id": "95cf6378-3bc1-42ba-8d4b-d98736c20fe2"
    },
    {
      "cell_type": "markdown",
      "metadata": {},
      "source": [
        "-   run a linear regression model using `carat` and `clarity` to predict\n",
        "    `price`"
      ],
      "id": "35d3c78c-d0e9-422c-812d-ca6b212bee01"
    },
    {
      "cell_type": "code",
      "execution_count": null,
      "metadata": {},
      "outputs": [],
      "source": [
        "model1<-lm(CODE,data=df)\n",
        "summary(model1)"
      ],
      "id": "ec96a1fa-f796-45bb-92bc-f32cc42eadd8"
    },
    {
      "cell_type": "markdown",
      "metadata": {},
      "source": [
        "**Test for overall significant of linear relationship:**\n",
        "\n",
        "overall p-value = ????\n",
        "\n",
        "**Clarity:**\n",
        "\n",
        "p-value for clarity = ???\n",
        "\n",
        "**Carat:**\n",
        "\n",
        "p-value for carat = ???\n",
        "\n",
        "Eliminate Clarity from the model:\n",
        "\n",
        "-   run a new linear regression model using `carat` to predict `price`"
      ],
      "id": "8c181f79-8295-4e35-bee1-dc4e157ac6e6"
    },
    {
      "cell_type": "code",
      "execution_count": null,
      "metadata": {},
      "outputs": [],
      "source": [
        "model2<-lm(CODE,data=df)\n",
        "summary(model2)"
      ],
      "id": "1fcddf8e-5ff4-4918-be3b-2766a1d9b1eb"
    },
    {
      "cell_type": "markdown",
      "metadata": {},
      "source": [
        "Fill in the ??? below with the right value:\n",
        "\n",
        "**Test for overall significant:**\n",
        "\n",
        "overall p = ???\n",
        "\n",
        "**The regression equation is this:**\n",
        "\n",
        "price =???(carat) + ???\n",
        "\n",
        "**The standard error is:**\n",
        "\n",
        "std error = ???\n",
        "\n",
        "Make predictions when:\n",
        "\n",
        "-   carat is 1.3\n",
        "-   carat is 0.6\n",
        "-   carat is 1.8\n",
        "\n",
        "To do this:\n",
        "\n",
        "-   assign a vector `carat` to hold the predictors above (replace CODE\n",
        "    below)\n",
        "-   create a dataframe called `predictors` using the `carat` vector  \n",
        "-   print out the `predictors` dataframe"
      ],
      "id": "1f6c2951-dc8b-462f-babb-cf31367314b0"
    },
    {
      "cell_type": "code",
      "execution_count": null,
      "metadata": {},
      "outputs": [],
      "source": [
        "carat<-CODE\n",
        "predictors <- data.frame(carat)\n",
        "predictors"
      ],
      "id": "7b90e90a-c4dd-4201-8b86-bd7f3cbcae1c"
    },
    {
      "cell_type": "markdown",
      "metadata": {},
      "source": [
        "Now lets do the predictions:\n",
        "\n",
        "-   make predictions using the `predict` function passing in the\n",
        "    `model2` and the `predictors` dataframe you just made (pass 2\n",
        "    arguments where you see CODE)\n",
        "-   print out the `predictions`"
      ],
      "id": "8afbe89a-143d-4b6f-98f3-3d03d176da42"
    },
    {
      "cell_type": "code",
      "execution_count": null,
      "metadata": {},
      "outputs": [],
      "source": [
        "predictions<-predict(CODE)\n",
        "predictions"
      ],
      "id": "0872f976-e03d-45e4-a02b-fe2af068e281"
    },
    {
      "cell_type": "markdown",
      "metadata": {},
      "source": [
        "Fill in the correct answers below:\n",
        "\n",
        "-   Prediction when `carat` is 1.3: ???\n",
        "-   Prediction when `carat` is 0.6: ???\n",
        "-   Prediction when `carat` is 1.8: ???"
      ],
      "id": "44447960-7ad7-46b6-a6f4-f9f7eea82bc7"
    }
  ],
  "nbformat": 4,
  "nbformat_minor": 5,
  "metadata": {
    "kernelspec": {
      "name": "ir",
      "display_name": "R",
      "language": "R"
    }
  }
}