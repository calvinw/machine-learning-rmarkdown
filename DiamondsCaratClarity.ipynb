{
  "cells": [
    {
      "cell_type": "markdown",
      "metadata": {},
      "source": [
        "# Diamonds Carat Clarity\n",
        "\n",
        "Here is some data for Diamonds\n",
        "\n",
        "-   Run this first to set nice print outs"
      ],
      "id": "46555211-9170-4392-aa16-f91cb870d312"
    },
    {
      "cell_type": "code",
      "execution_count": null,
      "metadata": {},
      "outputs": [],
      "source": [
        "options(\"scipen\"=100, \"digits\"=4)"
      ],
      "id": "f3c493e6-1d17-439b-97fc-04fdaed344c2"
    },
    {
      "cell_type": "markdown",
      "metadata": {},
      "source": [
        "| carat | clarity | price |\n",
        "|-------|---------|-------|\n",
        "| 0.71  | 3       | 2554  |\n",
        "| 0.72  | 5       | 2691  |\n",
        "| 0.33  | 4       | 854   |\n",
        "| 1.52  | 4       | 9576  |\n",
        "| 1.23  | 4       | 9116  |\n",
        "| 0.54  | 6       | 1829  |\n",
        "| 0.32  | 5       | 828   |\n",
        "| 1.31  | 3       | 8767  |\n",
        "| 1.11  | 2       | 5648  |\n",
        "| 1.03  | 2       | 4283  |\n",
        "| 0.56  | 5       | 1131  |\n",
        "| 1.29  | 2       | 5601  |\n",
        "| 0.53  | 5       | 1577  |\n",
        "| 1.7   | 5       | 11257 |\n",
        "| 0.3   | 4       | 615   |\n",
        "\n",
        "-   create a data `df` using the vectors"
      ],
      "id": "c07d644c-2fd2-4760-87fb-cf5fb73e33fe"
    },
    {
      "cell_type": "code",
      "execution_count": null,
      "metadata": {},
      "outputs": [],
      "source": [
        "carat<-c(0.71,0.72,0.33,1.52,1.23,0.54,0.32,1.31,1.11,1.03,0.56,1.29,0.53,1.7, 0.3) \n",
        "clarity<-c(3,5,4,4,4,6,5,3,2,2,5,2,5,5,4)\n",
        "price<-c(2554,2691,854,9576,9116,1829,828,8767,5648,4283,1131,5601,1577,11257,615)\n",
        "df<-data.frame(CODE)"
      ],
      "id": "4849dd49-7a63-4f81-ab39-e790dcf01870"
    },
    {
      "cell_type": "markdown",
      "metadata": {},
      "source": [
        "-   print out info for the dataframe using `str`"
      ],
      "id": "da17d466-aaae-4bdf-b402-4acc74fc5d88"
    },
    {
      "cell_type": "code",
      "execution_count": null,
      "metadata": {},
      "outputs": [],
      "source": [
        "CODE"
      ],
      "id": "36e11603-19c2-4fa6-bbcb-6edd1aa52f35"
    },
    {
      "cell_type": "markdown",
      "metadata": {},
      "source": [
        "-   print out the first few rows in the dataframe use `head`"
      ],
      "id": "77d4c2aa-6a37-4e5d-9462-5fd0b4a8eae0"
    },
    {
      "cell_type": "code",
      "execution_count": null,
      "metadata": {},
      "outputs": [],
      "source": [
        "CODE"
      ],
      "id": "0b379cc6-a2ba-45cb-831b-30bf2a79b7af"
    },
    {
      "cell_type": "markdown",
      "metadata": {},
      "source": [
        "-   create scatterplots of the columns\n",
        "    `plot(df, upper.panel=NULL, pch=19)`"
      ],
      "id": "361d76af-ff88-4259-8a83-137306888693"
    },
    {
      "cell_type": "code",
      "execution_count": null,
      "metadata": {},
      "outputs": [],
      "source": [
        "CODE"
      ],
      "id": "1c66f3c4-68b2-4aa2-9ac5-e64af465b510"
    },
    {
      "cell_type": "markdown",
      "metadata": {},
      "source": [
        "-   create correlation matrix for `df` using the code `cor(df)`"
      ],
      "id": "e5dd34b4-dead-4d43-b974-1b9166de6171"
    },
    {
      "cell_type": "code",
      "execution_count": null,
      "metadata": {},
      "outputs": [],
      "source": [
        "CODE"
      ],
      "id": "37420800-976c-47c1-833e-c30ef0e06fa9"
    },
    {
      "cell_type": "markdown",
      "metadata": {},
      "source": [
        "-   run a linear regression model using `carat` and `clarity` to predict\n",
        "    `price`"
      ],
      "id": "fbb63a18-a7e5-4eca-b50b-1e59374ecd1f"
    },
    {
      "cell_type": "code",
      "execution_count": null,
      "metadata": {},
      "outputs": [],
      "source": [
        "model1<-lm(CODE,data=df)\n",
        "summary(model1)"
      ],
      "id": "0acb32fc-2adf-4ca8-b078-1fdc9c554e5e"
    },
    {
      "cell_type": "markdown",
      "metadata": {},
      "source": [
        "**Test for overall significant of linear relationship:**\n",
        "\n",
        "overall p-value = ????\n",
        "\n",
        "**Clarity:**\n",
        "\n",
        "p-value for clarity = ???\n",
        "\n",
        "**Carat:**\n",
        "\n",
        "p-value for carat = ???\n",
        "\n",
        "Eliminate Clarity from the model:\n",
        "\n",
        "-   run a new linear regression model using `carat` to predict `price`"
      ],
      "id": "a59d1b57-b8c4-4659-908e-872cf12945bf"
    },
    {
      "cell_type": "code",
      "execution_count": null,
      "metadata": {},
      "outputs": [],
      "source": [
        "model2<-lm(CODE,data=df)\n",
        "summary(model2)"
      ],
      "id": "daa627e6-99d8-4cde-b27b-bb6b76f6620e"
    },
    {
      "cell_type": "markdown",
      "metadata": {},
      "source": [
        "Fill in the ??? below with the right value:\n",
        "\n",
        "**Test for overall significant:**\n",
        "\n",
        "overall p = ???\n",
        "\n",
        "**The regression equation is this:**\n",
        "\n",
        "price =???(carat) + ???\n",
        "\n",
        "**The standard error is:**\n",
        "\n",
        "std error = ???\n",
        "\n",
        "Make predictions when:\n",
        "\n",
        "-   carat is 1.3\n",
        "-   carat is 0.6\n",
        "-   carat is 1.8\n",
        "\n",
        "To do this:\n",
        "\n",
        "-   assign a vector `carat` to hold the predictors above (replace CODE\n",
        "    below)\n",
        "-   create a dataframe called `predictors` using the `carat` vector  \n",
        "-   print out the `predictors` dataframe"
      ],
      "id": "2392068d-c790-47e0-8f1b-be227418d7cf"
    },
    {
      "cell_type": "code",
      "execution_count": null,
      "metadata": {},
      "outputs": [],
      "source": [
        "carat<-CODE\n",
        "predictors <- data.frame(carat)\n",
        "predictors"
      ],
      "id": "49aa2a69-cc13-41e9-ad4e-b86a1969a043"
    },
    {
      "cell_type": "markdown",
      "metadata": {},
      "source": [
        "Now lets do the predictions:\n",
        "\n",
        "-   make predictions using the `predict` function passing in the\n",
        "    `model2` and the `predictors` dataframe you just made (pass 2\n",
        "    arguments where you see CODE)\n",
        "-   print out the `predictions`"
      ],
      "id": "22abfbf8-85c2-4f03-894a-4792b53f4e70"
    },
    {
      "cell_type": "code",
      "execution_count": null,
      "metadata": {},
      "outputs": [],
      "source": [
        "predictions<-predict(CODE)\n",
        "predictions"
      ],
      "id": "9725448e-bcdc-4a21-a0d6-2a9639b8ba45"
    },
    {
      "cell_type": "markdown",
      "metadata": {},
      "source": [
        "Fill in the correct answers below:\n",
        "\n",
        "-   Prediction when `carat` is 1.3: ???\n",
        "-   Prediction when `carat` is 0.6: ???\n",
        "-   Prediction when `carat` is 1.8: ???"
      ],
      "id": "abc26d93-be4c-462e-b11c-38c21ab6ef62"
    }
  ],
  "nbformat": 4,
  "nbformat_minor": 5,
  "metadata": {
    "kernelspec": {
      "name": "ir",
      "display_name": "R",
      "language": "R"
    }
  }
}