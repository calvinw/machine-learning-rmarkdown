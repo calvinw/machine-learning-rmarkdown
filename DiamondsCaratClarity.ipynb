{
 "cells": [
  {
   "cell_type": "markdown",
   "metadata": {},
   "source": [
    "| carat | clarity | price |\n",
    "|-------|---------|-------|\n",
    "| 0.71  | 3       | 2554  |\n",
    "| 0.72  | 5       | 2691  |\n",
    "| 0.33  | 4       | 854   |\n",
    "| 1.52  | 4       | 9576  |\n",
    "| 1.23  | 4       | 9116  |\n",
    "| 0.54  | 6       | 1829  |\n",
    "| 0.32  | 5       | 828   |\n",
    "| 1.31  | 3       | 8767  |\n",
    "| 1.11  | 2       | 5648  |\n",
    "| 1.03  | 2       | 4283  |\n",
    "| 0.56  | 5       | 1131  |\n",
    "| 1.29  | 2       | 5601  |\n",
    "| 0.53  | 5       | 1577  |\n",
    "| 1.7   | 5       | 11257 |\n",
    "| 0.3   | 4       | 615   |"
   ]
  },
  {
   "cell_type": "code",
   "execution_count": null,
   "metadata": {},
   "outputs": [],
   "source": [
    "carat<-c(0.71,0.72,0.33,1.52,1.23,0.54,0.32,1.31,1.11,1.03,0.56,1.29,0.53,1.7, 0.3) \n",
    "clarity<-c(3,5,4,4,4,6,5,3,2,2,5,2,5,5,4)\n",
    "price<-c(2554,2691,854,9576,9116,1829,828,8767,5648,4283,1131,5601,1577,11257,615)\n",
    "df<-data.frame(carat,clarity, price)"
   ]
  },
  {
   "cell_type": "code",
   "execution_count": null,
   "metadata": {},
   "outputs": [],
   "source": [
    "str(df)\n",
    "head(df)"
   ]
  },
  {
   "cell_type": "code",
   "execution_count": null,
   "metadata": {},
   "outputs": [],
   "source": [
    "model<-lm(price~carat+clarity,,data=df)\n",
    "summary(model)"
   ]
  },
  {
   "cell_type": "code",
   "execution_count": null,
   "metadata": {},
   "outputs": [],
   "source": [
    "cor(df)"
   ]
  },
  {
   "cell_type": "code",
   "execution_count": null,
   "metadata": {},
   "outputs": [],
   "source": [
    "plot(df, upper.panel=NULL, pch=19)"
   ]
  }
 ],
 "nbformat": 4,
 "nbformat_minor": 5,
 "metadata": {
  "kernelspec": {
   "name": "ir",
   "display_name": "R",
   "language": "R"
  }
 }
}
