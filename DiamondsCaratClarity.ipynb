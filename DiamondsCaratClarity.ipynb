{
 "cells": [
  {
   "cell_type": "markdown",
   "metadata": {},
   "source": [
    "Here is some data for Diamonds\n",
    "\n",
    "-   Run this first to set nice print outs"
   ]
  },
  {
   "cell_type": "code",
   "execution_count": null,
   "metadata": {},
   "outputs": [],
   "source": [
    "options(\"scipen\"=100, \"digits\"=4)"
   ]
  },
  {
   "cell_type": "markdown",
   "metadata": {},
   "source": [
    "| carat | clarity | price |\n",
    "|-------|---------|-------|\n",
    "| 0.71  | 3       | 2554  |\n",
    "| 0.72  | 5       | 2691  |\n",
    "| 0.33  | 4       | 854   |\n",
    "| 1.52  | 4       | 9576  |\n",
    "| 1.23  | 4       | 9116  |\n",
    "| 0.54  | 6       | 1829  |\n",
    "| 0.32  | 5       | 828   |\n",
    "| 1.31  | 3       | 8767  |\n",
    "| 1.11  | 2       | 5648  |\n",
    "| 1.03  | 2       | 4283  |\n",
    "| 0.56  | 5       | 1131  |\n",
    "| 1.29  | 2       | 5601  |\n",
    "| 0.53  | 5       | 1577  |\n",
    "| 1.7   | 5       | 11257 |\n",
    "| 0.3   | 4       | 615   |\n",
    "\n",
    "-   create a data `df` using the vectors"
   ]
  },
  {
   "cell_type": "code",
   "execution_count": null,
   "metadata": {},
   "outputs": [],
   "source": [
    "carat<-c(0.71,0.72,0.33,1.52,1.23,0.54,0.32,1.31,1.11,1.03,0.56,1.29,0.53,1.7, 0.3) \n",
    "clarity<-c(3,5,4,4,4,6,5,3,2,2,5,2,5,5,4)\n",
    "price<-c(2554,2691,854,9576,9116,1829,828,8767,5648,4283,1131,5601,1577,11257,615)\n",
    "df<-data.frame(CODE)"
   ]
  },
  {
   "cell_type": "markdown",
   "metadata": {},
   "source": [
    "-   print out info for the dataframe using `str`"
   ]
  },
  {
   "cell_type": "code",
   "execution_count": null,
   "metadata": {},
   "outputs": [],
   "source": [
    "CODE"
   ]
  },
  {
   "cell_type": "markdown",
   "metadata": {},
   "source": [
    "-   print out the first few rows in the dataframe use `head`"
   ]
  },
  {
   "cell_type": "code",
   "execution_count": null,
   "metadata": {},
   "outputs": [],
   "source": [
    "CODE"
   ]
  },
  {
   "cell_type": "markdown",
   "metadata": {},
   "source": [
    "-   create scatterplots of the columns\n",
    "    `plot(df, upper.panel=NULL, pch=19)`"
   ]
  },
  {
   "cell_type": "code",
   "execution_count": null,
   "metadata": {},
   "outputs": [],
   "source": [
    "CODE"
   ]
  },
  {
   "cell_type": "markdown",
   "metadata": {},
   "source": [
    "-   create correlation matrix for `df` using the code `cor(df)`"
   ]
  },
  {
   "cell_type": "code",
   "execution_count": null,
   "metadata": {},
   "outputs": [],
   "source": [
    "CODE"
   ]
  },
  {
   "cell_type": "markdown",
   "metadata": {},
   "source": [
    "-   run a linear regression model using `carat` and `clarity` to predict\n",
    "    `price`"
   ]
  },
  {
   "cell_type": "code",
   "execution_count": null,
   "metadata": {},
   "outputs": [],
   "source": [
    "model1<-lm(CODE,data=df)\n",
    "summary(model1)"
   ]
  },
  {
   "cell_type": "markdown",
   "metadata": {},
   "source": [
    "**Test for overall significant of linear relationship:**\n",
    "\n",
    "overall p-value = ????\n",
    "\n",
    "**Clarity:**\n",
    "\n",
    "p-value for clarity = ???\n",
    "\n",
    "**Carat:**\n",
    "\n",
    "p-value for carat = ???\n",
    "\n",
    "Eliminate Clarity from the model:\n",
    "\n",
    "-   run a new linear regression model using `carat` to predict `price`"
   ]
  },
  {
   "cell_type": "code",
   "execution_count": null,
   "metadata": {},
   "outputs": [],
   "source": [
    "model2<-lm(CODE,data=df)\n",
    "summary(model2)"
   ]
  },
  {
   "cell_type": "markdown",
   "metadata": {},
   "source": [
    "Fill in the ??? below with the right value:\n",
    "\n",
    "**Test for overall significant:**\n",
    "\n",
    "overall p = ???\n",
    "\n",
    "**The regression equation is this:**\n",
    "\n",
    "price =???(carat) + ???\n",
    "\n",
    "**The standard error is:**\n",
    "\n",
    "std error = ???\n",
    "\n",
    "Make predictions when:\n",
    "\n",
    "-   carat is 1.3\n",
    "-   carat is 0.6\n",
    "-   carat is 1.8\n",
    "\n",
    "To do this:\n",
    "\n",
    "-   assign a vector `carat` to hold the predictors above (replace CODE\n",
    "    below)\n",
    "-   create a dataframe called `predictors` using the `carat` vector  \n",
    "-   print out the `predictors` dataframe"
   ]
  },
  {
   "cell_type": "code",
   "execution_count": null,
   "metadata": {},
   "outputs": [],
   "source": [
    "carat<-CODE\n",
    "predictors <- data.frame(carat)\n",
    "predictors"
   ]
  },
  {
   "cell_type": "markdown",
   "metadata": {},
   "source": [
    "Now lets do the predictions:\n",
    "\n",
    "-   make predictions using the `predict` function passing in the\n",
    "    `model2` and the `predictors` dataframe you just made (pass 2\n",
    "    arguments where you see CODE)\n",
    "-   print out the `predictions`"
   ]
  },
  {
   "cell_type": "code",
   "execution_count": null,
   "metadata": {},
   "outputs": [],
   "source": [
    "predictions<-predict(CODE)\n",
    "predictions"
   ]
  },
  {
   "cell_type": "markdown",
   "metadata": {},
   "source": [
    "Fill in the correct answers below:\n",
    "\n",
    "-   Prediction when `carat` is 1.3: ???\n",
    "-   Prediction when `carat` is 0.6: ???\n",
    "-   Prediction when `carat` is 1.8: ???"
   ]
  },
  {
   "cell_type": "code",
   "execution_count": null,
   "metadata": {},
   "outputs": [],
   "source": [
    "CODE"
   ]
  }
 ],
 "nbformat": 4,
 "nbformat_minor": 5,
 "metadata": {
  "kernelspec": {
   "name": "ir",
   "display_name": "R",
   "language": "R"
  }
 }
}
