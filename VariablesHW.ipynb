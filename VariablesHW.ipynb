{
 "cells": [
  {
   "cell_type": "markdown",
   "metadata": {},
   "source": [
    "In the code block below (replace the word `CODE`):\n",
    "\n",
    "-   Store the number 8 in a variable called `x`\n",
    "-   Print out `x`\n",
    "-   Execute the code block"
   ]
  },
  {
   "cell_type": "code",
   "execution_count": null,
   "metadata": {},
   "outputs": [],
   "source": [
    "CODE"
   ]
  },
  {
   "cell_type": "markdown",
   "metadata": {},
   "source": [
    "The output of the above should be `8`\n",
    "\n",
    "In the code block below:\n",
    "\n",
    "-   Now assign `y` to be `5*x+3`\n",
    "-   Print out `y`\n",
    "-   Execute the code block"
   ]
  },
  {
   "cell_type": "code",
   "execution_count": null,
   "metadata": {},
   "outputs": [],
   "source": [
    "CODE"
   ]
  },
  {
   "cell_type": "markdown",
   "metadata": {},
   "source": [
    "The output of the above should be `43`\n",
    "\n",
    "In the code block below:\n",
    "\n",
    "-   Find the square root of 119025 using the function `sqrt`\n",
    "-   Execute the code block"
   ]
  },
  {
   "cell_type": "code",
   "execution_count": null,
   "metadata": {},
   "outputs": [],
   "source": [
    "CODE"
   ]
  },
  {
   "cell_type": "markdown",
   "metadata": {},
   "source": [
    "The output of the above should be `345`\n",
    "\n",
    "In the code block below:\n",
    "\n",
    "-   Use the function `ceiling` to round up the value `1.3`\n",
    "-   Execute the code block"
   ]
  },
  {
   "cell_type": "code",
   "execution_count": null,
   "metadata": {},
   "outputs": [],
   "source": [
    "CODE"
   ]
  },
  {
   "cell_type": "markdown",
   "metadata": {},
   "source": [
    "The output of the above should be `2`\n",
    "\n",
    "In the code block below:\n",
    "\n",
    "-   Use the function `floor` to round down the value `3.8`\n",
    "-   Execute the code block"
   ]
  },
  {
   "cell_type": "code",
   "execution_count": null,
   "metadata": {},
   "outputs": [],
   "source": [
    "CODE"
   ]
  },
  {
   "cell_type": "markdown",
   "metadata": {},
   "source": [
    "The output of the above should be `3`\n",
    "\n",
    "In the code block below:\n",
    "\n",
    "-   Store a new number 10 in the variable called `x`.\n",
    "-   Print out `x`\n",
    "-   Execute the code block"
   ]
  },
  {
   "cell_type": "code",
   "execution_count": null,
   "metadata": {},
   "outputs": [],
   "source": [
    "CODE"
   ]
  },
  {
   "cell_type": "markdown",
   "metadata": {},
   "source": [
    "The output of the above should be `10`\n",
    "\n",
    "In the code block below:\n",
    "\n",
    "-   Assign the variable `myVal` to be `x+y`\n",
    "-   Print out `myVal`\n",
    "-   Execute the code block"
   ]
  },
  {
   "cell_type": "code",
   "execution_count": null,
   "metadata": {},
   "outputs": [],
   "source": [
    "CODE"
   ]
  },
  {
   "cell_type": "markdown",
   "metadata": {},
   "source": [
    "The output of the above should be `53`\n",
    "\n",
    "In the code block below:\n",
    "\n",
    "-   Enter and the expression `14/2-1+3`\n",
    "-   Execute the code block, it outputs `9`\n",
    "-   Put in parentheses so that it outputs `17` instead"
   ]
  },
  {
   "cell_type": "code",
   "execution_count": null,
   "metadata": {},
   "outputs": [],
   "source": [
    "14/2-1+3"
   ]
  },
  {
   "cell_type": "markdown",
   "metadata": {},
   "source": [
    "In the code block below:\n",
    "\n",
    "-   Enter and the expression `8*3+9-9`\n",
    "-   Execute the code block, it outputs `24`\n",
    "-   Put in parentheses so that it outputs `87` instead"
   ]
  },
  {
   "cell_type": "code",
   "execution_count": null,
   "metadata": {},
   "outputs": [],
   "source": [
    "8*3+9-9"
   ]
  },
  {
   "cell_type": "markdown",
   "metadata": {},
   "source": [
    "In the code block below:\n",
    "\n",
    "-   Enter and the expression `8*3+9-9`\n",
    "-   Execute the code block, it outputs `24`\n",
    "-   Put in parentheses so that it outputs `87` instead"
   ]
  },
  {
   "cell_type": "code",
   "execution_count": null,
   "metadata": {},
   "outputs": [],
   "source": [
    "8*3+9-9"
   ]
  },
  {
   "cell_type": "markdown",
   "metadata": {},
   "source": [
    "In the code block below:\n",
    "\n",
    "-   Enter and the expression `10-9*24/8*6`\n",
    "-   Execute the code block, it outputs `-152`\n",
    "-   Put in parentheses so that it outputs `18` instead"
   ]
  },
  {
   "cell_type": "code",
   "execution_count": null,
   "metadata": {},
   "outputs": [],
   "source": [
    "10-9*24/8*6"
   ]
  },
  {
   "cell_type": "markdown",
   "metadata": {},
   "source": [
    "In the code block below:\n",
    "\n",
    "-   Assume you have this code `5(3)`\n",
    "-   Execute the code block, it outputs an error\n",
    "-   Fix the code so that it outputs 15"
   ]
  },
  {
   "cell_type": "code",
   "execution_count": null,
   "metadata": {},
   "outputs": [],
   "source": [
    "5(3)"
   ]
  },
  {
   "cell_type": "markdown",
   "metadata": {},
   "source": [
    "-   Assign a variable `z<-7`\n",
    "-   Try to print out this expression: `2z`\n",
    "-   Execute the code, it outputs an error\n",
    "-   Fix the code so that it outputs `14`"
   ]
  },
  {
   "cell_type": "code",
   "execution_count": null,
   "metadata": {},
   "outputs": [],
   "source": [
    "z<-7\n",
    "2z"
   ]
  }
 ],
 "nbformat": 4,
 "nbformat_minor": 5,
 "metadata": {
  "kernelspec": {
   "name": "ir",
   "display_name": "R",
   "language": "R"
  }
 }
}
