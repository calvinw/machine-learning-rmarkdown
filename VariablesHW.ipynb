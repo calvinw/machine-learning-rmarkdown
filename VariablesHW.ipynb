{
  "cells": [
    {
      "cell_type": "markdown",
      "metadata": {},
      "source": [
        "# More Variables\n",
        "\n",
        "In the code block below (replace the word `CODE`):\n",
        "\n",
        "-   Store the number 8 in a variable called `x`\n",
        "-   Print out `x`\n",
        "-   Execute the code block"
      ],
      "id": "f76324f5-e6a4-4937-aadc-750941599faf"
    },
    {
      "cell_type": "code",
      "execution_count": null,
      "metadata": {},
      "outputs": [],
      "source": [
        "CODE"
      ],
      "id": "6003604d-7f53-490f-b920-66965e8021a5"
    },
    {
      "cell_type": "markdown",
      "metadata": {},
      "source": [
        "The output of the above should be `8`\n",
        "\n",
        "In the code block below:\n",
        "\n",
        "-   Now assign `y` to be `5*x+3`\n",
        "-   Print out `y`\n",
        "-   Execute the code block"
      ],
      "id": "d9d7e5fa-414b-4101-8834-958dcbfc0206"
    },
    {
      "cell_type": "code",
      "execution_count": null,
      "metadata": {},
      "outputs": [],
      "source": [
        "CODE"
      ],
      "id": "ebef9c1d-332f-41f7-a840-109624e2a781"
    },
    {
      "cell_type": "markdown",
      "metadata": {},
      "source": [
        "The output of the above should be `43`\n",
        "\n",
        "In the code block below:\n",
        "\n",
        "-   Find the square root of 119025 using the function `sqrt`\n",
        "-   Execute the code block"
      ],
      "id": "983afb6e-50fe-46e7-a641-4ae70d3f3012"
    },
    {
      "cell_type": "code",
      "execution_count": null,
      "metadata": {},
      "outputs": [],
      "source": [
        "CODE"
      ],
      "id": "cb286c61-5f08-406b-ad2d-2bf600d89e9e"
    },
    {
      "cell_type": "markdown",
      "metadata": {},
      "source": [
        "The output of the above should be `345`\n",
        "\n",
        "In the code block below:\n",
        "\n",
        "-   Use the function `ceiling` to round up the value `1.3`\n",
        "-   Execute the code block"
      ],
      "id": "871edcb6-aeb3-4188-9af3-dcf9e523d20e"
    },
    {
      "cell_type": "code",
      "execution_count": null,
      "metadata": {},
      "outputs": [],
      "source": [
        "CODE"
      ],
      "id": "fa3cdf1a-645d-4588-9eb0-ea8e1c300f67"
    },
    {
      "cell_type": "markdown",
      "metadata": {},
      "source": [
        "The output of the above should be `2`\n",
        "\n",
        "In the code block below:\n",
        "\n",
        "-   Use the function `floor` to round down the value `3.8`\n",
        "-   Execute the code block"
      ],
      "id": "fc720b15-76e0-4380-acfa-2f61d523c16d"
    },
    {
      "cell_type": "code",
      "execution_count": null,
      "metadata": {},
      "outputs": [],
      "source": [
        "CODE"
      ],
      "id": "532bbcdc-2915-4ee9-b61c-f714b703f6d6"
    },
    {
      "cell_type": "markdown",
      "metadata": {},
      "source": [
        "The output of the above should be `3`\n",
        "\n",
        "In the code block below:\n",
        "\n",
        "-   Store a new number 10 in the variable called `x`.\n",
        "-   Print out `x`\n",
        "-   Execute the code block"
      ],
      "id": "3faeeea0-92da-491f-b539-93078699369c"
    },
    {
      "cell_type": "code",
      "execution_count": null,
      "metadata": {},
      "outputs": [],
      "source": [
        "CODE"
      ],
      "id": "9baf6ecf-d8a9-4fdc-8724-623e2a64d921"
    },
    {
      "cell_type": "markdown",
      "metadata": {},
      "source": [
        "The output of the above should be `10`\n",
        "\n",
        "In the code block below:\n",
        "\n",
        "-   Assign the variable `myVal` to be `x+y`\n",
        "-   Print out `myVal`\n",
        "-   Execute the code block"
      ],
      "id": "22e09db2-468f-4a7a-9346-2add5e863ef2"
    },
    {
      "cell_type": "code",
      "execution_count": null,
      "metadata": {},
      "outputs": [],
      "source": [
        "CODE"
      ],
      "id": "f1c2f83e-7e84-4a2e-9719-ffbd11718683"
    },
    {
      "cell_type": "markdown",
      "metadata": {},
      "source": [
        "The output of the above should be `53`\n",
        "\n",
        "In the code block below:\n",
        "\n",
        "-   Enter and the expression `14/2-1+3`\n",
        "-   Execute the code block, it outputs `9`\n",
        "-   Put in parentheses so that it outputs `17` instead"
      ],
      "id": "e4c45d9f-34cf-494a-9d32-241d7609f85b"
    },
    {
      "cell_type": "code",
      "execution_count": null,
      "metadata": {},
      "outputs": [],
      "source": [
        "14/2-1+3"
      ],
      "id": "11b8fa4e-d02c-4a12-96d4-eb65eade1cad"
    },
    {
      "cell_type": "markdown",
      "metadata": {},
      "source": [
        "In the code block below:\n",
        "\n",
        "-   Enter and the expression `8*3+9-9`\n",
        "-   Execute the code block, it outputs `24`\n",
        "-   Put in parentheses so that it outputs `87` instead"
      ],
      "id": "a2223e07-918e-4be3-a755-b11f59c459c3"
    },
    {
      "cell_type": "code",
      "execution_count": null,
      "metadata": {},
      "outputs": [],
      "source": [
        "8*3+9-9"
      ],
      "id": "e8287f93-ceb8-4855-b2f7-828ff671a204"
    },
    {
      "cell_type": "markdown",
      "metadata": {},
      "source": [
        "In the code block below:\n",
        "\n",
        "-   Enter and the expression `8*3+9-9`\n",
        "-   Execute the code block, it outputs `24`\n",
        "-   Put in parentheses so that it outputs `87` instead"
      ],
      "id": "f20d0d48-f65b-4a5d-82ba-923a981c7c45"
    },
    {
      "cell_type": "code",
      "execution_count": null,
      "metadata": {},
      "outputs": [],
      "source": [
        "8*3+9-9"
      ],
      "id": "7cec4b82-0c19-4a21-b895-0155e81d7a44"
    },
    {
      "cell_type": "markdown",
      "metadata": {},
      "source": [
        "In the code block below:\n",
        "\n",
        "-   Enter and the expression `10-9*24/8*6`\n",
        "-   Execute the code block, it outputs `-152`\n",
        "-   Put in parentheses so that it outputs `18` instead"
      ],
      "id": "d6599352-e7f5-4599-b02c-7bc55bfca5e6"
    },
    {
      "cell_type": "code",
      "execution_count": null,
      "metadata": {},
      "outputs": [],
      "source": [
        "10-9*24/8*6"
      ],
      "id": "8fbd8ebb-7b53-4f92-856e-2d5bcb1b1471"
    },
    {
      "cell_type": "markdown",
      "metadata": {},
      "source": [
        "In the code block below:\n",
        "\n",
        "-   Assume you have this code `5(3)`\n",
        "-   Execute the code block, it outputs an error\n",
        "-   Fix the code so that it outputs 15"
      ],
      "id": "c1caecff-d60b-47ee-af4e-d304101f9e86"
    },
    {
      "cell_type": "code",
      "execution_count": null,
      "metadata": {},
      "outputs": [],
      "source": [
        "5(3)"
      ],
      "id": "299b105a-fe64-4336-b07d-378f26dab9ce"
    },
    {
      "cell_type": "markdown",
      "metadata": {},
      "source": [
        "-   Assign a variable `z<-7`\n",
        "-   Try to print out this expression: `2z`\n",
        "-   Execute the code, it outputs an error\n",
        "-   Fix the code so that it outputs `14`"
      ],
      "id": "fcffc506-9d55-4444-98cb-908cc33f2583"
    },
    {
      "cell_type": "code",
      "execution_count": null,
      "metadata": {},
      "outputs": [],
      "source": [
        "z<-7\n",
        "2z"
      ],
      "id": "2c2e9ec6-8751-433c-974c-50ac7d3220a7"
    }
  ],
  "nbformat": 4,
  "nbformat_minor": 5,
  "metadata": {
    "kernelspec": {
      "name": "ir",
      "display_name": "R",
      "language": "R"
    }
  }
}