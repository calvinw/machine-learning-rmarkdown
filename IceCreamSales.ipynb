{
 "cells": [
  {
   "cell_type": "code",
   "execution_count": null,
   "metadata": {},
   "outputs": [],
   "source": [
    "options(repr.plot.width=4, repr.plot.height=4)\n",
    "options(\"scipen\"=100, \"digits\"=4)"
   ]
  },
  {
   "cell_type": "markdown",
   "metadata": {},
   "source": [
    "Here `temp` will represent the temperature on some day and the `gallons`\n",
    "will represent how many gallons of ice cream we sell on that day. We\n",
    "have 10 days of data.\n",
    "\n",
    "We might wish to predict “gallons” from “temp” so gallons is our y and\n",
    "temp is our x.\n",
    "\n",
    "y is the predicted response or outcome and x is the predictor."
   ]
  },
  {
   "cell_type": "code",
   "execution_count": null,
   "metadata": {},
   "outputs": [],
   "source": [
    "temp <- c(73,65,81,90,75,77,82,93,86,79)\n",
    "gallons <- c(110,95,135,160,97,105,120,175,140,121)"
   ]
  },
  {
   "cell_type": "markdown",
   "metadata": {},
   "source": [
    "Let’s create a data frame using the two vectors above, so the `temp` is\n",
    "the 1st column and the `gallons` is the 2nd column"
   ]
  },
  {
   "cell_type": "code",
   "execution_count": null,
   "metadata": {},
   "outputs": [],
   "source": [
    "dataFrame <- data.frame(temp, gallons)"
   ]
  },
  {
   "cell_type": "markdown",
   "metadata": {},
   "source": [
    "The most simple plot that you might want to see from this situation is a\n",
    "scatterplot. If you use the `plot` function and pass it the data frame\n",
    "then R will give you exactly that."
   ]
  },
  {
   "cell_type": "code",
   "execution_count": null,
   "metadata": {},
   "outputs": [],
   "source": [
    "plot(dataFrame)"
   ]
  },
  {
   "cell_type": "markdown",
   "metadata": {},
   "source": [
    "We can enhance the graph a little by giving it a title, which you do\n",
    "with the `main` argument below. Then we can label the x-axis and the\n",
    "y-axis a little better by using `xlab` and `ylab`. This helps some."
   ]
  },
  {
   "cell_type": "code",
   "execution_count": null,
   "metadata": {},
   "outputs": [],
   "source": [
    "plot(dataFrame, main=\"title here\", xlab=\"x-axis label\", ylab=\"y-axis label\")"
   ]
  },
  {
   "cell_type": "markdown",
   "metadata": {},
   "source": [
    "If you want to make the points solid circles, that is the argument\n",
    "`pch=19`:"
   ]
  },
  {
   "cell_type": "code",
   "execution_count": null,
   "metadata": {},
   "outputs": [],
   "source": [
    "plot(dataFrame, main=\"title here\", xlab=\"x-axis label\", ylab=\"y-axis label\", pch=19)"
   ]
  },
  {
   "cell_type": "markdown",
   "metadata": {},
   "source": [
    "Lets compute the R-squared. First compute the R, which is called the\n",
    "correlation coefficient. Then square that to get the R-squared"
   ]
  },
  {
   "cell_type": "code",
   "execution_count": null,
   "metadata": {},
   "outputs": [],
   "source": [
    "R = cor(temp,gallons)\n",
    "R\n",
    "R*R"
   ]
  },
  {
   "cell_type": "markdown",
   "metadata": {},
   "source": [
    "Next up we may want to see all the regression analysis output.\n",
    "\n",
    "We can do this by call `lm` which stands for “run a linear model”.\n",
    "\n",
    "The notation `gallons~temp` means make `gallons` the y, which is what we\n",
    "want to predict and use `temp` as our x-variable (predictor) in this\n",
    "case.\n",
    "\n",
    "So we will predict `gallons` from `temp`.\n",
    "\n",
    "For the second argument to lm, we have to pass in the dataframe.\n",
    "\n",
    "After we run the model, we print it out with summary"
   ]
  },
  {
   "cell_type": "code",
   "execution_count": null,
   "metadata": {},
   "outputs": [],
   "source": [
    "model = lm(gallons~temp, data=dataFrame)\n",
    "summary(model)"
   ]
  },
  {
   "cell_type": "markdown",
   "metadata": {},
   "source": [
    "The regression equation is this:\n",
    "\n",
    "$$ gallons = 2.99(temp) - 113.40 $$\n",
    "\n",
    "The standard error is:\n",
    "\n",
    "$$ \\text{standard error} = 10.5  $$\n",
    "\n",
    "Test for significant linear relationship:\n",
    "\n",
    "$$ \\text{p-value} = 0.000101 $$"
   ]
  },
  {
   "cell_type": "code",
   "execution_count": null,
   "metadata": {},
   "outputs": [],
   "source": [
    "plot(dataFrame, main=\"title here\", xlab=\"x-axis label\", ylab=\"y-axis label\" , pch=19)\n",
    "abline(model)"
   ]
  },
  {
   "cell_type": "markdown",
   "metadata": {},
   "source": [
    "Suppose we want to do some predictions for temp equal to 89, 91 and 72."
   ]
  },
  {
   "cell_type": "code",
   "execution_count": null,
   "metadata": {},
   "outputs": [],
   "source": [
    "predictors = data.frame(temp=c(89,91,72))\n",
    "predictions<-predict(model, predictors)\n",
    "predictions"
   ]
  }
 ],
 "nbformat": 4,
 "nbformat_minor": 5,
 "metadata": {
  "kernelspec": {
   "name": "ir",
   "display_name": "R",
   "language": "R"
  }
 }
}

