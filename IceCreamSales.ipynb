{
  "cells": [
    {
      "cell_type": "markdown",
      "metadata": {},
      "source": [
        "# Ice Cream Sales\n",
        "\n",
        "Here `temp` will represent the temperature on some day and the `gallons`\n",
        "will represent how many gallons of ice cream we sell on that day. We\n",
        "have 10 days of data.\n",
        "\n",
        "We might wish to predict “gallons” from “temp” so gallons is our y and\n",
        "temp is our x.\n",
        "\n",
        "y is the predicted response or outcome and x is the predictor."
      ],
      "id": "a86c5d07-a683-406b-8d18-c9a4bc65268b"
    },
    {
      "cell_type": "code",
      "execution_count": null,
      "metadata": {},
      "outputs": [],
      "source": [
        "temp <- c(73,65,81,90,75,77,82,93,86,79)\n",
        "gallons <- c(110,95,135,160,97,105,120,175,140,121)"
      ],
      "id": "278a06cd-2878-483b-8685-92c8fca72a99"
    },
    {
      "cell_type": "markdown",
      "metadata": {},
      "source": [
        "Let’s create a data frame using the two vectors above, so the `temp` is\n",
        "the 1st column and the `gallons` is the 2nd column"
      ],
      "id": "58231364-e967-4db3-9490-05eac704d88f"
    },
    {
      "cell_type": "code",
      "execution_count": null,
      "metadata": {},
      "outputs": [],
      "source": [
        "dataFrame <- data.frame(temp, gallons)"
      ],
      "id": "17491806-b759-494e-beef-97bfe940075b"
    },
    {
      "cell_type": "markdown",
      "metadata": {},
      "source": [
        "The most simple plot that you might want to see from this situation is a\n",
        "scatterplot. If you use the `plot` function and pass it the data frame\n",
        "then R will give you exactly that."
      ],
      "id": "1d96b81b-4513-4399-8ce3-e34cb27fa06a"
    },
    {
      "cell_type": "code",
      "execution_count": null,
      "metadata": {},
      "outputs": [
        {
          "output_type": "display_data",
          "metadata": {},
          "data": {
            "image/png": "[encoded data removed]"
          }
        }
      ],
      "source": [
        "plot(dataFrame)"
      ],
      "id": "2483fa8f-0f52-4bee-b0f6-f75a8a0dbb8d"
    },
    {
      "cell_type": "markdown",
      "metadata": {},
      "source": [
        "We can enhance the graph a little by giving it a title, which you do\n",
        "with the `main` argument below. Then we can label the x-axis and the\n",
        "y-axis a little better by using `xlab` and `ylab`. This helps some."
      ],
      "id": "44844e40-730e-4f01-964a-26230e834220"
    },
    {
      "cell_type": "code",
      "execution_count": null,
      "metadata": {},
      "outputs": [
        {
          "output_type": "display_data",
          "metadata": {},
          "data": {
            "image/png": "[encoded data removed]"
          }
        }
      ],
      "source": [
        "plot(dataFrame, main=\"Ice Cream Sales\", xlab=\"Temperature\", ylab=\"Gallons Sold\")"
      ],
      "id": "dc9b3962-1504-41c8-9320-57891205d956"
    },
    {
      "cell_type": "markdown",
      "metadata": {},
      "source": [
        "If you want to make the points solid circles, that is the argument\n",
        "`pch=19`:"
      ],
      "id": "cdf38635-e33c-4a22-9f9d-e31e7d70f05b"
    },
    {
      "cell_type": "code",
      "execution_count": null,
      "metadata": {},
      "outputs": [
        {
          "output_type": "display_data",
          "metadata": {},
          "data": {
            "image/png": "[encoded data removed]"
          }
        }
      ],
      "source": [
        "plot(dataFrame, \n",
        "     main=\"Ice Cream Sales\", \n",
        "     xlab=\"Temperature\", \n",
        "     ylab=\"Gallons Sold\", \n",
        "     pch=19)"
      ],
      "id": "51e2cfd5-63a5-4fca-9212-a00f821e9bf1"
    },
    {
      "cell_type": "markdown",
      "metadata": {},
      "source": [
        "Lets compute the R-squared. First compute the R, which is called the\n",
        "correlation coefficient. Then square that to get the R-squared"
      ],
      "id": "16b4a0ca-2fa1-4807-a055-ab975589832e"
    },
    {
      "cell_type": "code",
      "execution_count": null,
      "metadata": {},
      "outputs": [
        {
          "output_type": "stream",
          "name": "stdout",
          "text": [
            "[1] 0.9291076"
          ]
        },
        {
          "output_type": "stream",
          "name": "stdout",
          "text": [
            "[1] 0.8632409"
          ]
        }
      ],
      "source": [
        "R <- cor(temp,gallons)\n",
        "R"
      ],
      "id": "a3fe1f43-a139-485d-b341-2583b9f3f02d"
    },
    {
      "cell_type": "markdown",
      "metadata": {},
      "source": [
        "Next up we may want to see all the regression analysis output.\n",
        "\n",
        "We can do this by call `lm` which stands for “run a linear model”.\n",
        "\n",
        "The notation `gallons~temp` means make `gallons` the y, which is what we\n",
        "want to predict and use `temp` as our x-variable (predictor) in this\n",
        "case.\n",
        "\n",
        "So we will predict `gallons` from `temp`.\n",
        "\n",
        "For the second argument to lm, we have to pass in the dataframe.\n",
        "\n",
        "After we run the model, we print it out with summary"
      ],
      "id": "839dd55b-97ad-4357-aab3-c39386d994c1"
    },
    {
      "cell_type": "code",
      "execution_count": null,
      "metadata": {},
      "outputs": [
        {
          "output_type": "stream",
          "name": "stdout",
          "text": [
            "\n",
            "Call:\n",
            "lm(formula = gallons ~ temp, data = dataFrame)\n",
            "\n",
            "Residuals:\n",
            "    Min      1Q  Median      3Q     Max \n",
            "-13.570  -9.460   1.560   6.235  14.293 \n",
            "\n",
            "Coefficients:\n",
            "             Estimate Std. Error t value Pr(>|t|)    \n",
            "(Intercept) -113.3999    33.8231  -3.353 0.010039 *  \n",
            "temp           2.9863     0.4202   7.106 0.000101 ***\n",
            "---\n",
            "Signif. codes:  0 '***' 0.001 '**' 0.01 '*' 0.05 '.' 0.1 ' ' 1\n",
            "\n",
            "Residual standard error: 10.45 on 8 degrees of freedom\n",
            "Multiple R-squared:  0.8632,    Adjusted R-squared:  0.8461 \n",
            "F-statistic:  50.5 on 1 and 8 DF,  p-value: 0.0001014"
          ]
        }
      ],
      "source": [
        "model <- lm(gallons~temp, data=dataFrame)\n",
        "summary(model)"
      ],
      "id": "2108924e-8dbc-4d7e-8846-2ae1620d6e78"
    },
    {
      "cell_type": "markdown",
      "metadata": {},
      "source": [
        "The regression equation is this:\n",
        "\n",
        "$$ gallons = 2.99(temp) - 113.40 $$\n",
        "\n",
        "The standard error is:\n",
        "\n",
        "$$ \\text{standard error} = 10.5  $$\n",
        "\n",
        "Test for significant linear relationship:\n",
        "\n",
        "$$ \\text{p-value} = 0.000101 $$"
      ],
      "id": "32a4581f-7fad-41f0-8414-640f4ed6f70f"
    },
    {
      "cell_type": "code",
      "execution_count": null,
      "metadata": {},
      "outputs": [
        {
          "output_type": "display_data",
          "metadata": {},
          "data": {
            "image/png": "[encoded data removed]"
          }
        }
      ],
      "source": [
        "plot(dataFrame, \n",
        "     main=\"Ice Cream Sales\", \n",
        "     xlab=\"Temperature\", \n",
        "     ylab=\"Gallons Sold\" , \n",
        "     pch=19)\n",
        "abline(model)"
      ],
      "id": "afc0dd97-ab99-4bb2-b65b-5e1d2b6c3d5b"
    },
    {
      "cell_type": "markdown",
      "metadata": {},
      "source": [
        "Suppose we want to do some predictions for temp equal to 89, 91 and 72."
      ],
      "id": "278e0f5b-9a06-42b1-8106-417484ba6ec2"
    },
    {
      "cell_type": "code",
      "execution_count": null,
      "metadata": {},
      "outputs": [
        {
          "output_type": "stream",
          "name": "stdout",
          "text": [
            "       1        2        3 \n",
            "152.3778 158.3503 101.6112 "
          ]
        }
      ],
      "source": [
        "temp<-c(89,91,72)\n",
        "predictors <- data.frame(temp)\n",
        "predictions<-predict(model, predictors)\n",
        "predictions"
      ],
      "id": "cc4e446f-5dbd-4b7b-af50-3c2748927471"
    }
  ],
  "nbformat": 4,
  "nbformat_minor": 5,
  "metadata": {
    "kernelspec": {
      "name": "ir",
      "display_name": "R",
      "language": "R"
    }
  }
}