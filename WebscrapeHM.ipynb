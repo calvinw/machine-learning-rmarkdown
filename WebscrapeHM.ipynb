{
  "cells": [
    {
      "cell_type": "markdown",
      "metadata": {},
      "source": [
        "# Webscraping HM sale prices"
      ],
      "id": "11e2e9f7-a7c5-448a-93f2-71f2359d2105"
    },
    {
      "cell_type": "code",
      "execution_count": null,
      "metadata": {},
      "outputs": [],
      "source": [
        "if (!require(\"rvest\")) install.packages(\"rvest\")\n",
        "library(\"rvest\")"
      ],
      "id": "a77e9206-dcff-4851-b224-9297aa0ff058"
    },
    {
      "cell_type": "markdown",
      "metadata": {},
      "source": [
        "We are going to read in a page at H&M for sales:"
      ],
      "id": "aeb9cdb9-191c-475b-b91f-b7ad014a26a7"
    },
    {
      "cell_type": "code",
      "execution_count": null,
      "metadata": {},
      "outputs": [],
      "source": [
        "# url<-\"https://www2.hm.com/en_us/sale/women/tops.html?page-size=2448\"\n",
        "# url<-\"https://www2.hm.com/en_us/sale/women/jackets-coats.html?page-size=252\"\n",
        "# url<-\"https://www2.hm.com/en_us/sale/women/shirts-blouses.html?page-size=252\"\n",
        "url<-\"https://www2.hm.com/en_us/sale/women/dresses.html?page-size=252\"\n",
        "# url<-\"https://www2.hm.com/en_us/sale/women/maternity-wear.html?page-size=252\"\n",
        "# url<-\"https://www2.hm.com/en_us/sale/women/basics.html?page-size=252\"\n",
        "# url<-\"https://www2.hm.com/en_us/sale/women/shoes.html?page-size=252\"\n",
        "# url<-\"https://www2.hm.com/en_us/sale/women/jeans.html?page-size=252\"\n",
        "# url<-\"https://www2.hm.com/en_us/sale/women/swimwear.html?page-size=252\"\n",
        "# url<-\"https://www2.hm.com/en_us/sale/women/accessories.html?page-size=252\"\n",
        "# url<-\"https://www2.hm.com/en_us/sale/women/lingerie.html?page-size=252\"\n",
        "# url<-\"https://www2.hm.com/en_us/sale/women/view-all.html?page-size=2448\"\n",
        "# url<-\"https://www2.hm.com/en_us/sale/women/pants.html?page-size=252\"\n",
        "# url<-\"https://www2.hm.com/en_us/sale/women/lingerie.html?page-size=2448\"\n",
        "\n",
        "webpage <- read_html(url)"
      ],
      "id": "0909ad64-304a-4cc7-a522-ef171dc3e035"
    },
    {
      "cell_type": "markdown",
      "metadata": {},
      "source": [
        "Now we can identify the sale price:"
      ],
      "id": "b7ccfb68-51d3-4820-88fc-1b48a1203ab9"
    },
    {
      "cell_type": "code",
      "execution_count": null,
      "metadata": {},
      "outputs": [
        {
          "output_type": "stream",
          "name": "stdout",
          "text": [
            " num [1:196] 10.99 10.99 9.99 12.99 12.99 ..."
          ]
        }
      ],
      "source": [
        "nodes <- html_nodes(webpage, \".sale\")\n",
        "sale <- html_text(nodes)\n",
        "sale <- gsub(\"$ \",\"\", sale, fixed=TRUE)\n",
        "sale <- as.numeric(sale)\n",
        "str(sale,20)"
      ],
      "id": "e1937d09-fdd7-4a6b-8a0f-7d17ca9636e2"
    },
    {
      "cell_type": "markdown",
      "metadata": {},
      "source": [
        "Lets take a look at the first few values:"
      ],
      "id": "b4893c70-2103-4f49-b591-88140d58fda4"
    },
    {
      "cell_type": "code",
      "execution_count": null,
      "metadata": {},
      "outputs": [
        {
          "output_type": "stream",
          "name": "stdout",
          "text": [
            " [1] 10.99 10.99  9.99 12.99 12.99  6.99  9.99  2.99  4.99  4.99  4.99  8.99\n",
            "[13] 12.99  9.99 10.99 11.99 12.99  8.99 11.99 10.99"
          ]
        }
      ],
      "source": [
        "head(sale,20)"
      ],
      "id": "ef3e1a47-72b5-4950-a23f-fd5df4f7fa7b"
    },
    {
      "cell_type": "markdown",
      "metadata": {},
      "source": [
        "Now we can identify the name of the item:"
      ],
      "id": "90efba3f-61b3-4b3d-912a-8c1ee364a7da"
    },
    {
      "cell_type": "code",
      "execution_count": null,
      "metadata": {},
      "outputs": [
        {
          "output_type": "stream",
          "name": "stdout",
          "text": [
            " chr [1:196] \"Linen-blend Shirt Dress\" \"Button-front Jersey Dress\" ..."
          ]
        }
      ],
      "source": [
        "nodes <- html_nodes(webpage, \".item-heading .link\")\n",
        "name <- html_text(nodes)\n",
        "str(name)"
      ],
      "id": "66f93653-e697-418a-aed0-4e92870e9b36"
    },
    {
      "cell_type": "markdown",
      "metadata": {},
      "source": [
        "Lets take a look at the first few values:"
      ],
      "id": "8e9b2eb6-e669-4b16-ad0d-d1b146bece41"
    },
    {
      "cell_type": "code",
      "execution_count": null,
      "metadata": {},
      "outputs": [
        {
          "output_type": "stream",
          "name": "stdout",
          "text": [
            " [1] \"Linen-blend Shirt Dress\"    \"Button-front Jersey Dress\" \n",
            " [3] \"Terry T-shirt Dress\"        \"Smocked Cotton Dress\"      \n",
            " [5] \"Wrap Dress\"                 \"Ribbed Bodycon Dress\"      \n",
            " [7] \"Cut-out Dress\"              \"Halterneck Bodycon Dress\"  \n",
            " [9] \"Bandeau Dress\"              \"Bandeau Dress\"             \n",
            "[11] \"Bodycon Dress with Cut-out\" \"Button-front Jersey Dress\" \n",
            "[13] \"V-neck Slip Dress\"          \"Terry T-shirt Dress\"       \n",
            "[15] \"Linen-blend Shirt Dress\"    \"Cut-out Dress\"             \n",
            "[17] \"Smocked Dress\"              \"V-neck Dress\"              \n",
            "[19] \"Terry T-shirt Dress\"        \"Balloon-sleeved Dress\"     "
          ]
        }
      ],
      "source": [
        "head(name,20)"
      ],
      "id": "75a20e25-a8c4-4940-8a6d-3c90599fa423"
    },
    {
      "cell_type": "markdown",
      "metadata": {},
      "source": [
        "Now we identify the regular price:"
      ],
      "id": "ba4cef69-dc23-4be7-a99c-e1be80a70926"
    },
    {
      "cell_type": "code",
      "execution_count": null,
      "metadata": {},
      "outputs": [
        {
          "output_type": "stream",
          "name": "stdout",
          "text": [
            " num [1:196] 30 25 28 25 25 ..."
          ]
        }
      ],
      "source": [
        "nodes <- html_nodes(webpage, \".regular\")\n",
        "price <- html_text(nodes)\n",
        "price <- gsub(\"$\",\"\", price, fixed=TRUE)\n",
        "price <- as.numeric(price)\n",
        "str(price)"
      ],
      "id": "b9b268fc-4e79-49be-bcbd-eac7a4e4f8c4"
    },
    {
      "cell_type": "markdown",
      "metadata": {},
      "source": [
        "Lets take a look at the first few values:"
      ],
      "id": "8f347e9e-67dd-4f4b-b2b3-1eaf8bae66d7"
    },
    {
      "cell_type": "code",
      "execution_count": null,
      "metadata": {},
      "outputs": [
        {
          "output_type": "stream",
          "name": "stdout",
          "text": [
            " [1] 29.99 24.99 27.99 24.99 24.99 17.99 24.99  5.99 12.99 12.99 14.99 24.99\n",
            "[13] 29.99 27.99 29.99 24.99 29.99 19.99 27.99 29.99"
          ]
        }
      ],
      "source": [
        "head(price,20)"
      ],
      "id": "2f16d34c-4ad6-4f87-bad6-0b9ee32a3c1f"
    },
    {
      "cell_type": "markdown",
      "metadata": {},
      "source": [
        "Lets make a data frame with the `name`, `sale`, `price` and `discount`:"
      ],
      "id": "8915221e-7e12-40a3-b6dd-1edf6d24e6de"
    },
    {
      "cell_type": "code",
      "execution_count": null,
      "metadata": {},
      "outputs": [
        {
          "output_type": "stream",
          "name": "stdout",
          "text": [
            "                         name  sale price discount\n",
            "1     Linen-blend Shirt Dress 10.99 29.99       63\n",
            "2   Button-front Jersey Dress 10.99 24.99       56\n",
            "3         Terry T-shirt Dress  9.99 27.99       64\n",
            "4        Smocked Cotton Dress 12.99 24.99       48\n",
            "5                  Wrap Dress 12.99 24.99       48\n",
            "6        Ribbed Bodycon Dress  6.99 17.99       61\n",
            "7               Cut-out Dress  9.99 24.99       60\n",
            "8    Halterneck Bodycon Dress  2.99  5.99       50\n",
            "9               Bandeau Dress  4.99 12.99       62\n",
            "10              Bandeau Dress  4.99 12.99       62\n",
            "11 Bodycon Dress with Cut-out  4.99 14.99       67\n",
            "12  Button-front Jersey Dress  8.99 24.99       64\n",
            "13          V-neck Slip Dress 12.99 29.99       57\n",
            "14        Terry T-shirt Dress  9.99 27.99       64\n",
            "15    Linen-blend Shirt Dress 10.99 29.99       63\n",
            "16              Cut-out Dress 11.99 24.99       52\n",
            "17              Smocked Dress 12.99 29.99       57\n",
            "18               V-neck Dress  8.99 19.99       55\n",
            "19        Terry T-shirt Dress 11.99 27.99       57\n",
            "20      Balloon-sleeved Dress 10.99 29.99       63"
          ]
        },
        {
          "output_type": "stream",
          "name": "stdout",
          "text": [
            "                          name  sale price discount\n",
            "177 Puff-sleeved Brocade Dress 38.99 79.99       51\n",
            "178               Fitted Dress 12.99 24.99       48\n",
            "179          Calf-length Dress 24.99 49.99       50\n",
            "180         Puff-sleeved Dress 27.99 59.99       53\n",
            "181                 Lace Dress 33.99 49.99       32\n",
            "182           Sleeveless Dress  8.99 17.99       50\n",
            "183         Puff-sleeved Dress 29.99 59.99       50\n",
            "184             Glittery Dress 16.99 34.99       51\n",
            "185      Shimmery Fitted Dress 16.99 34.99       51\n",
            "186 Lace Stand-up Collar Dress 38.99 79.99       51\n",
            "187                 Mesh Dress 12.99 24.99       48\n",
            "188 Lace Stand-up Collar Dress 45.99 79.99       43\n",
            "189        Ribbed Jersey Dress  6.99 12.99       46\n",
            "190                 Knit Dress 20.99 34.99       40\n",
            "191             Gathered Dress 20.99 49.99       58\n",
            "192       Draped Bodycon Dress 20.99 49.99       58\n",
            "193       Gathered Satin Dress 11.99 29.99       60\n",
            "194      Shimmery Fitted Dress 19.99 34.99       43\n",
            "195            Appliquéd Dress 37.99 59.99       37\n",
            "196                 Mini Dress 18.99 39.99       53"
          ]
        }
      ],
      "source": [
        "discount <- round((price-sale)/price*100)\n",
        "df<-data.frame(name,sale,price, discount)\n",
        "head(df,20)"
      ],
      "id": "b8f93ffc-9f70-4af3-84ba-60e8787b6dfc"
    },
    {
      "cell_type": "markdown",
      "metadata": {},
      "source": [
        "Lets create a new data frame with the discounts sorted:"
      ],
      "id": "ae6aeefb-0f5d-48ab-af49-93260d1a557e"
    },
    {
      "cell_type": "code",
      "execution_count": null,
      "metadata": {},
      "outputs": [
        {
          "output_type": "stream",
          "name": "stdout",
          "text": [
            "                                             \n",
            "162         Smock-detail Dress 19.99 24.99 20\n",
            "122             Sequined Dress 54.99 69.99 21\n",
            "92   Calf-length T-shirt Dress 14.99 19.99 25\n",
            "120    H&M+ Button-front Dress 25.99 34.99 26\n",
            "174          Slit-detail Dress 25.99 34.99 26\n",
            "93       Long Halterneck Dress 35.99 49.99 28\n",
            "170          H&M+ V-neck Dress 24.99 34.99 29\n",
            "108      Flounce-trimmed Dress 20.99 29.99 30\n",
            "154 H&M+ Flounce-trimmed Dress 20.99 29.99 30\n",
            "78                Cotton Dress 16.99 24.99 32\n",
            "181                 Lace Dress 33.99 49.99 32\n",
            "32    Halterneck Bodycon Dress  3.99  5.99 33\n",
            "50   Crochet-look Jersey Dress 11.99 17.99 33\n",
            "72                Cotton Dress 11.99 17.99 33\n",
            "73        Tie-belt Shirt Dress 19.99 29.99 33\n",
            "91           Draped Slip Dress 11.99 17.99 33\n",
            "128    Sleeveless Jersey Dress  9.99 14.99 33\n",
            "41           Open-backed Dress 22.99 34.99 34\n",
            "149               V-neck Dress 22.99 34.99 34\n",
            "36           Long V-neck Dress 38.99 59.99 35"
          ]
        },
        {
          "output_type": "stream",
          "name": "stdout",
          "text": [
            "                                              \n",
            "138                Fitted Dress  4.99 12.99 62\n",
            "1       Linen-blend Shirt Dress 10.99 29.99 63\n",
            "15      Linen-blend Shirt Dress 10.99 29.99 63\n",
            "20        Balloon-sleeved Dress 10.99 29.99 63\n",
            "70      Patterned Printed Dress 10.99 29.99 63\n",
            "80  H&M+ Off-the-shoulder Dress 12.99 34.99 63\n",
            "147               Cut-out Dress 10.99 29.99 63\n",
            "3           Terry T-shirt Dress  9.99 27.99 64\n",
            "12    Button-front Jersey Dress  8.99 24.99 64\n",
            "14          Terry T-shirt Dress  9.99 27.99 64\n",
            "129                Fitted Dress  6.99 19.99 65\n",
            "11   Bodycon Dress with Cut-out  4.99 14.99 67\n",
            "44    Lacing-detail Denim Dress 10.99 34.99 69\n",
            "169       Flounce-trimmed Dress 10.99 34.99 69\n",
            "38           Jersey Shirt Dress  8.99 29.99 70\n",
            "53                  Terry Dress  5.99 19.99 70\n",
            "118  Leopard-print Jersey Dress 29.99 99.00 70\n",
            "135                V-neck Dress 17.99 59.99 70\n",
            "141     Sleeveless Jersey Dress  2.99  9.99 70\n",
            "42         Smocked Cotton Dress  6.99 24.99 72"
          ]
        }
      ],
      "source": [
        "dfnew <- df[order(df$discount),]\n",
        "names(dfnew)<-NULL\n",
        "head(dfnew,20)"
      ],
      "id": "a40cd701-cc62-499c-b8c5-7afc135eea0d"
    },
    {
      "cell_type": "markdown",
      "metadata": {},
      "source": [
        "Lets take a look at a histogram of the discounts:"
      ],
      "id": "f11b186a-dcef-4817-ad71-c817c70d88b5"
    },
    {
      "cell_type": "code",
      "execution_count": null,
      "metadata": {},
      "outputs": [
        {
          "output_type": "display_data",
          "metadata": {},
          "data": {
            "image/png": "[encoded data removed]"
          }
        }
      ],
      "source": [
        "hist(discount)"
      ],
      "id": "910bd873-f2fb-46fd-93ff-a622a59d5dbe"
    },
    {
      "cell_type": "code",
      "execution_count": null,
      "metadata": {},
      "outputs": [
        {
          "output_type": "stream",
          "name": "stdout",
          "text": [
            "[1] 20 72"
          ]
        },
        {
          "output_type": "stream",
          "name": "stdout",
          "text": [
            "[1] 49.80102"
          ]
        }
      ],
      "source": [
        "range(discount)"
      ],
      "id": "801de1ab-396b-456f-8f9f-665f9724f722"
    },
    {
      "cell_type": "code",
      "execution_count": null,
      "metadata": {},
      "outputs": [
        {
          "output_type": "display_data",
          "metadata": {},
          "data": {
            "image/png": "[encoded data removed]"
          }
        },
        {
          "output_type": "stream",
          "name": "stdout",
          "text": [
            "[1] 0.8964223"
          ]
        }
      ],
      "source": [
        "plot(price, sale, pch=19)"
      ],
      "id": "9e90b7ff-dfbc-4483-b65b-aa528cf4031c"
    }
  ],
  "nbformat": 4,
  "nbformat_minor": 5,
  "metadata": {
    "kernelspec": {
      "name": "ir",
      "display_name": "R",
      "language": "R"
    }
  }
}