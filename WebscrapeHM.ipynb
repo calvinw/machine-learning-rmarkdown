{
 "cells": [
  {
   "cell_type": "code",
   "execution_count": null,
   "metadata": {},
   "outputs": [],
   "source": [
    "if (!require(\"rvest\")) install.packages(\"rvest\")\n",
    "library(\"rvest\")"
   ]
  },
  {
   "cell_type": "markdown",
   "metadata": {},
   "source": [
    "We are going to read in a page at H&M for sales:"
   ]
  },
  {
   "cell_type": "code",
   "execution_count": null,
   "metadata": {},
   "outputs": [],
   "source": [
    "# url<-\"https://www2.hm.com/en_us/sale/women/tops.html?page-size=2448\"\n",
    "# url<-\"https://www2.hm.com/en_us/sale/women/jackets-coats.html?page-size=252\"\n",
    "# url<-\"https://www2.hm.com/en_us/sale/women/shirts-blouses.html?page-size=252\"\n",
    "url<-\"https://www2.hm.com/en_us/sale/women/dresses.html?page-size=252\"\n",
    "# url<-\"https://www2.hm.com/en_us/sale/women/maternity-wear.html?page-size=252\"\n",
    "# url<-\"https://www2.hm.com/en_us/sale/women/basics.html?page-size=252\"\n",
    "# url<-\"https://www2.hm.com/en_us/sale/women/shoes.html?page-size=252\"\n",
    "# url<-\"https://www2.hm.com/en_us/sale/women/jeans.html?page-size=252\"\n",
    "# url<-\"https://www2.hm.com/en_us/sale/women/swimwear.html?page-size=252\"\n",
    "# url<-\"https://www2.hm.com/en_us/sale/women/accessories.html?page-size=252\"\n",
    "# url<-\"https://www2.hm.com/en_us/sale/women/lingerie.html?page-size=252\"\n",
    "# url<-\"https://www2.hm.com/en_us/sale/women/view-all.html?page-size=2448\"\n",
    "# url<-\"https://www2.hm.com/en_us/sale/women/pants.html?page-size=252\"\n",
    "# url<-\"https://www2.hm.com/en_us/sale/women/lingerie.html?page-size=2448\"\n",
    "\n",
    "webpage <- read_html(url)"
   ]
  },
  {
   "cell_type": "markdown",
   "metadata": {},
   "source": [
    "Now we can identify the sale price:"
   ]
  },
  {
   "cell_type": "code",
   "execution_count": null,
   "metadata": {},
   "outputs": [],
   "source": [
    "nodes <- html_nodes(webpage, \".sale\")\n",
    "sale <- html_text(nodes)\n",
    "sale <- gsub(\"$ \",\"\", sale, fixed=TRUE)\n",
    "sale <- as.numeric(sale)\n",
    "str(sale,20)"
   ]
  },
  {
   "cell_type": "markdown",
   "metadata": {},
   "source": [
    "Lets take a look at the first few values:"
   ]
  },
  {
   "cell_type": "code",
   "execution_count": null,
   "metadata": {},
   "outputs": [],
   "source": [
    "head(sale,20)"
   ]
  },
  {
   "cell_type": "markdown",
   "metadata": {},
   "source": [
    "Now we can identify the name of the item:"
   ]
  },
  {
   "cell_type": "code",
   "execution_count": null,
   "metadata": {},
   "outputs": [],
   "source": [
    "nodes <- html_nodes(webpage, \".item-heading .link\")\n",
    "name <- html_text(nodes)\n",
    "str(name)"
   ]
  },
  {
   "cell_type": "markdown",
   "metadata": {},
   "source": [
    "Lets take a look at the first few values:"
   ]
  },
  {
   "cell_type": "code",
   "execution_count": null,
   "metadata": {},
   "outputs": [],
   "source": [
    "head(name,20)"
   ]
  },
  {
   "cell_type": "markdown",
   "metadata": {},
   "source": [
    "Now we identify the regular price:"
   ]
  },
  {
   "cell_type": "code",
   "execution_count": null,
   "metadata": {},
   "outputs": [],
   "source": [
    "nodes <- html_nodes(webpage, \".regular\")\n",
    "price <- html_text(nodes)\n",
    "price <- gsub(\"$\",\"\", price, fixed=TRUE)\n",
    "price <- as.numeric(price)\n",
    "str(price)"
   ]
  },
  {
   "cell_type": "markdown",
   "metadata": {},
   "source": [
    "Lets take a look at the first few values:"
   ]
  },
  {
   "cell_type": "code",
   "execution_count": null,
   "metadata": {},
   "outputs": [],
   "source": [
    "head(price,20)"
   ]
  },
  {
   "cell_type": "markdown",
   "metadata": {},
   "source": [
    "Lets make a data frame with the `name`, `sale`, `price` and `discount`:"
   ]
  },
  {
   "cell_type": "code",
   "execution_count": null,
   "metadata": {},
   "outputs": [],
   "source": [
    "discount <- round((price-sale)/price*100)\n",
    "df<-data.frame(name,sale,price, discount)\n",
    "head(df,20)\n",
    "tail(df,20)"
   ]
  },
  {
   "cell_type": "markdown",
   "metadata": {},
   "source": [
    "Lets create a new data frame with the discounts sorted:"
   ]
  },
  {
   "cell_type": "code",
   "execution_count": null,
   "metadata": {},
   "outputs": [],
   "source": [
    "dfnew <- df[order(df$discount),]\n",
    "names(dfnew)<-NULL\n",
    "head(dfnew,20)\n",
    "tail(dfnew,20)"
   ]
  },
  {
   "cell_type": "markdown",
   "metadata": {},
   "source": [
    "Lets take a look at a histogram of the discounts:"
   ]
  },
  {
   "cell_type": "code",
   "execution_count": null,
   "metadata": {},
   "outputs": [],
   "source": [
    "hist(discount)"
   ]
  },
  {
   "cell_type": "code",
   "execution_count": null,
   "metadata": {},
   "outputs": [],
   "source": [
    "range(discount)\n",
    "mean(discount)"
   ]
  },
  {
   "cell_type": "code",
   "execution_count": null,
   "metadata": {},
   "outputs": [],
   "source": [
    "plot(price, sale, pch=19)"
   ]
  },
  {
   "cell_type": "code",
   "execution_count": null,
   "metadata": {},
   "outputs": [],
   "source": [
    "cor(price, sale)"
   ]
  }
 ],
 "nbformat": 4,
 "nbformat_minor": 5,
 "metadata": {
  "kernelspec": {
   "name": "ir",
   "display_name": "R",
   "language": "R"
  }
 }
}
