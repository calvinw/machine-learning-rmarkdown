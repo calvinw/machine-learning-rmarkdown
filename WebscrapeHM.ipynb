{
  "cells": [
    {
      "cell_type": "markdown",
      "metadata": {},
      "source": [
        "# Webscraping HM sale prices"
      ],
      "id": "e3d57fca-3a65-4eda-b279-c76f58eb6c70"
    },
    {
      "cell_type": "code",
      "execution_count": null,
      "metadata": {},
      "outputs": [],
      "source": [
        "if (!require(\"rvest\")) install.packages(\"rvest\")\n",
        "library(\"rvest\")"
      ],
      "id": "df3bf20c-4d72-45ad-81d6-7005b3c85b72"
    },
    {
      "cell_type": "markdown",
      "metadata": {},
      "source": [
        "We are going to read in a page at H&M for sales:"
      ],
      "id": "9e445e77-d55a-4a8e-9512-5f57e82c29ab"
    },
    {
      "cell_type": "code",
      "execution_count": null,
      "metadata": {},
      "outputs": [],
      "source": [
        "# url<-\"https://www2.hm.com/en_us/sale/women/tops.html?page-size=2448\"\n",
        "# url<-\"https://www2.hm.com/en_us/sale/women/jackets-coats.html?page-size=252\"\n",
        "# url<-\"https://www2.hm.com/en_us/sale/women/shirts-blouses.html?page-size=252\"\n",
        "url<-\"https://www2.hm.com/en_us/sale/women/dresses.html?page-size=252\"\n",
        "# url<-\"https://www2.hm.com/en_us/sale/women/maternity-wear.html?page-size=252\"\n",
        "# url<-\"https://www2.hm.com/en_us/sale/women/basics.html?page-size=252\"\n",
        "# url<-\"https://www2.hm.com/en_us/sale/women/shoes.html?page-size=252\"\n",
        "# url<-\"https://www2.hm.com/en_us/sale/women/jeans.html?page-size=252\"\n",
        "# url<-\"https://www2.hm.com/en_us/sale/women/swimwear.html?page-size=252\"\n",
        "# url<-\"https://www2.hm.com/en_us/sale/women/accessories.html?page-size=252\"\n",
        "# url<-\"https://www2.hm.com/en_us/sale/women/lingerie.html?page-size=252\"\n",
        "# url<-\"https://www2.hm.com/en_us/sale/women/view-all.html?page-size=2448\"\n",
        "# url<-\"https://www2.hm.com/en_us/sale/women/pants.html?page-size=252\"\n",
        "# url<-\"https://www2.hm.com/en_us/sale/women/lingerie.html?page-size=2448\"\n",
        "\n",
        "webpage <- read_html(url)"
      ],
      "id": "d0a46cda-b2cc-40a4-942a-4bfaa67108f9"
    },
    {
      "cell_type": "markdown",
      "metadata": {},
      "source": [
        "Now we can identify the sale price:"
      ],
      "id": "90be1d54-430a-4e2a-8b42-02aff6e60f4e"
    },
    {
      "cell_type": "code",
      "execution_count": null,
      "metadata": {},
      "outputs": [
        {
          "output_type": "stream",
          "name": "stdout",
          "text": [
            " num [1:201] 10.99 10.99 9.99 12.99 12.99 ..."
          ]
        }
      ],
      "source": [
        "nodes <- html_nodes(webpage, \".sale\")\n",
        "sale <- html_text(nodes)\n",
        "sale <- gsub(\"$ \",\"\", sale, fixed=TRUE)\n",
        "sale <- as.numeric(sale)\n",
        "str(sale,20)"
      ],
      "id": "1cf75320-89e6-4997-b90d-586607c67d22"
    },
    {
      "cell_type": "markdown",
      "metadata": {},
      "source": [
        "Lets take a look at the first few values:"
      ],
      "id": "548ca9c0-75ab-4706-88fa-5b96f6e71a0d"
    },
    {
      "cell_type": "code",
      "execution_count": null,
      "metadata": {},
      "outputs": [
        {
          "output_type": "stream",
          "name": "stdout",
          "text": [
            " [1] 10.99 10.99  9.99 12.99 12.99  6.99  9.99  2.99  4.99  4.99  4.99  8.99\n",
            "[13] 12.99 10.99  9.99 11.99  8.99 12.99 10.99 10.99"
          ]
        }
      ],
      "source": [
        "head(sale,20)"
      ],
      "id": "9c52c79f-60fb-495a-aa3f-b97aede903cd"
    },
    {
      "cell_type": "markdown",
      "metadata": {},
      "source": [
        "Now we can identify the name of the item:"
      ],
      "id": "019ff095-8554-4d09-97a1-08dc0e2a45b6"
    },
    {
      "cell_type": "code",
      "execution_count": null,
      "metadata": {},
      "outputs": [
        {
          "output_type": "stream",
          "name": "stdout",
          "text": [
            " chr [1:201] \"Linen-blend Shirt Dress\" \"Button-front Jersey Dress\" ..."
          ]
        }
      ],
      "source": [
        "nodes <- html_nodes(webpage, \".item-heading .link\")\n",
        "name <- html_text(nodes)\n",
        "str(name)"
      ],
      "id": "2e7b1a82-f675-458a-a03f-59aba39a5fec"
    },
    {
      "cell_type": "markdown",
      "metadata": {},
      "source": [
        "Lets take a look at the first few values:"
      ],
      "id": "565f6ebc-109d-4719-b288-4ff23e052f96"
    },
    {
      "cell_type": "code",
      "execution_count": null,
      "metadata": {},
      "outputs": [
        {
          "output_type": "stream",
          "name": "stdout",
          "text": [
            " [1] \"Linen-blend Shirt Dress\"    \"Button-front Jersey Dress\" \n",
            " [3] \"Terry T-shirt Dress\"        \"Wrap Dress\"                \n",
            " [5] \"Smocked Cotton Dress\"       \"Ribbed Bodycon Dress\"      \n",
            " [7] \"Cut-out Dress\"              \"Halterneck Bodycon Dress\"  \n",
            " [9] \"Bandeau Dress\"              \"Bandeau Dress\"             \n",
            "[11] \"Bodycon Dress with Cut-out\" \"Button-front Jersey Dress\" \n",
            "[13] \"V-neck Slip Dress\"          \"Linen-blend Shirt Dress\"   \n",
            "[15] \"Terry T-shirt Dress\"        \"Cut-out Dress\"             \n",
            "[17] \"V-neck Dress\"               \"Smocked Dress\"             \n",
            "[19] \"Knee-length Dress\"          \"Balloon-sleeved Dress\"     "
          ]
        }
      ],
      "source": [
        "head(name,20)"
      ],
      "id": "4ea3983d-b9e2-4b8e-a914-27d7dabca02e"
    },
    {
      "cell_type": "markdown",
      "metadata": {},
      "source": [
        "Now we identify the regular price:"
      ],
      "id": "a4e20715-2bd1-488e-b1f3-4d076c360e36"
    },
    {
      "cell_type": "code",
      "execution_count": null,
      "metadata": {},
      "outputs": [
        {
          "output_type": "stream",
          "name": "stdout",
          "text": [
            " num [1:201] 30 25 28 25 25 ..."
          ]
        }
      ],
      "source": [
        "nodes <- html_nodes(webpage, \".regular\")\n",
        "price <- html_text(nodes)\n",
        "price <- gsub(\"$\",\"\", price, fixed=TRUE)\n",
        "price <- as.numeric(price)\n",
        "str(price)"
      ],
      "id": "cbaf115a-b4e3-497c-bad2-3722e0ded22b"
    },
    {
      "cell_type": "markdown",
      "metadata": {},
      "source": [
        "Lets take a look at the first few values:"
      ],
      "id": "3138af73-35ab-4c6b-a0d1-ce7533e7978c"
    },
    {
      "cell_type": "code",
      "execution_count": null,
      "metadata": {},
      "outputs": [
        {
          "output_type": "stream",
          "name": "stdout",
          "text": [
            " [1] 29.99 24.99 27.99 24.99 24.99 17.99 24.99  5.99 12.99 12.99 14.99 24.99\n",
            "[13] 29.99 29.99 27.99 24.99 19.99 29.99 19.99 29.99"
          ]
        }
      ],
      "source": [
        "head(price,20)"
      ],
      "id": "314d595d-d2bf-453a-8736-9f971f4cc521"
    },
    {
      "cell_type": "markdown",
      "metadata": {},
      "source": [
        "Lets make a data frame with the `name`, `sale`, `price` and `discount`:"
      ],
      "id": "6a7b1607-c55e-4926-9879-d43d5a5fe3c0"
    },
    {
      "cell_type": "code",
      "execution_count": null,
      "metadata": {},
      "outputs": [
        {
          "output_type": "stream",
          "name": "stdout",
          "text": [
            "                         name  sale price discount\n",
            "1     Linen-blend Shirt Dress 10.99 29.99       63\n",
            "2   Button-front Jersey Dress 10.99 24.99       56\n",
            "3         Terry T-shirt Dress  9.99 27.99       64\n",
            "4                  Wrap Dress 12.99 24.99       48\n",
            "5        Smocked Cotton Dress 12.99 24.99       48\n",
            "6        Ribbed Bodycon Dress  6.99 17.99       61\n",
            "7               Cut-out Dress  9.99 24.99       60\n",
            "8    Halterneck Bodycon Dress  2.99  5.99       50\n",
            "9               Bandeau Dress  4.99 12.99       62\n",
            "10              Bandeau Dress  4.99 12.99       62\n",
            "11 Bodycon Dress with Cut-out  4.99 14.99       67\n",
            "12  Button-front Jersey Dress  8.99 24.99       64\n",
            "13          V-neck Slip Dress 12.99 29.99       57\n",
            "14    Linen-blend Shirt Dress 10.99 29.99       63\n",
            "15        Terry T-shirt Dress  9.99 27.99       64\n",
            "16              Cut-out Dress 11.99 24.99       52\n",
            "17               V-neck Dress  8.99 19.99       55\n",
            "18              Smocked Dress 12.99 29.99       57\n",
            "19          Knee-length Dress 10.99 19.99       45\n",
            "20      Balloon-sleeved Dress 10.99 29.99       63"
          ]
        },
        {
          "output_type": "stream",
          "name": "stdout",
          "text": [
            "                          name  sale price discount\n",
            "182 Puff-sleeved Brocade Dress 38.99 79.99       51\n",
            "183               Fitted Dress 12.99 24.99       48\n",
            "184          Calf-length Dress 24.99 49.99       50\n",
            "185         Puff-sleeved Dress 27.99 59.99       53\n",
            "186                 Lace Dress 33.99 49.99       32\n",
            "187           Sleeveless Dress  8.99 17.99       50\n",
            "188         Puff-sleeved Dress 29.99 59.99       50\n",
            "189             Glittery Dress 16.99 34.99       51\n",
            "190      Shimmery Fitted Dress 16.99 34.99       51\n",
            "191 Lace Stand-up Collar Dress 38.99 79.99       51\n",
            "192                 Mesh Dress 12.99 24.99       48\n",
            "193 Lace Stand-up Collar Dress 45.99 79.99       43\n",
            "194        Ribbed Jersey Dress  6.99 12.99       46\n",
            "195                 Knit Dress 20.99 34.99       40\n",
            "196             Gathered Dress 20.99 49.99       58\n",
            "197       Draped Bodycon Dress 20.99 49.99       58\n",
            "198       Gathered Satin Dress 11.99 29.99       60\n",
            "199      Shimmery Fitted Dress 19.99 34.99       43\n",
            "200            Appliquéd Dress 37.99 59.99       37\n",
            "201                 Mini Dress 18.99 39.99       53"
          ]
        }
      ],
      "source": [
        "discount <- round((price-sale)/price*100)\n",
        "df<-data.frame(name,sale,price, discount)\n",
        "head(df,20)"
      ],
      "id": "3ea13a24-93ae-44e1-8c0c-10a6cc10c2e5"
    },
    {
      "cell_type": "markdown",
      "metadata": {},
      "source": [
        "Lets create a new data frame with the discounts sorted:"
      ],
      "id": "d82c1f2f-b5a4-4316-93ba-3cb0817bf9d4"
    },
    {
      "cell_type": "code",
      "execution_count": null,
      "metadata": {},
      "outputs": [
        {
          "output_type": "stream",
          "name": "stdout",
          "text": [
            "                                             \n",
            "165         Smock-detail Dress 19.99 24.99 20\n",
            "124             Sequined Dress 54.99 69.99 21\n",
            "95   Calf-length T-shirt Dress 14.99 19.99 25\n",
            "122    H&M+ Button-front Dress 25.99 34.99 26\n",
            "179          Slit-detail Dress 25.99 34.99 26\n",
            "94       Long Halterneck Dress 35.99 49.99 28\n",
            "175          H&M+ V-neck Dress 24.99 34.99 29\n",
            "110      Flounce-trimmed Dress 20.99 29.99 30\n",
            "158 H&M+ Flounce-trimmed Dress 20.99 29.99 30\n",
            "79                Cotton Dress 16.99 24.99 32\n",
            "186                 Lace Dress 33.99 49.99 32\n",
            "33    Halterneck Bodycon Dress  3.99  5.99 33\n",
            "51   Crochet-look Jersey Dress 11.99 17.99 33\n",
            "74                Cotton Dress 11.99 17.99 33\n",
            "75        Tie-belt Shirt Dress 19.99 29.99 33\n",
            "92           Draped Slip Dress 11.99 17.99 33\n",
            "130    Sleeveless Jersey Dress  9.99 14.99 33\n",
            "42           Open-backed Dress 22.99 34.99 34\n",
            "153               V-neck Dress 22.99 34.99 34\n",
            "38           Long V-neck Dress 38.99 59.99 35"
          ]
        },
        {
          "output_type": "stream",
          "name": "stdout",
          "text": [
            "                                              \n",
            "20        Balloon-sleeved Dress 10.99 29.99 63\n",
            "71      Patterned Printed Dress 10.99 29.99 63\n",
            "82  H&M+ Off-the-shoulder Dress 12.99 34.99 63\n",
            "149               Cut-out Dress 10.99 29.99 63\n",
            "3           Terry T-shirt Dress  9.99 27.99 64\n",
            "12    Button-front Jersey Dress  8.99 24.99 64\n",
            "15          Terry T-shirt Dress  9.99 27.99 64\n",
            "131                Fitted Dress  6.99 19.99 65\n",
            "11   Bodycon Dress with Cut-out  4.99 14.99 67\n",
            "44    Lacing-detail Denim Dress 10.99 34.99 69\n",
            "173       Flounce-trimmed Dress 10.99 34.99 69\n",
            "39           Jersey Shirt Dress  8.99 29.99 70\n",
            "54                  Terry Dress  5.99 19.99 70\n",
            "120  Leopard-print Jersey Dress 29.99 99.00 70\n",
            "138                V-neck Dress 17.99 59.99 70\n",
            "148     Sleeveless Jersey Dress  2.99  9.99 70\n",
            "164       Balloon-sleeved Dress 17.99 59.99 70\n",
            "174               Bodycon Dress  8.99 29.99 70\n",
            "133              Collared Dress  9.99 34.99 71\n",
            "43         Smocked Cotton Dress  6.99 24.99 72"
          ]
        }
      ],
      "source": [
        "dfnew <- df[order(df$discount),]\n",
        "names(dfnew)<-NULL\n",
        "head(dfnew,20)"
      ],
      "id": "02bd9b57-9da8-4f86-a412-1fad3b6949fa"
    },
    {
      "cell_type": "markdown",
      "metadata": {},
      "source": [
        "Lets take a look at a histogram of the discounts:"
      ],
      "id": "3a62fe09-eb2d-4b6b-a2d4-f87a11b7640e"
    },
    {
      "cell_type": "code",
      "execution_count": null,
      "metadata": {},
      "outputs": [
        {
          "output_type": "display_data",
          "metadata": {},
          "data": {
            "image/png": "[encoded data removed]"
          }
        }
      ],
      "source": [
        "hist(discount)"
      ],
      "id": "07ac605e-5a47-4ce8-9190-d05e6c08d64f"
    },
    {
      "cell_type": "code",
      "execution_count": null,
      "metadata": {},
      "outputs": [
        {
          "output_type": "stream",
          "name": "stdout",
          "text": [
            "[1] 20 72"
          ]
        },
        {
          "output_type": "stream",
          "name": "stdout",
          "text": [
            "[1] 50.03483"
          ]
        }
      ],
      "source": [
        "range(discount)"
      ],
      "id": "3eaed631-27d3-4095-97c6-19c6e3f87f0d"
    },
    {
      "cell_type": "code",
      "execution_count": null,
      "metadata": {},
      "outputs": [
        {
          "output_type": "display_data",
          "metadata": {},
          "data": {
            "image/png": "[encoded data removed]"
          }
        },
        {
          "output_type": "stream",
          "name": "stdout",
          "text": [
            "[1] 0.8866348"
          ]
        }
      ],
      "source": [
        "plot(price, sale, pch=19)"
      ],
      "id": "c1373b4e-3831-4a28-8167-16089c733a3a"
    }
  ],
  "nbformat": 4,
  "nbformat_minor": 5,
  "metadata": {
    "kernelspec": {
      "name": "ir",
      "display_name": "R",
      "language": "R"
    }
  }
}