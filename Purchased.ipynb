{
 "cells": [
  {
   "cell_type": "code",
   "execution_count": null,
   "metadata": {},
   "outputs": [],
   "source": [
    "options(\"scipen\"=100, \"digits\"=4)\n",
    "if(!require(\"readr\")) install.packages(\"readr\")\n",
    "if(!require(\"rpart\")) install.packages(\"rpart\")\n",
    "if(!require(\"rpart.plot\")) install.packages(\"rpart.plot\")\n",
    "if(!require(\"Metrics\")) install.packages(\"Metrics\")\n",
    "library(\"readr\")\n",
    "library(\"rpart\")\n",
    "library(\"rpart.plot\")\n",
    "library(\"Metrics\")"
   ]
  },
  {
   "cell_type": "markdown",
   "metadata": {},
   "source": [
    "Building the Decision Tree using the training set\n",
    "-------------------------------------------------\n",
    "\n",
    "So here is the data we have, this will be our training data:\n",
    "\n",
    "-   `Purchased` is our result or outcome\n",
    "-   `Salary`, `Age` are the predictors\n",
    "\n",
    "This data is about what kinds of customers responded to an email add\n",
    "offering a special deal on a product. Were they high salary or low\n",
    "salary and what about their age? We would like to know if `Salary` and\n",
    "`Age` of the customer help us predict whether they bought an item based\n",
    "on the offer they got.\n",
    "\n",
    "Here is our training set:\n",
    "\n",
    "| Salary | Age | Purchased |\n",
    "|:-------|:----|:----------|\n",
    "| 53700  | 41  | no        |\n",
    "| 65300  | 37  | no        |\n",
    "| 48900  | 45  | yes       |\n",
    "| 64800  | 49  | yes       |\n",
    "| 69200  | 30  | yes       |\n",
    "| 55900  | 57  | yes       |\n",
    "| 48600  | 26  | no        |\n",
    "| 72000  | 60  | yes       |\n",
    "| 45300  | 34  | no        |\n",
    "| 69000  | 32  | yes       |\n",
    "| 73200  | 52  | yes       |\n",
    "\n",
    "Lets read it in:"
   ]
  },
  {
   "cell_type": "code",
   "execution_count": null,
   "metadata": {},
   "outputs": [],
   "source": [
    "trainurl<- \"https://docs.google.com/spreadsheets/d/e/2PACX-1vTx21HIv4xKL2c94OLQzMiNPmv5YXw-vAy3dRBL0gnknSMKMK4Ur_4nYGGyDtvS20iU3_r-_zZfQQmj/pub?gid=0&single=true&output=csv\"\n",
    "traindf<-read.csv(trainurl, stringsAsFactors=TRUE)\n",
    "str(traindf)"
   ]
  },
  {
   "cell_type": "markdown",
   "metadata": {},
   "source": [
    "We are going to model this situation with a decision tree. We will start\n",
    "by just trying to use `Salary` to predict the result:"
   ]
  },
  {
   "cell_type": "code",
   "execution_count": null,
   "metadata": {},
   "outputs": [],
   "source": [
    "control = rpart.control(minsplit=1,maxdepth=1)\n",
    "model1 <- rpart(Purchased~Salary, data=traindf, method=\"class\", control = control)\n",
    "rpart.plot(model1, type=4, extra=101, digits=-2)"
   ]
  },
  {
   "cell_type": "markdown",
   "metadata": {},
   "source": [
    "What about if we use `Age` to predict the result:"
   ]
  },
  {
   "cell_type": "code",
   "execution_count": null,
   "metadata": {},
   "outputs": [],
   "source": [
    "control = rpart.control(minsplit=1,maxdepth=1)\n",
    "model2 <- rpart(Purchased~Age, data=traindf, method=\"class\", control = control)\n",
    "rpart.plot(model2, type=4, extra=101, digits=-2)"
   ]
  },
  {
   "cell_type": "markdown",
   "metadata": {},
   "source": [
    "We about if we use `Salary` but let the tree grow a little:"
   ]
  },
  {
   "cell_type": "code",
   "execution_count": null,
   "metadata": {},
   "outputs": [],
   "source": [
    "control = rpart.control(minsplit=1,maxdepth=2, cp=-1)\n",
    "model3 <- rpart(Purchased~Salary, data=traindf, method=\"class\", control = control)\n",
    "rpart.plot(model3, type=4, extra=101, digits=-2)"
   ]
  },
  {
   "cell_type": "markdown",
   "metadata": {},
   "source": [
    "How about if we grow the `Salary` tree even more:"
   ]
  },
  {
   "cell_type": "code",
   "execution_count": null,
   "metadata": {},
   "outputs": [],
   "source": [
    "control = rpart.control(minsplit=1,maxdepth=3, cp=-1)\n",
    "model4 <- rpart(Purchased~Salary, data=traindf, method=\"class\", control = control)\n",
    "rpart.plot(model4, type=4, extra=101, digits=-2)"
   ]
  },
  {
   "cell_type": "markdown",
   "metadata": {},
   "source": [
    "How about all out with `Salary`:"
   ]
  },
  {
   "cell_type": "code",
   "execution_count": null,
   "metadata": {},
   "outputs": [],
   "source": [
    "control = rpart.control(minsplit=1)\n",
    "model5 <- rpart(Purchased~Salary, data=traindf, method=\"class\", control = control)\n",
    "rpart.plot(model5, type=4, extra=101, digits=-2)"
   ]
  },
  {
   "cell_type": "markdown",
   "metadata": {},
   "source": [
    "Testing the Decision Tree model using the testing set\n",
    "-----------------------------------------------------\n",
    "\n",
    "Now lets doe some predictions using the test dataframe:\n",
    "\n",
    "Here we read the test set:\n",
    "\n",
    "| Salary | Age | Purchased |\n",
    "|:-------|:----|:----------|\n",
    "| 53900  | 45  | yes       |\n",
    "| 64800  | 49  | yes       |\n",
    "| 50000  | 32  | no        |\n",
    "| 55900  | 57  | yes       |\n",
    "| 55600  | 29  | no        |\n",
    "| 60000  | 25  | no        |"
   ]
  },
  {
   "cell_type": "code",
   "execution_count": null,
   "metadata": {},
   "outputs": [],
   "source": [
    "#read the testing set\n",
    "testurl<- \"https://docs.google.com/spreadsheets/d/e/2PACX-1vTx21HIv4xKL2c94OLQzMiNPmv5YXw-vAy3dRBL0gnknSMKMK4Ur_4nYGGyDtvS20iU3_r-_zZfQQmj/pub?gid=572053114&single=true&output=csv\"\n",
    "testdf<-read.csv(testurl, stringsAsFactors=TRUE)\n",
    "str(testdf)"
   ]
  },
  {
   "cell_type": "markdown",
   "metadata": {},
   "source": [
    "Lets test our last model (model5) and see how well these predictions\n",
    "agree with the actual in the test set. Here is the “accuracy” for\n",
    "model5:"
   ]
  },
  {
   "cell_type": "code",
   "execution_count": null,
   "metadata": {},
   "outputs": [],
   "source": [
    "pred <- predict(model5, newdata = testdf, type = 'class')\n",
    "accuracy(testdf$Purchased, pred)"
   ]
  },
  {
   "cell_type": "markdown",
   "metadata": {},
   "source": [
    "Lets make a data frame that shows the prediction and the actuals for\n",
    "model5:"
   ]
  },
  {
   "cell_type": "code",
   "execution_count": null,
   "metadata": {},
   "outputs": [],
   "source": [
    "comparedf <- data.frame(actual=testdf$Purchased, predictions=pred)\n",
    "print(comparedf)"
   ]
  },
  {
   "cell_type": "markdown",
   "metadata": {},
   "source": [
    "Lets test model4 for its accuracy:"
   ]
  },
  {
   "cell_type": "code",
   "execution_count": null,
   "metadata": {},
   "outputs": [],
   "source": [
    "pred <- predict(model4, newdata = testdf, type = 'class')\n",
    "accuracy(testdf$Purchased, pred)"
   ]
  },
  {
   "cell_type": "markdown",
   "metadata": {},
   "source": [
    "And model3:"
   ]
  },
  {
   "cell_type": "code",
   "execution_count": null,
   "metadata": {},
   "outputs": [],
   "source": [
    "pred <- predict(model3, newdata = testdf, type = 'class')\n",
    "accuracy(testdf$Purchased, pred)"
   ]
  },
  {
   "cell_type": "markdown",
   "metadata": {},
   "source": [
    "And model2:"
   ]
  },
  {
   "cell_type": "code",
   "execution_count": null,
   "metadata": {},
   "outputs": [],
   "source": [
    "pred <- predict(model2, newdata = testdf, type = 'class')\n",
    "accuracy(testdf$Purchased, pred)"
   ]
  },
  {
   "cell_type": "markdown",
   "metadata": {},
   "source": [
    "Finally lets build a model that uses both Salary and Age:"
   ]
  },
  {
   "cell_type": "code",
   "execution_count": null,
   "metadata": {},
   "outputs": [],
   "source": [
    "control = rpart.control(minsplit=1)\n",
    "model6 <- rpart(Purchased~Salary+Age, data=traindf, method=\"class\", control = control)\n",
    "rpart.plot(model6, type=4, extra=101, digits=-2)"
   ]
  },
  {
   "cell_type": "markdown",
   "metadata": {},
   "source": [
    "Lets check the accuracy of this model that uses both variables:"
   ]
  },
  {
   "cell_type": "code",
   "execution_count": null,
   "metadata": {},
   "outputs": [],
   "source": [
    "pred <- predict(model6, newdata = testdf, type = 'class')\n",
    "accuracy(testdf$Purchased, pred)"
   ]
  },
  {
   "cell_type": "markdown",
   "metadata": {},
   "source": [
    "Lets make a data frame that shows the prediction and the actuals for\n",
    "this model6:"
   ]
  },
  {
   "cell_type": "code",
   "execution_count": null,
   "metadata": {},
   "outputs": [],
   "source": [
    "comparedf <- data.frame(actual=testdf$Purchased, predictions=pred)\n",
    "print(comparedf)"
   ]
  }
 ],
 "nbformat": 4,
 "nbformat_minor": 5,
 "metadata": {
  "kernelspec": {
   "name": "ir",
   "display_name": "R",
   "language": "R"
  }
 }
}
