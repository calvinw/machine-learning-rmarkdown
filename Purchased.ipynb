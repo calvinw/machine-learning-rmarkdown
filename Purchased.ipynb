{
 "cells": [
  {
   "cell_type": "code",
   "execution_count": null,
   "metadata": {},
   "outputs": [],
   "source": [
    "options(\"scipen\"=100, \"digits\"=4)\n",
    "\n",
    "if(!require(\"rpart\")) install.packages(\"rpart\")\n",
    "if(!require(\"rpart.plot\")) install.packages(\"rpart.plot\")\n",
    "if(!require(\"Metrics\")) install.packages(\"Metrics\")\n",
    "\n",
    "library(\"rpart\")\n",
    "library(\"rpart.plot\")\n",
    "library(\"Metrics\")"
   ]
  },
  {
   "cell_type": "markdown",
   "metadata": {},
   "source": [
    "The Training Data\n",
    "-----------------\n",
    "\n",
    "So here is the data we have, this will be our training data:\n",
    "\n",
    "-   `Purchased` is our result or outcome\n",
    "-   `Salary`, `Age` are the predictors\n",
    "\n",
    "This data is about what kinds of customers responded to an email add\n",
    "offering a special deal on a product. Were they high salary or low\n",
    "salary and what about their age? We would like to know if `Salary` and\n",
    "`Age` of the customer help us predict whether they bought an item based\n",
    "on the offer they got.\n",
    "\n",
    "Here is our training set:\n",
    "\n",
    "| Salary | Age | Purchased |\n",
    "|--------|-----|-----------|\n",
    "| 53700  | 41  | no        |\n",
    "| 65300  | 37  | no        |\n",
    "| 48900  | 45  | yes       |\n",
    "| 64800  | 49  | yes       |\n",
    "| 69200  | 30  | yes       |\n",
    "| 55900  | 57  | yes       |\n",
    "| 48600  | 26  | no        |\n",
    "| 72000  | 60  | yes       |\n",
    "| 45300  | 34  | no        |\n",
    "| 69000  | 32  | yes       |\n",
    "| 73200  | 52  | yes       |\n",
    "\n",
    "Lets read it in:"
   ]
  },
  {
   "cell_type": "code",
   "execution_count": null,
   "metadata": {},
   "outputs": [],
   "source": [
    "url<- \"https://docs.google.com/spreadsheets/d/e/2PACX-1vTx21HIv4xKL2c94OLQzMiNPmv5YXw-vAy3dRBL0gnknSMKMK4Ur_4nYGGyDtvS20iU3_r-_zZfQQmj/pub?gid=0&single=true&output=csv\"\n",
    "train<-read.csv(url)\n",
    "str(train)"
   ]
  },
  {
   "cell_type": "markdown",
   "metadata": {},
   "source": [
    "The Testing Data\n",
    "----------------\n",
    "\n",
    "Here we read the test set:\n",
    "\n",
    "| Salary | Age | Purchased |\n",
    "|--------|-----|-----------|\n",
    "| 53900  | 45  | yes       |\n",
    "| 64800  | 49  | yes       |\n",
    "| 50000  | 32  | no        |\n",
    "| 55900  | 57  | yes       |\n",
    "| 55600  | 29  | no        |\n",
    "| 60000  | 25  | no        |"
   ]
  },
  {
   "cell_type": "code",
   "execution_count": null,
   "metadata": {},
   "outputs": [],
   "source": [
    "#read the testing set\n",
    "url<- \"https://docs.google.com/spreadsheets/d/e/2PACX-1vTx21HIv4xKL2c94OLQzMiNPmv5YXw-vAy3dRBL0gnknSMKMK4Ur_4nYGGyDtvS20iU3_r-_zZfQQmj/pub?gid=572053114&single=true&output=csv\"\n",
    "test<-read.csv(url)\n",
    "str(test)"
   ]
  },
  {
   "cell_type": "markdown",
   "metadata": {},
   "source": [
    "### Model Purchased\\~Salary\n",
    "\n",
    "#### Model With Training Data\n",
    "\n",
    "We are going to model this situation with a decision tree. We will start\n",
    "by just trying to use `Salary` to predict the result:\n",
    "\n",
    "Lets look at the data sorted by Salary:"
   ]
  },
  {
   "cell_type": "code",
   "execution_count": null,
   "metadata": {},
   "outputs": [],
   "source": [
    "print(train[order(train$Salary),])"
   ]
  },
  {
   "cell_type": "markdown",
   "metadata": {},
   "source": [
    "It appears that mostly those with higher salary purchased.\n",
    "\n",
    "Lets look at the split on `Salary`"
   ]
  },
  {
   "cell_type": "code",
   "execution_count": null,
   "metadata": {},
   "outputs": [],
   "source": [
    "control = rpart.control(minsplit=1,maxdepth=1)\n",
    "model <- rpart(Purchased~Salary, data=train, method=\"class\", control = control)\n",
    "rpart.plot(model, type=4, extra=101, digits=-2)"
   ]
  },
  {
   "cell_type": "markdown",
   "metadata": {},
   "source": [
    "#### Test With Testing Data\n",
    "\n",
    "Here are the predictions for our test data:"
   ]
  },
  {
   "cell_type": "code",
   "execution_count": null,
   "metadata": {},
   "outputs": [],
   "source": [
    "pred <- predict(model, newdata = test, type = 'class')\n",
    "compare <- data.frame(actual=test, predictions=pred)\n",
    "print(compare)"
   ]
  },
  {
   "cell_type": "markdown",
   "metadata": {},
   "source": [
    "Here is the confusion matrix:"
   ]
  },
  {
   "cell_type": "code",
   "execution_count": null,
   "metadata": {},
   "outputs": [],
   "source": [
    "table(test$Purchased, pred)"
   ]
  },
  {
   "cell_type": "markdown",
   "metadata": {},
   "source": [
    "Here is the accuracy:"
   ]
  },
  {
   "cell_type": "code",
   "execution_count": null,
   "metadata": {},
   "outputs": [],
   "source": [
    "accuracy(test$Purchased, pred)"
   ]
  },
  {
   "cell_type": "markdown",
   "metadata": {},
   "source": [
    "### Model Purchased\\~Age\n",
    "\n",
    "#### Model With Training Data\n",
    "\n",
    "Lets look at the data sorted by Age:"
   ]
  },
  {
   "cell_type": "code",
   "execution_count": null,
   "metadata": {},
   "outputs": [],
   "source": [
    "print(train[order(train$Age),])"
   ]
  },
  {
   "cell_type": "markdown",
   "metadata": {},
   "source": [
    "It appears that mostly older purchased\n",
    "\n",
    "Lets look at the split on `Age`"
   ]
  },
  {
   "cell_type": "code",
   "execution_count": null,
   "metadata": {},
   "outputs": [],
   "source": [
    "control = rpart.control(minsplit=1,maxdepth=1)\n",
    "model <- rpart(Purchased~Age, data=train, method=\"class\", control = control)\n",
    "rpart.plot(model, type=4, extra=101, digits=-2)"
   ]
  },
  {
   "cell_type": "markdown",
   "metadata": {},
   "source": [
    "#### Test With Testing Data\n",
    "\n",
    "Here are the predictions for our test data:"
   ]
  },
  {
   "cell_type": "code",
   "execution_count": null,
   "metadata": {},
   "outputs": [],
   "source": [
    "pred <- predict(model, newdata = test, type = 'class')\n",
    "compare <- data.frame(actual=test, predictions=pred)\n",
    "print(compare)"
   ]
  },
  {
   "cell_type": "markdown",
   "metadata": {},
   "source": [
    "Here is the confusion matrix:"
   ]
  },
  {
   "cell_type": "code",
   "execution_count": null,
   "metadata": {},
   "outputs": [],
   "source": [
    "table(test$Purchased, pred)"
   ]
  },
  {
   "cell_type": "markdown",
   "metadata": {},
   "source": [
    "Here is the accuracy:"
   ]
  },
  {
   "cell_type": "code",
   "execution_count": null,
   "metadata": {},
   "outputs": [],
   "source": [
    "accuracy(test$Purchased, pred)"
   ]
  },
  {
   "cell_type": "markdown",
   "metadata": {},
   "source": [
    "### Model Purchased\\~Salary grown out\n",
    "\n",
    "#### Model With Training Data\n",
    "\n",
    "How about if we grow the `Salary` tree even more?"
   ]
  },
  {
   "cell_type": "code",
   "execution_count": null,
   "metadata": {},
   "outputs": [],
   "source": [
    "control = rpart.control(minsplit=1,maxdepth=3, cp=-1)\n",
    "model <- rpart(Purchased~Salary, data=train, method=\"class\", control = control)\n",
    "rpart.plot(model, type=4, extra=101, digits=-2)"
   ]
  },
  {
   "cell_type": "markdown",
   "metadata": {},
   "source": [
    "#### Test With Testing Data\n",
    "\n",
    "Here are the predictions for our test data:"
   ]
  },
  {
   "cell_type": "code",
   "execution_count": null,
   "metadata": {},
   "outputs": [],
   "source": [
    "pred <- predict(model, newdata = test, type = 'class')\n",
    "compare <- data.frame(actual=test, predictions=pred)\n",
    "print(compare)"
   ]
  },
  {
   "cell_type": "markdown",
   "metadata": {},
   "source": [
    "Here is the confusion matrix:"
   ]
  },
  {
   "cell_type": "code",
   "execution_count": null,
   "metadata": {},
   "outputs": [],
   "source": [
    "table(test$Purchased, pred)"
   ]
  },
  {
   "cell_type": "markdown",
   "metadata": {},
   "source": [
    "Here is the accuracy:"
   ]
  },
  {
   "cell_type": "code",
   "execution_count": null,
   "metadata": {},
   "outputs": [],
   "source": [
    "accuracy(test$Purchased, pred)"
   ]
  },
  {
   "cell_type": "markdown",
   "metadata": {},
   "source": [
    "### Model Purchased\\~Salary grown Full Tree\n",
    "\n",
    "#### Model With Training Data\n",
    "\n",
    "How about all out with `Salary`:"
   ]
  },
  {
   "cell_type": "code",
   "execution_count": null,
   "metadata": {},
   "outputs": [],
   "source": [
    "control = rpart.control(minsplit=1)\n",
    "model <- rpart(Purchased~Salary, data=train, method=\"class\", control = control)\n",
    "rpart.plot(model, type=4, extra=101, digits=-2)"
   ]
  },
  {
   "cell_type": "markdown",
   "metadata": {},
   "source": [
    "#### Test With Testing Data\n",
    "\n",
    "Here are the predictions for our test data:"
   ]
  },
  {
   "cell_type": "code",
   "execution_count": null,
   "metadata": {},
   "outputs": [],
   "source": [
    "pred <- predict(model, newdata = test, type = 'class')\n",
    "compare <- data.frame(actual=test, predictions=pred)\n",
    "print(compare)"
   ]
  },
  {
   "cell_type": "markdown",
   "metadata": {},
   "source": [
    "Here is the confusion matrix:"
   ]
  },
  {
   "cell_type": "code",
   "execution_count": null,
   "metadata": {},
   "outputs": [],
   "source": [
    "table(test$Purchased, pred)"
   ]
  },
  {
   "cell_type": "markdown",
   "metadata": {},
   "source": [
    "Here is the accuracy:"
   ]
  },
  {
   "cell_type": "code",
   "execution_count": null,
   "metadata": {},
   "outputs": [],
   "source": [
    "accuracy(test$Purchased, pred)"
   ]
  },
  {
   "cell_type": "markdown",
   "metadata": {},
   "source": [
    "### Model 6 Purchased\\~Salary+Age\n",
    "\n",
    "#### Model With Training Data\n",
    "\n",
    "Finally lets build a model that uses both Salary and Age:"
   ]
  },
  {
   "cell_type": "code",
   "execution_count": null,
   "metadata": {},
   "outputs": [],
   "source": [
    "control = rpart.control(minsplit=1)\n",
    "model <- rpart(Purchased~Salary+Age, data=train, method=\"class\", control = control)\n",
    "rpart.plot(model, type=4, extra=101, digits=-2)"
   ]
  },
  {
   "cell_type": "markdown",
   "metadata": {},
   "source": [
    "#### Test With Testing Data\n",
    "\n",
    "Here are the predictions for our test data:"
   ]
  },
  {
   "cell_type": "code",
   "execution_count": null,
   "metadata": {},
   "outputs": [],
   "source": [
    "pred <- predict(model, newdata = test, type = 'class')\n",
    "compare <- data.frame(actual=test, predictions=pred)\n",
    "print(compare)"
   ]
  },
  {
   "cell_type": "markdown",
   "metadata": {},
   "source": [
    "Here is the confusion matrix:"
   ]
  },
  {
   "cell_type": "code",
   "execution_count": null,
   "metadata": {},
   "outputs": [],
   "source": [
    "table(test$Purchased, pred)"
   ]
  },
  {
   "cell_type": "markdown",
   "metadata": {},
   "source": [
    "Here is the accuracy:"
   ]
  },
  {
   "cell_type": "code",
   "execution_count": null,
   "metadata": {},
   "outputs": [],
   "source": [
    "accuracy(test$Purchased, pred)"
   ]
  }
 ],
 "nbformat": 4,
 "nbformat_minor": 5,
 "metadata": {
  "kernelspec": {
   "name": "ir",
   "display_name": "R",
   "language": "R"
  }
 }
}
