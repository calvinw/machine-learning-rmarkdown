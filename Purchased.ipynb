{
  "cells": [
    {
      "cell_type": "markdown",
      "metadata": {},
      "source": [
        "# Purchased"
      ],
      "id": "be8563ca-bd93-4135-bf29-a357fd5a893f"
    },
    {
      "cell_type": "code",
      "execution_count": null,
      "metadata": {},
      "outputs": [],
      "source": [
        "options(\"scipen\"=100, \"digits\"=4)\n",
        "\n",
        "if(!require(\"rpart\")) install.packages(\"rpart\")\n",
        "if(!require(\"rpart.plot\")) install.packages(\"rpart.plot\")\n",
        "if(!require(\"Metrics\")) install.packages(\"Metrics\")\n",
        "\n",
        "library(\"rpart\")\n",
        "library(\"rpart.plot\")\n",
        "library(\"Metrics\")"
      ],
      "id": "b2723953-cf6b-4e16-af94-f765c8adb15a"
    },
    {
      "cell_type": "markdown",
      "metadata": {},
      "source": [
        "## The Training Data\n",
        "\n",
        "So here is the data we have, this will be our training data:\n",
        "\n",
        "-   `Purchased` is our result or outcome\n",
        "-   `Salary`, `Age` are the predictors\n",
        "\n",
        "This data is about what kinds of customers responded to an email add\n",
        "offering a special deal on a product. Were they high salary or low\n",
        "salary and what about their age? We would like to know if `Salary` and\n",
        "`Age` of the customer help us predict whether they bought an item based\n",
        "on the offer they got.\n",
        "\n",
        "Here is our training set:\n",
        "\n",
        "| Salary | Age | Purchased |\n",
        "|--------|-----|-----------|\n",
        "| 53700  | 41  | no        |\n",
        "| 65300  | 37  | no        |\n",
        "| 48900  | 45  | yes       |\n",
        "| 64800  | 49  | yes       |\n",
        "| 69200  | 30  | yes       |\n",
        "| 55900  | 57  | yes       |\n",
        "| 48600  | 26  | no        |\n",
        "| 72000  | 60  | yes       |\n",
        "| 45300  | 34  | no        |\n",
        "| 69000  | 32  | yes       |\n",
        "| 73200  | 52  | yes       |\n",
        "\n",
        "Lets read it in:"
      ],
      "id": "32b01be3-d2f2-493c-8b70-f98462143aeb"
    },
    {
      "cell_type": "code",
      "execution_count": null,
      "metadata": {},
      "outputs": [
        {
          "output_type": "stream",
          "name": "stdout",
          "text": [
            "'data.frame':   11 obs. of  3 variables:\n",
            " $ Salary   : int  53700 65300 48900 64800 69200 55900 48600 72000 45300 69000 ...\n",
            " $ Age      : int  41 37 45 49 30 57 26 60 34 32 ...\n",
            " $ Purchased: chr  \"no\" \"no\" \"yes\" \"yes\" ..."
          ]
        }
      ],
      "source": [
        "url<- \"https://docs.google.com/spreadsheets/d/e/2PACX-1vTx21HIv4xKL2c94OLQzMiNPmv5YXw-vAy3dRBL0gnknSMKMK4Ur_4nYGGyDtvS20iU3_r-_zZfQQmj/pub?gid=0&single=true&output=csv\"\n",
        "train<-read.csv(url)\n",
        "str(train)"
      ],
      "id": "97db4908-5a80-4cb5-bf27-8bbbdf2fc81f"
    },
    {
      "cell_type": "markdown",
      "metadata": {},
      "source": [
        "## The Testing Data\n",
        "\n",
        "Here we read the test set:\n",
        "\n",
        "| Salary | Age | Purchased |\n",
        "|--------|-----|-----------|\n",
        "| 53900  | 45  | yes       |\n",
        "| 64800  | 49  | yes       |\n",
        "| 50000  | 32  | no        |\n",
        "| 55900  | 57  | yes       |\n",
        "| 55600  | 29  | no        |\n",
        "| 60000  | 25  | no        |"
      ],
      "id": "f823a2da-d38b-4dde-903f-338d73570e66"
    },
    {
      "cell_type": "code",
      "execution_count": null,
      "metadata": {},
      "outputs": [
        {
          "output_type": "stream",
          "name": "stdout",
          "text": [
            "'data.frame':   8 obs. of  3 variables:\n",
            " $ Salary   : int  53900 64800 50000 55900 55600 60000 80000 66000\n",
            " $ Age      : int  45 49 32 57 29 25 30 62\n",
            " $ Purchased: chr  \"yes\" \"yes\" \"no\" \"yes\" ..."
          ]
        }
      ],
      "source": [
        "#read the testing set\n",
        "url<- \"https://docs.google.com/spreadsheets/d/e/2PACX-1vTx21HIv4xKL2c94OLQzMiNPmv5YXw-vAy3dRBL0gnknSMKMK4Ur_4nYGGyDtvS20iU3_r-_zZfQQmj/pub?gid=572053114&single=true&output=csv\"\n",
        "test<-read.csv(url)\n",
        "str(test)"
      ],
      "id": "7064a4d6-0372-49e1-9545-9ca9df240d4c"
    },
    {
      "cell_type": "markdown",
      "metadata": {},
      "source": [
        "### Model Purchased\\~Salary\n",
        "\n",
        "#### Model With Training Data\n",
        "\n",
        "We are going to model this situation with a decision tree. We will start\n",
        "by just trying to use `Salary` to predict the result:\n",
        "\n",
        "Lets look at the data sorted by Salary:"
      ],
      "id": "526df507-2cbd-4391-a66b-eab7958d35c9"
    },
    {
      "cell_type": "code",
      "execution_count": null,
      "metadata": {},
      "outputs": [
        {
          "output_type": "stream",
          "name": "stdout",
          "text": [
            "   Salary Age Purchased\n",
            "9   45300  34        no\n",
            "7   48600  26        no\n",
            "3   48900  45       yes\n",
            "1   53700  41        no\n",
            "6   55900  57       yes\n",
            "4   64800  49       yes\n",
            "2   65300  37        no\n",
            "10  69000  32       yes\n",
            "5   69200  30       yes\n",
            "8   72000  60       yes\n",
            "11  73200  52       yes"
          ]
        }
      ],
      "source": [
        "print(train[order(train$Salary),])"
      ],
      "id": "01cd34c7-053e-4968-a8ec-724ba5ca5453"
    },
    {
      "cell_type": "markdown",
      "metadata": {},
      "source": [
        "It appears that mostly those with higher salary purchased.\n",
        "\n",
        "Lets look at the split on `Salary`"
      ],
      "id": "237d3c55-5afa-4826-a106-4b009626c7e6"
    },
    {
      "cell_type": "code",
      "execution_count": null,
      "metadata": {},
      "outputs": [
        {
          "output_type": "display_data",
          "metadata": {},
          "data": {
            "image/png": "[encoded data removed]"
          }
        }
      ],
      "source": [
        "control = rpart.control(minsplit=1,maxdepth=1)\n",
        "model <- rpart(Purchased~Salary, data=train, method=\"class\", control = control)\n",
        "rpart.plot(model, type=4, extra=101, digits=-2)"
      ],
      "id": "0cb339b1-10e1-4b0e-a328-6aedd34f2ebf"
    },
    {
      "cell_type": "markdown",
      "metadata": {},
      "source": [
        "#### Test With Testing Data\n",
        "\n",
        "Here are the predictions for our test data:"
      ],
      "id": "55727e1e-2799-4d43-8f0c-2e4b46a41edb"
    },
    {
      "cell_type": "code",
      "execution_count": null,
      "metadata": {},
      "outputs": [
        {
          "output_type": "stream",
          "name": "stdout",
          "text": [
            "  actual.Salary actual.Age actual.Purchased predictions\n",
            "1         53900         45              yes         yes\n",
            "2         64800         49              yes         yes\n",
            "3         50000         32               no         yes\n",
            "4         55900         57              yes         yes\n",
            "5         55600         29              yes         yes\n",
            "6         60000         25               no         yes\n",
            "7         80000         30              yes         yes\n",
            "8         66000         62              yes         yes"
          ]
        }
      ],
      "source": [
        "pred <- predict(model, newdata = test, type = 'class')\n",
        "compare <- data.frame(actual=test, predictions=pred)\n",
        "print(compare)"
      ],
      "id": "0d4471f6-21b0-4959-9e4a-a8f71cbf0d60"
    },
    {
      "cell_type": "markdown",
      "metadata": {},
      "source": [
        "Here is the confusion matrix:"
      ],
      "id": "54d7fd55-5449-46d2-bf41-0d889f736aac"
    },
    {
      "cell_type": "code",
      "execution_count": null,
      "metadata": {},
      "outputs": [
        {
          "output_type": "stream",
          "name": "stdout",
          "text": [
            "     pred\n",
            "      no yes\n",
            "  no   0   2\n",
            "  yes  0   6"
          ]
        }
      ],
      "source": [
        "table(test$Purchased, pred)"
      ],
      "id": "cb46cca3-2cea-48c7-9655-b5015d7f1996"
    },
    {
      "cell_type": "markdown",
      "metadata": {},
      "source": [
        "Here is the accuracy:"
      ],
      "id": "be9b640e-b177-46d6-886c-03bdd5423eb5"
    },
    {
      "cell_type": "code",
      "execution_count": null,
      "metadata": {},
      "outputs": [
        {
          "output_type": "stream",
          "name": "stdout",
          "text": [
            "[1] 0.75"
          ]
        }
      ],
      "source": [
        "accuracy(test$Purchased, pred)"
      ],
      "id": "faa84efa-415e-4343-9b84-84baccd85952"
    },
    {
      "cell_type": "markdown",
      "metadata": {},
      "source": [
        "### Model Purchased\\~Age\n",
        "\n",
        "#### Model With Training Data\n",
        "\n",
        "Lets look at the data sorted by Age:"
      ],
      "id": "5b1bb856-8770-49d5-a8b2-da477d43c98f"
    },
    {
      "cell_type": "code",
      "execution_count": null,
      "metadata": {},
      "outputs": [
        {
          "output_type": "stream",
          "name": "stdout",
          "text": [
            "   Salary Age Purchased\n",
            "7   48600  26        no\n",
            "5   69200  30       yes\n",
            "10  69000  32       yes\n",
            "9   45300  34        no\n",
            "2   65300  37        no\n",
            "1   53700  41        no\n",
            "3   48900  45       yes\n",
            "4   64800  49       yes\n",
            "11  73200  52       yes\n",
            "6   55900  57       yes\n",
            "8   72000  60       yes"
          ]
        }
      ],
      "source": [
        "print(train[order(train$Age),])"
      ],
      "id": "4dbfa879-2803-4413-97ac-1d258c7a7928"
    },
    {
      "cell_type": "markdown",
      "metadata": {},
      "source": [
        "It appears that mostly older purchased\n",
        "\n",
        "Lets look at the split on `Age`"
      ],
      "id": "3b740ed9-9537-4bbd-b362-bbc44bc7329d"
    },
    {
      "cell_type": "code",
      "execution_count": null,
      "metadata": {},
      "outputs": [
        {
          "output_type": "display_data",
          "metadata": {},
          "data": {
            "image/png": "[encoded data removed]"
          }
        }
      ],
      "source": [
        "control = rpart.control(minsplit=1,maxdepth=1)\n",
        "model <- rpart(Purchased~Age, data=train, method=\"class\", control = control)\n",
        "rpart.plot(model, type=4, extra=101, digits=-2)"
      ],
      "id": "1a17869e-148c-4f4c-b075-db4ef0d06cf2"
    },
    {
      "cell_type": "markdown",
      "metadata": {},
      "source": [
        "#### Test With Testing Data\n",
        "\n",
        "Here are the predictions for our test data:"
      ],
      "id": "65a12b46-f37c-4d33-8648-a720500f1975"
    },
    {
      "cell_type": "code",
      "execution_count": null,
      "metadata": {},
      "outputs": [
        {
          "output_type": "stream",
          "name": "stdout",
          "text": [
            "  actual.Salary actual.Age actual.Purchased predictions\n",
            "1         53900         45              yes         yes\n",
            "2         64800         49              yes         yes\n",
            "3         50000         32               no          no\n",
            "4         55900         57              yes         yes\n",
            "5         55600         29              yes          no\n",
            "6         60000         25               no          no\n",
            "7         80000         30              yes          no\n",
            "8         66000         62              yes         yes"
          ]
        }
      ],
      "source": [
        "pred <- predict(model, newdata = test, type = 'class')\n",
        "compare <- data.frame(actual=test, predictions=pred)\n",
        "print(compare)"
      ],
      "id": "2e897bb1-7868-4cf4-95cf-9585a4457c76"
    },
    {
      "cell_type": "markdown",
      "metadata": {},
      "source": [
        "Here is the confusion matrix:"
      ],
      "id": "46977a6b-60a3-40d1-8f6c-9439f51bac61"
    },
    {
      "cell_type": "code",
      "execution_count": null,
      "metadata": {},
      "outputs": [
        {
          "output_type": "stream",
          "name": "stdout",
          "text": [
            "     pred\n",
            "      no yes\n",
            "  no   2   0\n",
            "  yes  2   4"
          ]
        }
      ],
      "source": [
        "table(test$Purchased, pred)"
      ],
      "id": "3653c3e2-7f85-4b1f-af99-d44516b724f5"
    },
    {
      "cell_type": "markdown",
      "metadata": {},
      "source": [
        "Here is the accuracy:"
      ],
      "id": "43a619fc-1117-4a4e-852a-b88ac9d78930"
    },
    {
      "cell_type": "code",
      "execution_count": null,
      "metadata": {},
      "outputs": [
        {
          "output_type": "stream",
          "name": "stdout",
          "text": [
            "[1] 0.75"
          ]
        }
      ],
      "source": [
        "accuracy(test$Purchased, pred)"
      ],
      "id": "315fdaff-510a-4fe1-8341-8323814749f3"
    },
    {
      "cell_type": "markdown",
      "metadata": {},
      "source": [
        "### Model Purchased\\~Salary grown out\n",
        "\n",
        "#### Model With Training Data\n",
        "\n",
        "How about if we grow the `Salary` tree even more?"
      ],
      "id": "605e015f-38fa-4935-acb0-f9de78592de7"
    },
    {
      "cell_type": "code",
      "execution_count": null,
      "metadata": {},
      "outputs": [
        {
          "output_type": "display_data",
          "metadata": {},
          "data": {
            "image/png": "[encoded data removed]"
          }
        }
      ],
      "source": [
        "control = rpart.control(minsplit=1,maxdepth=3, cp=-1)\n",
        "model <- rpart(Purchased~Salary, data=train, method=\"class\", control = control)\n",
        "rpart.plot(model, type=4, extra=101, digits=-2)"
      ],
      "id": "31a5b3ee-11b5-453d-86ee-64b113ca1c61"
    },
    {
      "cell_type": "markdown",
      "metadata": {},
      "source": [
        "#### Test With Testing Data\n",
        "\n",
        "Here are the predictions for our test data:"
      ],
      "id": "85cb1a48-dda1-40eb-9be6-a2c196a4ab35"
    },
    {
      "cell_type": "code",
      "execution_count": null,
      "metadata": {},
      "outputs": [
        {
          "output_type": "stream",
          "name": "stdout",
          "text": [
            "  actual.Salary actual.Age actual.Purchased predictions\n",
            "1         53900         45              yes         yes\n",
            "2         64800         49              yes         yes\n",
            "3         50000         32               no         yes\n",
            "4         55900         57              yes         yes\n",
            "5         55600         29              yes         yes\n",
            "6         60000         25               no         yes\n",
            "7         80000         30              yes         yes\n",
            "8         66000         62              yes          no"
          ]
        }
      ],
      "source": [
        "pred <- predict(model, newdata = test, type = 'class')\n",
        "compare <- data.frame(actual=test, predictions=pred)\n",
        "print(compare)"
      ],
      "id": "e20911f3-6b17-4503-a349-3bf9791dc669"
    },
    {
      "cell_type": "markdown",
      "metadata": {},
      "source": [
        "Here is the confusion matrix:"
      ],
      "id": "8d40f272-783d-4f59-b0c4-cd593d250bd9"
    },
    {
      "cell_type": "code",
      "execution_count": null,
      "metadata": {},
      "outputs": [
        {
          "output_type": "stream",
          "name": "stdout",
          "text": [
            "     pred\n",
            "      no yes\n",
            "  no   0   2\n",
            "  yes  1   5"
          ]
        }
      ],
      "source": [
        "table(test$Purchased, pred)"
      ],
      "id": "ed3b50c4-33f7-4fb8-b1ae-3880bd61a1c3"
    },
    {
      "cell_type": "markdown",
      "metadata": {},
      "source": [
        "Here is the accuracy:"
      ],
      "id": "77b00d52-3f4c-4296-aaf9-0a8037db9f83"
    },
    {
      "cell_type": "code",
      "execution_count": null,
      "metadata": {},
      "outputs": [
        {
          "output_type": "stream",
          "name": "stdout",
          "text": [
            "[1] 0.625"
          ]
        }
      ],
      "source": [
        "accuracy(test$Purchased, pred)"
      ],
      "id": "bd5d46be-576a-4fef-bc02-e79f79421060"
    },
    {
      "cell_type": "markdown",
      "metadata": {},
      "source": [
        "### Model Purchased\\~Salary grown Full Tree\n",
        "\n",
        "#### Model With Training Data\n",
        "\n",
        "How about all out with `Salary`:"
      ],
      "id": "4fc6dfbc-8372-40e3-9349-ca5edff0d255"
    },
    {
      "cell_type": "code",
      "execution_count": null,
      "metadata": {},
      "outputs": [
        {
          "output_type": "display_data",
          "metadata": {},
          "data": {
            "image/png": "[encoded data removed]"
          }
        }
      ],
      "source": [
        "control = rpart.control(minsplit=1)\n",
        "model <- rpart(Purchased~Salary, data=train, method=\"class\", control = control)\n",
        "rpart.plot(model, type=4, extra=101, digits=-2)"
      ],
      "id": "fca82ec7-1b92-4c10-9315-cc12240b0381"
    },
    {
      "cell_type": "markdown",
      "metadata": {},
      "source": [
        "#### Test With Testing Data\n",
        "\n",
        "Here are the predictions for our test data:"
      ],
      "id": "ffc0cdf0-d03c-4cf7-8c11-95957b7b7248"
    },
    {
      "cell_type": "code",
      "execution_count": null,
      "metadata": {},
      "outputs": [
        {
          "output_type": "stream",
          "name": "stdout",
          "text": [
            "  actual.Salary actual.Age actual.Purchased predictions\n",
            "1         53900         45              yes          no\n",
            "2         64800         49              yes         yes\n",
            "3         50000         32               no         yes\n",
            "4         55900         57              yes         yes\n",
            "5         55600         29              yes         yes\n",
            "6         60000         25               no         yes\n",
            "7         80000         30              yes         yes\n",
            "8         66000         62              yes          no"
          ]
        }
      ],
      "source": [
        "pred <- predict(model, newdata = test, type = 'class')\n",
        "compare <- data.frame(actual=test, predictions=pred)\n",
        "print(compare)"
      ],
      "id": "5860af7d-c787-4c06-afd1-84cd758c2d38"
    },
    {
      "cell_type": "markdown",
      "metadata": {},
      "source": [
        "Here is the confusion matrix:"
      ],
      "id": "69a596ed-abc0-4f79-b2b2-4df3a4a78967"
    },
    {
      "cell_type": "code",
      "execution_count": null,
      "metadata": {},
      "outputs": [
        {
          "output_type": "stream",
          "name": "stdout",
          "text": [
            "     pred\n",
            "      no yes\n",
            "  no   0   2\n",
            "  yes  2   4"
          ]
        }
      ],
      "source": [
        "table(test$Purchased, pred)"
      ],
      "id": "eac0805c-6f18-4897-bf54-dc82a53db966"
    },
    {
      "cell_type": "markdown",
      "metadata": {},
      "source": [
        "Here is the accuracy:"
      ],
      "id": "0c60330f-1ba4-49cc-b8ea-244679e6def8"
    },
    {
      "cell_type": "code",
      "execution_count": null,
      "metadata": {},
      "outputs": [
        {
          "output_type": "stream",
          "name": "stdout",
          "text": [
            "[1] 0.5"
          ]
        }
      ],
      "source": [
        "accuracy(test$Purchased, pred)"
      ],
      "id": "016a3c3a-66c5-4be8-b88b-02dcd6f6100a"
    },
    {
      "cell_type": "markdown",
      "metadata": {},
      "source": [
        "### Model 6 Purchased\\~Salary+Age\n",
        "\n",
        "#### Model With Training Data\n",
        "\n",
        "Finally lets build a model that uses both Salary and Age:"
      ],
      "id": "5daad12d-3f9b-47f2-98d2-c214bcb69349"
    },
    {
      "cell_type": "code",
      "execution_count": null,
      "metadata": {},
      "outputs": [
        {
          "output_type": "display_data",
          "metadata": {},
          "data": {
            "image/png": "[encoded data removed]"
          }
        }
      ],
      "source": [
        "control = rpart.control(minsplit=1)\n",
        "model <- rpart(Purchased~Salary+Age, data=train, method=\"class\", control = control)\n",
        "rpart.plot(model, type=4, extra=101, digits=-2)"
      ],
      "id": "9b54f391-805d-403f-8a8c-52cd5ae7c569"
    },
    {
      "cell_type": "markdown",
      "metadata": {},
      "source": [
        "#### Test With Testing Data\n",
        "\n",
        "Here are the predictions for our test data:"
      ],
      "id": "576f264a-5794-4567-8840-1f5bf458496a"
    },
    {
      "cell_type": "code",
      "execution_count": null,
      "metadata": {},
      "outputs": [
        {
          "output_type": "stream",
          "name": "stdout",
          "text": [
            "  actual.Salary actual.Age actual.Purchased predictions\n",
            "1         53900         45              yes         yes\n",
            "2         64800         49              yes         yes\n",
            "3         50000         32               no          no\n",
            "4         55900         57              yes         yes\n",
            "5         55600         29              yes          no\n",
            "6         60000         25               no          no\n",
            "7         80000         30              yes         yes\n",
            "8         66000         62              yes         yes"
          ]
        }
      ],
      "source": [
        "pred <- predict(model, newdata = test, type = 'class')\n",
        "compare <- data.frame(actual=test, predictions=pred)\n",
        "print(compare)"
      ],
      "id": "25576179-a99d-4e31-931d-a624d4c926d7"
    },
    {
      "cell_type": "markdown",
      "metadata": {},
      "source": [
        "Here is the confusion matrix:"
      ],
      "id": "cbf9cfe5-6eeb-49b9-ae79-b58a1b2182b7"
    },
    {
      "cell_type": "code",
      "execution_count": null,
      "metadata": {},
      "outputs": [
        {
          "output_type": "stream",
          "name": "stdout",
          "text": [
            "     pred\n",
            "      no yes\n",
            "  no   2   0\n",
            "  yes  1   5"
          ]
        }
      ],
      "source": [
        "table(test$Purchased, pred)"
      ],
      "id": "94bacf6b-e0fd-4df6-a6f3-1f480c7130d4"
    },
    {
      "cell_type": "markdown",
      "metadata": {},
      "source": [
        "Here is the accuracy:"
      ],
      "id": "8d9a58da-90f1-48d1-8fef-8e999d7f8e74"
    },
    {
      "cell_type": "code",
      "execution_count": null,
      "metadata": {},
      "outputs": [
        {
          "output_type": "stream",
          "name": "stdout",
          "text": [
            "[1] 0.875"
          ]
        }
      ],
      "source": [
        "accuracy(test$Purchased, pred)"
      ],
      "id": "55333307-8350-4e6f-8201-646f7969ea1d"
    }
  ],
  "nbformat": 4,
  "nbformat_minor": 5,
  "metadata": {
    "kernelspec": {
      "name": "ir",
      "display_name": "R",
      "language": "R"
    }
  }
}