{
 "cells": [
  {
   "cell_type": "code",
   "execution_count": null,
   "metadata": {},
   "outputs": [],
   "source": [
    "if (!require(\"Metrics\")) install.packages(\"Metrics\")\n",
    "library(\"Metrics\")"
   ]
  },
  {
   "cell_type": "markdown",
   "metadata": {},
   "source": [
    "We need to look at ways to measure how far off the predictions from our\n",
    "models are from our actuals. In this document we examine what to do if\n",
    "what we are trying to predict is quantitative (so a number). We will\n",
    "look at classification errors (true/false etc) in another document.\n",
    "\n",
    "One reason we need to measure errors is to be able to determine what the\n",
    "best model is in machine learning or predictive analytics. When there\n",
    "are several different models possible, which one is the best?\n",
    "\n",
    "This boils down to the one that has the smallest error when run and\n",
    "tested using the testing data set.\n",
    "\n",
    "Remember the training data set is used when making the model, but then\n",
    "you test the model using the testing data set. When you test it, you\n",
    "measure how close the predictions are to the actuals using one of the\n",
    "calculations below, depending on the kind of model it is and what you\n",
    "are trying to predict.\n",
    "\n",
    "Computing Errors for a Model\n",
    "----------------------------\n",
    "\n",
    "Suppose we have this test dataset with predictions based on some model:\n",
    "\n",
    "| actuals | prediction |\n",
    "|:--------|:-----------|\n",
    "| 11      | 12         |\n",
    "| 27      | 23         |\n",
    "| 30      | 32         |\n",
    "| 13      | 15         |\n",
    "| 25      | 22         |\n",
    "\n",
    "Here the actuals and predictions are numbers and we would like to see\n",
    "how far off the actuals are from the prediction.\n",
    "\n",
    "### Mean Absolute Error (MAE)\n",
    "\n",
    "Lets find the mean absolute error (MAE) for a prediction and some\n",
    "actuals. This is useful if your prediction is a quantity, like in simple\n",
    "or multiple regression, or for predicting a time series (data where time\n",
    "is the horizontal axis), or some other numerical value:\n",
    "\n",
    "Lets create a data frame with the actuals and predictions:"
   ]
  },
  {
   "cell_type": "code",
   "execution_count": null,
   "metadata": {},
   "outputs": [],
   "source": [
    "actuals <- c(11,27,30,13,25)\n",
    "predictions <- c(12,23,32,15,22)\n",
    "compare<-data.frame(actuals=actuals,\n",
    "                    predictions=predictions)\n",
    "compare"
   ]
  },
  {
   "cell_type": "markdown",
   "metadata": {},
   "source": [
    "We will use the function `mae` from the Metrics package. Actuals go\n",
    "first into this function and then the predictions are second:"
   ]
  },
  {
   "cell_type": "code",
   "execution_count": null,
   "metadata": {},
   "outputs": [],
   "source": [
    "mae(actuals, predictions)"
   ]
  },
  {
   "cell_type": "markdown",
   "metadata": {},
   "source": [
    "This tells us the average error we make by using our model to predict\n",
    "with.\n",
    "\n",
    "Here are the details of this calculation by hand so you can see where it\n",
    "comes from:"
   ]
  },
  {
   "cell_type": "code",
   "execution_count": null,
   "metadata": {},
   "outputs": [],
   "source": [
    "absError <- abs(predictions - actuals)\n",
    "info<-data.frame(actuals=actuals,\n",
    "                 predictions=predictions,\n",
    "                 absError=absError)\n",
    "info"
   ]
  },
  {
   "cell_type": "markdown",
   "metadata": {},
   "source": [
    "Now we take the mean of the absolute errors:"
   ]
  },
  {
   "cell_type": "code",
   "execution_count": null,
   "metadata": {},
   "outputs": [],
   "source": [
    "mean(absError)"
   ]
  },
  {
   "cell_type": "markdown",
   "metadata": {},
   "source": [
    "### Mean Absolute Percentage Error (MAPE)\n",
    "\n",
    "Next let’s find the mean absolute percentage error (MAPE) for a\n",
    "prediction and some actuals:"
   ]
  },
  {
   "cell_type": "code",
   "execution_count": null,
   "metadata": {},
   "outputs": [],
   "source": [
    "mape(actuals, predictions)"
   ]
  },
  {
   "cell_type": "code",
   "execution_count": null,
   "metadata": {},
   "outputs": [],
   "source": [
    "absError <- abs(predictions - actuals)\n",
    "percentErr<-absError/actuals\n",
    "info<-data.frame(actuals=actuals,\n",
    "                 predictions=predictions,\n",
    "                 absError=absError,\n",
    "                 percentErr=round(percentErr,4)\n",
    "                 )\n",
    "info"
   ]
  },
  {
   "cell_type": "markdown",
   "metadata": {},
   "source": [
    "Now we take the mean of the percentage errors:"
   ]
  },
  {
   "cell_type": "code",
   "execution_count": null,
   "metadata": {},
   "outputs": [],
   "source": [
    "mean(percentErr)"
   ]
  },
  {
   "cell_type": "markdown",
   "metadata": {},
   "source": [
    "This tells us on average how far off percentage wise the prediction is\n",
    "from the actual (using the actual as base)\n",
    "\n",
    "### Root Mean Square Error (RMSE)\n",
    "\n",
    "This is an error measure that involves averaging the squares of the\n",
    "errors and then taking a square root:"
   ]
  },
  {
   "cell_type": "code",
   "execution_count": null,
   "metadata": {},
   "outputs": [],
   "source": [
    "rmse(actuals, predictions)"
   ]
  },
  {
   "cell_type": "code",
   "execution_count": null,
   "metadata": {},
   "outputs": [],
   "source": [
    "deviations<-predictions - actuals\n",
    "squaredDeviations <- deviations^2\n",
    "info<-data.frame(actuals=actuals,\n",
    "                 predictions=predictions,\n",
    "                 deviations=deviations,\n",
    "                 squaredDeviations=squaredDeviations)\n",
    "info"
   ]
  },
  {
   "cell_type": "markdown",
   "metadata": {},
   "source": [
    "Now we take the mean of the percentage errors:"
   ]
  },
  {
   "cell_type": "code",
   "execution_count": null,
   "metadata": {},
   "outputs": [],
   "source": [
    "sqrt(mean(squaredDeviations))"
   ]
  },
  {
   "cell_type": "markdown",
   "metadata": {},
   "source": [
    "This gives us a typical size of an error or distance away the set of\n",
    "predictions is from the actual. This error has the property of that it\n",
    "penalizes large errors more.\n",
    "\n",
    "So for example if being off by 10 is more than twice as bad as being off\n",
    "by 5, use the RMSE. If being off by 10 is just twice as bad as being off\n",
    "by 5, then use MAE.\n",
    "\n",
    "Comparison to a Different Model\n",
    "-------------------------------\n",
    "\n",
    "Now suppose we have a new model with these predictions:\n",
    "\n",
    "| actuals | prediction |\n",
    "|:--------|:-----------|\n",
    "| 11      | 13         |\n",
    "| 27      | 24         |\n",
    "| 30      | 31         |\n",
    "| 13      | 19         |\n",
    "| 25      | 22         |\n",
    "\n",
    "How does this compare to the previous model?"
   ]
  },
  {
   "cell_type": "code",
   "execution_count": null,
   "metadata": {},
   "outputs": [],
   "source": [
    "actuals <- c(11,27,30,13,25)\n",
    "predictions <- c(13,24,31,19,22)\n",
    "mae(actuals,predictions)\n",
    "mape(actuals,predictions)\n",
    "rmse(actuals,predictions)"
   ]
  },
  {
   "cell_type": "markdown",
   "metadata": {},
   "source": [
    "This model does not do as good a job as our previous model. All three\n",
    "errors are bigger than those for the first model.\n",
    "\n",
    "So we would conclude that this model is less accurate than the previous\n",
    "one, at least on this test set."
   ]
  }
 ],
 "nbformat": 4,
 "nbformat_minor": 5,
 "metadata": {
  "kernelspec": {
   "name": "ir",
   "display_name": "R",
   "language": "R"
  }
 }
}
