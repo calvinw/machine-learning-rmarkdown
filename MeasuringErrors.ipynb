{
  "cells": [
    {
      "cell_type": "markdown",
      "metadata": {},
      "source": [
        "# Measuring Errors for Numerical Predictions"
      ],
      "id": "de72f6f0-862b-4008-9d7c-7697e481f3f0"
    },
    {
      "cell_type": "code",
      "execution_count": null,
      "metadata": {},
      "outputs": [],
      "source": [
        "if (!require(\"Metrics\")) install.packages(\"Metrics\")\n",
        "library(\"Metrics\")"
      ],
      "id": "19cc8e1c-5d57-4e7c-9ad3-286576637ed3"
    },
    {
      "cell_type": "markdown",
      "metadata": {},
      "source": [
        "We need to look at ways to measure how far off the predictions from our\n",
        "models are from our actuals. In this document we examine what to do if\n",
        "what we are trying to predict is quantitative (so a number). We will\n",
        "look at classification errors (true/false etc) in another document.\n",
        "\n",
        "One reason we need to measure errors is to be able to determine what the\n",
        "best model is in machine learning or predictive analytics. When there\n",
        "are several different models possible, which one is the best?\n",
        "\n",
        "This boils down to the one that has the smallest error when run and\n",
        "tested using the testing data set.\n",
        "\n",
        "Remember the training data set is used when making the model, but then\n",
        "you test the model using the testing data set. When you test it, you\n",
        "measure how close the predictions are to the actuals using one of the\n",
        "calculations below, depending on the kind of model it is and what you\n",
        "are trying to predict.\n",
        "\n",
        "## Computing Errors for Model 1\n",
        "\n",
        "Suppose we have this test dataset with predictions based on some model:\n",
        "\n",
        "| actuals | prediction |\n",
        "|---------|------------|\n",
        "| 11      | 12         |\n",
        "| 27      | 23         |\n",
        "| 30      | 32         |\n",
        "| 13      | 15         |\n",
        "| 25      | 22         |\n",
        "\n",
        "Here the actuals and predictions are numbers and we would like to see\n",
        "how far off the actuals are from the prediction.\n",
        "\n",
        "Lets create a data frame with the actuals and predictions:"
      ],
      "id": "42390ca8-9c69-41e5-858b-81e0f4f99f2e"
    },
    {
      "cell_type": "code",
      "execution_count": null,
      "metadata": {},
      "outputs": [],
      "source": [
        "CODE"
      ],
      "id": "0b4ed970-12b1-447d-8782-c6a27d71acda"
    },
    {
      "cell_type": "markdown",
      "metadata": {},
      "source": [
        "### Mean Absolute Error (MAE)\n",
        "\n",
        "Lets find the mean absolute error (MAE) for a prediction and some\n",
        "actuals. This is useful if your prediction is a quantity, like in simple\n",
        "or multiple regression, or for predicting a time series (data where time\n",
        "is the horizontal axis), or some other numerical value:\n",
        "\n",
        "We will use the function `mae` from the Metrics package. Actuals go\n",
        "first into this function and then the predictions are second:"
      ],
      "id": "d01b8cf2-1b75-4936-9a52-ad5358772821"
    },
    {
      "cell_type": "code",
      "execution_count": null,
      "metadata": {},
      "outputs": [],
      "source": [
        "CODE"
      ],
      "id": "96a0eab7-609d-493d-a155-ce9d41161a6f"
    },
    {
      "cell_type": "markdown",
      "metadata": {},
      "source": [
        "This tells us the average error we make by using our model to predict\n",
        "with.\n",
        "\n",
        "### Mean Absolute Percentage Error (MAPE)\n",
        "\n",
        "Next let’s find the mean absolute percentage error (MAPE) for a\n",
        "prediction and some actuals:"
      ],
      "id": "7f9a3608-5989-4b02-87e6-98680382efd5"
    },
    {
      "cell_type": "code",
      "execution_count": null,
      "metadata": {},
      "outputs": [],
      "source": [
        "CODE"
      ],
      "id": "9f2229b8-3397-4921-ad54-25be02280680"
    },
    {
      "cell_type": "markdown",
      "metadata": {},
      "source": [
        "This tells us on average how far off percentage wise the prediction is\n",
        "from the actual (using the actual as base)\n",
        "\n",
        "### Root Mean Square Error (RMSE)\n",
        "\n",
        "This is an error measure that involves averaging the squares of the\n",
        "errors and then taking a square root:"
      ],
      "id": "02a3b15a-170a-451a-a269-07b97eb51e8d"
    },
    {
      "cell_type": "code",
      "execution_count": null,
      "metadata": {},
      "outputs": [],
      "source": [
        "CODE"
      ],
      "id": "f64a5fa6-ee01-4e3e-9214-8a013c9028ba"
    },
    {
      "cell_type": "markdown",
      "metadata": {},
      "source": [
        "This gives us a typical size of an error or distance away the set of\n",
        "predictions is from the actual. This error has the property of that it\n",
        "penalizes large errors more.\n",
        "\n",
        "So for example if being off by 10 is more than twice as bad as being off\n",
        "by 5, use the RMSE. If being off by 10 is just twice as bad as being off\n",
        "by 5, then use MAE.\n",
        "\n",
        "## Computing Errors for Model 2\n",
        "\n",
        "Now suppose we have a new model with these predictions:\n",
        "\n",
        "| actuals | prediction |\n",
        "|---------|------------|\n",
        "| 11      | 13         |\n",
        "| 27      | 24         |\n",
        "| 30      | 31         |\n",
        "| 13      | 19         |\n",
        "| 25      | 22         |"
      ],
      "id": "f712d686-7d91-4f72-8f0b-d65f8008ddb7"
    },
    {
      "cell_type": "code",
      "execution_count": null,
      "metadata": {},
      "outputs": [],
      "source": [
        "CODE"
      ],
      "id": "41fb8590-edbd-471d-95eb-758e507481b7"
    },
    {
      "cell_type": "markdown",
      "metadata": {},
      "source": [
        "How does this compare to the previous model?\n",
        "\n",
        "### Mean Absolute Error (MAE)"
      ],
      "id": "1ce7d0eb-b20b-4a1e-bde3-1ed8c37daef1"
    },
    {
      "cell_type": "code",
      "execution_count": null,
      "metadata": {},
      "outputs": [],
      "source": [
        "CODE"
      ],
      "id": "990a7709-1da6-4bb9-901a-75a38291691e"
    },
    {
      "cell_type": "markdown",
      "metadata": {},
      "source": [
        "### Mean Absolute Percentage Error (MAPE)"
      ],
      "id": "85e5ecde-d072-4c5f-8b5c-546c9da86c79"
    },
    {
      "cell_type": "code",
      "execution_count": null,
      "metadata": {},
      "outputs": [],
      "source": [
        "CODE"
      ],
      "id": "bdf049e5-e91f-440e-b30c-9cb8a9decc05"
    },
    {
      "cell_type": "markdown",
      "metadata": {},
      "source": [
        "### Root Mean Square Error (RMSE)"
      ],
      "id": "1d650e78-8337-45f4-be2f-f564571e9cea"
    },
    {
      "cell_type": "code",
      "execution_count": null,
      "metadata": {},
      "outputs": [],
      "source": [
        "CODE"
      ],
      "id": "899cce75-95f8-4b8f-ba1a-5053de125948"
    },
    {
      "cell_type": "markdown",
      "metadata": {},
      "source": [
        "This model does not do as good a job as our previous model. All three\n",
        "errors are bigger than those for the first model.\n",
        "\n",
        "So we would conclude that this model is less accurate than the previous\n",
        "one, at least on this test set."
      ],
      "id": "21d2772a-2f8c-435b-84a4-5e0821ce4f28"
    }
  ],
  "nbformat": 4,
  "nbformat_minor": 5,
  "metadata": {
    "kernelspec": {
      "name": "ir",
      "display_name": "R",
      "language": "R"
    }
  }
}