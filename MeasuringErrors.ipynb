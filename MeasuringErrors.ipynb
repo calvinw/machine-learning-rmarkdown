{
  "cells": [
    {
      "cell_type": "markdown",
      "metadata": {},
      "source": [
        "# Measuring Errors for Numerical Predictions"
      ],
      "id": "06af83c0-f54f-4133-8156-eb20fb1e6083"
    },
    {
      "cell_type": "code",
      "execution_count": null,
      "metadata": {},
      "outputs": [],
      "source": [
        "if (!require(\"Metrics\")) install.packages(\"Metrics\")\n",
        "library(\"Metrics\")"
      ],
      "id": "4b02be3f-ec67-417d-b7aa-7c34046f2c8a"
    },
    {
      "cell_type": "markdown",
      "metadata": {},
      "source": [
        "We need to look at ways to measure how far off the predictions from our\n",
        "models are from our actuals. In this document we examine what to do if\n",
        "what we are trying to predict is quantitative (so a number). We will\n",
        "look at classification errors (true/false etc) in another document.\n",
        "\n",
        "One reason we need to measure errors is to be able to determine what the\n",
        "best model is in machine learning or predictive analytics. When there\n",
        "are several different models possible, which one is the best?\n",
        "\n",
        "This boils down to the one that has the smallest error when run and\n",
        "tested using the testing data set.\n",
        "\n",
        "Remember the training data set is used when making the model, but then\n",
        "you test the model using the testing data set. When you test it, you\n",
        "measure how close the predictions are to the actuals using one of the\n",
        "calculations below, depending on the kind of model it is and what you\n",
        "are trying to predict.\n",
        "\n",
        "## Computing Errors for Model 1\n",
        "\n",
        "Suppose we have this test dataset with predictions based on some model:\n",
        "\n",
        "| actuals | prediction |\n",
        "|---------|------------|\n",
        "| 11      | 12         |\n",
        "| 27      | 23         |\n",
        "| 30      | 32         |\n",
        "| 13      | 15         |\n",
        "| 25      | 22         |\n",
        "\n",
        "Here the actuals and predictions are numbers and we would like to see\n",
        "how far off the actuals are from the prediction.\n",
        "\n",
        "Lets create a data frame with the actuals and predictions:"
      ],
      "id": "8f7f4e7d-7a88-486f-8015-4b2b50545c78"
    },
    {
      "cell_type": "code",
      "execution_count": null,
      "metadata": {},
      "outputs": [],
      "source": [
        "CODE"
      ],
      "id": "122bc09d-d598-4ce8-83f2-732f2e735a67"
    },
    {
      "cell_type": "markdown",
      "metadata": {},
      "source": [
        "### Mean Absolute Error (MAE)\n",
        "\n",
        "Lets find the mean absolute error (MAE) for a prediction and some\n",
        "actuals. This is useful if your prediction is a quantity, like in simple\n",
        "or multiple regression, or for predicting a time series (data where time\n",
        "is the horizontal axis), or some other numerical value:\n",
        "\n",
        "We will use the function `mae` from the Metrics package. Actuals go\n",
        "first into this function and then the predictions are second:"
      ],
      "id": "044da159-837a-4d40-a60a-cbdaabbc3c40"
    },
    {
      "cell_type": "code",
      "execution_count": null,
      "metadata": {},
      "outputs": [],
      "source": [
        "CODE"
      ],
      "id": "da1d54b4-70b0-4121-aa74-6499c57e6ac8"
    },
    {
      "cell_type": "markdown",
      "metadata": {},
      "source": [
        "This tells us the average error we make by using our model to predict\n",
        "with.\n",
        "\n",
        "### Mean Absolute Percentage Error (MAPE)\n",
        "\n",
        "Next let’s find the mean absolute percentage error (MAPE) for a\n",
        "prediction and some actuals:"
      ],
      "id": "5e288348-0e0a-4a6a-82e0-f1c2c5c971d2"
    },
    {
      "cell_type": "code",
      "execution_count": null,
      "metadata": {},
      "outputs": [],
      "source": [
        "CODE"
      ],
      "id": "2ffc2bcf-2acf-40ca-817d-6de1eddeae4f"
    },
    {
      "cell_type": "markdown",
      "metadata": {},
      "source": [
        "This tells us on average how far off percentage wise the prediction is\n",
        "from the actual (using the actual as base)\n",
        "\n",
        "### Root Mean Square Error (RMSE)\n",
        "\n",
        "This is an error measure that involves averaging the squares of the\n",
        "errors and then taking a square root:"
      ],
      "id": "9cff1de9-ba12-4388-919b-ecceb7aee30f"
    },
    {
      "cell_type": "code",
      "execution_count": null,
      "metadata": {},
      "outputs": [],
      "source": [
        "CODE"
      ],
      "id": "9b7cc42f-379a-4fc9-8287-ed1d1fea1a36"
    },
    {
      "cell_type": "markdown",
      "metadata": {},
      "source": [
        "This gives us a typical size of an error or distance away the set of\n",
        "predictions is from the actual. This error has the property of that it\n",
        "penalizes large errors more.\n",
        "\n",
        "So for example if being off by 10 is more than twice as bad as being off\n",
        "by 5, use the RMSE. If being off by 10 is just twice as bad as being off\n",
        "by 5, then use MAE.\n",
        "\n",
        "## Computing Errors for Model 2\n",
        "\n",
        "Now suppose we have a new model with these predictions:\n",
        "\n",
        "| actuals | prediction |\n",
        "|---------|------------|\n",
        "| 11      | 13         |\n",
        "| 27      | 24         |\n",
        "| 30      | 31         |\n",
        "| 13      | 19         |\n",
        "| 25      | 22         |"
      ],
      "id": "116d38f5-5a0d-458b-b1c2-01a0143f4c38"
    },
    {
      "cell_type": "code",
      "execution_count": null,
      "metadata": {},
      "outputs": [],
      "source": [
        "CODE"
      ],
      "id": "a98f8e45-fd61-49c8-b238-10b1f4f5fbbc"
    },
    {
      "cell_type": "markdown",
      "metadata": {},
      "source": [
        "How does this compare to the previous model?\n",
        "\n",
        "### Mean Absolute Error (MAE)"
      ],
      "id": "8fab2915-a5c9-494e-bce9-be2095f95462"
    },
    {
      "cell_type": "code",
      "execution_count": null,
      "metadata": {},
      "outputs": [],
      "source": [
        "CODE"
      ],
      "id": "cf21168f-e5ac-4bd3-adce-7fc4b04ee146"
    },
    {
      "cell_type": "markdown",
      "metadata": {},
      "source": [
        "### Mean Absolute Percentage Error (MAPE)"
      ],
      "id": "f0e53ce1-e468-49aa-be38-a30c5f170686"
    },
    {
      "cell_type": "code",
      "execution_count": null,
      "metadata": {},
      "outputs": [],
      "source": [
        "CODE"
      ],
      "id": "828f400a-b3ba-492e-8010-2fbab8ca18d4"
    },
    {
      "cell_type": "markdown",
      "metadata": {},
      "source": [
        "### Root Mean Square Error (RMSE)"
      ],
      "id": "f2ef8a10-fbe5-453b-a4a3-95a4877f7244"
    },
    {
      "cell_type": "code",
      "execution_count": null,
      "metadata": {},
      "outputs": [],
      "source": [
        "CODE"
      ],
      "id": "86b4374b-9b2b-4367-9d5e-d0016e871f7b"
    },
    {
      "cell_type": "markdown",
      "metadata": {},
      "source": [
        "This model does not do as good a job as our previous model. All three\n",
        "errors are bigger than those for the first model.\n",
        "\n",
        "So we would conclude that this model is less accurate than the previous\n",
        "one, at least on this test set."
      ],
      "id": "39819b26-e050-4a26-80d7-75cee401815d"
    }
  ],
  "nbformat": 4,
  "nbformat_minor": 5,
  "metadata": {
    "kernelspec": {
      "name": "ir",
      "display_name": "R",
      "language": "R"
    }
  }
}