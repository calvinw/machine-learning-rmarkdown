{
  "cells": [
    {
      "cell_type": "markdown",
      "metadata": {},
      "source": [
        "# R Exercises\n",
        "\n",
        "Define a variable `x` and give it the value 24:"
      ],
      "id": "c498ddf1-3efc-467c-b3c2-e86d807ddc62"
    },
    {
      "cell_type": "code",
      "execution_count": null,
      "metadata": {},
      "outputs": [],
      "source": [
        "PUT CODE HERE"
      ],
      "id": "0cd8e0c4-d54c-468b-9922-3e75d094b95c"
    },
    {
      "cell_type": "code",
      "execution_count": null,
      "metadata": {},
      "outputs": [
        {
          "output_type": "stream",
          "name": "stdout",
          "text": [
            "[1] 24"
          ]
        }
      ],
      "source": [
        "x<-24\n",
        "x"
      ],
      "id": "a5cc8687-c539-4d17-bf88-bf699f7164af"
    },
    {
      "cell_type": "markdown",
      "metadata": {},
      "source": [
        "Define a variable `y` that is equal to `x + 5`"
      ],
      "id": "49f8864c-1b50-476c-8fd9-4fb0a18da760"
    },
    {
      "cell_type": "code",
      "execution_count": null,
      "metadata": {},
      "outputs": [],
      "source": [
        "PUT CODE HERE"
      ],
      "id": "e9aca22e-fa0f-44bb-a291-7c48b288daf8"
    },
    {
      "cell_type": "code",
      "execution_count": null,
      "metadata": {},
      "outputs": [
        {
          "output_type": "stream",
          "name": "stdout",
          "text": [
            "[1] 29"
          ]
        }
      ],
      "source": [
        "y<-x+5\n",
        "y"
      ],
      "id": "b97420f3-308a-4290-85e5-61c387a1cc80"
    },
    {
      "cell_type": "markdown",
      "metadata": {},
      "source": [
        "Define a vector `w` that has three strings in it: “fee”, “fi”, “fum”"
      ],
      "id": "1d366559-fbdd-480b-b272-e977f7c33790"
    },
    {
      "cell_type": "code",
      "execution_count": null,
      "metadata": {},
      "outputs": [],
      "source": [
        "PUT CODE HERE"
      ],
      "id": "e5c4e7be-1299-4141-9b02-9547872b55db"
    },
    {
      "cell_type": "code",
      "execution_count": null,
      "metadata": {},
      "outputs": [
        {
          "output_type": "stream",
          "name": "stdout",
          "text": [
            "[1] \"fee\" \"fi\"  \"fum\""
          ]
        }
      ],
      "source": [
        "w<-c(\"fee\",\"fi\",\"fum\")\n",
        "w"
      ],
      "id": "f3a5eeea-575c-4454-a00c-4584efc61149"
    },
    {
      "cell_type": "markdown",
      "metadata": {},
      "source": [
        "Change the 2nd entry of `w` to “foo” instead of “fi”."
      ],
      "id": "a63c713d-98be-40e9-b32e-90b61efe8782"
    },
    {
      "cell_type": "code",
      "execution_count": null,
      "metadata": {},
      "outputs": [],
      "source": [
        "PUT CODE HERE"
      ],
      "id": "fbb5d690-4576-4dae-b5b8-ffefb76507a3"
    },
    {
      "cell_type": "code",
      "execution_count": null,
      "metadata": {},
      "outputs": [
        {
          "output_type": "stream",
          "name": "stdout",
          "text": [
            "[1] \"fee\" \"foo\" \"fum\""
          ]
        }
      ],
      "source": [
        "w[2] = \"foo\"\n",
        "w"
      ],
      "id": "6ff6a8ba-eb9d-430e-81bc-0168789b3ed1"
    },
    {
      "cell_type": "markdown",
      "metadata": {},
      "source": [
        "Define a new vector `k` by subsetting `w` with the selection vector\n",
        "`c(1,3)`."
      ],
      "id": "0126937d-8897-478a-8f1d-d0fa94ddc9e9"
    },
    {
      "cell_type": "code",
      "execution_count": null,
      "metadata": {},
      "outputs": [],
      "source": [
        "PUT CODE HERE"
      ],
      "id": "9c364e3c-711a-4296-bd34-e68b984db601"
    },
    {
      "cell_type": "code",
      "execution_count": null,
      "metadata": {},
      "outputs": [
        {
          "output_type": "stream",
          "name": "stdout",
          "text": [
            "[1] \"fee\" \"fum\""
          ]
        }
      ],
      "source": [
        "k<-w[c(1,3)]\n",
        "k"
      ],
      "id": "700b99af-a627-49b1-ada0-45fff2976f18"
    },
    {
      "cell_type": "markdown",
      "metadata": {},
      "source": [
        "Print out the length of `k` now after the subsetting"
      ],
      "id": "dc7a475d-a435-4653-b95e-558a85b72187"
    },
    {
      "cell_type": "code",
      "execution_count": null,
      "metadata": {},
      "outputs": [],
      "source": [
        "PUT CODE HERE"
      ],
      "id": "2317046e-3c7a-4c20-8ac3-a8f8a2f8638f"
    },
    {
      "cell_type": "code",
      "execution_count": null,
      "metadata": {},
      "outputs": [
        {
          "output_type": "stream",
          "name": "stdout",
          "text": [
            "[1] 2"
          ]
        }
      ],
      "source": [
        "length(k)"
      ],
      "id": "3ab5869c-bb05-4d77-bbe9-ac2b7129a55e"
    },
    {
      "cell_type": "markdown",
      "metadata": {},
      "source": [
        "Define a vector `v` that has elements: 10, 8, 3, 13, 24, 9, 3, 6, 7, 3"
      ],
      "id": "3482201e-e299-454f-a369-0d32fd4bfe6d"
    },
    {
      "cell_type": "code",
      "execution_count": null,
      "metadata": {},
      "outputs": [],
      "source": [
        "PUT CODE HERE"
      ],
      "id": "667151cc-959e-4247-9766-00206cc0e4a8"
    },
    {
      "cell_type": "code",
      "execution_count": null,
      "metadata": {},
      "outputs": [
        {
          "output_type": "stream",
          "name": "stdout",
          "text": [
            " [1] 10  8  3 13 24  9  3  6  7  3"
          ]
        }
      ],
      "source": [
        "v<-c(10, 8, 3, 13, 24, 9, 3, 6, 7, 3)\n",
        "v"
      ],
      "id": "d277e09d-a549-43bd-a0ae-1f0f2a43b231"
    },
    {
      "cell_type": "markdown",
      "metadata": {},
      "source": [
        "Use subsetting to define a new vector `z` that only has entries that are\n",
        "bigger than 9:"
      ],
      "id": "4b164932-c6e6-4a6f-96b8-23e7e11f6c98"
    },
    {
      "cell_type": "code",
      "execution_count": null,
      "metadata": {},
      "outputs": [],
      "source": [
        "PUT CODE HERE"
      ],
      "id": "1babbabf-fa9e-4d68-9e34-5fc950497d71"
    },
    {
      "cell_type": "code",
      "execution_count": null,
      "metadata": {},
      "outputs": [
        {
          "output_type": "stream",
          "name": "stdout",
          "text": [
            "[1] 10 13 24"
          ]
        }
      ],
      "source": [
        "z<-v[v>9]\n",
        "z"
      ],
      "id": "c2f221ca-0df2-42e1-badc-c61d36f9a985"
    },
    {
      "cell_type": "markdown",
      "metadata": {},
      "source": [
        "Define two vectors called `id` and `age`.\n",
        "\n",
        "In the `id` vector put 1001,1002,1003,1004,1005\n",
        "\n",
        "In the `age` vector put 18,16,26,15,22"
      ],
      "id": "c9b61161-cbca-4bf0-91fe-a0a1eaa62f8d"
    },
    {
      "cell_type": "code",
      "execution_count": null,
      "metadata": {},
      "outputs": [],
      "source": [
        "PUT CODE HERE"
      ],
      "id": "33c89d6a-0de9-4af2-8310-c1de7b9fa06a"
    },
    {
      "cell_type": "code",
      "execution_count": null,
      "metadata": {},
      "outputs": [
        {
          "output_type": "stream",
          "name": "stdout",
          "text": [
            "[1] 1001 1002 1003 1004 1005"
          ]
        },
        {
          "output_type": "stream",
          "name": "stdout",
          "text": [
            "[1] 18 16 26 15 22"
          ]
        }
      ],
      "source": [
        "id<-c(1001,1002,1003,1004,1005)\n",
        "age<-c(18,16,26,15,22)\n",
        "id"
      ],
      "id": "d3559831-3b24-4c83-ae2d-d430a28f74d1"
    },
    {
      "cell_type": "markdown",
      "metadata": {},
      "source": [
        "Use subsetting to find the ids that have ages that are bigger than 17"
      ],
      "id": "38495c00-121f-4d11-a2d0-f84be6fcc2f4"
    },
    {
      "cell_type": "code",
      "execution_count": null,
      "metadata": {},
      "outputs": [],
      "source": [
        "PUT CODE HERE"
      ],
      "id": "43cb6c1f-721a-45ff-922e-73101fe4f239"
    },
    {
      "cell_type": "code",
      "execution_count": null,
      "metadata": {},
      "outputs": [
        {
          "output_type": "stream",
          "name": "stdout",
          "text": [
            "[1] 1001 1003 1005"
          ]
        }
      ],
      "source": [
        "newIds<-id[age>17]\n",
        "newIds"
      ],
      "id": "2cefc72e-55c3-4a4b-9861-4735734eaba3"
    },
    {
      "cell_type": "markdown",
      "metadata": {},
      "source": [
        "For the following data:\n",
        "\n",
        "| custId | gender | spend |\n",
        "|--------|--------|-------|\n",
        "| 3203   | M      | 1200  |\n",
        "| 3209   | F      | 963   |\n",
        "| 3289   | M      | 356   |\n",
        "| 3256   | F      | 567   |\n",
        "\n",
        "Define a data frame with these columns:"
      ],
      "id": "77092ceb-d904-498a-9a11-acc3286a27cf"
    },
    {
      "cell_type": "code",
      "execution_count": null,
      "metadata": {},
      "outputs": [],
      "source": [
        "PUT CODE HERE"
      ],
      "id": "29b32d34-a394-488c-b5bd-797042da0d15"
    },
    {
      "cell_type": "code",
      "execution_count": null,
      "metadata": {},
      "outputs": [
        {
          "output_type": "stream",
          "name": "stdout",
          "text": [
            "  custId gender spend\n",
            "1   3203      M  1200\n",
            "2   3209      F   963\n",
            "3   3289      M   356\n",
            "4   3256      F   567"
          ]
        }
      ],
      "source": [
        "custId = c(3203, 3209, 3289, 3256)\n",
        "gender = c(\"M\", \"F\", \"M\", \"F\")\n",
        "spend<-c(1200, 963, 356, 567)\n",
        "df<-data.frame(custId, gender, spend)\n",
        "df"
      ],
      "id": "b3e96454-d5c4-4951-901a-dd63154f0c45"
    },
    {
      "cell_type": "markdown",
      "metadata": {},
      "source": [
        "For Customer 3289, use index(es) to change the spend amount to 415."
      ],
      "id": "44e21af5-6c21-4f24-8a1c-0a614a979340"
    },
    {
      "cell_type": "code",
      "execution_count": null,
      "metadata": {},
      "outputs": [],
      "source": [
        "PUT CODE HERE"
      ],
      "id": "c61eef05-aae6-44d3-b218-40cc02a16539"
    },
    {
      "cell_type": "code",
      "execution_count": null,
      "metadata": {},
      "outputs": [
        {
          "output_type": "stream",
          "name": "stdout",
          "text": [
            "  custId gender spend\n",
            "1   3203      M  1200\n",
            "2   3209      F   963\n",
            "3   3289      M   415\n",
            "4   3256      F   567"
          ]
        }
      ],
      "source": [
        "df[3,3] = 415\n",
        "df"
      ],
      "id": "f00ffce8-e4e6-43e4-9b99-7f52c96b3a33"
    },
    {
      "cell_type": "markdown",
      "metadata": {},
      "source": [
        "Print out just the `spend` column using the \\$ sign:"
      ],
      "id": "99002537-b0f2-4065-9d60-7099ec81c1d9"
    },
    {
      "cell_type": "code",
      "execution_count": null,
      "metadata": {},
      "outputs": [],
      "source": [
        "PUT CODE HERE"
      ],
      "id": "77b7e892-dfe9-4d2b-8d83-a08b32b34117"
    },
    {
      "cell_type": "code",
      "execution_count": null,
      "metadata": {},
      "outputs": [
        {
          "output_type": "stream",
          "name": "stdout",
          "text": [
            "[1] 1200  963  415  567"
          ]
        }
      ],
      "source": [
        "df$spend"
      ],
      "id": "1939b88b-ec30-48be-8925-2a276e4bc7b1"
    },
    {
      "cell_type": "markdown",
      "metadata": {},
      "source": [
        "Remove the Spend column and replace it with a new column called\n",
        "`discount`:\n",
        "\n",
        "| discount |\n",
        "|----------|\n",
        "| 200      |\n",
        "| 100      |\n",
        "| 145      |\n",
        "| 200      |"
      ],
      "id": "f48746d7-adbe-4a5f-8010-6a251d62dca0"
    },
    {
      "cell_type": "code",
      "execution_count": null,
      "metadata": {},
      "outputs": [],
      "source": [
        "PUT CODE HERE"
      ],
      "id": "7d87b206-aa48-47cd-9bb3-c9891e41d0e6"
    },
    {
      "cell_type": "code",
      "execution_count": null,
      "metadata": {},
      "outputs": [
        {
          "output_type": "stream",
          "name": "stdout",
          "text": [
            "  custId gender discount\n",
            "1   3203      M      200\n",
            "2   3209      F      100\n",
            "3   3289      M      145\n",
            "4   3256      F      200"
          ]
        }
      ],
      "source": [
        "df$spend <- NULL\n",
        "df$discount <- c(200,100,145,200)\n",
        "df"
      ],
      "id": "a63d1857-9425-4fa4-83f6-459687fec7d2"
    }
  ],
  "nbformat": 4,
  "nbformat_minor": 5,
  "metadata": {
    "kernelspec": {
      "name": "ir",
      "display_name": "R",
      "language": "R"
    }
  }
}