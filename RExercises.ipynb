{
  "cells": [
    {
      "cell_type": "markdown",
      "metadata": {},
      "source": [
        "# R Exercises\n",
        "\n",
        "Define a variable `x` and give it the value 24:"
      ],
      "id": "1f6346e2-f6dc-4e48-b772-a5ddb1beaf17"
    },
    {
      "cell_type": "code",
      "execution_count": null,
      "metadata": {},
      "outputs": [],
      "source": [
        "PUT CODE HERE"
      ],
      "id": "11fa1c3e-e95d-4efd-8e97-5a70ef0287a2"
    },
    {
      "cell_type": "code",
      "execution_count": null,
      "metadata": {},
      "outputs": [
        {
          "output_type": "stream",
          "name": "stdout",
          "text": [
            "[1] 24"
          ]
        }
      ],
      "source": [
        "x<-24\n",
        "x"
      ],
      "id": "66f971a3-8ec7-4c89-bcaa-617787948b04"
    },
    {
      "cell_type": "markdown",
      "metadata": {},
      "source": [
        "Define a variable `y` that is equal to `x + 5`"
      ],
      "id": "d4bef6c2-25ed-4b3d-9d8f-c12bd8a2f4c1"
    },
    {
      "cell_type": "code",
      "execution_count": null,
      "metadata": {},
      "outputs": [],
      "source": [
        "PUT CODE HERE"
      ],
      "id": "9e24000b-fec5-4e7a-beac-fa81bafc6d8b"
    },
    {
      "cell_type": "code",
      "execution_count": null,
      "metadata": {},
      "outputs": [
        {
          "output_type": "stream",
          "name": "stdout",
          "text": [
            "[1] 29"
          ]
        }
      ],
      "source": [
        "y<-x+5\n",
        "y"
      ],
      "id": "249481f9-5498-44fb-9a0e-468b630331c6"
    },
    {
      "cell_type": "markdown",
      "metadata": {},
      "source": [
        "Define a vector `w` that has three strings in it: “fee”, “fi”, “fum”"
      ],
      "id": "4596f478-34f1-4686-8458-72563c0e20d5"
    },
    {
      "cell_type": "code",
      "execution_count": null,
      "metadata": {},
      "outputs": [],
      "source": [
        "PUT CODE HERE"
      ],
      "id": "378e38e3-0c88-4315-a414-c635cfffb75a"
    },
    {
      "cell_type": "code",
      "execution_count": null,
      "metadata": {},
      "outputs": [
        {
          "output_type": "stream",
          "name": "stdout",
          "text": [
            "[1] \"fee\" \"fi\"  \"fum\""
          ]
        }
      ],
      "source": [
        "w<-c(\"fee\",\"fi\",\"fum\")\n",
        "w"
      ],
      "id": "6df5d7a8-1ce7-4533-9e7f-0434d2214a34"
    },
    {
      "cell_type": "markdown",
      "metadata": {},
      "source": [
        "Change the 2nd entry of `w` to “foo” instead of “fi”."
      ],
      "id": "90bec589-0019-465e-98c6-66765a8ec421"
    },
    {
      "cell_type": "code",
      "execution_count": null,
      "metadata": {},
      "outputs": [],
      "source": [
        "PUT CODE HERE"
      ],
      "id": "37647c9e-09e8-4c1f-8d7c-068aab4f54d7"
    },
    {
      "cell_type": "code",
      "execution_count": null,
      "metadata": {},
      "outputs": [
        {
          "output_type": "stream",
          "name": "stdout",
          "text": [
            "[1] \"fee\" \"foo\" \"fum\""
          ]
        }
      ],
      "source": [
        "w[2] = \"foo\"\n",
        "w"
      ],
      "id": "fe70c17a-0f22-48de-81b2-e021e2de476d"
    },
    {
      "cell_type": "markdown",
      "metadata": {},
      "source": [
        "Define a new vector `k` by subsetting `w` with the selection vector\n",
        "`c(1,3)`."
      ],
      "id": "5ba6a2a9-9b5e-4107-9dd0-6d3ae8d00e98"
    },
    {
      "cell_type": "code",
      "execution_count": null,
      "metadata": {},
      "outputs": [],
      "source": [
        "PUT CODE HERE"
      ],
      "id": "84aa453b-0687-4945-bc61-13f3f2f332a9"
    },
    {
      "cell_type": "code",
      "execution_count": null,
      "metadata": {},
      "outputs": [
        {
          "output_type": "stream",
          "name": "stdout",
          "text": [
            "[1] \"fee\" \"fum\""
          ]
        }
      ],
      "source": [
        "k<-w[c(1,3)]\n",
        "k"
      ],
      "id": "f2defb9b-c8dc-4592-8b23-fdc78c810973"
    },
    {
      "cell_type": "markdown",
      "metadata": {},
      "source": [
        "Print out the length of `k` now after the subsetting"
      ],
      "id": "0325f03d-984d-452f-a5d4-d15ce53316fc"
    },
    {
      "cell_type": "code",
      "execution_count": null,
      "metadata": {},
      "outputs": [],
      "source": [
        "PUT CODE HERE"
      ],
      "id": "c21c2786-3a83-4aba-9618-2e6f05941372"
    },
    {
      "cell_type": "code",
      "execution_count": null,
      "metadata": {},
      "outputs": [
        {
          "output_type": "stream",
          "name": "stdout",
          "text": [
            "[1] 2"
          ]
        }
      ],
      "source": [
        "length(k)"
      ],
      "id": "21050afa-d6d5-4b78-8f04-88d4abbad89b"
    },
    {
      "cell_type": "markdown",
      "metadata": {},
      "source": [
        "Define a vector `v` that has elements: 10, 8, 3, 13, 24, 9, 3, 6, 7, 3"
      ],
      "id": "8b2e8f32-b7cc-4787-80fe-580126daeb67"
    },
    {
      "cell_type": "code",
      "execution_count": null,
      "metadata": {},
      "outputs": [],
      "source": [
        "PUT CODE HERE"
      ],
      "id": "730593fc-05b2-494e-b1b6-784ca2edc32a"
    },
    {
      "cell_type": "code",
      "execution_count": null,
      "metadata": {},
      "outputs": [
        {
          "output_type": "stream",
          "name": "stdout",
          "text": [
            " [1] 10  8  3 13 24  9  3  6  7  3"
          ]
        }
      ],
      "source": [
        "v<-c(10, 8, 3, 13, 24, 9, 3, 6, 7, 3)\n",
        "v"
      ],
      "id": "b1330bc4-67c0-4813-8c89-7317c656da4a"
    },
    {
      "cell_type": "markdown",
      "metadata": {},
      "source": [
        "Use subsetting to define a new vector `z` that only has entries that are\n",
        "bigger than 9:"
      ],
      "id": "38b760e9-9035-4499-9d1d-af595cd7c52a"
    },
    {
      "cell_type": "code",
      "execution_count": null,
      "metadata": {},
      "outputs": [],
      "source": [
        "PUT CODE HERE"
      ],
      "id": "72a42582-6265-4dfa-b12d-98f81a3beb44"
    },
    {
      "cell_type": "code",
      "execution_count": null,
      "metadata": {},
      "outputs": [
        {
          "output_type": "stream",
          "name": "stdout",
          "text": [
            "[1] 10 13 24"
          ]
        }
      ],
      "source": [
        "z<-v[v>9]\n",
        "z"
      ],
      "id": "043fa36e-c7a7-4b55-8186-59203f8e3cc7"
    },
    {
      "cell_type": "markdown",
      "metadata": {},
      "source": [
        "Define two vectors called `id` and `age`.\n",
        "\n",
        "In the `id` vector put 1001,1002,1003,1004,1005\n",
        "\n",
        "In the `age` vector put 18,16,26,15,22"
      ],
      "id": "cc0ad375-c1cd-477f-b2cf-d73a1909df00"
    },
    {
      "cell_type": "code",
      "execution_count": null,
      "metadata": {},
      "outputs": [],
      "source": [
        "PUT CODE HERE"
      ],
      "id": "47c47cc7-f168-494a-a540-b83348ae0d09"
    },
    {
      "cell_type": "code",
      "execution_count": null,
      "metadata": {},
      "outputs": [
        {
          "output_type": "stream",
          "name": "stdout",
          "text": [
            "[1] 1001 1002 1003 1004 1005"
          ]
        },
        {
          "output_type": "stream",
          "name": "stdout",
          "text": [
            "[1] 18 16 26 15 22"
          ]
        }
      ],
      "source": [
        "id<-c(1001,1002,1003,1004,1005)\n",
        "age<-c(18,16,26,15,22)\n",
        "id"
      ],
      "id": "3f039a0d-2f87-4e0a-b3c7-506a7302fb98"
    },
    {
      "cell_type": "markdown",
      "metadata": {},
      "source": [
        "Use subsetting to find the ids that have ages that are bigger than 17"
      ],
      "id": "e8207243-2a32-48e3-bec4-bb098ac949a6"
    },
    {
      "cell_type": "code",
      "execution_count": null,
      "metadata": {},
      "outputs": [],
      "source": [
        "PUT CODE HERE"
      ],
      "id": "0b7b27ef-68f9-4844-a674-63cd22f558f6"
    },
    {
      "cell_type": "code",
      "execution_count": null,
      "metadata": {},
      "outputs": [
        {
          "output_type": "stream",
          "name": "stdout",
          "text": [
            "[1] 1001 1003 1005"
          ]
        }
      ],
      "source": [
        "newIds<-id[age>17]\n",
        "newIds"
      ],
      "id": "f9821ee5-7597-496e-aeff-8ac9a6aecda9"
    },
    {
      "cell_type": "markdown",
      "metadata": {},
      "source": [
        "For the following data:\n",
        "\n",
        "| custId | gender | spend |\n",
        "|--------|--------|-------|\n",
        "| 3203   | M      | 1200  |\n",
        "| 3209   | F      | 963   |\n",
        "| 3289   | M      | 356   |\n",
        "| 3256   | F      | 567   |\n",
        "\n",
        "Define a data frame with these columns:"
      ],
      "id": "1f36e599-5166-44e3-94a4-232e556b11d8"
    },
    {
      "cell_type": "code",
      "execution_count": null,
      "metadata": {},
      "outputs": [],
      "source": [
        "PUT CODE HERE"
      ],
      "id": "bd253683-3e5d-4c48-a2d0-76a4226cb4d7"
    },
    {
      "cell_type": "code",
      "execution_count": null,
      "metadata": {},
      "outputs": [
        {
          "output_type": "stream",
          "name": "stdout",
          "text": [
            "  custId gender spend\n",
            "1   3203      M  1200\n",
            "2   3209      F   963\n",
            "3   3289      M   356\n",
            "4   3256      F   567"
          ]
        }
      ],
      "source": [
        "custId = c(3203, 3209, 3289, 3256)\n",
        "gender = c(\"M\", \"F\", \"M\", \"F\")\n",
        "spend<-c(1200, 963, 356, 567)\n",
        "df<-data.frame(custId, gender, spend)\n",
        "df"
      ],
      "id": "90494043-ba8d-490e-afac-f40f4b8e6bc6"
    },
    {
      "cell_type": "markdown",
      "metadata": {},
      "source": [
        "For Customer 3289, use index(es) to change the spend amount to 415."
      ],
      "id": "be4af565-b8c1-4af4-b527-d0f304c346f1"
    },
    {
      "cell_type": "code",
      "execution_count": null,
      "metadata": {},
      "outputs": [],
      "source": [
        "PUT CODE HERE"
      ],
      "id": "fd4c9905-96e7-4651-957c-7d13e0d38003"
    },
    {
      "cell_type": "code",
      "execution_count": null,
      "metadata": {},
      "outputs": [
        {
          "output_type": "stream",
          "name": "stdout",
          "text": [
            "  custId gender spend\n",
            "1   3203      M  1200\n",
            "2   3209      F   963\n",
            "3   3289      M   415\n",
            "4   3256      F   567"
          ]
        }
      ],
      "source": [
        "df[3,3] = 415\n",
        "df"
      ],
      "id": "c8c09161-5f39-43a3-8ba9-b2edffb43222"
    },
    {
      "cell_type": "markdown",
      "metadata": {},
      "source": [
        "Print out just the `spend` column using the \\$ sign:"
      ],
      "id": "e216cca2-6f06-4899-95c3-2c777a671e7a"
    },
    {
      "cell_type": "code",
      "execution_count": null,
      "metadata": {},
      "outputs": [],
      "source": [
        "PUT CODE HERE"
      ],
      "id": "947096a6-03be-48dc-918e-b51fdbbe84ed"
    },
    {
      "cell_type": "code",
      "execution_count": null,
      "metadata": {},
      "outputs": [
        {
          "output_type": "stream",
          "name": "stdout",
          "text": [
            "[1] 1200  963  415  567"
          ]
        }
      ],
      "source": [
        "df$spend"
      ],
      "id": "3f50b8c5-decb-4b3b-b125-6f1a3aaa87a1"
    },
    {
      "cell_type": "markdown",
      "metadata": {},
      "source": [
        "Remove the Spend column and replace it with a new column called\n",
        "`discount`:\n",
        "\n",
        "| discount |\n",
        "|----------|\n",
        "| 200      |\n",
        "| 100      |\n",
        "| 145      |\n",
        "| 200      |"
      ],
      "id": "c94c58c8-7ce4-4044-bc80-6bd6df27c5d4"
    },
    {
      "cell_type": "code",
      "execution_count": null,
      "metadata": {},
      "outputs": [],
      "source": [
        "PUT CODE HERE"
      ],
      "id": "5eb8582e-c26a-4cc1-acd7-e4dfd0c67cd6"
    },
    {
      "cell_type": "code",
      "execution_count": null,
      "metadata": {},
      "outputs": [
        {
          "output_type": "stream",
          "name": "stdout",
          "text": [
            "  custId gender discount\n",
            "1   3203      M      200\n",
            "2   3209      F      100\n",
            "3   3289      M      145\n",
            "4   3256      F      200"
          ]
        }
      ],
      "source": [
        "df$spend <- NULL\n",
        "df$discount <- c(200,100,145,200)\n",
        "df"
      ],
      "id": "a814445b-c26e-4a63-ae1d-934c295fb241"
    }
  ],
  "nbformat": 4,
  "nbformat_minor": 5,
  "metadata": {
    "kernelspec": {
      "name": "ir",
      "display_name": "R",
      "language": "R"
    }
  }
}