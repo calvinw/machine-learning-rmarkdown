{
 "cells": [
  {
   "cell_type": "code",
   "execution_count": null,
   "metadata": {},
   "outputs": [],
   "source": [
    "options(\"scipen\"=100, \"digits\"=4)\n",
    "if(!require(\"readr\")) install.packages(\"readr\")\n",
    "if(!require(\"rpart\")) install.packages(\"rpart\")\n",
    "if(!require(\"rpart.plot\")) install.packages(\"rpart.plot\")\n",
    "if(!require(\"Metrics\")) install.packages(\"Metrics\")\n",
    "library(\"readr\")\n",
    "library(\"rpart\")\n",
    "library(\"rpart.plot\")\n",
    "library(\"Metrics\")"
   ]
  },
  {
   "cell_type": "markdown",
   "metadata": {},
   "source": [
    "This example is taken from the book [Segmentation, Revenue Management\n",
    "and Pricing\n",
    "Analytics](https://www.amazon.com/Segmentation-Revenue-Management-Pricing-Analytics/dp/0415898331)\n",
    "by Tudor Bodea and Mark Ferguson\n",
    "\n",
    "We have worked with this data before, but this time we use a regression\n",
    "tree using a decision tree.\n",
    "\n",
    "Read in the data from here:"
   ]
  },
  {
   "cell_type": "code",
   "execution_count": null,
   "metadata": {},
   "outputs": [],
   "source": [
    "url<- \"https://docs.google.com/spreadsheets/d/e/2PACX-1vS2Z4rEXAoVmrunY3BLJ5AX-ZH76U8bHpCCOu8mzziWK1X6WnJJiC2RmrWrLffGUxo9dCZD0HW1n15T/pub?gid=1471239210&single=true&output=csv\"\n",
    "traindf<-read.csv(url)"
   ]
  },
  {
   "cell_type": "markdown",
   "metadata": {},
   "source": [
    "This is the demand for 26 weeks of staple item like denim jeans. For\n",
    "this item there were various kinds of promotions. We would like to\n",
    "understand the effect of these promotions on the demand.\n",
    "\n",
    "Here is the structure of the dataframe"
   ]
  },
  {
   "cell_type": "code",
   "execution_count": null,
   "metadata": {},
   "outputs": [],
   "source": [
    "str(traindf)"
   ]
  },
  {
   "cell_type": "markdown",
   "metadata": {},
   "source": [
    "To start there were two different markdown promotions:\n",
    "\n",
    "-   p114 in the data stands for a 15% off promotion\n",
    "-   p101 in the data stands for a 25% off promotion\n",
    "\n",
    "`p114` means the price was set to 114.75 dollars for the week. This is\n",
    "15% of the retail price of 135 dollars. `p101` means the price was set\n",
    "to 101.25 dollars for the week. This is 25% off.\n",
    "\n",
    "In addition to that there were special event promotions on holidays.\n",
    "Some dates had both markdowns and special event promotions together. In\n",
    "two weeks there were markdown promotions without special events (week 10\n",
    "and 24):"
   ]
  },
  {
   "cell_type": "code",
   "execution_count": null,
   "metadata": {},
   "outputs": [],
   "source": [
    "traindf"
   ]
  },
  {
   "cell_type": "markdown",
   "metadata": {},
   "source": [
    "Lets take a look at the demand over time for the 26 weeks:"
   ]
  },
  {
   "cell_type": "code",
   "execution_count": null,
   "metadata": {},
   "outputs": [],
   "source": [
    "plot(traindf$week, traindf$demand, main=\"Demand for 26 Weeks\", xlab=\"Week\", ylab=\"Demand\", type=\"l\")\n",
    "points(traindf$week, traindf$demand, pch=19)"
   ]
  },
  {
   "cell_type": "markdown",
   "metadata": {},
   "source": [
    "Clearly you can see the effects of the markdowns and the special event\n",
    "promotions.\n",
    "\n",
    "Run a regression tree analysis (using the `rpart` function) like in the\n",
    "BicycleRentals notebook from last weeks lectures:\n",
    "\n",
    "Note use the model `demand~p114+p101+specialEvents` in your rpart\n",
    "function:"
   ]
  },
  {
   "cell_type": "code",
   "execution_count": null,
   "metadata": {},
   "outputs": [],
   "source": [
    "control <- rpart.control(minbucket=1)\n",
    "# Fill this in below using the rpart function (see BicycleRentals example) \n",
    "model <-  PUT CODE HERE \n",
    "rpart.plot(model, type=4, extra=101)"
   ]
  },
  {
   "cell_type": "markdown",
   "metadata": {},
   "source": [
    "Now use your tree to make predictions for each of the following: (just\n",
    "follow the tree from the top and see what the prediction is for each of\n",
    "these situations:\n",
    "\n",
    "1.  15% markdown and no special event (p114=1, p101=0,specialEvents=0)\n",
    "2.  25% markdown and no special event (p114=0, p101=1,specialEvents=0)\n",
    "3.  15% markdown and a special event (p114=1, p101=0,specialEvents=1)\n",
    "4.  25% markdown and a special event (p114=0, p101=1,specialEvents=1)\n",
    "\n",
    "Now lets look at the actual demand for the next few weeks (27-33). We\n",
    "will use this as our testing data and see how good our model is:\n",
    "\n",
    "First lets read in the testing data:"
   ]
  },
  {
   "cell_type": "code",
   "execution_count": null,
   "metadata": {},
   "outputs": [],
   "source": [
    "testurl<- \"https://docs.google.com/spreadsheets/d/e/2PACX-1vS2Z4rEXAoVmrunY3BLJ5AX-ZH76U8bHpCCOu8mzziWK1X6WnJJiC2RmrWrLffGUxo9dCZD0HW1n15T/pub?gid=715128008&single=true&output=csv\"\n",
    "testdf<-read.csv(testurl, stringsAsFactors=TRUE)\n",
    "str(testdf)"
   ]
  },
  {
   "cell_type": "markdown",
   "metadata": {},
   "source": [
    "Lets take a look at it:"
   ]
  },
  {
   "cell_type": "code",
   "execution_count": null,
   "metadata": {},
   "outputs": [],
   "source": [
    "testdf"
   ]
  },
  {
   "cell_type": "markdown",
   "metadata": {},
   "source": [
    "Now lets do a prediction using our model from above:"
   ]
  },
  {
   "cell_type": "code",
   "execution_count": null,
   "metadata": {},
   "outputs": [],
   "source": [
    "# Fill this in below using the predict function (see BicycleRentals example) \n",
    "pred <- PUT CODE HERE "
   ]
  },
  {
   "cell_type": "markdown",
   "metadata": {},
   "source": [
    "Lets build a data frame so we can see the predictions and the actuals"
   ]
  },
  {
   "cell_type": "code",
   "execution_count": null,
   "metadata": {},
   "outputs": [],
   "source": [
    "info <- data.frame(actual=testdf$demand, predictions=pred)\n",
    "print(info)"
   ]
  },
  {
   "cell_type": "markdown",
   "metadata": {},
   "source": [
    "Lets calculate the MAPE, MAE, and RMSE"
   ]
  },
  {
   "cell_type": "code",
   "execution_count": null,
   "metadata": {},
   "outputs": [],
   "source": [
    "mape(testdf$demand,pred)\n",
    "mae(testdf$demand,pred)\n",
    "rmse(testdf$demand,pred)"
   ]
  }
 ],
 "nbformat": 4,
 "nbformat_minor": 5,
 "metadata": {
  "kernelspec": {
   "name": "ir",
   "display_name": "R",
   "language": "R"
  }
 }
}
