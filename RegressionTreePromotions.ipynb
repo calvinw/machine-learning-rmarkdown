{
  "cells": [
    {
      "cell_type": "markdown",
      "metadata": {},
      "source": [
        "# Regression Tree for Promotions"
      ],
      "id": "40b42557-976a-4c7b-8ccf-5fd9c3f3c75c"
    },
    {
      "cell_type": "code",
      "execution_count": null,
      "metadata": {},
      "outputs": [],
      "source": [
        "options(\"scipen\"=100, \"digits\"=4)\n",
        "if(!require(\"readr\")) install.packages(\"readr\")\n",
        "if(!require(\"rpart\")) install.packages(\"rpart\")\n",
        "if(!require(\"rpart.plot\")) install.packages(\"rpart.plot\")\n",
        "if(!require(\"Metrics\")) install.packages(\"Metrics\")\n",
        "library(\"readr\")\n",
        "library(\"rpart\")\n",
        "library(\"rpart.plot\")\n",
        "library(\"Metrics\")"
      ],
      "id": "4557e869-43de-4717-a4a9-b3d0f3f03d74"
    },
    {
      "cell_type": "markdown",
      "metadata": {},
      "source": [
        "This example is taken from the book [Segmentation, Revenue Management\n",
        "and Pricing\n",
        "Analytics](https://www.amazon.com/Segmentation-Revenue-Management-Pricing-Analytics/dp/0415898331)\n",
        "by Tudor Bodea and Mark Ferguson\n",
        "\n",
        "We have worked with this data before, but this time we use a regression\n",
        "tree using a decision tree.\n",
        "\n",
        "Read in the data from here:"
      ],
      "id": "53ac9111-c245-4487-8fef-18559a8a57fb"
    },
    {
      "cell_type": "code",
      "execution_count": null,
      "metadata": {},
      "outputs": [],
      "source": [
        "url<- \"https://docs.google.com/spreadsheets/d/e/2PACX-1vS2Z4rEXAoVmrunY3BLJ5AX-ZH76U8bHpCCOu8mzziWK1X6WnJJiC2RmrWrLffGUxo9dCZD0HW1n15T/pub?gid=1471239210&single=true&output=csv\"\n",
        "traindf<-read.csv(url)"
      ],
      "id": "1bb672fa-58e3-4b52-920b-ed2f64a907da"
    },
    {
      "cell_type": "markdown",
      "metadata": {},
      "source": [
        "This is the demand for 26 weeks of staple item like denim jeans. For\n",
        "this item there were various kinds of promotions. We would like to\n",
        "understand the effect of these promotions on the demand.\n",
        "\n",
        "Here is the structure of the dataframe"
      ],
      "id": "8cf9ab79-288c-4acf-8582-04a3ad2de5da"
    },
    {
      "cell_type": "code",
      "execution_count": null,
      "metadata": {},
      "outputs": [
        {
          "output_type": "stream",
          "name": "stdout",
          "text": [
            "'data.frame':   26 obs. of  7 variables:\n",
            " $ week         : int  1 2 3 4 5 6 7 8 9 10 ...\n",
            " $ price        : num  115 135 135 135 135 ...\n",
            " $ p114         : int  1 0 0 0 0 1 0 0 0 1 ...\n",
            " $ p101         : int  0 0 0 0 0 0 0 0 0 0 ...\n",
            " $ specialEvents: int  1 0 0 0 0 1 0 0 0 0 ...\n",
            " $ demand       : int  230 71 70 65 60 195 76 51 79 146 ...\n",
            " $ X            : chr  \"Pres Day\" \"\" \"\" \"\" ..."
          ]
        }
      ],
      "source": [
        "str(traindf)"
      ],
      "id": "ee2b5e07-7d7b-48dc-a248-92665da9a16e"
    },
    {
      "cell_type": "markdown",
      "metadata": {},
      "source": [
        "To start there were two different markdown promotions:\n",
        "\n",
        "-   p114 in the data stands for a 15% off promotion\n",
        "-   p101 in the data stands for a 25% off promotion\n",
        "\n",
        "`p114` means the price was set to 114.75 dollars for the week. This is\n",
        "15% of the retail price of 135 dollars. `p101` means the price was set\n",
        "to 101.25 dollars for the week. This is 25% off.\n",
        "\n",
        "In addition to that there were special event promotions on holidays.\n",
        "Some dates had both markdowns and special event promotions together. In\n",
        "two weeks there were markdown promotions without special events (week 10\n",
        "and 24):"
      ],
      "id": "d7cfdee0-bfca-4b9b-a037-06fd8ccf1a43"
    },
    {
      "cell_type": "code",
      "execution_count": null,
      "metadata": {},
      "outputs": [
        {
          "output_type": "stream",
          "name": "stdout",
          "text": [
            "   week price p114 p101 specialEvents demand           X\n",
            "1     1 114.8    1    0             1    230    Pres Day\n",
            "2     2 135.0    0    0             0     71            \n",
            "3     3 135.0    0    0             0     70            \n",
            "4     4 135.0    0    0             0     65            \n",
            "5     5 135.0    0    0             0     60            \n",
            "6     6 114.8    1    0             1    195      Easter\n",
            "7     7 135.0    0    0             0     76            \n",
            "8     8 135.0    0    0             0     51            \n",
            "9     9 135.0    0    0             0     79            \n",
            "10   10 114.8    1    0             0    146            \n",
            "11   11 135.0    0    0             0     69            \n",
            "12   12 135.0    0    0             0     52            \n",
            "13   13 135.0    0    0             0     60            \n",
            "14   14 135.0    0    0             0     50            \n",
            "15   15 101.2    0    1             1    225    Memorial\n",
            "16   16 135.0    0    0             0     46            \n",
            "17   17 135.0    0    0             0     51            \n",
            "18   18 135.0    0    0             0     50            \n",
            "19   19 135.0    0    0             0     46            \n",
            "20   20 101.2    0    1             1    253 4th of July\n",
            "21   21 135.0    0    0             0     47            \n",
            "22   22 135.0    0    0             0     59            \n",
            "23   23 135.0    0    0             0     55            \n",
            "24   24 101.2    0    1             0    168            \n",
            "25   25 135.0    0    0             0     48            \n",
            "26   26 135.0    0    0             0     73            "
          ]
        }
      ],
      "source": [
        "traindf"
      ],
      "id": "906ef325-4caa-47be-a558-4eea721b110a"
    },
    {
      "cell_type": "markdown",
      "metadata": {},
      "source": [
        "Lets take a look at the demand over time for the 26 weeks:"
      ],
      "id": "f53e9d4a-f12c-437e-9bcf-9881a297e445"
    },
    {
      "cell_type": "code",
      "execution_count": null,
      "metadata": {},
      "outputs": [
        {
          "output_type": "display_data",
          "metadata": {},
          "data": {
            "image/png": "[encoded data removed]"
          }
        }
      ],
      "source": [
        "plot(traindf$week, traindf$demand, main=\"Demand for 26 Weeks\", xlab=\"Week\", ylab=\"Demand\", type=\"l\")\n",
        "points(traindf$week, traindf$demand, pch=19)"
      ],
      "id": "5c25686d-a8a8-421b-a419-d3a7cf9e63fa"
    },
    {
      "cell_type": "markdown",
      "metadata": {},
      "source": [
        "Clearly you can see the effects of the markdowns and the special event\n",
        "promotions.\n",
        "\n",
        "Run a regression tree analysis (using the `rpart` function) like in the\n",
        "BicycleRentals notebook from last weeks lectures:\n",
        "\n",
        "Note use the model `demand~p114+p101+specialEvents` in your rpart\n",
        "function:"
      ],
      "id": "f8e34aa8-b299-4d05-bff7-8895f4950507"
    },
    {
      "cell_type": "code",
      "execution_count": null,
      "metadata": {},
      "outputs": [
        {
          "output_type": "display_data",
          "metadata": {},
          "data": {
            "image/png": "[encoded data removed]"
          }
        }
      ],
      "source": [
        "control <- rpart.control(minbucket=1)\n",
        "model <- rpart(demand~p114+p101+specialEvents, data=traindf, method=\"anova\", control=control)\n",
        "rpart.plot(model, type=4, extra=101)"
      ],
      "id": "bf538c2a-bd39-4211-aac6-a68fe7c3cfd7"
    },
    {
      "cell_type": "markdown",
      "metadata": {},
      "source": [
        "Now use your tree to make predictions for each of the following: (just\n",
        "follow the tree from the top and see what the prediction is for each of\n",
        "these situations:\n",
        "\n",
        "1.  15% markdown and no special event (p114=1, p101=0,specialEvents=0)\n",
        "2.  25% markdown and no special event (p114=0, p101=1,specialEvents=0)\n",
        "3.  15% markdown and a special event (p114=1, p101=0,specialEvents=1)\n",
        "4.  25% markdown and a special event (p114=0, p101=1,specialEvents=1)\n",
        "\n",
        "Now lets look at the actual demand for the next few weeks (27-33). We\n",
        "will use this as our testing data and see how good our model is:\n",
        "\n",
        "First lets read in the testing data:"
      ],
      "id": "00f1cf7d-fa01-4968-9e74-91a2647d4878"
    },
    {
      "cell_type": "code",
      "execution_count": null,
      "metadata": {},
      "outputs": [
        {
          "output_type": "stream",
          "name": "stdout",
          "text": [
            "'data.frame':   7 obs. of  7 variables:\n",
            " $ week         : int  27 28 29 30 31 32 33\n",
            " $ price        : num  115 135 101 135 135 ...\n",
            " $ p114         : int  1 0 0 0 0 0 0\n",
            " $ p101         : int  0 0 1 0 0 1 0\n",
            " $ specialEvents: int  0 0 1 0 0 0 0\n",
            " $ demand       : int  140 63 240 43 76 155 55\n",
            " $ X            : Factor w/ 2 levels \"\",\"Labor Day\": 1 1 2 1 1 1 1"
          ]
        }
      ],
      "source": [
        "testurl<- \"https://docs.google.com/spreadsheets/d/e/2PACX-1vS2Z4rEXAoVmrunY3BLJ5AX-ZH76U8bHpCCOu8mzziWK1X6WnJJiC2RmrWrLffGUxo9dCZD0HW1n15T/pub?gid=715128008&single=true&output=csv\"\n",
        "testdf<-read.csv(testurl, stringsAsFactors=TRUE)\n",
        "str(testdf)"
      ],
      "id": "255dee91-6e84-4019-872f-ea33e9cf6d05"
    },
    {
      "cell_type": "markdown",
      "metadata": {},
      "source": [
        "Lets take a look at it:"
      ],
      "id": "f0034aa3-358c-4ec2-bb1f-7cc82ab7d8f3"
    },
    {
      "cell_type": "code",
      "execution_count": null,
      "metadata": {},
      "outputs": [
        {
          "output_type": "stream",
          "name": "stdout",
          "text": [
            "  week price p114 p101 specialEvents demand         X\n",
            "1   27 114.8    1    0             0    140          \n",
            "2   28 135.0    0    0             0     63          \n",
            "3   29 101.2    0    1             1    240 Labor Day\n",
            "4   30 135.0    0    0             0     43          \n",
            "5   31 135.0    0    0             0     76          \n",
            "6   32 101.2    0    1             0    155          \n",
            "7   33 135.0    0    0             0     55          "
          ]
        }
      ],
      "source": [
        "testdf"
      ],
      "id": "2475f64f-3f97-47fe-930c-ffd5ef0d01db"
    },
    {
      "cell_type": "markdown",
      "metadata": {},
      "source": [
        "Now lets do a prediction using our model from above:"
      ],
      "id": "271d569e-ea8f-42d4-9ba2-63a54a0a2b11"
    },
    {
      "cell_type": "code",
      "execution_count": null,
      "metadata": {},
      "outputs": [],
      "source": [
        "pred <- predict(model, newdata = testdf, type = 'vector')"
      ],
      "id": "7e63b095-0c3f-46b0-af65-729dd8d2e3b4"
    },
    {
      "cell_type": "markdown",
      "metadata": {},
      "source": [
        "Lets build a data frame so we can see the predictions and the actuals"
      ],
      "id": "ff6be848-2fb2-48ad-b056-982a1639cb65"
    },
    {
      "cell_type": "code",
      "execution_count": null,
      "metadata": {},
      "outputs": [
        {
          "output_type": "stream",
          "name": "stdout",
          "text": [
            "  actual predictions\n",
            "1    140       146.0\n",
            "2     63        58.9\n",
            "3    240       225.8\n",
            "4     43        58.9\n",
            "5     76        58.9\n",
            "6    155       168.0\n",
            "7     55        58.9"
          ]
        }
      ],
      "source": [
        "info <- data.frame(actual=testdf$demand, predictions=pred)\n",
        "print(info)"
      ],
      "id": "7ddf93e5-e02b-4f27-8dbe-ea9a2f06defa"
    },
    {
      "cell_type": "markdown",
      "metadata": {},
      "source": [
        "Lets calculate the MAPE, MAE, and RMSE"
      ],
      "id": "96652ff3-b578-4f4e-9244-265bd65a5882"
    },
    {
      "cell_type": "code",
      "execution_count": null,
      "metadata": {},
      "outputs": [
        {
          "output_type": "stream",
          "name": "stdout",
          "text": [
            "[1] 0.131"
          ]
        },
        {
          "output_type": "stream",
          "name": "stdout",
          "text": [
            "[1] 10.61"
          ]
        },
        {
          "output_type": "stream",
          "name": "stdout",
          "text": [
            "[1] 11.86"
          ]
        }
      ],
      "source": [
        "mape(testdf$demand,pred)"
      ],
      "id": "2974aba7-bbcc-4ff3-b7bc-ebbf6945998c"
    }
  ],
  "nbformat": 4,
  "nbformat_minor": 5,
  "metadata": {
    "kernelspec": {
      "name": "ir",
      "display_name": "R",
      "language": "R"
    }
  }
}