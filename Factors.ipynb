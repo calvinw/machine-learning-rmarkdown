{
 "cells": [
  {
   "cell_type": "markdown",
   "metadata": {},
   "source": [
    "Suppose we want to work with categorical data. This is data that has a\n",
    "certain number of fixed levels.\n",
    "\n",
    "Here are some examples:\n",
    "\n",
    "1.  “true” or “false” (two levels)\n",
    "2.  “low”, “medium”, “high” (3 levels)\n",
    "3.  “A”, “B”, “C”, “D”, “F” (5 levels)\n",
    "\n",
    "These are called “factors” in R, and R has a data type for this kind of\n",
    "data as well, called a `factor`.\n",
    "\n",
    "Now suppose we have some data that is from the second example above.\n",
    "This is data that should all be “low”, “medium” or “high”"
   ]
  },
  {
   "cell_type": "code",
   "execution_count": null,
   "metadata": {},
   "outputs": [],
   "source": [
    "v<- c(\"high\", \"medium\", \"medium\", \"high\", \"low\")\n",
    "f<- factor(v)\n",
    "class(f)\n",
    "length(f)\n",
    "str(f)"
   ]
  },
  {
   "cell_type": "markdown",
   "metadata": {},
   "source": [
    "Using `str` tells us we have a factor. R thinks it has 3 levels, which\n",
    "is correct here.\n",
    "\n",
    "Note how R tells us there is 3 levels. It sees them as “high”, “low” and\n",
    "“medium”. It goes ahead makes 1 mean “high”, 2 mean “low” and 3 mean\n",
    "“medium”.\n",
    "\n",
    "Then it tells us what the data is, using its shorthand. It says the data\n",
    "is `1 3 3 1 2`.\n",
    "\n",
    "Since 1 means “high”, 2 means “low” and 3 means “medium”, this tells us\n",
    "we have “high”, “medium”, “medium”, “high”, “low”\n",
    "\n",
    "Great!!\n",
    "\n",
    "Now suppose we want to tell R how to number the levels and we want “low”\n",
    "to be 1, “medium” to be 2, and “high” to be 3. We can tell it to\n",
    "represent the factor this way"
   ]
  },
  {
   "cell_type": "code",
   "execution_count": null,
   "metadata": {},
   "outputs": [],
   "source": [
    "v<- c(\"high\", \"medium\", \"medium\", \"high\", \"low\")\n",
    "f<- factor(v, levels=c(\"low\", \"medium\", \"high\"))\n",
    "str(f)\n",
    "f"
   ]
  },
  {
   "cell_type": "markdown",
   "metadata": {},
   "source": [
    "This looks a little better, and matches more what we expect.\n",
    "\n",
    "However there is still a problem, the problem is that we cannot compare\n",
    "levels and for this example we many want to. Lets look at two of the\n",
    "values in the vector:"
   ]
  },
  {
   "cell_type": "code",
   "execution_count": null,
   "metadata": {},
   "outputs": [],
   "source": [
    "f[1]\n",
    "f[2]"
   ]
  },
  {
   "cell_type": "code",
   "execution_count": null,
   "metadata": {},
   "outputs": [],
   "source": [
    "f[1] > f[2]"
   ]
  },
  {
   "cell_type": "markdown",
   "metadata": {},
   "source": [
    "If we want this to work we have to make the factor “ordered”. The way to\n",
    "do that is to use `order = TRUE` when we define the factor:"
   ]
  },
  {
   "cell_type": "code",
   "execution_count": null,
   "metadata": {},
   "outputs": [],
   "source": [
    "v<- c(\"high\", \"medium\", \"medium\", \"high\", \"low\")\n",
    "g<- factor(v, levels=c(\"low\", \"medium\", \"high\"), order = TRUE)\n",
    "str(g)"
   ]
  },
  {
   "cell_type": "markdown",
   "metadata": {},
   "source": [
    "Now lets try what we did before:"
   ]
  },
  {
   "cell_type": "code",
   "execution_count": null,
   "metadata": {},
   "outputs": [],
   "source": [
    "g[1]\n",
    "g[2]"
   ]
  },
  {
   "cell_type": "markdown",
   "metadata": {},
   "source": [
    "This time this should work and actually give us `TRUE` or `FALSE`"
   ]
  },
  {
   "cell_type": "code",
   "execution_count": null,
   "metadata": {},
   "outputs": [],
   "source": [
    "g[1] > g[2]"
   ]
  },
  {
   "cell_type": "markdown",
   "metadata": {},
   "source": [
    "Now what if we add another potential level in the data, “super”. Lets\n",
    "see if R can handle that:"
   ]
  },
  {
   "cell_type": "code",
   "execution_count": null,
   "metadata": {},
   "outputs": [],
   "source": [
    "v<- c(\"high\", \"medium\", \"medium\", \"high\", \"low\")\n",
    "h<- factor(v, levels=c(\"low\", \"medium\", \"high\", \"super\"), ordered = TRUE)\n",
    "str(h)"
   ]
  },
  {
   "cell_type": "markdown",
   "metadata": {},
   "source": [
    "Now it thinks there are 4 levels. So it knows there are potentially 4\n",
    "levels even though our particular data set only has 3 of the levels.\n",
    "That is because we specified the levels.\n",
    "\n",
    "Here the length is 5 which corresponds to the number of data values we\n",
    "have.\n",
    "\n",
    "It is possible to redefine the values in the factor, but this is rarely\n",
    "done. Suppose we found out that the 3rd entry in our factor was supposed\n",
    "to be “low”."
   ]
  },
  {
   "cell_type": "code",
   "execution_count": null,
   "metadata": {},
   "outputs": [],
   "source": [
    "h[3] <- \"low\"\n",
    "print(h)"
   ]
  },
  {
   "cell_type": "markdown",
   "metadata": {},
   "source": [
    "Often times we have to convert from a factor to a vector of strings.\n",
    "Lets see how to do that. Lets set up a factor using 3 names:"
   ]
  },
  {
   "cell_type": "code",
   "execution_count": null,
   "metadata": {},
   "outputs": [],
   "source": [
    "namesFactor<- factor(c(\"Vera\", \"Sam\", \"Elizabeth\"))\n",
    "str(namesFactor)"
   ]
  },
  {
   "cell_type": "markdown",
   "metadata": {},
   "source": [
    "R says this factor has 3 levels, but that is actually silly, since names\n",
    "dont come with just 3 levels. So it makes better since to have this be a\n",
    "character vector."
   ]
  },
  {
   "cell_type": "code",
   "execution_count": null,
   "metadata": {},
   "outputs": [],
   "source": [
    "namesStrings<- as.character(namesFactor)\n",
    "str(namesStrings)"
   ]
  }
 ],
 "nbformat": 4,
 "nbformat_minor": 5,
 "metadata": {
  "kernelspec": {
   "name": "ir",
   "display_name": "R",
   "language": "R"
  }
 }
}

