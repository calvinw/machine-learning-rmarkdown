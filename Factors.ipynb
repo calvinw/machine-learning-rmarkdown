{
  "cells": [
    {
      "cell_type": "markdown",
      "metadata": {},
      "source": [
        "# Factors\n",
        "\n",
        "Suppose we want to work with categorical data. This is data that has a\n",
        "certain number of fixed levels.\n",
        "\n",
        "Here are some examples:\n",
        "\n",
        "1.  “true” or “false” (two levels)\n",
        "2.  “low”, “medium”, “high” (3 levels)\n",
        "3.  “A”, “B”, “C”, “D”, “F” (5 levels)\n",
        "\n",
        "These are called “factors” in R, and R has a data type for this kind of\n",
        "data as well, called a `factor`.\n",
        "\n",
        "Now suppose we have some data that is from the second example above.\n",
        "This is data that should all be “low”, “medium” or “high”"
      ],
      "id": "37868656-b749-4136-b717-55e4fa4f6cc9"
    },
    {
      "cell_type": "code",
      "execution_count": null,
      "metadata": {},
      "outputs": [
        {
          "output_type": "stream",
          "name": "stdout",
          "text": [
            "[1] \"factor\""
          ]
        },
        {
          "output_type": "stream",
          "name": "stdout",
          "text": [
            "[1] 5"
          ]
        },
        {
          "output_type": "stream",
          "name": "stdout",
          "text": [
            " Factor w/ 3 levels \"high\",\"low\",\"medium\": 1 3 3 1 2"
          ]
        }
      ],
      "source": [
        "v<- c(\"high\", \"medium\", \"medium\", \"high\", \"low\")\n",
        "f<- factor(v)\n",
        "class(f)"
      ],
      "id": "3dd45b77-7351-462c-839b-9a7b5fefbe28"
    },
    {
      "cell_type": "markdown",
      "metadata": {},
      "source": [
        "Using `str` tells us we have a factor. R thinks it has 3 levels, which\n",
        "is correct here.\n",
        "\n",
        "Note how R tells us there is 3 levels. It sees them as “high”, “low” and\n",
        "“medium”. It goes ahead makes 1 mean “high”, 2 mean “low” and 3 mean\n",
        "“medium”.\n",
        "\n",
        "Then it tells us what the data is, using its shorthand. It says the data\n",
        "is `1 3 3 1 2`.\n",
        "\n",
        "Since 1 means “high”, 2 means “low” and 3 means “medium”, this tells us\n",
        "we have “high”, “medium”, “medium”, “high”, “low”\n",
        "\n",
        "Great!!\n",
        "\n",
        "Now suppose we want to tell R how to number the levels and we want “low”\n",
        "to be 1, “medium” to be 2, and “high” to be 3. We can tell it to\n",
        "represent the factor this way"
      ],
      "id": "cbae817f-6b57-40cc-ad35-7ce7c3180576"
    },
    {
      "cell_type": "code",
      "execution_count": null,
      "metadata": {},
      "outputs": [
        {
          "output_type": "stream",
          "name": "stdout",
          "text": [
            " Factor w/ 3 levels \"low\",\"medium\",..: 3 2 2 3 1"
          ]
        },
        {
          "output_type": "stream",
          "name": "stdout",
          "text": [
            "[1] high   medium medium high   low   \n",
            "Levels: low medium high"
          ]
        }
      ],
      "source": [
        "v<- c(\"high\", \"medium\", \"medium\", \"high\", \"low\")\n",
        "f<- factor(v, levels=c(\"low\", \"medium\", \"high\"))\n",
        "str(f)"
      ],
      "id": "af3060de-d1c7-46ab-bd7b-30d4a1cf11db"
    },
    {
      "cell_type": "markdown",
      "metadata": {},
      "source": [
        "This looks a little better, and matches more what we expect.\n",
        "\n",
        "However there is still a problem, the problem is that we cannot compare\n",
        "levels and for this example we many want to. Lets look at two of the\n",
        "values in the vector:"
      ],
      "id": "5e1f115e-c774-4a23-b7a2-dee38b6f5af6"
    },
    {
      "cell_type": "code",
      "execution_count": null,
      "metadata": {},
      "outputs": [
        {
          "output_type": "stream",
          "name": "stdout",
          "text": [
            "[1] high\n",
            "Levels: low medium high"
          ]
        },
        {
          "output_type": "stream",
          "name": "stdout",
          "text": [
            "[1] medium\n",
            "Levels: low medium high"
          ]
        }
      ],
      "source": [
        "f[1]"
      ],
      "id": "477f6c4d-4ef0-4b48-9f97-878562b235c7"
    },
    {
      "cell_type": "code",
      "execution_count": null,
      "metadata": {},
      "outputs": [
        {
          "output_type": "stream",
          "name": "stderr",
          "text": [
            "Warning in Ops.factor(f[1], f[2]): '>' not meaningful for factors"
          ]
        },
        {
          "output_type": "stream",
          "name": "stdout",
          "text": [
            "[1] NA"
          ]
        }
      ],
      "source": [
        "f[1] > f[2]"
      ],
      "id": "282a672c-8170-4b66-9a76-f5e65d2762c7"
    },
    {
      "cell_type": "markdown",
      "metadata": {},
      "source": [
        "If we want this to work we have to make the factor “ordered”. The way to\n",
        "do that is to use `order = TRUE` when we define the factor:"
      ],
      "id": "75a99db6-cadc-487d-9bed-040f565d5504"
    },
    {
      "cell_type": "code",
      "execution_count": null,
      "metadata": {},
      "outputs": [
        {
          "output_type": "stream",
          "name": "stdout",
          "text": [
            " Ord.factor w/ 3 levels \"low\"<\"medium\"<..: 3 2 2 3 1"
          ]
        }
      ],
      "source": [
        "v<- c(\"high\", \"medium\", \"medium\", \"high\", \"low\")\n",
        "g<- factor(v, levels=c(\"low\", \"medium\", \"high\"), order = TRUE)\n",
        "str(g)"
      ],
      "id": "dac84433-4b6c-4d17-8065-1716eccd4baf"
    },
    {
      "cell_type": "markdown",
      "metadata": {},
      "source": [
        "Now lets try what we did before:"
      ],
      "id": "5b2d4720-75b9-4218-8a07-2d75e9117d21"
    },
    {
      "cell_type": "code",
      "execution_count": null,
      "metadata": {},
      "outputs": [
        {
          "output_type": "stream",
          "name": "stdout",
          "text": [
            "[1] high\n",
            "Levels: low < medium < high"
          ]
        },
        {
          "output_type": "stream",
          "name": "stdout",
          "text": [
            "[1] medium\n",
            "Levels: low < medium < high"
          ]
        }
      ],
      "source": [
        "g[1]"
      ],
      "id": "1c47016f-e0ce-445c-8701-2d9cf92853df"
    },
    {
      "cell_type": "markdown",
      "metadata": {},
      "source": [
        "This time this should work and actually give us `TRUE` or `FALSE`"
      ],
      "id": "21ef7d10-f634-44cb-abb6-5a324062e66f"
    },
    {
      "cell_type": "code",
      "execution_count": null,
      "metadata": {},
      "outputs": [
        {
          "output_type": "stream",
          "name": "stdout",
          "text": [
            "[1] TRUE"
          ]
        }
      ],
      "source": [
        "g[1] > g[2]"
      ],
      "id": "a8ed1e7c-137a-428c-b61e-cb7b9a90835d"
    },
    {
      "cell_type": "markdown",
      "metadata": {},
      "source": [
        "Now what if we add another potential level in the data, “super”. Lets\n",
        "see if R can handle that:"
      ],
      "id": "78ed70ad-346b-4318-b692-928d796c1538"
    },
    {
      "cell_type": "code",
      "execution_count": null,
      "metadata": {},
      "outputs": [
        {
          "output_type": "stream",
          "name": "stdout",
          "text": [
            " Ord.factor w/ 4 levels \"low\"<\"medium\"<..: 3 2 2 3 1"
          ]
        }
      ],
      "source": [
        "v<- c(\"high\", \"medium\", \"medium\", \"high\", \"low\")\n",
        "h<- factor(v, levels=c(\"low\", \"medium\", \"high\", \"super\"), ordered = TRUE)\n",
        "str(h)"
      ],
      "id": "98528641-299f-4a82-b641-8e16105fbdc7"
    },
    {
      "cell_type": "markdown",
      "metadata": {},
      "source": [
        "Now it thinks there are 4 levels. So it knows there are potentially 4\n",
        "levels even though our particular data set only has 3 of the levels.\n",
        "That is because we specified the levels.\n",
        "\n",
        "Here the length is 5 which corresponds to the number of data values we\n",
        "have.\n",
        "\n",
        "It is possible to redefine the values in the factor, but this is rarely\n",
        "done. Suppose we found out that the 3rd entry in our factor was supposed\n",
        "to be “low”."
      ],
      "id": "ea31b78e-9a9e-48ea-9f48-eafe39a143af"
    },
    {
      "cell_type": "code",
      "execution_count": null,
      "metadata": {},
      "outputs": [
        {
          "output_type": "stream",
          "name": "stdout",
          "text": [
            "[1] high   medium low    high   low   \n",
            "Levels: low < medium < high < super"
          ]
        }
      ],
      "source": [
        "h[3] <- \"low\"\n",
        "print(h)"
      ],
      "id": "36e72e20-7b05-4813-90d5-175f868e52eb"
    },
    {
      "cell_type": "markdown",
      "metadata": {},
      "source": [
        "Often times we have to convert from a factor to a vector of strings.\n",
        "Lets see how to do that. Lets set up a factor using 3 names:"
      ],
      "id": "08912223-d2b6-4d26-a801-80bc92b6980b"
    },
    {
      "cell_type": "code",
      "execution_count": null,
      "metadata": {},
      "outputs": [
        {
          "output_type": "stream",
          "name": "stdout",
          "text": [
            " Factor w/ 3 levels \"Elizabeth\",\"Sam\",..: 3 2 1"
          ]
        }
      ],
      "source": [
        "namesFactor<- factor(c(\"Vera\", \"Sam\", \"Elizabeth\"))\n",
        "str(namesFactor)"
      ],
      "id": "30875176-1d0b-465a-a311-b4971e76af04"
    },
    {
      "cell_type": "markdown",
      "metadata": {},
      "source": [
        "R says this factor has 3 levels, but that is actually silly, since names\n",
        "dont come with just 3 levels. So it makes better since to have this be a\n",
        "character vector."
      ],
      "id": "e8537fc9-99cc-466d-ac17-4f8cdcf521c0"
    },
    {
      "cell_type": "code",
      "execution_count": null,
      "metadata": {},
      "outputs": [
        {
          "output_type": "stream",
          "name": "stdout",
          "text": [
            " chr [1:3] \"Vera\" \"Sam\" \"Elizabeth\""
          ]
        }
      ],
      "source": [
        "namesStrings<- as.character(namesFactor)\n",
        "str(namesStrings)"
      ],
      "id": "5c830b6b-50bb-4980-ade9-bf4eb7025cf5"
    }
  ],
  "nbformat": 4,
  "nbformat_minor": 5,
  "metadata": {
    "kernelspec": {
      "name": "ir",
      "display_name": "R",
      "language": "R"
    }
  }
}