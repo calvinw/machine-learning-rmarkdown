{
 "cells": [
  {
   "cell_type": "markdown",
   "metadata": {},
   "source": [
    "Suppose we want to work with categorical data. This is data that has a\n",
    "certain number of fixed levels.\n",
    "\n",
    "Here are some examples:\n",
    "\n",
    "1.  “true” or “false” (two levels)\n",
    "2.  “low”, “medium”, “high” (3 levels)\n",
    "3.  “A”, “B”, “C”, “D”, “F” (5 levels)\n",
    "\n",
    "These are called “factors” in R, and R has a data type for this kind of\n",
    "data as well, called a `factor`.\n",
    "\n",
    "Now suppose we have some data that is from the second example above.\n",
    "This is data that should all be “low”, “medium” or “high”"
   ]
  },
  {
   "cell_type": "code",
   "execution_count": null,
   "metadata": {},
   "outputs": [],
   "source": [
    "v<- c(\"high\", \"medium\", \"medium\", \"high\", \"low\")\n",
    "f<- factor(v)\n",
    "class(f)\n",
    "str(f)"
   ]
  },
  {
   "cell_type": "markdown",
   "metadata": {},
   "source": [
    "Using `str` tells us we have a factor. R thinks it has 3 levels, which\n",
    "is correct here.\n",
    "\n",
    "Note how R tells us there is 3 levels. It sees them as “high”, “low” and\n",
    "“medium”. It goes ahead makes 1 mean “high”, 2 mean “low” and 3 mean\n",
    "“medium”.\n",
    "\n",
    "Then it tells us what the data is, using its shorthand. It says the data\n",
    "is `1 3 3 1 2`.\n",
    "\n",
    "Since 1 means “high”, 2 means “low” and 3 means “medium”, this tells us\n",
    "we have “high”, “medium”, “medium”, “high”, “low”\n",
    "\n",
    "Great!!\n",
    "\n",
    "Now suppose we want to tell R how to number the levels and we want “low”\n",
    "to be 1, “medium” to be 2, and “high” to be 3. We can tell it to\n",
    "represent the factor this way"
   ]
  },
  {
   "cell_type": "code",
   "execution_count": null,
   "metadata": {},
   "outputs": [],
   "source": [
    "v<- c(\"high\", \"medium\", \"medium\", \"high\", \"low\")\n",
    "f<- factor(v, levels=c(\"low\", \"medium\", \"high\"))\n",
    "str(v)\n",
    "str(f)"
   ]
  },
  {
   "cell_type": "markdown",
   "metadata": {},
   "source": [
    "This looks a little better, and matches what we expect.\n",
    "\n",
    "What if we actually now have another level in the data, “super”. Lets\n",
    "see if R can handle that:"
   ]
  },
  {
   "cell_type": "code",
   "execution_count": null,
   "metadata": {},
   "outputs": [],
   "source": [
    "v<- c(\"high\", \"medium\", \"medium\", \"high\", \"low\")\n",
    "f<- factor(v, levels=c(\"low\", \"medium\", \"high\", \"super\"))\n",
    "str(f)"
   ]
  },
  {
   "cell_type": "markdown",
   "metadata": {},
   "source": [
    "Now it thinks there are 4 levels. So it knows there are potentially 4\n",
    "levels even though our particular data set only has 3 of the levels.\n",
    "\n",
    "For the components of a factor, we can access those like we can access\n",
    "the components in a vector:"
   ]
  },
  {
   "cell_type": "code",
   "execution_count": null,
   "metadata": {},
   "outputs": [],
   "source": [
    "f[1]"
   ]
  },
  {
   "cell_type": "code",
   "execution_count": null,
   "metadata": {},
   "outputs": [],
   "source": [
    "f[2]"
   ]
  },
  {
   "cell_type": "code",
   "execution_count": null,
   "metadata": {},
   "outputs": [],
   "source": [
    "f[3]"
   ]
  },
  {
   "cell_type": "markdown",
   "metadata": {},
   "source": [
    "Note how R tells us how many levels this factor has when it prints out a\n",
    "particular element in the factor. This is so we have some context for\n",
    "what the data could be.\n",
    "\n",
    "Since factors are sort of like vectors, f also has a length as well\n",
    "which is what we expect:"
   ]
  },
  {
   "cell_type": "code",
   "execution_count": null,
   "metadata": {},
   "outputs": [],
   "source": [
    "length(f)"
   ]
  },
  {
   "cell_type": "markdown",
   "metadata": {},
   "source": [
    "Here the length is 5 which corresponds to the number of data values we\n",
    "have.\n",
    "\n",
    "It is possible to redefine the values in the factor, but this is rarely\n",
    "done. Suppose we found out that the 3rd entry in our factor was supposed\n",
    "to be “low”."
   ]
  },
  {
   "cell_type": "code",
   "execution_count": null,
   "metadata": {},
   "outputs": [],
   "source": [
    "f[3] <- \"low\"\n",
    "print(f)"
   ]
  },
  {
   "cell_type": "markdown",
   "metadata": {},
   "source": [
    "Often times we have to convert from a vector of strings (“characters”)\n",
    "to a factor. Lets see how to do that."
   ]
  }
 ],
 "nbformat": 4,
 "nbformat_minor": 5,
 "metadata": {
  "kernelspec": {
   "name": "ir",
   "display_name": "R",
   "language": "R"
  }
 }
}

