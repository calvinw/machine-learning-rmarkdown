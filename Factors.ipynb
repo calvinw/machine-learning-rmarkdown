{
  "cells": [
    {
      "cell_type": "markdown",
      "metadata": {},
      "source": [
        "# Factors\n",
        "\n",
        "Suppose we want to work with categorical data. This is data that has a\n",
        "certain number of fixed levels.\n",
        "\n",
        "Here are some examples:\n",
        "\n",
        "1.  “true” or “false” (two levels)\n",
        "2.  “low”, “medium”, “high” (3 levels)\n",
        "3.  “A”, “B”, “C”, “D”, “F” (5 levels)\n",
        "\n",
        "These are called “factors” in R, and R has a data type for this kind of\n",
        "data as well, called a `factor`.\n",
        "\n",
        "Now suppose we have some data that is from the second example above.\n",
        "This is data that should all be “low”, “medium” or “high”"
      ],
      "id": "339263eb-2abe-40d1-8b7f-c9b8bf2ee2f0"
    },
    {
      "cell_type": "code",
      "execution_count": null,
      "metadata": {},
      "outputs": [
        {
          "output_type": "stream",
          "name": "stdout",
          "text": [
            "[1] \"factor\""
          ]
        },
        {
          "output_type": "stream",
          "name": "stdout",
          "text": [
            "[1] 5"
          ]
        },
        {
          "output_type": "stream",
          "name": "stdout",
          "text": [
            " Factor w/ 3 levels \"high\",\"low\",\"medium\": 1 3 3 1 2"
          ]
        }
      ],
      "source": [
        "v<- c(\"high\", \"medium\", \"medium\", \"high\", \"low\")\n",
        "f<- factor(v)\n",
        "class(f)"
      ],
      "id": "892bd4bb-97b8-4b49-b07a-ce1a8905ba0e"
    },
    {
      "cell_type": "markdown",
      "metadata": {},
      "source": [
        "Using `str` tells us we have a factor. R thinks it has 3 levels, which\n",
        "is correct here.\n",
        "\n",
        "Note how R tells us there is 3 levels. It sees them as “high”, “low” and\n",
        "“medium”. It goes ahead makes 1 mean “high”, 2 mean “low” and 3 mean\n",
        "“medium”.\n",
        "\n",
        "Then it tells us what the data is, using its shorthand. It says the data\n",
        "is `1 3 3 1 2`.\n",
        "\n",
        "Since 1 means “high”, 2 means “low” and 3 means “medium”, this tells us\n",
        "we have “high”, “medium”, “medium”, “high”, “low”\n",
        "\n",
        "Great!!\n",
        "\n",
        "Now suppose we want to tell R how to number the levels and we want “low”\n",
        "to be 1, “medium” to be 2, and “high” to be 3. We can tell it to\n",
        "represent the factor this way"
      ],
      "id": "0640306b-9784-47c4-8eb9-aed7bf3f7713"
    },
    {
      "cell_type": "code",
      "execution_count": null,
      "metadata": {},
      "outputs": [
        {
          "output_type": "stream",
          "name": "stdout",
          "text": [
            " Factor w/ 3 levels \"low\",\"medium\",..: 3 2 2 3 1"
          ]
        },
        {
          "output_type": "stream",
          "name": "stdout",
          "text": [
            "[1] high   medium medium high   low   \n",
            "Levels: low medium high"
          ]
        }
      ],
      "source": [
        "v<- c(\"high\", \"medium\", \"medium\", \"high\", \"low\")\n",
        "f<- factor(v, levels=c(\"low\", \"medium\", \"high\"))\n",
        "str(f)"
      ],
      "id": "7b611371-e6fe-49d3-bd26-1768386e6cb3"
    },
    {
      "cell_type": "markdown",
      "metadata": {},
      "source": [
        "This looks a little better, and matches more what we expect.\n",
        "\n",
        "However there is still a problem, the problem is that we cannot compare\n",
        "levels and for this example we many want to. Lets look at two of the\n",
        "values in the vector:"
      ],
      "id": "a88e9ab4-c60d-4fca-b1f7-499a77ba86a2"
    },
    {
      "cell_type": "code",
      "execution_count": null,
      "metadata": {},
      "outputs": [
        {
          "output_type": "stream",
          "name": "stdout",
          "text": [
            "[1] high\n",
            "Levels: low medium high"
          ]
        },
        {
          "output_type": "stream",
          "name": "stdout",
          "text": [
            "[1] medium\n",
            "Levels: low medium high"
          ]
        }
      ],
      "source": [
        "f[1]"
      ],
      "id": "4d4083f8-1974-49e0-aa94-8722c6e2268a"
    },
    {
      "cell_type": "code",
      "execution_count": null,
      "metadata": {},
      "outputs": [
        {
          "output_type": "stream",
          "name": "stderr",
          "text": [
            "Warning in Ops.factor(f[1], f[2]): '>' not meaningful for factors"
          ]
        },
        {
          "output_type": "stream",
          "name": "stdout",
          "text": [
            "[1] NA"
          ]
        }
      ],
      "source": [
        "f[1] > f[2]"
      ],
      "id": "b289416f-a6f4-4118-967d-f9482c5878ed"
    },
    {
      "cell_type": "markdown",
      "metadata": {},
      "source": [
        "If we want this to work we have to make the factor “ordered”. The way to\n",
        "do that is to use `order = TRUE` when we define the factor:"
      ],
      "id": "53090dbd-343c-49bb-8ea1-599f6a26fb5e"
    },
    {
      "cell_type": "code",
      "execution_count": null,
      "metadata": {},
      "outputs": [
        {
          "output_type": "stream",
          "name": "stdout",
          "text": [
            " Ord.factor w/ 3 levels \"low\"<\"medium\"<..: 3 2 2 3 1"
          ]
        }
      ],
      "source": [
        "v<- c(\"high\", \"medium\", \"medium\", \"high\", \"low\")\n",
        "g<- factor(v, levels=c(\"low\", \"medium\", \"high\"), order = TRUE)\n",
        "str(g)"
      ],
      "id": "1bd7702f-cbf0-4093-93dd-987c50990adf"
    },
    {
      "cell_type": "markdown",
      "metadata": {},
      "source": [
        "Now lets try what we did before:"
      ],
      "id": "af7bb944-f42f-4964-8bd1-dcd24b0efc52"
    },
    {
      "cell_type": "code",
      "execution_count": null,
      "metadata": {},
      "outputs": [
        {
          "output_type": "stream",
          "name": "stdout",
          "text": [
            "[1] high\n",
            "Levels: low < medium < high"
          ]
        },
        {
          "output_type": "stream",
          "name": "stdout",
          "text": [
            "[1] medium\n",
            "Levels: low < medium < high"
          ]
        }
      ],
      "source": [
        "g[1]"
      ],
      "id": "45121d08-6fd3-49f0-b02a-cd3c5e78d161"
    },
    {
      "cell_type": "markdown",
      "metadata": {},
      "source": [
        "This time this should work and actually give us `TRUE` or `FALSE`"
      ],
      "id": "d8189ddc-0cca-4d01-a755-89f6f31fcf1c"
    },
    {
      "cell_type": "code",
      "execution_count": null,
      "metadata": {},
      "outputs": [
        {
          "output_type": "stream",
          "name": "stdout",
          "text": [
            "[1] TRUE"
          ]
        }
      ],
      "source": [
        "g[1] > g[2]"
      ],
      "id": "dcc0d607-1d62-4f16-9f8a-49baedb8a668"
    },
    {
      "cell_type": "markdown",
      "metadata": {},
      "source": [
        "Now what if we add another potential level in the data, “super”. Lets\n",
        "see if R can handle that:"
      ],
      "id": "51f8ef0d-bf3b-4a82-85f9-ddbf60f90034"
    },
    {
      "cell_type": "code",
      "execution_count": null,
      "metadata": {},
      "outputs": [
        {
          "output_type": "stream",
          "name": "stdout",
          "text": [
            " Ord.factor w/ 4 levels \"low\"<\"medium\"<..: 3 2 2 3 1"
          ]
        }
      ],
      "source": [
        "v<- c(\"high\", \"medium\", \"medium\", \"high\", \"low\")\n",
        "h<- factor(v, levels=c(\"low\", \"medium\", \"high\", \"super\"), ordered = TRUE)\n",
        "str(h)"
      ],
      "id": "613e7ffb-d1a5-49ee-9fe7-d2936b54e681"
    },
    {
      "cell_type": "markdown",
      "metadata": {},
      "source": [
        "Now it thinks there are 4 levels. So it knows there are potentially 4\n",
        "levels even though our particular data set only has 3 of the levels.\n",
        "That is because we specified the levels.\n",
        "\n",
        "Here the length is 5 which corresponds to the number of data values we\n",
        "have.\n",
        "\n",
        "It is possible to redefine the values in the factor, but this is rarely\n",
        "done. Suppose we found out that the 3rd entry in our factor was supposed\n",
        "to be “low”."
      ],
      "id": "0d9aaec7-9839-48b0-8c06-7baac7a32975"
    },
    {
      "cell_type": "code",
      "execution_count": null,
      "metadata": {},
      "outputs": [
        {
          "output_type": "stream",
          "name": "stdout",
          "text": [
            "[1] high   medium low    high   low   \n",
            "Levels: low < medium < high < super"
          ]
        }
      ],
      "source": [
        "h[3] <- \"low\"\n",
        "print(h)"
      ],
      "id": "cb4674f4-1997-4c5b-9b43-90da5e863bbd"
    },
    {
      "cell_type": "markdown",
      "metadata": {},
      "source": [
        "Often times we have to convert from a factor to a vector of strings.\n",
        "Lets see how to do that. Lets set up a factor using 3 names:"
      ],
      "id": "6145d57b-a68a-4bcd-a2e4-c96e56afeb40"
    },
    {
      "cell_type": "code",
      "execution_count": null,
      "metadata": {},
      "outputs": [
        {
          "output_type": "stream",
          "name": "stdout",
          "text": [
            " Factor w/ 3 levels \"Elizabeth\",\"Sam\",..: 3 2 1"
          ]
        }
      ],
      "source": [
        "namesFactor<- factor(c(\"Vera\", \"Sam\", \"Elizabeth\"))\n",
        "str(namesFactor)"
      ],
      "id": "0b636ce7-5df7-4c0e-9ea1-81a8dc155533"
    },
    {
      "cell_type": "markdown",
      "metadata": {},
      "source": [
        "R says this factor has 3 levels, but that is actually silly, since names\n",
        "dont come with just 3 levels. So it makes better since to have this be a\n",
        "character vector."
      ],
      "id": "80a2cd0a-3bb3-480e-91a8-495a44a98399"
    },
    {
      "cell_type": "code",
      "execution_count": null,
      "metadata": {},
      "outputs": [
        {
          "output_type": "stream",
          "name": "stdout",
          "text": [
            " chr [1:3] \"Vera\" \"Sam\" \"Elizabeth\""
          ]
        }
      ],
      "source": [
        "namesStrings<- as.character(namesFactor)\n",
        "str(namesStrings)"
      ],
      "id": "0859c4c8-d3cf-43ad-8d53-a1a516c0dc4b"
    }
  ],
  "nbformat": 4,
  "nbformat_minor": 5,
  "metadata": {
    "kernelspec": {
      "name": "ir",
      "display_name": "R",
      "language": "R"
    }
  }
}