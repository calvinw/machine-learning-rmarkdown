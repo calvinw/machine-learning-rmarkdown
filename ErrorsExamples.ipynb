{
 "cells": [
  {
   "cell_type": "code",
   "execution_count": null,
   "metadata": {},
   "outputs": [],
   "source": [
    "if (!require(\"Metrics\")) install.packages(\"Metrics\")\n",
    "library(\"Metrics\")"
   ]
  },
  {
   "cell_type": "markdown",
   "metadata": {},
   "source": [
    "Suppose we have the following test data actuals (these are the results\n",
    "for the test data):\n",
    "\n",
    "| actual |\n",
    "|--------|\n",
    "| 11     |\n",
    "| 27     |\n",
    "| 30     |\n",
    "| 13     |\n",
    "| 25     |\n",
    "\n",
    "Suppose our first model machine learning model (called model1) made the\n",
    "following predictions:\n",
    "\n",
    "| actual | prediction1 |\n",
    "|--------|-------------|\n",
    "| 11     | 12          |\n",
    "| 27     | 23          |\n",
    "| 30     | 32          |\n",
    "| 13     | 15          |\n",
    "| 25     | 22          |\n",
    "\n",
    "Suppose our second model machine learning model (called model2) made the\n",
    "following predictions:\n",
    "\n",
    "| actual | prediction2 |\n",
    "|--------|-------------|\n",
    "| 11     | 15          |\n",
    "| 27     | 22          |\n",
    "| 30     | 29          |\n",
    "| 13     | 14          |\n",
    "| 25     | 19          |\n",
    "\n",
    "Suppose our third model machine learning model (called model3) made the\n",
    "following predictions:\n",
    "\n",
    "| actual | prediction3 |\n",
    "|--------|-------------|\n",
    "| 11     | 9           |\n",
    "| 27     | 25          |\n",
    "| 30     | 32          |\n",
    "| 13     | 11          |\n",
    "| 25     | 20          |\n",
    "\n",
    "Lets look at the how the predictions do for each model:\n",
    "\n",
    "First lets do model1"
   ]
  },
  {
   "cell_type": "code",
   "execution_count": null,
   "metadata": {},
   "outputs": [],
   "source": [
    "actuals <- c(11,27,30,13,25)\n",
    "predictions1 <- c(12,23,32,15,22)\n",
    "mae(actuals, predictions1)\n",
    "mape(actuals, predictions1)\n",
    "rmse(actuals, predictions1)"
   ]
  },
  {
   "cell_type": "markdown",
   "metadata": {},
   "source": [
    "First lets do model2"
   ]
  },
  {
   "cell_type": "code",
   "execution_count": null,
   "metadata": {},
   "outputs": [],
   "source": [
    "actuals <- c(11,27,30,13,25)\n",
    "predictions2 <- c(15,22,29,14,19)\n",
    "mae(actuals, predictions2)\n",
    "mape(actuals, predictions2)\n",
    "rmse(actuals, predictions2)"
   ]
  },
  {
   "cell_type": "markdown",
   "metadata": {},
   "source": [
    "Lets look at model3"
   ]
  },
  {
   "cell_type": "code",
   "execution_count": null,
   "metadata": {},
   "outputs": [],
   "source": [
    "actuals <- c(11,27,30,13,25)\n",
    "predictions3 <- c(9,25,32,11,20)\n",
    "mae(actuals, predictions3)\n",
    "mape(actuals, predictions3)\n",
    "rmse(actuals, predictions3)"
   ]
  },
  {
   "cell_type": "markdown",
   "metadata": {},
   "source": [
    "Which model was better?"
   ]
  }
 ],
 "nbformat": 4,
 "nbformat_minor": 5,
 "metadata": {
  "kernelspec": {
   "name": "ir",
   "display_name": "R",
   "language": "R"
  }
 }
}
