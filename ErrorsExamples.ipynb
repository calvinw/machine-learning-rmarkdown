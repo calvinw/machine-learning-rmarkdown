{
  "cells": [
    {
      "cell_type": "markdown",
      "metadata": {},
      "source": [
        "# Errors for Numerical Predictions"
      ],
      "id": "73a8a2a1-1a77-4671-8873-3c0dc479b708"
    },
    {
      "cell_type": "code",
      "execution_count": null,
      "metadata": {},
      "outputs": [],
      "source": [
        "if (!require(\"Metrics\")) install.packages(\"Metrics\")\n",
        "library(\"Metrics\")"
      ],
      "id": "36871726-4ed7-49ed-ab3e-c26dfe0e1d13"
    },
    {
      "cell_type": "markdown",
      "metadata": {},
      "source": [
        "Suppose we have the following test data actuals (these are the results\n",
        "for the test data):\n",
        "\n",
        "| actual |\n",
        "|--------|\n",
        "| 11     |\n",
        "| 27     |\n",
        "| 30     |\n",
        "| 13     |\n",
        "| 25     |\n",
        "\n",
        "Suppose our first model machine learning model (called model1) made the\n",
        "following predictions:\n",
        "\n",
        "| actual | prediction1 |\n",
        "|--------|-------------|\n",
        "| 11     | 12          |\n",
        "| 27     | 23          |\n",
        "| 30     | 32          |\n",
        "| 13     | 15          |\n",
        "| 25     | 22          |\n",
        "\n",
        "Suppose our second model machine learning model (called model2) made the\n",
        "following predictions:\n",
        "\n",
        "| actual | prediction2 |\n",
        "|--------|-------------|\n",
        "| 11     | 15          |\n",
        "| 27     | 22          |\n",
        "| 30     | 29          |\n",
        "| 13     | 14          |\n",
        "| 25     | 19          |\n",
        "\n",
        "Suppose our third model machine learning model (called model3) made the\n",
        "following predictions:\n",
        "\n",
        "| actual | prediction3 |\n",
        "|--------|-------------|\n",
        "| 11     | 9           |\n",
        "| 27     | 25          |\n",
        "| 30     | 32          |\n",
        "| 13     | 11          |\n",
        "| 25     | 20          |\n",
        "\n",
        "Lets look at the how the predictions do for each model:\n",
        "\n",
        "First lets do model1"
      ],
      "id": "c01a1ec1-a28a-4f9e-8df3-144623a02061"
    },
    {
      "cell_type": "code",
      "execution_count": null,
      "metadata": {},
      "outputs": [
        {
          "output_type": "stream",
          "name": "stdout",
          "text": [
            "[1] 2.4"
          ]
        },
        {
          "output_type": "stream",
          "name": "stdout",
          "text": [
            "[1] 0.115914"
          ]
        },
        {
          "output_type": "stream",
          "name": "stdout",
          "text": [
            "[1] 2.607681"
          ]
        }
      ],
      "source": [
        "actuals <- c(11,27,30,13,25)\n",
        "predictions1 <- c(12,23,32,15,22)\n",
        "mae(actuals, predictions1)"
      ],
      "id": "a414fc5e-fe8e-48e4-bc21-b46c29307ee2"
    },
    {
      "cell_type": "markdown",
      "metadata": {},
      "source": [
        "First lets do model2"
      ],
      "id": "b929606c-13f5-426f-8fd9-9c412b072228"
    },
    {
      "cell_type": "code",
      "execution_count": null,
      "metadata": {},
      "outputs": [
        {
          "output_type": "stream",
          "name": "stdout",
          "text": [
            "[1] 3.4"
          ]
        },
        {
          "output_type": "stream",
          "name": "stdout",
          "text": [
            "[1] 0.1798156"
          ]
        },
        {
          "output_type": "stream",
          "name": "stdout",
          "text": [
            "[1] 3.974921"
          ]
        }
      ],
      "source": [
        "actuals <- c(11,27,30,13,25)\n",
        "predictions2 <- c(15,22,29,14,19)\n",
        "mae(actuals, predictions2)"
      ],
      "id": "2174ad51-7380-46df-b991-0a4618e443e5"
    },
    {
      "cell_type": "markdown",
      "metadata": {},
      "source": [
        "Lets look at model3"
      ],
      "id": "5c30e863-7294-46db-aadf-b97cfc4df504"
    },
    {
      "cell_type": "code",
      "execution_count": null,
      "metadata": {},
      "outputs": [
        {
          "output_type": "stream",
          "name": "stdout",
          "text": [
            "[1] 2.6"
          ]
        },
        {
          "output_type": "stream",
          "name": "stdout",
          "text": [
            "[1] 0.135281"
          ]
        },
        {
          "output_type": "stream",
          "name": "stdout",
          "text": [
            "[1] 2.863564"
          ]
        }
      ],
      "source": [
        "actuals <- c(11,27,30,13,25)\n",
        "predictions3 <- c(9,25,32,11,20)\n",
        "mae(actuals, predictions3)"
      ],
      "id": "81b39c4b-515a-47ae-ab1a-17200161a4bc"
    },
    {
      "cell_type": "markdown",
      "metadata": {},
      "source": [
        "Which model was better?"
      ],
      "id": "527aa06a-c013-40c3-8d2a-7b3439c415f1"
    }
  ],
  "nbformat": 4,
  "nbformat_minor": 5,
  "metadata": {
    "kernelspec": {
      "name": "ir",
      "display_name": "R",
      "language": "R"
    }
  }
}