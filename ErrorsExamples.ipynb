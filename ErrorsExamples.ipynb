{
  "cells": [
    {
      "cell_type": "markdown",
      "metadata": {},
      "source": [
        "# Errors for Numerical Predictions"
      ],
      "id": "febf2262-792b-4ea1-8a58-20e3d9f849c3"
    },
    {
      "cell_type": "code",
      "execution_count": null,
      "metadata": {},
      "outputs": [],
      "source": [
        "if (!require(\"Metrics\")) install.packages(\"Metrics\")\n",
        "library(\"Metrics\")"
      ],
      "id": "96450d13-ae8b-4234-940a-8bf217103e47"
    },
    {
      "cell_type": "markdown",
      "metadata": {},
      "source": [
        "Suppose we have the following test data actuals (these are the results\n",
        "for the test data):\n",
        "\n",
        "| actual |\n",
        "|--------|\n",
        "| 11     |\n",
        "| 27     |\n",
        "| 30     |\n",
        "| 13     |\n",
        "| 25     |\n",
        "\n",
        "Suppose our first model machine learning model (called model1) made the\n",
        "following predictions:\n",
        "\n",
        "| actual | prediction1 |\n",
        "|--------|-------------|\n",
        "| 11     | 12          |\n",
        "| 27     | 23          |\n",
        "| 30     | 32          |\n",
        "| 13     | 15          |\n",
        "| 25     | 22          |\n",
        "\n",
        "Suppose our second model machine learning model (called model2) made the\n",
        "following predictions:\n",
        "\n",
        "| actual | prediction2 |\n",
        "|--------|-------------|\n",
        "| 11     | 15          |\n",
        "| 27     | 22          |\n",
        "| 30     | 29          |\n",
        "| 13     | 14          |\n",
        "| 25     | 19          |\n",
        "\n",
        "Suppose our third model machine learning model (called model3) made the\n",
        "following predictions:\n",
        "\n",
        "| actual | prediction3 |\n",
        "|--------|-------------|\n",
        "| 11     | 9           |\n",
        "| 27     | 25          |\n",
        "| 30     | 32          |\n",
        "| 13     | 11          |\n",
        "| 25     | 20          |\n",
        "\n",
        "Lets look at the how the predictions do for each model:\n",
        "\n",
        "First lets do model1"
      ],
      "id": "5d4229f4-1bda-4df6-9890-99d19df8208f"
    },
    {
      "cell_type": "code",
      "execution_count": null,
      "metadata": {},
      "outputs": [
        {
          "output_type": "stream",
          "name": "stdout",
          "text": [
            "[1] 2.4"
          ]
        },
        {
          "output_type": "stream",
          "name": "stdout",
          "text": [
            "[1] 0.115914"
          ]
        },
        {
          "output_type": "stream",
          "name": "stdout",
          "text": [
            "[1] 2.607681"
          ]
        }
      ],
      "source": [
        "actuals <- c(11,27,30,13,25)\n",
        "predictions1 <- c(12,23,32,15,22)\n",
        "mae(actuals, predictions1)"
      ],
      "id": "ea89a98a-3ab1-4132-99f8-86659a744dde"
    },
    {
      "cell_type": "markdown",
      "metadata": {},
      "source": [
        "First lets do model2"
      ],
      "id": "28cb448b-59b2-4a71-8b82-7b1dd23b88c6"
    },
    {
      "cell_type": "code",
      "execution_count": null,
      "metadata": {},
      "outputs": [
        {
          "output_type": "stream",
          "name": "stdout",
          "text": [
            "[1] 3.4"
          ]
        },
        {
          "output_type": "stream",
          "name": "stdout",
          "text": [
            "[1] 0.1798156"
          ]
        },
        {
          "output_type": "stream",
          "name": "stdout",
          "text": [
            "[1] 3.974921"
          ]
        }
      ],
      "source": [
        "actuals <- c(11,27,30,13,25)\n",
        "predictions2 <- c(15,22,29,14,19)\n",
        "mae(actuals, predictions2)"
      ],
      "id": "5c562455-0fef-46fc-bbb0-f74aa203cc68"
    },
    {
      "cell_type": "markdown",
      "metadata": {},
      "source": [
        "Lets look at model3"
      ],
      "id": "a483a86c-c06e-4e63-85f6-b0900f4f12a9"
    },
    {
      "cell_type": "code",
      "execution_count": null,
      "metadata": {},
      "outputs": [
        {
          "output_type": "stream",
          "name": "stdout",
          "text": [
            "[1] 2.6"
          ]
        },
        {
          "output_type": "stream",
          "name": "stdout",
          "text": [
            "[1] 0.135281"
          ]
        },
        {
          "output_type": "stream",
          "name": "stdout",
          "text": [
            "[1] 2.863564"
          ]
        }
      ],
      "source": [
        "actuals <- c(11,27,30,13,25)\n",
        "predictions3 <- c(9,25,32,11,20)\n",
        "mae(actuals, predictions3)"
      ],
      "id": "a6e56ccf-2e2e-4e0e-8d12-0a00379ac40b"
    },
    {
      "cell_type": "markdown",
      "metadata": {},
      "source": [
        "Which model was better?"
      ],
      "id": "5da3a5f5-3106-4b57-9793-ee1840ea9a8b"
    }
  ],
  "nbformat": 4,
  "nbformat_minor": 5,
  "metadata": {
    "kernelspec": {
      "name": "ir",
      "display_name": "R",
      "language": "R"
    }
  }
}