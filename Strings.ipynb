{
 "cells": [
  {
   "cell_type": "markdown",
   "metadata": {},
   "source": [
    "Lets look at some functions that help you do things with strings\n",
    "(“characters”)\n",
    "\n",
    "Concatenating strings\n",
    "---------------------\n",
    "\n",
    "This means you want to combine the strings together in some way. You can\n",
    "concatenate some strings together:"
   ]
  },
  {
   "cell_type": "code",
   "execution_count": null,
   "metadata": {},
   "outputs": [],
   "source": [
    "paste(\"hello\", \"goodbye\")"
   ]
  },
  {
   "cell_type": "markdown",
   "metadata": {},
   "source": [
    "You can concatenate more than 2 strings if you want:"
   ]
  },
  {
   "cell_type": "code",
   "execution_count": null,
   "metadata": {},
   "outputs": [],
   "source": [
    "paste(\"hello\", \"goodbye\", \"help\")"
   ]
  },
  {
   "cell_type": "markdown",
   "metadata": {},
   "source": [
    "What about if we want no spaces:"
   ]
  },
  {
   "cell_type": "code",
   "execution_count": null,
   "metadata": {},
   "outputs": [],
   "source": [
    "paste(\"hello\", \"goodbye\", sep=\"\")"
   ]
  },
  {
   "cell_type": "markdown",
   "metadata": {},
   "source": [
    "`sep` stands for “separator”. That is the character that separates the\n",
    "concatenated strings.\n",
    "\n",
    "What about if we want some other thing between our strings, like a\n",
    "comma:"
   ]
  },
  {
   "cell_type": "code",
   "execution_count": null,
   "metadata": {},
   "outputs": [],
   "source": [
    "paste(\"hello\", \"goodbye\", \"help\", sep=\",\")"
   ]
  },
  {
   "cell_type": "markdown",
   "metadata": {},
   "source": [
    "Or maybe a colon:"
   ]
  },
  {
   "cell_type": "code",
   "execution_count": null,
   "metadata": {},
   "outputs": [],
   "source": [
    "paste(\"hello\", \"goodbye\", \"help\", sep=\":\")"
   ]
  },
  {
   "cell_type": "markdown",
   "metadata": {},
   "source": [
    "What happens if we have 2 vectors of strings. Can we concatenate them\n",
    "element-wise?"
   ]
  },
  {
   "cell_type": "code",
   "execution_count": null,
   "metadata": {},
   "outputs": [],
   "source": [
    "y<-paste(c(\"hello \",\"goodbye \"), c(\"wren\", \"violet\"), sep=\" \")\n",
    "str(y)"
   ]
  },
  {
   "cell_type": "markdown",
   "metadata": {},
   "source": [
    "Or if we have a single string we need to concatenate with each string in\n",
    "a vector:"
   ]
  },
  {
   "cell_type": "code",
   "execution_count": null,
   "metadata": {},
   "outputs": [],
   "source": [
    "z<-paste(\"hello \", c(\"wren\", \"violet\"), sep=\" \")\n",
    "str(z)"
   ]
  },
  {
   "cell_type": "markdown",
   "metadata": {},
   "source": [
    "If our strings are already in a vector, can we still concatenate them?\n",
    "Yes but this time we need the `collapse` argument instead. `collapse` is\n",
    "the argument we use when we want to combine different elements on a\n",
    "vector:"
   ]
  },
  {
   "cell_type": "code",
   "execution_count": null,
   "metadata": {},
   "outputs": [],
   "source": [
    "w<-paste(c(\"hello\", \"wren\", \"violet\"), collapse=\" \")\n",
    "str(w)"
   ]
  },
  {
   "cell_type": "markdown",
   "metadata": {},
   "source": [
    "Splitting strings\n",
    "-----------------\n",
    "\n",
    "Splitting strings has to do with breaking apart a string in some way.\n",
    "For example suppose you have the sentence “We are the champions” and you\n",
    "would like to break this up into a vector that had “We”, “are”, “the”,\n",
    "and “champions” as the elements of the vector:"
   ]
  },
  {
   "cell_type": "code",
   "execution_count": null,
   "metadata": {},
   "outputs": [],
   "source": [
    "w<-strsplit(\"We are the champions\", \" \")\n",
    "str(w)"
   ]
  },
  {
   "cell_type": "markdown",
   "metadata": {},
   "source": [
    "Here the part of the string that is used as the “separator” is just a\n",
    "space \" \". Notice that the thing that is returned is a list. It is a\n",
    "list of length 1.\n",
    "\n",
    "Here is another example of splitting “Williamson,Calvin” into the last\n",
    "name and first name. This time the “separator” is the comma:"
   ]
  },
  {
   "cell_type": "code",
   "execution_count": null,
   "metadata": {},
   "outputs": [],
   "source": [
    "w<-strsplit(\"Williamson,Calvin\", \",\")\n",
    "str(w)"
   ]
  },
  {
   "cell_type": "markdown",
   "metadata": {},
   "source": [
    "`strsplit` will also work for vectors as well too. Suppose we had the\n",
    "following vectors of names and we wanted to get the last name and the\n",
    "first name for each of these:"
   ]
  },
  {
   "cell_type": "code",
   "execution_count": null,
   "metadata": {},
   "outputs": [],
   "source": [
    "w<-strsplit(c(\"Williamson,Calvin\", \"Hwang,Maria\", \"Jalayer,Ardalan\"), \", \")\n",
    "str(w)"
   ]
  },
  {
   "cell_type": "markdown",
   "metadata": {},
   "source": [
    "Here the thing we get is a list of length three. The list has three\n",
    "vectors on it. Each vector has two strings on it, the last and first\n",
    "name of each person.\n",
    "\n",
    "Lets print out the last item on the list, it should be Jalayers last and\n",
    "first name. Remember to access items on a list you have to use the\n",
    "double brackets `[[ ]]`"
   ]
  },
  {
   "cell_type": "code",
   "execution_count": null,
   "metadata": {},
   "outputs": [],
   "source": [
    "w[[3]]"
   ]
  },
  {
   "cell_type": "markdown",
   "metadata": {},
   "source": [
    "Substitutions in Strings\n",
    "------------------------\n",
    "\n",
    "Let’s look at some examples where we want to substitute some characters\n",
    "in a string for some others. So we want to replace one string with\n",
    "another.\n",
    "\n",
    "For example suppose we want to replace “Hello, there” with “Goodbye,\n",
    "there”. In this case the function `sub` can do this for us. It\n",
    "substitutes the first occurence of “Hello” with “Goodbye”."
   ]
  },
  {
   "cell_type": "code",
   "execution_count": null,
   "metadata": {},
   "outputs": [],
   "source": [
    "originalString <- \"Hello here, Hello there, Hello everywhere\"\n",
    "newString<-sub(\"Hello\", \"Goodbye\", originalString, fixed=TRUE)\n",
    "str(newString)"
   ]
  },
  {
   "cell_type": "markdown",
   "metadata": {},
   "source": [
    "What if we want to replace all the occurences of “Hello” above with\n",
    "“Goodbye”. There is a function for that, its called `gsub` which stands\n",
    "for “global substitution”"
   ]
  },
  {
   "cell_type": "code",
   "execution_count": null,
   "metadata": {},
   "outputs": [],
   "source": [
    "firstString <- \"Hello here, Hello there, Hello everywhere\"\n",
    "secondString<-gsub(\"Hello\", \"Goodbye\", firstString, fixed=TRUE)\n",
    "str(secondString)"
   ]
  }
 ],
 "nbformat": 4,
 "nbformat_minor": 5,
 "metadata": {
  "kernelspec": {
   "name": "ir",
   "display_name": "R",
   "language": "R"
  }
 }
}

