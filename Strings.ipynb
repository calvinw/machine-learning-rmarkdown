{
  "cells": [
    {
      "cell_type": "markdown",
      "metadata": {},
      "source": [
        "# Strings\n",
        "\n",
        "Lets look at some functions that help you do things with strings\n",
        "(“characters”)\n",
        "\n",
        "## Concatenating strings\n",
        "\n",
        "This means you want to combine the strings together in some way. You can\n",
        "concatenate some strings together:"
      ],
      "id": "db2b1eca-3dbd-4fa8-aa61-603eb28de9e0"
    },
    {
      "cell_type": "code",
      "execution_count": null,
      "metadata": {},
      "outputs": [
        {
          "output_type": "stream",
          "name": "stdout",
          "text": [
            "[1] \"hello goodbye\""
          ]
        }
      ],
      "source": [
        "paste(\"hello\", \"goodbye\")"
      ],
      "id": "2f975f8d-b5ff-4cb2-b23a-0f5a9c20782e"
    },
    {
      "cell_type": "markdown",
      "metadata": {},
      "source": [
        "You can concatenate more than 2 strings if you want:"
      ],
      "id": "f21ad1ab-b691-4581-96b6-b88ebb3044fb"
    },
    {
      "cell_type": "code",
      "execution_count": null,
      "metadata": {},
      "outputs": [
        {
          "output_type": "stream",
          "name": "stdout",
          "text": [
            "[1] \"hello goodbye help\""
          ]
        }
      ],
      "source": [
        "paste(\"hello\", \"goodbye\", \"help\")"
      ],
      "id": "8a29ddce-6b40-4a32-a4dd-43f8db24a15a"
    },
    {
      "cell_type": "markdown",
      "metadata": {},
      "source": [
        "What about if we want no spaces:"
      ],
      "id": "8fd69ed2-02f3-4d2a-b5fa-441a83d44a36"
    },
    {
      "cell_type": "code",
      "execution_count": null,
      "metadata": {},
      "outputs": [
        {
          "output_type": "stream",
          "name": "stdout",
          "text": [
            "[1] \"hellogoodbye\""
          ]
        }
      ],
      "source": [
        "paste(\"hello\", \"goodbye\", sep=\"\")"
      ],
      "id": "c0bd66ae-f7b7-4998-9ae1-7d3b14abc2ab"
    },
    {
      "cell_type": "markdown",
      "metadata": {},
      "source": [
        "`sep` stands for “separator”. That is the character that separates the\n",
        "concatenated strings.\n",
        "\n",
        "What about if we want some other thing between our strings, like a\n",
        "comma:"
      ],
      "id": "bc3ab9c5-668b-4209-b78d-7d5d9785bdb5"
    },
    {
      "cell_type": "code",
      "execution_count": null,
      "metadata": {},
      "outputs": [
        {
          "output_type": "stream",
          "name": "stdout",
          "text": [
            "[1] \"hello,goodbye,help\""
          ]
        }
      ],
      "source": [
        "paste(\"hello\", \"goodbye\", \"help\", sep=\",\")"
      ],
      "id": "bccb57ea-00fa-4039-a8b7-497b56100459"
    },
    {
      "cell_type": "markdown",
      "metadata": {},
      "source": [
        "Or maybe a colon:"
      ],
      "id": "44b2b2df-d8f8-4aad-bcd7-8adb7c791f4b"
    },
    {
      "cell_type": "code",
      "execution_count": null,
      "metadata": {},
      "outputs": [
        {
          "output_type": "stream",
          "name": "stdout",
          "text": [
            "[1] \"hello:goodbye:help\""
          ]
        }
      ],
      "source": [
        "paste(\"hello\", \"goodbye\", \"help\", sep=\":\")"
      ],
      "id": "aa56d556-620e-4a93-bd2b-07fb1faf4733"
    },
    {
      "cell_type": "markdown",
      "metadata": {},
      "source": [
        "What happens if we have 2 vectors of strings. Can we concatenate them\n",
        "element-wise?"
      ],
      "id": "fd3a437e-fc30-454a-9408-1509b0d27c2f"
    },
    {
      "cell_type": "code",
      "execution_count": null,
      "metadata": {},
      "outputs": [
        {
          "output_type": "stream",
          "name": "stdout",
          "text": [
            " chr [1:2] \"hello  wren\" \"goodbye  violet\""
          ]
        }
      ],
      "source": [
        "y<-paste(c(\"hello \",\"goodbye \"), c(\"wren\", \"violet\"), sep=\" \")\n",
        "str(y)"
      ],
      "id": "1a12bff6-598d-49da-bb84-14a719d229a1"
    },
    {
      "cell_type": "markdown",
      "metadata": {},
      "source": [
        "Or if we have a single string we need to concatenate with each string in\n",
        "a vector:"
      ],
      "id": "de4cb0fa-0e34-44b7-81ac-3714dfcb7254"
    },
    {
      "cell_type": "code",
      "execution_count": null,
      "metadata": {},
      "outputs": [
        {
          "output_type": "stream",
          "name": "stdout",
          "text": [
            " chr [1:2] \"hello  wren\" \"hello  violet\""
          ]
        }
      ],
      "source": [
        "z<-paste(\"hello \", c(\"wren\", \"violet\"), sep=\" \")\n",
        "str(z)"
      ],
      "id": "53f1d464-04f7-461a-b0a9-bed5b082faff"
    },
    {
      "cell_type": "markdown",
      "metadata": {},
      "source": [
        "If our strings are already in a vector, can we still concatenate them?\n",
        "Yes but this time we need the `collapse` argument instead. `collapse` is\n",
        "the argument we use when we want to combine different elements on a\n",
        "vector:"
      ],
      "id": "7b4367f6-277e-4189-83a3-6167af50cf41"
    },
    {
      "cell_type": "code",
      "execution_count": null,
      "metadata": {},
      "outputs": [
        {
          "output_type": "stream",
          "name": "stdout",
          "text": [
            " chr \"hello wren violet\""
          ]
        }
      ],
      "source": [
        "w<-paste(c(\"hello\", \"wren\", \"violet\"), collapse=\" \")\n",
        "str(w)"
      ],
      "id": "c130ce73-968a-4209-ab5f-5aadca8de3a7"
    },
    {
      "cell_type": "markdown",
      "metadata": {},
      "source": [
        "## Splitting strings\n",
        "\n",
        "Splitting strings has to do with breaking apart a string in some way.\n",
        "For example suppose you have the sentence “We are the champions” and you\n",
        "would like to break this up into a vector that had “We”, “are”, “the”,\n",
        "and “champions” as the elements of the vector:"
      ],
      "id": "c75c291d-8b88-4322-8739-545254f921ab"
    },
    {
      "cell_type": "code",
      "execution_count": null,
      "metadata": {},
      "outputs": [
        {
          "output_type": "stream",
          "name": "stdout",
          "text": [
            "List of 1\n",
            " $ : chr [1:4] \"We\" \"are\" \"the\" \"champions\""
          ]
        }
      ],
      "source": [
        "w<-strsplit(\"We are the champions\", \" \")\n",
        "str(w)"
      ],
      "id": "bbf1b740-0061-4297-8769-52c615908b53"
    },
    {
      "cell_type": "markdown",
      "metadata": {},
      "source": [
        "Here the part of the string that is used as the “separator” is just a\n",
        "space ” “. Notice that the thing that is returned is a list. It is a\n",
        "list of length 1.\n",
        "\n",
        "Here is another example of splitting “Williamson,Calvin” into the last\n",
        "name and first name. This time the “separator” is the comma:"
      ],
      "id": "c4017ed0-b356-4f2a-92ec-72aae51d367d"
    },
    {
      "cell_type": "code",
      "execution_count": null,
      "metadata": {},
      "outputs": [
        {
          "output_type": "stream",
          "name": "stdout",
          "text": [
            "List of 1\n",
            " $ : chr [1:2] \"Williamson\" \"Calvin\""
          ]
        }
      ],
      "source": [
        "w<-strsplit(\"Williamson,Calvin\", \",\")\n",
        "str(w)"
      ],
      "id": "8a2893f8-ebd2-40ad-9845-75c4d57d56e1"
    },
    {
      "cell_type": "markdown",
      "metadata": {},
      "source": [
        "`strsplit` will also work for vectors as well too. Suppose we had the\n",
        "following vectors of names and we wanted to get the last name and the\n",
        "first name for each of these:"
      ],
      "id": "2b4f6614-3770-44dd-b2ff-8b17f970e800"
    },
    {
      "cell_type": "code",
      "execution_count": null,
      "metadata": {},
      "outputs": [
        {
          "output_type": "stream",
          "name": "stdout",
          "text": [
            "List of 3\n",
            " $ : chr [1:2] \"Williamson\" \"Calvin\"\n",
            " $ : chr [1:2] \"Hwang\" \"Maria\"\n",
            " $ : chr [1:2] \"Jalayer\" \"Ardalan\""
          ]
        }
      ],
      "source": [
        "w<-strsplit(c(\"Williamson,Calvin\", \"Hwang,Maria\", \"Jalayer,Ardalan\"), \",\")\n",
        "str(w)"
      ],
      "id": "daef8150-c317-4dda-a1a0-9a18edd7236c"
    },
    {
      "cell_type": "markdown",
      "metadata": {},
      "source": [
        "Here the thing we get is a list of length three. The list has three\n",
        "vectors on it. Each vector has two strings on it, the last and first\n",
        "name of each person.\n",
        "\n",
        "Lets print out the last item on the list, it should be Jalayers last and\n",
        "first name. Remember to access items on a list you have to use the\n",
        "double brackets `[[ ]]`"
      ],
      "id": "1bde9049-3893-47c7-9e01-554ca04b53a3"
    },
    {
      "cell_type": "code",
      "execution_count": null,
      "metadata": {},
      "outputs": [
        {
          "output_type": "stream",
          "name": "stdout",
          "text": [
            "[1] \"Jalayer\" \"Ardalan\""
          ]
        }
      ],
      "source": [
        "w[[3]]"
      ],
      "id": "3d25433c-177c-4b29-a3b5-2f5d07841a8b"
    },
    {
      "cell_type": "markdown",
      "metadata": {},
      "source": [
        "## Substitutions in Strings\n",
        "\n",
        "Let’s look at some examples where we want to substitute some characters\n",
        "in a string for some others. So we want to replace one string with\n",
        "another.\n",
        "\n",
        "For example suppose we want to replace “Hello, there” with “Goodbye,\n",
        "there”. In this case the function `sub` can do this for us. It\n",
        "substitutes the first occurence of “Hello” with “Goodbye”."
      ],
      "id": "b758dc7a-5463-4cf1-b159-bd84c5d45355"
    },
    {
      "cell_type": "code",
      "execution_count": null,
      "metadata": {},
      "outputs": [
        {
          "output_type": "stream",
          "name": "stdout",
          "text": [
            " chr \"Goodbye here, Hello there, Hello everywhere\""
          ]
        }
      ],
      "source": [
        "originalString <- \"Hello here, Hello there, Hello everywhere\"\n",
        "newString<-sub(\"Hello\", \"Goodbye\", originalString, fixed=TRUE)\n",
        "str(newString)"
      ],
      "id": "c6e497bf-b7bb-49cc-8037-00a7fe7553ba"
    },
    {
      "cell_type": "markdown",
      "metadata": {},
      "source": [
        "What if we want to replace all the occurences of “Hello” above with\n",
        "“Goodbye”. There is a function for that, its called `gsub` which stands\n",
        "for “global substitution”"
      ],
      "id": "8f624936-742e-4fcb-9b46-42835a14dd63"
    },
    {
      "cell_type": "code",
      "execution_count": null,
      "metadata": {},
      "outputs": [
        {
          "output_type": "stream",
          "name": "stdout",
          "text": [
            " chr \"Goodbye here, Goodbye there, Goodbye everywhere\""
          ]
        }
      ],
      "source": [
        "firstString <- \"Hello here, Hello there, Hello everywhere\"\n",
        "secondString<-gsub(\"Hello\", \"Goodbye\", firstString, fixed=TRUE)\n",
        "str(secondString)"
      ],
      "id": "b735d7aa-4174-409c-9ead-70a220884ca2"
    }
  ],
  "nbformat": 4,
  "nbformat_minor": 5,
  "metadata": {
    "kernelspec": {
      "name": "ir",
      "display_name": "R",
      "language": "R"
    }
  }
}