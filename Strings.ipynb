{
  "cells": [
    {
      "cell_type": "markdown",
      "metadata": {},
      "source": [
        "# Strings\n",
        "\n",
        "Lets look at some functions that help you do things with strings\n",
        "(“characters”)\n",
        "\n",
        "## Concatenating strings\n",
        "\n",
        "This means you want to combine the strings together in some way. You can\n",
        "concatenate some strings together:"
      ],
      "id": "6d0547d6-23a5-41d2-a449-de6b408ce1ab"
    },
    {
      "cell_type": "code",
      "execution_count": null,
      "metadata": {},
      "outputs": [
        {
          "output_type": "stream",
          "name": "stdout",
          "text": [
            "[1] \"hello goodbye\""
          ]
        }
      ],
      "source": [
        "paste(\"hello\", \"goodbye\")"
      ],
      "id": "7b6dcaa0-1b69-4b52-b1f8-76fc45cc4bed"
    },
    {
      "cell_type": "markdown",
      "metadata": {},
      "source": [
        "You can concatenate more than 2 strings if you want:"
      ],
      "id": "473d46f8-d455-497c-a88b-be356588cc49"
    },
    {
      "cell_type": "code",
      "execution_count": null,
      "metadata": {},
      "outputs": [
        {
          "output_type": "stream",
          "name": "stdout",
          "text": [
            "[1] \"hello goodbye help\""
          ]
        }
      ],
      "source": [
        "paste(\"hello\", \"goodbye\", \"help\")"
      ],
      "id": "3f5c4030-5ce7-4456-8c03-18e9eabd6f79"
    },
    {
      "cell_type": "markdown",
      "metadata": {},
      "source": [
        "What about if we want no spaces:"
      ],
      "id": "e859bed1-4940-4126-841c-6a30bdfdd01b"
    },
    {
      "cell_type": "code",
      "execution_count": null,
      "metadata": {},
      "outputs": [
        {
          "output_type": "stream",
          "name": "stdout",
          "text": [
            "[1] \"hellogoodbye\""
          ]
        }
      ],
      "source": [
        "paste(\"hello\", \"goodbye\", sep=\"\")"
      ],
      "id": "368b681d-12c6-4723-9026-24faa7927719"
    },
    {
      "cell_type": "markdown",
      "metadata": {},
      "source": [
        "`sep` stands for “separator”. That is the character that separates the\n",
        "concatenated strings.\n",
        "\n",
        "What about if we want some other thing between our strings, like a\n",
        "comma:"
      ],
      "id": "bb60d486-d01c-4365-9c53-6acf927f683a"
    },
    {
      "cell_type": "code",
      "execution_count": null,
      "metadata": {},
      "outputs": [
        {
          "output_type": "stream",
          "name": "stdout",
          "text": [
            "[1] \"hello,goodbye,help\""
          ]
        }
      ],
      "source": [
        "paste(\"hello\", \"goodbye\", \"help\", sep=\",\")"
      ],
      "id": "d3fd2244-1845-47b9-ab20-183199c7f1a0"
    },
    {
      "cell_type": "markdown",
      "metadata": {},
      "source": [
        "Or maybe a colon:"
      ],
      "id": "526fc88d-fda6-48ee-9dfd-ec0eee44dfcb"
    },
    {
      "cell_type": "code",
      "execution_count": null,
      "metadata": {},
      "outputs": [
        {
          "output_type": "stream",
          "name": "stdout",
          "text": [
            "[1] \"hello:goodbye:help\""
          ]
        }
      ],
      "source": [
        "paste(\"hello\", \"goodbye\", \"help\", sep=\":\")"
      ],
      "id": "a7f352be-b4c0-452c-89af-179aaf80f48e"
    },
    {
      "cell_type": "markdown",
      "metadata": {},
      "source": [
        "What happens if we have 2 vectors of strings. Can we concatenate them\n",
        "element-wise?"
      ],
      "id": "a42c04d8-66a7-405d-a9b6-12c067348ef6"
    },
    {
      "cell_type": "code",
      "execution_count": null,
      "metadata": {},
      "outputs": [
        {
          "output_type": "stream",
          "name": "stdout",
          "text": [
            " chr [1:2] \"hello  wren\" \"goodbye  violet\""
          ]
        }
      ],
      "source": [
        "y<-paste(c(\"hello \",\"goodbye \"), c(\"wren\", \"violet\"), sep=\" \")\n",
        "str(y)"
      ],
      "id": "1e4a12a5-e8a1-478a-8cd6-4600b9931fb9"
    },
    {
      "cell_type": "markdown",
      "metadata": {},
      "source": [
        "Or if we have a single string we need to concatenate with each string in\n",
        "a vector:"
      ],
      "id": "ecb5a259-de61-4cd7-9162-08a12e4318c1"
    },
    {
      "cell_type": "code",
      "execution_count": null,
      "metadata": {},
      "outputs": [
        {
          "output_type": "stream",
          "name": "stdout",
          "text": [
            " chr [1:2] \"hello  wren\" \"hello  violet\""
          ]
        }
      ],
      "source": [
        "z<-paste(\"hello \", c(\"wren\", \"violet\"), sep=\" \")\n",
        "str(z)"
      ],
      "id": "3e804ed7-1ece-45cf-9652-f4044c3d8586"
    },
    {
      "cell_type": "markdown",
      "metadata": {},
      "source": [
        "If our strings are already in a vector, can we still concatenate them?\n",
        "Yes but this time we need the `collapse` argument instead. `collapse` is\n",
        "the argument we use when we want to combine different elements on a\n",
        "vector:"
      ],
      "id": "723b6409-8d56-451b-92ee-b17d8dfe6fde"
    },
    {
      "cell_type": "code",
      "execution_count": null,
      "metadata": {},
      "outputs": [
        {
          "output_type": "stream",
          "name": "stdout",
          "text": [
            " chr \"hello wren violet\""
          ]
        }
      ],
      "source": [
        "w<-paste(c(\"hello\", \"wren\", \"violet\"), collapse=\" \")\n",
        "str(w)"
      ],
      "id": "c3cb10f9-bb66-4c34-97b4-645ce865cc49"
    },
    {
      "cell_type": "markdown",
      "metadata": {},
      "source": [
        "## Splitting strings\n",
        "\n",
        "Splitting strings has to do with breaking apart a string in some way.\n",
        "For example suppose you have the sentence “We are the champions” and you\n",
        "would like to break this up into a vector that had “We”, “are”, “the”,\n",
        "and “champions” as the elements of the vector:"
      ],
      "id": "80227e49-32ae-4e0b-9012-69918a8adc4d"
    },
    {
      "cell_type": "code",
      "execution_count": null,
      "metadata": {},
      "outputs": [
        {
          "output_type": "stream",
          "name": "stdout",
          "text": [
            "List of 1\n",
            " $ : chr [1:4] \"We\" \"are\" \"the\" \"champions\""
          ]
        }
      ],
      "source": [
        "w<-strsplit(\"We are the champions\", \" \")\n",
        "str(w)"
      ],
      "id": "4df43786-e1a7-487f-a4b8-340983a5da65"
    },
    {
      "cell_type": "markdown",
      "metadata": {},
      "source": [
        "Here the part of the string that is used as the “separator” is just a\n",
        "space ” “. Notice that the thing that is returned is a list. It is a\n",
        "list of length 1.\n",
        "\n",
        "Here is another example of splitting “Williamson,Calvin” into the last\n",
        "name and first name. This time the “separator” is the comma:"
      ],
      "id": "bf94599b-3572-4d0e-8c5c-c031e3a9833d"
    },
    {
      "cell_type": "code",
      "execution_count": null,
      "metadata": {},
      "outputs": [
        {
          "output_type": "stream",
          "name": "stdout",
          "text": [
            "List of 1\n",
            " $ : chr [1:2] \"Williamson\" \"Calvin\""
          ]
        }
      ],
      "source": [
        "w<-strsplit(\"Williamson,Calvin\", \",\")\n",
        "str(w)"
      ],
      "id": "b8a7bc84-5b83-4fb6-bd66-36b10658b53d"
    },
    {
      "cell_type": "markdown",
      "metadata": {},
      "source": [
        "`strsplit` will also work for vectors as well too. Suppose we had the\n",
        "following vectors of names and we wanted to get the last name and the\n",
        "first name for each of these:"
      ],
      "id": "c6dcd69f-148b-4dc4-a1e2-cd73c836c8b7"
    },
    {
      "cell_type": "code",
      "execution_count": null,
      "metadata": {},
      "outputs": [
        {
          "output_type": "stream",
          "name": "stdout",
          "text": [
            "List of 3\n",
            " $ : chr [1:2] \"Williamson\" \"Calvin\"\n",
            " $ : chr [1:2] \"Hwang\" \"Maria\"\n",
            " $ : chr [1:2] \"Jalayer\" \"Ardalan\""
          ]
        }
      ],
      "source": [
        "w<-strsplit(c(\"Williamson,Calvin\", \"Hwang,Maria\", \"Jalayer,Ardalan\"), \",\")\n",
        "str(w)"
      ],
      "id": "03f2bd89-f836-4466-adda-588c544d4de6"
    },
    {
      "cell_type": "markdown",
      "metadata": {},
      "source": [
        "Here the thing we get is a list of length three. The list has three\n",
        "vectors on it. Each vector has two strings on it, the last and first\n",
        "name of each person.\n",
        "\n",
        "Lets print out the last item on the list, it should be Jalayers last and\n",
        "first name. Remember to access items on a list you have to use the\n",
        "double brackets `[[ ]]`"
      ],
      "id": "ad48f624-8b64-47fb-976f-5ffaae177832"
    },
    {
      "cell_type": "code",
      "execution_count": null,
      "metadata": {},
      "outputs": [
        {
          "output_type": "stream",
          "name": "stdout",
          "text": [
            "[1] \"Jalayer\" \"Ardalan\""
          ]
        }
      ],
      "source": [
        "w[[3]]"
      ],
      "id": "fa961470-d1be-4554-beef-eb33d84623e1"
    },
    {
      "cell_type": "markdown",
      "metadata": {},
      "source": [
        "## Substitutions in Strings\n",
        "\n",
        "Let’s look at some examples where we want to substitute some characters\n",
        "in a string for some others. So we want to replace one string with\n",
        "another.\n",
        "\n",
        "For example suppose we want to replace “Hello, there” with “Goodbye,\n",
        "there”. In this case the function `sub` can do this for us. It\n",
        "substitutes the first occurence of “Hello” with “Goodbye”."
      ],
      "id": "ea210380-c520-49eb-9b7c-db61dc4ca8cc"
    },
    {
      "cell_type": "code",
      "execution_count": null,
      "metadata": {},
      "outputs": [
        {
          "output_type": "stream",
          "name": "stdout",
          "text": [
            " chr \"Goodbye here, Hello there, Hello everywhere\""
          ]
        }
      ],
      "source": [
        "originalString <- \"Hello here, Hello there, Hello everywhere\"\n",
        "newString<-sub(\"Hello\", \"Goodbye\", originalString, fixed=TRUE)\n",
        "str(newString)"
      ],
      "id": "23a3ecd4-487b-428d-a7e0-924c116237eb"
    },
    {
      "cell_type": "markdown",
      "metadata": {},
      "source": [
        "What if we want to replace all the occurences of “Hello” above with\n",
        "“Goodbye”. There is a function for that, its called `gsub` which stands\n",
        "for “global substitution”"
      ],
      "id": "979f9e5c-5fd0-4d29-8080-3a72bf067865"
    },
    {
      "cell_type": "code",
      "execution_count": null,
      "metadata": {},
      "outputs": [
        {
          "output_type": "stream",
          "name": "stdout",
          "text": [
            " chr \"Goodbye here, Goodbye there, Goodbye everywhere\""
          ]
        }
      ],
      "source": [
        "firstString <- \"Hello here, Hello there, Hello everywhere\"\n",
        "secondString<-gsub(\"Hello\", \"Goodbye\", firstString, fixed=TRUE)\n",
        "str(secondString)"
      ],
      "id": "dc052815-680a-45b1-9a84-48b6ff69039b"
    }
  ],
  "nbformat": 4,
  "nbformat_minor": 5,
  "metadata": {
    "kernelspec": {
      "name": "ir",
      "display_name": "R",
      "language": "R"
    }
  }
}