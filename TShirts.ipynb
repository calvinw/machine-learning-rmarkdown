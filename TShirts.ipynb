{
 "cells": [
  {
   "cell_type": "code",
   "execution_count": null,
   "metadata": {},
   "outputs": [],
   "source": [
    "options(\"scipen\"=100, \"digits\"=4)\n",
    "if(!require(\"readr\")) install.packages(\"readr\")\n",
    "if(!require(\"class\")) install.packages(\"class\")\n",
    "if(!require(\"Metrics\")) install.packages(\"Metrics\")\n",
    "library(\"readr\")\n",
    "library(\"Metrics\")\n",
    "library(\"class\")"
   ]
  },
  {
   "cell_type": "markdown",
   "metadata": {},
   "source": [
    "Predicting TShirt Size using KNN\n",
    "--------------------------------\n",
    "\n",
    "First lets take a look at the data we will work with.\n",
    "\n",
    "So here is the data we have, this will be our training data:\n",
    "\n",
    "-   `Size` is our result or outcome\n",
    "-   `Height`, `Weight` are the predictors\n",
    "\n",
    "We hope that we can predict the T Shirt size from the Height and Weight:\n",
    "\n",
    "| Height | Weight | Size |\n",
    "|:-------|:-------|:-----|\n",
    "| 158    | 59     | M    |\n",
    "| 160    | 59     | M    |\n",
    "| 160    | 60     | M    |\n",
    "| 163    | 61     | M    |\n",
    "| 160    | 64     | L    |\n",
    "| 165    | 61     | L    |\n",
    "| 165    | 62     | L    |\n",
    "| 168    | 62     | L    |\n",
    "| 168    | 63     | L    |\n",
    "| 170    | 63     | L    |\n",
    "| 170    | 68     | L    |"
   ]
  },
  {
   "cell_type": "code",
   "execution_count": null,
   "metadata": {},
   "outputs": [],
   "source": [
    "trainurl<-\"https://docs.google.com/spreadsheets/d/e/2PACX-1vQb1-HxaC0FoyX5qGgAqcYRIVS5eZqwwfnECQucfqZ-Kn-65Pdacy80UX4K2AAJQH0WwgPd_OH_6Y7d/pub?gid=0&single=true&output=csv\"\n",
    "traindf<-read.csv(trainurl, stringsAsFactors=TRUE)\n",
    "str(traindf)"
   ]
  },
  {
   "cell_type": "markdown",
   "metadata": {},
   "source": [
    "Now let’s print out the training set to make sure we read it correctly:"
   ]
  },
  {
   "cell_type": "code",
   "execution_count": null,
   "metadata": {},
   "outputs": [],
   "source": [
    "print(traindf)"
   ]
  },
  {
   "cell_type": "markdown",
   "metadata": {},
   "source": [
    "Lets take a look at the data as well:"
   ]
  },
  {
   "cell_type": "code",
   "execution_count": null,
   "metadata": {},
   "outputs": [],
   "source": [
    "plot(traindf$Height, traindf$Weight, col=traindf$Size, pch=19, xlim=c(155,175), ylim=c(55,70))"
   ]
  },
  {
   "cell_type": "markdown",
   "metadata": {},
   "source": [
    "We also need a testing data set so here it is:\n",
    "\n",
    "| Height | Weight | Size |\n",
    "|:-------|:-------|:-----|\n",
    "| 158    | 58     | M    |\n",
    "| 158    | 63     | M    |\n",
    "| 163    | 60     | M    |\n",
    "| 163    | 64     | L    |\n",
    "| 165    | 65     | L    |\n",
    "| 168    | 66     | L    |\n",
    "| 170    | 64     | L    |"
   ]
  },
  {
   "cell_type": "code",
   "execution_count": null,
   "metadata": {},
   "outputs": [],
   "source": [
    "testurl<-\"https://docs.google.com/spreadsheets/d/e/2PACX-1vQb1-HxaC0FoyX5qGgAqcYRIVS5eZqwwfnECQucfqZ-Kn-65Pdacy80UX4K2AAJQH0WwgPd_OH_6Y7d/pub?gid=15577345&single=true&output=csv\"\n",
    "testdf<-read.csv(testurl, stringsAsFactors=TRUE)\n",
    "str(testdf)"
   ]
  },
  {
   "cell_type": "code",
   "execution_count": null,
   "metadata": {},
   "outputs": [],
   "source": [
    "print(testdf)"
   ]
  },
  {
   "cell_type": "markdown",
   "metadata": {},
   "source": [
    "Now lets extract the last column of the train dataset since we need it\n",
    "as the ‘cl’ argument in the knn function. We also remove the `Shirt`\n",
    "column from the data frames since knn expects the dataframes to have no\n",
    "result columns"
   ]
  },
  {
   "cell_type": "code",
   "execution_count": null,
   "metadata": {},
   "outputs": [],
   "source": [
    "train_target <- traindf[,3]\n",
    "traindf$Size <- NULL\n",
    "\n",
    "test_target <- testdf[,3]\n",
    "testdf$Size <- NULL\n",
    "\n",
    "set.seed(1234)\n",
    "prediction<-knn(traindf,testdf, cl=train_target, k=1)\n",
    "str(prediction)\n",
    "print(prediction)"
   ]
  },
  {
   "cell_type": "code",
   "execution_count": null,
   "metadata": {},
   "outputs": [],
   "source": [
    "testdf$Size <- test_target\n",
    "testdf$Prediction <- prediction\n",
    "print(testdf)"
   ]
  },
  {
   "cell_type": "code",
   "execution_count": null,
   "metadata": {},
   "outputs": [],
   "source": [
    "table(prediction=prediction,actual=test_target)\n",
    "accuracy(test_target, prediction)"
   ]
  },
  {
   "cell_type": "code",
   "execution_count": null,
   "metadata": {},
   "outputs": [],
   "source": [
    "height<-testdf$Height\n",
    "weight<-testdf$Weight\n",
    "plot(traindf$Height, \n",
    "     traindf$Weight, \n",
    "     col=train_target, \n",
    "     pch=19, \n",
    "     xlab=\"Height (cms)\",\n",
    "     ylab=\"Weight (kgs)\",\n",
    "     xlim=c(155,175), \n",
    "     ylim=c(55,70))\n",
    "points(height[3], \n",
    "       weight[3], \n",
    "       pch=19, \n",
    "       col=\"blue\")\n",
    "points(height[2], \n",
    "       weight[2], \n",
    "       pch=19, \n",
    "       col=\"orange\")"
   ]
  }
 ],
 "nbformat": 4,
 "nbformat_minor": 5,
 "metadata": {
  "kernelspec": {
   "name": "ir",
   "display_name": "R",
   "language": "R"
  }
 }
}

