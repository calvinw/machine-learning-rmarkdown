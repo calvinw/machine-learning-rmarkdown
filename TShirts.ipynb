{
 "cells": [
  {
   "cell_type": "code",
   "execution_count": null,
   "metadata": {},
   "outputs": [],
   "source": [
    "options(repr.plot.width=4, repr.plot.height=4)\n",
    "knitr::opts_chunk$set(fig.width=4, fig.height=4)\n",
    "options(\"scipen\"=100, \"digits\"=4)\n",
    "if(!require(\"readr\")) install.packages(\"readr\")\n",
    "if(!require(\"knitr\")) install.packages(\"knitr\")\n",
    "if(!require(\"Metrics\")) install.packages(\"Metrics\")\n",
    "if(!require(\"class\")) install.packages(\"class\")\n",
    "library(\"readr\")\n",
    "library(\"Metrics\")\n",
    "library(\"class\")\n",
    "library(\"knitr\")\n",
    "normalize <- function(x) {\n",
    "    return ( (x-min(x))/(max(x)-min(x)) )\n",
    "}"
   ]
  },
  {
   "cell_type": "markdown",
   "metadata": {},
   "source": [
    "Predicting TShirt Size using KNN\n",
    "--------------------------------\n",
    "\n",
    "First lets take a look at the data we will work with.\n",
    "\n",
    "So here is the data we have, this will be our training data:\n",
    "\n",
    "-   `Size` is our result or outcome\n",
    "-   `Height`, `Weight` are the predictors\n",
    "\n",
    "We hope that we can predict the T Shirt size from the Height and Weight:\n",
    "\n",
    "| Height | Weight | Size |\n",
    "|:-------|:-------|:-----|\n",
    "| 158    | 59     | M    |\n",
    "| 160    | 59     | M    |\n",
    "| 160    | 60     | M    |\n",
    "| 163    | 61     | M    |\n",
    "| 160    | 64     | L    |\n",
    "| 165    | 61     | L    |\n",
    "| 165    | 62     | L    |\n",
    "| 168    | 62     | L    |\n",
    "| 168    | 63     | L    |\n",
    "| 170    | 63     | L    |\n",
    "| 170    | 68     | L    |"
   ]
  },
  {
   "cell_type": "code",
   "execution_count": null,
   "metadata": {},
   "outputs": [],
   "source": [
    "trainurl<-\"https://docs.google.com/spreadsheets/d/e/2PACX-1vQb1-HxaC0FoyX5qGgAqcYRIVS5eZqwwfnECQucfqZ-Kn-65Pdacy80UX4K2AAJQH0WwgPd_OH_6Y7d/pub?gid=0&single=true&output=csv\"\n",
    "traindf<-read.csv(trainurl, stringsAsFactors=TRUE)\n",
    "str(traindf)"
   ]
  },
  {
   "cell_type": "markdown",
   "metadata": {},
   "source": [
    "Now let’s print out the training set to make sure we read it correctly:"
   ]
  },
  {
   "cell_type": "code",
   "execution_count": null,
   "metadata": {},
   "outputs": [],
   "source": [
    "print(traindf)"
   ]
  },
  {
   "cell_type": "markdown",
   "metadata": {},
   "source": [
    "Lets take a look at the data as well:"
   ]
  },
  {
   "cell_type": "code",
   "execution_count": null,
   "metadata": {},
   "outputs": [],
   "source": [
    "plot(traindf$Height, traindf$Weight, col=traindf$Size, pch=19, xlim=c(155,175), ylim=c(55,70))"
   ]
  },
  {
   "cell_type": "markdown",
   "metadata": {},
   "source": [
    "We also need a testing data set so here it is:\n",
    "\n",
    "| Height | Weight | Size |\n",
    "|:-------|:-------|:-----|\n",
    "| 158    | 58     | M    |\n",
    "| 158    | 63     | M    |\n",
    "| 163    | 60     | M    |\n",
    "| 163    | 64     | L    |\n",
    "| 165    | 65     | L    |\n",
    "| 168    | 66     | L    |\n",
    "| 170    | 64     | L    |"
   ]
  },
  {
   "cell_type": "code",
   "execution_count": null,
   "metadata": {},
   "outputs": [],
   "source": [
    "testurl<-\"https://docs.google.com/spreadsheets/d/e/2PACX-1vQb1-HxaC0FoyX5qGgAqcYRIVS5eZqwwfnECQucfqZ-Kn-65Pdacy80UX4K2AAJQH0WwgPd_OH_6Y7d/pub?gid=15577345&single=true&output=csv\"\n",
    "testdf<-read.csv(testurl, stringsAsFactors=TRUE)\n",
    "str(testdf)"
   ]
  },
  {
   "cell_type": "code",
   "execution_count": null,
   "metadata": {},
   "outputs": [],
   "source": [
    "print(testdf)"
   ]
  },
  {
   "cell_type": "markdown",
   "metadata": {},
   "source": [
    "Now lets extract the last column of the train dataset since we need it\n",
    "as the ‘cl’ argument in the knn function. We also remove the `Shirt`\n",
    "column from the data frames since knn expects the dataframes to have no\n",
    "result columns"
   ]
  },
  {
   "cell_type": "code",
   "execution_count": null,
   "metadata": {},
   "outputs": [],
   "source": [
    "train_target <- traindf$Size\n",
    "traindf$Size <- NULL\n",
    "\n",
    "test_target <- testdf$Size \n",
    "testdf$Size <- NULL\n",
    "\n",
    "traindf_n <- as.data.frame(lapply(traindf, normalize))\n",
    "testdf_n <- as.data.frame(lapply(testdf, normalize))\n",
    "\n",
    "set.seed(1234)\n",
    "prediction<-knn(traindf_n,testdf_n, cl=train_target, k=3)\n",
    "print(prediction)"
   ]
  },
  {
   "cell_type": "markdown",
   "metadata": {},
   "source": [
    "We put the actuals and predictions back into the test data frame so we\n",
    "can check accuracy:"
   ]
  },
  {
   "cell_type": "code",
   "execution_count": null,
   "metadata": {},
   "outputs": [],
   "source": [
    "testdf$Size <- test_target\n",
    "testdf$Prediction <- prediction\n",
    "print(testdf)"
   ]
  },
  {
   "cell_type": "markdown",
   "metadata": {},
   "source": [
    "Here is the confusion matrix and the accuracy:"
   ]
  },
  {
   "cell_type": "code",
   "execution_count": null,
   "metadata": {},
   "outputs": [],
   "source": [
    "table(prediction=prediction,actual=test_target)\n",
    "accuracy(test_target, prediction)"
   ]
  },
  {
   "cell_type": "markdown",
   "metadata": {},
   "source": [
    "First we normalize the predictors for those test values:"
   ]
  },
  {
   "cell_type": "code",
   "execution_count": null,
   "metadata": {},
   "outputs": [],
   "source": [
    "normHeight<-normalize(testdf_n$Height)\n",
    "normWeight<-normalize(testdf_n$Weight)"
   ]
  },
  {
   "cell_type": "markdown",
   "metadata": {},
   "source": [
    "Now lets examine the 1st data value in the test set:"
   ]
  },
  {
   "cell_type": "code",
   "execution_count": null,
   "metadata": {},
   "outputs": [],
   "source": [
    "plot(traindf_n$Height, traindf_n$Weight, col=train_target, pch=19, xlab=\"Height\", ylab=\"Weight\", xaxt='n', yaxt='n') \n",
    "points(normHeight[1], normWeight[1], pch=19, col=\"blue\")"
   ]
  },
  {
   "cell_type": "code",
   "execution_count": null,
   "metadata": {},
   "outputs": [],
   "source": [
    "print(testdf[1,])"
   ]
  },
  {
   "cell_type": "markdown",
   "metadata": {},
   "source": [
    "Here is the 2nd data value in the testing set:"
   ]
  },
  {
   "cell_type": "code",
   "execution_count": null,
   "metadata": {},
   "outputs": [],
   "source": [
    "plot(traindf_n$Height, traindf_n$Weight, col=train_target, pch=19, xlab=\"Height\", ylab=\"Weight\", xaxt='n', yaxt='n') \n",
    "points(normHeight[2], normWeight[2], pch=19, col=\"blue\")"
   ]
  },
  {
   "cell_type": "code",
   "execution_count": null,
   "metadata": {},
   "outputs": [],
   "source": [
    "print(testdf[2,])"
   ]
  },
  {
   "cell_type": "markdown",
   "metadata": {},
   "source": [
    "Here is the 3rd data value in the testing set:"
   ]
  },
  {
   "cell_type": "code",
   "execution_count": null,
   "metadata": {},
   "outputs": [],
   "source": [
    "plot(traindf_n$Height, traindf_n$Weight, col=train_target, pch=19, xlab=\"Height\", ylab=\"Weight\", xaxt='n', yaxt='n') \n",
    "points(normHeight[3], normWeight[3], pch=19, col=\"blue\")"
   ]
  },
  {
   "cell_type": "code",
   "execution_count": null,
   "metadata": {},
   "outputs": [],
   "source": [
    "print(testdf[3,])"
   ]
  },
  {
   "cell_type": "markdown",
   "metadata": {},
   "source": [
    "Here is the 4rd data value in the testing set:"
   ]
  },
  {
   "cell_type": "code",
   "execution_count": null,
   "metadata": {},
   "outputs": [],
   "source": [
    "plot(traindf_n$Height, traindf_n$Weight, col=train_target, pch=19, xlab=\"Height\", ylab=\"Weight\", xaxt='n', yaxt='n') \n",
    "points(normHeight[4], normWeight[4], pch=19, col=\"blue\")"
   ]
  },
  {
   "cell_type": "code",
   "execution_count": null,
   "metadata": {},
   "outputs": [],
   "source": [
    "print(testdf[4,])"
   ]
  },
  {
   "cell_type": "markdown",
   "metadata": {},
   "source": [
    "Here is the 5rd data value in the testing set:"
   ]
  },
  {
   "cell_type": "code",
   "execution_count": null,
   "metadata": {},
   "outputs": [],
   "source": [
    "plot(traindf_n$Height, traindf_n$Weight, col=train_target, pch=19, xlab=\"Height\", ylab=\"Weight\", xaxt='n', yaxt='n') \n",
    "points(normHeight[5], normWeight[5], pch=19, col=\"blue\")"
   ]
  },
  {
   "cell_type": "code",
   "execution_count": null,
   "metadata": {},
   "outputs": [],
   "source": [
    "print(testdf[5,])"
   ]
  }
 ],
 "nbformat": 4,
 "nbformat_minor": 5,
 "metadata": {
  "kernelspec": {
   "name": "ir",
   "display_name": "R",
   "language": "R"
  }
 }
}

