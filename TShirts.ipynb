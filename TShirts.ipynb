{
  "cells": [
    {
      "cell_type": "markdown",
      "metadata": {},
      "source": [
        "# Predicting TShirt Size"
      ],
      "id": "bdc08ba2-12ca-4bc0-a3cf-47dfa5a8fb66"
    },
    {
      "cell_type": "code",
      "execution_count": null,
      "metadata": {},
      "outputs": [],
      "source": [
        "options(repr.plot.width=4, repr.plot.height=4)\n",
        "knitr::opts_chunk$set(fig.width=4, fig.height=4)\n",
        "options(\"scipen\"=100, \"digits\"=4)\n",
        "if(!require(\"readr\")) install.packages(\"readr\")\n",
        "if(!require(\"knitr\")) install.packages(\"knitr\")\n",
        "if(!require(\"Metrics\")) install.packages(\"Metrics\")\n",
        "if(!require(\"class\")) install.packages(\"class\")\n",
        "library(\"readr\")\n",
        "library(\"Metrics\")\n",
        "library(\"class\")\n",
        "library(\"knitr\")\n",
        "normalize <- function(x) {\n",
        "    return ( (x-min(x))/(max(x)-min(x)) )\n",
        "}"
      ],
      "id": "ef333208-1fb1-4b60-b13d-aa9b2f3ad346"
    },
    {
      "cell_type": "markdown",
      "metadata": {},
      "source": [
        "## Predicting TShirt Size using KNN\n",
        "\n",
        "First lets take a look at the data we will work with.\n",
        "\n",
        "So here is the data we have, this will be our training data:\n",
        "\n",
        "-   `Size` is our result or outcome\n",
        "-   `Height`, `Weight` are the predictors\n",
        "\n",
        "We hope that we can predict the T Shirt size from the Height and Weight:\n",
        "\n",
        "| Height | Weight | Size |\n",
        "|--------|--------|------|\n",
        "| 158    | 59     | M    |\n",
        "| 160    | 59     | M    |\n",
        "| 160    | 60     | M    |\n",
        "| 163    | 61     | M    |\n",
        "| 160    | 64     | L    |\n",
        "| 165    | 61     | L    |\n",
        "| 165    | 62     | L    |\n",
        "| 168    | 62     | L    |\n",
        "| 168    | 63     | L    |\n",
        "| 170    | 63     | L    |\n",
        "| 170    | 68     | L    |"
      ],
      "id": "9b65a6c8-2fa8-4f1a-8b67-f6e73a8b4562"
    },
    {
      "cell_type": "code",
      "execution_count": null,
      "metadata": {},
      "outputs": [
        {
          "output_type": "stream",
          "name": "stdout",
          "text": [
            "'data.frame':   11 obs. of  3 variables:\n",
            " $ Height: int  158 160 160 163 160 165 165 168 168 170 ...\n",
            " $ Weight: int  59 59 60 61 64 61 62 62 63 63 ...\n",
            " $ Size  : Factor w/ 2 levels \"L\",\"M\": 2 2 2 2 1 1 1 1 1 1 ..."
          ]
        }
      ],
      "source": [
        "trainurl<-\"https://docs.google.com/spreadsheets/d/e/2PACX-1vQb1-HxaC0FoyX5qGgAqcYRIVS5eZqwwfnECQucfqZ-Kn-65Pdacy80UX4K2AAJQH0WwgPd_OH_6Y7d/pub?gid=0&single=true&output=csv\"\n",
        "traindf<-read.csv(trainurl, stringsAsFactors=TRUE)\n",
        "str(traindf)"
      ],
      "id": "bdd40966-a40a-4ff2-b132-900bb53afafc"
    },
    {
      "cell_type": "markdown",
      "metadata": {},
      "source": [
        "Now let’s print out the training set to make sure we read it correctly:"
      ],
      "id": "60e3db38-27fb-43ee-9f70-2f42305add9f"
    },
    {
      "cell_type": "code",
      "execution_count": null,
      "metadata": {},
      "outputs": [
        {
          "output_type": "stream",
          "name": "stdout",
          "text": [
            "   Height Weight Size\n",
            "1     158     59    M\n",
            "2     160     59    M\n",
            "3     160     60    M\n",
            "4     163     61    M\n",
            "5     160     64    L\n",
            "6     165     61    L\n",
            "7     165     62    L\n",
            "8     168     62    L\n",
            "9     168     63    L\n",
            "10    170     63    L\n",
            "11    170     68    L"
          ]
        }
      ],
      "source": [
        "print(traindf)"
      ],
      "id": "8cb1cfb9-8f3d-4929-9a22-7701d80a298e"
    },
    {
      "cell_type": "markdown",
      "metadata": {},
      "source": [
        "Lets take a look at the data as well:"
      ],
      "id": "1148218c-a655-4beb-b156-8e751c6c2607"
    },
    {
      "cell_type": "code",
      "execution_count": null,
      "metadata": {},
      "outputs": [
        {
          "output_type": "display_data",
          "metadata": {},
          "data": {
            "image/png": "[encoded data removed]"
          }
        }
      ],
      "source": [
        "plot(traindf$Height, traindf$Weight, col=traindf$Size, pch=19, xlim=c(155,175), ylim=c(55,70))"
      ],
      "id": "1750c4d8-fe8b-4dd6-ad1f-c5a400bd9594"
    },
    {
      "cell_type": "markdown",
      "metadata": {},
      "source": [
        "We also need a testing data set so here it is:\n",
        "\n",
        "| Height | Weight | Size |\n",
        "|--------|--------|------|\n",
        "| 158    | 58     | M    |\n",
        "| 158    | 63     | M    |\n",
        "| 163    | 60     | M    |\n",
        "| 163    | 64     | L    |\n",
        "| 165    | 65     | L    |\n",
        "| 168    | 66     | L    |\n",
        "| 170    | 64     | L    |"
      ],
      "id": "5f654436-29d2-4e64-89f5-ce1baa8dbd99"
    },
    {
      "cell_type": "code",
      "execution_count": null,
      "metadata": {},
      "outputs": [
        {
          "output_type": "stream",
          "name": "stdout",
          "text": [
            "'data.frame':   7 obs. of  3 variables:\n",
            " $ Height: int  158 158 163 163 165 168 170\n",
            " $ Weight: int  58 63 60 64 65 66 64\n",
            " $ Size  : Factor w/ 2 levels \"L\",\"M\": 2 2 2 1 1 1 1"
          ]
        }
      ],
      "source": [
        "testurl<-\"https://docs.google.com/spreadsheets/d/e/2PACX-1vQb1-HxaC0FoyX5qGgAqcYRIVS5eZqwwfnECQucfqZ-Kn-65Pdacy80UX4K2AAJQH0WwgPd_OH_6Y7d/pub?gid=15577345&single=true&output=csv\"\n",
        "testdf<-read.csv(testurl, stringsAsFactors=TRUE)\n",
        "str(testdf)"
      ],
      "id": "698a65b4-4ae0-4ca0-80d6-b27da336cb6c"
    },
    {
      "cell_type": "code",
      "execution_count": null,
      "metadata": {},
      "outputs": [
        {
          "output_type": "stream",
          "name": "stdout",
          "text": [
            "  Height Weight Size\n",
            "1    158     58    M\n",
            "2    158     63    M\n",
            "3    163     60    M\n",
            "4    163     64    L\n",
            "5    165     65    L\n",
            "6    168     66    L\n",
            "7    170     64    L"
          ]
        }
      ],
      "source": [
        "print(testdf)"
      ],
      "id": "fc181d70-f6ea-46ef-8c6f-a59c186662ec"
    },
    {
      "cell_type": "markdown",
      "metadata": {},
      "source": [
        "Now lets extract the last column of the train dataset since we need it\n",
        "as the ‘cl’ argument in the knn function. We also remove the `Shirt`\n",
        "column from the data frames since knn expects the dataframes to have no\n",
        "result columns"
      ],
      "id": "50b76abf-961f-4b02-a81e-79e8d741f136"
    },
    {
      "cell_type": "code",
      "execution_count": null,
      "metadata": {},
      "outputs": [
        {
          "output_type": "stream",
          "name": "stdout",
          "text": [
            "[1] M M L L L L L\n",
            "Levels: L M"
          ]
        }
      ],
      "source": [
        "train_target <- traindf$Size\n",
        "traindf$Size <- NULL\n",
        "\n",
        "test_target <- testdf$Size \n",
        "testdf$Size <- NULL\n",
        "\n",
        "traindf_n <- as.data.frame(lapply(traindf, normalize))\n",
        "testdf_n <- as.data.frame(lapply(testdf, normalize))\n",
        "\n",
        "set.seed(1234)\n",
        "prediction<-knn(traindf_n,testdf_n, cl=train_target, k=3)\n",
        "print(prediction)"
      ],
      "id": "cf624823-f444-414e-952f-93cd673b12ea"
    },
    {
      "cell_type": "markdown",
      "metadata": {},
      "source": [
        "We put the actuals and predictions back into the test data frame so we\n",
        "can check accuracy:"
      ],
      "id": "cdeb9ed4-2043-4022-91eb-e6bce3f86bde"
    },
    {
      "cell_type": "code",
      "execution_count": null,
      "metadata": {},
      "outputs": [
        {
          "output_type": "stream",
          "name": "stdout",
          "text": [
            "  Height Weight Size Prediction\n",
            "1    158     58    M          M\n",
            "2    158     63    M          M\n",
            "3    163     60    M          L\n",
            "4    163     64    L          L\n",
            "5    165     65    L          L\n",
            "6    168     66    L          L\n",
            "7    170     64    L          L"
          ]
        }
      ],
      "source": [
        "testdf$Size <- test_target\n",
        "testdf$Prediction <- prediction\n",
        "print(testdf)"
      ],
      "id": "607ac12e-99ba-4d04-a66c-9ba07367a606"
    },
    {
      "cell_type": "markdown",
      "metadata": {},
      "source": [
        "Here is the confusion matrix and the accuracy:"
      ],
      "id": "d581fe1d-8f0a-445d-97b6-8f642a6dfdc1"
    },
    {
      "cell_type": "code",
      "execution_count": null,
      "metadata": {},
      "outputs": [
        {
          "output_type": "stream",
          "name": "stdout",
          "text": [
            "          actual\n",
            "prediction L M\n",
            "         L 4 1\n",
            "         M 0 2"
          ]
        },
        {
          "output_type": "stream",
          "name": "stdout",
          "text": [
            "[1] 0.8571"
          ]
        }
      ],
      "source": [
        "table(prediction=prediction,actual=test_target)"
      ],
      "id": "6aa9b7ba-5283-4001-8e0b-797c6212e27b"
    },
    {
      "cell_type": "markdown",
      "metadata": {},
      "source": [
        "First we normalize the predictors for those test values:"
      ],
      "id": "8077086f-dc00-4527-aa92-c667b565176c"
    },
    {
      "cell_type": "code",
      "execution_count": null,
      "metadata": {},
      "outputs": [],
      "source": [
        "normHeight<-normalize(testdf_n$Height)\n",
        "normWeight<-normalize(testdf_n$Weight)"
      ],
      "id": "1b95818b-f7b4-4938-9dd0-554f7094aba6"
    },
    {
      "cell_type": "markdown",
      "metadata": {},
      "source": [
        "Now lets examine the 1st data value in the test set:"
      ],
      "id": "a75e7694-f391-4821-8ab9-044c1e9cd620"
    },
    {
      "cell_type": "code",
      "execution_count": null,
      "metadata": {},
      "outputs": [
        {
          "output_type": "display_data",
          "metadata": {},
          "data": {
            "image/png": "[encoded data removed]"
          }
        },
        {
          "output_type": "stream",
          "name": "stdout",
          "text": [
            "  Height Weight Size Prediction\n",
            "1    158     58    M          M"
          ]
        }
      ],
      "source": [
        "plot(traindf_n$Height, traindf_n$Weight, col=train_target, pch=19, xlab=\"Height\", ylab=\"Weight\", xaxt='n', yaxt='n') \n",
        "points(normHeight[1], normWeight[1], pch=19, col=\"blue\")"
      ],
      "id": "a0205380-dd49-4887-8c17-43e4e6a0bf66"
    },
    {
      "cell_type": "markdown",
      "metadata": {},
      "source": [
        "Here is the 2nd data value in the testing set:"
      ],
      "id": "e5f014ff-648f-4167-90c6-1840fb498b34"
    },
    {
      "cell_type": "code",
      "execution_count": null,
      "metadata": {},
      "outputs": [
        {
          "output_type": "display_data",
          "metadata": {},
          "data": {
            "image/png": "[encoded data removed]"
          }
        },
        {
          "output_type": "stream",
          "name": "stdout",
          "text": [
            "  Height Weight Size Prediction\n",
            "2    158     63    M          M"
          ]
        }
      ],
      "source": [
        "plot(traindf_n$Height, traindf_n$Weight, col=train_target, pch=19, xlab=\"Height\", ylab=\"Weight\", xaxt='n', yaxt='n') \n",
        "points(normHeight[2], normWeight[2], pch=19, col=\"blue\")"
      ],
      "id": "942a1f2e-ed75-46e2-8632-852f2db4102b"
    },
    {
      "cell_type": "markdown",
      "metadata": {},
      "source": [
        "Here is the 3rd data value in the testing set:"
      ],
      "id": "b2fb8e48-6cda-4805-a8ec-9bbd88039a47"
    },
    {
      "cell_type": "code",
      "execution_count": null,
      "metadata": {},
      "outputs": [
        {
          "output_type": "display_data",
          "metadata": {},
          "data": {
            "image/png": "[encoded data removed]"
          }
        },
        {
          "output_type": "stream",
          "name": "stdout",
          "text": [
            "  Height Weight Size Prediction\n",
            "3    163     60    M          L"
          ]
        }
      ],
      "source": [
        "plot(traindf_n$Height, traindf_n$Weight, col=train_target, pch=19, xlab=\"Height\", ylab=\"Weight\", xaxt='n', yaxt='n') \n",
        "points(normHeight[3], normWeight[3], pch=19, col=\"blue\")"
      ],
      "id": "b30dd5c2-e1c5-45cb-be44-ff3ab6030a6f"
    },
    {
      "cell_type": "markdown",
      "metadata": {},
      "source": [
        "Here is the 4rd data value in the testing set:"
      ],
      "id": "41069700-762b-4a2f-8745-4fb7ec2c6f9b"
    },
    {
      "cell_type": "code",
      "execution_count": null,
      "metadata": {},
      "outputs": [
        {
          "output_type": "display_data",
          "metadata": {},
          "data": {
            "image/png": "[encoded data removed]"
          }
        },
        {
          "output_type": "stream",
          "name": "stdout",
          "text": [
            "  Height Weight Size Prediction\n",
            "4    163     64    L          L"
          ]
        }
      ],
      "source": [
        "plot(traindf_n$Height, traindf_n$Weight, col=train_target, pch=19, xlab=\"Height\", ylab=\"Weight\", xaxt='n', yaxt='n') \n",
        "points(normHeight[4], normWeight[4], pch=19, col=\"blue\")"
      ],
      "id": "999da4c9-a69e-4122-a817-754a028de0d4"
    },
    {
      "cell_type": "markdown",
      "metadata": {},
      "source": [
        "Here is the 5rd data value in the testing set:"
      ],
      "id": "35fb2e34-3d89-4c90-8180-a536f8120361"
    },
    {
      "cell_type": "code",
      "execution_count": null,
      "metadata": {},
      "outputs": [
        {
          "output_type": "display_data",
          "metadata": {},
          "data": {
            "image/png": "[encoded data removed]"
          }
        },
        {
          "output_type": "stream",
          "name": "stdout",
          "text": [
            "  Height Weight Size Prediction\n",
            "5    165     65    L          L"
          ]
        }
      ],
      "source": [
        "plot(traindf_n$Height, traindf_n$Weight, col=train_target, pch=19, xlab=\"Height\", ylab=\"Weight\", xaxt='n', yaxt='n') \n",
        "points(normHeight[5], normWeight[5], pch=19, col=\"blue\")"
      ],
      "id": "a3708fbb-e733-46c3-bc32-2242161d529e"
    }
  ],
  "nbformat": 4,
  "nbformat_minor": 5,
  "metadata": {
    "kernelspec": {
      "name": "ir",
      "display_name": "R",
      "language": "R"
    }
  }
}