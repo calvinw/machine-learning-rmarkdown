{
  "cells": [
    {
      "cell_type": "markdown",
      "metadata": {},
      "source": [
        "# Confusion Matrix Question"
      ],
      "id": "c7766026-fd2b-445c-add3-65ea42943604"
    },
    {
      "cell_type": "code",
      "execution_count": null,
      "metadata": {},
      "outputs": [],
      "source": [
        "if (!require(\"Metrics\")) install.packages(\"Metrics\")\n",
        "library(\"Metrics\")"
      ],
      "id": "b198a3cc-bb39-4735-a693-1bc4ec226883"
    },
    {
      "cell_type": "markdown",
      "metadata": {},
      "source": [
        "Suppose we had a machine learning model, which was predicting a category\n",
        "like `yes` or `no` based on some predictors. For example the data might\n",
        "be this:"
      ],
      "id": "175484e1-c082-4feb-ac5c-061ffd65fd50"
    },
    {
      "cell_type": "code",
      "execution_count": null,
      "metadata": {},
      "outputs": [
        {
          "output_type": "stream",
          "name": "stdout",
          "text": [
            "   predicted actuals\n",
            "1       TRUE    TRUE\n",
            "2      FALSE   FALSE\n",
            "3       TRUE    TRUE\n",
            "4      FALSE   FALSE\n",
            "5       TRUE    TRUE\n",
            "6      FALSE   FALSE\n",
            "7      FALSE    TRUE\n",
            "8       TRUE   FALSE\n",
            "9      FALSE    TRUE\n",
            "10      TRUE    TRUE\n",
            "11     FALSE   FALSE\n",
            "12      TRUE    TRUE\n",
            "13     FALSE   FALSE\n",
            "14     FALSE   FALSE\n",
            "15     FALSE   FALSE"
          ]
        }
      ],
      "source": [
        "actuals   <- factor(c(T,F,T,F,T,F,T,F,T,T,F,T,F,F,F), levels=c(T,F))\n",
        "predicted <- factor(c(T,F,T,F,T,F,F,T,F,T,F,T,F,F,F), levels=c(T,F))\n",
        "df<- data.frame(predicted, actuals)\n",
        "print(df)"
      ],
      "id": "21a167c4-a7df-4dc7-ace7-974e574a2334"
    },
    {
      "cell_type": "markdown",
      "metadata": {},
      "source": [
        "So to summarize:\n",
        "\n",
        "-   PUT ANSWER HERE were predicted positive and they were actually\n",
        "    positive\n",
        "-   PUT ANSWER HERE were predicted negative and they were actually\n",
        "    negative\n",
        "-   PUT ANSWER HERE were predicted positive and they were actually\n",
        "    negative\n",
        "-   PUT ANSWER HERE were predicted negative and they were actually\n",
        "    positive\n",
        "\n",
        "We can represent that in a table called a “confusion matrix” as follows:\n",
        "\n",
        "|                        | Actual Positive | Actual Negative |\n",
        "|------------------------|-----------------|-----------------|\n",
        "| **Predicted Positive** | PUT ANS HERE    | PUT ANS HERE    |\n",
        "| **Predicted Negative** | PUT ANS HERE    | PUT ANS HERE    |\n",
        "\n",
        "Find the `accuracy` from the `predicted` and `actuals` as follows:"
      ],
      "id": "34ca0a37-2850-42d9-8c36-055247bece0d"
    },
    {
      "cell_type": "code",
      "execution_count": null,
      "metadata": {},
      "outputs": [],
      "source": [
        "PUT CODE HERE"
      ],
      "id": "271a4f15-1aa0-4b9c-b851-12c8c311320e"
    }
  ],
  "nbformat": 4,
  "nbformat_minor": 5,
  "metadata": {
    "kernelspec": {
      "name": "ir",
      "display_name": "R",
      "language": "R"
    }
  }
}