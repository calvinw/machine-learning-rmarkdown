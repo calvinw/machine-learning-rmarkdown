{
  "cells": [
    {
      "cell_type": "markdown",
      "metadata": {},
      "source": [
        "# Confusion Matrix Question"
      ],
      "id": "4e807995-5eab-4c36-a05b-dd26f11f3fa1"
    },
    {
      "cell_type": "code",
      "execution_count": null,
      "metadata": {},
      "outputs": [],
      "source": [
        "if (!require(\"Metrics\")) install.packages(\"Metrics\")\n",
        "library(\"Metrics\")"
      ],
      "id": "1d1a512c-0200-440d-bac2-38489535d83c"
    },
    {
      "cell_type": "markdown",
      "metadata": {},
      "source": [
        "Suppose we had a machine learning model, which was predicting a category\n",
        "like `yes` or `no` based on some predictors. For example the data might\n",
        "be this:"
      ],
      "id": "cb1b42be-c86c-442a-93ea-b39f4bfa402b"
    },
    {
      "cell_type": "code",
      "execution_count": null,
      "metadata": {},
      "outputs": [
        {
          "output_type": "stream",
          "name": "stdout",
          "text": [
            "   predicted actuals\n",
            "1       TRUE    TRUE\n",
            "2      FALSE   FALSE\n",
            "3       TRUE    TRUE\n",
            "4      FALSE   FALSE\n",
            "5       TRUE    TRUE\n",
            "6      FALSE   FALSE\n",
            "7      FALSE    TRUE\n",
            "8       TRUE   FALSE\n",
            "9      FALSE    TRUE\n",
            "10      TRUE    TRUE\n",
            "11     FALSE   FALSE\n",
            "12      TRUE    TRUE\n",
            "13     FALSE   FALSE\n",
            "14     FALSE   FALSE\n",
            "15     FALSE   FALSE"
          ]
        }
      ],
      "source": [
        "actuals   <- factor(c(T,F,T,F,T,F,T,F,T,T,F,T,F,F,F), levels=c(T,F))\n",
        "predicted <- factor(c(T,F,T,F,T,F,F,T,F,T,F,T,F,F,F), levels=c(T,F))\n",
        "df<- data.frame(predicted, actuals)\n",
        "print(df)"
      ],
      "id": "7e559892-541b-4c9a-b2b3-0c15d6836371"
    },
    {
      "cell_type": "markdown",
      "metadata": {},
      "source": [
        "So to summarize:\n",
        "\n",
        "-   PUT ANSWER HERE were predicted positive and they were actually\n",
        "    positive\n",
        "-   PUT ANSWER HERE were predicted negative and they were actually\n",
        "    negative\n",
        "-   PUT ANSWER HERE were predicted positive and they were actually\n",
        "    negative\n",
        "-   PUT ANSWER HERE were predicted negative and they were actually\n",
        "    positive\n",
        "\n",
        "We can represent that in a table called a “confusion matrix” as follows:\n",
        "\n",
        "|                        | Actual Positive | Actual Negative |\n",
        "|------------------------|-----------------|-----------------|\n",
        "| **Predicted Positive** | PUT ANS HERE    | PUT ANS HERE    |\n",
        "| **Predicted Negative** | PUT ANS HERE    | PUT ANS HERE    |\n",
        "\n",
        "Find the `accuracy` from the `predicted` and `actuals` as follows:"
      ],
      "id": "aaa4e267-9166-4d32-aa95-0c029ce940fa"
    },
    {
      "cell_type": "code",
      "execution_count": null,
      "metadata": {},
      "outputs": [],
      "source": [
        "PUT CODE HERE"
      ],
      "id": "dc46c3fa-a90c-4351-9bbf-59688ded8f6f"
    }
  ],
  "nbformat": 4,
  "nbformat_minor": 5,
  "metadata": {
    "kernelspec": {
      "name": "ir",
      "display_name": "R",
      "language": "R"
    }
  }
}