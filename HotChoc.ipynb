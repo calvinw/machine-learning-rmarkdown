{
  "cells": [
    {
      "cell_type": "markdown",
      "metadata": {},
      "source": [
        "# Hot Choc"
      ],
      "id": "560f732f-307f-457d-86ac-17158858599a"
    },
    {
      "cell_type": "code",
      "execution_count": null,
      "metadata": {},
      "outputs": [],
      "source": [
        "options(\"scipen\"=100, \"digits\"=4)\n",
        "if(!require(\"rpart\")) install.packages(\"rpart\")\n",
        "if(!require(\"rpart.plot\")) install.packages(\"rpart.plot\")\n",
        "if(!require(\"Metrics\")) install.packages(\"Metrics\")\n",
        "library(\"rpart\")\n",
        "library(\"rpart.plot\")\n",
        "library(\"Metrics\")"
      ],
      "id": "661c422b-47a6-42bf-840d-b551ed100d8c"
    },
    {
      "cell_type": "markdown",
      "metadata": {},
      "source": [
        "## Training Data\n",
        "\n",
        "First lets take a look at the data we will work with. Suppose we have\n",
        "the following weather data and want to predict when someone will buy hot\n",
        "chocolate given the weather conditions. For example will someone buy hot\n",
        "chocolate when the it is humid or windy?\n",
        "\n",
        "So here is the data we have, this will be our training data:\n",
        "\n",
        "-   `Buys` is our result or outcome\n",
        "-   `Humid`, `Windy` are the predictors\n",
        "\n",
        "We hope that some of these predictors will help up predict the `Buys`\n",
        "column:  \n",
        "So we will use this data to build our model. Then after we build the\n",
        "model, we will test it using some different data, called the “testing”\n",
        "data. Once we test it we will be able to deterimine how accurate our\n",
        "model is.\n",
        "\n",
        "To start we read the training data above from a csv file and print out\n",
        "its structore:"
      ],
      "id": "c2262a42-d0d7-4be6-9b40-5b20cde0a4e2"
    },
    {
      "cell_type": "code",
      "execution_count": null,
      "metadata": {},
      "outputs": [],
      "source": [
        "trainurl<-\"https://docs.google.com/spreadsheets/d/e/2PACX-1vQuCBiuFmkNVmiG_0iXURTsvBytLIxOYhiWEIxwOwGUKltTwB0aVP-ZbdPPN6luekXca9gzz2XCADS0/pub?gid=0&single=true&output=csv\"\n",
        "train<-read.csv(trainurl)"
      ],
      "id": "ddf73f89-8836-41f1-8681-c7639c91aa6d"
    },
    {
      "cell_type": "markdown",
      "metadata": {},
      "source": [
        "-   Print out the info of the data frame using `str(train)`"
      ],
      "id": "e06a61f1-89de-41b8-8cd4-7860dd3c28c7"
    },
    {
      "cell_type": "code",
      "execution_count": null,
      "metadata": {},
      "outputs": [],
      "source": [
        "CODE"
      ],
      "id": "59bbccbf-5eb4-4474-bef3-56a67a93ce8d"
    },
    {
      "cell_type": "markdown",
      "metadata": {},
      "source": [
        "Now let’s print out the training set to make sure we read it correctly:\n",
        "\n",
        "-   Print out the the data frame using `print(train)`"
      ],
      "id": "52228633-8c78-4fce-9bec-c5de20fa09f5"
    },
    {
      "cell_type": "code",
      "execution_count": null,
      "metadata": {},
      "outputs": [],
      "source": [
        "CODE"
      ],
      "id": "f3c44f5b-421b-4fc6-a3b4-be8630c80f6f"
    },
    {
      "cell_type": "markdown",
      "metadata": {},
      "source": [
        "## Testing Data\n",
        "\n",
        "Next let’s look at some data that we can use as a testing set. This data\n",
        "we will use to evaluate how well the models we looked at above will do\n",
        "when they see “new” data. This gives a better idea of how accurate our\n",
        "model is.\n",
        "\n",
        "First we read the test set and look at its structure:"
      ],
      "id": "de41d40c-faf9-4162-a44b-b4fc1b18635e"
    },
    {
      "cell_type": "code",
      "execution_count": null,
      "metadata": {},
      "outputs": [],
      "source": [
        "testurl<-\"https://docs.google.com/spreadsheets/d/e/2PACX-1vQuCBiuFmkNVmiG_0iXURTsvBytLIxOYhiWEIxwOwGUKltTwB0aVP-ZbdPPN6luekXca9gzz2XCADS0/pub?gid=572053114&single=true&output=csv\"\n",
        "test<-read.csv(testurl)"
      ],
      "id": "9e02cf97-8ef3-4899-9413-0387a4f9d620"
    },
    {
      "cell_type": "markdown",
      "metadata": {},
      "source": [
        "-   Print out the info of this data frame using `str(test)`"
      ],
      "id": "8831f19c-86f3-46df-b624-3af43760dd1b"
    },
    {
      "cell_type": "code",
      "execution_count": null,
      "metadata": {},
      "outputs": [],
      "source": [
        "CODE"
      ],
      "id": "eae3fe1d-2e0d-4139-90f3-8cb90d453de8"
    },
    {
      "cell_type": "markdown",
      "metadata": {},
      "source": [
        "And now print out the test set:\n",
        "\n",
        "-   Print out the the data frame using `print(test)`"
      ],
      "id": "15742677-df29-43ae-a5fb-b4e607f30eb5"
    },
    {
      "cell_type": "code",
      "execution_count": null,
      "metadata": {},
      "outputs": [],
      "source": [
        "CODE"
      ],
      "id": "bc26e9c7-0233-4174-aa62-5ae5376efbe4"
    },
    {
      "cell_type": "markdown",
      "metadata": {},
      "source": [
        "We will try to understand how to build up a decision tree for this\n",
        "example by just using one variable at a time to model the decision tree.\n",
        "\n",
        "### Model 1 - Split on Humid\n",
        "\n",
        "#### Training\n",
        "\n",
        "What about if we use just `Humid` to try to predict `Buys`.\n",
        "\n",
        "-   sort the data frame using `Humid`"
      ],
      "id": "5a4c6465-3864-42ab-b241-6b592f77cb13"
    },
    {
      "cell_type": "code",
      "execution_count": null,
      "metadata": {},
      "outputs": [
        {
          "output_type": "stream",
          "name": "stdout",
          "text": [
            "    Humid Windy Buys\n",
            "1    high windy   no\n",
            "2    high  calm   no\n",
            "3    high  calm  yes\n",
            "7    high windy   no\n",
            "8    high windy   no\n",
            "12   high  calm   no\n",
            "4  normal  calm  yes\n",
            "5  normal  calm  yes\n",
            "6  normal  calm   no\n",
            "9  normal windy  yes\n",
            "10 normal windy  yes\n",
            "11 normal windy  yes\n",
            "13 normal  calm   no"
          ]
        }
      ],
      "source": [
        "print(train[order(train$Humid),])"
      ],
      "id": "9a698c48-c0dc-40f2-8749-a7822a259b7b"
    },
    {
      "cell_type": "markdown",
      "metadata": {},
      "source": [
        "-   Put in the right model for modeling `Buys` based just on `Humid`"
      ],
      "id": "c6ed453f-a01c-4b33-8831-a8153c1142a9"
    },
    {
      "cell_type": "code",
      "execution_count": null,
      "metadata": {},
      "outputs": [],
      "source": [
        "control = rpart.control(minsplit=1,maxdepth=1)\n",
        "model <- rpart(CODE, data=train, method=\"class\", control = control)\n",
        "rpart.plot(model, type=4, extra = 1, digits=-2)"
      ],
      "id": "126cd0ba-83a6-472f-93fd-d143ce4a97ff"
    },
    {
      "cell_type": "markdown",
      "metadata": {},
      "source": [
        "#### Testing\n",
        "\n",
        "Here are the predictions for our test data:\n",
        "\n",
        "-   Make predictions and create a dataframe by running the code below:"
      ],
      "id": "d0c6272b-6ec3-4bd3-8583-81d11553f5f5"
    },
    {
      "cell_type": "code",
      "execution_count": null,
      "metadata": {},
      "outputs": [],
      "source": [
        "pred <- predict(model, newdata = test, type = 'class')\n",
        "compare <- data.frame(actual=test$Buys, predictions=pred)\n",
        "print(compare)"
      ],
      "id": "712178f6-7b06-4dc3-b69f-297100e922c8"
    },
    {
      "cell_type": "markdown",
      "metadata": {},
      "source": [
        "Here is the confusion matrix:\n",
        "\n",
        "-   Create the confusion matrix by passing `test$Buys` and `pred` to the\n",
        "    `table` function:"
      ],
      "id": "ccb36b71-1456-4e28-98d7-29bf25dc228d"
    },
    {
      "cell_type": "code",
      "execution_count": null,
      "metadata": {},
      "outputs": [],
      "source": [
        "CODE"
      ],
      "id": "97265eff-528a-4b0a-a347-694f120e329a"
    },
    {
      "cell_type": "markdown",
      "metadata": {},
      "source": [
        "Here is the accuracy:\n",
        "\n",
        "-   calculate the accuracy passing `test$Buys` and `pred` to the\n",
        "    `accuracy` function:"
      ],
      "id": "9723aa1e-9657-4cbd-a78a-e753badf12d3"
    },
    {
      "cell_type": "code",
      "execution_count": null,
      "metadata": {},
      "outputs": [],
      "source": [
        "CODE"
      ],
      "id": "9fcfb8ba-1fd2-45e4-85ff-2226f04af8a1"
    },
    {
      "cell_type": "markdown",
      "metadata": {},
      "source": [
        "### Model 2 - Split on Windy\n",
        "\n",
        "#### Training\n",
        "\n",
        "Finally what about if we use `Windy` to try to predict `Buys`:\n",
        "\n",
        "-   sort the data frame using `Windy`"
      ],
      "id": "1eb056fa-590d-4caa-b1fc-1f9eb441f510"
    },
    {
      "cell_type": "code",
      "execution_count": null,
      "metadata": {},
      "outputs": [
        {
          "output_type": "stream",
          "name": "stdout",
          "text": [
            "    Humid Windy Buys\n",
            "2    high  calm   no\n",
            "3    high  calm  yes\n",
            "4  normal  calm  yes\n",
            "5  normal  calm  yes\n",
            "6  normal  calm   no\n",
            "12   high  calm   no\n",
            "13 normal  calm   no\n",
            "1    high windy   no\n",
            "7    high windy   no\n",
            "8    high windy   no\n",
            "9  normal windy  yes\n",
            "10 normal windy  yes\n",
            "11 normal windy  yes"
          ]
        }
      ],
      "source": [
        "print(train[order(train$Windy),])"
      ],
      "id": "d7bfaa32-bbe9-4787-9271-1ca266e82e08"
    },
    {
      "cell_type": "markdown",
      "metadata": {},
      "source": [
        "-   Put in the right model for modeling `Buys` based just on `Windy`"
      ],
      "id": "c202a16d-56d5-4fb1-887c-08a818160969"
    },
    {
      "cell_type": "code",
      "execution_count": null,
      "metadata": {},
      "outputs": [],
      "source": [
        "control = rpart.control(minsplit=1,maxdepth=1, cp=-1)\n",
        "model <- rpart(CODE, data=train, method=\"class\", control = control)\n",
        "rpart.plot(model, type=4, extra = 1, digits=-2)"
      ],
      "id": "4118b984-5f08-489c-b6c7-052853cf5bbd"
    },
    {
      "cell_type": "markdown",
      "metadata": {},
      "source": [
        "#### Testing\n",
        "\n",
        "Here are the predictions for our test data:\n",
        "\n",
        "-   Make predictions and create a dataframe by running the code below:\n",
        "\n",
        "Here is the confusion matrix:\n",
        "\n",
        "-   Create the confusion matrix by passing `test$Buys` and `pred` to the\n",
        "    `table` function:"
      ],
      "id": "ace0d679-ca09-4303-9342-82e6c11b4290"
    },
    {
      "cell_type": "code",
      "execution_count": null,
      "metadata": {},
      "outputs": [],
      "source": [
        "CODE"
      ],
      "id": "773495af-0b93-4aed-9ffe-337dd25dc758"
    },
    {
      "cell_type": "markdown",
      "metadata": {},
      "source": [
        "Here is the accuracy:\n",
        "\n",
        "-   calculate the accuracy passing `test$Buys` and `pred` to the\n",
        "    `accuracy` function:"
      ],
      "id": "75c0a3bd-4cb0-4d39-ad96-1bcfab2d6a9d"
    },
    {
      "cell_type": "code",
      "execution_count": null,
      "metadata": {},
      "outputs": [],
      "source": [
        "CODE"
      ],
      "id": "b3fcbd6f-ffaf-4d46-93cd-74c9b98ae4fd"
    },
    {
      "cell_type": "markdown",
      "metadata": {},
      "source": [
        "### Model 3 - All the predictors\n",
        "\n",
        "#### Training\n",
        "\n",
        "Here is a model that uses all the predictors:\n",
        "\n",
        "-   Put in the right model for modeling `Buys` based just on `Windy` and\n",
        "    `Humid`"
      ],
      "id": "5786137f-cd40-4149-bd76-6e823529ff8d"
    },
    {
      "cell_type": "code",
      "execution_count": null,
      "metadata": {},
      "outputs": [],
      "source": [
        "control = rpart.control(minsplit=1, maxdepth=3, cp=-1)\n",
        "model <- rpart(CODE, data=train, method=\"class\", control = control)\n",
        "rpart.plot(model, type=4, extra = 1, digits=-2)"
      ],
      "id": "ebd34489-984f-4422-bb58-b8e72121156c"
    },
    {
      "cell_type": "markdown",
      "metadata": {},
      "source": [
        "#### Testing\n",
        "\n",
        "Here are the predictions for our test data:\n",
        "\n",
        "-   Make predictions and create a dataframe by running the code below:"
      ],
      "id": "971d2fdc-849c-4fcc-8a6e-032c17f1433e"
    },
    {
      "cell_type": "code",
      "execution_count": null,
      "metadata": {},
      "outputs": [],
      "source": [
        "pred <- predict(model, newdata = test, type = 'class')\n",
        "compare <- data.frame(actual=test$Buys, predictions=pred)\n",
        "print(compare)"
      ],
      "id": "d5ab2c21-8ab3-49da-a9f9-3dd6296cb5e7"
    },
    {
      "cell_type": "markdown",
      "metadata": {},
      "source": [
        "Here is the confusion matrix:\n",
        "\n",
        "-   Create the confusion matrix by passing `test$Buys` and `pred` to the\n",
        "    `table` function:"
      ],
      "id": "1388d50e-9b16-4138-b6da-023e7955e254"
    },
    {
      "cell_type": "code",
      "execution_count": null,
      "metadata": {},
      "outputs": [],
      "source": [
        "CODE"
      ],
      "id": "f52c24d4-28da-4bb6-8d1e-e636b014f974"
    },
    {
      "cell_type": "markdown",
      "metadata": {},
      "source": [
        "Here is the accuracy:\n",
        "\n",
        "-   calculate the accuracy passing `test$Buys` and `pred` to the\n",
        "    `accuracy` function:"
      ],
      "id": "8d161b80-07b7-4dc1-a860-1aab65f4fa66"
    },
    {
      "cell_type": "code",
      "execution_count": null,
      "metadata": {},
      "outputs": [],
      "source": [
        "CODE"
      ],
      "id": "854749c6-56a9-43a4-a6ee-a9047c5c51e0"
    }
  ],
  "nbformat": 4,
  "nbformat_minor": 5,
  "metadata": {
    "kernelspec": {
      "name": "ir",
      "display_name": "R",
      "language": "R"
    }
  }
}