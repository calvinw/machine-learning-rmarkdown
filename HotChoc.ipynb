{
  "cells": [
    {
      "cell_type": "markdown",
      "metadata": {},
      "source": [
        "# Hot Choc"
      ],
      "id": "a834a5d4-f578-4f7f-a6eb-049b0b4071fe"
    },
    {
      "cell_type": "code",
      "execution_count": null,
      "metadata": {},
      "outputs": [],
      "source": [
        "options(\"scipen\"=100, \"digits\"=4)\n",
        "if(!require(\"rpart\")) install.packages(\"rpart\")\n",
        "if(!require(\"rpart.plot\")) install.packages(\"rpart.plot\")\n",
        "if(!require(\"Metrics\")) install.packages(\"Metrics\")\n",
        "library(\"rpart\")\n",
        "library(\"rpart.plot\")\n",
        "library(\"Metrics\")"
      ],
      "id": "6c5b47f3-aee7-4c7c-9bcb-db774ae8d611"
    },
    {
      "cell_type": "markdown",
      "metadata": {},
      "source": [
        "## Training Data\n",
        "\n",
        "First lets take a look at the data we will work with. Suppose we have\n",
        "the following weather data and want to predict when someone will buy hot\n",
        "chocolate given the weather conditions. For example will someone buy hot\n",
        "chocolate when the it is humid or windy?\n",
        "\n",
        "So here is the data we have, this will be our training data:\n",
        "\n",
        "-   `Buys` is our result or outcome\n",
        "-   `Humid`, `Windy` are the predictors\n",
        "\n",
        "We hope that some of these predictors will help up predict the `Buys`\n",
        "column:  \n",
        "So we will use this data to build our model. Then after we build the\n",
        "model, we will test it using some different data, called the “testing”\n",
        "data. Once we test it we will be able to deterimine how accurate our\n",
        "model is.\n",
        "\n",
        "To start we read the training data above from a csv file and print out\n",
        "its structore:"
      ],
      "id": "9a634306-fc0f-42c4-af96-bef08f293b4a"
    },
    {
      "cell_type": "code",
      "execution_count": null,
      "metadata": {},
      "outputs": [],
      "source": [
        "trainurl<-\"https://docs.google.com/spreadsheets/d/e/2PACX-1vQuCBiuFmkNVmiG_0iXURTsvBytLIxOYhiWEIxwOwGUKltTwB0aVP-ZbdPPN6luekXca9gzz2XCADS0/pub?gid=0&single=true&output=csv\"\n",
        "train<-read.csv(trainurl)"
      ],
      "id": "1fe7fa32-0efe-46b2-8005-d98f7537985c"
    },
    {
      "cell_type": "markdown",
      "metadata": {},
      "source": [
        "-   Print out the info of the data frame using `str(train)`"
      ],
      "id": "668f7094-f763-476e-a2c6-dec46d9ad5e3"
    },
    {
      "cell_type": "code",
      "execution_count": null,
      "metadata": {},
      "outputs": [],
      "source": [
        "CODE"
      ],
      "id": "ca08e65c-4f16-487a-b27d-c9f5b96390ed"
    },
    {
      "cell_type": "markdown",
      "metadata": {},
      "source": [
        "Now let’s print out the training set to make sure we read it correctly:\n",
        "\n",
        "-   Print out the the data frame using `print(train)`"
      ],
      "id": "7a52373a-ddf6-440f-9f11-2c46ad42ddb8"
    },
    {
      "cell_type": "code",
      "execution_count": null,
      "metadata": {},
      "outputs": [],
      "source": [
        "CODE"
      ],
      "id": "ae96f352-be10-408e-bc7e-e3e59c97b994"
    },
    {
      "cell_type": "markdown",
      "metadata": {},
      "source": [
        "## Testing Data\n",
        "\n",
        "Next let’s look at some data that we can use as a testing set. This data\n",
        "we will use to evaluate how well the models we looked at above will do\n",
        "when they see “new” data. This gives a better idea of how accurate our\n",
        "model is.\n",
        "\n",
        "First we read the test set and look at its structure:"
      ],
      "id": "0741f7c6-3833-4d40-986a-b8e182613a2b"
    },
    {
      "cell_type": "code",
      "execution_count": null,
      "metadata": {},
      "outputs": [],
      "source": [
        "testurl<-\"https://docs.google.com/spreadsheets/d/e/2PACX-1vQuCBiuFmkNVmiG_0iXURTsvBytLIxOYhiWEIxwOwGUKltTwB0aVP-ZbdPPN6luekXca9gzz2XCADS0/pub?gid=572053114&single=true&output=csv\"\n",
        "test<-read.csv(testurl)"
      ],
      "id": "6230f337-a0fd-4d45-b254-51e22bccada6"
    },
    {
      "cell_type": "markdown",
      "metadata": {},
      "source": [
        "-   Print out the info of this data frame using `str(test)`"
      ],
      "id": "a01c6d4b-d9b3-4bd9-afcd-eb84b955e098"
    },
    {
      "cell_type": "code",
      "execution_count": null,
      "metadata": {},
      "outputs": [],
      "source": [
        "CODE"
      ],
      "id": "535c5431-4334-45b7-9c59-ec3d7fb3281d"
    },
    {
      "cell_type": "markdown",
      "metadata": {},
      "source": [
        "And now print out the test set:\n",
        "\n",
        "-   Print out the the data frame using `print(test)`"
      ],
      "id": "9941ba68-bb2d-44b2-9e9d-262176d183f2"
    },
    {
      "cell_type": "code",
      "execution_count": null,
      "metadata": {},
      "outputs": [],
      "source": [
        "CODE"
      ],
      "id": "0be4a687-b1aa-442c-b0ff-9b8039fc34a3"
    },
    {
      "cell_type": "markdown",
      "metadata": {},
      "source": [
        "We will try to understand how to build up a decision tree for this\n",
        "example by just using one variable at a time to model the decision tree.\n",
        "\n",
        "### Model 1 - Split on Humid\n",
        "\n",
        "#### Training\n",
        "\n",
        "What about if we use just `Humid` to try to predict `Buys`.\n",
        "\n",
        "-   sort the data frame using `Humid`"
      ],
      "id": "c906920d-74af-493d-ab94-4aa410f4b2c7"
    },
    {
      "cell_type": "code",
      "execution_count": null,
      "metadata": {},
      "outputs": [
        {
          "output_type": "stream",
          "name": "stdout",
          "text": [
            "    Humid Windy Buys\n",
            "1    high windy   no\n",
            "2    high  calm   no\n",
            "3    high  calm  yes\n",
            "7    high windy   no\n",
            "8    high windy   no\n",
            "12   high  calm   no\n",
            "4  normal  calm  yes\n",
            "5  normal  calm  yes\n",
            "6  normal  calm   no\n",
            "9  normal windy  yes\n",
            "10 normal windy  yes\n",
            "11 normal windy  yes\n",
            "13 normal  calm   no"
          ]
        }
      ],
      "source": [
        "print(train[order(train$Humid),])"
      ],
      "id": "3808a74d-1588-45de-afb3-6933d6030ffe"
    },
    {
      "cell_type": "markdown",
      "metadata": {},
      "source": [
        "-   Put in the right model for modeling `Buys` based just on `Humid`"
      ],
      "id": "db049122-eaa9-47c7-85bb-19c62fc4c7bf"
    },
    {
      "cell_type": "code",
      "execution_count": null,
      "metadata": {},
      "outputs": [],
      "source": [
        "control = rpart.control(minsplit=1,maxdepth=1)\n",
        "model <- rpart(CODE, data=train, method=\"class\", control = control)\n",
        "rpart.plot(model, type=4, extra = 1, digits=-2)"
      ],
      "id": "1738940b-83e6-4d3f-8045-4a07d1edc37c"
    },
    {
      "cell_type": "markdown",
      "metadata": {},
      "source": [
        "#### Testing\n",
        "\n",
        "Here are the predictions for our test data:\n",
        "\n",
        "-   Make predictions and create a dataframe by running the code below:"
      ],
      "id": "669e2143-4568-4bf2-a29e-6f1ad13157f6"
    },
    {
      "cell_type": "code",
      "execution_count": null,
      "metadata": {},
      "outputs": [],
      "source": [
        "pred <- predict(model, newdata = test, type = 'class')\n",
        "compare <- data.frame(actual=test$Buys, predictions=pred)\n",
        "print(compare)"
      ],
      "id": "5c6e2489-7019-4787-a8e9-eeb6aecf6207"
    },
    {
      "cell_type": "markdown",
      "metadata": {},
      "source": [
        "Here is the confusion matrix:\n",
        "\n",
        "-   Create the confusion matrix by passing `test$Buys` and `pred` to the\n",
        "    `table` function:"
      ],
      "id": "7ccb17c5-c2cb-4de8-b369-934ded161d9d"
    },
    {
      "cell_type": "code",
      "execution_count": null,
      "metadata": {},
      "outputs": [],
      "source": [
        "CODE"
      ],
      "id": "9172c1e8-1fe5-42ff-9441-70cb9df80253"
    },
    {
      "cell_type": "markdown",
      "metadata": {},
      "source": [
        "Here is the accuracy:\n",
        "\n",
        "-   calculate the accuracy passing `test$Buys` and `pred` to the\n",
        "    `accuracy` function:"
      ],
      "id": "9c2e74ec-5257-47c9-a3cc-4707c73c9356"
    },
    {
      "cell_type": "code",
      "execution_count": null,
      "metadata": {},
      "outputs": [],
      "source": [
        "CODE"
      ],
      "id": "68ad8e83-7206-4625-a72a-ff01eebee8f4"
    },
    {
      "cell_type": "markdown",
      "metadata": {},
      "source": [
        "### Model 2 - Split on Windy\n",
        "\n",
        "#### Training\n",
        "\n",
        "Finally what about if we use `Windy` to try to predict `Buys`:\n",
        "\n",
        "-   sort the data frame using `Windy`"
      ],
      "id": "a70b3363-0f2e-4af9-8ff1-1ae38fbf7181"
    },
    {
      "cell_type": "code",
      "execution_count": null,
      "metadata": {},
      "outputs": [
        {
          "output_type": "stream",
          "name": "stdout",
          "text": [
            "    Humid Windy Buys\n",
            "2    high  calm   no\n",
            "3    high  calm  yes\n",
            "4  normal  calm  yes\n",
            "5  normal  calm  yes\n",
            "6  normal  calm   no\n",
            "12   high  calm   no\n",
            "13 normal  calm   no\n",
            "1    high windy   no\n",
            "7    high windy   no\n",
            "8    high windy   no\n",
            "9  normal windy  yes\n",
            "10 normal windy  yes\n",
            "11 normal windy  yes"
          ]
        }
      ],
      "source": [
        "print(train[order(train$Windy),])"
      ],
      "id": "e9b13f09-2a13-495d-aad0-7055011b432a"
    },
    {
      "cell_type": "markdown",
      "metadata": {},
      "source": [
        "-   Put in the right model for modeling `Buys` based just on `Windy`"
      ],
      "id": "5a2a7b16-ba66-4494-b4e8-0ba83b73b589"
    },
    {
      "cell_type": "code",
      "execution_count": null,
      "metadata": {},
      "outputs": [],
      "source": [
        "control = rpart.control(minsplit=1,maxdepth=1, cp=-1)\n",
        "model <- rpart(CODE, data=train, method=\"class\", control = control)\n",
        "rpart.plot(model, type=4, extra = 1, digits=-2)"
      ],
      "id": "342b51d7-781f-400e-9293-aa0d082a4cdf"
    },
    {
      "cell_type": "markdown",
      "metadata": {},
      "source": [
        "#### Testing\n",
        "\n",
        "Here are the predictions for our test data:\n",
        "\n",
        "-   Make predictions and create a dataframe by running the code below:\n",
        "\n",
        "Here is the confusion matrix:\n",
        "\n",
        "-   Create the confusion matrix by passing `test$Buys` and `pred` to the\n",
        "    `table` function:"
      ],
      "id": "7259da04-8087-4ced-9215-c5e1126ac3c4"
    },
    {
      "cell_type": "code",
      "execution_count": null,
      "metadata": {},
      "outputs": [],
      "source": [
        "CODE"
      ],
      "id": "f9c0a8f2-5703-4202-b279-35839c3ac877"
    },
    {
      "cell_type": "markdown",
      "metadata": {},
      "source": [
        "Here is the accuracy:\n",
        "\n",
        "-   calculate the accuracy passing `test$Buys` and `pred` to the\n",
        "    `accuracy` function:"
      ],
      "id": "ae210cb6-9c16-40ce-a1df-d676b8c3358a"
    },
    {
      "cell_type": "code",
      "execution_count": null,
      "metadata": {},
      "outputs": [],
      "source": [
        "CODE"
      ],
      "id": "94a8ae4d-b8e1-4ec2-872e-aee5b4a24912"
    },
    {
      "cell_type": "markdown",
      "metadata": {},
      "source": [
        "### Model 3 - All the predictors\n",
        "\n",
        "#### Training\n",
        "\n",
        "Here is a model that uses all the predictors:\n",
        "\n",
        "-   Put in the right model for modeling `Buys` based just on `Windy` and\n",
        "    `Humid`"
      ],
      "id": "4a620a9d-d8b3-4732-ad06-aac46675e157"
    },
    {
      "cell_type": "code",
      "execution_count": null,
      "metadata": {},
      "outputs": [],
      "source": [
        "control = rpart.control(minsplit=1, maxdepth=3, cp=-1)\n",
        "model <- rpart(CODE, data=train, method=\"class\", control = control)\n",
        "rpart.plot(model, type=4, extra = 1, digits=-2)"
      ],
      "id": "7990a837-9595-42f8-bfc0-18ba21b0502b"
    },
    {
      "cell_type": "markdown",
      "metadata": {},
      "source": [
        "#### Testing\n",
        "\n",
        "Here are the predictions for our test data:\n",
        "\n",
        "-   Make predictions and create a dataframe by running the code below:"
      ],
      "id": "f7db84b8-bd11-46df-94b1-9716d95ec4dc"
    },
    {
      "cell_type": "code",
      "execution_count": null,
      "metadata": {},
      "outputs": [],
      "source": [
        "pred <- predict(model, newdata = test, type = 'class')\n",
        "compare <- data.frame(actual=test$Buys, predictions=pred)\n",
        "print(compare)"
      ],
      "id": "32e12875-f773-4c86-a0e0-d773e1f8bfce"
    },
    {
      "cell_type": "markdown",
      "metadata": {},
      "source": [
        "Here is the confusion matrix:\n",
        "\n",
        "-   Create the confusion matrix by passing `test$Buys` and `pred` to the\n",
        "    `table` function:"
      ],
      "id": "1d980b07-ba34-4fa2-8f5d-98fec61e710b"
    },
    {
      "cell_type": "code",
      "execution_count": null,
      "metadata": {},
      "outputs": [],
      "source": [
        "CODE"
      ],
      "id": "1e236c71-4a01-44af-9fa7-668ed0a39018"
    },
    {
      "cell_type": "markdown",
      "metadata": {},
      "source": [
        "Here is the accuracy:\n",
        "\n",
        "-   calculate the accuracy passing `test$Buys` and `pred` to the\n",
        "    `accuracy` function:"
      ],
      "id": "4a495c0f-8669-4f68-bcc9-8256d9d6b8d9"
    },
    {
      "cell_type": "code",
      "execution_count": null,
      "metadata": {},
      "outputs": [],
      "source": [
        "CODE"
      ],
      "id": "405dd09e-6ece-4af7-b254-02ed4172e711"
    }
  ],
  "nbformat": 4,
  "nbformat_minor": 5,
  "metadata": {
    "kernelspec": {
      "name": "ir",
      "display_name": "R",
      "language": "R"
    }
  }
}