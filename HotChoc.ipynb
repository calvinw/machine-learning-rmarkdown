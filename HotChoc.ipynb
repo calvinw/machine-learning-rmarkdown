{
 "cells": [
  {
   "cell_type": "code",
   "execution_count": null,
   "metadata": {},
   "outputs": [],
   "source": [
    "options(\"scipen\"=100, \"digits\"=4)\n",
    "if(!require(\"readr\")) install.packages(\"readr\")\n",
    "if(!require(\"rpart\")) install.packages(\"rpart\")\n",
    "if(!require(\"rpart.plot\")) install.packages(\"rpart.plot\")\n",
    "if(!require(\"Metrics\")) install.packages(\"Metrics\")\n",
    "library(\"readr\")\n",
    "library(\"rpart\")\n",
    "library(\"rpart.plot\")\n",
    "library(\"Metrics\")"
   ]
  },
  {
   "cell_type": "markdown",
   "metadata": {},
   "source": [
    "Building the Decision Tree using the training set\n",
    "-------------------------------------------------\n",
    "\n",
    "First lets take a look at the data we will work with. Suppose we have\n",
    "the following weather data and want to predict when someone will buy hot\n",
    "chocolate given the weather conditions. For example will someone buy hot\n",
    "chocolate when the weather outlook is sunny and hot? Probably not. What\n",
    "about if it is rainy or humid?\n",
    "\n",
    "So here is the data we have, this will be our training data:\n",
    "\n",
    "-   `Buys` is our result or outcome\n",
    "-   `Outlook`, `Temp`, `Humid`, `Windy` are the predictors\n",
    "\n",
    "We hope that some of these predictors will help up predict the `Buys`\n",
    "column:\n",
    "\n",
    "| Outlook  | Temp | Humid  | Windy | Buys |\n",
    "|:---------|:-----|:-------|:------|:-----|\n",
    "| sunny    | hot  | high   | no    | no   |\n",
    "| sunny    | hot  | high   | yes   | no   |\n",
    "| overcast | hot  | high   | no    | no   |\n",
    "| rainy    | mild | high   | no    | no   |\n",
    "| rainy    | cool | normal | no    | yes  |\n",
    "| rainy    | cool | normal | yes   | yes  |\n",
    "| overcast | cool | normal | yes   | yes  |\n",
    "| sunny    | mild | high   | no    | no   |\n",
    "| sunny    | cool | normal | no    | yes  |\n",
    "| rainy    | mild | normal | no    | yes  |\n",
    "| sunny    | mild | normal | yes   | no   |\n",
    "| overcast | hot  | normal | no    | no   |\n",
    "| rainy    | mild | high   | yes   | no   |\n",
    "\n",
    "So we will use this data to build our model. Then after we build the\n",
    "model, we will test it using some different data, called the “testing”\n",
    "data. Once we test it we will be able to deterimine how accurate our\n",
    "model is.\n",
    "\n",
    "To start we read the training data above from a csv file and print out\n",
    "its structore:"
   ]
  },
  {
   "cell_type": "code",
   "execution_count": null,
   "metadata": {},
   "outputs": [],
   "source": [
    "trainurl<-\"https://docs.google.com/spreadsheets/d/e/2PACX-1vSfQk849ICHKNqacbvmG1PZQiCfGadL2TgeGn9aaCj0-luDgE5fZA9p6dPJj6RDrreXsCc2XYaFOmKU/pub?gid=0&single=true&output=csv\"\n",
    "traindf<-read.csv(trainurl, stringsAsFactors=TRUE)\n",
    "str(traindf)"
   ]
  },
  {
   "cell_type": "markdown",
   "metadata": {},
   "source": [
    "Now let’s print out the training set to make sure we read it correctly:"
   ]
  },
  {
   "cell_type": "code",
   "execution_count": null,
   "metadata": {},
   "outputs": [],
   "source": [
    "print(traindf)"
   ]
  },
  {
   "cell_type": "markdown",
   "metadata": {},
   "source": [
    "We will try to understand how to build up a decision tree for this\n",
    "example by just using one variable at a time to model the decision tree.\n",
    "\n",
    "First lets take a look at a simple model that uses just `Outlook` to try\n",
    "to predict `Buys`."
   ]
  },
  {
   "cell_type": "code",
   "execution_count": null,
   "metadata": {},
   "outputs": [],
   "source": [
    "control = rpart.control(minsplit=1,maxdepth=1)\n",
    "model <- rpart(Buys~Outlook, data=traindf, method=\"class\", control = control)\n",
    "rpart.plot(model, type=4, extra = 1, digits=-2)"
   ]
  },
  {
   "cell_type": "markdown",
   "metadata": {},
   "source": [
    "Next lets look at a model that uses just `Temp` to try to predict\n",
    "`Buys`:"
   ]
  },
  {
   "cell_type": "code",
   "execution_count": null,
   "metadata": {},
   "outputs": [],
   "source": [
    "control = rpart.control(minsplit=1,maxdepth=1)\n",
    "model <- rpart(Buys~Temp, data=traindf, method=\"class\", control = control)\n",
    "rpart.plot(model, type=4, extra = 1, digits=-2)"
   ]
  },
  {
   "cell_type": "markdown",
   "metadata": {},
   "source": [
    "What about if we use just `Humid` to try to predict `Buys`:"
   ]
  },
  {
   "cell_type": "code",
   "execution_count": null,
   "metadata": {},
   "outputs": [],
   "source": [
    "control = rpart.control(minsplit=1,maxdepth=1)\n",
    "model <- rpart(Buys~Humid, data=traindf, method=\"class\", control = control)\n",
    "rpart.plot(model, type=4, extra = 1, digits=-2)"
   ]
  },
  {
   "cell_type": "markdown",
   "metadata": {},
   "source": [
    "Finally what about if we use `Windy` to try to predict `Buys`:"
   ]
  },
  {
   "cell_type": "code",
   "execution_count": null,
   "metadata": {},
   "outputs": [],
   "source": [
    "control = rpart.control(minsplit=1,maxdepth=1, cp=-1)\n",
    "model <- rpart(Buys~Windy, data=traindf, method=\"class\", control = control)\n",
    "rpart.plot(model, type=4, extra = 1, digits=-2)"
   ]
  },
  {
   "cell_type": "markdown",
   "metadata": {},
   "source": [
    "What about if we use both `Temp` and `Outlook` together to predict\n",
    "`Buys`:"
   ]
  },
  {
   "cell_type": "code",
   "execution_count": null,
   "metadata": {},
   "outputs": [],
   "source": [
    "control = rpart.control(minsplit=1,maxdepth=3, cp=-1)\n",
    "model <- rpart(Buys~Temp+Outlook, data=traindf, method=\"class\", control = control)\n",
    "rpart.plot(model, type=4, extra = 1, digits=-2)"
   ]
  },
  {
   "cell_type": "markdown",
   "metadata": {},
   "source": [
    "What about if we use both `Temp` and `Humid` together to predict `Buys`:"
   ]
  },
  {
   "cell_type": "code",
   "execution_count": null,
   "metadata": {},
   "outputs": [],
   "source": [
    "control = rpart.control(minsplit=1,maxdepth=3, cp=-1)\n",
    "model <- rpart(Buys~Temp+Humid, data=traindf, method=\"class\", control = control)\n",
    "rpart.plot(model, type=4, extra = 1, digits=-2)"
   ]
  },
  {
   "cell_type": "markdown",
   "metadata": {},
   "source": [
    "Which of these models above looks best and why? It is not always easy to\n",
    "tell actually!!\n",
    "\n",
    "Here is a model that uses all the predictors:"
   ]
  },
  {
   "cell_type": "code",
   "execution_count": null,
   "metadata": {},
   "outputs": [],
   "source": [
    "control = rpart.control(minsplit=1)\n",
    "model <- rpart(Buys~Temp+Humid+Outlook+Windy, data=traindf, method=\"class\", control = control)\n",
    "rpart.plot(model, type=4, extra = 1, digits=-2)"
   ]
  },
  {
   "cell_type": "markdown",
   "metadata": {},
   "source": [
    "One nice thing about this model is that all the leaf nodes are “pure”\n",
    "now. That means that one of the numbers that lists the outcomes is 0\n",
    "each time. That means that node either is all “yes”s or all “no”s.\n",
    "Nothing in the training set is incorrectly predicted by this model.\n",
    "\n",
    "Testing the Decision Tree model using the testing set\n",
    "-----------------------------------------------------\n",
    "\n",
    "Next let’s look at some data that we can use as a testing set. This data\n",
    "we will use to evaluate how well the models we looked at above will do\n",
    "when they see “new” data. This gives a better idea of how accurate our\n",
    "model is. So here is the data we will use as our testing data:\n",
    "\n",
    "| Outlook  | Temp | Humid  | Windy | Buys |\n",
    "|:---------|:-----|:-------|:------|:-----|\n",
    "| sunny    | mild | high   | no    | no   |\n",
    "| rainy    | mild | normal | no    | yes  |\n",
    "| overcast | mild | high   | no    | yes  |\n",
    "| sunny    | mild | normal | yes   | yes  |\n",
    "| rainy    | cool | normal | yes   | yes  |\n",
    "| sunny    | mild | normal | no    | no   |\n",
    "| overcast | hot  | high   | no    | no   |\n",
    "| rainy    | cool | normal | no    | yes  |\n",
    "\n",
    "First we read the test set and look at its structure:"
   ]
  },
  {
   "cell_type": "code",
   "execution_count": null,
   "metadata": {},
   "outputs": [],
   "source": [
    "testurl<-\"https://docs.google.com/spreadsheets/d/e/2PACX-1vSfQk849ICHKNqacbvmG1PZQiCfGadL2TgeGn9aaCj0-luDgE5fZA9p6dPJj6RDrreXsCc2XYaFOmKU/pub?gid=572053114&single=true&output=csv\"\n",
    "testdf<-read.csv(testurl, stringsAsFactors=TRUE)\n",
    "str(testdf)"
   ]
  },
  {
   "cell_type": "markdown",
   "metadata": {},
   "source": [
    "And now print out the test set:"
   ]
  },
  {
   "cell_type": "code",
   "execution_count": null,
   "metadata": {},
   "outputs": [],
   "source": [
    "print(testdf)"
   ]
  },
  {
   "cell_type": "markdown",
   "metadata": {},
   "source": [
    "Now we are ready to do some predictions using the test dataframe:"
   ]
  },
  {
   "cell_type": "code",
   "execution_count": null,
   "metadata": {},
   "outputs": [],
   "source": [
    "pred <- predict(model, newdata = testdf, type = 'class')\n",
    "str(pred)"
   ]
  },
  {
   "cell_type": "markdown",
   "metadata": {},
   "source": [
    "So `pred` now holds our predictions.\n",
    "\n",
    "We can now compare those predictions (from our model) with the actual\n",
    "known results from the testing data. Here we are comparing how our model\n",
    "“predicted” on the test data with the “actual” outcomes that were\n",
    "included in the testing data. Here it is important that we know the\n",
    "actual outcomes on the testing data so we can see how we do.\n",
    "\n",
    "Lets make a data frame that shows the prediction and the actuals:"
   ]
  },
  {
   "cell_type": "code",
   "execution_count": null,
   "metadata": {},
   "outputs": [],
   "source": [
    "comparedf <- data.frame(actual=testdf$Buys, predictions=pred)\n",
    "print(comparedf)"
   ]
  },
  {
   "cell_type": "markdown",
   "metadata": {},
   "source": [
    "Now one thing we can calculate is the proportion of agreement. This is\n",
    "called the “accuracy” of the model. The accuracy is just\n",
    "\n",
    "$$accuracy = \\frac{\\text{number of correct predictions}}{\\text{number of all predictions}}$$\n",
    "\n",
    "We can find it by using the accuracy function in the `Metrics` package"
   ]
  },
  {
   "cell_type": "code",
   "execution_count": null,
   "metadata": {},
   "outputs": [],
   "source": [
    "accuracy(testdf$Buys, pred)"
   ]
  },
  {
   "cell_type": "markdown",
   "metadata": {},
   "source": [
    "This is called the `accuracy` of the model. This is the proportion of\n",
    "times that the prediction agreed with the actual in the above.\n",
    "\n",
    "We can get some more information by looking at the “confusion matrix”"
   ]
  },
  {
   "cell_type": "code",
   "execution_count": null,
   "metadata": {},
   "outputs": [],
   "source": [
    "table(actual=testdf$Buys, predictions=pred)"
   ]
  },
  {
   "cell_type": "markdown",
   "metadata": {},
   "source": [
    "-   This says that there were 3 actuals that were no, and the model\n",
    "    predicted 3 no’s\n",
    "-   There were 2 actuals that were yes, and the model predicted those 2\n",
    "    no’s\n",
    "-   Then there were 3 actuals that were yes, and model predicted those\n",
    "    yes\n",
    "\n",
    "We will look into interpretations of this “confusion matrix:” in the\n",
    "future."
   ]
  }
 ],
 "nbformat": 4,
 "nbformat_minor": 5,
 "metadata": {
  "kernelspec": {
   "name": "ir",
   "display_name": "R",
   "language": "R"
  }
 }
}
