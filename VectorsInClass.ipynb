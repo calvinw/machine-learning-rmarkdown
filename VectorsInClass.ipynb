{
 "cells": [
  {
   "cell_type": "markdown",
   "metadata": {},
   "source": [
    "Using Vectors for Multiple Regression\n",
    "-------------------------------------\n",
    "\n",
    "Let’s use vectors to describe a multiple regression.\n",
    "\n",
    "Suppose we have run a regression analysis and we have three x-variables\n",
    "$x_1, x_2, x_3$ and we want to predict $y$ from those predictors. Let’s\n",
    "assume we have three slopes and an intercept given by:\n",
    "\n",
    "$$ \n",
    "m = (m_1, m_2, m_3) = (5,-1,2) \n",
    "$$\n",
    "\n",
    "$$ \n",
    "b = 7\n",
    "$$\n",
    "\n",
    "These may have come from `LINEST` in a spreadsheet or they may have come\n",
    "from using R’s `lm` function.\n",
    "\n",
    "-   Create a vector `m` with the values 5,-1,2\n",
    "-   print `m`"
   ]
  },
  {
   "cell_type": "code",
   "execution_count": null,
   "metadata": {},
   "outputs": [],
   "source": [
    "m<-c(5,-1,2)\n",
    "m"
   ]
  },
  {
   "cell_type": "markdown",
   "metadata": {},
   "source": [
    "-   Use the function `str` to print out info about the vector `m`"
   ]
  },
  {
   "cell_type": "code",
   "execution_count": null,
   "metadata": {},
   "outputs": [],
   "source": [
    "str(m)"
   ]
  },
  {
   "cell_type": "markdown",
   "metadata": {},
   "source": [
    "Making Predictions with a Vector of Predictors\n",
    "----------------------------------------------\n",
    "\n",
    "Now suppose we want to do some predictions using our regression\n",
    "equation.\n",
    "\n",
    "-   Create a vector `x` with the values 1,4,3\n",
    "-   print `x`"
   ]
  },
  {
   "cell_type": "code",
   "execution_count": null,
   "metadata": {},
   "outputs": [],
   "source": [
    "x<-c(1,4,3)\n",
    "x"
   ]
  },
  {
   "cell_type": "markdown",
   "metadata": {},
   "source": [
    "-   Assign `7` to a variable `b`\n",
    "-   Assign `sum(m*x)+b` to a variable `y`\n",
    "-   Print out `y`"
   ]
  },
  {
   "cell_type": "code",
   "execution_count": null,
   "metadata": {},
   "outputs": [],
   "source": [
    "b<-7\n",
    "y<-sum(m*x)+b\n",
    "y"
   ]
  },
  {
   "cell_type": "markdown",
   "metadata": {},
   "source": [
    "That output is our prediction of $y$ when $x = (1,4,3)$, which means\n",
    "when $x_1=1$, $x_2=4$ and $x_3=3$.\n",
    "\n",
    "This is exactly like computing a prediction using a regression equation\n",
    "as follows:\n",
    "\n",
    "$$ y = m_1(x_1) + m_2(x_2) + m_3(x_3) + b $$\n",
    "\n",
    "where `m` is a vector with the slopes:\n",
    "\n",
    "$$ m = (m_1, m_2, m_3) = (5,-1,2) $$\n",
    "\n",
    "and `x` is a vector with the x-values:\n",
    "\n",
    "$$ x = (x_1, x_2, x_3) = (1,4,3) $$\n",
    "\n",
    "So that this is calculation is like a prediction using the x-values:\n",
    "\n",
    "$$ y = m_1(x_1) + m_2(x_2) + m_3(x_3) + b = 5(1) + -1(4) + 2(3) + 7 = 14 $$\n",
    "\n",
    "Lets make an additional prediction when `x<-c(2,5,4)`\n",
    "\n",
    "-   Assign `x` to a be a vector with three elements, 2,5,4  \n",
    "-   Assign `sum(m*x)+b` to a variable `y`\n",
    "-   Print out `y`"
   ]
  },
  {
   "cell_type": "code",
   "execution_count": null,
   "metadata": {},
   "outputs": [],
   "source": [
    "x<-c(2,5,4)\n",
    "y<-sum(m*x)+b\n",
    "y"
   ]
  },
  {
   "cell_type": "markdown",
   "metadata": {},
   "source": [
    "Scatterplots using Vectors\n",
    "--------------------------\n",
    "\n",
    "Lets also see how vectors can be used to show some plots in R. First we\n",
    "show a scatterplot made by vectors of `x` and `y`.\n",
    "\n",
    "-   Assign `x` to a be a vector with three elements, 2,5,4,6,7,8  \n",
    "-   Assign `y` to a be a vector with three elements, 3,5,6,6,8,8  \n",
    "-   Print out `x`\n",
    "-   Print out `y`"
   ]
  },
  {
   "cell_type": "code",
   "execution_count": null,
   "metadata": {},
   "outputs": [],
   "source": [
    "x<-c(2,5,4,6,7,8)\n",
    "y<-c(3,5,6,6,8,8)"
   ]
  },
  {
   "cell_type": "markdown",
   "metadata": {},
   "source": [
    "-   call the function `plot` and pass it the `x` and `y` you just\n",
    "    created"
   ]
  },
  {
   "cell_type": "code",
   "execution_count": null,
   "metadata": {},
   "outputs": [],
   "source": [
    "plot(x,y)"
   ]
  },
  {
   "cell_type": "markdown",
   "metadata": {},
   "source": [
    "This is your first graph in R!\n",
    "\n",
    "Regression Modeling using Vectors\n",
    "---------------------------------\n",
    "\n",
    "Its also very easy to create a regression analysis in R if you have the\n",
    "`x` and `y` data as vectors.\n",
    "\n",
    "-   Type the code `model<-lm(y~x)` on the first line below to set up a\n",
    "    regression analysis\n",
    "-   Type the code `summary(model)` to get the regression output with\n",
    "    info about the model"
   ]
  },
  {
   "cell_type": "code",
   "execution_count": null,
   "metadata": {},
   "outputs": [],
   "source": [
    "model<-lm(y~x)\n",
    "summary(model)"
   ]
  },
  {
   "cell_type": "markdown",
   "metadata": {},
   "source": [
    "We can see here all the important information for regression.\n",
    "\n",
    "-   There is the overall p-value in the last line.\n",
    "-   The coefficient p-values are listed under `Pr(>|t|)`.\n",
    "-   The standard error of regression is called `Residual standard error`\n",
    "-   The F statistic is in the last line.\n",
    "-   R squared is called `Multiple. R-squared`\n",
    "\n",
    "In the code that creates the model, there is the expression `y~x`. This\n",
    "means create a linear model using x as data for the x-variable and\n",
    "create a model to predict y based on this x-variable.\n",
    "\n",
    "`lm` is the function that makes the model and returns it. This stands\n",
    "for “linear model”"
   ]
  }
 ],
 "nbformat": 4,
 "nbformat_minor": 5,
 "metadata": {
  "kernelspec": {
   "name": "ir",
   "display_name": "R",
   "language": "R"
  }
 }
}
