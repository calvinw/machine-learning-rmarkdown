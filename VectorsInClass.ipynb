{
 "cells": [
  {
   "cell_type": "markdown",
   "metadata": {},
   "source": [
    "-   Create a vector `x` with the values 4,2,3\n",
    "-   Create a vector `m` with the values 5,6,2\n",
    "-   print `x`\n",
    "-   print `m`"
   ]
  },
  {
   "cell_type": "code",
   "execution_count": null,
   "metadata": {},
   "outputs": [],
   "source": [
    "x<-c(4,2,3)\n",
    "m<-c(2,-1,5)\n",
    "x\n",
    "m"
   ]
  },
  {
   "cell_type": "markdown",
   "metadata": {},
   "source": [
    "-   Use the function `class` to print out info about the vector `x`\n",
    "-   Use the function `class` to print out info about the vector `m`"
   ]
  },
  {
   "cell_type": "code",
   "execution_count": null,
   "metadata": {},
   "outputs": [],
   "source": [
    "class(x)\n",
    "class(m)"
   ]
  },
  {
   "cell_type": "markdown",
   "metadata": {},
   "source": [
    "-   Use the function `str` to print out info about the vector `x`\n",
    "-   Use the function `str` to print out info about the vector `m`"
   ]
  },
  {
   "cell_type": "code",
   "execution_count": null,
   "metadata": {},
   "outputs": [],
   "source": [
    "str(x)\n",
    "str(m)"
   ]
  },
  {
   "cell_type": "markdown",
   "metadata": {},
   "source": [
    "-   Use the function `length` to print out the length of vector `x`\n",
    "-   Use the function `length` to print out the length of vector `m`"
   ]
  },
  {
   "cell_type": "code",
   "execution_count": null,
   "metadata": {},
   "outputs": [],
   "source": [
    "length(x)\n",
    "length(m)"
   ]
  },
  {
   "cell_type": "markdown",
   "metadata": {},
   "source": [
    "-   Assign `7` to a variable `b`\n",
    "-   Assign `sum(m*x)+b` to a variable `y`\n",
    "-   Use `str` to get information about `y`"
   ]
  },
  {
   "cell_type": "code",
   "execution_count": null,
   "metadata": {},
   "outputs": [],
   "source": [
    "b<-7\n",
    "y<-sum(m*x)+b\n",
    "y"
   ]
  },
  {
   "cell_type": "markdown",
   "metadata": {},
   "source": [
    "This is exactly like using a regression equation as follows:\n",
    "\n",
    "$$ y = m_1(x_1) + m_2(x_2) + m_3(x_3) + b $$\n",
    "\n",
    "where `m` is a vector with the slopes:\n",
    "\n",
    "$$ m = (m_1, m_2, m_3) = (2,-1,5) $$\n",
    "\n",
    "and `x` is a vector with the x-values:\n",
    "\n",
    "$$ x = (x_1, x_2, x_3) = (4,2,3) $$\n",
    "\n",
    "So that this is calculation is like a prediction using the x-values:\n",
    "\n",
    "$$ y = 2(4) + -1(2) + 5(3) + 7 = 28 $$"
   ]
  }
 ],
 "nbformat": 4,
 "nbformat_minor": 5,
 "metadata": {
  "kernelspec": {
   "name": "ir",
   "display_name": "R",
   "language": "R"
  }
 }
}
