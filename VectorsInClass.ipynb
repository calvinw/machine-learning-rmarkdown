{
  "cells": [
    {
      "cell_type": "markdown",
      "metadata": {},
      "source": [
        "# Vectors In Class\n",
        "\n",
        "## Using Vectors for Multiple Regression\n",
        "\n",
        "Let’s use vectors to describe a multiple regression.\n",
        "\n",
        "Suppose we have run a regression analysis and we have three x-variables\n",
        "$x_1, x_2, x_3$ and we want to predict $y$ from those predictors. Let’s\n",
        "assume we have three slopes and an intercept given by:\n",
        "\n",
        "$$ \n",
        "m = (m_1, m_2, m_3) = (5,-1,2) \n",
        "$$\n",
        "\n",
        "$$ \n",
        "b = 7\n",
        "$$\n",
        "\n",
        "These may have come from `LINEST` in a spreadsheet or they may have come\n",
        "from using R’s `lm` function.\n",
        "\n",
        "-   Create a vector `m` with the values 5,-1,2\n",
        "-   print `m`"
      ],
      "id": "214f0dd5-2076-4111-bb67-0abeb699b23f"
    },
    {
      "cell_type": "code",
      "execution_count": null,
      "metadata": {},
      "outputs": [],
      "source": [
        "CODE"
      ],
      "id": "31dd7b38-3793-478c-b5d1-8aa424302647"
    },
    {
      "cell_type": "markdown",
      "metadata": {},
      "source": [
        "-   Use the function `str` to print out info about the vector `m`"
      ],
      "id": "bb10002a-a748-4fa4-a5d5-ebcd7bae4332"
    },
    {
      "cell_type": "code",
      "execution_count": null,
      "metadata": {},
      "outputs": [],
      "source": [
        "CODE"
      ],
      "id": "3f248cbb-8f24-451b-a4bb-c9e942382e81"
    },
    {
      "cell_type": "markdown",
      "metadata": {},
      "source": [
        "## Making Predictions with a Vector of Predictors\n",
        "\n",
        "Now suppose we want to do some predictions using our regression\n",
        "equation.\n",
        "\n",
        "-   Create a vector `x` with the values 1,4,3\n",
        "-   print `x`"
      ],
      "id": "d7314e8a-e99e-4818-91c2-4c097fe49d71"
    },
    {
      "cell_type": "code",
      "execution_count": null,
      "metadata": {},
      "outputs": [],
      "source": [
        "CODE"
      ],
      "id": "8823777b-6be5-48ac-89d1-b6983c178276"
    },
    {
      "cell_type": "markdown",
      "metadata": {},
      "source": [
        "-   Assign `7` to a variable `b`\n",
        "-   Assign `sum(m*x)+b` to a variable `y`\n",
        "-   Print out `y`"
      ],
      "id": "1ab52123-260c-4cc5-aaf2-24a64cd5d0a3"
    },
    {
      "cell_type": "code",
      "execution_count": null,
      "metadata": {},
      "outputs": [],
      "source": [
        "CODE"
      ],
      "id": "83566dce-d13e-4015-a3f8-d8e173cd7e96"
    },
    {
      "cell_type": "markdown",
      "metadata": {},
      "source": [
        "That output is our prediction of $y$ when $x = (1,4,3)$, which means\n",
        "when $x_1=1$, $x_2=4$ and $x_3=3$.\n",
        "\n",
        "This is exactly like computing a prediction using a regression equation\n",
        "as follows:\n",
        "\n",
        "$$ y = m_1(x_1) + m_2(x_2) + m_3(x_3) + b $$\n",
        "\n",
        "where `m` is a vector with the slopes:\n",
        "\n",
        "$$ m = (m_1, m_2, m_3) = (5,-1,2) $$\n",
        "\n",
        "and `x` is a vector with the x-values:\n",
        "\n",
        "$$ x = (x_1, x_2, x_3) = (1,4,3) $$\n",
        "\n",
        "So that this is calculation is like a prediction using the x-values:\n",
        "\n",
        "$$ y = m_1(x_1) + m_2(x_2) + m_3(x_3) + b = 5(1) + -1(4) + 2(3) + 7 = 14 $$\n",
        "\n",
        "Lets make an additional prediction when `x<-c(2,5,4)`\n",
        "\n",
        "-   Assign `x` to a be a vector with three elements, 2,5,4  \n",
        "-   Assign `sum(m*x)+b` to a variable `y`\n",
        "-   Print out `y`"
      ],
      "id": "09f008b9-1cbd-4722-9615-f06d49ae2713"
    },
    {
      "cell_type": "code",
      "execution_count": null,
      "metadata": {},
      "outputs": [],
      "source": [
        "CODE"
      ],
      "id": "353dcfea-99da-4e37-9b5c-2fe7d3ba5352"
    },
    {
      "cell_type": "markdown",
      "metadata": {},
      "source": [
        "## Scatterplots using Vectors\n",
        "\n",
        "Lets also see how vectors can be used to show some plots in R. First we\n",
        "show a scatterplot made by vectors of `x` and `y`.\n",
        "\n",
        "-   Assign `x` to a be a vector with these elements, 2,5,4,6,7,8  \n",
        "-   Assign `y` to a be a vector with these elements, 3,5,6,6,8,8  \n",
        "-   Print out `x`\n",
        "-   Print out `y`"
      ],
      "id": "80723828-4ca5-4902-98ff-5b43ded5261e"
    },
    {
      "cell_type": "code",
      "execution_count": null,
      "metadata": {},
      "outputs": [],
      "source": [
        "CODE"
      ],
      "id": "895e7f87-5045-4780-96f0-90ccb2406c0f"
    },
    {
      "cell_type": "markdown",
      "metadata": {},
      "source": [
        "-   call the function `plot` and pass it the `x` and `y` you just\n",
        "    created"
      ],
      "id": "a84d4987-2606-4810-afb9-8d096d78da5e"
    },
    {
      "cell_type": "code",
      "execution_count": null,
      "metadata": {},
      "outputs": [],
      "source": [
        "CODE"
      ],
      "id": "ffb3e860-d455-4bce-936c-6061c6230daa"
    },
    {
      "cell_type": "markdown",
      "metadata": {},
      "source": [
        "This is your first graph in R!\n",
        "\n",
        "## Regression Modeling using Vectors\n",
        "\n",
        "Its also very easy to create a regression analysis in R if you have the\n",
        "`x` and `y` data as vectors.\n",
        "\n",
        "-   Type the code `model<-lm(y~x)` on the first line below to set up a\n",
        "    regression analysis\n",
        "-   Type the code `summary(model)` to get the regression output with\n",
        "    info about the model"
      ],
      "id": "39178a97-c1ab-4eae-9d6b-bcbc7f103a6c"
    },
    {
      "cell_type": "code",
      "execution_count": null,
      "metadata": {},
      "outputs": [],
      "source": [
        "CODE"
      ],
      "id": "3952a2ec-a5dd-4a23-8007-ca5c5763167a"
    },
    {
      "cell_type": "markdown",
      "metadata": {},
      "source": [
        "We can see here all the important information for regression.\n",
        "\n",
        "-   There is the overall p-value in the last line.\n",
        "-   The coefficient p-values are listed under `Pr(>|t|)`.\n",
        "-   The standard error of regression is called `Residual standard error`\n",
        "-   The F statistic is in the last line.\n",
        "-   R squared is called `Multiple. R-squared`\n",
        "\n",
        "In the code that creates the model, there is the expression `y~x`. This\n",
        "means create a linear model using x as data for the x-variable and\n",
        "create a model to predict y based on this x-variable.\n",
        "\n",
        "`lm` is the function that makes the model and returns it. This stands\n",
        "for “linear model”"
      ],
      "id": "e97a7ab4-6157-4196-bdd2-83d84a667a46"
    }
  ],
  "nbformat": 4,
  "nbformat_minor": 5,
  "metadata": {
    "kernelspec": {
      "name": "ir",
      "display_name": "R",
      "language": "R"
    }
  }
}