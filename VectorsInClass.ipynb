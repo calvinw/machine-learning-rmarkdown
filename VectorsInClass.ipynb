{
  "cells": [
    {
      "cell_type": "markdown",
      "metadata": {},
      "source": [
        "# Vectors In Class\n",
        "\n",
        "## Using Vectors for Multiple Regression\n",
        "\n",
        "Let’s use vectors to describe a multiple regression.\n",
        "\n",
        "Suppose we have run a regression analysis and we have three x-variables\n",
        "$x_1, x_2, x_3$ and we want to predict $y$ from those predictors. Let’s\n",
        "assume we have three slopes and an intercept given by:\n",
        "\n",
        "$$ \n",
        "m = (m_1, m_2, m_3) = (5,-1,2) \n",
        "$$\n",
        "\n",
        "$$ \n",
        "b = 7\n",
        "$$\n",
        "\n",
        "These may have come from `LINEST` in a spreadsheet or they may have come\n",
        "from using R’s `lm` function.\n",
        "\n",
        "-   Create a vector `m` with the values 5,-1,2\n",
        "-   print `m`"
      ],
      "id": "9856e2fe-9bfa-450d-b987-26ebcec403bf"
    },
    {
      "cell_type": "code",
      "execution_count": null,
      "metadata": {},
      "outputs": [],
      "source": [
        "CODE"
      ],
      "id": "c44f12e1-ac46-4f18-a21f-f4e1e1086f53"
    },
    {
      "cell_type": "markdown",
      "metadata": {},
      "source": [
        "-   Use the function `str` to print out info about the vector `m`"
      ],
      "id": "98d4a227-13d3-4150-816c-cc8d4b03f464"
    },
    {
      "cell_type": "code",
      "execution_count": null,
      "metadata": {},
      "outputs": [],
      "source": [
        "CODE"
      ],
      "id": "d9464a04-17f3-4a7b-8300-1476172c2d68"
    },
    {
      "cell_type": "markdown",
      "metadata": {},
      "source": [
        "## Making Predictions with a Vector of Predictors\n",
        "\n",
        "Now suppose we want to do some predictions using our regression\n",
        "equation.\n",
        "\n",
        "-   Create a vector `x` with the values 1,4,3\n",
        "-   print `x`"
      ],
      "id": "e10f1e6f-7aa7-4258-bca4-d86d2d3f5d3c"
    },
    {
      "cell_type": "code",
      "execution_count": null,
      "metadata": {},
      "outputs": [],
      "source": [
        "CODE"
      ],
      "id": "c0c41800-5a52-486b-b911-adcd9a3b7f97"
    },
    {
      "cell_type": "markdown",
      "metadata": {},
      "source": [
        "-   Assign `7` to a variable `b`\n",
        "-   Assign `sum(m*x)+b` to a variable `y`\n",
        "-   Print out `y`"
      ],
      "id": "e0ae4f08-8255-40e3-a5e8-7942b2517c6c"
    },
    {
      "cell_type": "code",
      "execution_count": null,
      "metadata": {},
      "outputs": [],
      "source": [
        "CODE"
      ],
      "id": "67fbcaf1-9013-4344-af6b-1d5e3e5603c5"
    },
    {
      "cell_type": "markdown",
      "metadata": {},
      "source": [
        "That output is our prediction of $y$ when $x = (1,4,3)$, which means\n",
        "when $x_1=1$, $x_2=4$ and $x_3=3$.\n",
        "\n",
        "This is exactly like computing a prediction using a regression equation\n",
        "as follows:\n",
        "\n",
        "$$ y = m_1(x_1) + m_2(x_2) + m_3(x_3) + b $$\n",
        "\n",
        "where `m` is a vector with the slopes:\n",
        "\n",
        "$$ m = (m_1, m_2, m_3) = (5,-1,2) $$\n",
        "\n",
        "and `x` is a vector with the x-values:\n",
        "\n",
        "$$ x = (x_1, x_2, x_3) = (1,4,3) $$\n",
        "\n",
        "So that this is calculation is like a prediction using the x-values:\n",
        "\n",
        "$$ y = m_1(x_1) + m_2(x_2) + m_3(x_3) + b = 5(1) + -1(4) + 2(3) + 7 = 14 $$\n",
        "\n",
        "Lets make an additional prediction when `x<-c(2,5,4)`\n",
        "\n",
        "-   Assign `x` to a be a vector with three elements, 2,5,4  \n",
        "-   Assign `sum(m*x)+b` to a variable `y`\n",
        "-   Print out `y`"
      ],
      "id": "dc74546b-a966-4491-8b52-22689b2164cc"
    },
    {
      "cell_type": "code",
      "execution_count": null,
      "metadata": {},
      "outputs": [],
      "source": [
        "CODE"
      ],
      "id": "36a8bd4b-0718-4b7d-adda-e92f30cbafe8"
    },
    {
      "cell_type": "markdown",
      "metadata": {},
      "source": [
        "## Scatterplots using Vectors\n",
        "\n",
        "Lets also see how vectors can be used to show some plots in R. First we\n",
        "show a scatterplot made by vectors of `x` and `y`.\n",
        "\n",
        "-   Assign `x` to a be a vector with these elements, 2,5,4,6,7,8  \n",
        "-   Assign `y` to a be a vector with these elements, 3,5,6,6,8,8  \n",
        "-   Print out `x`\n",
        "-   Print out `y`"
      ],
      "id": "3052324d-ee93-4d17-9fe6-9498780fefde"
    },
    {
      "cell_type": "code",
      "execution_count": null,
      "metadata": {},
      "outputs": [],
      "source": [
        "CODE"
      ],
      "id": "f6e33ed9-4d04-4973-99ce-5e8962938033"
    },
    {
      "cell_type": "markdown",
      "metadata": {},
      "source": [
        "-   call the function `plot` and pass it the `x` and `y` you just\n",
        "    created"
      ],
      "id": "f65c39b9-98cd-438a-8563-ed87b982bf97"
    },
    {
      "cell_type": "code",
      "execution_count": null,
      "metadata": {},
      "outputs": [],
      "source": [
        "CODE"
      ],
      "id": "c735f3a4-a901-4122-838b-d995eb0f57aa"
    },
    {
      "cell_type": "markdown",
      "metadata": {},
      "source": [
        "This is your first graph in R!\n",
        "\n",
        "## Regression Modeling using Vectors\n",
        "\n",
        "Its also very easy to create a regression analysis in R if you have the\n",
        "`x` and `y` data as vectors.\n",
        "\n",
        "-   Type the code `model<-lm(y~x)` on the first line below to set up a\n",
        "    regression analysis\n",
        "-   Type the code `summary(model)` to get the regression output with\n",
        "    info about the model"
      ],
      "id": "c5bc8e3e-d41b-493f-8ab9-9be307ed643d"
    },
    {
      "cell_type": "code",
      "execution_count": null,
      "metadata": {},
      "outputs": [],
      "source": [
        "CODE"
      ],
      "id": "dfd82d37-041d-4a1f-b08e-6871060278d2"
    },
    {
      "cell_type": "markdown",
      "metadata": {},
      "source": [
        "We can see here all the important information for regression.\n",
        "\n",
        "-   There is the overall p-value in the last line.\n",
        "-   The coefficient p-values are listed under `Pr(>|t|)`.\n",
        "-   The standard error of regression is called `Residual standard error`\n",
        "-   The F statistic is in the last line.\n",
        "-   R squared is called `Multiple. R-squared`\n",
        "\n",
        "In the code that creates the model, there is the expression `y~x`. This\n",
        "means create a linear model using x as data for the x-variable and\n",
        "create a model to predict y based on this x-variable.\n",
        "\n",
        "`lm` is the function that makes the model and returns it. This stands\n",
        "for “linear model”"
      ],
      "id": "375b1734-ce7f-408d-a79e-fd7a0b6db491"
    }
  ],
  "nbformat": 4,
  "nbformat_minor": 5,
  "metadata": {
    "kernelspec": {
      "name": "ir",
      "display_name": "R",
      "language": "R"
    }
  }
}