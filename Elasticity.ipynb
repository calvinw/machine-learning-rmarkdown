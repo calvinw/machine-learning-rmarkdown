{
  "cells": [
    {
      "cell_type": "markdown",
      "metadata": {},
      "source": [
        "# Elasticity and Maximizing Profits\n",
        "\n",
        "This notebook is an expanded version of the analysis done here: [Price\n",
        "Elasticity with\n",
        "R](http://www.salemmarafi.com/code/price-elasticity-with-r)\n",
        "\n",
        "Also you can see this page as well for a similar version: [Pricing\n",
        "Analysis\n",
        "Example](https://rstudio-pubs-static.s3.amazonaws.com/185880_f9e3e3ee84314609b531524dfa3f4f1b.html)\n",
        "\n",
        "First make sure RCurl is installed (if needed) and loaded"
      ],
      "id": "4e7c00cf-0b7e-4d1e-906b-6833a4399159"
    },
    {
      "cell_type": "code",
      "execution_count": null,
      "metadata": {},
      "outputs": [
        {
          "output_type": "stream",
          "name": "stderr",
          "text": [
            "Loading required package: RCurl"
          ]
        }
      ],
      "source": [
        "if (!require(\"RCurl\")) install.packages(\"RCurl\")"
      ],
      "id": "d5e4ac42-47b1-4671-9a27-b8fbc08beafd"
    },
    {
      "cell_type": "markdown",
      "metadata": {},
      "source": [
        "We use the getURL function from the RCurl package to load the data from\n",
        "the website. It is returned to us as a text string."
      ],
      "id": "e8728440-0253-4c5b-a1e7-5119e175efac"
    },
    {
      "cell_type": "code",
      "execution_count": null,
      "metadata": {},
      "outputs": [],
      "source": [
        "url<- \"http://www.salemmarafi.com/wp-content/uploads/2014/06/supermarket.csv\"\n",
        "textString<-getURL(url)\n",
        "df<-read.csv(text=textString)"
      ],
      "id": "5ccbf906-e83d-48dc-87a9-615e836a42de"
    },
    {
      "cell_type": "markdown",
      "metadata": {},
      "source": [
        "Here is the structure of the data set."
      ],
      "id": "9324efd3-9e37-4ff9-aadb-8f3984ae6780"
    },
    {
      "cell_type": "code",
      "execution_count": null,
      "metadata": {},
      "outputs": [
        {
          "output_type": "stream",
          "name": "stdout",
          "text": [
            "'data.frame':   30 obs. of  4 variables:\n",
            " $ Sales        : int  18 20 23 23 23 23 24 25 26 26 ...\n",
            " $ Price.Eggs   : num  4.77 4.67 4.75 4.74 4.63 4.56 4.59 4.75 4.75 4.49 ...\n",
            " $ Ad.Type      : int  0 0 0 0 0 0 0 0 1 0 ...\n",
            " $ Price.Cookies: num  4.74 4.81 4.36 4.29 4.17 4.66 4.73 4.11 4.21 4.25 ..."
          ]
        }
      ],
      "source": [
        "str(df)"
      ],
      "id": "64d0375c-c9ed-43b5-8ee1-0fc4cfb18a1c"
    },
    {
      "cell_type": "markdown",
      "metadata": {},
      "source": [
        "First we have 30 observations for demand and price for eggs. Then we\n",
        "have 30 observations of the ad type that was run, where 0 means featured\n",
        "the cookies poster and 1 means featured the eggs poster. Finally we have\n",
        "data on the price of cookies.\n",
        "\n",
        "Here is the data:"
      ],
      "id": "4aa94e8c-0358-4539-9b37-27e8d69950f4"
    },
    {
      "cell_type": "code",
      "execution_count": null,
      "metadata": {},
      "outputs": [
        {
          "output_type": "stream",
          "name": "stdout",
          "text": [
            "   Sales Price.Eggs Ad.Type Price.Cookies\n",
            "1     18       4.77       0          4.74\n",
            "2     20       4.67       0          4.81\n",
            "3     23       4.75       0          4.36\n",
            "4     23       4.74       0          4.29\n",
            "5     23       4.63       0          4.17\n",
            "6     23       4.56       0          4.66\n",
            "7     24       4.59       0          4.73\n",
            "8     25       4.75       0          4.11\n",
            "9     26       4.75       1          4.21\n",
            "10    26       4.49       0          4.25\n",
            "11    26       4.41       1          4.62\n",
            "12    26       4.32       0          4.53\n",
            "13    27       4.68       0          4.44\n",
            "14    28       4.66       1          4.19\n",
            "15    28       4.42       1          4.37\n",
            "16    29       4.71       0          4.29\n",
            "17    29       4.66       1          4.57\n",
            "18    30       4.46       1          4.21\n",
            "19    30       4.36       1          4.77\n",
            "20    31       4.47       0          4.00\n",
            "21    31       4.43       0          4.31\n",
            "22    33       4.40       1          4.34\n",
            "23    34       4.61       1          4.05\n",
            "24    35       4.09       1          4.73\n",
            "25    38       3.73       0          4.07\n",
            "26    39       3.89       1          4.75\n",
            "27    41       4.35       1          4.00\n",
            "28    44       3.84       1          4.15\n",
            "29    44       3.81       1          4.34\n",
            "30    46       3.79       1          4.15"
          ]
        }
      ],
      "source": [
        "df"
      ],
      "id": "2beb2a32-50d3-469e-bb16-53dc90eac30a"
    },
    {
      "cell_type": "markdown",
      "metadata": {},
      "source": [
        "Let’s start with a summary of the data:"
      ],
      "id": "bea17051-0357-4e20-9f30-f154a594f65a"
    },
    {
      "cell_type": "code",
      "execution_count": null,
      "metadata": {},
      "outputs": [
        {
          "output_type": "stream",
          "name": "stdout",
          "text": [
            "     Sales         Price.Eggs       Ad.Type    Price.Cookies  \n",
            " Min.   :18.00   Min.   :3.730   Min.   :0.0   Min.   :4.000  \n",
            " 1st Qu.:25.25   1st Qu.:4.353   1st Qu.:0.0   1st Qu.:4.175  \n",
            " Median :28.50   Median :4.480   Median :0.5   Median :4.325  \n",
            " Mean   :30.00   Mean   :4.426   Mean   :0.5   Mean   :4.374  \n",
            " 3rd Qu.:33.75   3rd Qu.:4.668   3rd Qu.:1.0   3rd Qu.:4.607  \n",
            " Max.   :46.00   Max.   :4.770   Max.   :1.0   Max.   :4.810  "
          ]
        }
      ],
      "source": [
        "summary(df)"
      ],
      "id": "d90d6d6b-6435-4f44-a89e-ac9308495add"
    },
    {
      "cell_type": "markdown",
      "metadata": {},
      "source": [
        "The mean demand is 30 and the mean price is about \\$4.4263333\n",
        "\n",
        "Lets look at the distribution of demand."
      ],
      "id": "c3d1dded-eef1-42e2-ba2a-c4e1c171f0bc"
    },
    {
      "cell_type": "code",
      "execution_count": null,
      "metadata": {},
      "outputs": [
        {
          "output_type": "display_data",
          "metadata": {},
          "data": {
            "image/png": "[encoded data removed]"
          }
        }
      ],
      "source": [
        "par(mfrow=c(1,2))\n",
        "boxplot(df$Sales,main=\"Boxplot for Egg Sales\", xlab=\"Egg Sales\")\n",
        "hist(df$Sales,main='Histogram for Egg Sales',xlab='Egg Sales',prob=T)"
      ],
      "id": "a7494d94-ad14-496b-ba46-678cb61491ef"
    },
    {
      "cell_type": "markdown",
      "metadata": {},
      "source": [
        "There are no outliers or other unusual data to speak of here.\n",
        "\n",
        "Lets look at the correlations between the variables."
      ],
      "id": "9971f0c4-3cd1-49f0-9bda-202e6f5d2193"
    },
    {
      "cell_type": "code",
      "execution_count": null,
      "metadata": {},
      "outputs": [
        {
          "output_type": "stream",
          "name": "stdout",
          "text": [
            "                   Sales  Price.Eggs     Ad.Type Price.Cookies\n",
            "Sales          1.0000000 -0.84958250  0.58431101   -0.37355985\n",
            "Price.Eggs    -0.8495825  1.00000000 -0.39897633    0.08015516\n",
            "Ad.Type        0.5843110 -0.39897633  1.00000000   -0.04108541\n",
            "Price.Cookies -0.3735599  0.08015516 -0.04108541    1.00000000"
          ]
        },
        {
          "output_type": "display_data",
          "metadata": {},
          "data": {
            "image/png": "[encoded data removed]"
          }
        }
      ],
      "source": [
        "cor(df)"
      ],
      "id": "88bb964f-b7dc-40ca-9763-05ce47de2d20"
    },
    {
      "cell_type": "markdown",
      "metadata": {},
      "source": [
        "It looks like there is a strong correlation between sales and own price.\n",
        "We expected that of course.\n",
        "\n",
        "There is a weaker correlation between egg sales and price of cookies.\n",
        "\n",
        "Let’s model using all the predictors:"
      ],
      "id": "2b03d38b-105d-4835-b584-0fec24af0660"
    },
    {
      "cell_type": "code",
      "execution_count": null,
      "metadata": {},
      "outputs": [
        {
          "output_type": "stream",
          "name": "stdout",
          "text": [
            "\n",
            "Call:\n",
            "lm(formula = Sales ~ Price.Eggs + Ad.Type + Price.Cookies, data = df)\n",
            "\n",
            "Residuals:\n",
            "    Min      1Q  Median      3Q     Max \n",
            "-4.2077 -1.9598  0.1901  1.7157  4.9172 \n",
            "\n",
            "Coefficients:\n",
            "              Estimate Std. Error t value Pr(>|t|)    \n",
            "(Intercept)    137.370     10.834  12.680 1.22e-12 ***\n",
            "Price.Eggs     -16.118      1.646  -9.795 3.26e-10 ***\n",
            "Ad.Type          4.147      1.040   3.989 0.000481 ***\n",
            "Price.Cookies   -8.711      1.901  -4.581 0.000101 ***\n",
            "---\n",
            "Signif. codes:  0 '***' 0.001 '**' 0.01 '*' 0.05 '.' 0.1 ' ' 1\n",
            "\n",
            "Residual standard error: 2.611 on 26 degrees of freedom\n",
            "Multiple R-squared:  0.8857,    Adjusted R-squared:  0.8725 \n",
            "F-statistic: 67.14 on 3 and 26 DF,  p-value: 2.255e-12"
          ]
        },
        {
          "output_type": "stream",
          "name": "stdout",
          "text": [
            "[1] 137.37 -16.12   4.15  -8.71"
          ]
        }
      ],
      "source": [
        "model <- lm(Sales~Price.Eggs+Ad.Type+Price.Cookies, df)\n",
        "summary(model)"
      ],
      "id": "a57cc8f7-1d42-404f-b637-f7575b0b24f8"
    },
    {
      "cell_type": "markdown",
      "metadata": {},
      "source": [
        "This shows the coefficients for the various predictors.\n",
        "\n",
        "Price of eggs, the ad type and price of cookies are all significant with\n",
        "p-value less than .05.\n",
        "\n",
        "The multiple regression equation is:"
      ],
      "id": "da4c8645-117e-43a3-aca3-8a986fd3212b"
    },
    {
      "cell_type": "code",
      "execution_count": null,
      "metadata": {},
      "outputs": [],
      "source": [],
      "id": "0814c593-3d41-418c-aa63-1ac4488c3f7d"
    },
    {
      "cell_type": "markdown",
      "metadata": {},
      "source": [
        "$$\n",
        "    Q = 137.37  \n",
        "        -16.12(P_{eggs}) + \n",
        "    4.15(AdType)  \n",
        "    -8.71(P_{cookies}) \n",
        "$$\n",
        "\n",
        "Next we show the calculation of the price elasticity: For price\n",
        "elasticity we compute the percent change in quantity divided by the\n",
        "percent change in price.\n",
        "\n",
        "$$\n",
        "\\text{Price Elasticity} = \\frac{\\frac{\\Delta Q}{Q}}{\\frac{\\Delta P_{eggs}}{P_{eggs}}}\n",
        "            =(\\frac{\\Delta Q}{\\Delta P_{eggs}})(\\frac{P_{eggs}}{Q})\n",
        "$$\n",
        "\n",
        "For the first part $\\frac{\\Delta Q}{\\Delta P_{eggs}}$, this is just the\n",
        "multiple regression coefficient describing the rate of change of $Q$ as\n",
        "$P_{eggs}$ changes. That is actually just the coefficient from the\n",
        "multiple regression equation! So that is just $b[2] = -16.12$. For\n",
        "$\\frac{P_{eggs}}{Q}$, we will use the mean of the price of eggs and the\n",
        "mean of sales which we saw in the summary of the data above for that.\n",
        "\n",
        "Let’s compute the values:"
      ],
      "id": "cdaa3a8f-ee1f-4481-a0e4-7c6cb162108f"
    },
    {
      "cell_type": "code",
      "execution_count": null,
      "metadata": {},
      "outputs": [
        {
          "output_type": "stream",
          "name": "stdout",
          "text": [
            "[1] 4.426333"
          ]
        },
        {
          "output_type": "stream",
          "name": "stdout",
          "text": [
            "[1] 30"
          ]
        },
        {
          "output_type": "stream",
          "name": "stdout",
          "text": [
            "[1] -2.378416"
          ]
        }
      ],
      "source": [
        "priceEggs <- mean(df$Price.Eggs)\n",
        "priceEggs"
      ],
      "id": "03885829-a3dd-4ac2-b3b3-a345555b87fb"
    },
    {
      "cell_type": "markdown",
      "metadata": {},
      "source": [
        "The equation looks like this:"
      ],
      "id": "b2e19740-1dde-447b-8aef-6d48061e3cc9"
    },
    {
      "cell_type": "code",
      "execution_count": null,
      "metadata": {},
      "outputs": [],
      "source": [],
      "id": "17219c33-84f5-4ec3-8c8d-d23fbe60cc46"
    },
    {
      "cell_type": "markdown",
      "metadata": {},
      "source": [
        "$$\n",
        "\\text{PriceElasticity} =\n",
        "    \\frac{ \\frac{\\Delta Q}{Q} }{ \\frac{\\Delta P_{eggs}}{P_{eggs}} } =\n",
        "    \\frac{\\Delta Q}{\\Delta P_{eggs}} \\frac{P_{eggs}}{Q} =\n",
        "    (-16.12)(\\frac{4.43}{30}) =\n",
        "    -2.38\n",
        "$$\n",
        "\n",
        "This suggests that a 1% decrease in price of eggs will increase egg\n",
        "sales by 2.4%.\n",
        "\n",
        "Next is the calculation of the Cross Price Elasticity: For cross-price\n",
        "elasticity of eggs with cookies we compute the percent change in\n",
        "quantity of eggs divided by the percent change in the price of cookies:"
      ],
      "id": "72d07c92-2d6b-4639-9f1c-4852f88753ea"
    },
    {
      "cell_type": "code",
      "execution_count": null,
      "metadata": {},
      "outputs": [
        {
          "output_type": "stream",
          "name": "stdout",
          "text": [
            "[1] -1.269821"
          ]
        }
      ],
      "source": [
        "PriceCookies <- mean(df$Price.Cookies)\n",
        "Quantity <- mean(df$Sales)\n",
        "CrossPriceElasticity <- b[4]*PriceCookies/Quantity\n",
        "CrossPriceElasticity"
      ],
      "id": "aa601d62-8665-4313-8762-05a3d81bf3db"
    },
    {
      "cell_type": "markdown",
      "metadata": {},
      "source": [
        "The equation looks like this:"
      ],
      "id": "00dd1982-7492-4ad3-9e50-c660be5d6641"
    },
    {
      "cell_type": "code",
      "execution_count": null,
      "metadata": {},
      "outputs": [],
      "source": [],
      "id": "6a1b3944-a791-43ee-ac29-7799901f3e06"
    },
    {
      "cell_type": "markdown",
      "metadata": {},
      "source": [
        "$$\n",
        "\\text{CrossPriceElasticity} =\n",
        "    \\frac{ \\frac{\\Delta Q}{Q} }{ \\frac{\\Delta P_{cookies}}{P_{cookies}} } =\n",
        "    \\frac{\\Delta Q}{\\Delta P_{cookies}} \\frac{P_{cookies}}{Q} =\n",
        "    (-8.71)(\\frac{4.37}{30}) =\n",
        "    -1.27\n",
        "$$\n",
        "\n",
        "This suggests that 1% decrease in cookies price will increase the egg\n",
        "sales by 1.3%, and that cookies and eggs are compliments."
      ],
      "id": "c69157f6-4554-4327-9567-dd2c3800575f"
    },
    {
      "cell_type": "code",
      "execution_count": null,
      "metadata": {},
      "outputs": [],
      "source": [],
      "id": "dd4f2bdf-e30f-4447-9ed7-07b71c87f462"
    },
    {
      "cell_type": "markdown",
      "metadata": {},
      "source": [
        "For setting the optimal price we need some values for $P_{cookies}$ and\n",
        "$AdType$. Suppose the current cookies price is $P_{cookies}=4.37$ and\n",
        "the $AdType = 0$ for featuring the cookies. We plug these into the\n",
        "multiple regression equation:"
      ],
      "id": "329e85ca-354b-4c75-a4d8-3faba557e5f1"
    },
    {
      "cell_type": "code",
      "execution_count": null,
      "metadata": {},
      "outputs": [],
      "source": [],
      "id": "7208fa7e-edf9-4d6e-b87b-3400cf85e1dc"
    },
    {
      "cell_type": "markdown",
      "metadata": {},
      "source": [
        "$$\n",
        "    Q = 137.37  \n",
        "        -16.12(P_{eggs}) + \n",
        "    4.15(0)  \n",
        "    -8.71(4.37) \n",
        "$$\n",
        "\n",
        "So the slope and intercept for the simplified demand equation we will\n",
        "use is this:"
      ],
      "id": "dff43c7d-d4fa-4955-bd87-4bf981592e18"
    },
    {
      "cell_type": "code",
      "execution_count": null,
      "metadata": {},
      "outputs": [
        {
          "output_type": "stream",
          "name": "stdout",
          "text": [
            "[1] -16.12"
          ]
        },
        {
          "output_type": "stream",
          "name": "stdout",
          "text": [
            "[1] 99.27536"
          ]
        }
      ],
      "source": [
        "slope<- b[2]\n",
        "slope"
      ],
      "id": "071d1593-0136-4f98-9981-41636fad4c57"
    },
    {
      "cell_type": "markdown",
      "metadata": {},
      "source": [
        "So our new equation is just this:"
      ],
      "id": "ea0d6cc5-59d9-445a-b1e5-f7efb4589e9b"
    },
    {
      "cell_type": "code",
      "execution_count": null,
      "metadata": {},
      "outputs": [],
      "source": [],
      "id": "00829d2d-0ef9-4915-bf03-b317385b66df"
    },
    {
      "cell_type": "markdown",
      "metadata": {},
      "source": [
        "$$   \n",
        "Q  = 99.28  -16.12(P_{eggs})\n",
        "$$\n",
        "\n",
        "Suppose the unit cost of eggs is \\$1.50. Then here is the profit\n",
        "function:"
      ],
      "id": "e298eb68-58cf-45bc-b17e-054048917da5"
    },
    {
      "cell_type": "code",
      "execution_count": null,
      "metadata": {},
      "outputs": [
        {
          "output_type": "display_data",
          "metadata": {},
          "data": {
            "image/png": "[encoded data removed]"
          }
        }
      ],
      "source": [
        "profit <- function(p) {\n",
        "    (p-1.50)*(intercept+slope*p)\n",
        "}\n",
        "curve(profit, from=0, to =8, main=\"Profit Function\", xlab=\"Price\", ylab=\"Profit\")"
      ],
      "id": "7b14e973-f0f0-49ae-946f-e68e9644c9fd"
    },
    {
      "cell_type": "markdown",
      "metadata": {},
      "source": [
        "Finally we optimize the profit function:"
      ],
      "id": "14e9557a-5459-43fd-9429-710e4786370b"
    },
    {
      "cell_type": "code",
      "execution_count": null,
      "metadata": {},
      "outputs": [
        {
          "output_type": "stream",
          "name": "stdout",
          "text": [
            "$maximum\n",
            "[1] 3.829261\n",
            "\n",
            "$objective\n",
            "[1] 87.45834"
          ]
        }
      ],
      "source": [
        "optimize(profit, lower=0, upper=8, maximum=TRUE)"
      ],
      "id": "c986f2bd-0396-40d7-8d67-fbfed7a94fed"
    },
    {
      "cell_type": "markdown",
      "metadata": {},
      "source": [
        "The maximum profit occurs when the price is \\$3.83 and the Profit is\n",
        "\\$87.53.\n",
        "\n",
        "So we would advise to set the price of eggs to \\$3.83.\n",
        "\n",
        "That is where the maximum profit should occur!!"
      ],
      "id": "647c6410-4616-4300-9827-2e99f3a8c3e3"
    }
  ],
  "nbformat": 4,
  "nbformat_minor": 5,
  "metadata": {
    "kernelspec": {
      "name": "ir",
      "display_name": "R",
      "language": "R"
    }
  }
}