{
 "cells": [
  {
   "cell_type": "markdown",
   "metadata": {},
   "source": [
    "Just run this code block to set things up:"
   ]
  },
  {
   "cell_type": "code",
   "execution_count": null,
   "metadata": {},
   "outputs": [],
   "source": [
    "options(\"scipen\"=100, \"digits\"=4)\n",
    "url<- \"https://docs.google.com/spreadsheets/d/e/2PACX-1vT_oNaK_QKTtFQYdh7Pl17_prektSRuDVwRD71Vo8daBd0biyeG-Oiic4dMN_EL--voDWHAc5MmXNYH/pub?gid=0&single=true&output=csv\"\n",
    "df<-read.csv(url)"
   ]
  },
  {
   "cell_type": "markdown",
   "metadata": {},
   "source": [
    "As a result of the above, the dataframe has the sales and radio and\n",
    "newspaper ads data loaded in:\n",
    "\n",
    "-   print out some info on `df` using `str(df)`\n",
    "-   print out the first few lines of `df` using `head(df)`"
   ]
  },
  {
   "cell_type": "code",
   "execution_count": null,
   "metadata": {},
   "outputs": [],
   "source": [
    "str(df)\n",
    "head(df)"
   ]
  },
  {
   "cell_type": "markdown",
   "metadata": {},
   "source": [
    "Lets look at the correlation coefficient R for Newspaper and Sales\n",
    "\n",
    "-   assign the correlation coefficient like this\n",
    "    `R<-cor(df$newspaper, df$sales)`\n",
    "-   print out `R`"
   ]
  },
  {
   "cell_type": "code",
   "execution_count": null,
   "metadata": {},
   "outputs": [],
   "source": [
    "R <- cor(df$newspaper,df$sales)\n",
    "R"
   ]
  },
  {
   "cell_type": "markdown",
   "metadata": {},
   "source": [
    "What about the scatterplot between them:\n",
    "\n",
    "-   Create a scatterpot with `plot` and pass it `df$newspaper` and\n",
    "    `df$sales` as the x and y"
   ]
  },
  {
   "cell_type": "code",
   "execution_count": null,
   "metadata": {},
   "outputs": [],
   "source": [
    "plot(df$newspaper, df$sales)"
   ]
  },
  {
   "cell_type": "markdown",
   "metadata": {},
   "source": [
    "You can fix up the x-axis label by using `xlab` and the y-axis label by\n",
    "using `ylab`. Also you can give the graph a title using `main`.\n",
    "\n",
    "You can also put in that they are filled dots instead of hollow by using\n",
    "`pch=19`\n",
    "\n",
    "-   run `plot` again, but add titles using arguments `main`, `xlab` and\n",
    "    `ylab`. Also change the dots to be filled with `pch=19`\n",
    "-   give it the `main` as: “Newspaper Expenditures and Sales”\n",
    "-   give it the `xlab` as: “Newspaper Ad Spending (\\$000)”\n",
    "-   give it the `ylab` as: “Sales in Dollars (\\$000)”"
   ]
  },
  {
   "cell_type": "code",
   "execution_count": null,
   "metadata": {},
   "outputs": [],
   "source": [
    "#Original:\n",
    "#plot(df$newspaper,\n",
    "#     df$sales, \n",
    "#     main=CODE, \n",
    "#     xlab=CODE, \n",
    "#     ylab=CODE\", \n",
    "#     pch=19)\n",
    "\n",
    "plot(df$newspaper,\n",
    "     df$sales, \n",
    "     main=\"Newspaper Expenditures and Sales\", \n",
    "     xlab=\"Newspaper Ad Spending ($000)\", \n",
    "     ylab=\"Sales in Dollars ($000)\", \n",
    "     pch=19)"
   ]
  },
  {
   "cell_type": "markdown",
   "metadata": {},
   "source": [
    "Here is the correlation coefficient R for Radio and Sales\n",
    "\n",
    "-   assign the correlation coefficient like this\n",
    "    `R<-cor(df$radio, df$sales)`\n",
    "-   print out `R`"
   ]
  },
  {
   "cell_type": "code",
   "execution_count": null,
   "metadata": {},
   "outputs": [],
   "source": [
    "R <- cor(df$radio, df$sales)\n",
    "R"
   ]
  },
  {
   "cell_type": "markdown",
   "metadata": {},
   "source": [
    "And here is the scatterplot for them:\n",
    "\n",
    "-   Create a scatterpot with `plot` and pass it `df$radio` and\n",
    "    `df$sales` as the x and y\n",
    "-   give it the `main` as: “Radio Ad Expenditures and Sales”\n",
    "-   give it the `xlab` as: “Radio Ad Spending (\\$000)”\n",
    "-   give it the `ylab` as: “Sales in Dollars (\\$000)”"
   ]
  },
  {
   "cell_type": "code",
   "execution_count": null,
   "metadata": {},
   "outputs": [],
   "source": [
    "#Original:\n",
    "#plot(df$radio,df$sales, \n",
    "#     main=CODE, \n",
    "#     xlab=CODE, \n",
    "#     ylab=CODE, \n",
    "#     pch=19)\n",
    "\n",
    "plot(df$radio,df$sales, \n",
    "     main=\"Radio Ad Expenditures and Sales\", \n",
    "     xlab=\"Radio Ad Spending ($000)\", \n",
    "     ylab=\"Sales in Dollars ($000)\", \n",
    "     pch=19)"
   ]
  },
  {
   "cell_type": "markdown",
   "metadata": {},
   "source": [
    "The following shows the correlation matrix and the scatterplots for all\n",
    "variables:\n",
    "\n",
    "-   run `cor(df)` to show the correlation matrix"
   ]
  },
  {
   "cell_type": "code",
   "execution_count": null,
   "metadata": {},
   "outputs": [],
   "source": [
    "cor(df)"
   ]
  },
  {
   "cell_type": "markdown",
   "metadata": {},
   "source": [
    "What are the correlations (Fill in the ???):\n",
    "\n",
    "-   between `newspaper` and `sales` ???\n",
    "-   between `radio` and `sales` ???\n",
    "-   between `newspaper` and `radio` ???\n",
    "\n",
    "Now lets show the scatterplots: - run `plot(df)`"
   ]
  },
  {
   "cell_type": "code",
   "execution_count": null,
   "metadata": {},
   "outputs": [],
   "source": [
    "plot(df)"
   ]
  },
  {
   "cell_type": "markdown",
   "metadata": {},
   "source": [
    "Lets fix up the plots a little just to look at the lower ones:\n",
    "\n",
    "-   run `plot` again but pass it `upper.panel=NULL` and `pch=19`"
   ]
  },
  {
   "cell_type": "code",
   "execution_count": null,
   "metadata": {},
   "outputs": [],
   "source": [
    "plot(df, upper.panel = NULL, pch = 19) "
   ]
  },
  {
   "cell_type": "markdown",
   "metadata": {},
   "source": [
    "Lets run our regression model:\n",
    "\n",
    "-   assign `model` the result of `lm`, using `sales~radio+newspaper` as\n",
    "    the first argument to `lm` and then `data=df` as the second argument\n",
    "-   call `summary(model)` to print out the regression model info after\n",
    "    creating the model"
   ]
  },
  {
   "cell_type": "code",
   "execution_count": null,
   "metadata": {},
   "outputs": [],
   "source": [
    "model <- lm(sales ~ radio + newspaper, data=df)\n",
    "summary(model)"
   ]
  },
  {
   "cell_type": "markdown",
   "metadata": {},
   "source": [
    "FILL IN THE ???? below with the right values from above:\n",
    "\n",
    "**Test for overall significant of linear relationship:**\n",
    "\n",
    "overall p-value = ????\n",
    "\n",
    "**Radio:**\n",
    "\n",
    "p-value for radio = ???\n",
    "\n",
    "**Newspaper:**\n",
    "\n",
    "p-value for newspaper = ???\n",
    "\n",
    "**The regression equation is this:**\n",
    "\n",
    "sales = ???(radio) + ???(newspaper) + ???\n",
    "\n",
    "**The standard error is:**\n",
    "\n",
    "standard error = ???\n",
    "\n",
    "#### Predictions\n",
    "\n",
    "Make a dataframe to hold our predictors:\n",
    "\n",
    "-   spending 30,000 on Radio ads and 35,000 on Newspaper\n",
    "-   spending 35,000 on Radio ads and 45,000 on Newspaper\n",
    "-   spending 5,000 on Radio ads and 60,000 on Newspaper\n",
    "\n",
    "Do this:\n",
    "\n",
    "-   assign a vector `radio` to hold the two radio predictor values\n",
    "-   assign a vector `newspaper` to hold the two newspaper predictor\n",
    "    values\n",
    "-   create a dataframe with `predictors<-data.frame(radio,newspaper)`\n",
    "-   print `predictors`"
   ]
  },
  {
   "cell_type": "code",
   "execution_count": null,
   "metadata": {},
   "outputs": [],
   "source": [
    "# Original:\n",
    "#radio<-CODE\n",
    "#newspaper<-CODE\n",
    "#predictors <- data.frame(radio, newspaper)\n",
    "#predictors\n",
    "\n",
    "radio<-c(30,40,5)\n",
    "newspaper<-c(35,45,60)\n",
    "predictors <- data.frame(radio, newspaper)\n",
    "predictors"
   ]
  },
  {
   "cell_type": "markdown",
   "metadata": {},
   "source": [
    "-   make predictions with `predictions<-predict(model,predictors)`\n",
    "-   print out the `predictions`"
   ]
  },
  {
   "cell_type": "code",
   "execution_count": null,
   "metadata": {},
   "outputs": [],
   "source": [
    "predictions<-predict(model, predictors)\n",
    "predictions"
   ]
  },
  {
   "cell_type": "markdown",
   "metadata": {},
   "source": [
    "Fill in the correct answers below:\n",
    "\n",
    "-   Prediction for \\$30,000 on Radio and \\$35,000 on Newspaper: ???\n",
    "-   Prediction for \\$35,000 on Radio and \\$45,000 on Newspaper: ???\n",
    "-   Prediction for \\$5,000 on Radio and \\$60,000 on Newspaper: ???"
   ]
  }
 ],
 "nbformat": 4,
 "nbformat_minor": 5,
 "metadata": {
  "kernelspec": {
   "name": "ir",
   "display_name": "R",
   "language": "R"
  }
 }
}
