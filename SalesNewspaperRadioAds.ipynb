{
 "cells": [
  {
   "cell_type": "markdown",
   "metadata": {},
   "source": [
    "Just run this code block to set things up"
   ]
  },
  {
   "cell_type": "code",
   "execution_count": null,
   "metadata": {},
   "outputs": [],
   "source": [
    "options(repr.plot.width=4, repr.plot.height=4)\n",
    "options(\"scipen\"=100, \"digits\"=4)\n",
    "if (!require(\"RCurl\")) install.packages(\"RCurl\")\n",
    "library(\"RCurl\")\n",
    "url<- \"https://docs.google.com/spreadsheets/d/e/2PACX-1vT_oNaK_QKTtFQYdh7Pl17_prektSRuDVwRD71Vo8daBd0biyeG-Oiic4dMN_EL--voDWHAc5MmXNYH/pub?gid=0&single=true&output=csv\"\n",
    "textString<-getURL(url)\n",
    "df<-read.csv(text=textString)"
   ]
  },
  {
   "cell_type": "markdown",
   "metadata": {},
   "source": [
    "As a result of the above, the dataframe df has the Sales, Radio and\n",
    "Newspaper Ads data loaded in\n",
    "\n",
    "\\#Sales Based on Radio and Newspaper Ads"
   ]
  },
  {
   "cell_type": "code",
   "execution_count": null,
   "metadata": {},
   "outputs": [],
   "source": [
    "str(df)"
   ]
  },
  {
   "cell_type": "markdown",
   "metadata": {},
   "source": [
    "Lets look at the correlation coefficient R for correlation between\n",
    "Newspaper and Sales"
   ]
  },
  {
   "cell_type": "code",
   "execution_count": null,
   "metadata": {},
   "outputs": [],
   "source": [
    "R = cor(df$Newspaper, df$Sales)\n",
    "R\n",
    "R*R"
   ]
  },
  {
   "cell_type": "markdown",
   "metadata": {},
   "source": [
    "If we did regression between Newspaper and Sales we would get this\n",
    "Rsquared"
   ]
  },
  {
   "cell_type": "code",
   "execution_count": null,
   "metadata": {},
   "outputs": [],
   "source": [
    "plot(df$Newspaper,df$Sales)"
   ]
  },
  {
   "cell_type": "markdown",
   "metadata": {},
   "source": [
    "You can fix up the x-axis label by using `xlab` and the y-axis label by\n",
    "using `ylab`. Also you can give the graph a title.\n",
    "\n",
    "You can give the whole graph a title using `main`\n",
    "\n",
    "You can also put in that they are filled dots instead of hollow by using\n",
    "`pch=19`"
   ]
  },
  {
   "cell_type": "code",
   "execution_count": null,
   "metadata": {},
   "outputs": [],
   "source": [
    "plot(df$Newspaper,df$Sales, main=\"Newspaper Expenditures and Sales\", xlab=\"Newspaper Ad Spending ($000)\", ylab=\"Sales in Dollars ($000)\", pch=19)"
   ]
  },
  {
   "cell_type": "markdown",
   "metadata": {},
   "source": [
    "Here is the R squared for Radio and Sales"
   ]
  },
  {
   "cell_type": "code",
   "execution_count": null,
   "metadata": {},
   "outputs": [],
   "source": [
    "R = cor(df$Radio, df$Sales)\n",
    "R\n",
    "R*R"
   ]
  },
  {
   "cell_type": "code",
   "execution_count": null,
   "metadata": {},
   "outputs": [],
   "source": [
    "plot(df$Radio,df$Sales, main=\"Radio Ad Expenditures and Sales\", xlab=\"Radio Ad Spending ($000)\", ylab=\"Sales in Dollars ($000)\", pch=19)"
   ]
  },
  {
   "cell_type": "markdown",
   "metadata": {},
   "source": [
    "The following shows the correlation matrix"
   ]
  },
  {
   "cell_type": "code",
   "execution_count": null,
   "metadata": {},
   "outputs": [],
   "source": [
    "cor(df)"
   ]
  },
  {
   "cell_type": "code",
   "execution_count": null,
   "metadata": {},
   "outputs": [],
   "source": [
    "plot(df)"
   ]
  },
  {
   "cell_type": "code",
   "execution_count": null,
   "metadata": {},
   "outputs": [],
   "source": [
    "plot(df, upper.panel = NULL, pch = 19, cex.labels=1.25)"
   ]
  },
  {
   "cell_type": "code",
   "execution_count": null,
   "metadata": {},
   "outputs": [],
   "source": [
    "model = lm(Sales ~ Radio + Newspaper, data=df)\n",
    "summary(model)"
   ]
  },
  {
   "cell_type": "markdown",
   "metadata": {},
   "source": [
    "The regression equation is this:\n",
    "\n",
    "$$ sales = 13.08(radio) + 16.80(newspaper) + 156.43 $$\n",
    "\n",
    "The standard error is:\n",
    "\n",
    "$$ \\text{standard error} = 159 $$\n",
    "\n",
    "Test for overall significant of linear relationship:\n",
    "\n",
    "$$ \\text{p-value} = 0.00000015 $$\n",
    "\n",
    "p-value for Radio:\n",
    "\n",
    "$$ \\text{p-value} = 0.00000049 $$\n",
    "\n",
    "p-value for Newspaper:\n",
    "\n",
    "$$ \\text{p-value} = 0.00001831 $$\n",
    "\n",
    "Make some predictions for:\n",
    "\n",
    "1.  spending 30,000 on Radio ads and 35,000 on Newspaper\n",
    "2.  spending 35,000 on Radio ads and 45,000 on Newspaper"
   ]
  },
  {
   "cell_type": "code",
   "execution_count": null,
   "metadata": {},
   "outputs": [],
   "source": [
    "predictors = data.frame(Radio=c(30,40), Newspaper=c(35,45))\n",
    "predictions<-predict(model, predictors)\n",
    "round(predictions)"
   ]
  }
 ],
 "nbformat": 4,
 "nbformat_minor": 5,
 "metadata": {
  "kernelspec": {
   "name": "ir",
   "display_name": "R",
   "language": "R"
  }
 }
}

