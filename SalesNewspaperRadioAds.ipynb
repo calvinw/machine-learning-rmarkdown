{
  "cells": [
    {
      "cell_type": "markdown",
      "metadata": {},
      "source": [
        "# Predicting Sales from Newspaper and Radio Ads\n",
        "\n",
        "Just run this code block to set things up:"
      ],
      "id": "30abfda2-070e-4083-9abb-775a8bb1cd54"
    },
    {
      "cell_type": "code",
      "execution_count": null,
      "metadata": {},
      "outputs": [],
      "source": [
        "options(\"scipen\"=100, \"digits\"=4)\n",
        "url<- \"https://docs.google.com/spreadsheets/d/e/2PACX-1vT_oNaK_QKTtFQYdh7Pl17_prektSRuDVwRD71Vo8daBd0biyeG-Oiic4dMN_EL--voDWHAc5MmXNYH/pub?gid=0&single=true&output=csv\"\n",
        "df<-read.csv(url)"
      ],
      "id": "c472f3b3-c234-4850-bca2-6358da4bd0c2"
    },
    {
      "cell_type": "markdown",
      "metadata": {},
      "source": [
        "As a result of the above, the dataframe has the sales and radio and\n",
        "newspaper ads data loaded in:\n",
        "\n",
        "-   print out some info on `df` using `str(df)`\n",
        "-   print out the first few lines of `df` using `head(df)`"
      ],
      "id": "d2b9009e-62cd-4b4d-b527-fa6f1a85dba4"
    },
    {
      "cell_type": "code",
      "execution_count": null,
      "metadata": {},
      "outputs": [],
      "source": [
        "CODE"
      ],
      "id": "7009ad25-fcf1-4610-8868-0f97d38f0b5c"
    },
    {
      "cell_type": "markdown",
      "metadata": {},
      "source": [
        "Lets look at the correlation coefficient R for Newspaper and Sales\n",
        "\n",
        "-   assign the correlation coefficient like this\n",
        "    `R<-cor(df$newspaper, df$sales)`\n",
        "-   print out `R`"
      ],
      "id": "e1c96ceb-559c-4e2b-9c69-bf17ab558900"
    },
    {
      "cell_type": "code",
      "execution_count": null,
      "metadata": {},
      "outputs": [],
      "source": [
        "CODE"
      ],
      "id": "52b095e8-8bba-46aa-8716-7a0816e89ea3"
    },
    {
      "cell_type": "markdown",
      "metadata": {},
      "source": [
        "What about the scatterplot between them:\n",
        "\n",
        "-   Create a scatterpot with `plot` and pass it `df$newspaper` and\n",
        "    `df$sales` as the x and y"
      ],
      "id": "11aac95a-3326-4185-b31a-9da0d694c08a"
    },
    {
      "cell_type": "code",
      "execution_count": null,
      "metadata": {},
      "outputs": [],
      "source": [
        "CODE"
      ],
      "id": "484764fc-8a7f-43b2-a7c0-587c1c26f271"
    },
    {
      "cell_type": "markdown",
      "metadata": {},
      "source": [
        "You can fix up the x-axis label by using `xlab` and the y-axis label by\n",
        "using `ylab`. Also you can give the graph a title using `main`.\n",
        "\n",
        "You can also put in that they are filled dots instead of hollow by using\n",
        "`pch=19`\n",
        "\n",
        "-   run `plot` again, but add titles using arguments `main`, `xlab` and\n",
        "    `ylab`. Also change the dots to be filled with `pch=19`\n",
        "-   give it the `main` as: \"Newspaper Expenditures and Sales\"\n",
        "-   give it the `xlab` as: \"Newspaper Ad Spending (\\$000)\"\n",
        "-   give it the `ylab` as: \"Sales in Dollars (\\$000)\""
      ],
      "id": "f054a515-0382-409c-872a-05e0b0da203a"
    },
    {
      "cell_type": "code",
      "execution_count": null,
      "metadata": {},
      "outputs": [],
      "source": [
        "plot(df$newspaper,\n",
        "     df$sales, \n",
        "     main=CODE, \n",
        "     xlab=CODE, \n",
        "     ylab=CODE, \n",
        "     pch=19)"
      ],
      "id": "9a7c282c-a163-4bb6-ad02-fb57d4d516a7"
    },
    {
      "cell_type": "markdown",
      "metadata": {},
      "source": [
        "Here is the correlation coefficient R for Radio and Sales\n",
        "\n",
        "-   assign the correlation coefficient like this\n",
        "    `R<-cor(df$radio, df$sales)`\n",
        "-   print out `R`"
      ],
      "id": "1f94c69e-a2fa-437c-adc9-4cfe915928cc"
    },
    {
      "cell_type": "code",
      "execution_count": null,
      "metadata": {},
      "outputs": [],
      "source": [
        "CODE"
      ],
      "id": "22a398ac-612c-48d4-ad49-16af49478652"
    },
    {
      "cell_type": "markdown",
      "metadata": {},
      "source": [
        "And here is the scatterplot for them:\n",
        "\n",
        "-   Create a scatterpot with `plot` and pass it `df$radio` and\n",
        "    `df$sales` as the x and y\n",
        "-   give it the `main` as: \"Radio Ad Expenditures and Sales\"\n",
        "-   give it the `xlab` as: \"Radio Ad Spending (\\$000)\"\n",
        "-   give it the `ylab` as: \"Sales in Dollars (\\$000)\""
      ],
      "id": "1191dc9c-5ac5-4f6e-a138-6b1b3a1a5a58"
    },
    {
      "cell_type": "code",
      "execution_count": null,
      "metadata": {},
      "outputs": [],
      "source": [
        "plot(df$radio,df$sales, \n",
        "     main=CODE, \n",
        "     xlab=CODE, \n",
        "     ylab=CODE, \n",
        "     pch=19)"
      ],
      "id": "f07660e2-05da-4eb0-8340-74287e6d423d"
    },
    {
      "cell_type": "markdown",
      "metadata": {},
      "source": [
        "The following shows the correlation matrix and the scatterplots for all\n",
        "variables:\n",
        "\n",
        "-   run `cor(df)` to show the correlation matrix"
      ],
      "id": "cf89b93d-e67a-4406-9246-c877cfcadafb"
    },
    {
      "cell_type": "code",
      "execution_count": null,
      "metadata": {},
      "outputs": [],
      "source": [
        "CODE"
      ],
      "id": "d6f26087-33fb-4999-b6f4-fba340d21635"
    },
    {
      "cell_type": "markdown",
      "metadata": {},
      "source": [
        "What are the correlations (Fill in the ???):\n",
        "\n",
        "-   between `newspaper` and `sales` ???\n",
        "-   between `radio` and `sales` ???\n",
        "-   between `newspaper` and `radio` ???\n",
        "\n",
        "Now lets show the scatterplots: - run `plot(df)`"
      ],
      "id": "142b889a-98ff-4acf-bd3e-e528b083f9e7"
    },
    {
      "cell_type": "code",
      "execution_count": null,
      "metadata": {},
      "outputs": [],
      "source": [
        "CODE"
      ],
      "id": "d4ac79bd-3df9-4705-b510-d895066b87da"
    },
    {
      "cell_type": "markdown",
      "metadata": {},
      "source": [
        "Lets fix up the plots a little just to look at the lower ones:\n",
        "\n",
        "-   run `plot` again but pass it `upper.panel=NULL` and `pch=19`"
      ],
      "id": "82a90ec4-0da1-48c4-bb24-3e19b8a14aee"
    },
    {
      "cell_type": "code",
      "execution_count": null,
      "metadata": {},
      "outputs": [],
      "source": [
        "CODE"
      ],
      "id": "e6a86cf5-5d07-4367-acdf-c36f9c1fbe88"
    },
    {
      "cell_type": "markdown",
      "metadata": {},
      "source": [
        "Lets run our regression model:\n",
        "\n",
        "-   assign `model` the result of `lm`, using `sales~radio+newspaper` as\n",
        "    the first argument to `lm` and then `data=df` as the second argument\n",
        "-   call `summary(model)` to print out the regression model info after\n",
        "    creating the model"
      ],
      "id": "a88a8323-fea7-40ea-ad44-01caf56cef50"
    },
    {
      "cell_type": "code",
      "execution_count": null,
      "metadata": {},
      "outputs": [],
      "source": [
        "CODE"
      ],
      "id": "d8a7ea69-31a1-4b8e-8e7e-cbc0d0a469c8"
    },
    {
      "cell_type": "markdown",
      "metadata": {},
      "source": [
        "FILL IN THE ???? below with the right values from above:\n",
        "\n",
        "**Test for overall significant of linear relationship:**\n",
        "\n",
        "overall p-value = ????\n",
        "\n",
        "**Radio:**\n",
        "\n",
        "p-value for radio = ???\n",
        "\n",
        "**Newspaper:**\n",
        "\n",
        "p-value for newspaper = ???\n",
        "\n",
        "**The regression equation is this:**\n",
        "\n",
        "sales = ???(radio) + ???(newspaper) + ???\n",
        "\n",
        "**The standard error is:**\n",
        "\n",
        "standard error = ???\n",
        "\n",
        "#### Predictions\n",
        "\n",
        "Make a dataframe to hold our predictors:\n",
        "\n",
        "-   spending 30,000 on Radio ads and 35,000 on Newspaper\n",
        "-   spending 35,000 on Radio ads and 45,000 on Newspaper\n",
        "-   spending 5,000 on Radio ads and 60,000 on Newspaper\n",
        "\n",
        "Do this:\n",
        "\n",
        "-   assign a vector `radio` to hold the two radio predictor values\n",
        "-   assign a vector `newspaper` to hold the two newspaper predictor\n",
        "    values\n",
        "-   create a dataframe with `predictors<-data.frame(radio,newspaper)`\n",
        "-   print `predictors`"
      ],
      "id": "2cad00f9-1c88-4cd6-9561-52613d10ddfc"
    },
    {
      "cell_type": "code",
      "execution_count": null,
      "metadata": {},
      "outputs": [],
      "source": [
        "radio<-CODE\n",
        "newspaper<-CODE\n",
        "predictors <- data.frame(radio, newspaper)\n",
        "predictors"
      ],
      "id": "0019bb9b-cb36-452a-b92e-d519c71bed71"
    },
    {
      "cell_type": "markdown",
      "metadata": {},
      "source": [
        "-   make predictions with `predictions<-predict(model,predictors)`\n",
        "-   print out the `predictions`"
      ],
      "id": "e7b399ac-2242-4b0a-9dfa-15572bc1fb87"
    },
    {
      "cell_type": "code",
      "execution_count": null,
      "metadata": {},
      "outputs": [],
      "source": [
        "CODE"
      ],
      "id": "dbbe7083-ae44-4d2f-87cc-f406b8613e9b"
    },
    {
      "cell_type": "markdown",
      "metadata": {},
      "source": [
        "Fill in the correct answers below:\n",
        "\n",
        "-   Prediction for \\$30,000 on Radio and \\$35,000 on Newspaper: ???\n",
        "-   Prediction for \\$35,000 on Radio and \\$45,000 on Newspaper: ???\n",
        "-   Prediction for \\$5,000 on Radio and \\$60,000 on Newspaper: ???"
      ],
      "id": "0d24dd66-d62c-4751-a591-ba0e91635328"
    }
  ],
  "nbformat": 4,
  "nbformat_minor": 5,
  "metadata": {
    "kernelspec": {
      "name": "ir",
      "display_name": "R",
      "language": "R"
    }
  }
}