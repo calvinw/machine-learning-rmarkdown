{
 "cells": [
  {
   "cell_type": "markdown",
   "metadata": {},
   "source": [
    "Just run this code block to set things up:"
   ]
  },
  {
   "cell_type": "code",
   "execution_count": null,
   "metadata": {},
   "outputs": [],
   "source": [
    "options(repr.plot.width=4, repr.plot.height=4)\n",
    "options(\"scipen\"=100, \"digits\"=4)\n",
    "if(!require(\"readr\")) install.packages(\"readr\")\n",
    "library(\"readr\")\n",
    "url<- \"https://docs.google.com/spreadsheets/d/e/2PACX-1vT_oNaK_QKTtFQYdh7Pl17_prektSRuDVwRD71Vo8daBd0biyeG-Oiic4dMN_EL--voDWHAc5MmXNYH/pub?gid=0&single=true&output=csv\"\n",
    "df<-read.csv(url)"
   ]
  },
  {
   "cell_type": "markdown",
   "metadata": {},
   "source": [
    "As a result of the above, the dataframe df has the Sales, Radio and\n",
    "Newspaper Ads data loaded in\n",
    "\n",
    "Just for convenience, lets define three variables to hold the columns:"
   ]
  },
  {
   "cell_type": "code",
   "execution_count": null,
   "metadata": {},
   "outputs": [],
   "source": [
    "Radio<-df$Radio\n",
    "Newspaper<-df$Newspaper\n",
    "Sales<-df$Sales\n",
    "\n",
    "str(df)"
   ]
  },
  {
   "cell_type": "markdown",
   "metadata": {},
   "source": [
    "Lets look at the correlation coefficient R for Newspaper and Sales"
   ]
  },
  {
   "cell_type": "code",
   "execution_count": null,
   "metadata": {},
   "outputs": [],
   "source": [
    "R = cor(Newspaper, Sales)\n",
    "R"
   ]
  },
  {
   "cell_type": "markdown",
   "metadata": {},
   "source": [
    "What about the scatterplot between them:"
   ]
  },
  {
   "cell_type": "code",
   "execution_count": null,
   "metadata": {},
   "outputs": [],
   "source": [
    "plot(Newspaper,Sales)"
   ]
  },
  {
   "cell_type": "markdown",
   "metadata": {},
   "source": [
    "You can fix up the x-axis label by using `xlab` and the y-axis label by\n",
    "using `ylab`. Also you can give the graph a title.\n",
    "\n",
    "You can give the whole graph a title using `main`\n",
    "\n",
    "You can also put in that they are filled dots instead of hollow by using\n",
    "`pch=19`"
   ]
  },
  {
   "cell_type": "code",
   "execution_count": null,
   "metadata": {},
   "outputs": [],
   "source": [
    "plot(Newspaper,Sales, main=\"Newspaper Expenditures and Sales\", xlab=\"Newspaper Ad Spending ($000)\", ylab=\"Sales in Dollars ($000)\", pch=19)"
   ]
  },
  {
   "cell_type": "markdown",
   "metadata": {},
   "source": [
    "Here is the correlation coefficient R for Radio and Sales"
   ]
  },
  {
   "cell_type": "code",
   "execution_count": null,
   "metadata": {},
   "outputs": [],
   "source": [
    "R = cor(Radio, Sales)\n",
    "R"
   ]
  },
  {
   "cell_type": "markdown",
   "metadata": {},
   "source": [
    "And here is the scatterplot for them:"
   ]
  },
  {
   "cell_type": "code",
   "execution_count": null,
   "metadata": {},
   "outputs": [],
   "source": [
    "plot(Radio,Sales, main=\"Radio Ad Expenditures and Sales\", xlab=\"Radio Ad Spending ($000)\", ylab=\"Sales in Dollars ($000)\", pch=19)"
   ]
  },
  {
   "cell_type": "markdown",
   "metadata": {},
   "source": [
    "The following shows the correlation matrix and the scatterplots for all\n",
    "variables"
   ]
  },
  {
   "cell_type": "code",
   "execution_count": null,
   "metadata": {},
   "outputs": [],
   "source": [
    "cor(df)\n",
    "plot(df)"
   ]
  },
  {
   "cell_type": "markdown",
   "metadata": {},
   "source": [
    "Lets fix up the plots a little just to look at the lower ones:"
   ]
  },
  {
   "cell_type": "code",
   "execution_count": null,
   "metadata": {},
   "outputs": [],
   "source": [
    "plot(df, upper.panel = NULL, pch = 19, cex.labels=1.25)"
   ]
  },
  {
   "cell_type": "markdown",
   "metadata": {},
   "source": [
    "Lets run our regression model:"
   ]
  },
  {
   "cell_type": "code",
   "execution_count": null,
   "metadata": {},
   "outputs": [],
   "source": [
    "model = lm(Sales ~ Radio + Newspaper, data=df)\n",
    "summary(model)"
   ]
  },
  {
   "cell_type": "markdown",
   "metadata": {},
   "source": [
    "Test for overall significant of linear relationship:\n",
    "\n",
    "$$ \\text{p-value} = 0.00000015 $$\n",
    "\n",
    "p-value for Radio:\n",
    "\n",
    "$$ \\text{p-value} = 0.00000049 $$\n",
    "\n",
    "p-value for Newspaper:\n",
    "\n",
    "$$ \\text{p-value} = 0.00001831 $$\n",
    "\n",
    "The regression equation is this:\n",
    "\n",
    "$$ sales = 13.08(radio) + 16.80(newspaper) + 156.43 $$\n",
    "\n",
    "The standard error is:\n",
    "\n",
    "$$ \\text{standard error} = 159 $$\n",
    "\n",
    "Make some predictions for:\n",
    "\n",
    "-   spending 30,000 on Radio ads and 35,000 on Newspaper\n",
    "-   spending 35,000 on Radio ads and 45,000 on Newspaper"
   ]
  },
  {
   "cell_type": "code",
   "execution_count": null,
   "metadata": {},
   "outputs": [],
   "source": [
    "predictors = data.frame(Radio=c(30,40), Newspaper=c(35,45))\n",
    "predictions<-predict(model, predictors)\n",
    "round(predictions)"
   ]
  }
 ],
 "nbformat": 4,
 "nbformat_minor": 5,
 "metadata": {
  "kernelspec": {
   "name": "ir",
   "display_name": "R",
   "language": "R"
  }
 }
}

