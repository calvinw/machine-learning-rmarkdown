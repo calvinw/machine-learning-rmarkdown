{
  "cells": [
    {
      "cell_type": "markdown",
      "metadata": {},
      "source": [
        "# Predicting Sales from Newspaper and Radio Ads\n",
        "\n",
        "Just run this code block to set things up:"
      ],
      "id": "85cff8fb-01e4-46aa-aa43-5d83eab9b5e4"
    },
    {
      "cell_type": "code",
      "execution_count": null,
      "metadata": {},
      "outputs": [],
      "source": [
        "options(\"scipen\"=100, \"digits\"=4)\n",
        "url<- \"https://docs.google.com/spreadsheets/d/e/2PACX-1vT_oNaK_QKTtFQYdh7Pl17_prektSRuDVwRD71Vo8daBd0biyeG-Oiic4dMN_EL--voDWHAc5MmXNYH/pub?gid=0&single=true&output=csv\"\n",
        "df<-read.csv(url)"
      ],
      "id": "32960169-aebf-47bf-ab42-2df712256081"
    },
    {
      "cell_type": "markdown",
      "metadata": {},
      "source": [
        "As a result of the above, the dataframe has the sales and radio and\n",
        "newspaper ads data loaded in:\n",
        "\n",
        "-   print out some info on `df` using `str(df)`\n",
        "-   print out the first few lines of `df` using `head(df)`"
      ],
      "id": "fb7dd98e-6e25-47a8-ae53-f2a5d59317f9"
    },
    {
      "cell_type": "code",
      "execution_count": null,
      "metadata": {},
      "outputs": [],
      "source": [
        "CODE"
      ],
      "id": "ae2147da-8a0f-4776-9c7d-2f7d361933c7"
    },
    {
      "cell_type": "markdown",
      "metadata": {},
      "source": [
        "Lets look at the correlation coefficient R for Newspaper and Sales\n",
        "\n",
        "-   assign the correlation coefficient like this\n",
        "    `R<-cor(df$newspaper, df$sales)`\n",
        "-   print out `R`"
      ],
      "id": "935afa9b-9552-499c-b345-cec3461d12ee"
    },
    {
      "cell_type": "code",
      "execution_count": null,
      "metadata": {},
      "outputs": [],
      "source": [
        "CODE"
      ],
      "id": "82d46490-478a-43df-83bb-9be99c632f70"
    },
    {
      "cell_type": "markdown",
      "metadata": {},
      "source": [
        "What about the scatterplot between them:\n",
        "\n",
        "-   Create a scatterpot with `plot` and pass it `df$newspaper` and\n",
        "    `df$sales` as the x and y"
      ],
      "id": "a12ef5b2-2c42-43aa-b514-4c562ae9bccf"
    },
    {
      "cell_type": "code",
      "execution_count": null,
      "metadata": {},
      "outputs": [],
      "source": [
        "CODE"
      ],
      "id": "f9788638-00fb-4b0c-a53f-9391b609dec7"
    },
    {
      "cell_type": "markdown",
      "metadata": {},
      "source": [
        "You can fix up the x-axis label by using `xlab` and the y-axis label by\n",
        "using `ylab`. Also you can give the graph a title using `main`.\n",
        "\n",
        "You can also put in that they are filled dots instead of hollow by using\n",
        "`pch=19`\n",
        "\n",
        "-   run `plot` again, but add titles using arguments `main`, `xlab` and\n",
        "    `ylab`. Also change the dots to be filled with `pch=19`\n",
        "-   give it the `main` as: \"Newspaper Expenditures and Sales\"\n",
        "-   give it the `xlab` as: \"Newspaper Ad Spending (\\$000)\"\n",
        "-   give it the `ylab` as: \"Sales in Dollars (\\$000)\""
      ],
      "id": "9b6d0371-4400-4ac8-9dec-384483c6a474"
    },
    {
      "cell_type": "code",
      "execution_count": null,
      "metadata": {},
      "outputs": [],
      "source": [
        "plot(df$newspaper,\n",
        "     df$sales, \n",
        "     main=CODE, \n",
        "     xlab=CODE, \n",
        "     ylab=CODE, \n",
        "     pch=19)"
      ],
      "id": "f0db7cda-6ba3-4f34-8cc2-9c136205b9ef"
    },
    {
      "cell_type": "markdown",
      "metadata": {},
      "source": [
        "Here is the correlation coefficient R for Radio and Sales\n",
        "\n",
        "-   assign the correlation coefficient like this\n",
        "    `R<-cor(df$radio, df$sales)`\n",
        "-   print out `R`"
      ],
      "id": "37b5a57a-b196-4d72-b0aa-9c180fae2ef2"
    },
    {
      "cell_type": "code",
      "execution_count": null,
      "metadata": {},
      "outputs": [],
      "source": [
        "CODE"
      ],
      "id": "d44d9ad7-5605-4a4d-b940-14d1df7faa1a"
    },
    {
      "cell_type": "markdown",
      "metadata": {},
      "source": [
        "And here is the scatterplot for them:\n",
        "\n",
        "-   Create a scatterpot with `plot` and pass it `df$radio` and\n",
        "    `df$sales` as the x and y\n",
        "-   give it the `main` as: \"Radio Ad Expenditures and Sales\"\n",
        "-   give it the `xlab` as: \"Radio Ad Spending (\\$000)\"\n",
        "-   give it the `ylab` as: \"Sales in Dollars (\\$000)\""
      ],
      "id": "dce261e8-f88c-4f89-a71d-3ea0515e081b"
    },
    {
      "cell_type": "code",
      "execution_count": null,
      "metadata": {},
      "outputs": [],
      "source": [
        "plot(df$radio,df$sales, \n",
        "     main=CODE, \n",
        "     xlab=CODE, \n",
        "     ylab=CODE, \n",
        "     pch=19)"
      ],
      "id": "98203fc9-761b-4367-bb2b-e432a5ce7776"
    },
    {
      "cell_type": "markdown",
      "metadata": {},
      "source": [
        "The following shows the correlation matrix and the scatterplots for all\n",
        "variables:\n",
        "\n",
        "-   run `cor(df)` to show the correlation matrix"
      ],
      "id": "c32432f2-53d8-43ad-a2de-c81aa4124db9"
    },
    {
      "cell_type": "code",
      "execution_count": null,
      "metadata": {},
      "outputs": [],
      "source": [
        "CODE"
      ],
      "id": "44a68167-6aa9-43b5-8e26-23e9ea70aa07"
    },
    {
      "cell_type": "markdown",
      "metadata": {},
      "source": [
        "What are the correlations (Fill in the ???):\n",
        "\n",
        "-   between `newspaper` and `sales` ???\n",
        "-   between `radio` and `sales` ???\n",
        "-   between `newspaper` and `radio` ???\n",
        "\n",
        "Now lets show the scatterplots: - run `plot(df)`"
      ],
      "id": "8b57fbf8-191a-4dd6-8f5d-a5411f31aa22"
    },
    {
      "cell_type": "code",
      "execution_count": null,
      "metadata": {},
      "outputs": [],
      "source": [
        "CODE"
      ],
      "id": "b30da371-769a-475e-99a3-800eb7242b36"
    },
    {
      "cell_type": "markdown",
      "metadata": {},
      "source": [
        "Lets fix up the plots a little just to look at the lower ones:\n",
        "\n",
        "-   run `plot` again but pass it `upper.panel=NULL` and `pch=19`"
      ],
      "id": "5f8c5219-2146-4211-a53e-8a08ef1029e4"
    },
    {
      "cell_type": "code",
      "execution_count": null,
      "metadata": {},
      "outputs": [],
      "source": [
        "CODE"
      ],
      "id": "4cb561e8-3da7-4b0f-bf68-7845c152c1ca"
    },
    {
      "cell_type": "markdown",
      "metadata": {},
      "source": [
        "Lets run our regression model:\n",
        "\n",
        "-   assign `model` the result of `lm`, using `sales~radio+newspaper` as\n",
        "    the first argument to `lm` and then `data=df` as the second argument\n",
        "-   call `summary(model)` to print out the regression model info after\n",
        "    creating the model"
      ],
      "id": "70613fb6-ddfd-4f3a-9b35-94aafaef8c4f"
    },
    {
      "cell_type": "code",
      "execution_count": null,
      "metadata": {},
      "outputs": [],
      "source": [
        "CODE"
      ],
      "id": "fdc60e3c-93f5-4dfe-bfb8-d7885770261f"
    },
    {
      "cell_type": "markdown",
      "metadata": {},
      "source": [
        "FILL IN THE ???? below with the right values from above:\n",
        "\n",
        "**Test for overall significant of linear relationship:**\n",
        "\n",
        "overall p-value = ????\n",
        "\n",
        "**Radio:**\n",
        "\n",
        "p-value for radio = ???\n",
        "\n",
        "**Newspaper:**\n",
        "\n",
        "p-value for newspaper = ???\n",
        "\n",
        "**The regression equation is this:**\n",
        "\n",
        "sales = ???(radio) + ???(newspaper) + ???\n",
        "\n",
        "**The standard error is:**\n",
        "\n",
        "standard error = ???\n",
        "\n",
        "#### Predictions\n",
        "\n",
        "Make a dataframe to hold our predictors:\n",
        "\n",
        "-   spending 30,000 on Radio ads and 35,000 on Newspaper\n",
        "-   spending 35,000 on Radio ads and 45,000 on Newspaper\n",
        "-   spending 5,000 on Radio ads and 60,000 on Newspaper\n",
        "\n",
        "Do this:\n",
        "\n",
        "-   assign a vector `radio` to hold the two radio predictor values\n",
        "-   assign a vector `newspaper` to hold the two newspaper predictor\n",
        "    values\n",
        "-   create a dataframe with `predictors<-data.frame(radio,newspaper)`\n",
        "-   print `predictors`"
      ],
      "id": "7c303d46-48b4-424e-afc8-97dda33028fe"
    },
    {
      "cell_type": "code",
      "execution_count": null,
      "metadata": {},
      "outputs": [],
      "source": [
        "radio<-CODE\n",
        "newspaper<-CODE\n",
        "predictors <- data.frame(radio, newspaper)\n",
        "predictors"
      ],
      "id": "29874184-fe01-4656-84f6-3d3e2a56c3a1"
    },
    {
      "cell_type": "markdown",
      "metadata": {},
      "source": [
        "-   make predictions with `predictions<-predict(model,predictors)`\n",
        "-   print out the `predictions`"
      ],
      "id": "b4606d03-2cc0-495e-9b75-ce516b9c0269"
    },
    {
      "cell_type": "code",
      "execution_count": null,
      "metadata": {},
      "outputs": [],
      "source": [
        "CODE"
      ],
      "id": "c8c67572-f5d1-4635-a76b-a6f237723cbc"
    },
    {
      "cell_type": "markdown",
      "metadata": {},
      "source": [
        "Fill in the correct answers below:\n",
        "\n",
        "-   Prediction for \\$30,000 on Radio and \\$35,000 on Newspaper: ???\n",
        "-   Prediction for \\$35,000 on Radio and \\$45,000 on Newspaper: ???\n",
        "-   Prediction for \\$5,000 on Radio and \\$60,000 on Newspaper: ???"
      ],
      "id": "84b55af4-e499-4c8e-b5ab-c253236b5eb7"
    }
  ],
  "nbformat": 4,
  "nbformat_minor": 5,
  "metadata": {
    "kernelspec": {
      "name": "ir",
      "display_name": "R",
      "language": "R"
    }
  }
}