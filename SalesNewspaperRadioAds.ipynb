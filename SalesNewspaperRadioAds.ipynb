{
  "cells": [
    {
      "cell_type": "markdown",
      "metadata": {},
      "source": [
        "# Predicting Sales from Newspaper and Radio Ads\n",
        "\n",
        "Just run this code block to set things up:"
      ],
      "id": "c5dec0fd-a677-43a6-a624-6857f1bd22e3"
    },
    {
      "cell_type": "code",
      "execution_count": null,
      "metadata": {},
      "outputs": [],
      "source": [
        "options(\"scipen\"=100, \"digits\"=4)\n",
        "url<- \"https://docs.google.com/spreadsheets/d/e/2PACX-1vT_oNaK_QKTtFQYdh7Pl17_prektSRuDVwRD71Vo8daBd0biyeG-Oiic4dMN_EL--voDWHAc5MmXNYH/pub?gid=0&single=true&output=csv\"\n",
        "df<-read.csv(url)"
      ],
      "id": "d89f20b6-5d16-40ef-a0b0-ebe268b7894a"
    },
    {
      "cell_type": "markdown",
      "metadata": {},
      "source": [
        "As a result of the above, the dataframe has the sales and radio and\n",
        "newspaper ads data loaded in:\n",
        "\n",
        "-   print out some info on `df` using `str(df)`\n",
        "-   print out the first few lines of `df` using `head(df)`"
      ],
      "id": "c47bfff3-411d-46d0-8223-239051a51d0f"
    },
    {
      "cell_type": "code",
      "execution_count": null,
      "metadata": {},
      "outputs": [],
      "source": [
        "CODE"
      ],
      "id": "5ad09e2d-4a44-41a9-b35f-de3da036832e"
    },
    {
      "cell_type": "markdown",
      "metadata": {},
      "source": [
        "Lets look at the correlation coefficient R for Newspaper and Sales\n",
        "\n",
        "-   assign the correlation coefficient like this\n",
        "    `R<-cor(df$newspaper, df$sales)`\n",
        "-   print out `R`"
      ],
      "id": "5958e32e-88f2-4245-847c-81c9a6d0d12c"
    },
    {
      "cell_type": "code",
      "execution_count": null,
      "metadata": {},
      "outputs": [],
      "source": [
        "CODE"
      ],
      "id": "ebdf450a-b36d-4b4e-833c-16935ca92edb"
    },
    {
      "cell_type": "markdown",
      "metadata": {},
      "source": [
        "What about the scatterplot between them:\n",
        "\n",
        "-   Create a scatterpot with `plot` and pass it `df$newspaper` and\n",
        "    `df$sales` as the x and y"
      ],
      "id": "0e959a8d-4237-4d02-b760-124a01d4d150"
    },
    {
      "cell_type": "code",
      "execution_count": null,
      "metadata": {},
      "outputs": [],
      "source": [
        "CODE"
      ],
      "id": "e06e46e5-7a5a-4f1b-ac5f-25030af7bcb0"
    },
    {
      "cell_type": "markdown",
      "metadata": {},
      "source": [
        "You can fix up the x-axis label by using `xlab` and the y-axis label by\n",
        "using `ylab`. Also you can give the graph a title using `main`.\n",
        "\n",
        "You can also put in that they are filled dots instead of hollow by using\n",
        "`pch=19`\n",
        "\n",
        "-   run `plot` again, but add titles using arguments `main`, `xlab` and\n",
        "    `ylab`. Also change the dots to be filled with `pch=19`\n",
        "-   give it the `main` as: \"Newspaper Expenditures and Sales\"\n",
        "-   give it the `xlab` as: \"Newspaper Ad Spending (\\$000)\"\n",
        "-   give it the `ylab` as: \"Sales in Dollars (\\$000)\""
      ],
      "id": "e5cda958-7422-458b-8b54-39df49087357"
    },
    {
      "cell_type": "code",
      "execution_count": null,
      "metadata": {},
      "outputs": [],
      "source": [
        "plot(df$newspaper,\n",
        "     df$sales, \n",
        "     main=CODE, \n",
        "     xlab=CODE, \n",
        "     ylab=CODE, \n",
        "     pch=19)"
      ],
      "id": "a6e98959-fee9-44b5-afca-4d077aeeafd1"
    },
    {
      "cell_type": "markdown",
      "metadata": {},
      "source": [
        "Here is the correlation coefficient R for Radio and Sales\n",
        "\n",
        "-   assign the correlation coefficient like this\n",
        "    `R<-cor(df$radio, df$sales)`\n",
        "-   print out `R`"
      ],
      "id": "41d9f4ee-e144-4441-9134-fb45b7a82843"
    },
    {
      "cell_type": "code",
      "execution_count": null,
      "metadata": {},
      "outputs": [],
      "source": [
        "CODE"
      ],
      "id": "0f02a840-9934-4f87-8fa2-28eea0c70679"
    },
    {
      "cell_type": "markdown",
      "metadata": {},
      "source": [
        "And here is the scatterplot for them:\n",
        "\n",
        "-   Create a scatterpot with `plot` and pass it `df$radio` and\n",
        "    `df$sales` as the x and y\n",
        "-   give it the `main` as: \"Radio Ad Expenditures and Sales\"\n",
        "-   give it the `xlab` as: \"Radio Ad Spending (\\$000)\"\n",
        "-   give it the `ylab` as: \"Sales in Dollars (\\$000)\""
      ],
      "id": "e0a9974b-399f-48f6-b4da-42a695fb280d"
    },
    {
      "cell_type": "code",
      "execution_count": null,
      "metadata": {},
      "outputs": [],
      "source": [
        "plot(df$radio,df$sales, \n",
        "     main=CODE, \n",
        "     xlab=CODE, \n",
        "     ylab=CODE, \n",
        "     pch=19)"
      ],
      "id": "3f387343-cb18-463e-b3e9-0aa2d41665a7"
    },
    {
      "cell_type": "markdown",
      "metadata": {},
      "source": [
        "The following shows the correlation matrix and the scatterplots for all\n",
        "variables:\n",
        "\n",
        "-   run `cor(df)` to show the correlation matrix"
      ],
      "id": "83935ee9-b8fb-466b-88bb-fe7cf2dbd61e"
    },
    {
      "cell_type": "code",
      "execution_count": null,
      "metadata": {},
      "outputs": [],
      "source": [
        "CODE"
      ],
      "id": "24fe8709-df7e-4359-9db0-f6b885eb6b0f"
    },
    {
      "cell_type": "markdown",
      "metadata": {},
      "source": [
        "What are the correlations (Fill in the ???):\n",
        "\n",
        "-   between `newspaper` and `sales` ???\n",
        "-   between `radio` and `sales` ???\n",
        "-   between `newspaper` and `radio` ???\n",
        "\n",
        "Now lets show the scatterplots: - run `plot(df)`"
      ],
      "id": "fdf57fe2-7b25-426a-9bce-aa3020d666a2"
    },
    {
      "cell_type": "code",
      "execution_count": null,
      "metadata": {},
      "outputs": [],
      "source": [
        "CODE"
      ],
      "id": "5c8ebd87-eb34-441d-82f7-a1600b247178"
    },
    {
      "cell_type": "markdown",
      "metadata": {},
      "source": [
        "Lets fix up the plots a little just to look at the lower ones:\n",
        "\n",
        "-   run `plot` again but pass it `upper.panel=NULL` and `pch=19`"
      ],
      "id": "6081137a-30b1-4344-8e67-aa59db87694a"
    },
    {
      "cell_type": "code",
      "execution_count": null,
      "metadata": {},
      "outputs": [],
      "source": [
        "CODE"
      ],
      "id": "7a628b83-50b4-46f3-be9e-6314936c2fc3"
    },
    {
      "cell_type": "markdown",
      "metadata": {},
      "source": [
        "Lets run our regression model:\n",
        "\n",
        "-   assign `model` the result of `lm`, using `sales~radio+newspaper` as\n",
        "    the first argument to `lm` and then `data=df` as the second argument\n",
        "-   call `summary(model)` to print out the regression model info after\n",
        "    creating the model"
      ],
      "id": "a4ec002d-3f1b-4baa-a527-7b7efb96a2e2"
    },
    {
      "cell_type": "code",
      "execution_count": null,
      "metadata": {},
      "outputs": [],
      "source": [
        "CODE"
      ],
      "id": "67f37cb3-5d63-4ee3-b590-e029f2d3fd5c"
    },
    {
      "cell_type": "markdown",
      "metadata": {},
      "source": [
        "FILL IN THE ???? below with the right values from above:\n",
        "\n",
        "**Test for overall significant of linear relationship:**\n",
        "\n",
        "overall p-value = ????\n",
        "\n",
        "**Radio:**\n",
        "\n",
        "p-value for radio = ???\n",
        "\n",
        "**Newspaper:**\n",
        "\n",
        "p-value for newspaper = ???\n",
        "\n",
        "**The regression equation is this:**\n",
        "\n",
        "sales = ???(radio) + ???(newspaper) + ???\n",
        "\n",
        "**The standard error is:**\n",
        "\n",
        "standard error = ???\n",
        "\n",
        "#### Predictions\n",
        "\n",
        "Make a dataframe to hold our predictors:\n",
        "\n",
        "-   spending 30,000 on Radio ads and 35,000 on Newspaper\n",
        "-   spending 35,000 on Radio ads and 45,000 on Newspaper\n",
        "-   spending 5,000 on Radio ads and 60,000 on Newspaper\n",
        "\n",
        "Do this:\n",
        "\n",
        "-   assign a vector `radio` to hold the three radio predictor values\n",
        "    ($x_1$-values)\n",
        "-   assign a vector `newspaper` to hold the three newspaper predictor\n",
        "    values($x_2$-values)\n",
        "-   create a dataframe with `predictors<-data.frame(radio,newspaper)`\n",
        "-   print `predictors`"
      ],
      "id": "ca707c82-7765-4d50-a03d-0306e5201c3a"
    },
    {
      "cell_type": "code",
      "execution_count": null,
      "metadata": {},
      "outputs": [],
      "source": [
        "radio<-CODE\n",
        "newspaper<-CODE\n",
        "predictors <- data.frame(radio, newspaper)\n",
        "predictors"
      ],
      "id": "54885cf6-d222-44c9-8106-deae73bd6014"
    },
    {
      "cell_type": "markdown",
      "metadata": {},
      "source": [
        "-   make predictions with `predictions<-predict(model,predictors)`\n",
        "-   print out the `predictions`"
      ],
      "id": "5f8cb719-aedc-4a23-8dba-a47035f6f92a"
    },
    {
      "cell_type": "code",
      "execution_count": null,
      "metadata": {},
      "outputs": [],
      "source": [
        "CODE"
      ],
      "id": "0706bb31-c2bf-477d-9183-053bb3f042f3"
    },
    {
      "cell_type": "markdown",
      "metadata": {},
      "source": [
        "Fill in the correct answers below:\n",
        "\n",
        "-   Prediction for \\$30,000 on Radio and \\$35,000 on Newspaper: ???\n",
        "-   Prediction for \\$35,000 on Radio and \\$45,000 on Newspaper: ???\n",
        "-   Prediction for \\$5,000 on Radio and \\$60,000 on Newspaper: ???"
      ],
      "id": "37887189-c52d-4662-a245-27d36e432cf3"
    }
  ],
  "nbformat": 4,
  "nbformat_minor": 5,
  "metadata": {
    "kernelspec": {
      "name": "ir",
      "display_name": "R",
      "language": "R"
    }
  }
}