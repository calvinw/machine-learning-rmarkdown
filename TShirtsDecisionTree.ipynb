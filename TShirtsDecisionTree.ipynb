{
  "cells": [
    {
      "cell_type": "markdown",
      "metadata": {},
      "source": [
        "# TShirt Size Using (Classification) Decision Tree"
      ],
      "id": "ff2d1ff8-9343-40fa-9b88-a19094743845"
    },
    {
      "cell_type": "code",
      "execution_count": null,
      "metadata": {},
      "outputs": [],
      "source": [
        "options(\"scipen\"=100, \"digits\"=4)\n",
        "\n",
        "if(!require(\"rpart\")) install.packages(\"rpart\")\n",
        "if(!require(\"rpart.plot\")) install.packages(\"rpart.plot\")\n",
        "if(!require(\"Metrics\")) install.packages(\"Metrics\")\n",
        "\n",
        "library(\"rpart\")\n",
        "library(\"rpart.plot\")\n",
        "library(\"Metrics\")"
      ],
      "id": "2ed04f9b-9a48-4c5a-9a69-851bdc2088d7"
    },
    {
      "cell_type": "markdown",
      "metadata": {},
      "source": [
        "## Predicting TShirt Size using Decision Tree\n",
        "\n",
        "## Training Data\n",
        "\n",
        "First lets take a look at the data we will work with.\n",
        "\n",
        "So here is the data we have, this will be our training data:\n",
        "\n",
        "-   `Size` is our result or outcome\n",
        "-   `Height` and `Weight` are the predictors"
      ],
      "id": "e0e201bf-eba7-4ce5-a232-4b30bb2b96e1"
    },
    {
      "cell_type": "code",
      "execution_count": null,
      "metadata": {},
      "outputs": [
        {
          "output_type": "stream",
          "name": "stdout",
          "text": [
            "'data.frame':   11 obs. of  3 variables:\n",
            " $ Height: int  158 160 160 163 160 165 165 168 168 170 ...\n",
            " $ Weight: int  59 59 60 61 64 61 62 62 63 63 ...\n",
            " $ Size  : chr  \"M\" \"M\" \"M\" \"M\" ..."
          ]
        }
      ],
      "source": [
        "trainurl<-\"https://docs.google.com/spreadsheets/d/e/2PACX-1vQb1-HxaC0FoyX5qGgAqcYRIVS5eZqwwfnECQucfqZ-Kn-65Pdacy80UX4K2AAJQH0WwgPd_OH_6Y7d/pub?gid=0&single=true&output=csv\"\n",
        "train<-read.csv(trainurl)\n",
        "str(train)"
      ],
      "id": "c5cdd02b-1020-43c8-b4e4-0301787b5f48"
    },
    {
      "cell_type": "markdown",
      "metadata": {},
      "source": [
        "-   Print out the info of the data frame using `str(train)`"
      ],
      "id": "0d746625-cc5a-4bad-bbcf-9c966d0a63a3"
    },
    {
      "cell_type": "code",
      "execution_count": null,
      "metadata": {},
      "outputs": [],
      "source": [
        "CODE"
      ],
      "id": "98fd3350-58e0-43ba-8c5c-912e1bebbc9a"
    },
    {
      "cell_type": "markdown",
      "metadata": {},
      "source": [
        "Now let’s print out the training set to make sure we read it correctly:\n",
        "\n",
        "-   Print out the the data frame using `print(train)`"
      ],
      "id": "5810e0ab-e84d-4901-b729-db094ad7109d"
    },
    {
      "cell_type": "code",
      "execution_count": null,
      "metadata": {},
      "outputs": [],
      "source": [
        "CODE"
      ],
      "id": "0dbb6cc2-af02-401f-af48-f7998cb6ef91"
    },
    {
      "cell_type": "markdown",
      "metadata": {},
      "source": [
        "## Testing Data\n",
        "\n",
        "Next let’s look at some data that we can use as a testing set. This data\n",
        "we will use to evaluate how well the models we looked at above will do\n",
        "when they see “new” data. This gives a better idea of how accurate our\n",
        "model is.\n",
        "\n",
        "First we read the test set and look at its structure:"
      ],
      "id": "97b88e96-a018-4f8d-9ff1-e2b5d0b99e6b"
    },
    {
      "cell_type": "code",
      "execution_count": null,
      "metadata": {},
      "outputs": [],
      "source": [
        "testurl<-\"https://docs.google.com/spreadsheets/d/e/2PACX-1vQb1-HxaC0FoyX5qGgAqcYRIVS5eZqwwfnECQucfqZ-Kn-65Pdacy80UX4K2AAJQH0WwgPd_OH_6Y7d/pub?gid=15577345&single=true&output=csv\"\n",
        "test<-read.csv(testurl)"
      ],
      "id": "6788b558-f6a9-4786-afe4-1795dda4d9c9"
    },
    {
      "cell_type": "markdown",
      "metadata": {},
      "source": [
        "-   Print out the info of this data frame using `str(test)`"
      ],
      "id": "1347d1a9-1398-41a7-bd99-2bc11b9b3752"
    },
    {
      "cell_type": "code",
      "execution_count": null,
      "metadata": {},
      "outputs": [],
      "source": [
        "CODE"
      ],
      "id": "44607747-b80b-4125-8816-149be54bea19"
    },
    {
      "cell_type": "markdown",
      "metadata": {},
      "source": [
        "And now print out the test set:\n",
        "\n",
        "-   Print out the the data frame using `print(test)`"
      ],
      "id": "09dabc9a-ac31-4369-b02f-9a65a697fec4"
    },
    {
      "cell_type": "code",
      "execution_count": null,
      "metadata": {},
      "outputs": [],
      "source": [
        "CODE"
      ],
      "id": "46d015ad-ca5e-4c78-8f97-61f51ec434d3"
    },
    {
      "cell_type": "markdown",
      "metadata": {},
      "source": [
        "### Model 1 - use `Height` to predict `Size`\n",
        "\n",
        "#### Training\n",
        "\n",
        "-   Put in the right model for modeling `Size` based just on `Height`"
      ],
      "id": "ce7cb6e2-4c0c-43ee-b5da-8f9cc6612002"
    },
    {
      "cell_type": "code",
      "execution_count": null,
      "metadata": {},
      "outputs": [],
      "source": [
        "control = rpart.control(minsplit=1,maxdepth=1)\n",
        "model <- rpart(CODE, data=train, method=\"class\", control = control)\n",
        "rpart.plot(model, type=4, extra = 1, digits=-2)"
      ],
      "id": "b291e3e9-e5fe-437e-8f76-05004448fd14"
    },
    {
      "cell_type": "markdown",
      "metadata": {},
      "source": [
        "#### Testing\n",
        "\n",
        "Now lets do a prediction:\n",
        "\n",
        "-   Make predictions and create a dataframe by running the code below:"
      ],
      "id": "b82cf8fe-ea33-4506-9ef8-eae0f31ff640"
    },
    {
      "cell_type": "code",
      "execution_count": null,
      "metadata": {},
      "outputs": [],
      "source": [
        "pred <- predict(model, newdata = test, type = 'class')\n",
        "compare <- data.frame(actual=test$Size, predictions=pred)\n",
        "print(compare)"
      ],
      "id": "85f057ae-c7d3-490c-8409-d465f117840a"
    },
    {
      "cell_type": "markdown",
      "metadata": {},
      "source": [
        "And lets find the confusion matrix\n",
        "\n",
        "-   Create the confusion matrix by passing `test$Size` and `pred` to the\n",
        "    `table` function:"
      ],
      "id": "a77040bc-8d09-41c9-97fb-011f63dac2e9"
    },
    {
      "cell_type": "code",
      "execution_count": null,
      "metadata": {},
      "outputs": [],
      "source": [
        "table(CODE)"
      ],
      "id": "62192f68-bc44-415d-9547-e4bf162c436f"
    },
    {
      "cell_type": "markdown",
      "metadata": {},
      "source": [
        "Here is the accuracy:\n",
        "\n",
        "-   calculate the accuracy passing `test$Size` and `pred` to the\n",
        "    `accuracy` function:"
      ],
      "id": "d5f0e49f-3bd7-49ef-b196-0aba9c6b1826"
    },
    {
      "cell_type": "code",
      "execution_count": null,
      "metadata": {},
      "outputs": [],
      "source": [
        "accuracy(CODE)"
      ],
      "id": "efb790c6-5486-4312-9dc7-14d27df8a732"
    },
    {
      "cell_type": "markdown",
      "metadata": {},
      "source": [
        "### Model 2 - use `Weight` to predict `Size`\n",
        "\n",
        "#### Training\n",
        "\n",
        "-   Put in the right model for modeling `Size` based just on `Weight`"
      ],
      "id": "48ceb489-1489-44cd-8fc9-33a692cd0873"
    },
    {
      "cell_type": "code",
      "execution_count": null,
      "metadata": {},
      "outputs": [],
      "source": [
        "control = rpart.control(minsplit=1,maxdepth=1)\n",
        "model <- rpart(CODE, data=train, method=\"class\", control = control)\n",
        "rpart.plot(model, type=4, extra = 1, digits=-2)"
      ],
      "id": "8a52d592-9aef-416a-9b16-7b57d6e1b474"
    },
    {
      "cell_type": "markdown",
      "metadata": {},
      "source": [
        "#### Testing\n",
        "\n",
        "Now lets do a prediction:\n",
        "\n",
        "-   Make predictions and create a dataframe by running the code below:"
      ],
      "id": "10fddb06-3d45-4bf5-8f6e-1dca7f800b18"
    },
    {
      "cell_type": "code",
      "execution_count": null,
      "metadata": {},
      "outputs": [],
      "source": [
        "pred <- predict(model, newdata = test, type = 'class')\n",
        "compare <- data.frame(actual=test$Size, predictions=pred)\n",
        "print(compare)"
      ],
      "id": "9e34df6f-a730-441d-b561-cec4bdcbf85d"
    },
    {
      "cell_type": "markdown",
      "metadata": {},
      "source": [
        "And lets find the confusion matrix\n",
        "\n",
        "-   Create the confusion matrix by passing `test$Size` and `pred` to the\n",
        "    `table` function:"
      ],
      "id": "503adfbd-aa2b-4727-a43b-29e2964f5508"
    },
    {
      "cell_type": "code",
      "execution_count": null,
      "metadata": {},
      "outputs": [],
      "source": [
        "table(CODE)"
      ],
      "id": "66fce928-43f9-4ee6-99f1-5efb0bf7e428"
    },
    {
      "cell_type": "markdown",
      "metadata": {},
      "source": [
        "Here is the accuracy:\n",
        "\n",
        "-   calculate the accuracy passing `test$Size` and `pred` to the\n",
        "    `accuracy` function:"
      ],
      "id": "6c5129f6-7ce3-456e-8f39-084d539ec1fc"
    },
    {
      "cell_type": "code",
      "execution_count": null,
      "metadata": {},
      "outputs": [],
      "source": [
        "accuracy(CODE)"
      ],
      "id": "1ee7b257-096e-4336-845a-880765813d1c"
    },
    {
      "cell_type": "markdown",
      "metadata": {},
      "source": [
        "### Model 3 - use `Height` and `Weight` to predict `Size`\n",
        "\n",
        "#### Training\n",
        "\n",
        "-   Put in the right model for modeling `Size` based just on `Weight`\n",
        "    and `Height`"
      ],
      "id": "7e00e49b-8c91-46ac-b4d2-12031c55e694"
    },
    {
      "cell_type": "code",
      "execution_count": null,
      "metadata": {},
      "outputs": [],
      "source": [
        "control = rpart.control(minsplit=1,maxdepth=2)\n",
        "model <- rpart(CODE, data=train, method=\"class\", control = control)\n",
        "rpart.plot(model, type=4, extra = 1, digits=-2)"
      ],
      "id": "90f9caa6-d61d-43b5-87f1-23665c2871c7"
    },
    {
      "cell_type": "markdown",
      "metadata": {},
      "source": [
        "#### Testing\n",
        "\n",
        "Now lets do a prediction:\n",
        "\n",
        "-   Make predictions and create a dataframe by running the code below:"
      ],
      "id": "9348226c-ca64-44c8-933c-c1aa2c4fd81f"
    },
    {
      "cell_type": "code",
      "execution_count": null,
      "metadata": {},
      "outputs": [],
      "source": [
        "pred <- predict(model, newdata = test, type = 'class')\n",
        "compare <- data.frame(actual=test$Size, predictions=pred)\n",
        "print(compare)"
      ],
      "id": "d1009886-2b1f-44f3-89fd-3cb0b8750897"
    },
    {
      "cell_type": "markdown",
      "metadata": {},
      "source": [
        "And lets find the confusion matrix\n",
        "\n",
        "-   Create the confusion matrix by passing `test$Size` and `pred` to the\n",
        "    `table` function:"
      ],
      "id": "2a360384-09a3-432b-af14-644e1f0a4a3e"
    },
    {
      "cell_type": "code",
      "execution_count": null,
      "metadata": {},
      "outputs": [],
      "source": [
        "table(CODE)"
      ],
      "id": "0db8fb4c-28b7-4d52-aa80-92a6d4f3e2d7"
    },
    {
      "cell_type": "markdown",
      "metadata": {},
      "source": [
        "Here is the accuracy:\n",
        "\n",
        "-   calculate the accuracy passing `test$Size` and `pred` to the\n",
        "    `accuracy` function:"
      ],
      "id": "2b051266-04a7-4d91-8204-cba5f481d540"
    },
    {
      "cell_type": "code",
      "execution_count": null,
      "metadata": {},
      "outputs": [],
      "source": [
        "accuracy(CODE)"
      ],
      "id": "7b58a8f8-62e5-4a65-b60c-2ab1b6b95693"
    }
  ],
  "nbformat": 4,
  "nbformat_minor": 5,
  "metadata": {
    "kernelspec": {
      "name": "ir",
      "display_name": "R",
      "language": "R"
    }
  }
}