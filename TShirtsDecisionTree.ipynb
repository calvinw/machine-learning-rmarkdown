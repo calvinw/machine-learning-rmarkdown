{
 "cells": [
  {
   "cell_type": "code",
   "execution_count": null,
   "metadata": {},
   "outputs": [],
   "source": [
    "options(\"scipen\"=100, \"digits\"=4)\n",
    "\n",
    "if(!require(\"rpart\")) install.packages(\"rpart\")\n",
    "if(!require(\"rpart.plot\")) install.packages(\"rpart.plot\")\n",
    "if(!require(\"Metrics\")) install.packages(\"Metrics\")\n",
    "\n",
    "library(\"rpart\")\n",
    "library(\"rpart.plot\")\n",
    "library(\"Metrics\")"
   ]
  },
  {
   "cell_type": "markdown",
   "metadata": {},
   "source": [
    "Predicting TShirt Size using Decision Tree\n",
    "------------------------------------------\n",
    "\n",
    "Training Data\n",
    "-------------\n",
    "\n",
    "First lets take a look at the data we will work with.\n",
    "\n",
    "So here is the data we have, this will be our training data:\n",
    "\n",
    "-   `Size` is our result or outcome\n",
    "-   `Height` and `Weight` are the predictors"
   ]
  },
  {
   "cell_type": "code",
   "execution_count": null,
   "metadata": {},
   "outputs": [],
   "source": [
    "trainurl<-\"https://docs.google.com/spreadsheets/d/e/2PACX-1vQb1-HxaC0FoyX5qGgAqcYRIVS5eZqwwfnECQucfqZ-Kn-65Pdacy80UX4K2AAJQH0WwgPd_OH_6Y7d/pub?gid=0&single=true&output=csv\"\n",
    "train<-read.csv(trainurl)\n",
    "str(train)"
   ]
  },
  {
   "cell_type": "markdown",
   "metadata": {},
   "source": [
    "-   Print out the info of the data frame using `str(train)`"
   ]
  },
  {
   "cell_type": "code",
   "execution_count": null,
   "metadata": {},
   "outputs": [],
   "source": [
    "CODE"
   ]
  },
  {
   "cell_type": "markdown",
   "metadata": {},
   "source": [
    "Now let’s print out the training set to make sure we read it correctly:\n",
    "\n",
    "-   Print out the the data frame using `print(train)`"
   ]
  },
  {
   "cell_type": "code",
   "execution_count": null,
   "metadata": {},
   "outputs": [],
   "source": [
    "CODE"
   ]
  },
  {
   "cell_type": "markdown",
   "metadata": {},
   "source": [
    "Testing Data\n",
    "------------\n",
    "\n",
    "Next let’s look at some data that we can use as a testing set. This data\n",
    "we will use to evaluate how well the models we looked at above will do\n",
    "when they see “new” data. This gives a better idea of how accurate our\n",
    "model is.\n",
    "\n",
    "First we read the test set and look at its structure:"
   ]
  },
  {
   "cell_type": "code",
   "execution_count": null,
   "metadata": {},
   "outputs": [],
   "source": [
    "testurl<-\"https://docs.google.com/spreadsheets/d/e/2PACX-1vQb1-HxaC0FoyX5qGgAqcYRIVS5eZqwwfnECQucfqZ-Kn-65Pdacy80UX4K2AAJQH0WwgPd_OH_6Y7d/pub?gid=15577345&single=true&output=csv\"\n",
    "test<-read.csv(testurl)"
   ]
  },
  {
   "cell_type": "markdown",
   "metadata": {},
   "source": [
    "-   Print out the info of this data frame using `str(test)`"
   ]
  },
  {
   "cell_type": "code",
   "execution_count": null,
   "metadata": {},
   "outputs": [],
   "source": [
    "CODE"
   ]
  },
  {
   "cell_type": "markdown",
   "metadata": {},
   "source": [
    "And now print out the test set:\n",
    "\n",
    "-   Print out the the data frame using `print(test)`"
   ]
  },
  {
   "cell_type": "code",
   "execution_count": null,
   "metadata": {},
   "outputs": [],
   "source": [
    "CODE"
   ]
  },
  {
   "cell_type": "markdown",
   "metadata": {},
   "source": [
    "### Model 1 - use `Height` to predict `Size`\n",
    "\n",
    "#### Training\n",
    "\n",
    "-   Put in the right model for modeling `Size` based just on `Height`"
   ]
  },
  {
   "cell_type": "code",
   "execution_count": null,
   "metadata": {},
   "outputs": [],
   "source": [
    "control = rpart.control(minsplit=1,maxdepth=1)\n",
    "model <- rpart(CODE, data=train, method=\"class\", control = control)\n",
    "rpart.plot(model, type=4, extra = 1, digits=-2)"
   ]
  },
  {
   "cell_type": "markdown",
   "metadata": {},
   "source": [
    "#### Testing\n",
    "\n",
    "Now lets do a prediction:\n",
    "\n",
    "-   Make predictions and create a dataframe by running the code below:"
   ]
  },
  {
   "cell_type": "code",
   "execution_count": null,
   "metadata": {},
   "outputs": [],
   "source": [
    "pred <- predict(model, newdata = test, type = 'class')\n",
    "compare <- data.frame(actual=test$Size, predictions=pred)\n",
    "print(compare)"
   ]
  },
  {
   "cell_type": "markdown",
   "metadata": {},
   "source": [
    "And lets find the confusion matrix\n",
    "\n",
    "-   Create the confusion matrix by passing `test$Size` and `pred` to the\n",
    "    `table` function:"
   ]
  },
  {
   "cell_type": "code",
   "execution_count": null,
   "metadata": {},
   "outputs": [],
   "source": [
    "table(CODE)"
   ]
  },
  {
   "cell_type": "markdown",
   "metadata": {},
   "source": [
    "Here is the accuracy:\n",
    "\n",
    "-   calculate the accuracy passing `test$Size` and `pred` to the\n",
    "    `accuracy` function:"
   ]
  },
  {
   "cell_type": "code",
   "execution_count": null,
   "metadata": {},
   "outputs": [],
   "source": [
    "accuracy(CODE)"
   ]
  },
  {
   "cell_type": "markdown",
   "metadata": {},
   "source": [
    "### Model 2 - use `Weight` to predict `Size`\n",
    "\n",
    "#### Training\n",
    "\n",
    "-   Put in the right model for modeling `Size` based just on `Weight`"
   ]
  },
  {
   "cell_type": "code",
   "execution_count": null,
   "metadata": {},
   "outputs": [],
   "source": [
    "control = rpart.control(minsplit=1,maxdepth=1)\n",
    "model <- rpart(CODE, data=train, method=\"class\", control = control)\n",
    "rpart.plot(model, type=4, extra = 1, digits=-2)"
   ]
  },
  {
   "cell_type": "markdown",
   "metadata": {},
   "source": [
    "#### Testing\n",
    "\n",
    "Now lets do a prediction:\n",
    "\n",
    "-   Make predictions and create a dataframe by running the code below:"
   ]
  },
  {
   "cell_type": "code",
   "execution_count": null,
   "metadata": {},
   "outputs": [],
   "source": [
    "pred <- predict(model, newdata = test, type = 'class')\n",
    "compare <- data.frame(actual=test$Size, predictions=pred)\n",
    "print(compare)"
   ]
  },
  {
   "cell_type": "markdown",
   "metadata": {},
   "source": [
    "And lets find the confusion matrix\n",
    "\n",
    "-   Create the confusion matrix by passing `test$Size` and `pred` to the\n",
    "    `table` function:"
   ]
  },
  {
   "cell_type": "code",
   "execution_count": null,
   "metadata": {},
   "outputs": [],
   "source": [
    "table(CODE)"
   ]
  },
  {
   "cell_type": "markdown",
   "metadata": {},
   "source": [
    "Here is the accuracy:\n",
    "\n",
    "-   calculate the accuracy passing `test$Size` and `pred` to the\n",
    "    `accuracy` function:"
   ]
  },
  {
   "cell_type": "code",
   "execution_count": null,
   "metadata": {},
   "outputs": [],
   "source": [
    "accuracy(CODE)"
   ]
  },
  {
   "cell_type": "markdown",
   "metadata": {},
   "source": [
    "### Model 3 - use `Height` and `Weight` to predict `Size`\n",
    "\n",
    "#### Training\n",
    "\n",
    "-   Put in the right model for modeling `Size` based just on `Width` and\n",
    "    `Height`"
   ]
  },
  {
   "cell_type": "code",
   "execution_count": null,
   "metadata": {},
   "outputs": [],
   "source": [
    "control = rpart.control(minsplit=1,maxdepth=2)\n",
    "model <- rpart(CODE, data=train, method=\"class\", control = control)\n",
    "rpart.plot(model, type=4, extra = 1, digits=-2)"
   ]
  },
  {
   "cell_type": "markdown",
   "metadata": {},
   "source": [
    "#### Testing\n",
    "\n",
    "Now lets do a prediction:\n",
    "\n",
    "-   Make predictions and create a dataframe by running the code below:"
   ]
  },
  {
   "cell_type": "code",
   "execution_count": null,
   "metadata": {},
   "outputs": [],
   "source": [
    "pred <- predict(model, newdata = test, type = 'class')\n",
    "compare <- data.frame(actual=test$Size, predictions=pred)\n",
    "print(compare)"
   ]
  },
  {
   "cell_type": "markdown",
   "metadata": {},
   "source": [
    "And lets find the confusion matrix\n",
    "\n",
    "-   Create the confusion matrix by passing `test$Size` and `pred` to the\n",
    "    `table` function:"
   ]
  },
  {
   "cell_type": "code",
   "execution_count": null,
   "metadata": {},
   "outputs": [],
   "source": [
    "table(CODE)"
   ]
  },
  {
   "cell_type": "markdown",
   "metadata": {},
   "source": [
    "Here is the accuracy:\n",
    "\n",
    "-   calculate the accuracy passing `test$Size` and `pred` to the\n",
    "    `accuracy` function:"
   ]
  },
  {
   "cell_type": "code",
   "execution_count": null,
   "metadata": {},
   "outputs": [],
   "source": [
    "accuracy(CODE)"
   ]
  }
 ],
 "nbformat": 4,
 "nbformat_minor": 5,
 "metadata": {
  "kernelspec": {
   "name": "ir",
   "display_name": "R",
   "language": "R"
  }
 }
}
