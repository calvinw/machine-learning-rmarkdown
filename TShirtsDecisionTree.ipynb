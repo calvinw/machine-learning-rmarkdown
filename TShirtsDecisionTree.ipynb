{
  "cells": [
    {
      "cell_type": "markdown",
      "metadata": {},
      "source": [
        "# TShirt Size Using (Classification) Decision Tree"
      ],
      "id": "87891477-93cd-4070-b52b-593764f117ab"
    },
    {
      "cell_type": "code",
      "execution_count": null,
      "metadata": {},
      "outputs": [],
      "source": [
        "options(\"scipen\"=100, \"digits\"=4)\n",
        "\n",
        "if(!require(\"rpart\")) install.packages(\"rpart\")\n",
        "if(!require(\"rpart.plot\")) install.packages(\"rpart.plot\")\n",
        "if(!require(\"Metrics\")) install.packages(\"Metrics\")\n",
        "\n",
        "library(\"rpart\")\n",
        "library(\"rpart.plot\")\n",
        "library(\"Metrics\")"
      ],
      "id": "3a87351b-75f3-4562-a646-ace3a15db6ab"
    },
    {
      "cell_type": "markdown",
      "metadata": {},
      "source": [
        "## Predicting TShirt Size using Decision Tree\n",
        "\n",
        "## Training Data\n",
        "\n",
        "First lets take a look at the data we will work with.\n",
        "\n",
        "So here is the data we have, this will be our training data:\n",
        "\n",
        "-   `Size` is our result or outcome\n",
        "-   `Height` and `Weight` are the predictors"
      ],
      "id": "b53dde90-6a44-4452-adaa-8da1fbb5262b"
    },
    {
      "cell_type": "code",
      "execution_count": null,
      "metadata": {},
      "outputs": [
        {
          "output_type": "stream",
          "name": "stdout",
          "text": [
            "'data.frame':   11 obs. of  3 variables:\n",
            " $ Height: int  158 160 160 163 160 165 165 168 168 170 ...\n",
            " $ Weight: int  59 59 60 61 64 61 62 62 63 63 ...\n",
            " $ Size  : chr  \"M\" \"M\" \"M\" \"M\" ..."
          ]
        }
      ],
      "source": [
        "trainurl<-\"https://docs.google.com/spreadsheets/d/e/2PACX-1vQb1-HxaC0FoyX5qGgAqcYRIVS5eZqwwfnECQucfqZ-Kn-65Pdacy80UX4K2AAJQH0WwgPd_OH_6Y7d/pub?gid=0&single=true&output=csv\"\n",
        "train<-read.csv(trainurl)\n",
        "str(train)"
      ],
      "id": "0c2830db-ee56-4f3d-82ca-3f2c8005dab0"
    },
    {
      "cell_type": "markdown",
      "metadata": {},
      "source": [
        "-   Print out the info of the data frame using `str(train)`"
      ],
      "id": "40a64f17-9c14-42d2-8c79-7f569b120d90"
    },
    {
      "cell_type": "code",
      "execution_count": null,
      "metadata": {},
      "outputs": [],
      "source": [
        "CODE"
      ],
      "id": "41582a38-a026-4931-9b72-5bb903b5baf6"
    },
    {
      "cell_type": "markdown",
      "metadata": {},
      "source": [
        "Now let’s print out the training set to make sure we read it correctly:\n",
        "\n",
        "-   Print out the the data frame using `print(train)`"
      ],
      "id": "8b2f1322-f5e5-4105-8527-51300e6c3716"
    },
    {
      "cell_type": "code",
      "execution_count": null,
      "metadata": {},
      "outputs": [],
      "source": [
        "CODE"
      ],
      "id": "bc10edcf-50d9-4fb9-b047-c5ff79e5d7ff"
    },
    {
      "cell_type": "markdown",
      "metadata": {},
      "source": [
        "## Testing Data\n",
        "\n",
        "Next let’s look at some data that we can use as a testing set. This data\n",
        "we will use to evaluate how well the models we looked at above will do\n",
        "when they see “new” data. This gives a better idea of how accurate our\n",
        "model is.\n",
        "\n",
        "First we read the test set and look at its structure:"
      ],
      "id": "259d4a13-e2ac-455b-8bf9-ea07425710cc"
    },
    {
      "cell_type": "code",
      "execution_count": null,
      "metadata": {},
      "outputs": [],
      "source": [
        "testurl<-\"https://docs.google.com/spreadsheets/d/e/2PACX-1vQb1-HxaC0FoyX5qGgAqcYRIVS5eZqwwfnECQucfqZ-Kn-65Pdacy80UX4K2AAJQH0WwgPd_OH_6Y7d/pub?gid=15577345&single=true&output=csv\"\n",
        "test<-read.csv(testurl)"
      ],
      "id": "0460c070-2f49-45d5-aabe-3c08a85e9da2"
    },
    {
      "cell_type": "markdown",
      "metadata": {},
      "source": [
        "-   Print out the info of this data frame using `str(test)`"
      ],
      "id": "c7f6fdaa-ede2-4880-b676-e9b3d09ccd99"
    },
    {
      "cell_type": "code",
      "execution_count": null,
      "metadata": {},
      "outputs": [],
      "source": [
        "CODE"
      ],
      "id": "14c54e48-1d15-4aef-933f-7789037a14f4"
    },
    {
      "cell_type": "markdown",
      "metadata": {},
      "source": [
        "And now print out the test set:\n",
        "\n",
        "-   Print out the the data frame using `print(test)`"
      ],
      "id": "1b989bf0-5eae-4307-a2e3-3e06497ab2ff"
    },
    {
      "cell_type": "code",
      "execution_count": null,
      "metadata": {},
      "outputs": [],
      "source": [
        "CODE"
      ],
      "id": "73397033-e5dc-4c37-996d-b12216542370"
    },
    {
      "cell_type": "markdown",
      "metadata": {},
      "source": [
        "### Model 1 - use `Height` to predict `Size`\n",
        "\n",
        "#### Training\n",
        "\n",
        "-   Put in the right model for modeling `Size` based just on `Height`"
      ],
      "id": "6d3f6b6e-2936-4be7-8485-4fb47d741011"
    },
    {
      "cell_type": "code",
      "execution_count": null,
      "metadata": {},
      "outputs": [],
      "source": [
        "control = rpart.control(minsplit=1,maxdepth=1)\n",
        "model <- rpart(CODE, data=train, method=\"class\", control = control)\n",
        "rpart.plot(model, type=4, extra = 1, digits=-2)"
      ],
      "id": "b744a6e3-dc56-4197-aea1-fb7e8ee6536b"
    },
    {
      "cell_type": "markdown",
      "metadata": {},
      "source": [
        "#### Testing\n",
        "\n",
        "Now lets do a prediction:\n",
        "\n",
        "-   Make predictions and create a dataframe by running the code below:"
      ],
      "id": "027035d6-1184-4db0-b96d-a6adce4df4c7"
    },
    {
      "cell_type": "code",
      "execution_count": null,
      "metadata": {},
      "outputs": [],
      "source": [
        "pred <- predict(model, newdata = test, type = 'class')\n",
        "compare <- data.frame(actual=test$Size, predictions=pred)\n",
        "print(compare)"
      ],
      "id": "f54a56fe-d5d8-4d29-811d-b9a36b95a0b4"
    },
    {
      "cell_type": "markdown",
      "metadata": {},
      "source": [
        "And lets find the confusion matrix\n",
        "\n",
        "-   Create the confusion matrix by passing `test$Size` and `pred` to the\n",
        "    `table` function:"
      ],
      "id": "0f6c8ff1-6fe3-4bb4-80c0-d998cc5f539e"
    },
    {
      "cell_type": "code",
      "execution_count": null,
      "metadata": {},
      "outputs": [],
      "source": [
        "table(CODE)"
      ],
      "id": "656d4317-f914-4d1f-be24-853e8dfc70a0"
    },
    {
      "cell_type": "markdown",
      "metadata": {},
      "source": [
        "Here is the accuracy:\n",
        "\n",
        "-   calculate the accuracy passing `test$Size` and `pred` to the\n",
        "    `accuracy` function:"
      ],
      "id": "e92a6cf8-8cf0-4c45-a4c3-3855029542db"
    },
    {
      "cell_type": "code",
      "execution_count": null,
      "metadata": {},
      "outputs": [],
      "source": [
        "accuracy(CODE)"
      ],
      "id": "409c68a9-bc53-428e-856f-d347ce7f4df3"
    },
    {
      "cell_type": "markdown",
      "metadata": {},
      "source": [
        "### Model 2 - use `Weight` to predict `Size`\n",
        "\n",
        "#### Training\n",
        "\n",
        "-   Put in the right model for modeling `Size` based just on `Weight`"
      ],
      "id": "e919b165-0eb2-41b7-9073-537c2bc15157"
    },
    {
      "cell_type": "code",
      "execution_count": null,
      "metadata": {},
      "outputs": [],
      "source": [
        "control = rpart.control(minsplit=1,maxdepth=1)\n",
        "model <- rpart(CODE, data=train, method=\"class\", control = control)\n",
        "rpart.plot(model, type=4, extra = 1, digits=-2)"
      ],
      "id": "73b6fa6f-f845-4603-9bd7-eb84517b63f0"
    },
    {
      "cell_type": "markdown",
      "metadata": {},
      "source": [
        "#### Testing\n",
        "\n",
        "Now lets do a prediction:\n",
        "\n",
        "-   Make predictions and create a dataframe by running the code below:"
      ],
      "id": "98bd472a-ca39-440d-9054-58cc5237ab9d"
    },
    {
      "cell_type": "code",
      "execution_count": null,
      "metadata": {},
      "outputs": [],
      "source": [
        "pred <- predict(model, newdata = test, type = 'class')\n",
        "compare <- data.frame(actual=test$Size, predictions=pred)\n",
        "print(compare)"
      ],
      "id": "37c4df78-8591-4cee-8246-db9e12040f7b"
    },
    {
      "cell_type": "markdown",
      "metadata": {},
      "source": [
        "And lets find the confusion matrix\n",
        "\n",
        "-   Create the confusion matrix by passing `test$Size` and `pred` to the\n",
        "    `table` function:"
      ],
      "id": "5f01a801-cac5-477e-85c6-a7ab17e459a1"
    },
    {
      "cell_type": "code",
      "execution_count": null,
      "metadata": {},
      "outputs": [],
      "source": [
        "table(CODE)"
      ],
      "id": "2ef0f0a8-3d27-4898-a5ad-e9750c8a8adf"
    },
    {
      "cell_type": "markdown",
      "metadata": {},
      "source": [
        "Here is the accuracy:\n",
        "\n",
        "-   calculate the accuracy passing `test$Size` and `pred` to the\n",
        "    `accuracy` function:"
      ],
      "id": "2f0c1bec-c3f6-43f5-8347-14958afd9bcd"
    },
    {
      "cell_type": "code",
      "execution_count": null,
      "metadata": {},
      "outputs": [],
      "source": [
        "accuracy(CODE)"
      ],
      "id": "744508f2-f668-475e-b151-74f22135abab"
    },
    {
      "cell_type": "markdown",
      "metadata": {},
      "source": [
        "### Model 3 - use `Height` and `Weight` to predict `Size`\n",
        "\n",
        "#### Training\n",
        "\n",
        "-   Put in the right model for modeling `Size` based just on `Weight`\n",
        "    and `Height`"
      ],
      "id": "ac2a0b82-a769-438a-86d2-8929a7177ab4"
    },
    {
      "cell_type": "code",
      "execution_count": null,
      "metadata": {},
      "outputs": [],
      "source": [
        "control = rpart.control(minsplit=1,maxdepth=2)\n",
        "model <- rpart(CODE, data=train, method=\"class\", control = control)\n",
        "rpart.plot(model, type=4, extra = 1, digits=-2)"
      ],
      "id": "56986108-12de-4bbe-872e-b78a1366fd76"
    },
    {
      "cell_type": "markdown",
      "metadata": {},
      "source": [
        "#### Testing\n",
        "\n",
        "Now lets do a prediction:\n",
        "\n",
        "-   Make predictions and create a dataframe by running the code below:"
      ],
      "id": "910becaf-eecc-44a9-a821-8005664c2f02"
    },
    {
      "cell_type": "code",
      "execution_count": null,
      "metadata": {},
      "outputs": [],
      "source": [
        "pred <- predict(model, newdata = test, type = 'class')\n",
        "compare <- data.frame(actual=test$Size, predictions=pred)\n",
        "print(compare)"
      ],
      "id": "be2369bd-f28c-4151-bf57-fcdb34f99d64"
    },
    {
      "cell_type": "markdown",
      "metadata": {},
      "source": [
        "And lets find the confusion matrix\n",
        "\n",
        "-   Create the confusion matrix by passing `test$Size` and `pred` to the\n",
        "    `table` function:"
      ],
      "id": "3707d9b4-39ff-4148-b3bd-b641e8a478db"
    },
    {
      "cell_type": "code",
      "execution_count": null,
      "metadata": {},
      "outputs": [],
      "source": [
        "table(CODE)"
      ],
      "id": "7e8cdf3c-53a9-4c04-8feb-34d9eca58fe2"
    },
    {
      "cell_type": "markdown",
      "metadata": {},
      "source": [
        "Here is the accuracy:\n",
        "\n",
        "-   calculate the accuracy passing `test$Size` and `pred` to the\n",
        "    `accuracy` function:"
      ],
      "id": "18945b59-4208-4962-ae09-177133567bd1"
    },
    {
      "cell_type": "code",
      "execution_count": null,
      "metadata": {},
      "outputs": [],
      "source": [
        "accuracy(CODE)"
      ],
      "id": "80e62482-4fc3-48cd-9614-1ce39f153c1d"
    }
  ],
  "nbformat": 4,
  "nbformat_minor": 5,
  "metadata": {
    "kernelspec": {
      "name": "ir",
      "display_name": "R",
      "language": "R"
    }
  }
}