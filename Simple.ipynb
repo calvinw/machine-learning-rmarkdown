{
  "cells": [
    {
      "cell_type": "markdown",
      "metadata": {},
      "source": [
        "# Simple Rmarkdown\n",
        "\n",
        "Here is some setup code that should be hidden when rendered:"
      ],
      "id": "fba86226-47ff-4914-b285-77a1dcc0b646"
    },
    {
      "cell_type": "code",
      "execution_count": null,
      "metadata": {},
      "outputs": [
        {
          "output_type": "stream",
          "name": "stdout",
          "text": [
            "[1] 3"
          ]
        },
        {
          "output_type": "stream",
          "name": "stdout",
          "text": [
            "[1] 4"
          ]
        }
      ],
      "source": [
        "x<-3\n",
        "y<-4\n",
        "x"
      ],
      "id": "30c78827-f34e-47a3-8481-564d4451464c"
    },
    {
      "cell_type": "markdown",
      "metadata": {},
      "source": [
        "Some display math\n",
        "\n",
        "$$\n",
        "x = \\frac{3}{4} \n",
        "$$\n",
        "\n",
        "Some inline r code x is 3 and y is 4"
      ],
      "id": "a8772a96-40de-4eca-8111-84337345d07d"
    },
    {
      "cell_type": "code",
      "execution_count": null,
      "metadata": {},
      "outputs": [
        {
          "output_type": "stream",
          "name": "stdout",
          "text": [
            "I am the king"
          ]
        }
      ],
      "source": [
        "cat(\"I am the king\")"
      ],
      "id": "1110b805-89db-453a-aeba-2332e50e251a"
    },
    {
      "cell_type": "code",
      "execution_count": null,
      "metadata": {},
      "outputs": [
        {
          "output_type": "display_data",
          "metadata": {},
          "data": {
            "image/png": "[encoded data removed]"
          }
        }
      ],
      "source": [
        "plot(runif(30))"
      ],
      "id": "11610fc6-3afd-470e-a28c-d847a6ca48f5"
    }
  ],
  "nbformat": 4,
  "nbformat_minor": 5,
  "metadata": {
    "kernelspec": {
      "name": "ir",
      "display_name": "R",
      "language": "R"
    }
  }
}