{
  "cells": [
    {
      "cell_type": "markdown",
      "metadata": {},
      "source": [
        "# Simple Rmarkdown\n",
        "\n",
        "Here is some setup code that should be hidden when rendered:"
      ],
      "id": "d64df7a1-87dc-46fb-90cc-4cf6449a7c94"
    },
    {
      "cell_type": "code",
      "execution_count": null,
      "metadata": {},
      "outputs": [
        {
          "output_type": "stream",
          "name": "stdout",
          "text": [
            "[1] 3"
          ]
        },
        {
          "output_type": "stream",
          "name": "stdout",
          "text": [
            "[1] 4"
          ]
        }
      ],
      "source": [
        "x<-3\n",
        "y<-4\n",
        "x"
      ],
      "id": "271ec525-f712-440c-bb8a-ee293bd492b0"
    },
    {
      "cell_type": "markdown",
      "metadata": {},
      "source": [
        "Some display math\n",
        "\n",
        "$$\n",
        "x = \\frac{3}{4} \n",
        "$$\n",
        "\n",
        "Some inline r code x is 3 and y is 4"
      ],
      "id": "724f83e4-325e-4396-bd0d-2dd31f89efd8"
    },
    {
      "cell_type": "code",
      "execution_count": null,
      "metadata": {},
      "outputs": [
        {
          "output_type": "stream",
          "name": "stdout",
          "text": [
            "I am the king"
          ]
        }
      ],
      "source": [
        "cat(\"I am the king\")"
      ],
      "id": "89bd193d-bdaf-4a54-977a-f3e149737900"
    },
    {
      "cell_type": "code",
      "execution_count": null,
      "metadata": {},
      "outputs": [
        {
          "output_type": "display_data",
          "metadata": {},
          "data": {
            "image/png": "[encoded data removed]"
          }
        }
      ],
      "source": [
        "plot(runif(30))"
      ],
      "id": "e0249e40-48f5-4298-adc3-26fdbab78be1"
    }
  ],
  "nbformat": 4,
  "nbformat_minor": 5,
  "metadata": {
    "kernelspec": {
      "name": "ir",
      "display_name": "R",
      "language": "R"
    }
  }
}