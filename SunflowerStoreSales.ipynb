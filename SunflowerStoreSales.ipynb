{
 "cells": [
  {
   "cell_type": "code",
   "execution_count": null,
   "metadata": {},
   "outputs": [],
   "source": [
    "options(repr.plot.width=4, repr.plot.height=4)\n",
    "options(\"scipen\"=100, \"digits\"=4)"
   ]
  },
  {
   "cell_type": "markdown",
   "metadata": {},
   "source": [
    "The sales for Sunflowers Apparel have increased during the past 12 years\n",
    "as the chain has expanded the number of stores open. Until now,\n",
    "Sunflowers managers selected sites based on subjective factors, such as\n",
    "the availability of a good lease or the perception that a location\n",
    "seemed ideal for an apparel store. Suppose you believe that the size of\n",
    "the store significantly contributes to store sales, and you want to use\n",
    "this relationship in the decision-making process. Use regression to\n",
    "forecast the sales of a proposed new store based on the size of that\n",
    "store:\n",
    "\n",
    "Here `squareFt` will represent the square footage of a store and the\n",
    "`sales` will represent the annual sales of the store. We several stores\n",
    "that we collected data for.\n",
    "\n",
    "First make some vectors for this data"
   ]
  },
  {
   "cell_type": "code",
   "execution_count": null,
   "metadata": {},
   "outputs": [],
   "source": [
    "squareFt <- c(1.7, 1.6, 2.8, 5.6, 1.3, 2.2, 1.3, 1.1, 3.2, 1.5, 5.2, 4.6, 5.8, 3)\n",
    "sales <- c(3.7, 3.9, 6.7, 9.5, 3.4, 5.6, 3.7, 2.7, 5.5, 2.9, 10.7, 7.6, 11.8, 4.1)"
   ]
  },
  {
   "cell_type": "markdown",
   "metadata": {},
   "source": [
    "Let’s create a data frame using the two vectors above, so the `squareFt`\n",
    "is the 1st column and the `sales` is the second column"
   ]
  },
  {
   "cell_type": "code",
   "execution_count": null,
   "metadata": {},
   "outputs": [],
   "source": [
    "dataFrame<-data.frame(squareFt, sales)"
   ]
  },
  {
   "cell_type": "markdown",
   "metadata": {},
   "source": [
    "The most simple plot that you might want to see from this situation is a\n",
    "scatterplot. If you use the `plot` function and pass it the data frame\n",
    "then R will give you exactly that."
   ]
  },
  {
   "cell_type": "code",
   "execution_count": null,
   "metadata": {},
   "outputs": [],
   "source": [
    "plot(dataFrame)"
   ]
  },
  {
   "cell_type": "markdown",
   "metadata": {},
   "source": [
    "we can enhance the graph a little by giving it a title, which you do\n",
    "with the `main` argument below. Then we can label the x-axis and the\n",
    "y-axis a little better by using `xlab` and `ylab`. If you want to make\n",
    "the points solid circles, that is the argument `pch=19` This helps some."
   ]
  },
  {
   "cell_type": "code",
   "execution_count": null,
   "metadata": {},
   "outputs": [],
   "source": [
    "plot(dataFrame, main=\"Annual Sales vs Store Size\", xlab=\"Square Footage(Thousands)\", ylab=\"Annual Sales (Millions$)\", pch=19)"
   ]
  },
  {
   "cell_type": "markdown",
   "metadata": {},
   "source": [
    "Lets compute the R-squared. First compute the R, which is called the\n",
    "correlation coefficient. Then square that to get the R-squared"
   ]
  },
  {
   "cell_type": "code",
   "execution_count": null,
   "metadata": {},
   "outputs": [],
   "source": [
    "R = cor(squareFt,sales)\n",
    "R*R"
   ]
  },
  {
   "cell_type": "markdown",
   "metadata": {},
   "source": [
    "Next up we may want to see all the regression analysis output. We can do\n",
    "this by call `lm` which stands for “run a linear model”. The notation\n",
    "`sales~squareFt` means make `sales` the y, which is what we want to\n",
    "predict. Then the `squareFt` is our predictor in this case. So we will\n",
    "predict `sales` from `squareFt`. For the second argument to lm, we have\n",
    "to pass in the dataframe."
   ]
  },
  {
   "cell_type": "code",
   "execution_count": null,
   "metadata": {},
   "outputs": [],
   "source": [
    "model = lm(sales~squareFt, data=dataFrame)\n",
    "summary(model)"
   ]
  },
  {
   "cell_type": "markdown",
   "metadata": {},
   "source": [
    "The regression equation is this:\n",
    "\n",
    "$$ sales = 1.67(squareFt) + 0.964 $$\n",
    "\n",
    "The standard error is:\n",
    "\n",
    "$$ \\text{standard error} = 0.966  $$\n",
    "\n",
    "Test for significant linear relationship:\n",
    "\n",
    "$$ \\text{p-value} = 0.000000182 $$"
   ]
  },
  {
   "cell_type": "code",
   "execution_count": null,
   "metadata": {},
   "outputs": [],
   "source": [
    "plot(dataFrame, main=\"Annual Sales vs Store Size\", xlab=\"Square Footage(Thousands)\", ylab=\"Annual Sales (Millions$)\", pch=19)\n",
    "abline(model)"
   ]
  },
  {
   "cell_type": "markdown",
   "metadata": {},
   "source": [
    "Suppose we want to do some predictions for squareFt equal to 4000 square\n",
    "ft, 2000 square ft, and 5000 square ft."
   ]
  },
  {
   "cell_type": "code",
   "execution_count": null,
   "metadata": {},
   "outputs": [],
   "source": [
    "predictors = data.frame(squareFt=c(4.0,2.0,5.0))\n",
    "predictions<-predict(model, predictors)\n",
    "round(predictions*1000000)"
   ]
  }
 ],
 "nbformat": 4,
 "nbformat_minor": 5,
 "metadata": {
  "kernelspec": {
   "name": "ir",
   "display_name": "R",
   "language": "R"
  }
 }
}

