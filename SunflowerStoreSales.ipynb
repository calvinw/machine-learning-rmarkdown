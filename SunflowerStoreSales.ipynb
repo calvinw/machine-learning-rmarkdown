{
 "cells": [
  {
   "cell_type": "code",
   "execution_count": null,
   "metadata": {},
   "outputs": [],
   "source": [
    "options(\"scipen\"=100, \"digits\"=4)"
   ]
  },
  {
   "cell_type": "markdown",
   "metadata": {},
   "source": [
    "The sales for Sunflowers Apparel have increased during the past 12 years\n",
    "as the chain has expanded the number of stores open. Until now,\n",
    "Sunflowers managers selected sites based on subjective factors, such as\n",
    "the availability of a good lease or the perception that a location\n",
    "seemed ideal for an apparel store. Suppose you believe that the size of\n",
    "the store significantly contributes to store sales, and you want to use\n",
    "this relationship in the decision-making process. Use regression to\n",
    "forecast the sales of a proposed new store based on the size of that\n",
    "store:\n",
    "\n",
    "Here `squareFt` will represent the square footage of a store and the\n",
    "`sales` will represent the annual sales of the store. We several stores\n",
    "that we collected data for.\n",
    "\n",
    "First make some vectors for this data"
   ]
  },
  {
   "cell_type": "code",
   "execution_count": null,
   "metadata": {},
   "outputs": [],
   "source": [
    "sqft <- c(1.7, 1.6, 2.8, 5.6, 1.3, 2.2, 1.3, 1.1, 3.2, 1.5, 5.2, 4.6, 5.8, 3)\n",
    "sales <- c(3.7, 3.9, 6.7, 9.5, 3.4, 5.6, 3.7, 2.7, 5.5, 2.9, 10.7, 7.6, 11.8, 4.1)"
   ]
  },
  {
   "cell_type": "markdown",
   "metadata": {},
   "source": [
    "Let’s create a data frame using the two vectors above, so the `sqft` is\n",
    "the 1st column and the `sales` is the second column"
   ]
  },
  {
   "cell_type": "code",
   "execution_count": null,
   "metadata": {},
   "outputs": [],
   "source": [
    "df<-data.frame(sqft, sales)"
   ]
  },
  {
   "cell_type": "markdown",
   "metadata": {},
   "source": [
    "The most simple plot that you might want to see from this situation is a\n",
    "scatterplot. If you use the `plot` function and pass it the data frame\n",
    "then R will give you exactly that."
   ]
  },
  {
   "cell_type": "code",
   "execution_count": null,
   "metadata": {},
   "outputs": [],
   "source": [
    "plot(df)"
   ]
  },
  {
   "cell_type": "markdown",
   "metadata": {},
   "source": [
    "we can enhance the graph a little by giving it a title, which you do\n",
    "with the `main` argument below. Then we can label the x-axis and the\n",
    "y-axis a little better by using `xlab` and `ylab`. If you want to make\n",
    "the points solid circles, that is the argument `pch=19` This helps some."
   ]
  },
  {
   "cell_type": "code",
   "execution_count": null,
   "metadata": {},
   "outputs": [],
   "source": [
    "plot(df, \n",
    "     main=\"Annual Sales vs Store Size\", \n",
    "     xlab=\"Square Footage(Thousands)\", \n",
    "     ylab=\"Annual Sales (Millions$)\", \n",
    "     pch=19)"
   ]
  },
  {
   "cell_type": "markdown",
   "metadata": {},
   "source": [
    "Lets compute the R-squared. First compute the R, which is called the\n",
    "correlation coefficient. Then square that to get the R-squared"
   ]
  },
  {
   "cell_type": "code",
   "execution_count": null,
   "metadata": {},
   "outputs": [],
   "source": [
    "R <- cor(sqft,sales)\n",
    "R"
   ]
  },
  {
   "cell_type": "markdown",
   "metadata": {},
   "source": [
    "Next up we may want to see all the regression analysis output. We can do\n",
    "this by call `lm` which stands for “run a linear model”. The notation\n",
    "`sales~sqft` means make `sales` the y, which is what we want to predict.\n",
    "Then the `sqft` is our predictor in this case. So we will predict\n",
    "`sales` from `sqft`. For the second argument to lm, we have to pass in\n",
    "the dataframe `df`."
   ]
  },
  {
   "cell_type": "code",
   "execution_count": null,
   "metadata": {},
   "outputs": [],
   "source": [
    "model = lm(sales~sqft, data=df)\n",
    "summary(model)"
   ]
  },
  {
   "cell_type": "markdown",
   "metadata": {},
   "source": [
    "Test for significant linear relationship:\n",
    "\n",
    "Fill in the ??? below with the right value:\n",
    "\n",
    "**Test for overall significant:**\n",
    "\n",
    "overall p = ???\n",
    "\n",
    "**The regression equation is this:**\n",
    "\n",
    "sales =???(sqft) + ???\n",
    "\n",
    "**The standard error is:**\n",
    "\n",
    "std error = ???\n",
    "\n",
    "**R squared is:**\n",
    "\n",
    "Rsquared = ???\n",
    "\n",
    "Now lets plot the regression line on the scatterplot using `abline` .\n",
    "Here it is:\n",
    "\n",
    "-   call `plot` passing it the dataframe `df`, give it a title and\n",
    "    labels for the axes"
   ]
  },
  {
   "cell_type": "code",
   "execution_count": null,
   "metadata": {},
   "outputs": [],
   "source": [
    "plot(df, \n",
    "     main=\"Annual Sales vs Store Size\", \n",
    "     xlab=\"Square Footage(Thousands)\", \n",
    "     ylab=\"Annual Sales (Millions$)\", \n",
    "     pch=19)\n",
    "abline(model)"
   ]
  },
  {
   "cell_type": "markdown",
   "metadata": {},
   "source": [
    "Suppose we want to do some predictions for: - sqft equal to 4000 square\n",
    "ft - sqft equal to 2000 square ft - sqft equal to 5000 square ft.\n",
    "\n",
    "-   make a new vector called `sqft` that has the values above\n",
    "-   make a data frame using `data.frame(sqft)` and assign it to\n",
    "    `predictors`"
   ]
  },
  {
   "cell_type": "code",
   "execution_count": null,
   "metadata": {},
   "outputs": [],
   "source": [
    "sqft<-c(4.0,2.0,5.0)\n",
    "predictors <- data.frame(sqft)"
   ]
  },
  {
   "cell_type": "markdown",
   "metadata": {},
   "source": [
    "-   assign a variable called `predictions` which is the result of the\n",
    "    `predict` function, passing it the `model` and `predictors`\n",
    "    dataframe as arguments\n",
    "-   print out the `predictions`"
   ]
  },
  {
   "cell_type": "code",
   "execution_count": null,
   "metadata": {},
   "outputs": [],
   "source": [
    "predictions<-predict(model, predictors)\n",
    "predictions"
   ]
  },
  {
   "cell_type": "markdown",
   "metadata": {},
   "source": [
    "Fill in the ??? with the correct answers below:\n",
    "\n",
    "-   Prediction for `sales` when `sqft` is 4000: ???\n",
    "-   Prediction when `sales` when `sqft` is 2000: ???\n",
    "-   Prediction when `sales` when `sqft` is 5000: ???"
   ]
  }
 ],
 "nbformat": 4,
 "nbformat_minor": 5,
 "metadata": {
  "kernelspec": {
   "name": "ir",
   "display_name": "R",
   "language": "R"
  }
 }
}
