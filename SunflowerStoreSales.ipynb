{
  "cells": [
    {
      "cell_type": "markdown",
      "metadata": {},
      "source": [
        "# Sunflower Store Sales"
      ],
      "id": "814e5330-ce78-4854-9f83-0d1d35d25e62"
    },
    {
      "cell_type": "code",
      "execution_count": null,
      "metadata": {},
      "outputs": [],
      "source": [
        "options(\"scipen\"=100, \"digits\"=4)"
      ],
      "id": "1a52d605-5eaa-4a1f-94b2-be90d345e094"
    },
    {
      "cell_type": "markdown",
      "metadata": {},
      "source": [
        "The sales for Sunflowers Apparel have increased during the past 12 years\n",
        "as the chain has expanded the number of stores open. Until now,\n",
        "Sunflowers managers selected sites based on subjective factors, such as\n",
        "the availability of a good lease or the perception that a location\n",
        "seemed ideal for an apparel store. Suppose you believe that the size of\n",
        "the store significantly contributes to store sales, and you want to use\n",
        "this relationship in the decision-making process. Use regression to\n",
        "forecast the sales of a proposed new store based on the size of that\n",
        "store:\n",
        "\n",
        "Here `squareFt` will represent the square footage of a store and the\n",
        "`sales` will represent the annual sales of the store. We several stores\n",
        "that we collected data for.\n",
        "\n",
        "First make some vectors for this data"
      ],
      "id": "6409fa56-744f-4383-9fe2-5efc007fce27"
    },
    {
      "cell_type": "code",
      "execution_count": null,
      "metadata": {},
      "outputs": [],
      "source": [
        "sqft <- c(1.7, 1.6, 2.8, 5.6, 1.3, 2.2, 1.3, 1.1, 3.2, 1.5, 5.2, 4.6, 5.8, 3)\n",
        "sales <- c(3.7, 3.9, 6.7, 9.5, 3.4, 5.6, 3.7, 2.7, 5.5, 2.9, 10.7, 7.6, 11.8, 4.1)"
      ],
      "id": "c6997b96-8db5-47b0-ad38-607134f7ddb6"
    },
    {
      "cell_type": "markdown",
      "metadata": {},
      "source": [
        "Let’s create a data frame using the two vectors above, so the `sqft` is\n",
        "the 1st column and the `sales` is the second column"
      ],
      "id": "99384325-ec2f-4c0e-8e0f-911e304073e8"
    },
    {
      "cell_type": "code",
      "execution_count": null,
      "metadata": {},
      "outputs": [],
      "source": [
        "df<-data.frame(sqft, sales)"
      ],
      "id": "17fa69d7-2bf2-4636-a4b3-5a3d01f752a5"
    },
    {
      "cell_type": "markdown",
      "metadata": {},
      "source": [
        "The most simple plot that you might want to see from this situation is a\n",
        "scatterplot. If you use the `plot` function and pass it the data frame\n",
        "then R will give you exactly that."
      ],
      "id": "2d8c3254-a322-407e-8809-0875052ffc1e"
    },
    {
      "cell_type": "code",
      "execution_count": null,
      "metadata": {},
      "outputs": [
        {
          "output_type": "display_data",
          "metadata": {},
          "data": {
            "image/png": "[encoded data removed]"
          }
        }
      ],
      "source": [
        "plot(df)"
      ],
      "id": "3494e3fe-b649-4e19-ad73-361504f71bab"
    },
    {
      "cell_type": "markdown",
      "metadata": {},
      "source": [
        "we can enhance the graph a little by giving it a title, which you do\n",
        "with the `main` argument below. Then we can label the x-axis and the\n",
        "y-axis a little better by using `xlab` and `ylab`. If you want to make\n",
        "the points solid circles, that is the argument `pch=19` This helps some."
      ],
      "id": "69b790d5-88ee-4c4f-aea7-d1c9afb4f848"
    },
    {
      "cell_type": "code",
      "execution_count": null,
      "metadata": {},
      "outputs": [
        {
          "output_type": "display_data",
          "metadata": {},
          "data": {
            "image/png": "[encoded data removed]"
          }
        }
      ],
      "source": [
        "plot(df, \n",
        "     main=\"Annual Sales vs Store Size\", \n",
        "     xlab=\"Square Footage(Thousands)\", \n",
        "     ylab=\"Annual Sales (Millions$)\", \n",
        "     pch=19)"
      ],
      "id": "dbe24452-69a8-4d4b-9897-2403898594f1"
    },
    {
      "cell_type": "markdown",
      "metadata": {},
      "source": [
        "Lets compute the R-squared. First compute the R, which is called the\n",
        "correlation coefficient. Then square that to get the R-squared"
      ],
      "id": "5d986ade-8467-4d79-a057-f8e00ab98424"
    },
    {
      "cell_type": "code",
      "execution_count": null,
      "metadata": {},
      "outputs": [
        {
          "output_type": "stream",
          "name": "stdout",
          "text": [
            "[1] 0.9509"
          ]
        }
      ],
      "source": [
        "R <- cor(sqft,sales)\n",
        "R"
      ],
      "id": "5b7b9fc3-ef7e-4308-90a7-2f51c686da1a"
    },
    {
      "cell_type": "markdown",
      "metadata": {},
      "source": [
        "Next up we may want to see all the regression analysis output. We can do\n",
        "this by call `lm` which stands for “run a linear model”. The notation\n",
        "`sales~sqft` means make `sales` the y, which is what we want to predict.\n",
        "Then the `sqft` is our predictor in this case. So we will predict\n",
        "`sales` from `sqft`. For the second argument to lm, we have to pass in\n",
        "the dataframe `df`."
      ],
      "id": "a12e50df-26a9-45ea-8499-d26da54c1978"
    },
    {
      "cell_type": "code",
      "execution_count": null,
      "metadata": {},
      "outputs": [
        {
          "output_type": "stream",
          "name": "stdout",
          "text": [
            "\n",
            "Call:\n",
            "lm(formula = sales ~ sqft, data = df)\n",
            "\n",
            "Residuals:\n",
            "    Min      1Q  Median      3Q     Max \n",
            "-1.8741 -0.7483  0.0812  0.8625  1.1503 \n",
            "\n",
            "Coefficients:\n",
            "            Estimate Std. Error t value   Pr(>|t|)    \n",
            "(Intercept)    0.964      0.526    1.83      0.092 .  \n",
            "sqft           1.670      0.157   10.64 0.00000018 ***\n",
            "---\n",
            "Signif. codes:  0 '***' 0.001 '**' 0.01 '*' 0.05 '.' 0.1 ' ' 1\n",
            "\n",
            "Residual standard error: 0.966 on 12 degrees of freedom\n",
            "Multiple R-squared:  0.904, Adjusted R-squared:  0.896 \n",
            "F-statistic:  113 on 1 and 12 DF,  p-value: 0.000000182"
          ]
        }
      ],
      "source": [
        "model = lm(sales~sqft, data=df)\n",
        "summary(model)"
      ],
      "id": "d9fa8858-45ee-4050-9136-3c706d0464bc"
    },
    {
      "cell_type": "markdown",
      "metadata": {},
      "source": [
        "Test for significant linear relationship:\n",
        "\n",
        "Fill in the ??? below with the right value:\n",
        "\n",
        "**Test for overall significant:**\n",
        "\n",
        "overall p = ???\n",
        "\n",
        "**The regression equation is this:**\n",
        "\n",
        "sales =???(sqft) + ???\n",
        "\n",
        "**The standard error is:**\n",
        "\n",
        "std error = ???\n",
        "\n",
        "**R squared is:**\n",
        "\n",
        "Rsquared = ???\n",
        "\n",
        "Now lets plot the regression line on the scatterplot using `abline` .\n",
        "Here it is:\n",
        "\n",
        "-   call `plot` passing it the dataframe `df`, give it a title and\n",
        "    labels for the axes"
      ],
      "id": "29d785c5-73e1-40ab-80fa-b01b1e14464c"
    },
    {
      "cell_type": "code",
      "execution_count": null,
      "metadata": {},
      "outputs": [
        {
          "output_type": "display_data",
          "metadata": {},
          "data": {
            "image/png": "[encoded data removed]"
          }
        }
      ],
      "source": [
        "plot(df, \n",
        "     main=\"Annual Sales vs Store Size\", \n",
        "     xlab=\"Square Footage(Thousands)\", \n",
        "     ylab=\"Annual Sales (Millions$)\", \n",
        "     pch=19)\n",
        "abline(model)"
      ],
      "id": "396027bd-2572-4a7f-8652-0e93190f2383"
    },
    {
      "cell_type": "markdown",
      "metadata": {},
      "source": [
        "Suppose we want to do some predictions for: - sqft equal to 4000 square\n",
        "ft - sqft equal to 2000 square ft - sqft equal to 5000 square ft.\n",
        "\n",
        "-   make a new vector called `sqft` that has the values above\n",
        "-   make a data frame using `data.frame(sqft)` and assign it to\n",
        "    `predictors`"
      ],
      "id": "862dcb0a-0605-40f3-83b7-804cf4f51104"
    },
    {
      "cell_type": "code",
      "execution_count": null,
      "metadata": {},
      "outputs": [],
      "source": [
        "sqft<-c(4.0,2.0,5.0)\n",
        "predictors <- data.frame(sqft)"
      ],
      "id": "480f6f15-fdaf-4129-a0b8-6d524c64363d"
    },
    {
      "cell_type": "markdown",
      "metadata": {},
      "source": [
        "-   assign a variable called `predictions` which is the result of the\n",
        "    `predict` function, passing it the `model` and `predictors`\n",
        "    dataframe as arguments\n",
        "-   print out the `predictions`"
      ],
      "id": "39a1001e-47e3-40b1-9d12-c497861abbee"
    },
    {
      "cell_type": "code",
      "execution_count": null,
      "metadata": {},
      "outputs": [
        {
          "output_type": "stream",
          "name": "stdout",
          "text": [
            "    1     2     3 \n",
            "7.644 4.304 9.314 "
          ]
        }
      ],
      "source": [
        "predictions<-predict(model, predictors)\n",
        "predictions"
      ],
      "id": "9d0fceff-6c60-439a-a8c0-d9099b1d3de1"
    },
    {
      "cell_type": "markdown",
      "metadata": {},
      "source": [
        "Fill in the ??? with the correct answers below:\n",
        "\n",
        "-   Prediction for `sales` when `sqft` is 4000: ???\n",
        "-   Prediction when `sales` when `sqft` is 2000: ???\n",
        "-   Prediction when `sales` when `sqft` is 5000: ???"
      ],
      "id": "0b853919-6f65-492a-ac24-7ef0d96d4e0d"
    }
  ],
  "nbformat": 4,
  "nbformat_minor": 5,
  "metadata": {
    "kernelspec": {
      "name": "ir",
      "display_name": "R",
      "language": "R"
    }
  }
}