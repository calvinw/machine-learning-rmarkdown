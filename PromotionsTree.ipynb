{
  "cells": [
    {
      "cell_type": "markdown",
      "metadata": {},
      "source": [
        "# Predicting Demand from Markdowns and Promotions"
      ],
      "id": "9b72a414-8270-4049-a9b9-c80cc1e38785"
    },
    {
      "cell_type": "code",
      "execution_count": null,
      "metadata": {},
      "outputs": [],
      "source": [
        "options(\"scipen\"=100, \"digits\"=4)\n",
        "\n",
        "if(!require(\"rpart\")) install.packages(\"rpart\")\n",
        "if(!require(\"rpart.plot\")) install.packages(\"rpart.plot\")\n",
        "if(!require(\"Metrics\")) install.packages(\"Metrics\")\n",
        "\n",
        "library(\"rpart\")\n",
        "library(\"rpart.plot\")\n",
        "library(\"Metrics\")"
      ],
      "id": "875a689d-8180-4824-9dd1-7e5da46b2426"
    },
    {
      "cell_type": "markdown",
      "metadata": {},
      "source": [
        "## Building the Regression Tree Model\n",
        "\n",
        "First lets take a look at the data we will work with. Suppose we have\n",
        "the following data from 15 months of demand for some product and want to\n",
        "predict the demand based on whether there was a markdown or not and also\n",
        "whether or not there was a promotion.\n",
        "\n",
        "So here is the data we have, this will be our training data:\n",
        "\n",
        "| markdown | promotion | demand |\n",
        "|----------|-----------|--------|\n",
        "| yes      | yes       | 74     |\n",
        "| no       | no        | 23     |\n",
        "| yes      | yes       | 61     |\n",
        "| yes      | yes       | 59     |\n",
        "| no       | no        | 25     |\n",
        "| yes      | yes       | 63     |\n",
        "| no       | yes       | 54     |\n",
        "| yes      | no        | 42     |\n",
        "| no       | yes       | 55     |\n",
        "| yes      | yes       | 75     |\n",
        "| no       | no        | 13     |\n",
        "| yes      | yes       | 73     |\n",
        "| yes      | no        | 31     |\n",
        "| no       | no        | 12     |\n",
        "| no       | no        | 11     |\n",
        "\n",
        "-   `demand` is our result or outcome\n",
        "-   `markdown` (true or false), `promotion` (true or false) are the\n",
        "    predictors\n",
        "\n",
        "We hope that these predictors will help up predict the `demand`.\n",
        "\n",
        "To start we read the training data above from a csv file and print out\n",
        "its structore:"
      ],
      "id": "c1577b56-cbb6-4c52-8288-cfd72c0039aa"
    },
    {
      "cell_type": "code",
      "execution_count": null,
      "metadata": {},
      "outputs": [
        {
          "output_type": "stream",
          "name": "stdout",
          "text": [
            "'data.frame':   15 obs. of  3 variables:\n",
            " $ markdown : Factor w/ 2 levels \"no\",\"yes\": 2 1 2 2 1 2 1 2 1 2 ...\n",
            " $ promotion: Factor w/ 2 levels \"no\",\"yes\": 2 1 2 2 1 2 2 1 2 2 ...\n",
            " $ demand   : int  74 23 61 59 25 63 54 42 55 75 ..."
          ]
        }
      ],
      "source": [
        "trainurl<-\"https://docs.google.com/spreadsheets/d/e/2PACX-1vTT6LcnhxE-mij5m5HHdLZ77YB1_teFiPUrM2uyafkGMUHs-zSKgylLnvgEOleRCB6jatqV1JjAczkp/pub?gid=0&single=true&output=csv\"\n",
        "traindf<-read.csv(trainurl, stringsAsFactors=TRUE)\n",
        "str(traindf)"
      ],
      "id": "fc9c98f1-6d8f-4bce-8676-8caace22612b"
    },
    {
      "cell_type": "markdown",
      "metadata": {},
      "source": [
        "Let’s print out the training set to make sure it looks like what we\n",
        "expect:"
      ],
      "id": "b7bf520e-2966-430c-98d3-d34f3dece373"
    },
    {
      "cell_type": "code",
      "execution_count": null,
      "metadata": {},
      "outputs": [
        {
          "output_type": "stream",
          "name": "stdout",
          "text": [
            "   markdown promotion demand\n",
            "1       yes       yes     74\n",
            "2        no        no     23\n",
            "3       yes       yes     61\n",
            "4       yes       yes     59\n",
            "5        no        no     25\n",
            "6       yes       yes     63\n",
            "7        no       yes     54\n",
            "8       yes        no     42\n",
            "9        no       yes     55\n",
            "10      yes       yes     75\n",
            "11       no        no     13\n",
            "12      yes       yes     73\n",
            "13      yes        no     31\n",
            "14       no        no     12\n",
            "15       no        no     11"
          ]
        }
      ],
      "source": [
        "print(traindf)"
      ],
      "id": "5caa86e7-c4da-4f8e-9852-a09b0d61711f"
    },
    {
      "cell_type": "markdown",
      "metadata": {},
      "source": [
        "We will try to understand how to build up a decision tree for this\n",
        "example by just using one variable at a time to model the decision tree.\n",
        "\n",
        "### Splitting on Promotion\n",
        "\n",
        "First lets take a look at a simple model that uses just `promotion` to\n",
        "try to predict `demand`.\n",
        "\n",
        "So we are ready to see the predictions in each leaf node:"
      ],
      "id": "a792433d-bfc1-4054-baef-bf5d7874afd0"
    },
    {
      "cell_type": "code",
      "execution_count": null,
      "metadata": {},
      "outputs": [
        {
          "output_type": "display_data",
          "metadata": {},
          "data": {
            "image/png": "[encoded data removed]"
          }
        }
      ],
      "source": [
        "control <- rpart.control(minbucket=1, maxdepth=1)\n",
        "model1 <- rpart(demand~promotion, data=traindf, method=\"anova\", control=control)\n",
        "rpart.plot(model1, type=4, extra=101)"
      ],
      "id": "d7849a0f-6567-4648-b9d0-574920acfe0b"
    },
    {
      "cell_type": "markdown",
      "metadata": {},
      "source": [
        "Notice that the prediction in each leaf node is just the mean over the\n",
        "rows that wind up in that leaf node.\n",
        "\n",
        "### Splitting on Markdown\n",
        "\n",
        "Next lets look at a model that uses just `markdown` to try to predict\n",
        "`demand`:"
      ],
      "id": "bc445ddd-707e-4f76-801d-16b5dfc05818"
    },
    {
      "cell_type": "code",
      "execution_count": null,
      "metadata": {},
      "outputs": [
        {
          "output_type": "display_data",
          "metadata": {},
          "data": {
            "image/png": "[encoded data removed]"
          }
        }
      ],
      "source": [
        "control <- rpart.control(minbucket=1, maxdepth=1)\n",
        "model2 <- rpart(demand~markdown, data=traindf, method=\"anova\", control=control)\n",
        "rpart.plot(model2, type=4, extra=101)"
      ],
      "id": "eba5462c-87d5-4063-bc05-a83ba84ff624"
    },
    {
      "cell_type": "markdown",
      "metadata": {},
      "source": [
        "### Regression Tree built using both `markdown` and `promotion`\n",
        "\n",
        "What about if we use both `promotion` and `markdown` together to predict\n",
        "`demand`:"
      ],
      "id": "5ed14079-b47b-4623-9b4a-d00dae87212c"
    },
    {
      "cell_type": "code",
      "execution_count": null,
      "metadata": {},
      "outputs": [
        {
          "output_type": "display_data",
          "metadata": {},
          "data": {
            "image/png": "[encoded data removed]"
          }
        }
      ],
      "source": [
        "control <- rpart.control(minbucket=1)\n",
        "model3 <- rpart(demand~markdown+promotion, data=traindf, method=\"anova\", control=control)\n",
        "rpart.plot(model3, type=4, extra=101)"
      ],
      "id": "ae608d45-3533-4365-b811-ab676083b631"
    },
    {
      "cell_type": "markdown",
      "metadata": {},
      "source": [
        "## Testing the Regression Tree\n",
        "\n",
        "Next let’s look at some data that we can use as a testing set. This data\n",
        "we will use to evaluate how well the models we looked at above will do\n",
        "when they see “new” data. This gives a better idea of how accurate our\n",
        "model is. So here is the data we will use as our testing data:\n",
        "\n",
        "First we read the test set and look at its structure:"
      ],
      "id": "755bbaa5-3f94-450c-a346-71fce52ad2db"
    },
    {
      "cell_type": "code",
      "execution_count": null,
      "metadata": {},
      "outputs": [
        {
          "output_type": "stream",
          "name": "stdout",
          "text": [
            "'data.frame':   11 obs. of  3 variables:\n",
            " $ markdown : Factor w/ 2 levels \"no\",\"yes\": 2 1 1 2 2 1 2 1 2 1 ...\n",
            " $ promotion: Factor w/ 2 levels \"no\",\"yes\": 2 1 1 1 1 2 2 2 1 1 ...\n",
            " $ demand   : int  72 13 18 40 34 50 65 45 18 15 ..."
          ]
        }
      ],
      "source": [
        "testurl<-\"https://docs.google.com/spreadsheets/d/e/2PACX-1vTT6LcnhxE-mij5m5HHdLZ77YB1_teFiPUrM2uyafkGMUHs-zSKgylLnvgEOleRCB6jatqV1JjAczkp/pub?gid=1414619388&single=true&output=csv\"\n",
        "testdf<-read.csv(testurl, stringsAsFactors=TRUE)\n",
        "str(testdf)"
      ],
      "id": "42d9eae7-bf8d-4c59-85de-b354b75d9b60"
    },
    {
      "cell_type": "markdown",
      "metadata": {},
      "source": [
        "And now print out the test set:"
      ],
      "id": "b6a58335-68b6-455c-8c29-2bade3814f2e"
    },
    {
      "cell_type": "code",
      "execution_count": null,
      "metadata": {},
      "outputs": [
        {
          "output_type": "stream",
          "name": "stdout",
          "text": [
            "   markdown promotion demand\n",
            "1       yes       yes     72\n",
            "2        no        no     13\n",
            "3        no        no     18\n",
            "4       yes        no     40\n",
            "5       yes        no     34\n",
            "6        no       yes     50\n",
            "7       yes       yes     65\n",
            "8        no       yes     45\n",
            "9       yes        no     18\n",
            "10       no        no     15\n",
            "11       no        no     18"
          ]
        }
      ],
      "source": [
        "print(testdf)"
      ],
      "id": "f915f0ed-1b03-4ba7-9763-247fa22ccc68"
    },
    {
      "cell_type": "markdown",
      "metadata": {},
      "source": [
        "### Testing `demand~promotion`\n",
        "\n",
        "Here is the actual and the predicted for model1:"
      ],
      "id": "fc1bb7d1-6cb9-4f47-88a5-f80d7a192535"
    },
    {
      "cell_type": "code",
      "execution_count": null,
      "metadata": {},
      "outputs": [
        {
          "output_type": "stream",
          "name": "stdout",
          "text": [
            "   actual predictions\n",
            "1      72       64.25\n",
            "2      13       22.43\n",
            "3      18       22.43\n",
            "4      40       22.43\n",
            "5      34       22.43\n",
            "6      50       64.25\n",
            "7      65       64.25\n",
            "8      45       64.25\n",
            "9      18       22.43\n",
            "10     15       22.43\n",
            "11     18       22.43"
          ]
        }
      ],
      "source": [
        "pred <- predict(model1, newdata = testdf)\n",
        "comparedf <- data.frame(actual=testdf$demand, predictions=pred) \n",
        "print(comparedf)"
      ],
      "id": "b49a1bc8-22d2-4bd7-a991-e225f507fe0b"
    },
    {
      "cell_type": "markdown",
      "metadata": {},
      "source": [
        "Here is the MAPE, MAE and RMSE for model1:"
      ],
      "id": "f070c07f-8812-4955-a033-c3f66c785ca9"
    },
    {
      "cell_type": "code",
      "execution_count": null,
      "metadata": {},
      "outputs": [
        {
          "output_type": "stream",
          "name": "stdout",
          "text": [
            "[1] 0.3246"
          ]
        },
        {
          "output_type": "stream",
          "name": "stdout",
          "text": [
            "[1] 9.208"
          ]
        },
        {
          "output_type": "stream",
          "name": "stdout",
          "text": [
            "[1] 10.79"
          ]
        }
      ],
      "source": [
        "mape(testdf$demand, pred)"
      ],
      "id": "c6be1b73-b924-40af-9a69-04841d3394ec"
    },
    {
      "cell_type": "markdown",
      "metadata": {},
      "source": [
        "### Testing `demand~markdown`\n",
        "\n",
        "Here is the actual and the predicted for model2:"
      ],
      "id": "c14f10f3-db37-46e4-a3bc-f22a8749e704"
    },
    {
      "cell_type": "code",
      "execution_count": null,
      "metadata": {},
      "outputs": [
        {
          "output_type": "stream",
          "name": "stdout",
          "text": [
            "   actual predictions\n",
            "1      72       59.75\n",
            "2      13       27.57\n",
            "3      18       27.57\n",
            "4      40       59.75\n",
            "5      34       59.75\n",
            "6      50       27.57\n",
            "7      65       59.75\n",
            "8      45       27.57\n",
            "9      18       59.75\n",
            "10     15       27.57\n",
            "11     18       27.57"
          ]
        }
      ],
      "source": [
        "pred <- predict(model2, newdata = testdf)\n",
        "comparedf <- data.frame(actual=testdf$demand, predictions=pred)\n",
        "print(comparedf)"
      ],
      "id": "efc8eb7d-5d22-4f6e-8386-e7a0a93dc4d9"
    },
    {
      "cell_type": "markdown",
      "metadata": {},
      "source": [
        "Here is the MAPE, MAE and RMSE for model2:"
      ],
      "id": "1df83f8a-001c-4c5b-8c35-0bba0ba87ab2"
    },
    {
      "cell_type": "code",
      "execution_count": null,
      "metadata": {},
      "outputs": [
        {
          "output_type": "stream",
          "name": "stdout",
          "text": [
            "[1] 0.6982"
          ]
        },
        {
          "output_type": "stream",
          "name": "stdout",
          "text": [
            "[1] 17.35"
          ]
        },
        {
          "output_type": "stream",
          "name": "stdout",
          "text": [
            "[1] 19.85"
          ]
        }
      ],
      "source": [
        "mape(testdf$demand, pred)"
      ],
      "id": "b8203f3a-e192-4691-bd28-f19fc450bd65"
    },
    {
      "cell_type": "markdown",
      "metadata": {},
      "source": [
        "### Testing `demand~markdown+promotion`\n",
        "\n",
        "Now we are ready to do some predictions using the test dataframe:"
      ],
      "id": "7c8c2dc1-7dc9-42fa-9726-2364b6c74d52"
    },
    {
      "cell_type": "code",
      "execution_count": null,
      "metadata": {},
      "outputs": [
        {
          "output_type": "stream",
          "name": "stdout",
          "text": [
            " Named num [1:11] 67.5 16.8 16.8 36.5 36.5 54.5 67.5 54.5 36.5 16.8 ...\n",
            " - attr(*, \"names\")= chr [1:11] \"1\" \"2\" \"3\" \"4\" ..."
          ]
        }
      ],
      "source": [
        "pred <- predict(model3, newdata = testdf)\n",
        "str(pred)"
      ],
      "id": "cec80e92-799e-4eb8-bf96-54acd1f9d7ca"
    },
    {
      "cell_type": "markdown",
      "metadata": {},
      "source": [
        "So `pred` now holds our predictions.\n",
        "\n",
        "We can now compare those predictions (from our model) with the actual\n",
        "known results from the testing data. Here we are comparing how our model\n",
        "“predicted” on the test data with the “actual” outcomes that were\n",
        "included in the testing data. Here it is important that we know the\n",
        "actual outcomes on the testing data so we can see how we do.\n",
        "\n",
        "Lets make a data frame that shows the prediction and the actuals:"
      ],
      "id": "7fc81cf4-99b1-45eb-a885-cf4213557f98"
    },
    {
      "cell_type": "code",
      "execution_count": null,
      "metadata": {},
      "outputs": [
        {
          "output_type": "stream",
          "name": "stdout",
          "text": [
            "   actual predictions\n",
            "1      72        67.5\n",
            "2      13        16.8\n",
            "3      18        16.8\n",
            "4      40        36.5\n",
            "5      34        36.5\n",
            "6      50        54.5\n",
            "7      65        67.5\n",
            "8      45        54.5\n",
            "9      18        36.5\n",
            "10     15        16.8\n",
            "11     18        16.8"
          ]
        }
      ],
      "source": [
        "comparedf <- data.frame(actual=testdf$demand, predictions=pred)\n",
        "print(comparedf)"
      ],
      "id": "369335b5-a7b4-41e8-b346-02758b00b89c"
    },
    {
      "cell_type": "markdown",
      "metadata": {},
      "source": [
        "Here is the MAPE, MAE and RMSE for our best model (model3):"
      ],
      "id": "8b8713de-a438-4fd0-bc0d-2ce7bad4266f"
    },
    {
      "cell_type": "code",
      "execution_count": null,
      "metadata": {},
      "outputs": [
        {
          "output_type": "stream",
          "name": "stdout",
          "text": [
            "[1] 0.1942"
          ]
        },
        {
          "output_type": "stream",
          "name": "stdout",
          "text": [
            "[1] 4.864"
          ]
        },
        {
          "output_type": "stream",
          "name": "stdout",
          "text": [
            "[1] 6.864"
          ]
        }
      ],
      "source": [
        "mape(testdf$demand, pred)"
      ],
      "id": "fbbb8b8d-f46f-410c-8a55-170d06cb16f3"
    }
  ],
  "nbformat": 4,
  "nbformat_minor": 5,
  "metadata": {
    "kernelspec": {
      "name": "ir",
      "display_name": "R",
      "language": "R"
    }
  }
}