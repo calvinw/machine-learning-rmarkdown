{
 "cells": [
  {
   "cell_type": "code",
   "execution_count": null,
   "metadata": {},
   "outputs": [],
   "source": [
    "options(\"scipen\"=100, \"digits\"=4)\n",
    "if(!require(\"readr\")) install.packages(\"readr\")\n",
    "if(!require(\"rpart\")) install.packages(\"rpart\")\n",
    "if(!require(\"rpart.plot\")) install.packages(\"rpart.plot\")\n",
    "if(!require(\"Metrics\")) install.packages(\"Metrics\")\n",
    "library(\"readr\")\n",
    "library(\"rpart\")\n",
    "library(\"rpart.plot\")\n",
    "library(\"Metrics\")"
   ]
  },
  {
   "cell_type": "markdown",
   "metadata": {},
   "source": [
    "Building the Regression Tree Model\n",
    "----------------------------------\n",
    "\n",
    "First lets take a look at the data we will work with. Suppose we have\n",
    "the following data from 15 months of demand for some product and want to\n",
    "predict the demand based on whether there was a markdown or not and also\n",
    "whether or not there was a promotion.\n",
    "\n",
    "So here is the data we have, this will be our training data:\n",
    "\n",
    "| markdown | promotion | demand |\n",
    "|----------|-----------|--------|\n",
    "| yes      | yes       | 74     |\n",
    "| no       | no        | 23     |\n",
    "| yes      | yes       | 61     |\n",
    "| yes      | yes       | 59     |\n",
    "| no       | no        | 25     |\n",
    "| yes      | yes       | 63     |\n",
    "| no       | yes       | 54     |\n",
    "| yes      | no        | 42     |\n",
    "| no       | yes       | 55     |\n",
    "| yes      | yes       | 75     |\n",
    "| no       | no        | 13     |\n",
    "| yes      | yes       | 73     |\n",
    "| yes      | no        | 31     |\n",
    "| no       | no        | 12     |\n",
    "| no       | no        | 11     |\n",
    "\n",
    "-   `demand` is our result or outcome\n",
    "-   `markdown` (true or false), `promotion` (true or false) are the\n",
    "    predictors\n",
    "\n",
    "We hope that these predictors will help up predict the `demand`.\n",
    "\n",
    "To start we read the training data above from a csv file and print out\n",
    "its structore:"
   ]
  },
  {
   "cell_type": "code",
   "execution_count": null,
   "metadata": {},
   "outputs": [],
   "source": [
    "#trainurl<-\"promotions.csv\"\n",
    "trainurl<-\"https://docs.google.com/spreadsheets/d/e/2PACX-1vTT6LcnhxE-mij5m5HHdLZ77YB1_teFiPUrM2uyafkGMUHs-zSKgylLnvgEOleRCB6jatqV1JjAczkp/pub?gid=0&single=true&output=csv\"\n",
    "traindf<-read.csv(trainurl, stringsAsFactors=TRUE)\n",
    "str(traindf)"
   ]
  },
  {
   "cell_type": "markdown",
   "metadata": {},
   "source": [
    "Let’s print out the training set to make sure it looks like what we\n",
    "expect:"
   ]
  },
  {
   "cell_type": "code",
   "execution_count": null,
   "metadata": {},
   "outputs": [],
   "source": [
    "print(traindf)"
   ]
  },
  {
   "cell_type": "markdown",
   "metadata": {},
   "source": [
    "We will try to understand how to build up a decision tree for this\n",
    "example by just using one variable at a time to model the decision tree.\n",
    "\n",
    "### Splitting on Promotion\n",
    "\n",
    "First lets take a look at a simple model that uses just `promotion` to\n",
    "try to predict `demand`.\n",
    "\n",
    "Suppose we decide to split on `promotion`. What will the leaf nodes look\n",
    "like? Since there are just 2 values for promotion, we can group all the\n",
    "rows where `promotion` is “yes” together and all the rows where\n",
    "`promotion` is “no”.\n",
    "\n",
    "Here are the rows for leaf1, where `promotion` is “yes”"
   ]
  },
  {
   "cell_type": "code",
   "execution_count": null,
   "metadata": {},
   "outputs": [],
   "source": [
    "leaf1<-traindf[traindf$promotion == \"yes\",]\n",
    "print(leaf1)"
   ]
  },
  {
   "cell_type": "markdown",
   "metadata": {},
   "source": [
    "And here are the rows for leaf2, where `promotion` is “no”"
   ]
  },
  {
   "cell_type": "code",
   "execution_count": null,
   "metadata": {},
   "outputs": [],
   "source": [
    "leaf2<-traindf[traindf$promotion == \"no\",]\n",
    "print(leaf2)"
   ]
  },
  {
   "cell_type": "markdown",
   "metadata": {},
   "source": [
    "Lets look at the mean demand and standard deviation from the entire\n",
    "training set, then compare that to the mean and the standard deviation\n",
    "in each leaf node. The question here is if each leaf node is more pure\n",
    "given that we perform this split on `promotion`."
   ]
  },
  {
   "cell_type": "code",
   "execution_count": null,
   "metadata": {},
   "outputs": [],
   "source": [
    "compare<-data.frame(train= c(mean(traindf$demand), sd(traindf$demand), nrow(traindf)), \n",
    "            leaf1= c(mean(leaf1$demand), sd(leaf1$demand), nrow(leaf1)), \n",
    "            leaf2= c(mean(leaf2$demand), sd(leaf2$demand), nrow(leaf2)))\n",
    "row.names(compare) <- c(\"mean\", \"std\", \"size\")\n",
    "print(compare)"
   ]
  },
  {
   "cell_type": "markdown",
   "metadata": {},
   "source": [
    "Next lets take the weighted average of the std deviation in leaf1 and\n",
    "the std deviation in leaf2."
   ]
  },
  {
   "cell_type": "code",
   "execution_count": null,
   "metadata": {},
   "outputs": [],
   "source": [
    "n<- compare[3,1]\n",
    "n1<-compare[3,2]\n",
    "n2<-compare[3,3]\n",
    "sd1<-compare[2,2]\n",
    "sd2<-compare[2,3]\n",
    "# Take a weighted average of the std deviations of leaf1 and leaf2\n",
    "newsd <- (n1/n)*sd1 + (n2/n)*sd2 \n",
    "newsd "
   ]
  },
  {
   "cell_type": "markdown",
   "metadata": {},
   "source": [
    "So we are ready to see the predictions in each leaf node:"
   ]
  },
  {
   "cell_type": "code",
   "execution_count": null,
   "metadata": {},
   "outputs": [],
   "source": [
    "control <- rpart.control(minbucket=1, maxdepth=1)\n",
    "model1 <- rpart(demand~promotion, data=traindf, method=\"anova\", control=control)\n",
    "rpart.plot(model1, type=4, extra=101)"
   ]
  },
  {
   "cell_type": "markdown",
   "metadata": {},
   "source": [
    "Notice that the prediction in each leaf node is just the mean over the\n",
    "rows that wind up in that leaf node.\n",
    "\n",
    "### Splitting on Markdown\n",
    "\n",
    "Next lets look at a model that uses just `markdown` to try to predict\n",
    "`demand`:\n",
    "\n",
    "Here are the rows for leaf1, where `markdown` is “yes”"
   ]
  },
  {
   "cell_type": "code",
   "execution_count": null,
   "metadata": {},
   "outputs": [],
   "source": [
    "leaf1<-traindf[traindf$markdown == \"yes\",]\n",
    "print(leaf1)"
   ]
  },
  {
   "cell_type": "markdown",
   "metadata": {},
   "source": [
    "And here are the rows for leaf2, where `markdown` is “no”"
   ]
  },
  {
   "cell_type": "code",
   "execution_count": null,
   "metadata": {},
   "outputs": [],
   "source": [
    "leaf2<-traindf[traindf$markdown == \"no\",]\n",
    "print(leaf2)"
   ]
  },
  {
   "cell_type": "markdown",
   "metadata": {},
   "source": [
    "Here is the comparison of the entire training data and the std\n",
    "deviations in each node if we split on `markdown`:"
   ]
  },
  {
   "cell_type": "code",
   "execution_count": null,
   "metadata": {},
   "outputs": [],
   "source": [
    "compare<-data.frame(train= c(mean(traindf$demand), sd(traindf$demand), nrow(traindf)), \n",
    "            leaf1= c(mean(leaf1$demand), sd(leaf1$demand), nrow(leaf1)), \n",
    "            leaf2= c(mean(leaf2$demand), sd(leaf2$demand), nrow(leaf2)))\n",
    "row.names(compare) <- c(\"mean\", \"std\", \"size\")\n",
    "print(compare)"
   ]
  },
  {
   "cell_type": "markdown",
   "metadata": {},
   "source": [
    "Once again we take the weighted average of the std deviation in leaf1\n",
    "and the std deviation in leaf2."
   ]
  },
  {
   "cell_type": "code",
   "execution_count": null,
   "metadata": {},
   "outputs": [],
   "source": [
    "n<- compare[3,1]\n",
    "n1<-compare[3,2]\n",
    "n2<-compare[3,3]\n",
    "sd1<-compare[2,2]\n",
    "sd2<-compare[2,3]\n",
    "# Take a weighted average of the std deviations of leaf1 and leaf2\n",
    "newsd <- (n1/n)*sd1 + (n2/n)*sd2 \n",
    "newsd "
   ]
  },
  {
   "cell_type": "markdown",
   "metadata": {},
   "source": [
    "Now lets do the model using just `markdown` and one node to predict\n",
    "`demand`:"
   ]
  },
  {
   "cell_type": "code",
   "execution_count": null,
   "metadata": {},
   "outputs": [],
   "source": [
    "control <- rpart.control(minbucket=1, maxdepth=1)\n",
    "model2 <- rpart(demand~markdown, data=traindf, method=\"anova\", control=control)\n",
    "rpart.plot(model2, type=4, extra=101)"
   ]
  },
  {
   "cell_type": "markdown",
   "metadata": {},
   "source": [
    "### Regression Tree built using both `markdown` and `promotion`\n",
    "\n",
    "What about if we use both `promotion` and `markdown` together to predict\n",
    "`demand`:"
   ]
  },
  {
   "cell_type": "code",
   "execution_count": null,
   "metadata": {},
   "outputs": [],
   "source": [
    "control <- rpart.control(minbucket=1)\n",
    "model3 <- rpart(demand~markdown+promotion, data=traindf, method=\"anova\", control=control)\n",
    "rpart.plot(model3, type=4, extra=101)"
   ]
  },
  {
   "cell_type": "markdown",
   "metadata": {},
   "source": [
    "Testing the Regression Tree\n",
    "---------------------------\n",
    "\n",
    "Next let’s look at some data that we can use as a testing set. This data\n",
    "we will use to evaluate how well the models we looked at above will do\n",
    "when they see “new” data. This gives a better idea of how accurate our\n",
    "model is. So here is the data we will use as our testing data:\n",
    "\n",
    "First we read the test set and look at its structure:"
   ]
  },
  {
   "cell_type": "code",
   "execution_count": null,
   "metadata": {},
   "outputs": [],
   "source": [
    "# testurl<-\"promotions-test.csv\"\n",
    "testurl<-\"https://docs.google.com/spreadsheets/d/e/2PACX-1vTT6LcnhxE-mij5m5HHdLZ77YB1_teFiPUrM2uyafkGMUHs-zSKgylLnvgEOleRCB6jatqV1JjAczkp/pub?gid=1414619388&single=true&output=csv\"\n",
    "testdf<-read.csv(testurl, stringsAsFactors=TRUE)\n",
    "str(testdf)"
   ]
  },
  {
   "cell_type": "markdown",
   "metadata": {},
   "source": [
    "And now print out the test set:"
   ]
  },
  {
   "cell_type": "code",
   "execution_count": null,
   "metadata": {},
   "outputs": [],
   "source": [
    "print(testdf)"
   ]
  },
  {
   "cell_type": "markdown",
   "metadata": {},
   "source": [
    "### Testing `demand~markdown+promotion`\n",
    "\n",
    "Now we are ready to do some predictions using the test dataframe:"
   ]
  },
  {
   "cell_type": "code",
   "execution_count": null,
   "metadata": {},
   "outputs": [],
   "source": [
    "pred <- predict(model3, newdata = testdf)\n",
    "str(pred)"
   ]
  },
  {
   "cell_type": "markdown",
   "metadata": {},
   "source": [
    "So `pred` now holds our predictions.\n",
    "\n",
    "We can now compare those predictions (from our model) with the actual\n",
    "known results from the testing data. Here we are comparing how our model\n",
    "“predicted” on the test data with the “actual” outcomes that were\n",
    "included in the testing data. Here it is important that we know the\n",
    "actual outcomes on the testing data so we can see how we do.\n",
    "\n",
    "Lets make a data frame that shows the prediction and the actuals:"
   ]
  },
  {
   "cell_type": "code",
   "execution_count": null,
   "metadata": {},
   "outputs": [],
   "source": [
    "comparedf <- data.frame(actual=testdf$demand, predictions=pred)\n",
    "print(comparedf)"
   ]
  },
  {
   "cell_type": "markdown",
   "metadata": {},
   "source": [
    "Here is the MAPE, MAE and RMSE for our best model (model3):"
   ]
  },
  {
   "cell_type": "code",
   "execution_count": null,
   "metadata": {},
   "outputs": [],
   "source": [
    "mape(testdf$demand, pred)\n",
    "mae(testdf$demand, pred)\n",
    "rmse(testdf$demand, pred)"
   ]
  },
  {
   "cell_type": "markdown",
   "metadata": {},
   "source": [
    "### Testing `demand~promotion`\n",
    "\n",
    "Here is the actual and the predicted for model1:"
   ]
  },
  {
   "cell_type": "code",
   "execution_count": null,
   "metadata": {},
   "outputs": [],
   "source": [
    "pred <- predict(model1, newdata = testdf)\n",
    "comparedf <- data.frame(actual=testdf$demand, predictions=pred) \n",
    "print(comparedf)"
   ]
  },
  {
   "cell_type": "markdown",
   "metadata": {},
   "source": [
    "Here is the MAPE, MAE and RMSE for model1:"
   ]
  },
  {
   "cell_type": "code",
   "execution_count": null,
   "metadata": {},
   "outputs": [],
   "source": [
    "mape(testdf$demand, pred)\n",
    "mae(testdf$demand, pred)\n",
    "rmse(testdf$demand, pred)"
   ]
  },
  {
   "cell_type": "markdown",
   "metadata": {},
   "source": [
    "### Testing `demand~markdown`\n",
    "\n",
    "Here is the actual and the predicted for model2:"
   ]
  },
  {
   "cell_type": "code",
   "execution_count": null,
   "metadata": {},
   "outputs": [],
   "source": [
    "pred <- predict(model2, newdata = testdf)\n",
    "comparedf <- data.frame(actual=testdf$demand, predictions=pred)\n",
    "print(comparedf)"
   ]
  },
  {
   "cell_type": "markdown",
   "metadata": {},
   "source": [
    "Here is the MAPE, MAE and RMSE for model2:"
   ]
  },
  {
   "cell_type": "code",
   "execution_count": null,
   "metadata": {},
   "outputs": [],
   "source": [
    "mape(testdf$demand, pred)\n",
    "mae(testdf$demand, pred)\n",
    "rmse(testdf$demand, pred)"
   ]
  }
 ],
 "nbformat": 4,
 "nbformat_minor": 5,
 "metadata": {
  "kernelspec": {
   "name": "ir",
   "display_name": "R",
   "language": "R"
  }
 }
}
