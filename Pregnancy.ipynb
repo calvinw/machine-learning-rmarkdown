{
 "cells": [
  {
   "cell_type": "code",
   "execution_count": null,
   "metadata": {},
   "outputs": [],
   "source": [
    "if (!require(\"RCurl\")) install.packages(\"RCurl\")\n",
    "library(\"RCurl\")"
   ]
  },
  {
   "cell_type": "markdown",
   "metadata": {},
   "source": [
    "Load the data as a csv file:"
   ]
  },
  {
   "cell_type": "code",
   "execution_count": null,
   "metadata": {},
   "outputs": [],
   "source": [
    "url<- \"https://docs.google.com/spreadsheets/d/e/2PACX-1vSjtQqcKaaobKkhQXaP2b6gcbQkaKJabjPz2k_hfHj2VEqcSW-I0BiCRpz9VkoQgpcylTUNSp1Opt4P/pub?gid=1389299652&single=true&output=csv\"\n",
    "textString<-getURL(url)\n",
    "df<-read.csv(text=textString)"
   ]
  },
  {
   "cell_type": "code",
   "execution_count": null,
   "metadata": {},
   "outputs": [],
   "source": [
    "str(df)"
   ]
  },
  {
   "cell_type": "code",
   "execution_count": null,
   "metadata": {},
   "outputs": [],
   "source": [
    "dfFactors <- df\n",
    "dfFactors[] <- lapply(dfFactors, factor)\n",
    "str(dfFactors)"
   ]
  },
  {
   "cell_type": "code",
   "execution_count": null,
   "metadata": {},
   "outputs": [],
   "source": [
    "cv = function(x,y) {\n",
    "  return (round(sqrt(chisq.test(x, y, correct=FALSE)$statistic /length(x)),2))\n",
    "}\n",
    "\n",
    "cramersv <- apply(df, 2, function(x) cv(x,dfFactors$Pregnant))  \n",
    "cramersvDf<- data.frame(cramersv)\n",
    "cramersvDf"
   ]
  },
  {
   "cell_type": "markdown",
   "metadata": {},
   "source": [
    "Let’s run a logistic regression:"
   ]
  },
  {
   "cell_type": "code",
   "execution_count": null,
   "metadata": {},
   "outputs": [],
   "source": [
    "options(\"scipen\"=100, \"digits\"=4)\n",
    "logisticModel <- glm(Pregnant ~.,family=binomial(link='logit'),data=dfFactors)\n",
    "summary(logisticModel)"
   ]
  },
  {
   "cell_type": "markdown",
   "metadata": {},
   "source": [
    "`BodyPillow` and `SeaBands` are not significant in this model.\n",
    "\n",
    "What about computing correlations on the int versions:"
   ]
  },
  {
   "cell_type": "code",
   "execution_count": null,
   "metadata": {},
   "outputs": [],
   "source": [
    "correlations <- apply(df, 2, function(x) cor(x,df$Pregnant))  \n",
    "correlationsDf<- data.frame(correlations)\n",
    "correlationsDf"
   ]
  },
  {
   "cell_type": "markdown",
   "metadata": {},
   "source": [
    "And then just regular regression:"
   ]
  },
  {
   "cell_type": "code",
   "execution_count": null,
   "metadata": {},
   "outputs": [],
   "source": [
    "model <- lm(Pregnant ~.,data=df)\n",
    "summary(model)"
   ]
  },
  {
   "cell_type": "markdown",
   "metadata": {},
   "source": [
    "Lets look at some xtabs for"
   ]
  },
  {
   "cell_type": "code",
   "execution_count": null,
   "metadata": {},
   "outputs": [],
   "source": [
    "#xtabs(formula=~Pregnant+FolicAcid, data=dfFactors)"
   ]
  },
  {
   "cell_type": "code",
   "execution_count": null,
   "metadata": {},
   "outputs": [],
   "source": [
    "#xtabs(formula=~Pregnant+MaternityClothes, data=dfFactors)"
   ]
  },
  {
   "cell_type": "code",
   "execution_count": null,
   "metadata": {},
   "outputs": [],
   "source": [
    "#xtabs(formula=~Pregnant+BirthControl, data=dfFactors)"
   ]
  }
 ],
 "nbformat": 4,
 "nbformat_minor": 5,
 "metadata": {
  "kernelspec": {
   "name": "ir",
   "display_name": "R",
   "language": "R"
  }
 }
}

