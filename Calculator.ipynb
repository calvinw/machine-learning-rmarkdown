{
  "cells": [
    {
      "cell_type": "markdown",
      "metadata": {},
      "source": [
        "# Calculator\n",
        "\n",
        "R can do calculations, just like a calculator:\n",
        "\n",
        "Addition:"
      ],
      "id": "7fb0b37e-3946-44fb-a937-011ab7160fe9"
    },
    {
      "cell_type": "code",
      "execution_count": null,
      "metadata": {},
      "outputs": [
        {
          "output_type": "stream",
          "name": "stdout",
          "text": [
            "[1] 7"
          ]
        }
      ],
      "source": [
        "3+4"
      ],
      "id": "a3f606ad-bc73-4e2a-b563-98c4715cba5e"
    },
    {
      "cell_type": "markdown",
      "metadata": {},
      "source": [
        "Multiplication:"
      ],
      "id": "9353fa42-5799-4b74-ad25-23d096037abc"
    },
    {
      "cell_type": "code",
      "execution_count": null,
      "metadata": {},
      "outputs": [
        {
          "output_type": "stream",
          "name": "stdout",
          "text": [
            "[1] 12"
          ]
        }
      ],
      "source": [
        "3*4"
      ],
      "id": "15ba3bd5-31bc-4ed4-a756-c14bbb9599bf"
    },
    {
      "cell_type": "markdown",
      "metadata": {},
      "source": [
        "Subtraction:"
      ],
      "id": "e44f0ea4-e57b-428a-b8f0-9f93dc71c333"
    },
    {
      "cell_type": "code",
      "execution_count": null,
      "metadata": {},
      "outputs": [
        {
          "output_type": "stream",
          "name": "stdout",
          "text": [
            "[1] -1"
          ]
        }
      ],
      "source": [
        "3-4"
      ],
      "id": "c3b96cc0-971c-434d-bdb6-36eb5ba5d9ea"
    },
    {
      "cell_type": "markdown",
      "metadata": {},
      "source": [
        "Division:"
      ],
      "id": "4a314c2f-a772-4459-8c6d-3c28ac41aa25"
    },
    {
      "cell_type": "code",
      "execution_count": null,
      "metadata": {},
      "outputs": [
        {
          "output_type": "stream",
          "name": "stdout",
          "text": [
            "[1] 0.75"
          ]
        }
      ],
      "source": [
        "3/4"
      ],
      "id": "f8fab745-506a-4066-9572-282810e8f2f5"
    },
    {
      "cell_type": "markdown",
      "metadata": {},
      "source": [
        "Exponents:"
      ],
      "id": "2ba6c11a-1137-4112-840a-f6a605aa1e8a"
    },
    {
      "cell_type": "code",
      "execution_count": null,
      "metadata": {},
      "outputs": [
        {
          "output_type": "stream",
          "name": "stdout",
          "text": [
            "[1] 100"
          ]
        }
      ],
      "source": [
        "10^2"
      ],
      "id": "3d038dda-ab5e-4423-af59-a1b666cefc6c"
    },
    {
      "cell_type": "markdown",
      "metadata": {},
      "source": [
        "Remember $10^2=10(10)=100$"
      ],
      "id": "fc103f5b-3226-4f45-be24-015a1e614d83"
    },
    {
      "cell_type": "code",
      "execution_count": null,
      "metadata": {},
      "outputs": [
        {
          "output_type": "stream",
          "name": "stdout",
          "text": [
            "[1] 81"
          ]
        }
      ],
      "source": [
        "3^4"
      ],
      "id": "21ce8cf5-e37a-4c2d-a8bf-7109cb555ec7"
    },
    {
      "cell_type": "markdown",
      "metadata": {},
      "source": [
        "This is 3 raised to the power 4. Remember $3^4=(3)(3)(3)(3)=81$"
      ],
      "id": "92119d87-f87c-428e-a1ad-ff0fd083cf21"
    },
    {
      "cell_type": "code",
      "execution_count": null,
      "metadata": {},
      "outputs": [
        {
          "output_type": "stream",
          "name": "stdout",
          "text": [
            "[1] 81"
          ]
        }
      ],
      "source": [
        "3*3*3*3"
      ],
      "id": "1162c9e0-b0a4-4478-9480-3c43131c8616"
    },
    {
      "cell_type": "markdown",
      "metadata": {},
      "source": [
        "You can call functions, like taking a square root.\n",
        "\n",
        "`sqrt(16)` means the same as:\n",
        "\n",
        "$$ \\sqrt{ 16 } $$\n",
        "\n",
        "which we know is just 4."
      ],
      "id": "17e55264-1493-4c9b-be40-9ab226815925"
    },
    {
      "cell_type": "code",
      "execution_count": null,
      "metadata": {},
      "outputs": [
        {
          "output_type": "stream",
          "name": "stdout",
          "text": [
            "[1] 4"
          ]
        }
      ],
      "source": [
        "sqrt(16)"
      ],
      "id": "8af4e1cc-1233-473d-ab78-8ae15c8fb336"
    },
    {
      "cell_type": "markdown",
      "metadata": {},
      "source": [
        "Square root works for any non-negative number:"
      ],
      "id": "8e548e0b-ad00-4c11-8cef-f714e286644f"
    },
    {
      "cell_type": "code",
      "execution_count": null,
      "metadata": {},
      "outputs": [
        {
          "output_type": "stream",
          "name": "stdout",
          "text": [
            "[1] 1.414214"
          ]
        }
      ],
      "source": [
        "sqrt(2)"
      ],
      "id": "c20f6b6e-e5bc-417d-8e4f-81bbea01aca0"
    },
    {
      "cell_type": "markdown",
      "metadata": {},
      "source": [
        "What happens if we try to make R take the square root of a negative\n",
        "number?"
      ],
      "id": "3b831f9c-2275-463e-bb4c-6b82eaada81e"
    },
    {
      "cell_type": "code",
      "execution_count": null,
      "metadata": {},
      "outputs": [
        {
          "output_type": "stream",
          "name": "stderr",
          "text": [
            "Warning in sqrt(-25): NaNs produced"
          ]
        },
        {
          "output_type": "stream",
          "name": "stdout",
          "text": [
            "[1] NaN"
          ]
        }
      ],
      "source": [
        "sqrt(-25)"
      ],
      "id": "7b6f6916-d48d-4403-99da-5a57cc40f130"
    },
    {
      "cell_type": "markdown",
      "metadata": {},
      "source": [
        "It gives us a warning. `NaNs produced`. NaN stands for “Not a Number”,\n",
        "so this is telling us that R does not know how to do this. The answer is\n",
        "not a number. Usually this is a sign of a mistake we have made entering\n",
        "in what we passed to the `sqrt` function.\n",
        "\n",
        "You can call the round function:"
      ],
      "id": "ac94a9d6-fdaf-4050-9b62-2d06ca7fe3ba"
    },
    {
      "cell_type": "code",
      "execution_count": null,
      "metadata": {},
      "outputs": [
        {
          "output_type": "stream",
          "name": "stdout",
          "text": [
            "[1] 6"
          ]
        }
      ],
      "source": [
        "round(6.3)"
      ],
      "id": "6ce174d8-aa99-4905-9e39-c09ec467195a"
    },
    {
      "cell_type": "markdown",
      "metadata": {},
      "source": [
        "You can call the ceiling function, what do you think this does?"
      ],
      "id": "43153dd9-7a51-4952-bb84-d95688c61e42"
    },
    {
      "cell_type": "code",
      "execution_count": null,
      "metadata": {},
      "outputs": [
        {
          "output_type": "stream",
          "name": "stdout",
          "text": [
            "[1] 7"
          ]
        }
      ],
      "source": [
        "ceiling(6.3)"
      ],
      "id": "014ef7c9-d78a-46fe-9c4b-dcd9c1240eb9"
    },
    {
      "cell_type": "markdown",
      "metadata": {},
      "source": [
        "You can call the floor function, what does this do?"
      ],
      "id": "c720ea66-16e4-46ea-833c-49d24324c8b6"
    },
    {
      "cell_type": "code",
      "execution_count": null,
      "metadata": {},
      "outputs": [
        {
          "output_type": "stream",
          "name": "stdout",
          "text": [
            "[1] 6"
          ]
        }
      ],
      "source": [
        "floor(6.8)"
      ],
      "id": "6a2440b0-6af4-4b0c-953d-7048f7d4771a"
    },
    {
      "cell_type": "markdown",
      "metadata": {},
      "source": [
        "R knows about the number $\\pi$ as well. It is built in:"
      ],
      "id": "76c001d5-c91a-4702-93c0-e1d684ebca66"
    },
    {
      "cell_type": "code",
      "execution_count": null,
      "metadata": {},
      "outputs": [
        {
          "output_type": "stream",
          "name": "stdout",
          "text": [
            "[1] 3.141593"
          ]
        }
      ],
      "source": [
        "pi"
      ],
      "id": "21137de1-33ae-41f1-8c7c-5f7518f5b26b"
    },
    {
      "cell_type": "markdown",
      "metadata": {},
      "source": [
        "R has a remainder function. This just gives the remainder of $17/5$,\n",
        "which is $2$ since $17/5=3$ with remainder 2:"
      ],
      "id": "cde402f6-5a7c-4b14-9733-64e715616c7f"
    },
    {
      "cell_type": "code",
      "execution_count": null,
      "metadata": {},
      "outputs": [
        {
          "output_type": "stream",
          "name": "stdout",
          "text": [
            "[1] 2"
          ]
        }
      ],
      "source": [
        "17%%5"
      ],
      "id": "3f81ba42-e01b-4d92-8bd0-19208deacebc"
    },
    {
      "cell_type": "markdown",
      "metadata": {},
      "source": [
        "This log gives us a number so that when 10 is raised to that number we\n",
        "get 1000. So $10^3 = 1000$, which we know is true.\n",
        "\n",
        "Just to prove this let’s raise 10 to that power:"
      ],
      "id": "6ede2365-a16a-4882-aaad-6226fbeebc8f"
    },
    {
      "cell_type": "code",
      "execution_count": null,
      "metadata": {},
      "outputs": [
        {
          "output_type": "stream",
          "name": "stdout",
          "text": [
            "[1] 1000"
          ]
        }
      ],
      "source": [
        "10^(3)"
      ],
      "id": "93e06de9-78e3-4150-a1ef-2806e9f519bd"
    },
    {
      "cell_type": "markdown",
      "metadata": {},
      "source": [
        "Order of operations"
      ],
      "id": "0be4513d-ef8f-41dc-b85a-a7db0449777d"
    },
    {
      "cell_type": "code",
      "execution_count": null,
      "metadata": {},
      "outputs": [
        {
          "output_type": "stream",
          "name": "stdout",
          "text": [
            "[1] 14"
          ]
        }
      ],
      "source": [
        "2+3*4"
      ],
      "id": "d93df11f-fe07-427b-9af3-9eb980f5e562"
    },
    {
      "cell_type": "markdown",
      "metadata": {},
      "source": [
        "Just like we were taught for PEMDAS, it does the multiplication first,\n",
        "then the addition. This is sort of like there are parentheses around the\n",
        "multiplication:"
      ],
      "id": "e22b8e6d-38a7-44bd-8143-dc4cc79eb0ff"
    },
    {
      "cell_type": "code",
      "execution_count": null,
      "metadata": {},
      "outputs": [
        {
          "output_type": "stream",
          "name": "stdout",
          "text": [
            "[1] 14"
          ]
        }
      ],
      "source": [
        "2+(3*4)"
      ],
      "id": "556fc9f0-95f8-423a-b305-a9931825f28d"
    },
    {
      "cell_type": "markdown",
      "metadata": {},
      "source": [
        "If we want to make R do the addition first we can. We have to tell it to\n",
        "do that first using parentheses"
      ],
      "id": "28423bd3-7b3b-49c0-b6a7-97738ffc06d0"
    },
    {
      "cell_type": "code",
      "execution_count": null,
      "metadata": {},
      "outputs": [
        {
          "output_type": "stream",
          "name": "stdout",
          "text": [
            "[1] 20"
          ]
        }
      ],
      "source": [
        "(2+3)*4"
      ],
      "id": "ca949f32-54ce-44ce-aa23-2516c420047a"
    }
  ],
  "nbformat": 4,
  "nbformat_minor": 5,
  "metadata": {
    "kernelspec": {
      "name": "ir",
      "display_name": "R",
      "language": "R"
    }
  }
}