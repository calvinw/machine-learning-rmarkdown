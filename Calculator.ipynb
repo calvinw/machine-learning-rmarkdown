{
  "cells": [
    {
      "cell_type": "markdown",
      "metadata": {},
      "source": [
        "# Calculator\n",
        "\n",
        "R can do calculations, just like a calculator:\n",
        "\n",
        "Addition:"
      ],
      "id": "3ba91617-6060-4849-b53f-2d7f63a3ca39"
    },
    {
      "cell_type": "code",
      "execution_count": null,
      "metadata": {},
      "outputs": [
        {
          "output_type": "stream",
          "name": "stdout",
          "text": [
            "[1] 7"
          ]
        }
      ],
      "source": [
        "3+4"
      ],
      "id": "a9c036a8-8faf-4540-ac39-2b864861d4c7"
    },
    {
      "cell_type": "markdown",
      "metadata": {},
      "source": [
        "Multiplication:"
      ],
      "id": "23d405f2-d5a6-43a7-bb6d-ea10cec3b888"
    },
    {
      "cell_type": "code",
      "execution_count": null,
      "metadata": {},
      "outputs": [
        {
          "output_type": "stream",
          "name": "stdout",
          "text": [
            "[1] 12"
          ]
        }
      ],
      "source": [
        "3*4"
      ],
      "id": "c804bff7-1a42-4a3b-8c49-44f819c47fcb"
    },
    {
      "cell_type": "markdown",
      "metadata": {},
      "source": [
        "Subtraction:"
      ],
      "id": "bafc6a44-de66-43f1-9270-9d6f1f50304c"
    },
    {
      "cell_type": "code",
      "execution_count": null,
      "metadata": {},
      "outputs": [
        {
          "output_type": "stream",
          "name": "stdout",
          "text": [
            "[1] -1"
          ]
        }
      ],
      "source": [
        "3-4"
      ],
      "id": "ebbb40f5-fa16-4e29-bad3-7da32c33b5a1"
    },
    {
      "cell_type": "markdown",
      "metadata": {},
      "source": [
        "Division:"
      ],
      "id": "1bd2b8a9-eea8-41a2-b19c-86913fb1cb7a"
    },
    {
      "cell_type": "code",
      "execution_count": null,
      "metadata": {},
      "outputs": [
        {
          "output_type": "stream",
          "name": "stdout",
          "text": [
            "[1] 0.75"
          ]
        }
      ],
      "source": [
        "3/4"
      ],
      "id": "847b3274-c920-4cb6-9f59-619c8c230796"
    },
    {
      "cell_type": "markdown",
      "metadata": {},
      "source": [
        "Exponents:"
      ],
      "id": "dca7926f-7f2e-47cf-9ed4-9a85a0190985"
    },
    {
      "cell_type": "code",
      "execution_count": null,
      "metadata": {},
      "outputs": [
        {
          "output_type": "stream",
          "name": "stdout",
          "text": [
            "[1] 100"
          ]
        }
      ],
      "source": [
        "10^2"
      ],
      "id": "c4247264-e8cf-4cee-a654-47c522fcf167"
    },
    {
      "cell_type": "markdown",
      "metadata": {},
      "source": [
        "Remember $10^2=10(10)=100$"
      ],
      "id": "a13e9672-bbe0-4028-ba8e-dbf1cb1b776b"
    },
    {
      "cell_type": "code",
      "execution_count": null,
      "metadata": {},
      "outputs": [
        {
          "output_type": "stream",
          "name": "stdout",
          "text": [
            "[1] 81"
          ]
        }
      ],
      "source": [
        "3^4"
      ],
      "id": "dca0c3a6-52ed-4ee5-9070-3108b0d7703a"
    },
    {
      "cell_type": "markdown",
      "metadata": {},
      "source": [
        "This is 3 raised to the power 4. Remember $3^4=(3)(3)(3)(3)=81$"
      ],
      "id": "98cc3c94-731c-44fb-8bc6-188656df2042"
    },
    {
      "cell_type": "code",
      "execution_count": null,
      "metadata": {},
      "outputs": [
        {
          "output_type": "stream",
          "name": "stdout",
          "text": [
            "[1] 81"
          ]
        }
      ],
      "source": [
        "3*3*3*3"
      ],
      "id": "5cdda1a7-5a5f-42db-9040-27a376550701"
    },
    {
      "cell_type": "markdown",
      "metadata": {},
      "source": [
        "You can call functions, like taking a square root.\n",
        "\n",
        "`sqrt(16)` means the same as:\n",
        "\n",
        "$$ \\sqrt{ 16 } $$\n",
        "\n",
        "which we know is just 4."
      ],
      "id": "a52030d2-8d80-442d-b609-111e93f50b2f"
    },
    {
      "cell_type": "code",
      "execution_count": null,
      "metadata": {},
      "outputs": [
        {
          "output_type": "stream",
          "name": "stdout",
          "text": [
            "[1] 4"
          ]
        }
      ],
      "source": [
        "sqrt(16)"
      ],
      "id": "ae627c0f-79c8-46bf-afab-14d906b37c18"
    },
    {
      "cell_type": "markdown",
      "metadata": {},
      "source": [
        "Square root works for any non-negative number:"
      ],
      "id": "cf1210c7-9a9b-48bc-9a70-8ad125599fae"
    },
    {
      "cell_type": "code",
      "execution_count": null,
      "metadata": {},
      "outputs": [
        {
          "output_type": "stream",
          "name": "stdout",
          "text": [
            "[1] 1.414214"
          ]
        }
      ],
      "source": [
        "sqrt(2)"
      ],
      "id": "6d7d3b04-1b74-471b-89d4-e4120a9f9fe4"
    },
    {
      "cell_type": "markdown",
      "metadata": {},
      "source": [
        "What happens if we try to make R take the square root of a negative\n",
        "number?"
      ],
      "id": "47cc5408-0b5a-4123-87ec-dacf83606bae"
    },
    {
      "cell_type": "code",
      "execution_count": null,
      "metadata": {},
      "outputs": [
        {
          "output_type": "stream",
          "name": "stderr",
          "text": [
            "Warning in sqrt(-25): NaNs produced"
          ]
        },
        {
          "output_type": "stream",
          "name": "stdout",
          "text": [
            "[1] NaN"
          ]
        }
      ],
      "source": [
        "sqrt(-25)"
      ],
      "id": "7449a499-80db-4a70-b031-2cc033ead108"
    },
    {
      "cell_type": "markdown",
      "metadata": {},
      "source": [
        "It gives us a warning. `NaNs produced`. NaN stands for “Not a Number”,\n",
        "so this is telling us that R does not know how to do this. The answer is\n",
        "not a number. Usually this is a sign of a mistake we have made entering\n",
        "in what we passed to the `sqrt` function.\n",
        "\n",
        "You can call the round function:"
      ],
      "id": "22f59eea-cfe6-45f2-a889-90bdd323d3ef"
    },
    {
      "cell_type": "code",
      "execution_count": null,
      "metadata": {},
      "outputs": [
        {
          "output_type": "stream",
          "name": "stdout",
          "text": [
            "[1] 6"
          ]
        }
      ],
      "source": [
        "round(6.3)"
      ],
      "id": "dc154f66-6f38-4c83-bfc1-b2a600eab3e3"
    },
    {
      "cell_type": "markdown",
      "metadata": {},
      "source": [
        "You can call the ceiling function, what do you think this does?"
      ],
      "id": "d17aa176-2d54-4811-8fa8-4ca95d4f837d"
    },
    {
      "cell_type": "code",
      "execution_count": null,
      "metadata": {},
      "outputs": [
        {
          "output_type": "stream",
          "name": "stdout",
          "text": [
            "[1] 7"
          ]
        }
      ],
      "source": [
        "ceiling(6.3)"
      ],
      "id": "4c245540-be7d-4764-b347-b0b39f1cba8c"
    },
    {
      "cell_type": "markdown",
      "metadata": {},
      "source": [
        "You can call the floor function, what does this do?"
      ],
      "id": "9780ef85-c682-4cc1-aca7-d7b3a63a99a6"
    },
    {
      "cell_type": "code",
      "execution_count": null,
      "metadata": {},
      "outputs": [
        {
          "output_type": "stream",
          "name": "stdout",
          "text": [
            "[1] 6"
          ]
        }
      ],
      "source": [
        "floor(6.8)"
      ],
      "id": "8d2de59a-7633-40cc-acdd-a0b79e6804a1"
    },
    {
      "cell_type": "markdown",
      "metadata": {},
      "source": [
        "R knows about the number $\\pi$ as well. It is built in:"
      ],
      "id": "9048c536-2aaf-4b95-b9dd-7c8f769d3e96"
    },
    {
      "cell_type": "code",
      "execution_count": null,
      "metadata": {},
      "outputs": [
        {
          "output_type": "stream",
          "name": "stdout",
          "text": [
            "[1] 3.141593"
          ]
        }
      ],
      "source": [
        "pi"
      ],
      "id": "bfbe6e8d-e58b-4665-81c1-46c200e6a62f"
    },
    {
      "cell_type": "markdown",
      "metadata": {},
      "source": [
        "R has a remainder function. This just gives the remainder of $17/5$,\n",
        "which is $2$ since $17/5=3$ with remainder 2:"
      ],
      "id": "bed9ff9a-4ff5-484d-b9f2-6411c1dd231e"
    },
    {
      "cell_type": "code",
      "execution_count": null,
      "metadata": {},
      "outputs": [
        {
          "output_type": "stream",
          "name": "stdout",
          "text": [
            "[1] 2"
          ]
        }
      ],
      "source": [
        "17%%5"
      ],
      "id": "6494c39a-63d4-471d-a3cd-00eac1b4d317"
    },
    {
      "cell_type": "markdown",
      "metadata": {},
      "source": [
        "This log gives us a number so that when 10 is raised to that number we\n",
        "get 1000. So $10^3 = 1000$, which we know is true.\n",
        "\n",
        "Just to prove this let’s raise 10 to that power:"
      ],
      "id": "a40a8495-38bc-425a-b0ba-835fc8958e94"
    },
    {
      "cell_type": "code",
      "execution_count": null,
      "metadata": {},
      "outputs": [
        {
          "output_type": "stream",
          "name": "stdout",
          "text": [
            "[1] 1000"
          ]
        }
      ],
      "source": [
        "10^(3)"
      ],
      "id": "2fed2a72-9d1a-4b11-a8bc-a3966e6fea97"
    },
    {
      "cell_type": "markdown",
      "metadata": {},
      "source": [
        "Order of operations"
      ],
      "id": "c83a27fd-9398-4441-8f29-c1f8d258115f"
    },
    {
      "cell_type": "code",
      "execution_count": null,
      "metadata": {},
      "outputs": [
        {
          "output_type": "stream",
          "name": "stdout",
          "text": [
            "[1] 14"
          ]
        }
      ],
      "source": [
        "2+3*4"
      ],
      "id": "89647d18-40dd-45fe-8a44-a1514465ef4f"
    },
    {
      "cell_type": "markdown",
      "metadata": {},
      "source": [
        "Just like we were taught for PEMDAS, it does the multiplication first,\n",
        "then the addition. This is sort of like there are parentheses around the\n",
        "multiplication:"
      ],
      "id": "e9622ed3-4832-4b47-8205-e717623c086c"
    },
    {
      "cell_type": "code",
      "execution_count": null,
      "metadata": {},
      "outputs": [
        {
          "output_type": "stream",
          "name": "stdout",
          "text": [
            "[1] 14"
          ]
        }
      ],
      "source": [
        "2+(3*4)"
      ],
      "id": "2d5acc74-0c16-4240-b647-b8563bb01a17"
    },
    {
      "cell_type": "markdown",
      "metadata": {},
      "source": [
        "If we want to make R do the addition first we can. We have to tell it to\n",
        "do that first using parentheses"
      ],
      "id": "967a7c0e-947c-4bee-90b9-ade32bfb91c0"
    },
    {
      "cell_type": "code",
      "execution_count": null,
      "metadata": {},
      "outputs": [
        {
          "output_type": "stream",
          "name": "stdout",
          "text": [
            "[1] 20"
          ]
        }
      ],
      "source": [
        "(2+3)*4"
      ],
      "id": "dc60555b-5780-4fcb-89b6-aed5627b080f"
    }
  ],
  "nbformat": 4,
  "nbformat_minor": 5,
  "metadata": {
    "kernelspec": {
      "name": "ir",
      "display_name": "R",
      "language": "R"
    }
  }
}