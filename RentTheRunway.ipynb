{
 "cells": [
  {
   "cell_type": "code",
   "execution_count": null,
   "metadata": {},
   "outputs": [],
   "source": [
    "options(\"scipen\"=100, \"digits\"=4)"
   ]
  },
  {
   "cell_type": "markdown",
   "metadata": {},
   "source": [
    "Do you think we can predict the rental price at Rent the Runway of\n",
    "something if we know the retail price?\n",
    "\n",
    "Below is some current values for the retail and rental prices for\n",
    "one-time rentals from Rent The Runway:"
   ]
  },
  {
   "cell_type": "code",
   "execution_count": null,
   "metadata": {},
   "outputs": [],
   "source": [
    "retail <- c(150,375,550,210,850,550,698,430,495,495,695,248,550,495,370,595,425,750,248,498,456,198,228,178,795,625,185,545,405,345,485,165,230,169,695)\n",
    "rental<- c(30,45,85,30,125,70,90,55,65,75,105,30,95,80,55,90,85,125,30,75,70,30,30,30,120,105,30,80,45,45,55,30,30,30,120)"
   ]
  },
  {
   "cell_type": "markdown",
   "metadata": {},
   "source": [
    "Let’s create a data frame using the two vectors above, so the `squareFt`\n",
    "is the 1st column and the `sales` is the second column"
   ]
  },
  {
   "cell_type": "code",
   "execution_count": null,
   "metadata": {},
   "outputs": [],
   "source": [
    "df<-data.frame(retail, rental)\n",
    "print(df)"
   ]
  },
  {
   "cell_type": "markdown",
   "metadata": {},
   "source": [
    "Lets look at a plot:"
   ]
  },
  {
   "cell_type": "code",
   "execution_count": null,
   "metadata": {},
   "outputs": [],
   "source": [
    "plot(df, main=\"Rental vs Retail at RentTheRunway\", xlab=\"Retail\", ylab=\"Rental\", pch=19)"
   ]
  },
  {
   "cell_type": "markdown",
   "metadata": {},
   "source": [
    "It looks like we should exclude the data values when the retail is below\n",
    "300 since they are all just going to be 30 dollars. We can do that with\n",
    "some subsetting:"
   ]
  },
  {
   "cell_type": "code",
   "execution_count": null,
   "metadata": {},
   "outputs": [],
   "source": [
    "rental <- rental[retail > 300]\n",
    "retail <- retail[retail > 300]"
   ]
  },
  {
   "cell_type": "markdown",
   "metadata": {},
   "source": [
    "Now lets redefine our data frame with the new data and check it:"
   ]
  },
  {
   "cell_type": "code",
   "execution_count": null,
   "metadata": {},
   "outputs": [],
   "source": [
    "df<-data.frame(retail, rental)\n",
    "print(df)"
   ]
  },
  {
   "cell_type": "markdown",
   "metadata": {},
   "source": [
    "This looks better, lets see the scatterplot again:"
   ]
  },
  {
   "cell_type": "code",
   "execution_count": null,
   "metadata": {},
   "outputs": [],
   "source": [
    "plot(df, main=\"Rental vs Retail at RentTheRunway\", xlab=\"Retail\", ylab=\"Rental\", pch=19)"
   ]
  },
  {
   "cell_type": "markdown",
   "metadata": {},
   "source": [
    "Lets run our model:"
   ]
  },
  {
   "cell_type": "code",
   "execution_count": null,
   "metadata": {},
   "outputs": [],
   "source": [
    "model = lm(rental~retail, data=df)\n",
    "summary(model)"
   ]
  },
  {
   "cell_type": "markdown",
   "metadata": {},
   "source": [
    "Test for significant linear relationship:\n",
    "\n",
    "$$ \\text{p-value} = 0.000000000217 $$\n",
    "\n",
    "The regression equation is this:\n",
    "\n",
    "$$ rental = 0.1689(retail) - 11.0351  $$\n",
    "\n",
    "The standard error is:\n",
    "\n",
    "$$ \\text{standard error} = 10.2 $$"
   ]
  },
  {
   "cell_type": "code",
   "execution_count": null,
   "metadata": {},
   "outputs": [],
   "source": [
    "plot(df, main=\"Rental vs Retail at RentTheRunway\", xlab=\"Retail\", ylab=\"Rental\", pch=19)\n",
    "abline(model)"
   ]
  },
  {
   "cell_type": "markdown",
   "metadata": {},
   "source": [
    "Suppose we want to do some predictions for retail equal to 400, 900 and\n",
    "350."
   ]
  },
  {
   "cell_type": "code",
   "execution_count": null,
   "metadata": {},
   "outputs": [],
   "source": [
    "xvalues = data.frame(retail=c(400,900,350))\n",
    "yvalues<-predict(model, xvalues)\n",
    "xvalues\n",
    "yvalues"
   ]
  },
  {
   "cell_type": "markdown",
   "metadata": {},
   "source": [
    "Our model shows:\n",
    "\n",
    "-   a dress that retails for 400 should rent for 57\n",
    "-   a dress that retails for 900 should rent for 141\n",
    "-   a dress that retails for 350 should rent for 48"
   ]
  }
 ],
 "nbformat": 4,
 "nbformat_minor": 5,
 "metadata": {
  "kernelspec": {
   "name": "ir",
   "display_name": "R",
   "language": "R"
  }
 }
}
