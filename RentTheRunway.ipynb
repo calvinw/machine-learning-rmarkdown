{
  "cells": [
    {
      "cell_type": "markdown",
      "metadata": {},
      "source": [
        "# Rent The Runway"
      ],
      "id": "a797bf31-6005-4c39-8fdb-e5f848cf0467"
    },
    {
      "cell_type": "code",
      "execution_count": null,
      "metadata": {},
      "outputs": [],
      "source": [
        "options(\"scipen\"=100, \"digits\"=4)"
      ],
      "id": "29092ca0-12f2-4265-aaf3-c59247c27b9e"
    },
    {
      "cell_type": "markdown",
      "metadata": {},
      "source": [
        "Do you think we can predict the rental price at Rent the Runway of\n",
        "something if we know the retail price?\n",
        "\n",
        "Below is some current values for the retail and rental prices for\n",
        "one-time rentals from Rent The Runway:"
      ],
      "id": "bb1935a0-afc8-42f4-b8f1-46b03d297d32"
    },
    {
      "cell_type": "code",
      "execution_count": null,
      "metadata": {},
      "outputs": [],
      "source": [
        "retail <- c(150,375,550,210,850,550,698,430,495,495,695,248,550,495,370,595,425,750,248,498,456,198,228,178,795,625,185,545,405,345,485,165,230,169,695)\n",
        "rental<- c(30,45,85,30,125,70,90,55,65,75,105,30,95,80,55,90,85,125,30,75,70,30,30,30,120,105,30,80,45,45,55,30,30,30,120)"
      ],
      "id": "2cd1e4cd-0e6a-47be-9f27-c2960e7a3764"
    },
    {
      "cell_type": "markdown",
      "metadata": {},
      "source": [
        "Let’s create a data frame using the two vectors above, so the `squareFt`\n",
        "is the 1st column and the `sales` is the second column"
      ],
      "id": "26d83039-76a7-4ed5-b62b-0b923b6e5fb4"
    },
    {
      "cell_type": "code",
      "execution_count": null,
      "metadata": {},
      "outputs": [
        {
          "output_type": "stream",
          "name": "stdout",
          "text": [
            "   retail rental\n",
            "1     150     30\n",
            "2     375     45\n",
            "3     550     85\n",
            "4     210     30\n",
            "5     850    125\n",
            "6     550     70\n",
            "7     698     90\n",
            "8     430     55\n",
            "9     495     65\n",
            "10    495     75\n",
            "11    695    105\n",
            "12    248     30\n",
            "13    550     95\n",
            "14    495     80\n",
            "15    370     55\n",
            "16    595     90\n",
            "17    425     85\n",
            "18    750    125\n",
            "19    248     30\n",
            "20    498     75\n",
            "21    456     70\n",
            "22    198     30\n",
            "23    228     30\n",
            "24    178     30\n",
            "25    795    120\n",
            "26    625    105\n",
            "27    185     30\n",
            "28    545     80\n",
            "29    405     45\n",
            "30    345     45\n",
            "31    485     55\n",
            "32    165     30\n",
            "33    230     30\n",
            "34    169     30\n",
            "35    695    120"
          ]
        }
      ],
      "source": [
        "df<-data.frame(retail, rental)\n",
        "print(df)"
      ],
      "id": "e472c5e1-0f63-4c10-9b07-909f890078bc"
    },
    {
      "cell_type": "markdown",
      "metadata": {},
      "source": [
        "Lets look at a plot:"
      ],
      "id": "e8aaa7c7-35fe-4307-8c9d-e38d1cee0b49"
    },
    {
      "cell_type": "code",
      "execution_count": null,
      "metadata": {},
      "outputs": [
        {
          "output_type": "display_data",
          "metadata": {},
          "data": {
            "image/png": "[encoded data removed]"
          }
        }
      ],
      "source": [
        "plot(df, main=\"Rental vs Retail at RentTheRunway\", xlab=\"Retail\", ylab=\"Rental\", pch=19)"
      ],
      "id": "98fbd365-5d0f-4569-88ab-d69f6f3f1e47"
    },
    {
      "cell_type": "markdown",
      "metadata": {},
      "source": [
        "It looks like we should exclude the data values when the retail is below\n",
        "300 since they are all just going to be 30 dollars. We can do that with\n",
        "some subsetting:"
      ],
      "id": "0f715de2-e73b-45f9-bfd7-af1951eee964"
    },
    {
      "cell_type": "code",
      "execution_count": null,
      "metadata": {},
      "outputs": [],
      "source": [
        "rental <- rental[retail > 300]\n",
        "retail <- retail[retail > 300]"
      ],
      "id": "7c4c63f5-9606-44e9-9330-4ea6f9fa6a89"
    },
    {
      "cell_type": "markdown",
      "metadata": {},
      "source": [
        "Now lets redefine our data frame with the new data and check it:"
      ],
      "id": "7ce2c15c-c3e3-4653-8c79-def0d9dc8b91"
    },
    {
      "cell_type": "code",
      "execution_count": null,
      "metadata": {},
      "outputs": [
        {
          "output_type": "stream",
          "name": "stdout",
          "text": [
            "   retail rental\n",
            "1     375     45\n",
            "2     550     85\n",
            "3     850    125\n",
            "4     550     70\n",
            "5     698     90\n",
            "6     430     55\n",
            "7     495     65\n",
            "8     495     75\n",
            "9     695    105\n",
            "10    550     95\n",
            "11    495     80\n",
            "12    370     55\n",
            "13    595     90\n",
            "14    425     85\n",
            "15    750    125\n",
            "16    498     75\n",
            "17    456     70\n",
            "18    795    120\n",
            "19    625    105\n",
            "20    545     80\n",
            "21    405     45\n",
            "22    345     45\n",
            "23    485     55\n",
            "24    695    120"
          ]
        }
      ],
      "source": [
        "df<-data.frame(retail, rental)\n",
        "print(df)"
      ],
      "id": "1eb55f75-0479-40e7-8cd5-83a5b1faf53d"
    },
    {
      "cell_type": "markdown",
      "metadata": {},
      "source": [
        "This looks better, lets see the scatterplot again:"
      ],
      "id": "abaa7bab-9b99-4440-b0a4-15f0dcc149f3"
    },
    {
      "cell_type": "code",
      "execution_count": null,
      "metadata": {},
      "outputs": [
        {
          "output_type": "display_data",
          "metadata": {},
          "data": {
            "image/png": "[encoded data removed]"
          }
        }
      ],
      "source": [
        "plot(df, main=\"Rental vs Retail at RentTheRunway\", xlab=\"Retail\", ylab=\"Rental\", pch=19)"
      ],
      "id": "ecc2ff40-5210-464c-908d-60c7157cb131"
    },
    {
      "cell_type": "markdown",
      "metadata": {},
      "source": [
        "Lets run our model:"
      ],
      "id": "7156206f-74d0-4119-bcff-b8c162b7bb0c"
    },
    {
      "cell_type": "code",
      "execution_count": null,
      "metadata": {},
      "outputs": [
        {
          "output_type": "stream",
          "name": "stdout",
          "text": [
            "\n",
            "Call:\n",
            "lm(formula = rental ~ retail, data = df)\n",
            "\n",
            "Residuals:\n",
            "    Min      1Q  Median      3Q     Max \n",
            "-16.862  -7.363  -0.242   4.867  24.250 \n",
            "\n",
            "Coefficients:\n",
            "            Estimate Std. Error t value      Pr(>|t|)    \n",
            "(Intercept) -11.0351     8.7035   -1.27          0.22    \n",
            "retail        0.1689     0.0154   10.97 0.00000000022 ***\n",
            "---\n",
            "Signif. codes:  0 '***' 0.001 '**' 0.01 '*' 0.05 '.' 0.1 ' ' 1\n",
            "\n",
            "Residual standard error: 10.2 on 22 degrees of freedom\n",
            "Multiple R-squared:  0.845, Adjusted R-squared:  0.838 \n",
            "F-statistic:  120 on 1 and 22 DF,  p-value: 0.000000000217"
          ]
        }
      ],
      "source": [
        "model = lm(rental~retail, data=df)\n",
        "summary(model)"
      ],
      "id": "6d3b81f0-0b16-4d01-9695-c2daf6175502"
    },
    {
      "cell_type": "markdown",
      "metadata": {},
      "source": [
        "Test for significant linear relationship:\n",
        "\n",
        "$$ \\text{p-value} = 0.000000000217 $$\n",
        "\n",
        "The regression equation is this:\n",
        "\n",
        "$$ rental = 0.1689(retail) - 11.0351  $$\n",
        "\n",
        "The standard error is:\n",
        "\n",
        "$$ \\text{standard error} = 10.2 $$"
      ],
      "id": "7e5081ee-9562-40af-9891-41e268a28b40"
    },
    {
      "cell_type": "code",
      "execution_count": null,
      "metadata": {},
      "outputs": [
        {
          "output_type": "display_data",
          "metadata": {},
          "data": {
            "image/png": "[encoded data removed]"
          }
        }
      ],
      "source": [
        "plot(df, main=\"Rental vs Retail at RentTheRunway\", xlab=\"Retail\", ylab=\"Rental\", pch=19)\n",
        "abline(model)"
      ],
      "id": "266541a0-ec56-4c1e-a7de-d0fb502a0472"
    },
    {
      "cell_type": "markdown",
      "metadata": {},
      "source": [
        "Suppose we want to do some predictions for retail equal to 400, 900 and\n",
        "350."
      ],
      "id": "2783fc36-61f4-471a-acc4-8d3012c57460"
    },
    {
      "cell_type": "code",
      "execution_count": null,
      "metadata": {},
      "outputs": [
        {
          "output_type": "stream",
          "name": "stdout",
          "text": [
            "  retail\n",
            "1    400\n",
            "2    900\n",
            "3    350"
          ]
        },
        {
          "output_type": "stream",
          "name": "stdout",
          "text": [
            "     1      2      3 \n",
            " 56.53 140.98  48.08 "
          ]
        }
      ],
      "source": [
        "xvalues = data.frame(retail=c(400,900,350))\n",
        "yvalues<-predict(model, xvalues)\n",
        "xvalues"
      ],
      "id": "db263f38-7156-4bd8-9448-c76f3a3becd9"
    },
    {
      "cell_type": "markdown",
      "metadata": {},
      "source": [
        "Our model shows:\n",
        "\n",
        "-   a dress that retails for 400 should rent for 57\n",
        "-   a dress that retails for 900 should rent for 141\n",
        "-   a dress that retails for 350 should rent for 48"
      ],
      "id": "d4515549-c984-40be-af4b-9723e32fbd62"
    }
  ],
  "nbformat": 4,
  "nbformat_minor": 5,
  "metadata": {
    "kernelspec": {
      "name": "ir",
      "display_name": "R",
      "language": "R"
    }
  }
}