{
  "cells": [
    {
      "cell_type": "markdown",
      "metadata": {},
      "source": [
        "# Rvest how to"
      ],
      "id": "994198ce-bfee-456d-a9b0-5ff953a3ad21"
    },
    {
      "cell_type": "code",
      "execution_count": null,
      "metadata": {},
      "outputs": [],
      "source": [
        "if (!require(\"rvest\")) install.packages(\"rvest\")\n",
        "library(\"rvest\")"
      ],
      "id": "83a98a31-6e1a-4164-a35e-1d695583f564"
    },
    {
      "cell_type": "markdown",
      "metadata": {},
      "source": [
        "We are going to read in a page at <http://quotes.toscrape.com/> and get\n",
        "the items on it:"
      ],
      "id": "457d983b-e410-4457-89b7-01ae16c7fff5"
    },
    {
      "cell_type": "code",
      "execution_count": null,
      "metadata": {},
      "outputs": [],
      "source": [
        "url<-\"http://quotes.toscrape.com/\"\n",
        "webpage <- read_html(url)"
      ],
      "id": "7e3cd18b-28f5-4742-9f04-80d44437e7e8"
    },
    {
      "cell_type": "markdown",
      "metadata": {},
      "source": [
        "Use the selectorgadget to select the quotes on the page:"
      ],
      "id": "6459c061-fb64-444a-8b4e-4f30dc6dca3d"
    },
    {
      "cell_type": "code",
      "execution_count": null,
      "metadata": {},
      "outputs": [
        {
          "output_type": "stream",
          "name": "stdout",
          "text": [
            " chr [1:10] \"“The world as we have created it is a process of our thinking. It cannot be changed without changing our thinking.”\" ..."
          ]
        }
      ],
      "source": [
        "nodes <- html_nodes(webpage, \".text\")\n",
        "quotes <- html_text(nodes)\n",
        "str(quotes)"
      ],
      "id": "7eec6d4d-06f5-4f4c-a25d-0fb84bc494fd"
    },
    {
      "cell_type": "markdown",
      "metadata": {},
      "source": [
        "Lets take a look at the first few values:"
      ],
      "id": "38591dec-a9e4-4d1b-9bd9-0693a05dd79a"
    },
    {
      "cell_type": "code",
      "execution_count": null,
      "metadata": {},
      "outputs": [
        {
          "output_type": "stream",
          "name": "stdout",
          "text": [
            "[1] \"“The world as we have created it is a process of our thinking. It cannot be changed without changing our thinking.”\"                \n",
            "[2] \"“It is our choices, Harry, that show what we truly are, far more than our abilities.”\"                                              \n",
            "[3] \"“There are only two ways to live your life. One is as though nothing is a miracle. The other is as though everything is a miracle.”\"\n",
            "[4] \"“The person, be it gentleman or lady, who has not pleasure in a good novel, must be intolerably stupid.”\"                           \n",
            "[5] \"“Imperfection is beauty, madness is genius and it's better to be absolutely ridiculous than absolutely boring.”\"                    \n",
            "[6] \"“Try not to become a man of success. Rather become a man of value.”\"                                                                "
          ]
        }
      ],
      "source": [
        "head(quotes)"
      ],
      "id": "1fefdef2-4465-4f31-ab35-8c6780f4db37"
    },
    {
      "cell_type": "markdown",
      "metadata": {},
      "source": [
        "Next lets get the authors on the page:"
      ],
      "id": "ce0fc984-bbd3-41d1-8b9b-0a286669ed90"
    },
    {
      "cell_type": "code",
      "execution_count": null,
      "metadata": {},
      "outputs": [
        {
          "output_type": "stream",
          "name": "stdout",
          "text": [
            " chr [1:10] \"Albert Einstein\" \"J.K. Rowling\" \"Albert Einstein\" ..."
          ]
        }
      ],
      "source": [
        "nodes <- html_nodes(webpage, \".author\")\n",
        "author <- html_text(nodes)\n",
        "str(author)"
      ],
      "id": "6187092b-1da3-4125-b902-a25c54086760"
    },
    {
      "cell_type": "markdown",
      "metadata": {},
      "source": [
        "Lets take a look at the first few values:"
      ],
      "id": "b390a5eb-63a2-40f9-b7d8-5ba3c2b2d0ea"
    },
    {
      "cell_type": "code",
      "execution_count": null,
      "metadata": {},
      "outputs": [
        {
          "output_type": "stream",
          "name": "stdout",
          "text": [
            "[1] \"Albert Einstein\" \"J.K. Rowling\"    \"Albert Einstein\" \"Jane Austen\"    \n",
            "[5] \"Marilyn Monroe\"  \"Albert Einstein\""
          ]
        }
      ],
      "source": [
        "head(author)"
      ],
      "id": "93269809-2529-4eba-8758-0b8048864e42"
    },
    {
      "cell_type": "markdown",
      "metadata": {},
      "source": [
        "Lets make a dataframe with these columns:"
      ],
      "id": "030b2896-a6d4-4a08-9a49-38fc79482b6b"
    },
    {
      "cell_type": "code",
      "execution_count": null,
      "metadata": {},
      "outputs": [
        {
          "output_type": "stream",
          "name": "stdout",
          "text": [
            "              author\n",
            "1    Albert Einstein\n",
            "2       J.K. Rowling\n",
            "3    Albert Einstein\n",
            "4        Jane Austen\n",
            "5     Marilyn Monroe\n",
            "6    Albert Einstein\n",
            "7         André Gide\n",
            "8   Thomas A. Edison\n",
            "9  Eleanor Roosevelt\n",
            "10      Steve Martin\n",
            "                                                                                                                                quotes\n",
            "1                  “The world as we have created it is a process of our thinking. It cannot be changed without changing our thinking.”\n",
            "2                                                “It is our choices, Harry, that show what we truly are, far more than our abilities.”\n",
            "3  “There are only two ways to live your life. One is as though nothing is a miracle. The other is as though everything is a miracle.”\n",
            "4                             “The person, be it gentleman or lady, who has not pleasure in a good novel, must be intolerably stupid.”\n",
            "5                      “Imperfection is beauty, madness is genius and it's better to be absolutely ridiculous than absolutely boring.”\n",
            "6                                                                  “Try not to become a man of success. Rather become a man of value.”\n",
            "7                                                   “It is better to be hated for what you are than to be loved for what you are not.”\n",
            "8                                                                    “I have not failed. I've just found 10,000 ways that won't work.”\n",
            "9                                                “A woman is like a tea bag; you never know how strong it is until it's in hot water.”\n",
            "10                                                                                  “A day without sunshine is like, you know, night.”"
          ]
        }
      ],
      "source": [
        "df<-data.frame(author,quotes)\n",
        "print(df)"
      ],
      "id": "383347d8-47ea-4416-9612-b6f9f933aae2"
    },
    {
      "cell_type": "code",
      "execution_count": null,
      "metadata": {},
      "outputs": [
        {
          "output_type": "stream",
          "name": "stdout",
          "text": [
            " chr [1:10] \"Tags:\\n            change\\n            \\n            deep-thoughts\\n            \\n            thinking\\n       \"| __truncated__ ..."
          ]
        }
      ],
      "source": [
        "nodes <- html_nodes(webpage, \".tags\")\n",
        "tags <- html_text(nodes)\n",
        "tags<-trimws(tags)\n",
        "str(tags)"
      ],
      "id": "001ab185-290f-4675-8b65-e8597cf14e3c"
    },
    {
      "cell_type": "markdown",
      "metadata": {},
      "source": [
        "Lets take a look at the first few values:"
      ],
      "id": "52fbea4c-9ba1-4df3-a49e-f1a2a25db81c"
    },
    {
      "cell_type": "code",
      "execution_count": null,
      "metadata": {},
      "outputs": [
        {
          "output_type": "stream",
          "name": "stdout",
          "text": [
            "[1] \"Tags:\\n            change\\n            \\n            deep-thoughts\\n            \\n            thinking\\n            \\n            world\"                                \n",
            "[2] \"Tags:\\n            abilities\\n            \\n            choices\"                                                                                                        \n",
            "[3] \"Tags:\\n            inspirational\\n            \\n            life\\n            \\n            live\\n            \\n            miracle\\n            \\n            miracles\"\n",
            "[4] \"Tags:\\n            aliteracy\\n            \\n            books\\n            \\n            classic\\n            \\n            humor\"                                      \n",
            "[5] \"Tags:\\n            be-yourself\\n            \\n            inspirational\"                                                                                                \n",
            "[6] \"Tags:\\n            adulthood\\n            \\n            success\\n            \\n            value\"                                                                       "
          ]
        }
      ],
      "source": [
        "head(tags)"
      ],
      "id": "a362add7-cb3b-403f-85b6-8f512a7b1a5a"
    },
    {
      "cell_type": "markdown",
      "metadata": {},
      "source": [
        "Lets make a dataframe with these columns:"
      ],
      "id": "35d7e9b4-057d-47e3-bc7f-69816fc57252"
    },
    {
      "cell_type": "code",
      "execution_count": null,
      "metadata": {},
      "outputs": [
        {
          "output_type": "stream",
          "name": "stdout",
          "text": [
            "              author\n",
            "1    Albert Einstein\n",
            "2       J.K. Rowling\n",
            "3    Albert Einstein\n",
            "4        Jane Austen\n",
            "5     Marilyn Monroe\n",
            "6    Albert Einstein\n",
            "7         André Gide\n",
            "8   Thomas A. Edison\n",
            "9  Eleanor Roosevelt\n",
            "10      Steve Martin\n",
            "                                                                                                                                quotes\n",
            "1                  “The world as we have created it is a process of our thinking. It cannot be changed without changing our thinking.”\n",
            "2                                                “It is our choices, Harry, that show what we truly are, far more than our abilities.”\n",
            "3  “There are only two ways to live your life. One is as though nothing is a miracle. The other is as though everything is a miracle.”\n",
            "4                             “The person, be it gentleman or lady, who has not pleasure in a good novel, must be intolerably stupid.”\n",
            "5                      “Imperfection is beauty, madness is genius and it's better to be absolutely ridiculous than absolutely boring.”\n",
            "6                                                                  “Try not to become a man of success. Rather become a man of value.”\n",
            "7                                                   “It is better to be hated for what you are than to be loved for what you are not.”\n",
            "8                                                                    “I have not failed. I've just found 10,000 ways that won't work.”\n",
            "9                                                “A woman is like a tea bag; you never know how strong it is until it's in hot water.”\n",
            "10                                                                                  “A day without sunshine is like, you know, night.”\n",
            "                                                                                                                                                                      tags\n",
            "1                                  Tags:\\n            change\\n            \\n            deep-thoughts\\n            \\n            thinking\\n            \\n            world\n",
            "2                                                                                                          Tags:\\n            abilities\\n            \\n            choices\n",
            "3  Tags:\\n            inspirational\\n            \\n            life\\n            \\n            live\\n            \\n            miracle\\n            \\n            miracles\n",
            "4                                        Tags:\\n            aliteracy\\n            \\n            books\\n            \\n            classic\\n            \\n            humor\n",
            "5                                                                                                  Tags:\\n            be-yourself\\n            \\n            inspirational\n",
            "6                                                                         Tags:\\n            adulthood\\n            \\n            success\\n            \\n            value\n",
            "7                                                                                                                  Tags:\\n            life\\n            \\n            love\n",
            "8                             Tags:\\n            edison\\n            \\n            failure\\n            \\n            inspirational\\n            \\n            paraphrased\n",
            "9                                                                                                                       Tags:\\n            misattributed-eleanor-roosevelt\n",
            "10                                                                           Tags:\\n            humor\\n            \\n            obvious\\n            \\n            simile"
          ]
        }
      ],
      "source": [
        "df<-data.frame(author,quotes, tags)\n",
        "print(df)"
      ],
      "id": "4c15bf2d-c881-4b59-b4bd-50591552b562"
    }
  ],
  "nbformat": 4,
  "nbformat_minor": 5,
  "metadata": {
    "kernelspec": {
      "name": "ir",
      "display_name": "R",
      "language": "R"
    }
  }
}