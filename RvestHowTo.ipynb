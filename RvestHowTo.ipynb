{
  "cells": [
    {
      "cell_type": "markdown",
      "metadata": {},
      "source": [
        "# Rvest how to"
      ],
      "id": "8f60da30-b7c3-4d0f-b8fa-6044cecf7169"
    },
    {
      "cell_type": "code",
      "execution_count": null,
      "metadata": {},
      "outputs": [],
      "source": [
        "if (!require(\"rvest\")) install.packages(\"rvest\")\n",
        "library(\"rvest\")"
      ],
      "id": "7e1560c0-082a-4529-a85d-a8b143d40c88"
    },
    {
      "cell_type": "markdown",
      "metadata": {},
      "source": [
        "We are going to read in a page at <http://quotes.toscrape.com/> and get\n",
        "the items on it:"
      ],
      "id": "54122e97-6033-4ffe-904c-5db181a77316"
    },
    {
      "cell_type": "code",
      "execution_count": null,
      "metadata": {},
      "outputs": [],
      "source": [
        "url<-\"http://quotes.toscrape.com/\"\n",
        "webpage <- read_html(url)"
      ],
      "id": "2a5eb4aa-b4db-470a-b4b2-6bd2cc242dc2"
    },
    {
      "cell_type": "markdown",
      "metadata": {},
      "source": [
        "Use the selectorgadget to select the quotes on the page:"
      ],
      "id": "8e9df35b-bfbf-448c-88d3-51bb38f90eda"
    },
    {
      "cell_type": "code",
      "execution_count": null,
      "metadata": {},
      "outputs": [
        {
          "output_type": "stream",
          "name": "stdout",
          "text": [
            " chr [1:10] \"“The world as we have created it is a process of our thinking. It cannot be changed without changing our thinking.”\" ..."
          ]
        }
      ],
      "source": [
        "nodes <- html_nodes(webpage, \".text\")\n",
        "quotes <- html_text(nodes)\n",
        "str(quotes)"
      ],
      "id": "d859f75e-0bb3-4989-b2f0-29314039cad0"
    },
    {
      "cell_type": "markdown",
      "metadata": {},
      "source": [
        "Lets take a look at the first few values:"
      ],
      "id": "fc62ea01-a992-4787-81de-f83b745665e1"
    },
    {
      "cell_type": "code",
      "execution_count": null,
      "metadata": {},
      "outputs": [
        {
          "output_type": "stream",
          "name": "stdout",
          "text": [
            "[1] \"“The world as we have created it is a process of our thinking. It cannot be changed without changing our thinking.”\"                \n",
            "[2] \"“It is our choices, Harry, that show what we truly are, far more than our abilities.”\"                                              \n",
            "[3] \"“There are only two ways to live your life. One is as though nothing is a miracle. The other is as though everything is a miracle.”\"\n",
            "[4] \"“The person, be it gentleman or lady, who has not pleasure in a good novel, must be intolerably stupid.”\"                           \n",
            "[5] \"“Imperfection is beauty, madness is genius and it's better to be absolutely ridiculous than absolutely boring.”\"                    \n",
            "[6] \"“Try not to become a man of success. Rather become a man of value.”\"                                                                "
          ]
        }
      ],
      "source": [
        "head(quotes)"
      ],
      "id": "3a965b2f-4958-42d2-90e0-275eb6cd892a"
    },
    {
      "cell_type": "markdown",
      "metadata": {},
      "source": [
        "Next lets get the authors on the page:"
      ],
      "id": "343ad150-76e6-47ae-997a-8fd172a98dad"
    },
    {
      "cell_type": "code",
      "execution_count": null,
      "metadata": {},
      "outputs": [
        {
          "output_type": "stream",
          "name": "stdout",
          "text": [
            " chr [1:10] \"Albert Einstein\" \"J.K. Rowling\" \"Albert Einstein\" ..."
          ]
        }
      ],
      "source": [
        "nodes <- html_nodes(webpage, \".author\")\n",
        "author <- html_text(nodes)\n",
        "str(author)"
      ],
      "id": "b4b6b3ab-f58e-44e2-aa5c-f8dbc9228d2f"
    },
    {
      "cell_type": "markdown",
      "metadata": {},
      "source": [
        "Lets take a look at the first few values:"
      ],
      "id": "b3690156-36d0-49be-89bd-c720867878b1"
    },
    {
      "cell_type": "code",
      "execution_count": null,
      "metadata": {},
      "outputs": [
        {
          "output_type": "stream",
          "name": "stdout",
          "text": [
            "[1] \"Albert Einstein\" \"J.K. Rowling\"    \"Albert Einstein\" \"Jane Austen\"    \n",
            "[5] \"Marilyn Monroe\"  \"Albert Einstein\""
          ]
        }
      ],
      "source": [
        "head(author)"
      ],
      "id": "ecafcc38-5643-477e-9fdd-81ce4f6e8f9f"
    },
    {
      "cell_type": "markdown",
      "metadata": {},
      "source": [
        "Lets make a dataframe with these columns:"
      ],
      "id": "2d72ecb0-792e-48f6-ba04-442c3d8514df"
    },
    {
      "cell_type": "code",
      "execution_count": null,
      "metadata": {},
      "outputs": [
        {
          "output_type": "stream",
          "name": "stdout",
          "text": [
            "              author\n",
            "1    Albert Einstein\n",
            "2       J.K. Rowling\n",
            "3    Albert Einstein\n",
            "4        Jane Austen\n",
            "5     Marilyn Monroe\n",
            "6    Albert Einstein\n",
            "7         André Gide\n",
            "8   Thomas A. Edison\n",
            "9  Eleanor Roosevelt\n",
            "10      Steve Martin\n",
            "                                                                                                                                quotes\n",
            "1                  “The world as we have created it is a process of our thinking. It cannot be changed without changing our thinking.”\n",
            "2                                                “It is our choices, Harry, that show what we truly are, far more than our abilities.”\n",
            "3  “There are only two ways to live your life. One is as though nothing is a miracle. The other is as though everything is a miracle.”\n",
            "4                             “The person, be it gentleman or lady, who has not pleasure in a good novel, must be intolerably stupid.”\n",
            "5                      “Imperfection is beauty, madness is genius and it's better to be absolutely ridiculous than absolutely boring.”\n",
            "6                                                                  “Try not to become a man of success. Rather become a man of value.”\n",
            "7                                                   “It is better to be hated for what you are than to be loved for what you are not.”\n",
            "8                                                                    “I have not failed. I've just found 10,000 ways that won't work.”\n",
            "9                                                “A woman is like a tea bag; you never know how strong it is until it's in hot water.”\n",
            "10                                                                                  “A day without sunshine is like, you know, night.”"
          ]
        }
      ],
      "source": [
        "df<-data.frame(author,quotes)\n",
        "print(df)"
      ],
      "id": "273231ee-0b7e-4c2e-8d24-807790b8970b"
    },
    {
      "cell_type": "code",
      "execution_count": null,
      "metadata": {},
      "outputs": [
        {
          "output_type": "stream",
          "name": "stdout",
          "text": [
            " chr [1:10] \"Tags:\\n            change\\n            \\n            deep-thoughts\\n            \\n            thinking\\n       \"| __truncated__ ..."
          ]
        }
      ],
      "source": [
        "nodes <- html_nodes(webpage, \".tags\")\n",
        "tags <- html_text(nodes)\n",
        "tags<-trimws(tags)\n",
        "str(tags)"
      ],
      "id": "74f554f4-1b4a-4f28-812c-ce7effdde149"
    },
    {
      "cell_type": "markdown",
      "metadata": {},
      "source": [
        "Lets take a look at the first few values:"
      ],
      "id": "37105035-a034-4ace-9be4-8500f1b66762"
    },
    {
      "cell_type": "code",
      "execution_count": null,
      "metadata": {},
      "outputs": [
        {
          "output_type": "stream",
          "name": "stdout",
          "text": [
            "[1] \"Tags:\\n            change\\n            \\n            deep-thoughts\\n            \\n            thinking\\n            \\n            world\"                                \n",
            "[2] \"Tags:\\n            abilities\\n            \\n            choices\"                                                                                                        \n",
            "[3] \"Tags:\\n            inspirational\\n            \\n            life\\n            \\n            live\\n            \\n            miracle\\n            \\n            miracles\"\n",
            "[4] \"Tags:\\n            aliteracy\\n            \\n            books\\n            \\n            classic\\n            \\n            humor\"                                      \n",
            "[5] \"Tags:\\n            be-yourself\\n            \\n            inspirational\"                                                                                                \n",
            "[6] \"Tags:\\n            adulthood\\n            \\n            success\\n            \\n            value\"                                                                       "
          ]
        }
      ],
      "source": [
        "head(tags)"
      ],
      "id": "00d1d3b4-6b50-4277-9a42-7909bd70266d"
    },
    {
      "cell_type": "markdown",
      "metadata": {},
      "source": [
        "Lets make a dataframe with these columns:"
      ],
      "id": "064b5e1b-f044-4bc2-a8e7-73a4f70947b3"
    },
    {
      "cell_type": "code",
      "execution_count": null,
      "metadata": {},
      "outputs": [
        {
          "output_type": "stream",
          "name": "stdout",
          "text": [
            "              author\n",
            "1    Albert Einstein\n",
            "2       J.K. Rowling\n",
            "3    Albert Einstein\n",
            "4        Jane Austen\n",
            "5     Marilyn Monroe\n",
            "6    Albert Einstein\n",
            "7         André Gide\n",
            "8   Thomas A. Edison\n",
            "9  Eleanor Roosevelt\n",
            "10      Steve Martin\n",
            "                                                                                                                                quotes\n",
            "1                  “The world as we have created it is a process of our thinking. It cannot be changed without changing our thinking.”\n",
            "2                                                “It is our choices, Harry, that show what we truly are, far more than our abilities.”\n",
            "3  “There are only two ways to live your life. One is as though nothing is a miracle. The other is as though everything is a miracle.”\n",
            "4                             “The person, be it gentleman or lady, who has not pleasure in a good novel, must be intolerably stupid.”\n",
            "5                      “Imperfection is beauty, madness is genius and it's better to be absolutely ridiculous than absolutely boring.”\n",
            "6                                                                  “Try not to become a man of success. Rather become a man of value.”\n",
            "7                                                   “It is better to be hated for what you are than to be loved for what you are not.”\n",
            "8                                                                    “I have not failed. I've just found 10,000 ways that won't work.”\n",
            "9                                                “A woman is like a tea bag; you never know how strong it is until it's in hot water.”\n",
            "10                                                                                  “A day without sunshine is like, you know, night.”\n",
            "                                                                                                                                                                      tags\n",
            "1                                  Tags:\\n            change\\n            \\n            deep-thoughts\\n            \\n            thinking\\n            \\n            world\n",
            "2                                                                                                          Tags:\\n            abilities\\n            \\n            choices\n",
            "3  Tags:\\n            inspirational\\n            \\n            life\\n            \\n            live\\n            \\n            miracle\\n            \\n            miracles\n",
            "4                                        Tags:\\n            aliteracy\\n            \\n            books\\n            \\n            classic\\n            \\n            humor\n",
            "5                                                                                                  Tags:\\n            be-yourself\\n            \\n            inspirational\n",
            "6                                                                         Tags:\\n            adulthood\\n            \\n            success\\n            \\n            value\n",
            "7                                                                                                                  Tags:\\n            life\\n            \\n            love\n",
            "8                             Tags:\\n            edison\\n            \\n            failure\\n            \\n            inspirational\\n            \\n            paraphrased\n",
            "9                                                                                                                       Tags:\\n            misattributed-eleanor-roosevelt\n",
            "10                                                                           Tags:\\n            humor\\n            \\n            obvious\\n            \\n            simile"
          ]
        }
      ],
      "source": [
        "df<-data.frame(author,quotes, tags)\n",
        "print(df)"
      ],
      "id": "9ad15570-41bf-403c-a1d0-5a99553f0d3c"
    }
  ],
  "nbformat": 4,
  "nbformat_minor": 5,
  "metadata": {
    "kernelspec": {
      "name": "ir",
      "display_name": "R",
      "language": "R"
    }
  }
}