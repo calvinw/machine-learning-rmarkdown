{
 "cells": [
  {
   "cell_type": "markdown",
   "metadata": {},
   "source": [
    "-   Assign a variable using `myNumeric<-1.2`\n",
    "-   Print out the data type of `myNumeric` using the `class` function"
   ]
  },
  {
   "cell_type": "code",
   "execution_count": null,
   "metadata": {},
   "outputs": [],
   "source": [
    "CODE"
   ]
  },
  {
   "cell_type": "markdown",
   "metadata": {},
   "source": [
    "This should output the class `numeric`\n",
    "\n",
    "-   Use the `is.numeric` function to check if `myNumeric` is a numeric\n",
    "    data type."
   ]
  },
  {
   "cell_type": "code",
   "execution_count": null,
   "metadata": {},
   "outputs": [],
   "source": [
    "CODE"
   ]
  },
  {
   "cell_type": "markdown",
   "metadata": {},
   "source": [
    "The output should be `TRUE` since `myNumeric` is a numeric data type.\n",
    "\n",
    "Lets look at string types\n",
    "\n",
    "-   Assign a variable using `myString<-\"hello\"`\n",
    "-   Print out the data type of `myString` using the `class` function"
   ]
  },
  {
   "cell_type": "code",
   "execution_count": null,
   "metadata": {},
   "outputs": [],
   "source": [
    "CODE"
   ]
  },
  {
   "cell_type": "markdown",
   "metadata": {},
   "source": [
    "The output of this should be `character`\n",
    "\n",
    "-   Use the `is.character` function to check if `myString` is a\n",
    "    character data type"
   ]
  },
  {
   "cell_type": "code",
   "execution_count": null,
   "metadata": {},
   "outputs": [],
   "source": [
    "CODE"
   ]
  },
  {
   "cell_type": "markdown",
   "metadata": {},
   "source": [
    "The output should be `TRUE` since `myString` is a character data type.\n",
    "\n",
    "Lets look at boolean type:\n",
    "\n",
    "-   Assign a variable using `myBoolean<-TRUE`\n",
    "-   Print out the data type of `myBoolean` using the `class` function"
   ]
  },
  {
   "cell_type": "code",
   "execution_count": null,
   "metadata": {},
   "outputs": [],
   "source": [
    "CODE"
   ]
  },
  {
   "cell_type": "markdown",
   "metadata": {},
   "source": [
    "-   Use the `is.logical` function to check the data type of `myBoolean`\n",
    "    from above"
   ]
  },
  {
   "cell_type": "code",
   "execution_count": null,
   "metadata": {},
   "outputs": [],
   "source": [
    "CODE"
   ]
  },
  {
   "cell_type": "markdown",
   "metadata": {},
   "source": [
    "The output should be `TRUE` since `myBoolean` is a boolean data type.\n",
    "\n",
    "One conversion that is freqently used is from at string like “1.23” to a\n",
    "number 1.23.\n",
    "\n",
    "With quotes around it, a number will be seen as a string:\n",
    "\n",
    "-   Define a variable `aString<-\"1.23\"`\n",
    "-   print out whether it is a string using `is.character`\n",
    "-   print out whether it is a numeric using `is.numeric`"
   ]
  },
  {
   "cell_type": "code",
   "execution_count": null,
   "metadata": {},
   "outputs": [],
   "source": [
    "CODE"
   ]
  },
  {
   "cell_type": "markdown",
   "metadata": {},
   "source": [
    "The output of `is.character(aString)` should be `TRUE` since `aString`\n",
    "was a string.\n",
    "\n",
    "The output of `is.numeric(aString)` should be `FALSE` since `aString`\n",
    "was not a numeric.\n",
    "\n",
    "So if we want to change the string “1.23” to a number, we must use\n",
    "`as.numeric` to convert the string to a number:\n",
    "\n",
    "-   Define a variable `aNumber` by using the function `as.numeric` on\n",
    "    `aString`\n",
    "-   print out whether `aNumber` is a numeric using `is.numeric`"
   ]
  },
  {
   "cell_type": "code",
   "execution_count": null,
   "metadata": {},
   "outputs": [],
   "source": [
    "CODE"
   ]
  },
  {
   "cell_type": "markdown",
   "metadata": {},
   "source": [
    "The output of `is.numeric(aNumber)` should be `TRUE` since `aNumber` was\n",
    "a numeric."
   ]
  }
 ],
 "nbformat": 4,
 "nbformat_minor": 5,
 "metadata": {
  "kernelspec": {
   "name": "ir",
   "display_name": "R",
   "language": "R"
  }
 }
}
