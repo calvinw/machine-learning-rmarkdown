{
  "cells": [
    {
      "cell_type": "markdown",
      "metadata": {},
      "source": [
        "# Data Types In Class\n",
        "\n",
        "-   Assign a variable using `myNumeric<-1.2`\n",
        "-   Print out info on `myNumeric` using the `str` function"
      ],
      "id": "39c84371-3c19-4df4-a666-0e4ca5ca9d01"
    },
    {
      "cell_type": "code",
      "execution_count": null,
      "metadata": {},
      "outputs": [],
      "source": [
        "CODE"
      ],
      "id": "848c5237-a94f-4ef4-a762-282ad443f4ca"
    },
    {
      "cell_type": "markdown",
      "metadata": {},
      "source": [
        "This should output the shorthand `num` which means `numeric`\n",
        "\n",
        "-   Use the `is.numeric` function to check if `myNumeric` is a numeric\n",
        "    data type."
      ],
      "id": "ee12cd52-215d-4946-ac1d-729837106fbb"
    },
    {
      "cell_type": "code",
      "execution_count": null,
      "metadata": {},
      "outputs": [],
      "source": [
        "CODE"
      ],
      "id": "c9edddc2-6e51-4a3f-8907-e8ab184220b0"
    },
    {
      "cell_type": "markdown",
      "metadata": {},
      "source": [
        "The output should be `TRUE` since `myNumeric` is a numeric data type.\n",
        "\n",
        "Lets look at string types\n",
        "\n",
        "-   Assign a variable using `myString<-\"hello\"`\n",
        "-   Print out info on `myString` using the `str` function"
      ],
      "id": "aa5a7313-452c-48e4-bd66-50e1444988d8"
    },
    {
      "cell_type": "code",
      "execution_count": null,
      "metadata": {},
      "outputs": [],
      "source": [
        "CODE"
      ],
      "id": "806dd0b3-db50-478d-9637-5b4ce70358d9"
    },
    {
      "cell_type": "markdown",
      "metadata": {},
      "source": [
        "This should output the shorthand `chr` which means `character`\n",
        "\n",
        "-   Use the `is.character` function to check if `myString` is a\n",
        "    character data type"
      ],
      "id": "c55fb392-9054-4ead-9a7c-74d02c4050e0"
    },
    {
      "cell_type": "code",
      "execution_count": null,
      "metadata": {},
      "outputs": [],
      "source": [
        "CODE"
      ],
      "id": "1d9b805b-b193-4b4a-a53d-e5c834935428"
    },
    {
      "cell_type": "markdown",
      "metadata": {},
      "source": [
        "The output should be `TRUE` since `myString` is a character data type."
      ],
      "id": "a0c5613f-79e6-4b1f-9b6c-7418e1a842ab"
    },
    {
      "cell_type": "code",
      "execution_count": null,
      "metadata": {},
      "outputs": [],
      "source": [],
      "id": "6516b085-35f5-4d20-9c53-4e0e2e76f845"
    },
    {
      "cell_type": "markdown",
      "metadata": {},
      "source": [
        "Lets look at boolean type:\n",
        "\n",
        "-   Assign a variable using `myBoolean<-TRUE`\n",
        "-   Print out info on `myBoolean` using the `str` function"
      ],
      "id": "ca69ee58-3ccf-434c-b684-e7eba85cfa94"
    },
    {
      "cell_type": "code",
      "execution_count": null,
      "metadata": {},
      "outputs": [],
      "source": [
        "CODE"
      ],
      "id": "51a90c68-7397-46a8-9649-0827b93dab2b"
    },
    {
      "cell_type": "markdown",
      "metadata": {},
      "source": [
        "This should output the shorthand `logi` which means `logical`, which is\n",
        "the boolean type for R.\n",
        "\n",
        "-   Use the `is.logical` function to check the data type of `myBoolean`\n",
        "    from above"
      ],
      "id": "c4b22b10-f725-4f4c-95e7-00530a9b6589"
    },
    {
      "cell_type": "code",
      "execution_count": null,
      "metadata": {},
      "outputs": [],
      "source": [
        "CODE"
      ],
      "id": "93bd3b5e-c7ef-41c7-83e5-5ced35cb697f"
    },
    {
      "cell_type": "markdown",
      "metadata": {},
      "source": [
        "The output should be `TRUE` since `myBoolean` is a boolean data type.\n",
        "\n",
        "One conversion that is freqently used is from at string like “1.23” to a\n",
        "number 1.23.\n",
        "\n",
        "With quotes around it, a number will be seen as a string:\n",
        "\n",
        "-   Define a variable `aString<-\"1.23\"`\n",
        "-   print out whether it is a string using `is.character`\n",
        "-   print out whether it is a numeric using `is.numeric`"
      ],
      "id": "edbb1012-f675-4bad-bb74-0d6afed245cf"
    },
    {
      "cell_type": "code",
      "execution_count": null,
      "metadata": {},
      "outputs": [],
      "source": [
        "CODE"
      ],
      "id": "38d5b3e8-e417-4a8a-9d71-3c5c9358a37c"
    },
    {
      "cell_type": "markdown",
      "metadata": {},
      "source": [
        "The output of `is.character(aString)` should be `TRUE` since `aString`\n",
        "was a string.\n",
        "\n",
        "The output of `is.numeric(aString)` should be `FALSE` since `aString`\n",
        "was not a numeric.\n",
        "\n",
        "So if we want to change the string “1.23” to a number, we must use\n",
        "`as.numeric` to convert the string to a number:\n",
        "\n",
        "-   Define a variable `aNumber` by using the function `as.numeric` on\n",
        "    `aString`\n",
        "-   print out whether `aNumber` is a numeric using `is.numeric`"
      ],
      "id": "d174d4f6-ca07-4c36-972b-e352067d7b2b"
    },
    {
      "cell_type": "code",
      "execution_count": null,
      "metadata": {},
      "outputs": [],
      "source": [
        "CODE"
      ],
      "id": "d9226573-8526-4a51-9b02-2f91c8206aac"
    },
    {
      "cell_type": "markdown",
      "metadata": {},
      "source": [
        "The output of `is.numeric(aNumber)` should be `TRUE` since `aNumber` was\n",
        "a numeric.\n",
        "\n",
        "Finally for the code below add a couple of `str` functions to display\n",
        "information about the variables.\n",
        "\n",
        "-   Print out info on `x` using the `str` function\n",
        "-   Print out info on `y` using the `str` function"
      ],
      "id": "c4cbe64b-ab9d-4afe-aaf5-25da44c3eec7"
    },
    {
      "cell_type": "code",
      "execution_count": null,
      "metadata": {},
      "outputs": [],
      "source": [
        "x<-\"1.23\"\n",
        "y<-as.numeric(\"1.23\")\n",
        "CODE"
      ],
      "id": "859b082b-f431-4d91-aa39-a610562a0280"
    },
    {
      "cell_type": "markdown",
      "metadata": {},
      "source": [
        "`x` is a character since there are quotations marks so that makes it a\n",
        "string.\n",
        "\n",
        "`y` is numeric since it was converted to a numeric with `as.numeric`.\n",
        "\n",
        "Once again, for the code below add a couple of `str` functions to\n",
        "display information about the variables.\n",
        "\n",
        "-   Print out info on `z` using the `str` function\n",
        "-   Print out info on `w` using the `str` function"
      ],
      "id": "30137694-aec5-4f1e-8332-94da1daa99d7"
    },
    {
      "cell_type": "code",
      "execution_count": null,
      "metadata": {},
      "outputs": [],
      "source": [
        "z<-\"TRUE\"\n",
        "w<-as.logical(\"TRUE\")\n",
        "CODE"
      ],
      "id": "f5776fa1-a9c4-43f7-b9a0-a65f0f6bb0a7"
    },
    {
      "cell_type": "markdown",
      "metadata": {},
      "source": [
        "`z` is a character since there are quotations marks so that makes it a\n",
        "string.\n",
        "\n",
        "`w` is numeric since there are quotations marks so that makes it a\n",
        "string."
      ],
      "id": "2a99f7f7-32d2-403c-b3c7-8a6d77576f99"
    }
  ],
  "nbformat": 4,
  "nbformat_minor": 5,
  "metadata": {
    "kernelspec": {
      "name": "ir",
      "display_name": "R",
      "language": "R"
    }
  }
}