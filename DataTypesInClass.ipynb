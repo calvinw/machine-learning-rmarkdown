{
  "cells": [
    {
      "cell_type": "markdown",
      "metadata": {},
      "source": [
        "# Data Types In Class\n",
        "\n",
        "-   Assign a variable using `myNumeric<-1.2`\n",
        "-   Print out info on `myNumeric` using the `str` function"
      ],
      "id": "af9e7156-8cf3-4c7c-b9f9-59e6fb6152af"
    },
    {
      "cell_type": "code",
      "execution_count": null,
      "metadata": {},
      "outputs": [],
      "source": [
        "CODE"
      ],
      "id": "801ec41b-8405-41d3-b637-15adc75601a5"
    },
    {
      "cell_type": "markdown",
      "metadata": {},
      "source": [
        "This should output the shorthand `num` which means `numeric`\n",
        "\n",
        "-   Use the `is.numeric` function to check if `myNumeric` is a numeric\n",
        "    data type."
      ],
      "id": "8b9b6689-2f26-4c51-808e-d162c50e402f"
    },
    {
      "cell_type": "code",
      "execution_count": null,
      "metadata": {},
      "outputs": [],
      "source": [
        "CODE"
      ],
      "id": "378fef2f-cd82-4650-b7f5-74003224fe11"
    },
    {
      "cell_type": "markdown",
      "metadata": {},
      "source": [
        "The output should be `TRUE` since `myNumeric` is a numeric data type.\n",
        "\n",
        "Lets look at string types\n",
        "\n",
        "-   Assign a variable using `myString<-\"hello\"`\n",
        "-   Print out info on `myString` using the `str` function"
      ],
      "id": "aac84909-b1b6-44cb-a97b-1d2be82c327d"
    },
    {
      "cell_type": "code",
      "execution_count": null,
      "metadata": {},
      "outputs": [],
      "source": [
        "CODE"
      ],
      "id": "f792aeb6-b5a4-4389-a7d9-bbfd725dd7f1"
    },
    {
      "cell_type": "markdown",
      "metadata": {},
      "source": [
        "This should output the shorthand `chr` which means `character`\n",
        "\n",
        "-   Use the `is.character` function to check if `myString` is a\n",
        "    character data type"
      ],
      "id": "4b59db64-0a63-482e-96eb-cec1865915b8"
    },
    {
      "cell_type": "code",
      "execution_count": null,
      "metadata": {},
      "outputs": [],
      "source": [
        "CODE"
      ],
      "id": "7e430fe6-fe37-4d1f-8c99-16e5400f9dc5"
    },
    {
      "cell_type": "markdown",
      "metadata": {},
      "source": [
        "The output should be `TRUE` since `myString` is a character data type."
      ],
      "id": "abbf4eaf-6457-4c33-803d-e5352a5abee9"
    },
    {
      "cell_type": "code",
      "execution_count": null,
      "metadata": {},
      "outputs": [],
      "source": [],
      "id": "e952e01e-b1c3-4f2d-8968-8cd1e74ff41a"
    },
    {
      "cell_type": "markdown",
      "metadata": {},
      "source": [
        "Lets look at boolean type:\n",
        "\n",
        "-   Assign a variable using `myBoolean<-TRUE`\n",
        "-   Print out info on `myBoolean` using the `str` function"
      ],
      "id": "622a1e96-52c3-4d15-abd2-880e35ebd45e"
    },
    {
      "cell_type": "code",
      "execution_count": null,
      "metadata": {},
      "outputs": [],
      "source": [
        "CODE"
      ],
      "id": "6954d776-f5b6-4723-a6fa-a5a373538aaa"
    },
    {
      "cell_type": "markdown",
      "metadata": {},
      "source": [
        "This should output the shorthand `logi` which means `logical`, which is\n",
        "the boolean type for R.\n",
        "\n",
        "-   Use the `is.logical` function to check the data type of `myBoolean`\n",
        "    from above"
      ],
      "id": "f2b0224e-1b28-49df-bfc3-8e40b6fb15df"
    },
    {
      "cell_type": "code",
      "execution_count": null,
      "metadata": {},
      "outputs": [],
      "source": [
        "CODE"
      ],
      "id": "a9f11ed2-9a5d-4d8e-94a0-4d624961f4cc"
    },
    {
      "cell_type": "markdown",
      "metadata": {},
      "source": [
        "The output should be `TRUE` since `myBoolean` is a boolean data type.\n",
        "\n",
        "One conversion that is freqently used is from at string like “1.23” to a\n",
        "number 1.23.\n",
        "\n",
        "With quotes around it, a number will be seen as a string:\n",
        "\n",
        "-   Define a variable `aString<-\"1.23\"`\n",
        "-   print out whether it is a string using `is.character`\n",
        "-   print out whether it is a numeric using `is.numeric`"
      ],
      "id": "3b2d568c-91b7-41ea-91f1-934b89a005f0"
    },
    {
      "cell_type": "code",
      "execution_count": null,
      "metadata": {},
      "outputs": [],
      "source": [
        "CODE"
      ],
      "id": "a2c444d5-a8fb-4a70-9276-f3911146d525"
    },
    {
      "cell_type": "markdown",
      "metadata": {},
      "source": [
        "The output of `is.character(aString)` should be `TRUE` since `aString`\n",
        "was a string.\n",
        "\n",
        "The output of `is.numeric(aString)` should be `FALSE` since `aString`\n",
        "was not a numeric.\n",
        "\n",
        "So if we want to change the string “1.23” to a number, we must use\n",
        "`as.numeric` to convert the string to a number:\n",
        "\n",
        "-   Define a variable `aNumber` by using the function `as.numeric` on\n",
        "    `aString`\n",
        "-   print out whether `aNumber` is a numeric using `is.numeric`"
      ],
      "id": "cfeb4680-58e6-4cc0-b143-9eb0f7103fd9"
    },
    {
      "cell_type": "code",
      "execution_count": null,
      "metadata": {},
      "outputs": [],
      "source": [
        "CODE"
      ],
      "id": "264f315d-9da3-4dcf-849f-d73003d078f8"
    },
    {
      "cell_type": "markdown",
      "metadata": {},
      "source": [
        "The output of `is.numeric(aNumber)` should be `TRUE` since `aNumber` was\n",
        "a numeric.\n",
        "\n",
        "Finally for the code below add a couple of `str` functions to display\n",
        "information about the variables.\n",
        "\n",
        "-   Print out info on `x` using the `str` function\n",
        "-   Print out info on `y` using the `str` function"
      ],
      "id": "5ee3d893-3c73-4afa-8398-cdce9f26ed04"
    },
    {
      "cell_type": "code",
      "execution_count": null,
      "metadata": {},
      "outputs": [],
      "source": [
        "x<-\"1.23\"\n",
        "y<-as.numeric(\"1.23\")\n",
        "CODE"
      ],
      "id": "cdabfcb2-014b-4ddd-87ce-0cf924ffcd0e"
    },
    {
      "cell_type": "markdown",
      "metadata": {},
      "source": [
        "`x` is a character since there are quotations marks so that makes it a\n",
        "string.\n",
        "\n",
        "`y` is numeric since it was converted to a numeric with `as.numeric`.\n",
        "\n",
        "Once again, for the code below add a couple of `str` functions to\n",
        "display information about the variables.\n",
        "\n",
        "-   Print out info on `z` using the `str` function\n",
        "-   Print out info on `w` using the `str` function"
      ],
      "id": "8f036fe7-1545-4ab1-84f9-5ae05a05f3ab"
    },
    {
      "cell_type": "code",
      "execution_count": null,
      "metadata": {},
      "outputs": [],
      "source": [
        "z<-\"TRUE\"\n",
        "w<-as.logical(\"TRUE\")\n",
        "CODE"
      ],
      "id": "3e91ae85-b3ba-4db7-b52d-a770e6938de5"
    },
    {
      "cell_type": "markdown",
      "metadata": {},
      "source": [
        "`z` is a character since there are quotations marks so that makes it a\n",
        "string.\n",
        "\n",
        "`w` is numeric since there are quotations marks so that makes it a\n",
        "string."
      ],
      "id": "89955300-dd5e-4059-9d32-cc94726bfc17"
    }
  ],
  "nbformat": 4,
  "nbformat_minor": 5,
  "metadata": {
    "kernelspec": {
      "name": "ir",
      "display_name": "R",
      "language": "R"
    }
  }
}