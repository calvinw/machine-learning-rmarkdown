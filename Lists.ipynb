{
  "cells": [
    {
      "cell_type": "markdown",
      "metadata": {},
      "source": [
        "# Lists\n",
        "\n",
        "Lists are similar to vectors, except they can hold different types.\n",
        "\n",
        "They are created with the `list` function. The following example has 4\n",
        "different elements.\n",
        "\n",
        "1.  The first element is a numeric data type\n",
        "2.  The second element is a logical\n",
        "3.  The third element is a integer\n",
        "4.  The fourth element is a character"
      ],
      "id": "e24b2dea-d524-4929-9284-6ce05a3e0be8"
    },
    {
      "cell_type": "code",
      "execution_count": null,
      "metadata": {},
      "outputs": [
        {
          "output_type": "stream",
          "name": "stdout",
          "text": [
            "List of 4\n",
            " $ : num 32\n",
            " $ : logi TRUE\n",
            " $ : int 45\n",
            " $ : chr \"hello\""
          ]
        }
      ],
      "source": [
        "myList<-list(32,TRUE,45L,\"hello\")\n",
        "str(myList)"
      ],
      "id": "b7a60c6c-bf8b-4d30-b87c-a4eed45f8cbe"
    },
    {
      "cell_type": "code",
      "execution_count": null,
      "metadata": {},
      "outputs": [],
      "source": [],
      "id": "a6324a78-8de4-4b6a-8225-22ea62fc0795"
    },
    {
      "cell_type": "code",
      "execution_count": null,
      "metadata": {},
      "outputs": [],
      "source": [],
      "id": "fa1cf9fe-ddf5-42c2-b6cb-0b2ce220500e"
    },
    {
      "cell_type": "code",
      "execution_count": null,
      "metadata": {},
      "outputs": [],
      "source": [],
      "id": "9c29337a-b917-4944-b61c-710d0696c522"
    },
    {
      "cell_type": "code",
      "execution_count": null,
      "metadata": {},
      "outputs": [],
      "source": [],
      "id": "879c8970-dec9-45eb-b137-4e8b2425c718"
    }
  ],
  "nbformat": 4,
  "nbformat_minor": 5,
  "metadata": {
    "kernelspec": {
      "name": "ir",
      "display_name": "R",
      "language": "R"
    }
  }
}