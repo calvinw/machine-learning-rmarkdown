{
 "cells": [
  {
   "cell_type": "markdown",
   "metadata": {},
   "source": [
    "Lists are similar to vectors, except they can hold different types.\n",
    "\n",
    "They are created with the `list` function. The following example has 4\n",
    "different elements.\n",
    "\n",
    "1.  The first element is a numeric data type\n",
    "2.  The second element is a logical\n",
    "3.  The third element is a integer\n",
    "4.  The fourth element is a character"
   ]
  },
  {
   "cell_type": "code",
   "execution_count": null,
   "metadata": {},
   "outputs": [],
   "source": [
    "myList<-list(32,TRUE,45L,\"hello\")\n",
    "str(myList)"
   ]
  }
 ],
 "nbformat": 4,
 "nbformat_minor": 5,
 "metadata": {
  "kernelspec": {
   "name": "ir",
   "display_name": "R",
   "language": "R"
  }
 }
}
