{
  "cells": [
    {
      "cell_type": "markdown",
      "metadata": {},
      "source": [
        "# Lists\n",
        "\n",
        "Lists are similar to vectors, except they can hold different types.\n",
        "\n",
        "They are created with the `list` function. The following example has 4\n",
        "different elements.\n",
        "\n",
        "1.  The first element is a numeric data type\n",
        "2.  The second element is a logical\n",
        "3.  The third element is a integer\n",
        "4.  The fourth element is a character"
      ],
      "id": "28c6de59-99e8-44cd-9f28-70533f28095f"
    },
    {
      "cell_type": "code",
      "execution_count": null,
      "metadata": {},
      "outputs": [
        {
          "output_type": "stream",
          "name": "stdout",
          "text": [
            "List of 4\n",
            " $ : num 32\n",
            " $ : logi TRUE\n",
            " $ : int 45\n",
            " $ : chr \"hello\""
          ]
        }
      ],
      "source": [
        "myList<-list(32,TRUE,45L,\"hello\")\n",
        "str(myList)"
      ],
      "id": "acd1164d-b055-451b-84ce-8a08d1139a85"
    },
    {
      "cell_type": "code",
      "execution_count": null,
      "metadata": {},
      "outputs": [],
      "source": [],
      "id": "86a0c181-eee2-46c0-adba-774c6114b262"
    },
    {
      "cell_type": "code",
      "execution_count": null,
      "metadata": {},
      "outputs": [],
      "source": [],
      "id": "31b48a2e-1ac4-46bf-9ea8-665ae6867d35"
    },
    {
      "cell_type": "code",
      "execution_count": null,
      "metadata": {},
      "outputs": [],
      "source": [],
      "id": "567a3ac1-d951-436a-9418-3bfa906124d2"
    },
    {
      "cell_type": "code",
      "execution_count": null,
      "metadata": {},
      "outputs": [],
      "source": [],
      "id": "02231221-483e-4796-8e48-b3493be3c873"
    }
  ],
  "nbformat": 4,
  "nbformat_minor": 5,
  "metadata": {
    "kernelspec": {
      "name": "ir",
      "display_name": "R",
      "language": "R"
    }
  }
}