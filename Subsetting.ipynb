{
 "cells": [
  {
   "cell_type": "markdown",
   "metadata": {},
   "source": [
    "Suppose we want to just pick some of our data from a vector or other\n",
    "data type? How can we do this?\n",
    "\n",
    "In R this is called “subsetting”. Lets see an example. Lets get the 1st,\n",
    "3rd and 5th elements from the vector and make a new vector out of this:"
   ]
  },
  {
   "cell_type": "code",
   "execution_count": null,
   "metadata": {},
   "outputs": [],
   "source": [
    "x <- c(3,5,9,6,7,8,4,5)\n",
    "y <- x[c(1,3,5)]\n",
    "length(x)\n",
    "length(y)\n",
    "print(y)"
   ]
  },
  {
   "cell_type": "markdown",
   "metadata": {},
   "source": [
    "Now lets see about getting the 2nd through the 4th elements by using the\n",
    "sequence notation 2:4"
   ]
  },
  {
   "cell_type": "code",
   "execution_count": null,
   "metadata": {},
   "outputs": [],
   "source": [
    "z <- c(12,11,8,4,3)\n",
    "w <- z[2:4]\n",
    "length(w)\n",
    "print(w)"
   ]
  },
  {
   "cell_type": "markdown",
   "metadata": {},
   "source": [
    "We can use negative numbers to exclude things from vectors. This one\n",
    "excludes the 2nd element from the vector."
   ]
  },
  {
   "cell_type": "code",
   "execution_count": null,
   "metadata": {},
   "outputs": [],
   "source": [
    "t <- c(3,4,2,9)\n",
    "w <- t[-2]\n",
    "length(w)\n",
    "print(w)"
   ]
  },
  {
   "cell_type": "markdown",
   "metadata": {},
   "source": [
    "Here we exclude the 1st and the 3rd elements from the vector."
   ]
  },
  {
   "cell_type": "code",
   "execution_count": null,
   "metadata": {},
   "outputs": [],
   "source": [
    "s <- c(3,4,2,9)\n",
    "z <- s[c(-1,-3)]\n",
    "length(z)\n",
    "print(z)"
   ]
  },
  {
   "cell_type": "markdown",
   "metadata": {},
   "source": [
    "Lets also look at a very important application of booleans (called\n",
    "“logicals” in R) of how to subset for certain conditions.  \n",
    "Suppose we have a vector and we would like to just take all the values\n",
    "on the list that were greater than something. Like suppose we want to\n",
    "take all values that are greater than 5:"
   ]
  },
  {
   "cell_type": "code",
   "execution_count": null,
   "metadata": {},
   "outputs": [],
   "source": [
    "u <- c(8,4,6,12,3)\n",
    "v <- u[u > 5]\n",
    "length(v)\n",
    "print(v)"
   ]
  },
  {
   "cell_type": "markdown",
   "metadata": {},
   "source": [
    "This leaves us with just a new vector with that is `8 6 12`."
   ]
  },
  {
   "cell_type": "code",
   "execution_count": null,
   "metadata": {},
   "outputs": [],
   "source": [
    "m <- c(-1,4,-2,0,12,3)\n",
    "n <- m[m < 0]\n",
    "length(n)\n",
    "print(n)"
   ]
  },
  {
   "cell_type": "markdown",
   "metadata": {},
   "source": [
    "This leaves us with just a new vector that has all the negative numbers\n",
    "on the list.\n",
    "\n",
    "Finally lets try an example where we have related data on several\n",
    "vectors. Below we have data from 5 people with their age and gender\n",
    "recorded. Here is what the data looks like:"
   ]
  },
  {
   "cell_type": "code",
   "execution_count": null,
   "metadata": {},
   "outputs": [],
   "source": [
    "id <- c(1001,1002,1003,1004,1005)\n",
    "age <- c(18,35,26,42,22)\n",
    "gender <- c(\"M\",\"F\",\"M\",\"F\",\"F\")"
   ]
  },
  {
   "cell_type": "markdown",
   "metadata": {},
   "source": [
    "We have IDs for each person as well.\n",
    "\n",
    "Find a vector of ages that are greater than 25:"
   ]
  },
  {
   "cell_type": "code",
   "execution_count": null,
   "metadata": {},
   "outputs": [],
   "source": [
    "age[age > 25]"
   ]
  },
  {
   "cell_type": "markdown",
   "metadata": {},
   "source": [
    "Find a vector of ids where age is greater than 25:"
   ]
  },
  {
   "cell_type": "code",
   "execution_count": null,
   "metadata": {},
   "outputs": [],
   "source": [
    "id[age > 25]"
   ]
  },
  {
   "cell_type": "markdown",
   "metadata": {},
   "source": [
    "Find a vector of ids where age is greater than 25 and gender is “F”:"
   ]
  },
  {
   "cell_type": "code",
   "execution_count": null,
   "metadata": {},
   "outputs": [],
   "source": [
    "id [age > 25 & gender == \"F\"] "
   ]
  }
 ],
 "nbformat": 4,
 "nbformat_minor": 5,
 "metadata": {
  "kernelspec": {
   "name": "ir",
   "display_name": "R",
   "language": "R"
  }
 }
}
