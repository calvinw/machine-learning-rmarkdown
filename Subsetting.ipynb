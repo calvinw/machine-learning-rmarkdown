{
  "cells": [
    {
      "cell_type": "markdown",
      "metadata": {},
      "source": [
        "# Subsetting\n",
        "\n",
        "Suppose we want to just pick some of our data from a vector or other\n",
        "data type? How can we do this?\n",
        "\n",
        "In R this is called “subsetting”. Lets see an example. Lets get the 1st,\n",
        "3rd and 5th elements from the vector and make a new vector out of this:"
      ],
      "id": "136642fe-43b7-4918-ac2b-56acae1db5d3"
    },
    {
      "cell_type": "code",
      "execution_count": null,
      "metadata": {},
      "outputs": [
        {
          "output_type": "stream",
          "name": "stdout",
          "text": [
            "[1] 8"
          ]
        },
        {
          "output_type": "stream",
          "name": "stdout",
          "text": [
            "[1] 3"
          ]
        },
        {
          "output_type": "stream",
          "name": "stdout",
          "text": [
            "[1] 3 9 7"
          ]
        }
      ],
      "source": [
        "x <- c(3,5,9,6,7,8,4,5)\n",
        "y <- x[c(1,3,5)]\n",
        "length(x)"
      ],
      "id": "e1cf827e-d084-40fa-83b6-040ea7cf708d"
    },
    {
      "cell_type": "markdown",
      "metadata": {},
      "source": [
        "Now lets see about getting the 2nd through the 4th elements by using the\n",
        "sequence notation 2:4"
      ],
      "id": "26365801-2cc0-42c8-9e68-d8a68805836c"
    },
    {
      "cell_type": "code",
      "execution_count": null,
      "metadata": {},
      "outputs": [
        {
          "output_type": "stream",
          "name": "stdout",
          "text": [
            "[1] 3"
          ]
        },
        {
          "output_type": "stream",
          "name": "stdout",
          "text": [
            "[1] 11  8  4"
          ]
        }
      ],
      "source": [
        "z <- c(12,11,8,4,3)\n",
        "w <- z[2:4]\n",
        "length(w)"
      ],
      "id": "85f65b62-35ca-49f3-bede-22f125030f85"
    },
    {
      "cell_type": "markdown",
      "metadata": {},
      "source": [
        "We can use negative numbers to exclude things from vectors. This one\n",
        "excludes the 2nd element from the vector."
      ],
      "id": "1f0ed5c3-a674-4da1-8105-0d8af0507eb3"
    },
    {
      "cell_type": "code",
      "execution_count": null,
      "metadata": {},
      "outputs": [
        {
          "output_type": "stream",
          "name": "stdout",
          "text": [
            "[1] 3"
          ]
        },
        {
          "output_type": "stream",
          "name": "stdout",
          "text": [
            "[1] 3 2 9"
          ]
        }
      ],
      "source": [
        "t <- c(3,4,2,9)\n",
        "w <- t[-2]\n",
        "length(w)"
      ],
      "id": "6c629270-6d88-47af-b372-e15bc438df18"
    },
    {
      "cell_type": "markdown",
      "metadata": {},
      "source": [
        "Here we exclude the 1st and the 3rd elements from the vector."
      ],
      "id": "ba2bc15f-a14e-44cc-8ae6-dbe23c0f1ef2"
    },
    {
      "cell_type": "code",
      "execution_count": null,
      "metadata": {},
      "outputs": [
        {
          "output_type": "stream",
          "name": "stdout",
          "text": [
            "[1] 2"
          ]
        },
        {
          "output_type": "stream",
          "name": "stdout",
          "text": [
            "[1] 4 9"
          ]
        }
      ],
      "source": [
        "s <- c(3,4,2,9)\n",
        "z <- s[c(-1,-3)]\n",
        "length(z)"
      ],
      "id": "eeba6623-be0a-4e9a-b3ba-5426e4cb8c79"
    },
    {
      "cell_type": "markdown",
      "metadata": {},
      "source": [
        "Lets also look at a very important application of booleans (called\n",
        "“logicals” in R) of how to subset for certain conditions.  \n",
        "Suppose we have a vector and we would like to just take all the values\n",
        "on the list that were greater than something. Like suppose we want to\n",
        "take all values that are greater than 5:"
      ],
      "id": "35cd3ceb-0866-455c-9a4d-75ee97e9ec13"
    },
    {
      "cell_type": "code",
      "execution_count": null,
      "metadata": {},
      "outputs": [
        {
          "output_type": "stream",
          "name": "stdout",
          "text": [
            "[1] 3"
          ]
        },
        {
          "output_type": "stream",
          "name": "stdout",
          "text": [
            "[1]  8  6 12"
          ]
        }
      ],
      "source": [
        "u <- c(8,4,6,12,3)\n",
        "v <- u[u > 5]\n",
        "length(v)"
      ],
      "id": "b5702e21-f232-4a24-97ea-e2f844996126"
    },
    {
      "cell_type": "markdown",
      "metadata": {},
      "source": [
        "This leaves us with just a new vector with that is `8 6 12`."
      ],
      "id": "4f678c77-b589-462a-b003-1ba3c73e701e"
    },
    {
      "cell_type": "code",
      "execution_count": null,
      "metadata": {},
      "outputs": [
        {
          "output_type": "stream",
          "name": "stdout",
          "text": [
            "[1] 2"
          ]
        },
        {
          "output_type": "stream",
          "name": "stdout",
          "text": [
            "[1] -1 -2"
          ]
        }
      ],
      "source": [
        "m <- c(-1,4,-2,0,12,3)\n",
        "n <- m[m < 0]\n",
        "length(n)"
      ],
      "id": "9d393b7e-f8ae-48ad-8011-32414e41fb2c"
    },
    {
      "cell_type": "markdown",
      "metadata": {},
      "source": [
        "This leaves us with just a new vector that has all the negative numbers\n",
        "on the list.\n",
        "\n",
        "Finally lets try an example where we have related data on several\n",
        "vectors. Below we have data from 5 people with their age and gender\n",
        "recorded. Here is what the data looks like:"
      ],
      "id": "a0aa14b2-7c57-4c7f-8828-4db9e9e4fd5a"
    },
    {
      "cell_type": "code",
      "execution_count": null,
      "metadata": {},
      "outputs": [],
      "source": [
        "id <- c(1001,1002,1003,1004,1005)\n",
        "age <- c(18,35,26,42,22)\n",
        "gender <- c(\"M\",\"F\",\"M\",\"F\",\"F\")"
      ],
      "id": "d986384e-8a21-4e97-8a60-1f5e6029eb8b"
    },
    {
      "cell_type": "markdown",
      "metadata": {},
      "source": [
        "We have IDs for each person as well.\n",
        "\n",
        "Find a vector of ages that are greater than 25:"
      ],
      "id": "44156853-d2d7-43b8-b2cb-8640ce9ef1ee"
    },
    {
      "cell_type": "code",
      "execution_count": null,
      "metadata": {},
      "outputs": [
        {
          "output_type": "stream",
          "name": "stdout",
          "text": [
            "[1] 35 26 42"
          ]
        }
      ],
      "source": [
        "age[age > 25]"
      ],
      "id": "7b1719d7-238c-4a80-99f7-dc832b1c40d6"
    },
    {
      "cell_type": "markdown",
      "metadata": {},
      "source": [
        "Find a vector of ids where age is greater than 25:"
      ],
      "id": "2a57207a-76d4-4ee6-9052-b1f669f7689e"
    },
    {
      "cell_type": "code",
      "execution_count": null,
      "metadata": {},
      "outputs": [
        {
          "output_type": "stream",
          "name": "stdout",
          "text": [
            "[1] 1002 1003 1004"
          ]
        }
      ],
      "source": [
        "id[age > 25]"
      ],
      "id": "f525c834-7baf-4669-9a13-5312369fbb1c"
    },
    {
      "cell_type": "markdown",
      "metadata": {},
      "source": [
        "Find a vector of ids where age is greater than 25 and gender is “F”:"
      ],
      "id": "a2c68310-09f4-4a82-821d-0be5993029da"
    },
    {
      "cell_type": "code",
      "execution_count": null,
      "metadata": {},
      "outputs": [
        {
          "output_type": "stream",
          "name": "stdout",
          "text": [
            "[1] 1002 1004"
          ]
        }
      ],
      "source": [
        "id [age > 25 & gender == \"F\"] "
      ],
      "id": "7ece9fba-ee5e-4a80-aa76-67ea9716c8be"
    }
  ],
  "nbformat": 4,
  "nbformat_minor": 5,
  "metadata": {
    "kernelspec": {
      "name": "ir",
      "display_name": "R",
      "language": "R"
    }
  }
}