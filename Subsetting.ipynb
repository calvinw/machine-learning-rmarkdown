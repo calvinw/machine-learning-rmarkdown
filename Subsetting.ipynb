{
  "cells": [
    {
      "cell_type": "markdown",
      "metadata": {},
      "source": [
        "# Subsetting\n",
        "\n",
        "Suppose we want to just pick some of our data from a vector or other\n",
        "data type? How can we do this?\n",
        "\n",
        "In R this is called “subsetting”. Lets see an example. Lets get the 1st,\n",
        "3rd and 5th elements from the vector and make a new vector out of this:"
      ],
      "id": "6526837e-9f49-4c27-a644-f0a97d528e48"
    },
    {
      "cell_type": "code",
      "execution_count": null,
      "metadata": {},
      "outputs": [
        {
          "output_type": "stream",
          "name": "stdout",
          "text": [
            "[1] 8"
          ]
        },
        {
          "output_type": "stream",
          "name": "stdout",
          "text": [
            "[1] 3"
          ]
        },
        {
          "output_type": "stream",
          "name": "stdout",
          "text": [
            "[1] 3 9 7"
          ]
        }
      ],
      "source": [
        "x <- c(3,5,9,6,7,8,4,5)\n",
        "y <- x[c(1,3,5)]\n",
        "length(x)"
      ],
      "id": "18d459f2-ef05-4e36-88b1-973c7751c8be"
    },
    {
      "cell_type": "markdown",
      "metadata": {},
      "source": [
        "Now lets see about getting the 2nd through the 4th elements by using the\n",
        "sequence notation 2:4"
      ],
      "id": "34dea8f2-4d27-49e2-a11f-a67e82d4103c"
    },
    {
      "cell_type": "code",
      "execution_count": null,
      "metadata": {},
      "outputs": [
        {
          "output_type": "stream",
          "name": "stdout",
          "text": [
            "[1] 3"
          ]
        },
        {
          "output_type": "stream",
          "name": "stdout",
          "text": [
            "[1] 11  8  4"
          ]
        }
      ],
      "source": [
        "z <- c(12,11,8,4,3)\n",
        "w <- z[2:4]\n",
        "length(w)"
      ],
      "id": "481bc4cf-4fc9-4c6c-9d92-8c2293b9c87c"
    },
    {
      "cell_type": "markdown",
      "metadata": {},
      "source": [
        "We can use negative numbers to exclude things from vectors. This one\n",
        "excludes the 2nd element from the vector."
      ],
      "id": "798b2459-c25d-4a76-a1a9-d67f50368bff"
    },
    {
      "cell_type": "code",
      "execution_count": null,
      "metadata": {},
      "outputs": [
        {
          "output_type": "stream",
          "name": "stdout",
          "text": [
            "[1] 3"
          ]
        },
        {
          "output_type": "stream",
          "name": "stdout",
          "text": [
            "[1] 3 2 9"
          ]
        }
      ],
      "source": [
        "t <- c(3,4,2,9)\n",
        "w <- t[-2]\n",
        "length(w)"
      ],
      "id": "a7fc6fac-8b43-4a4a-b226-0c05f0e13418"
    },
    {
      "cell_type": "markdown",
      "metadata": {},
      "source": [
        "Here we exclude the 1st and the 3rd elements from the vector."
      ],
      "id": "e4f643ed-2b64-4f83-86c1-95686ffdf7b3"
    },
    {
      "cell_type": "code",
      "execution_count": null,
      "metadata": {},
      "outputs": [
        {
          "output_type": "stream",
          "name": "stdout",
          "text": [
            "[1] 2"
          ]
        },
        {
          "output_type": "stream",
          "name": "stdout",
          "text": [
            "[1] 4 9"
          ]
        }
      ],
      "source": [
        "s <- c(3,4,2,9)\n",
        "z <- s[c(-1,-3)]\n",
        "length(z)"
      ],
      "id": "16a10ba4-9f07-4782-8644-3f46abf2fddb"
    },
    {
      "cell_type": "markdown",
      "metadata": {},
      "source": [
        "Lets also look at a very important application of booleans (called\n",
        "“logicals” in R) of how to subset for certain conditions.  \n",
        "Suppose we have a vector and we would like to just take all the values\n",
        "on the list that were greater than something. Like suppose we want to\n",
        "take all values that are greater than 5:"
      ],
      "id": "f08d0e42-4db1-40de-bc3a-c69d43e7a1fd"
    },
    {
      "cell_type": "code",
      "execution_count": null,
      "metadata": {},
      "outputs": [
        {
          "output_type": "stream",
          "name": "stdout",
          "text": [
            "[1] 3"
          ]
        },
        {
          "output_type": "stream",
          "name": "stdout",
          "text": [
            "[1]  8  6 12"
          ]
        }
      ],
      "source": [
        "u <- c(8,4,6,12,3)\n",
        "v <- u[u > 5]\n",
        "length(v)"
      ],
      "id": "87e302da-3396-410f-8b02-bae806114a2a"
    },
    {
      "cell_type": "markdown",
      "metadata": {},
      "source": [
        "This leaves us with just a new vector with that is `8 6 12`."
      ],
      "id": "5f0f3040-ec73-497d-8c7e-200afdadd4b3"
    },
    {
      "cell_type": "code",
      "execution_count": null,
      "metadata": {},
      "outputs": [
        {
          "output_type": "stream",
          "name": "stdout",
          "text": [
            "[1] 2"
          ]
        },
        {
          "output_type": "stream",
          "name": "stdout",
          "text": [
            "[1] -1 -2"
          ]
        }
      ],
      "source": [
        "m <- c(-1,4,-2,0,12,3)\n",
        "n <- m[m < 0]\n",
        "length(n)"
      ],
      "id": "20f994ed-2e81-45b5-bbd2-28a10532b9fb"
    },
    {
      "cell_type": "markdown",
      "metadata": {},
      "source": [
        "This leaves us with just a new vector that has all the negative numbers\n",
        "on the list.\n",
        "\n",
        "Finally lets try an example where we have related data on several\n",
        "vectors. Below we have data from 5 people with their age and gender\n",
        "recorded. Here is what the data looks like:"
      ],
      "id": "97061c05-7df4-4d99-a9cd-9dfafcb8eb53"
    },
    {
      "cell_type": "code",
      "execution_count": null,
      "metadata": {},
      "outputs": [],
      "source": [
        "id <- c(1001,1002,1003,1004,1005)\n",
        "age <- c(18,35,26,42,22)\n",
        "gender <- c(\"M\",\"F\",\"M\",\"F\",\"F\")"
      ],
      "id": "f3be5bd2-04d5-4ec7-a2ae-f6ada0535ba9"
    },
    {
      "cell_type": "markdown",
      "metadata": {},
      "source": [
        "We have IDs for each person as well.\n",
        "\n",
        "Find a vector of ages that are greater than 25:"
      ],
      "id": "40731259-b8ce-4acc-94b3-0a0eaadc3640"
    },
    {
      "cell_type": "code",
      "execution_count": null,
      "metadata": {},
      "outputs": [
        {
          "output_type": "stream",
          "name": "stdout",
          "text": [
            "[1] 35 26 42"
          ]
        }
      ],
      "source": [
        "age[age > 25]"
      ],
      "id": "94b94342-76cc-414b-8e2b-80fe722ce676"
    },
    {
      "cell_type": "markdown",
      "metadata": {},
      "source": [
        "Find a vector of ids where age is greater than 25:"
      ],
      "id": "68c99bea-81cc-4278-bd74-8afadc93b9d8"
    },
    {
      "cell_type": "code",
      "execution_count": null,
      "metadata": {},
      "outputs": [
        {
          "output_type": "stream",
          "name": "stdout",
          "text": [
            "[1] 1002 1003 1004"
          ]
        }
      ],
      "source": [
        "id[age > 25]"
      ],
      "id": "db8cf7bd-e72f-4cc1-b98f-75e55270faff"
    },
    {
      "cell_type": "markdown",
      "metadata": {},
      "source": [
        "Find a vector of ids where age is greater than 25 and gender is “F”:"
      ],
      "id": "b257a0e3-530f-43b4-9adf-aaadfe6575ae"
    },
    {
      "cell_type": "code",
      "execution_count": null,
      "metadata": {},
      "outputs": [
        {
          "output_type": "stream",
          "name": "stdout",
          "text": [
            "[1] 1002 1004"
          ]
        }
      ],
      "source": [
        "id [age > 25 & gender == \"F\"] "
      ],
      "id": "57d4a88e-367d-4554-b837-b4efcb540519"
    }
  ],
  "nbformat": 4,
  "nbformat_minor": 5,
  "metadata": {
    "kernelspec": {
      "name": "ir",
      "display_name": "R",
      "language": "R"
    }
  }
}