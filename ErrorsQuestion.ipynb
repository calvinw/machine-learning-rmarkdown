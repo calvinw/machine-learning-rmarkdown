{
 "cells": [
  {
   "cell_type": "code",
   "execution_count": null,
   "metadata": {},
   "outputs": [],
   "source": [
    "if (!require(\"Metrics\")) install.packages(\"Metrics\")\n",
    "library(\"Metrics\")"
   ]
  },
  {
   "cell_type": "markdown",
   "metadata": {},
   "source": [
    "Suppose we have two models, `model1` and `model2` created from some\n",
    "training data set (not shown).\n",
    "\n",
    "The models can be described as follows `y~x1+x2`. So the result is `y`\n",
    "and the predictors are `x1` and `x2`.\n",
    "\n",
    "Test Data\n",
    "---------\n",
    "\n",
    "Now we wish to evaluate the two models using the following test data\n",
    "set:\n",
    "\n",
    "| x1  | x2  | y   |\n",
    "|-----|-----|-----|\n",
    "| 23  | YES | 83  |\n",
    "| 15  | NO  | 78  |\n",
    "| 17  | NO  | 75  |\n",
    "| 21  | YES | 82  |\n",
    "| 25  | YES | 89  |\n",
    "\n",
    "Model1 Predictions\n",
    "------------------\n",
    "\n",
    "Suppose our first model (called model1) made the following predictions:\n",
    "\n",
    "| x1  | x2  | ypred1 |\n",
    "|-----|-----|--------|\n",
    "| 23  | YES | 80     |\n",
    "| 15  | NO  | 72     |\n",
    "| 17  | NO  | 74     |\n",
    "| 21  | YES | 85     |\n",
    "| 25  | YES | 91     |\n",
    "\n",
    "Model2 Predictions\n",
    "------------------\n",
    "\n",
    "Suppose our second model model (called model2) made the following\n",
    "predictions:\n",
    "\n",
    "| x1  | x2  | ypred2 |\n",
    "|-----|-----|--------|\n",
    "| 23  | YES | 79     |\n",
    "| 15  | NO  | 78     |\n",
    "| 17  | NO  | 76     |\n",
    "| 21  | YES | 81     |\n",
    "| 25  | YES | 87     |\n",
    "\n",
    "Lets create some vectors with the actuals and the predictions:\n",
    "\n",
    "Vectors for Actuals and Predictions\n",
    "-----------------------------------\n",
    "\n",
    "-   Create vectors for `actuals`, `predictions1` and `predictions2`.\n",
    "    Remember to use the function `c` when you create your vectors."
   ]
  },
  {
   "cell_type": "code",
   "execution_count": null,
   "metadata": {},
   "outputs": [],
   "source": [
    "actuals <- CODE\n",
    "predictions1 <- CODE\n",
    "predictions2 <- CODE"
   ]
  },
  {
   "cell_type": "markdown",
   "metadata": {},
   "source": [
    "MAE\n",
    "---\n",
    "\n",
    "### Model 1\n",
    "\n",
    "-   find the `mae` of the `actuals` and `predictions1` by passing these\n",
    "    as arguments to the `mae` function:"
   ]
  },
  {
   "cell_type": "code",
   "execution_count": null,
   "metadata": {},
   "outputs": [],
   "source": [
    "mae(CODE)"
   ]
  },
  {
   "cell_type": "markdown",
   "metadata": {},
   "source": [
    "### Model 2\n",
    "\n",
    "-   find the `mae` of the `actuals` and `predictions2` by passing these\n",
    "    as arguments to the `mae` function:"
   ]
  },
  {
   "cell_type": "code",
   "execution_count": null,
   "metadata": {},
   "outputs": [],
   "source": [
    "mae(CODE)"
   ]
  },
  {
   "cell_type": "markdown",
   "metadata": {},
   "source": [
    "#### Results for MAE\n",
    "\n",
    "MAE for Model 1: ???  \n",
    "MAE for Model 2: ???  \n",
    "Which was better: ???\n",
    "\n",
    "MAPE\n",
    "----\n",
    "\n",
    "### Model 1\n",
    "\n",
    "-   find the `mape` of the `actuals` and `predictions1` by passing these\n",
    "    as arguments to the `mape` function:"
   ]
  },
  {
   "cell_type": "code",
   "execution_count": null,
   "metadata": {},
   "outputs": [],
   "source": [
    "mape(CODE)"
   ]
  },
  {
   "cell_type": "markdown",
   "metadata": {},
   "source": [
    "### Model 2\n",
    "\n",
    "-   find the `mape` of the `actuals` and `predictions2` by passing these\n",
    "    as arguments to the `mape` function:"
   ]
  },
  {
   "cell_type": "code",
   "execution_count": null,
   "metadata": {},
   "outputs": [],
   "source": [
    "mape(CODE)"
   ]
  },
  {
   "cell_type": "markdown",
   "metadata": {},
   "source": [
    "#### Results for MAPE\n",
    "\n",
    "MAPE for Model 1: ???  \n",
    "MAPE for Model 2: ???  \n",
    "Which was better: ???\n",
    "\n",
    "RMSE\n",
    "----\n",
    "\n",
    "### Model 1\n",
    "\n",
    "-   find the `rmse` of the `actuals` and `predictions1` by passing these\n",
    "    as arguments to the `rmse` function:"
   ]
  },
  {
   "cell_type": "code",
   "execution_count": null,
   "metadata": {},
   "outputs": [],
   "source": [
    "rmse(CODE)"
   ]
  },
  {
   "cell_type": "markdown",
   "metadata": {},
   "source": [
    "### Model 2\n",
    "\n",
    "-   find the `rmse` of the `actuals` and `predictions2` by passing these\n",
    "    as arguments to the `rmse` function:"
   ]
  },
  {
   "cell_type": "code",
   "execution_count": null,
   "metadata": {},
   "outputs": [],
   "source": [
    "rmse(CODE)"
   ]
  },
  {
   "cell_type": "markdown",
   "metadata": {},
   "source": [
    "#### Results for RMSE\n",
    "\n",
    "RMSE for Model 1: ???  \n",
    "RMSE for Model 2: ???  \n",
    "Which was better: ???\n",
    "\n",
    "Which model was better overall: ???"
   ]
  }
 ],
 "nbformat": 4,
 "nbformat_minor": 5,
 "metadata": {
  "kernelspec": {
   "name": "ir",
   "display_name": "R",
   "language": "R"
  }
 }
}
