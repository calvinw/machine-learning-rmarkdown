{
 "cells": [
  {
   "cell_type": "code",
   "execution_count": null,
   "metadata": {},
   "outputs": [],
   "source": [
    "if (!require(\"Metrics\")) install.packages(\"Metrics\")\n",
    "library(\"Metrics\")"
   ]
  },
  {
   "cell_type": "markdown",
   "metadata": {},
   "source": [
    "Suppose we have two models, `model1` and `model2` created from some\n",
    "training data set (not shown).\n",
    "\n",
    "The models can be described as follows `y~x1+x2`. So the result is `y`\n",
    "and the predictors are `x1` and `x2`.\n",
    "\n",
    "Now we wish to evaluate the two models using the following test data\n",
    "set:\n",
    "\n",
    "| x1  | x2    | y   |\n",
    "|-----|-------|-----|\n",
    "| 23  | TRUE  | 83  |\n",
    "| 15  | FALSE | 78  |\n",
    "| 17  | FALSE | 75  |\n",
    "| 21  | TRUE  | 82  |\n",
    "| 25  | TRUE  | 89  |\n",
    "\n",
    "Suppose our first model (called model1) made the following predictions:\n",
    "\n",
    "| x1  | x2    | ypred1 |\n",
    "|-----|-------|--------|\n",
    "| 23  | TRUE  | 80     |\n",
    "| 15  | FALSE | 72     |\n",
    "| 17  | FALSE | 74     |\n",
    "| 21  | TRUE  | 85     |\n",
    "| 25  | TRUE  | 91     |\n",
    "\n",
    "Suppose our second model model (called model2) made the following\n",
    "predictions:\n",
    "\n",
    "| x1  | x2    | ypred2 |\n",
    "|-----|-------|--------|\n",
    "| 23  | TRUE  | 79     |\n",
    "| 15  | FALSE | 78     |\n",
    "| 17  | FALSE | 76     |\n",
    "| 21  | TRUE  | 81     |\n",
    "| 25  | TRUE  | 87     |\n",
    "\n",
    "Lets create some vectors with the actuals and the predictions:"
   ]
  },
  {
   "cell_type": "code",
   "execution_count": null,
   "metadata": {},
   "outputs": [],
   "source": [
    "actuals <- PUT CODE HERE\n",
    "predictions1 <- PUT CODE HERE \n",
    "predictions2 <- PUT CODE HERE "
   ]
  },
  {
   "cell_type": "markdown",
   "metadata": {},
   "source": [
    "Now lets find the `mae` of the `actuals` and `predictions1`:"
   ]
  },
  {
   "cell_type": "code",
   "execution_count": null,
   "metadata": {},
   "outputs": [],
   "source": [
    "PUT CODE HERE"
   ]
  },
  {
   "cell_type": "markdown",
   "metadata": {},
   "source": [
    "Now lets find the `mae` of the `actuals` and `predictions2`:"
   ]
  },
  {
   "cell_type": "code",
   "execution_count": null,
   "metadata": {},
   "outputs": [],
   "source": [
    "PUT CODE HERE"
   ]
  },
  {
   "cell_type": "markdown",
   "metadata": {},
   "source": [
    "Now lets find the `mape` of the `actuals` and `predictions1`:"
   ]
  },
  {
   "cell_type": "code",
   "execution_count": null,
   "metadata": {},
   "outputs": [],
   "source": [
    "PUT CODE HERE"
   ]
  },
  {
   "cell_type": "markdown",
   "metadata": {},
   "source": [
    "Now lets find the `mape` of the `actuals` and `predictions2`:"
   ]
  },
  {
   "cell_type": "code",
   "execution_count": null,
   "metadata": {},
   "outputs": [],
   "source": [
    "PUT CODE HERE"
   ]
  },
  {
   "cell_type": "markdown",
   "metadata": {},
   "source": [
    "Now lets find the `rmse` of the `actuals` and `predictions1`:"
   ]
  },
  {
   "cell_type": "code",
   "execution_count": null,
   "metadata": {},
   "outputs": [],
   "source": [
    "PUT CODE HERE"
   ]
  },
  {
   "cell_type": "markdown",
   "metadata": {},
   "source": [
    "Now lets find the `rmse` of the `actuals` and `predictions2`:"
   ]
  },
  {
   "cell_type": "code",
   "execution_count": null,
   "metadata": {},
   "outputs": [],
   "source": [
    "PUT CODE HERE"
   ]
  },
  {
   "cell_type": "markdown",
   "metadata": {},
   "source": [
    "Which model was better?"
   ]
  }
 ],
 "nbformat": 4,
 "nbformat_minor": 5,
 "metadata": {
  "kernelspec": {
   "name": "ir",
   "display_name": "R",
   "language": "R"
  }
 }
}
