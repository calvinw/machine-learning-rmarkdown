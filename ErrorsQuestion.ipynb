{
  "cells": [
    {
      "cell_type": "markdown",
      "metadata": {},
      "source": [
        "# Errors Question"
      ],
      "id": "ec9498ef-0f25-48ea-8f20-0cec804fd0eb"
    },
    {
      "cell_type": "code",
      "execution_count": null,
      "metadata": {},
      "outputs": [],
      "source": [
        "if (!require(\"Metrics\")) install.packages(\"Metrics\")\n",
        "library(\"Metrics\")"
      ],
      "id": "622d6dfc-40b4-4073-925b-e7c0054d6f23"
    },
    {
      "cell_type": "markdown",
      "metadata": {},
      "source": [
        "Suppose we have two models, `model1` and `model2` created from some\n",
        "training data set (not shown).\n",
        "\n",
        "The models can be described as follows `y~x1+x2`. So the result is `y`\n",
        "and the predictors are `x1` and `x2`.\n",
        "\n",
        "## Test Data\n",
        "\n",
        "Now we wish to evaluate the two models using the following test data\n",
        "set:\n",
        "\n",
        "| x1  | x2  | y   |\n",
        "|-----|-----|-----|\n",
        "| 23  | YES | 83  |\n",
        "| 15  | NO  | 78  |\n",
        "| 17  | NO  | 75  |\n",
        "| 21  | YES | 82  |\n",
        "| 25  | YES | 89  |\n",
        "\n",
        "## Model1 Predictions\n",
        "\n",
        "Suppose our first model (called model1) made the following predictions:\n",
        "\n",
        "| x1  | x2  | ypred1 |\n",
        "|-----|-----|--------|\n",
        "| 23  | YES | 80     |\n",
        "| 15  | NO  | 72     |\n",
        "| 17  | NO  | 74     |\n",
        "| 21  | YES | 85     |\n",
        "| 25  | YES | 91     |\n",
        "\n",
        "## Model2 Predictions\n",
        "\n",
        "Suppose our second model model (called model2) made the following\n",
        "predictions:\n",
        "\n",
        "| x1  | x2  | ypred2 |\n",
        "|-----|-----|--------|\n",
        "| 23  | YES | 79     |\n",
        "| 15  | NO  | 78     |\n",
        "| 17  | NO  | 76     |\n",
        "| 21  | YES | 81     |\n",
        "| 25  | YES | 87     |\n",
        "\n",
        "Lets create some vectors with the actuals and the predictions:\n",
        "\n",
        "## Vectors for Actuals and Predictions\n",
        "\n",
        "-   Create vectors for `actuals`, `predictions1` and `predictions2`.\n",
        "    Remember to use the function `c` when you create your vectors."
      ],
      "id": "9ca4d9e0-6bba-4188-804a-28e078454425"
    },
    {
      "cell_type": "code",
      "execution_count": null,
      "metadata": {},
      "outputs": [],
      "source": [
        "actuals <- CODE\n",
        "predictions1 <- CODE\n",
        "predictions2 <- CODE"
      ],
      "id": "56e0580e-7fb3-4b39-8299-fd6a96d1c90e"
    },
    {
      "cell_type": "markdown",
      "metadata": {},
      "source": [
        "## MAE\n",
        "\n",
        "### Model 1\n",
        "\n",
        "-   find the `mae` of the `actuals` and `predictions1` by passing these\n",
        "    as arguments to the `mae` function:"
      ],
      "id": "4da1141f-a57e-4281-a7fc-94f2abf3d702"
    },
    {
      "cell_type": "code",
      "execution_count": null,
      "metadata": {},
      "outputs": [],
      "source": [
        "mae(CODE)"
      ],
      "id": "2dd55414-d8d1-4078-8fbf-85be651cc296"
    },
    {
      "cell_type": "markdown",
      "metadata": {},
      "source": [
        "### Model 2\n",
        "\n",
        "-   find the `mae` of the `actuals` and `predictions2` by passing these\n",
        "    as arguments to the `mae` function:"
      ],
      "id": "d5c04dd6-a538-40fa-b99b-a31c4d887ec4"
    },
    {
      "cell_type": "code",
      "execution_count": null,
      "metadata": {},
      "outputs": [],
      "source": [
        "mae(CODE)"
      ],
      "id": "6cac516b-8cd7-4ab4-b64a-21f25a2fa986"
    },
    {
      "cell_type": "markdown",
      "metadata": {},
      "source": [
        "#### Results for MAE\n",
        "\n",
        "MAE for Model 1: ???  \n",
        "MAE for Model 2: ???  \n",
        "Which was better: ???\n",
        "\n",
        "## MAPE\n",
        "\n",
        "### Model 1\n",
        "\n",
        "-   find the `mape` of the `actuals` and `predictions1` by passing these\n",
        "    as arguments to the `mape` function:"
      ],
      "id": "50940553-296c-4de8-b790-d4f7d269d377"
    },
    {
      "cell_type": "code",
      "execution_count": null,
      "metadata": {},
      "outputs": [],
      "source": [
        "mape(CODE)"
      ],
      "id": "79b02a83-a4e3-429b-8b90-c240f315e5b7"
    },
    {
      "cell_type": "markdown",
      "metadata": {},
      "source": [
        "### Model 2\n",
        "\n",
        "-   find the `mape` of the `actuals` and `predictions2` by passing these\n",
        "    as arguments to the `mape` function:"
      ],
      "id": "af64f01b-d68f-453b-bf46-364a5db26fe2"
    },
    {
      "cell_type": "code",
      "execution_count": null,
      "metadata": {},
      "outputs": [],
      "source": [
        "mape(CODE)"
      ],
      "id": "4a4b1942-961e-4a79-adee-7b385269088a"
    },
    {
      "cell_type": "markdown",
      "metadata": {},
      "source": [
        "#### Results for MAPE\n",
        "\n",
        "MAPE for Model 1: ???  \n",
        "MAPE for Model 2: ???  \n",
        "Which was better: ???\n",
        "\n",
        "## RMSE\n",
        "\n",
        "### Model 1\n",
        "\n",
        "-   find the `rmse` of the `actuals` and `predictions1` by passing these\n",
        "    as arguments to the `rmse` function:"
      ],
      "id": "dff5740f-7ead-4ccd-a950-d422d6b751a8"
    },
    {
      "cell_type": "code",
      "execution_count": null,
      "metadata": {},
      "outputs": [],
      "source": [
        "rmse(CODE)"
      ],
      "id": "a240d195-0e2f-4ca5-901e-b23d22ee690f"
    },
    {
      "cell_type": "markdown",
      "metadata": {},
      "source": [
        "### Model 2\n",
        "\n",
        "-   find the `rmse` of the `actuals` and `predictions2` by passing these\n",
        "    as arguments to the `rmse` function:"
      ],
      "id": "d0ae60c5-b73d-4cc7-8e30-f6b7aef93153"
    },
    {
      "cell_type": "code",
      "execution_count": null,
      "metadata": {},
      "outputs": [],
      "source": [
        "rmse(CODE)"
      ],
      "id": "a8401bce-6e64-4ea9-925f-f8fda3899f2f"
    },
    {
      "cell_type": "markdown",
      "metadata": {},
      "source": [
        "#### Results for RMSE\n",
        "\n",
        "RMSE for Model 1: ???  \n",
        "RMSE for Model 2: ???  \n",
        "Which was better: ???\n",
        "\n",
        "Which model was better overall: ???"
      ],
      "id": "e80ea451-3e35-4261-b08c-853c2b24777e"
    }
  ],
  "nbformat": 4,
  "nbformat_minor": 5,
  "metadata": {
    "kernelspec": {
      "name": "ir",
      "display_name": "R",
      "language": "R"
    }
  }
}