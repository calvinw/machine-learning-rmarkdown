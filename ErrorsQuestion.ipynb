{
  "cells": [
    {
      "cell_type": "markdown",
      "metadata": {},
      "source": [
        "# Errors Question"
      ],
      "id": "8a37ca3a-4362-41e3-b071-19c041d5f4e1"
    },
    {
      "cell_type": "code",
      "execution_count": null,
      "metadata": {},
      "outputs": [],
      "source": [
        "if (!require(\"Metrics\")) install.packages(\"Metrics\")\n",
        "library(\"Metrics\")"
      ],
      "id": "2db7ea8c-17f8-4434-963d-b92119b8df8e"
    },
    {
      "cell_type": "markdown",
      "metadata": {},
      "source": [
        "Suppose we have two models, `model1` and `model2` created from some\n",
        "training data set (not shown).\n",
        "\n",
        "The models can be described as follows `y~x1+x2`. So the result is `y`\n",
        "and the predictors are `x1` and `x2`.\n",
        "\n",
        "## Test Data\n",
        "\n",
        "Now we wish to evaluate the two models using the following test data\n",
        "set:\n",
        "\n",
        "| x1  | x2  | y   |\n",
        "|-----|-----|-----|\n",
        "| 23  | YES | 83  |\n",
        "| 15  | NO  | 78  |\n",
        "| 17  | NO  | 75  |\n",
        "| 21  | YES | 82  |\n",
        "| 25  | YES | 89  |\n",
        "\n",
        "## Model1 Predictions\n",
        "\n",
        "Suppose our first model (called model1) made the following predictions:\n",
        "\n",
        "| x1  | x2  | ypred1 |\n",
        "|-----|-----|--------|\n",
        "| 23  | YES | 80     |\n",
        "| 15  | NO  | 72     |\n",
        "| 17  | NO  | 74     |\n",
        "| 21  | YES | 85     |\n",
        "| 25  | YES | 91     |\n",
        "\n",
        "## Model2 Predictions\n",
        "\n",
        "Suppose our second model model (called model2) made the following\n",
        "predictions:\n",
        "\n",
        "| x1  | x2  | ypred2 |\n",
        "|-----|-----|--------|\n",
        "| 23  | YES | 79     |\n",
        "| 15  | NO  | 78     |\n",
        "| 17  | NO  | 76     |\n",
        "| 21  | YES | 81     |\n",
        "| 25  | YES | 87     |\n",
        "\n",
        "Lets create some vectors with the actuals and the predictions:\n",
        "\n",
        "## Vectors for Actuals and Predictions\n",
        "\n",
        "-   Create vectors for `actuals`, `predictions1` and `predictions2`.\n",
        "    Remember to use the function `c` when you create your vectors."
      ],
      "id": "4ea04d3e-1d66-4bf3-a2ec-36313a9b454c"
    },
    {
      "cell_type": "code",
      "execution_count": null,
      "metadata": {},
      "outputs": [],
      "source": [
        "actuals <- CODE\n",
        "predictions1 <- CODE\n",
        "predictions2 <- CODE"
      ],
      "id": "366f1c6f-7e2f-4622-9b59-d03662f12bd4"
    },
    {
      "cell_type": "markdown",
      "metadata": {},
      "source": [
        "## MAE\n",
        "\n",
        "### Model 1\n",
        "\n",
        "-   find the `mae` of the `actuals` and `predictions1` by passing these\n",
        "    as arguments to the `mae` function:"
      ],
      "id": "f710750e-a05c-4882-8a17-856759a78c99"
    },
    {
      "cell_type": "code",
      "execution_count": null,
      "metadata": {},
      "outputs": [],
      "source": [
        "mae(CODE)"
      ],
      "id": "b3bd9d4c-a456-43c4-96f6-818adf80791c"
    },
    {
      "cell_type": "markdown",
      "metadata": {},
      "source": [
        "### Model 2\n",
        "\n",
        "-   find the `mae` of the `actuals` and `predictions2` by passing these\n",
        "    as arguments to the `mae` function:"
      ],
      "id": "851ee9a4-986c-4225-b10e-3bc6d658ebc1"
    },
    {
      "cell_type": "code",
      "execution_count": null,
      "metadata": {},
      "outputs": [],
      "source": [
        "mae(CODE)"
      ],
      "id": "a66bf145-06c5-48eb-9c79-71cc434c204b"
    },
    {
      "cell_type": "markdown",
      "metadata": {},
      "source": [
        "#### Results for MAE\n",
        "\n",
        "MAE for Model 1: ???  \n",
        "MAE for Model 2: ???  \n",
        "Which was better: ???\n",
        "\n",
        "## MAPE\n",
        "\n",
        "### Model 1\n",
        "\n",
        "-   find the `mape` of the `actuals` and `predictions1` by passing these\n",
        "    as arguments to the `mape` function:"
      ],
      "id": "6296ef71-6c0b-486e-8c12-9cd3e9ac9311"
    },
    {
      "cell_type": "code",
      "execution_count": null,
      "metadata": {},
      "outputs": [],
      "source": [
        "mape(CODE)"
      ],
      "id": "ccaf6944-94c7-4274-bda9-1cfa1bdc852b"
    },
    {
      "cell_type": "markdown",
      "metadata": {},
      "source": [
        "### Model 2\n",
        "\n",
        "-   find the `mape` of the `actuals` and `predictions2` by passing these\n",
        "    as arguments to the `mape` function:"
      ],
      "id": "0b1154b2-b8a9-43bc-afc0-d17c38f6c14e"
    },
    {
      "cell_type": "code",
      "execution_count": null,
      "metadata": {},
      "outputs": [],
      "source": [
        "mape(CODE)"
      ],
      "id": "279304c4-6c27-42bc-8ee7-441dab311899"
    },
    {
      "cell_type": "markdown",
      "metadata": {},
      "source": [
        "#### Results for MAPE\n",
        "\n",
        "MAPE for Model 1: ???  \n",
        "MAPE for Model 2: ???  \n",
        "Which was better: ???\n",
        "\n",
        "## RMSE\n",
        "\n",
        "### Model 1\n",
        "\n",
        "-   find the `rmse` of the `actuals` and `predictions1` by passing these\n",
        "    as arguments to the `rmse` function:"
      ],
      "id": "642054aa-cfd4-496e-a4ce-23421ccce410"
    },
    {
      "cell_type": "code",
      "execution_count": null,
      "metadata": {},
      "outputs": [],
      "source": [
        "rmse(CODE)"
      ],
      "id": "1d6772bc-c0ff-4067-a521-520004543967"
    },
    {
      "cell_type": "markdown",
      "metadata": {},
      "source": [
        "### Model 2\n",
        "\n",
        "-   find the `rmse` of the `actuals` and `predictions2` by passing these\n",
        "    as arguments to the `rmse` function:"
      ],
      "id": "7cd34c25-8282-4d13-a4f6-788e59c38c15"
    },
    {
      "cell_type": "code",
      "execution_count": null,
      "metadata": {},
      "outputs": [],
      "source": [
        "rmse(CODE)"
      ],
      "id": "83d22256-8916-41be-a1f2-44d111b0a665"
    },
    {
      "cell_type": "markdown",
      "metadata": {},
      "source": [
        "#### Results for RMSE\n",
        "\n",
        "RMSE for Model 1: ???  \n",
        "RMSE for Model 2: ???  \n",
        "Which was better: ???\n",
        "\n",
        "Which model was better overall: ???"
      ],
      "id": "4326b0d8-5b47-44f9-a8c4-ad6962881ec4"
    }
  ],
  "nbformat": 4,
  "nbformat_minor": 5,
  "metadata": {
    "kernelspec": {
      "name": "ir",
      "display_name": "R",
      "language": "R"
    }
  }
}