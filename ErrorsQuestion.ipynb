{
 "cells": [
  {
   "cell_type": "code",
   "execution_count": null,
   "metadata": {},
   "outputs": [],
   "source": [
    "if (!require(\"Metrics\")) install.packages(\"Metrics\")\n",
    "library(\"Metrics\")"
   ]
  },
  {
   "cell_type": "markdown",
   "metadata": {},
   "source": [
    "Suppose we have two models, `model1` and `model2` created from some\n",
    "training data set (not shown).\n",
    "\n",
    "The models can be described as follows `y~x1+x2`. So the result is `y`\n",
    "and the predictors are `x1` and `x2`.\n",
    "\n",
    "Test Data\n",
    "---------\n",
    "\n",
    "Now we wish to evaluate the two models using the following test data\n",
    "set:\n",
    "\n",
    "| x1  | x2    | y   |\n",
    "|-----|-------|-----|\n",
    "| 23  | TRUE  | 83  |\n",
    "| 15  | FALSE | 78  |\n",
    "| 17  | FALSE | 75  |\n",
    "| 21  | TRUE  | 82  |\n",
    "| 25  | TRUE  | 89  |\n",
    "\n",
    "Model1 Predictions\n",
    "------------------\n",
    "\n",
    "Suppose our first model (called model1) made the following predictions:\n",
    "\n",
    "| x1  | x2    | ypred1 |\n",
    "|-----|-------|--------|\n",
    "| 23  | TRUE  | 80     |\n",
    "| 15  | FALSE | 72     |\n",
    "| 17  | FALSE | 74     |\n",
    "| 21  | TRUE  | 85     |\n",
    "| 25  | TRUE  | 91     |\n",
    "\n",
    "Model2 Predictions\n",
    "------------------\n",
    "\n",
    "Suppose our second model model (called model2) made the following\n",
    "predictions:\n",
    "\n",
    "| x1  | x2    | ypred2 |\n",
    "|-----|-------|--------|\n",
    "| 23  | TRUE  | 79     |\n",
    "| 15  | FALSE | 78     |\n",
    "| 17  | FALSE | 76     |\n",
    "| 21  | TRUE  | 81     |\n",
    "| 25  | TRUE  | 87     |\n",
    "\n",
    "Lets create some vectors with the actuals and the predictions:\n",
    "\n",
    "Vectors for Actuals and Predictions\n",
    "-----------------------------------"
   ]
  },
  {
   "cell_type": "code",
   "execution_count": null,
   "metadata": {},
   "outputs": [],
   "source": [
    "actuals <- c(83,78,75,82,89)\n",
    "predictions1 <- c(80,72,74,85,91)\n",
    "predictions2 <- c(79,78,76,81,87)"
   ]
  },
  {
   "cell_type": "markdown",
   "metadata": {},
   "source": [
    "MAE\n",
    "---\n",
    "\n",
    "-   find the `mae` of the `actuals` and `predictions1`:\n",
    "-   find the `mae` of the `actuals` and `predictions2`:"
   ]
  },
  {
   "cell_type": "code",
   "execution_count": null,
   "metadata": {},
   "outputs": [],
   "source": [
    "mae(actuals, predictions1)\n",
    "mae(actuals, predictions2)"
   ]
  },
  {
   "cell_type": "markdown",
   "metadata": {},
   "source": [
    "Which model was better for MAE: ???\n",
    "\n",
    "MAPE\n",
    "----\n",
    "\n",
    "-   find the `mape` of the `actuals` and `predictions1`:\n",
    "-   find the `mape` of the `actuals` and `predictions2`:"
   ]
  },
  {
   "cell_type": "code",
   "execution_count": null,
   "metadata": {},
   "outputs": [],
   "source": [
    "mape(actuals, predictions1)\n",
    "mape(actuals, predictions2)"
   ]
  },
  {
   "cell_type": "markdown",
   "metadata": {},
   "source": [
    "Which model was better for MAPE: ???\n",
    "\n",
    "RMSE\n",
    "----\n",
    "\n",
    "-   find the `rmse` of the `actuals` and `predictions1`:\n",
    "-   find the `rmse` of the `actuals` and `predictions2`:"
   ]
  },
  {
   "cell_type": "code",
   "execution_count": null,
   "metadata": {},
   "outputs": [],
   "source": [
    "rmse(actuals, predictions1)\n",
    "rmse(actuals, predictions2)"
   ]
  },
  {
   "cell_type": "markdown",
   "metadata": {},
   "source": [
    "Which model was better for RMSE: ???\n",
    "\n",
    "Which model was better overall: ???"
   ]
  }
 ],
 "nbformat": 4,
 "nbformat_minor": 5,
 "metadata": {
  "kernelspec": {
   "name": "ir",
   "display_name": "R",
   "language": "R"
  }
 }
}
