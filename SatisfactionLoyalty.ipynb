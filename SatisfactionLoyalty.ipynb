{
 "cells": [
  {
   "cell_type": "code",
   "execution_count": null,
   "metadata": {},
   "outputs": [],
   "source": [
    "options(\"scipen\"=100, \"digits\"=4)\n",
    "if(!require(\"readr\")) install.packages(\"readr\")\n",
    "library(\"readr\")"
   ]
  },
  {
   "cell_type": "markdown",
   "metadata": {},
   "source": [
    "This example comes from here: [Using Cluster Analysis for Market\n",
    "Segmentation](https://www.segmentationstudyguide.com/using-cluster-analysis-for-market-segmentation/)\n",
    "\n",
    "In this case there is no prediction made for the data. This is an\n",
    "example of “unsupervised” machine learning.\n",
    "\n",
    "Lets read in the data:"
   ]
  },
  {
   "cell_type": "code",
   "execution_count": null,
   "metadata": {},
   "outputs": [],
   "source": [
    "url<-\"cust-satisf-loyalty.csv\"\n",
    "url<-\"https://docs.google.com/spreadsheets/d/e/2PACX-1vRfKqtNd28lmHr259w6Uoeisf7uY9UtxhUeiNnQlULHbD-MPLHN4cQE26adB2R63g0IrWDuadx2doRN/pub?gid=0&single=true&output=csv\"\n",
    "df<-read.csv(url, stringsAsFactors=TRUE)\n",
    "str(df)"
   ]
  },
  {
   "cell_type": "markdown",
   "metadata": {},
   "source": [
    "Lets see a plot of the data as well:"
   ]
  },
  {
   "cell_type": "code",
   "execution_count": null,
   "metadata": {},
   "outputs": [],
   "source": [
    "plot(df, pch=19, main=\"Customer Satisfaction and Loyalty\", xlab=\"Customer Satisfaction\", ylab=\"Loyalty\", xlim=c(0,100), ylim=c(0,100))"
   ]
  },
  {
   "cell_type": "markdown",
   "metadata": {},
   "source": [
    "Here is the setup from that website:\n",
    "\n",
    "> Let’s assume that we have customer satisfaction (CSAT) scores of 1 to\n",
    "> 99 (where 1 = very dissatisfied and 90 = very satisfied). And we have\n",
    "> similar scores for the customer’s level of loyalty (1 = high\n",
    "> switcher-low loyalty and 99 = non-switcher-high loyalty).\n",
    "\n",
    "Lets cluster into 3 clusters:"
   ]
  },
  {
   "cell_type": "code",
   "execution_count": null,
   "metadata": {},
   "outputs": [],
   "source": [
    "set.seed(1)\n",
    "model<-kmeans(df,3)\n",
    "print(model)"
   ]
  },
  {
   "cell_type": "code",
   "execution_count": null,
   "metadata": {},
   "outputs": [],
   "source": [
    "plot(df, pch=19, main=\"Customer Satisfaction and Loyalty\", xlab=\"Customer Satisfaction\", ylab=\"Loyalty\", col=model$cluster, xlim=c(0,100), ylim=c(0,100))"
   ]
  },
  {
   "cell_type": "code",
   "execution_count": null,
   "metadata": {},
   "outputs": [],
   "source": [
    "print(model$cluster)"
   ]
  },
  {
   "cell_type": "markdown",
   "metadata": {},
   "source": [
    "Lets cluster into 2 clusters:"
   ]
  },
  {
   "cell_type": "code",
   "execution_count": null,
   "metadata": {},
   "outputs": [],
   "source": [
    "set.seed(1)\n",
    "model<-kmeans(df,2)\n",
    "plot(df, pch=19, main=\"Customer Satisfaction and Loyalty\", xlab=\"Customer Satisfaction\", ylab=\"Loyalty\", col=model$cluster, xlim=c(0,100), ylim=c(0,100))"
   ]
  },
  {
   "cell_type": "markdown",
   "metadata": {},
   "source": [
    "Lets cluster into 4 clusters:"
   ]
  },
  {
   "cell_type": "code",
   "execution_count": null,
   "metadata": {},
   "outputs": [],
   "source": [
    "set.seed(1)\n",
    "model<-kmeans(df,4)\n",
    "plot(df, pch=19, main=\"Customer Satisfaction and Loyalty\", xlab=\"Customer Satisfaction\", ylab=\"Loyalty\", col=model$cluster, xlim=c(0,100), ylim=c(0,100))"
   ]
  },
  {
   "cell_type": "markdown",
   "metadata": {},
   "source": [
    "Lets cluster into 5 clusters:"
   ]
  },
  {
   "cell_type": "code",
   "execution_count": null,
   "metadata": {},
   "outputs": [],
   "source": [
    "set.seed(1)\n",
    "model<-kmeans(df,5)\n",
    "plot(df, pch=19, main=\"Customer Satisfaction and Loyalty\", xlab=\"Customer Satisfaction\", ylab=\"Loyalty\", col=model$cluster, xlim=c(0,100), ylim=c(0,100))"
   ]
  }
 ],
 "nbformat": 4,
 "nbformat_minor": 5,
 "metadata": {
  "kernelspec": {
   "name": "ir",
   "display_name": "R",
   "language": "R"
  }
 }
}

