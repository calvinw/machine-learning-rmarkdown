{
 "cells": [
  {
   "cell_type": "markdown",
   "metadata": {},
   "source": [
    "Vectors are lists of elements of the same type. They are an extremely\n",
    "important data structure in R.\n",
    "\n",
    "Vectors are created using the `c` function, which stands for “combine”."
   ]
  },
  {
   "cell_type": "code",
   "execution_count": null,
   "metadata": {},
   "outputs": [],
   "source": [
    "x<-c(3,7.4,-3, 3.2)\n",
    "x"
   ]
  },
  {
   "cell_type": "markdown",
   "metadata": {},
   "source": [
    "This vector has class ‘numeric’ and has 4 elements. We can see by using\n",
    "the `length` function:"
   ]
  },
  {
   "cell_type": "code",
   "execution_count": null,
   "metadata": {},
   "outputs": [],
   "source": [
    "class(x)\n",
    "length(x)"
   ]
  },
  {
   "cell_type": "markdown",
   "metadata": {},
   "source": [
    "Lets take a look at the ‘structure’ of x using the `str` function:"
   ]
  },
  {
   "cell_type": "code",
   "execution_count": null,
   "metadata": {},
   "outputs": [],
   "source": [
    "str(x)"
   ]
  },
  {
   "cell_type": "markdown",
   "metadata": {},
   "source": [
    "The following vector has class ‘character’ and its length is 3:"
   ]
  },
  {
   "cell_type": "code",
   "execution_count": null,
   "metadata": {},
   "outputs": [],
   "source": [
    "y<-c(\"Goodbye\", \"Hello\", \"Goodnight\")\n",
    "y\n",
    "class(y)\n",
    "length(y)"
   ]
  },
  {
   "cell_type": "markdown",
   "metadata": {},
   "source": [
    "The following vector has class ‘logical’ and its length is 5:"
   ]
  },
  {
   "cell_type": "code",
   "execution_count": null,
   "metadata": {},
   "outputs": [],
   "source": [
    "z<-c(TRUE, FALSE, TRUE, FALSE, FALSE)\n",
    "z\n",
    "class(z)\n",
    "length(z)"
   ]
  },
  {
   "cell_type": "markdown",
   "metadata": {},
   "source": [
    "Notice each vector has to have the same type for each of its elements.\n",
    "\n",
    "1.  `x` is a vector of class ‘numeric’\n",
    "2.  `y` is a vector of class ‘character’\n",
    "3.  `z` is a vector of class ‘logical’\n",
    "\n",
    "What would happen if we try to combine components that had different\n",
    "classes?"
   ]
  },
  {
   "cell_type": "code",
   "execution_count": null,
   "metadata": {},
   "outputs": [],
   "source": [
    "a<-c(TRUE, 4.5, \"hello\")\n",
    "a"
   ]
  },
  {
   "cell_type": "code",
   "execution_count": null,
   "metadata": {},
   "outputs": [],
   "source": [
    "str(a)"
   ]
  },
  {
   "cell_type": "markdown",
   "metadata": {},
   "source": [
    "At first it looks like this worked, but notice how each element is a\n",
    "‘character’ now:"
   ]
  },
  {
   "cell_type": "code",
   "execution_count": null,
   "metadata": {},
   "outputs": [],
   "source": [
    "class(a)"
   ]
  },
  {
   "cell_type": "markdown",
   "metadata": {},
   "source": [
    "What happened? Here we tried to create a vector whose elements were\n",
    "different types.\n",
    "\n",
    "When we did that R went ahead and did it, but it made each element a\n",
    "string.\n",
    "\n",
    "Some of the big advantages of vectors has to do with math we can do with\n",
    "them. It turns out that vectors can simplify a lot of the calculations\n",
    "you might want to do in data science.\n",
    "\n",
    "Lets try to add two vectors:"
   ]
  },
  {
   "cell_type": "code",
   "execution_count": null,
   "metadata": {},
   "outputs": [],
   "source": [
    "x<-c(2,4,3,1)\n",
    "y<-c(3,6,1,9)\n",
    "x+y"
   ]
  },
  {
   "cell_type": "markdown",
   "metadata": {},
   "source": [
    "What about multiplying them together:"
   ]
  },
  {
   "cell_type": "code",
   "execution_count": null,
   "metadata": {},
   "outputs": [],
   "source": [
    "w<-c(2,4,3,1)\n",
    "z<-c(3,6,1,9)\n",
    "w*z"
   ]
  },
  {
   "cell_type": "markdown",
   "metadata": {},
   "source": [
    "Or multiplying a vector by a number:"
   ]
  },
  {
   "cell_type": "code",
   "execution_count": null,
   "metadata": {},
   "outputs": [],
   "source": [
    "a<-c(2,4,3,1)\n",
    "5*a"
   ]
  },
  {
   "cell_type": "markdown",
   "metadata": {},
   "source": [
    "Suppose we want to access the elements in a vector. You can access the\n",
    "elements in a vector by using the “subscript” notation. This means you\n",
    "refer to the different elements using an index:"
   ]
  },
  {
   "cell_type": "code",
   "execution_count": null,
   "metadata": {},
   "outputs": [],
   "source": [
    "b<-c(4,3,-1,2)\n",
    "b[1]\n",
    "b[2]\n",
    "b[3]\n",
    "b[4]"
   ]
  },
  {
   "cell_type": "markdown",
   "metadata": {},
   "source": [
    "The first index is 1 and the last index is 4 for this vector. In some\n",
    "programming languages the first element in a vector would be refered to\n",
    "with an index of 0, not 1.\n",
    "\n",
    "What happens if we use a negative index?"
   ]
  },
  {
   "cell_type": "code",
   "execution_count": null,
   "metadata": {},
   "outputs": [],
   "source": [
    "b[-1]\n",
    "b[-2]"
   ]
  },
  {
   "cell_type": "markdown",
   "metadata": {},
   "source": [
    "`b[-1]` removes the first element of the vector `b[-2]` removes the\n",
    "second element of the vector"
   ]
  },
  {
   "cell_type": "code",
   "execution_count": null,
   "metadata": {},
   "outputs": [],
   "source": [
    "b[5]"
   ]
  },
  {
   "cell_type": "markdown",
   "metadata": {},
   "source": [
    "This returns `NA`, which means “not applicable”. `NA` is a type that\n",
    "usually means “missing data” for some reason. Often times in data\n",
    "science you are collecting data but some of it is deleted or missing.\n",
    "For that you would use `NA`."
   ]
  },
  {
   "cell_type": "code",
   "execution_count": null,
   "metadata": {},
   "outputs": [],
   "source": [
    "d<-c(3,5,NA)\n",
    "d\n",
    "str(d)"
   ]
  },
  {
   "cell_type": "markdown",
   "metadata": {},
   "source": [
    "Vectors are convenient for applying functions that depend on a list of\n",
    "numbers. For examples the `mean` and `median` of a set of numbers."
   ]
  },
  {
   "cell_type": "code",
   "execution_count": null,
   "metadata": {},
   "outputs": [],
   "source": [
    "v<-c(65, 77, 89, 54, 78, 82)\n",
    "mean(v)\n",
    "median(v)"
   ]
  },
  {
   "cell_type": "markdown",
   "metadata": {},
   "source": [
    "Other examples are the `min` and `max` of a set of numbers:"
   ]
  },
  {
   "cell_type": "code",
   "execution_count": null,
   "metadata": {},
   "outputs": [],
   "source": [
    "min(v)\n",
    "max(v)"
   ]
  },
  {
   "cell_type": "markdown",
   "metadata": {},
   "source": [
    "Some functions will apply the function to each element in the vector\n",
    "individually. For example `sqrt`:"
   ]
  },
  {
   "cell_type": "code",
   "execution_count": null,
   "metadata": {},
   "outputs": [],
   "source": [
    "w<- c(9,16,25)\n",
    "z<-sqrt(w)\n",
    "z"
   ]
  }
 ],
 "nbformat": 4,
 "nbformat_minor": 5,
 "metadata": {
  "kernelspec": {
   "name": "ir",
   "display_name": "R",
   "language": "R"
  }
 }
}

