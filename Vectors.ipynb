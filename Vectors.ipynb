{
  "cells": [
    {
      "cell_type": "markdown",
      "metadata": {},
      "source": [
        "# Vectors\n",
        "\n",
        "Vectors are lists of elements of the same type. They are an extremely\n",
        "important data structure in R.\n",
        "\n",
        "### Use Combine Function `c` to Create Vectors\n",
        "\n",
        "#### Numeric Vectors\n",
        "\n",
        "Vectors are created using the `c` function, which stands for “combine”."
      ],
      "id": "10cecd93-2cba-48bd-913f-f016f2893ac7"
    },
    {
      "cell_type": "code",
      "execution_count": null,
      "metadata": {},
      "outputs": [
        {
          "output_type": "stream",
          "name": "stdout",
          "text": [
            "[1]  3.0  7.4 -3.0  3.2"
          ]
        }
      ],
      "source": [
        "x<-c(3,7.4,-3, 3.2)\n",
        "x"
      ],
      "id": "6d360f88-4a9a-4cf7-a5b8-643034f91dba"
    },
    {
      "cell_type": "markdown",
      "metadata": {},
      "source": [
        "This vector has class ‘numeric’ and has 4 elements. We can see by using\n",
        "the `length` function:"
      ],
      "id": "fdfbc94c-caae-4cbb-87a4-6cc884ce4209"
    },
    {
      "cell_type": "code",
      "execution_count": null,
      "metadata": {},
      "outputs": [
        {
          "output_type": "stream",
          "name": "stdout",
          "text": [
            "[1] \"numeric\""
          ]
        },
        {
          "output_type": "stream",
          "name": "stdout",
          "text": [
            "[1] 4"
          ]
        }
      ],
      "source": [
        "class(x)"
      ],
      "id": "e5b4f7bc-80eb-48e5-b6d4-2b6ced720756"
    },
    {
      "cell_type": "markdown",
      "metadata": {},
      "source": [
        "Lets take a look at the ‘structure’ of x using the `str` function:"
      ],
      "id": "2a5650e8-f03d-4305-9553-3af060a353f3"
    },
    {
      "cell_type": "code",
      "execution_count": null,
      "metadata": {},
      "outputs": [
        {
          "output_type": "stream",
          "name": "stdout",
          "text": [
            " num [1:4] 3 7.4 -3 3.2"
          ]
        }
      ],
      "source": [
        "str(x)"
      ],
      "id": "2e18f2cc-49b7-4993-a625-191a5411dc86"
    },
    {
      "cell_type": "markdown",
      "metadata": {},
      "source": [
        "#### Character Vectors\n",
        "\n",
        "The following vector has class ‘character’ and its length is 3:"
      ],
      "id": "ffc093cc-85e1-4111-8fa4-f3a21d4b8af4"
    },
    {
      "cell_type": "code",
      "execution_count": null,
      "metadata": {},
      "outputs": [
        {
          "output_type": "stream",
          "name": "stdout",
          "text": [
            "[1] \"Goodbye\"   \"Hello\"     \"Goodnight\""
          ]
        },
        {
          "output_type": "stream",
          "name": "stdout",
          "text": [
            "[1] \"character\""
          ]
        },
        {
          "output_type": "stream",
          "name": "stdout",
          "text": [
            "[1] 3"
          ]
        },
        {
          "output_type": "stream",
          "name": "stdout",
          "text": [
            " chr [1:3] \"Goodbye\" \"Hello\" \"Goodnight\""
          ]
        }
      ],
      "source": [
        "y<-c(\"Goodbye\", \"Hello\", \"Goodnight\")\n",
        "y"
      ],
      "id": "9cc23982-1545-4b11-958c-74ccd0a8a4f5"
    },
    {
      "cell_type": "markdown",
      "metadata": {},
      "source": [
        "#### Logical Vectors\n",
        "\n",
        "The following vector has class ‘logical’ and its length is 5:"
      ],
      "id": "719c3a24-c146-4e81-9014-6688dff9a54b"
    },
    {
      "cell_type": "code",
      "execution_count": null,
      "metadata": {},
      "outputs": [
        {
          "output_type": "stream",
          "name": "stdout",
          "text": [
            "[1]  TRUE FALSE  TRUE FALSE FALSE"
          ]
        },
        {
          "output_type": "stream",
          "name": "stdout",
          "text": [
            "[1] \"logical\""
          ]
        },
        {
          "output_type": "stream",
          "name": "stdout",
          "text": [
            "[1] 5"
          ]
        },
        {
          "output_type": "stream",
          "name": "stdout",
          "text": [
            " logi [1:5] TRUE FALSE TRUE FALSE FALSE"
          ]
        }
      ],
      "source": [
        "z<-c(TRUE, FALSE, TRUE, FALSE, FALSE)\n",
        "z"
      ],
      "id": "0912226e-0e6a-4efb-829e-229e616c7400"
    },
    {
      "cell_type": "markdown",
      "metadata": {},
      "source": [
        "### Same Data Type For Every Element\n",
        "\n",
        "Notice each vector has to have the same type for each of its elements.\n",
        "\n",
        "-   `x` above is a vector of class ‘numeric’\n",
        "-   `y` above is a vector of class ‘character’\n",
        "-   `z` above is a vector of class ‘logical’\n",
        "\n",
        "What would happen if we try to combine components that had different\n",
        "classes?"
      ],
      "id": "9dec00e7-1f20-4672-928e-8c35eb94ac60"
    },
    {
      "cell_type": "code",
      "execution_count": null,
      "metadata": {},
      "outputs": [
        {
          "output_type": "stream",
          "name": "stdout",
          "text": [
            "[1] \"TRUE\"  \"4.5\"   \"hello\""
          ]
        }
      ],
      "source": [
        "a<-c(TRUE, 4.5, \"hello\")\n",
        "a"
      ],
      "id": "19c67635-da15-4179-a37a-6ac40bc43158"
    },
    {
      "cell_type": "code",
      "execution_count": null,
      "metadata": {},
      "outputs": [
        {
          "output_type": "stream",
          "name": "stdout",
          "text": [
            " chr [1:3] \"TRUE\" \"4.5\" \"hello\""
          ]
        }
      ],
      "source": [
        "str(a)"
      ],
      "id": "aa57f86d-c5be-4bea-812e-43ab69c7081c"
    },
    {
      "cell_type": "markdown",
      "metadata": {},
      "source": [
        "At first it looks like this worked, but notice how each element is a\n",
        "‘character’ now:"
      ],
      "id": "70c9af4f-a868-4c91-ad49-ebd3109a80a8"
    },
    {
      "cell_type": "code",
      "execution_count": null,
      "metadata": {},
      "outputs": [
        {
          "output_type": "stream",
          "name": "stdout",
          "text": [
            "[1] \"character\""
          ]
        }
      ],
      "source": [
        "class(a)"
      ],
      "id": "f11d6c1b-2025-48c2-a6cc-ae40d0a44ed6"
    },
    {
      "cell_type": "markdown",
      "metadata": {},
      "source": [
        "What happened? Here we tried to create a vector whose elements were\n",
        "different types.\n",
        "\n",
        "When we did that R went ahead and did it, but it made each element a\n",
        "string.\n",
        "\n",
        "### Calculations with Vectors\n",
        "\n",
        "Some of the big advantages of vectors has to do with math we can do with\n",
        "them. It turns out that vectors can simplify a lot of the calculations\n",
        "you might want to do in data science.\n",
        "\n",
        "#### Adding Vectors\n",
        "\n",
        "Lets try to add two vectors:"
      ],
      "id": "13362391-c3e4-4ca6-97d3-f6330d6a827b"
    },
    {
      "cell_type": "code",
      "execution_count": null,
      "metadata": {},
      "outputs": [
        {
          "output_type": "stream",
          "name": "stdout",
          "text": [
            "[1]  5 10  4 10"
          ]
        }
      ],
      "source": [
        "x<-c(2,4,3,1)\n",
        "y<-c(3,6,1,9)\n",
        "x+y"
      ],
      "id": "45c48f52-9fd1-4303-8cb3-a07b0d1efdc3"
    },
    {
      "cell_type": "markdown",
      "metadata": {},
      "source": [
        "#### Multiplying Vectors\n",
        "\n",
        "What about multiplying them together:"
      ],
      "id": "77e7702c-5867-44a7-a5f6-d435844aead3"
    },
    {
      "cell_type": "code",
      "execution_count": null,
      "metadata": {},
      "outputs": [
        {
          "output_type": "stream",
          "name": "stdout",
          "text": [
            "[1]  6 24  3  9"
          ]
        }
      ],
      "source": [
        "w<-c(2,4,3,1)\n",
        "z<-c(3,6,1,9)\n",
        "w*z"
      ],
      "id": "0e663867-44ad-4e6f-9292-60f471149219"
    },
    {
      "cell_type": "markdown",
      "metadata": {},
      "source": [
        "#### Multiplying Vectors by a Number\n",
        "\n",
        "Or multiplying a vector by a number:"
      ],
      "id": "7f3f1737-f56a-4e71-a4cd-f5aa6490879b"
    },
    {
      "cell_type": "code",
      "execution_count": null,
      "metadata": {},
      "outputs": [
        {
          "output_type": "stream",
          "name": "stdout",
          "text": [
            "[1] 10 20 15  5"
          ]
        }
      ],
      "source": [
        "a<-c(2,4,3,1)\n",
        "5*a"
      ],
      "id": "5d34d1d6-c869-4b0e-b62b-85ede2d6787a"
    },
    {
      "cell_type": "markdown",
      "metadata": {},
      "source": [
        "### Accessing Elements With An Index\n",
        "\n",
        "Suppose we want to access the elements in a vector. You can access the\n",
        "elements in a vector by using the “subscript” notation. This means you\n",
        "refer to the different elements using an index:\n",
        "\n",
        "Here is an example of a vector defined like this: `b<-c(4,3,-1,2)`:\n",
        "\n",
        "| index  | 1   | 2   | 3   | 4   |\n",
        "|--------|-----|-----|-----|-----|\n",
        "| values | 4   | 3   | -1  | 2   |\n",
        "\n",
        "You can access the elements in the vector like this:\n",
        "\n",
        "-   `b[1]` will be 4\n",
        "-   `b[2]` will be 3\n",
        "-   `b[3]` will be -1\n",
        "-   `b[4]` will be 2\n",
        "\n",
        "Let’s see this index notation in use:"
      ],
      "id": "a4c77278-d465-4b70-bcda-8da1b88996cd"
    },
    {
      "cell_type": "code",
      "execution_count": null,
      "metadata": {},
      "outputs": [
        {
          "output_type": "stream",
          "name": "stdout",
          "text": [
            "[1] 4"
          ]
        },
        {
          "output_type": "stream",
          "name": "stdout",
          "text": [
            "[1] 3"
          ]
        },
        {
          "output_type": "stream",
          "name": "stdout",
          "text": [
            "[1] -1"
          ]
        },
        {
          "output_type": "stream",
          "name": "stdout",
          "text": [
            "[1] 2"
          ]
        }
      ],
      "source": [
        "b<-c(4,3,-1,2)\n",
        "b[1]"
      ],
      "id": "465dfd4b-a35b-4743-9965-7602b186c0f4"
    },
    {
      "cell_type": "markdown",
      "metadata": {},
      "source": [
        "The first index is 1 and the last index is 4 for this vector. In some\n",
        "programming languages the first element in a vector would be refered to\n",
        "with an index of 0, not 1."
      ],
      "id": "f813ab99-ef93-44c4-8483-b095bae741a9"
    },
    {
      "cell_type": "code",
      "execution_count": null,
      "metadata": {},
      "outputs": [
        {
          "output_type": "stream",
          "name": "stdout",
          "text": [
            "[1] NA"
          ]
        }
      ],
      "source": [
        "b[5]"
      ],
      "id": "6f3ed89d-f9c2-497a-afb2-695839df9bac"
    },
    {
      "cell_type": "markdown",
      "metadata": {},
      "source": [
        "This returns `NA`, which means “not applicable”. `NA` is a type that\n",
        "usually means “missing data” for some reason. Often times in data\n",
        "science you are collecting data but some of it is deleted or missing.\n",
        "For that you would use `NA`."
      ],
      "id": "b4a2cb09-ce4f-494e-b36e-60f47ea72e59"
    },
    {
      "cell_type": "code",
      "execution_count": null,
      "metadata": {},
      "outputs": [
        {
          "output_type": "stream",
          "name": "stdout",
          "text": [
            "[1]  3  5 NA"
          ]
        },
        {
          "output_type": "stream",
          "name": "stdout",
          "text": [
            " num [1:3] 3 5 NA"
          ]
        }
      ],
      "source": [
        "d<-c(3,5,NA)\n",
        "d"
      ],
      "id": "1beac310-5a6e-4a02-8c9a-5a526a7d6db1"
    },
    {
      "cell_type": "markdown",
      "metadata": {},
      "source": [
        "### Applying Functions to a Vector\n",
        "\n",
        "Vectors are convenient for applying functions that depend on a list of\n",
        "numbers.\n",
        "\n",
        "Perhaps the simplest example is the function `sum`:"
      ],
      "id": "5764c67a-46fa-4175-8d80-7cf0415d90ab"
    },
    {
      "cell_type": "code",
      "execution_count": null,
      "metadata": {},
      "outputs": [
        {
          "output_type": "stream",
          "name": "stdout",
          "text": [
            "[1] 13.3"
          ]
        }
      ],
      "source": [
        "v<-c(4, 3.4, 2.9, 3)\n",
        "sum(v)"
      ],
      "id": "ff8df662-8c3a-4524-91c7-38af904196c5"
    },
    {
      "cell_type": "markdown",
      "metadata": {},
      "source": [
        "The above finds the sum of the 4 values in the vector\n",
        "\n",
        "More examples are the `mean` and `median` of a set of numbers."
      ],
      "id": "88409cf9-0936-4684-b8a7-6222231bb663"
    },
    {
      "cell_type": "code",
      "execution_count": null,
      "metadata": {},
      "outputs": [
        {
          "output_type": "stream",
          "name": "stdout",
          "text": [
            "[1] 3.325"
          ]
        },
        {
          "output_type": "stream",
          "name": "stdout",
          "text": [
            "[1] 3.2"
          ]
        }
      ],
      "source": [
        "mean(v)"
      ],
      "id": "6281cd9a-e3bd-4b30-ae80-d93c4cefc4ee"
    },
    {
      "cell_type": "markdown",
      "metadata": {},
      "source": [
        "And more examples are the `min` and `max` of a set of numbers:"
      ],
      "id": "901d16a5-8c83-45cf-989d-754de1d742e2"
    },
    {
      "cell_type": "code",
      "execution_count": null,
      "metadata": {},
      "outputs": [
        {
          "output_type": "stream",
          "name": "stdout",
          "text": [
            "[1] 2.9"
          ]
        },
        {
          "output_type": "stream",
          "name": "stdout",
          "text": [
            "[1] 4"
          ]
        }
      ],
      "source": [
        "min(v)"
      ],
      "id": "c11393d0-cd22-43a5-ae92-909c02377e05"
    },
    {
      "cell_type": "markdown",
      "metadata": {},
      "source": [
        "Some functions will apply the function to each element in the vector\n",
        "individually. For example `sqrt`:"
      ],
      "id": "f8aa0286-f54a-40e3-a38a-a301a7f6fa13"
    },
    {
      "cell_type": "code",
      "execution_count": null,
      "metadata": {},
      "outputs": [
        {
          "output_type": "stream",
          "name": "stdout",
          "text": [
            "[1] 3 4 5"
          ]
        }
      ],
      "source": [
        "w<- c(9,16,25)\n",
        "z<-sqrt(w)\n",
        "z"
      ],
      "id": "42cfe967-f6da-4f15-a7f0-2a4e42ed18cb"
    },
    {
      "cell_type": "markdown",
      "metadata": {},
      "source": [
        "### Converting Vectors To Different Type\n",
        "\n",
        "#### Converting Characters to Numeric\n",
        "\n",
        "Let’s see an example of taking a vector of strings and converting it to\n",
        "vector of numerics;"
      ],
      "id": "d8a53ae4-9911-48e5-888b-8f21ef030fbd"
    },
    {
      "cell_type": "code",
      "execution_count": null,
      "metadata": {},
      "outputs": [
        {
          "output_type": "stream",
          "name": "stdout",
          "text": [
            "[1] 1.23 2.40 0.32"
          ]
        },
        {
          "output_type": "stream",
          "name": "stdout",
          "text": [
            " num [1:3] 1.23 2.4 0.32"
          ]
        }
      ],
      "source": [
        "myStrings<- c(\"1.23\", \"2.4\", \"0.32\")\n",
        "myNumbers<- as.numeric(myStrings)\n",
        "myNumbers"
      ],
      "id": "d5841156-4a76-4744-993a-0aaa70040b52"
    },
    {
      "cell_type": "markdown",
      "metadata": {},
      "source": [
        "#### Converting Vector of Numeric to Characters\n",
        "\n",
        "Let’s see an example of taking a vector of strings and converting it to\n",
        "vector of numerics;"
      ],
      "id": "606ed22f-6032-44d6-b559-307c5e1a3b1f"
    },
    {
      "cell_type": "code",
      "execution_count": null,
      "metadata": {},
      "outputs": [
        {
          "output_type": "stream",
          "name": "stdout",
          "text": [
            "[1] \"2.3\"   \"-1.23\" \"0.24\" "
          ]
        },
        {
          "output_type": "stream",
          "name": "stdout",
          "text": [
            " chr [1:3] \"2.3\" \"-1.23\" \"0.24\""
          ]
        }
      ],
      "source": [
        "myNumbers<- c(2.3, -1.23, 0.24)\n",
        "myStrings<- as.character(myNumbers)\n",
        "myStrings"
      ],
      "id": "8e399441-d063-4654-8054-649246975f0f"
    },
    {
      "cell_type": "markdown",
      "metadata": {},
      "source": [
        "### Applications Using Vectors"
      ],
      "id": "69c1fc5e-5c28-4bf7-a282-bd1b5757f65f"
    },
    {
      "cell_type": "code",
      "execution_count": null,
      "metadata": {},
      "outputs": [],
      "source": [
        "x<-c(12,63,55,38,45,81)\n",
        "y<-c(22,51,56,43,62,78)"
      ],
      "id": "4011b3af-bdc6-432e-88c9-e2eb5edb03e3"
    },
    {
      "cell_type": "markdown",
      "metadata": {},
      "source": [
        "Scatterplots are easy to do if the x-variable and the y-variable for\n",
        "scatterplot are in two vectors:"
      ],
      "id": "59eb8fe2-413a-4255-aad9-4e2290d63cc7"
    },
    {
      "cell_type": "code",
      "execution_count": null,
      "metadata": {},
      "outputs": [
        {
          "output_type": "display_data",
          "metadata": {},
          "data": {
            "image/png": "[encoded data removed]"
          }
        }
      ],
      "source": [
        "plot(x,y)"
      ],
      "id": "338381f1-4da3-46fe-af60-dfd1460d77ea"
    },
    {
      "cell_type": "markdown",
      "metadata": {},
      "source": [
        "Then it is easy to do a regression model as well:"
      ],
      "id": "fb222de0-752c-4b31-93f7-3f7a468a7693"
    },
    {
      "cell_type": "code",
      "execution_count": null,
      "metadata": {},
      "outputs": [
        {
          "output_type": "stream",
          "name": "stdout",
          "text": [
            "\n",
            "Call:\n",
            "lm(formula = y ~ x)\n",
            "\n",
            "Residuals:\n",
            "       1        2        3        4        5        6 \n",
            " -3.0605 -11.1933  -0.3686  -0.9909  12.9124   2.7009 \n",
            "\n",
            "Coefficients:\n",
            "            Estimate Std. Error t value Pr(>|t|)  \n",
            "(Intercept)  16.3233     8.9574   1.822   0.1425  \n",
            "x             0.7281     0.1675   4.348   0.0122 *\n",
            "---\n",
            "Signif. codes:  0 '***' 0.001 '**' 0.01 '*' 0.05 '.' 0.1 ' ' 1\n",
            "\n",
            "Residual standard error: 8.801 on 4 degrees of freedom\n",
            "Multiple R-squared:  0.8254,    Adjusted R-squared:  0.7817 \n",
            "F-statistic: 18.91 on 1 and 4 DF,  p-value: 0.01218"
          ]
        }
      ],
      "source": [
        "model<-lm(y~x)\n",
        "summary(model)"
      ],
      "id": "efbc185f-d1e1-4ead-851f-4c8fa089119e"
    }
  ],
  "nbformat": 4,
  "nbformat_minor": 5,
  "metadata": {
    "kernelspec": {
      "name": "ir",
      "display_name": "R",
      "language": "R"
    }
  }
}