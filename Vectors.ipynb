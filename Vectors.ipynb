{
  "cells": [
    {
      "cell_type": "markdown",
      "metadata": {},
      "source": [
        "# Vectors\n",
        "\n",
        "Vectors are lists of elements of the same type. They are an extremely\n",
        "important data structure in R.\n",
        "\n",
        "### Use Combine Function `c` to Create Vectors\n",
        "\n",
        "#### Numeric Vectors\n",
        "\n",
        "Vectors are created using the `c` function, which stands for “combine”."
      ],
      "id": "1a50c446-9440-47dc-8615-3651556dd6a5"
    },
    {
      "cell_type": "code",
      "execution_count": null,
      "metadata": {},
      "outputs": [
        {
          "output_type": "stream",
          "name": "stdout",
          "text": [
            "[1]  3.0  7.4 -3.0  3.2"
          ]
        }
      ],
      "source": [
        "x<-c(3,7.4,-3, 3.2)\n",
        "x"
      ],
      "id": "bb289462-f9bf-4727-9f9e-3f41df73819e"
    },
    {
      "cell_type": "markdown",
      "metadata": {},
      "source": [
        "This vector has class ‘numeric’ and has 4 elements. We can see by using\n",
        "the `length` function:"
      ],
      "id": "8dd766ff-960b-4597-9f51-3f489200198f"
    },
    {
      "cell_type": "code",
      "execution_count": null,
      "metadata": {},
      "outputs": [
        {
          "output_type": "stream",
          "name": "stdout",
          "text": [
            "[1] \"numeric\""
          ]
        },
        {
          "output_type": "stream",
          "name": "stdout",
          "text": [
            "[1] 4"
          ]
        }
      ],
      "source": [
        "class(x)"
      ],
      "id": "63f283cc-9a9e-48a6-ae9e-081e6e34d6ba"
    },
    {
      "cell_type": "markdown",
      "metadata": {},
      "source": [
        "Lets take a look at the ‘structure’ of x using the `str` function:"
      ],
      "id": "9c49e813-192d-442c-a92a-fbab81b78815"
    },
    {
      "cell_type": "code",
      "execution_count": null,
      "metadata": {},
      "outputs": [
        {
          "output_type": "stream",
          "name": "stdout",
          "text": [
            " num [1:4] 3 7.4 -3 3.2"
          ]
        }
      ],
      "source": [
        "str(x)"
      ],
      "id": "4d53118d-fdbd-46bd-9535-074fa73ad36c"
    },
    {
      "cell_type": "markdown",
      "metadata": {},
      "source": [
        "#### Character Vectors\n",
        "\n",
        "The following vector has class ‘character’ and its length is 3:"
      ],
      "id": "5e3d4540-3f01-4ba2-8819-a235daca9370"
    },
    {
      "cell_type": "code",
      "execution_count": null,
      "metadata": {},
      "outputs": [
        {
          "output_type": "stream",
          "name": "stdout",
          "text": [
            "[1] \"Goodbye\"   \"Hello\"     \"Goodnight\""
          ]
        },
        {
          "output_type": "stream",
          "name": "stdout",
          "text": [
            "[1] \"character\""
          ]
        },
        {
          "output_type": "stream",
          "name": "stdout",
          "text": [
            "[1] 3"
          ]
        },
        {
          "output_type": "stream",
          "name": "stdout",
          "text": [
            " chr [1:3] \"Goodbye\" \"Hello\" \"Goodnight\""
          ]
        }
      ],
      "source": [
        "y<-c(\"Goodbye\", \"Hello\", \"Goodnight\")\n",
        "y"
      ],
      "id": "7be1d62c-62f5-4152-bec9-9b1c18945803"
    },
    {
      "cell_type": "markdown",
      "metadata": {},
      "source": [
        "#### Logical Vectors\n",
        "\n",
        "The following vector has class ‘logical’ and its length is 5:"
      ],
      "id": "d8471be2-8ab4-40fd-ac59-905898862287"
    },
    {
      "cell_type": "code",
      "execution_count": null,
      "metadata": {},
      "outputs": [
        {
          "output_type": "stream",
          "name": "stdout",
          "text": [
            "[1]  TRUE FALSE  TRUE FALSE FALSE"
          ]
        },
        {
          "output_type": "stream",
          "name": "stdout",
          "text": [
            "[1] \"logical\""
          ]
        },
        {
          "output_type": "stream",
          "name": "stdout",
          "text": [
            "[1] 5"
          ]
        },
        {
          "output_type": "stream",
          "name": "stdout",
          "text": [
            " logi [1:5] TRUE FALSE TRUE FALSE FALSE"
          ]
        }
      ],
      "source": [
        "z<-c(TRUE, FALSE, TRUE, FALSE, FALSE)\n",
        "z"
      ],
      "id": "06e1c090-4daf-4c0e-ab25-7a647237694f"
    },
    {
      "cell_type": "markdown",
      "metadata": {},
      "source": [
        "### Same Data Type For Every Element\n",
        "\n",
        "Notice each vector has to have the same type for each of its elements.\n",
        "\n",
        "-   `x` above is a vector of class ‘numeric’\n",
        "-   `y` above is a vector of class ‘character’\n",
        "-   `z` above is a vector of class ‘logical’\n",
        "\n",
        "What would happen if we try to combine components that had different\n",
        "classes?"
      ],
      "id": "730acfd4-fc0a-48c2-af45-98f5aa01ae54"
    },
    {
      "cell_type": "code",
      "execution_count": null,
      "metadata": {},
      "outputs": [
        {
          "output_type": "stream",
          "name": "stdout",
          "text": [
            "[1] \"TRUE\"  \"4.5\"   \"hello\""
          ]
        }
      ],
      "source": [
        "a<-c(TRUE, 4.5, \"hello\")\n",
        "a"
      ],
      "id": "45534866-d6e8-4da3-8df7-c049c1e00d3d"
    },
    {
      "cell_type": "code",
      "execution_count": null,
      "metadata": {},
      "outputs": [
        {
          "output_type": "stream",
          "name": "stdout",
          "text": [
            " chr [1:3] \"TRUE\" \"4.5\" \"hello\""
          ]
        }
      ],
      "source": [
        "str(a)"
      ],
      "id": "75782ec4-a498-4c4b-964d-908ccd61c0d6"
    },
    {
      "cell_type": "markdown",
      "metadata": {},
      "source": [
        "At first it looks like this worked, but notice how each element is a\n",
        "‘character’ now:"
      ],
      "id": "a6637017-5e5c-4499-bf87-661bcd2af2f1"
    },
    {
      "cell_type": "code",
      "execution_count": null,
      "metadata": {},
      "outputs": [
        {
          "output_type": "stream",
          "name": "stdout",
          "text": [
            "[1] \"character\""
          ]
        }
      ],
      "source": [
        "class(a)"
      ],
      "id": "b5f197d0-ce72-4341-8e98-5303cef45301"
    },
    {
      "cell_type": "markdown",
      "metadata": {},
      "source": [
        "What happened? Here we tried to create a vector whose elements were\n",
        "different types.\n",
        "\n",
        "When we did that R went ahead and did it, but it made each element a\n",
        "string.\n",
        "\n",
        "### Calculations with Vectors\n",
        "\n",
        "Some of the big advantages of vectors has to do with math we can do with\n",
        "them. It turns out that vectors can simplify a lot of the calculations\n",
        "you might want to do in data science.\n",
        "\n",
        "#### Adding Vectors\n",
        "\n",
        "Lets try to add two vectors:"
      ],
      "id": "344027ea-bb05-4378-bc80-26dafc2b9094"
    },
    {
      "cell_type": "code",
      "execution_count": null,
      "metadata": {},
      "outputs": [
        {
          "output_type": "stream",
          "name": "stdout",
          "text": [
            "[1]  5 10  4 10"
          ]
        }
      ],
      "source": [
        "x<-c(2,4,3,1)\n",
        "y<-c(3,6,1,9)\n",
        "x+y"
      ],
      "id": "ae56e600-9302-4268-b1d4-9e7c8262dde3"
    },
    {
      "cell_type": "markdown",
      "metadata": {},
      "source": [
        "#### Multiplying Vectors\n",
        "\n",
        "What about multiplying them together:"
      ],
      "id": "b85d81d1-f11e-4aa4-a713-05ff138d4027"
    },
    {
      "cell_type": "code",
      "execution_count": null,
      "metadata": {},
      "outputs": [
        {
          "output_type": "stream",
          "name": "stdout",
          "text": [
            "[1]  6 24  3  9"
          ]
        }
      ],
      "source": [
        "w<-c(2,4,3,1)\n",
        "z<-c(3,6,1,9)\n",
        "w*z"
      ],
      "id": "29bcbb4d-8f2f-4541-bac3-7dcc9a9bc781"
    },
    {
      "cell_type": "markdown",
      "metadata": {},
      "source": [
        "#### Multiplying Vectors by a Number\n",
        "\n",
        "Or multiplying a vector by a number:"
      ],
      "id": "6d4949a0-b1ad-4c3e-ae52-b422da83b0f0"
    },
    {
      "cell_type": "code",
      "execution_count": null,
      "metadata": {},
      "outputs": [
        {
          "output_type": "stream",
          "name": "stdout",
          "text": [
            "[1] 10 20 15  5"
          ]
        }
      ],
      "source": [
        "a<-c(2,4,3,1)\n",
        "5*a"
      ],
      "id": "160442d3-4a6a-4443-a911-0dced813fb40"
    },
    {
      "cell_type": "markdown",
      "metadata": {},
      "source": [
        "### Accessing Elements With An Index\n",
        "\n",
        "Suppose we want to access the elements in a vector. You can access the\n",
        "elements in a vector by using the “subscript” notation. This means you\n",
        "refer to the different elements using an index:\n",
        "\n",
        "Here is an example of a vector defined like this: `b<-c(4,3,-1,2)`:\n",
        "\n",
        "| index  | 1   | 2   | 3   | 4   |\n",
        "|--------|-----|-----|-----|-----|\n",
        "| values | 4   | 3   | -1  | 2   |\n",
        "\n",
        "You can access the elements in the vector like this:\n",
        "\n",
        "-   `b[1]` will be 4\n",
        "-   `b[2]` will be 3\n",
        "-   `b[3]` will be -1\n",
        "-   `b[4]` will be 2\n",
        "\n",
        "Let’s see this index notation in use:"
      ],
      "id": "762465f8-815f-4931-a91c-726ab3d9ef7d"
    },
    {
      "cell_type": "code",
      "execution_count": null,
      "metadata": {},
      "outputs": [
        {
          "output_type": "stream",
          "name": "stdout",
          "text": [
            "[1] 4"
          ]
        },
        {
          "output_type": "stream",
          "name": "stdout",
          "text": [
            "[1] 3"
          ]
        },
        {
          "output_type": "stream",
          "name": "stdout",
          "text": [
            "[1] -1"
          ]
        },
        {
          "output_type": "stream",
          "name": "stdout",
          "text": [
            "[1] 2"
          ]
        }
      ],
      "source": [
        "b<-c(4,3,-1,2)\n",
        "b[1]"
      ],
      "id": "95d90a50-003a-4d4e-b24f-c414f367c76b"
    },
    {
      "cell_type": "markdown",
      "metadata": {},
      "source": [
        "The first index is 1 and the last index is 4 for this vector. In some\n",
        "programming languages the first element in a vector would be refered to\n",
        "with an index of 0, not 1."
      ],
      "id": "24ffb21c-924b-4122-8c20-37dbe50e9b98"
    },
    {
      "cell_type": "code",
      "execution_count": null,
      "metadata": {},
      "outputs": [
        {
          "output_type": "stream",
          "name": "stdout",
          "text": [
            "[1] NA"
          ]
        }
      ],
      "source": [
        "b[5]"
      ],
      "id": "c8d5c8c2-f979-4c9f-a21c-b7779afc2ec0"
    },
    {
      "cell_type": "markdown",
      "metadata": {},
      "source": [
        "This returns `NA`, which means “not applicable”. `NA` is a type that\n",
        "usually means “missing data” for some reason. Often times in data\n",
        "science you are collecting data but some of it is deleted or missing.\n",
        "For that you would use `NA`."
      ],
      "id": "283dc8e3-f7c9-4b0a-a327-9eb25c835890"
    },
    {
      "cell_type": "code",
      "execution_count": null,
      "metadata": {},
      "outputs": [
        {
          "output_type": "stream",
          "name": "stdout",
          "text": [
            "[1]  3  5 NA"
          ]
        },
        {
          "output_type": "stream",
          "name": "stdout",
          "text": [
            " num [1:3] 3 5 NA"
          ]
        }
      ],
      "source": [
        "d<-c(3,5,NA)\n",
        "d"
      ],
      "id": "36dc25eb-6e33-4624-84c3-39fd88253bf2"
    },
    {
      "cell_type": "markdown",
      "metadata": {},
      "source": [
        "### Applying Functions to a Vector\n",
        "\n",
        "Vectors are convenient for applying functions that depend on a list of\n",
        "numbers.\n",
        "\n",
        "Perhaps the simplest example is the function `sum`:"
      ],
      "id": "47037239-1a2b-484c-9f36-aba5d1256ced"
    },
    {
      "cell_type": "code",
      "execution_count": null,
      "metadata": {},
      "outputs": [
        {
          "output_type": "stream",
          "name": "stdout",
          "text": [
            "[1] 13.3"
          ]
        }
      ],
      "source": [
        "v<-c(4, 3.4, 2.9, 3)\n",
        "sum(v)"
      ],
      "id": "6b45bf99-5132-4922-af1b-98c2346871a7"
    },
    {
      "cell_type": "markdown",
      "metadata": {},
      "source": [
        "The above finds the sum of the 4 values in the vector\n",
        "\n",
        "More examples are the `mean` and `median` of a set of numbers."
      ],
      "id": "d8ff613c-857d-45b7-b696-2e4922ef5c71"
    },
    {
      "cell_type": "code",
      "execution_count": null,
      "metadata": {},
      "outputs": [
        {
          "output_type": "stream",
          "name": "stdout",
          "text": [
            "[1] 3.325"
          ]
        },
        {
          "output_type": "stream",
          "name": "stdout",
          "text": [
            "[1] 3.2"
          ]
        }
      ],
      "source": [
        "mean(v)"
      ],
      "id": "d9e6d319-cfda-4627-8b90-d27e74e382b1"
    },
    {
      "cell_type": "markdown",
      "metadata": {},
      "source": [
        "And more examples are the `min` and `max` of a set of numbers:"
      ],
      "id": "bf9517e4-3598-4e5b-ad5b-ca9bf66f027b"
    },
    {
      "cell_type": "code",
      "execution_count": null,
      "metadata": {},
      "outputs": [
        {
          "output_type": "stream",
          "name": "stdout",
          "text": [
            "[1] 2.9"
          ]
        },
        {
          "output_type": "stream",
          "name": "stdout",
          "text": [
            "[1] 4"
          ]
        }
      ],
      "source": [
        "min(v)"
      ],
      "id": "80e41f9c-574c-4edb-a9b3-339d9baebcaf"
    },
    {
      "cell_type": "markdown",
      "metadata": {},
      "source": [
        "Some functions will apply the function to each element in the vector\n",
        "individually. For example `sqrt`:"
      ],
      "id": "f4d3f619-f7bf-4fe4-9aa7-912e92e9803c"
    },
    {
      "cell_type": "code",
      "execution_count": null,
      "metadata": {},
      "outputs": [
        {
          "output_type": "stream",
          "name": "stdout",
          "text": [
            "[1] 3 4 5"
          ]
        }
      ],
      "source": [
        "w<- c(9,16,25)\n",
        "z<-sqrt(w)\n",
        "z"
      ],
      "id": "347baeff-c0e3-495d-82c7-5e8ed2c25b7c"
    },
    {
      "cell_type": "markdown",
      "metadata": {},
      "source": [
        "### Converting Vectors To Different Type\n",
        "\n",
        "#### Converting Characters to Numeric\n",
        "\n",
        "Let’s see an example of taking a vector of strings and converting it to\n",
        "vector of numerics;"
      ],
      "id": "ff47220f-8f65-4d28-82f8-cc5ca0b62d4b"
    },
    {
      "cell_type": "code",
      "execution_count": null,
      "metadata": {},
      "outputs": [
        {
          "output_type": "stream",
          "name": "stdout",
          "text": [
            "[1] 1.23 2.40 0.32"
          ]
        },
        {
          "output_type": "stream",
          "name": "stdout",
          "text": [
            " num [1:3] 1.23 2.4 0.32"
          ]
        }
      ],
      "source": [
        "myStrings<- c(\"1.23\", \"2.4\", \"0.32\")\n",
        "myNumbers<- as.numeric(myStrings)\n",
        "myNumbers"
      ],
      "id": "a73193b5-3b11-4c92-ae83-4929a51931df"
    },
    {
      "cell_type": "markdown",
      "metadata": {},
      "source": [
        "#### Converting Vector of Numeric to Characters\n",
        "\n",
        "Let’s see an example of taking a vector of strings and converting it to\n",
        "vector of numerics;"
      ],
      "id": "56d67447-e77b-435f-a2c2-19c64f4437be"
    },
    {
      "cell_type": "code",
      "execution_count": null,
      "metadata": {},
      "outputs": [
        {
          "output_type": "stream",
          "name": "stdout",
          "text": [
            "[1] \"2.3\"   \"-1.23\" \"0.24\" "
          ]
        },
        {
          "output_type": "stream",
          "name": "stdout",
          "text": [
            " chr [1:3] \"2.3\" \"-1.23\" \"0.24\""
          ]
        }
      ],
      "source": [
        "myNumbers<- c(2.3, -1.23, 0.24)\n",
        "myStrings<- as.character(myNumbers)\n",
        "myStrings"
      ],
      "id": "711071a8-9df0-4f17-b451-475456659d56"
    },
    {
      "cell_type": "markdown",
      "metadata": {},
      "source": [
        "### Applications Using Vectors"
      ],
      "id": "a85c3d7d-074c-410f-9e14-f626721a9b3c"
    },
    {
      "cell_type": "code",
      "execution_count": null,
      "metadata": {},
      "outputs": [],
      "source": [
        "x<-c(12,63,55,38,45,81)\n",
        "y<-c(22,51,56,43,62,78)"
      ],
      "id": "5ebbbab0-2e08-4f7a-9299-8197b25a7466"
    },
    {
      "cell_type": "markdown",
      "metadata": {},
      "source": [
        "Scatterplots are easy to do if the x-variable and the y-variable for\n",
        "scatterplot are in two vectors:"
      ],
      "id": "0715775a-a4dc-4b90-9465-5ff73d2c4514"
    },
    {
      "cell_type": "code",
      "execution_count": null,
      "metadata": {},
      "outputs": [
        {
          "output_type": "display_data",
          "metadata": {},
          "data": {
            "image/png": "[encoded data removed]"
          }
        }
      ],
      "source": [
        "plot(x,y)"
      ],
      "id": "a027f3d5-c851-4b44-94f4-d02b2e6c065c"
    },
    {
      "cell_type": "markdown",
      "metadata": {},
      "source": [
        "Then it is easy to do a regression model as well:"
      ],
      "id": "b0b5d90e-abea-452c-a231-1a35de01ef09"
    },
    {
      "cell_type": "code",
      "execution_count": null,
      "metadata": {},
      "outputs": [
        {
          "output_type": "stream",
          "name": "stdout",
          "text": [
            "\n",
            "Call:\n",
            "lm(formula = y ~ x)\n",
            "\n",
            "Residuals:\n",
            "       1        2        3        4        5        6 \n",
            " -3.0605 -11.1933  -0.3686  -0.9909  12.9124   2.7009 \n",
            "\n",
            "Coefficients:\n",
            "            Estimate Std. Error t value Pr(>|t|)  \n",
            "(Intercept)  16.3233     8.9574   1.822   0.1425  \n",
            "x             0.7281     0.1675   4.348   0.0122 *\n",
            "---\n",
            "Signif. codes:  0 '***' 0.001 '**' 0.01 '*' 0.05 '.' 0.1 ' ' 1\n",
            "\n",
            "Residual standard error: 8.801 on 4 degrees of freedom\n",
            "Multiple R-squared:  0.8254,    Adjusted R-squared:  0.7817 \n",
            "F-statistic: 18.91 on 1 and 4 DF,  p-value: 0.01218"
          ]
        }
      ],
      "source": [
        "model<-lm(y~x)\n",
        "summary(model)"
      ],
      "id": "870bed8f-9a15-44ec-9431-bb84a536a218"
    }
  ],
  "nbformat": 4,
  "nbformat_minor": 5,
  "metadata": {
    "kernelspec": {
      "name": "ir",
      "display_name": "R",
      "language": "R"
    }
  }
}