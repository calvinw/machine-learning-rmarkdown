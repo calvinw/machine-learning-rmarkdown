{
 "cells": [
  {
   "cell_type": "markdown",
   "metadata": {},
   "source": [
    "Vectors are lists of elements of the same type. They are an extremely\n",
    "important data structure in R.\n",
    "\n",
    "### Use Combine Function `c` to Create Vectors\n",
    "\n",
    "#### Numeric Vectors\n",
    "\n",
    "Vectors are created using the `c` function, which stands for “combine”."
   ]
  },
  {
   "cell_type": "code",
   "execution_count": null,
   "metadata": {},
   "outputs": [],
   "source": [
    "x<-c(3,7.4,-3, 3.2)\n",
    "x"
   ]
  },
  {
   "cell_type": "markdown",
   "metadata": {},
   "source": [
    "This vector has class ‘numeric’ and has 4 elements. We can see by using\n",
    "the `length` function:"
   ]
  },
  {
   "cell_type": "code",
   "execution_count": null,
   "metadata": {},
   "outputs": [],
   "source": [
    "class(x)\n",
    "length(x)"
   ]
  },
  {
   "cell_type": "markdown",
   "metadata": {},
   "source": [
    "Lets take a look at the ‘structure’ of x using the `str` function:"
   ]
  },
  {
   "cell_type": "code",
   "execution_count": null,
   "metadata": {},
   "outputs": [],
   "source": [
    "str(x)"
   ]
  },
  {
   "cell_type": "markdown",
   "metadata": {},
   "source": [
    "#### Character Vectors\n",
    "\n",
    "The following vector has class ‘character’ and its length is 3:"
   ]
  },
  {
   "cell_type": "code",
   "execution_count": null,
   "metadata": {},
   "outputs": [],
   "source": [
    "y<-c(\"Goodbye\", \"Hello\", \"Goodnight\")\n",
    "y\n",
    "class(y)\n",
    "length(y)\n",
    "str(y)"
   ]
  },
  {
   "cell_type": "markdown",
   "metadata": {},
   "source": [
    "#### Logical Vectors\n",
    "\n",
    "The following vector has class ‘logical’ and its length is 5:"
   ]
  },
  {
   "cell_type": "code",
   "execution_count": null,
   "metadata": {},
   "outputs": [],
   "source": [
    "z<-c(TRUE, FALSE, TRUE, FALSE, FALSE)\n",
    "z\n",
    "class(z)\n",
    "length(z)\n",
    "str(z)"
   ]
  },
  {
   "cell_type": "markdown",
   "metadata": {},
   "source": [
    "### Same Data Type For Every Element\n",
    "\n",
    "Notice each vector has to have the same type for each of its elements.\n",
    "\n",
    "-   `x` above is a vector of class ‘numeric’\n",
    "-   `y` above is a vector of class ‘character’\n",
    "-   `z` above is a vector of class ‘logical’\n",
    "\n",
    "What would happen if we try to combine components that had different\n",
    "classes?"
   ]
  },
  {
   "cell_type": "code",
   "execution_count": null,
   "metadata": {},
   "outputs": [],
   "source": [
    "a<-c(TRUE, 4.5, \"hello\")\n",
    "a"
   ]
  },
  {
   "cell_type": "code",
   "execution_count": null,
   "metadata": {},
   "outputs": [],
   "source": [
    "str(a)"
   ]
  },
  {
   "cell_type": "markdown",
   "metadata": {},
   "source": [
    "At first it looks like this worked, but notice how each element is a\n",
    "‘character’ now:"
   ]
  },
  {
   "cell_type": "code",
   "execution_count": null,
   "metadata": {},
   "outputs": [],
   "source": [
    "class(a)"
   ]
  },
  {
   "cell_type": "markdown",
   "metadata": {},
   "source": [
    "What happened? Here we tried to create a vector whose elements were\n",
    "different types.\n",
    "\n",
    "When we did that R went ahead and did it, but it made each element a\n",
    "string.\n",
    "\n",
    "### Calculations with Vectors\n",
    "\n",
    "Some of the big advantages of vectors has to do with math we can do with\n",
    "them. It turns out that vectors can simplify a lot of the calculations\n",
    "you might want to do in data science.\n",
    "\n",
    "#### Adding Vectors\n",
    "\n",
    "Lets try to add two vectors:"
   ]
  },
  {
   "cell_type": "code",
   "execution_count": null,
   "metadata": {},
   "outputs": [],
   "source": [
    "x<-c(2,4,3,1)\n",
    "y<-c(3,6,1,9)\n",
    "x+y"
   ]
  },
  {
   "cell_type": "markdown",
   "metadata": {},
   "source": [
    "#### Multiplying Vectors\n",
    "\n",
    "What about multiplying them together:"
   ]
  },
  {
   "cell_type": "code",
   "execution_count": null,
   "metadata": {},
   "outputs": [],
   "source": [
    "w<-c(2,4,3,1)\n",
    "z<-c(3,6,1,9)\n",
    "w*z"
   ]
  },
  {
   "cell_type": "markdown",
   "metadata": {},
   "source": [
    "#### Multiplying Vectors by a Number\n",
    "\n",
    "Or multiplying a vector by a number:"
   ]
  },
  {
   "cell_type": "code",
   "execution_count": null,
   "metadata": {},
   "outputs": [],
   "source": [
    "a<-c(2,4,3,1)\n",
    "5*a"
   ]
  },
  {
   "cell_type": "markdown",
   "metadata": {},
   "source": [
    "### Accessing Elements With An Index\n",
    "\n",
    "Suppose we want to access the elements in a vector. You can access the\n",
    "elements in a vector by using the “subscript” notation. This means you\n",
    "refer to the different elements using an index:\n",
    "\n",
    "Here is an example of a vector defined like this: `b<-c(4,3,-1,2)`:\n",
    "\n",
    "| index  | 1   | 2   | 3   | 4   |\n",
    "|--------|-----|-----|-----|-----|\n",
    "| values | 4   | 3   | -1  | 2   |\n",
    "\n",
    "You can access the elements in the vector like this:\n",
    "\n",
    "-   `b[1]` will be 4\n",
    "-   `b[2]` will be 3\n",
    "-   `b[3]` will be -1\n",
    "-   `b[4]` will be 2\n",
    "\n",
    "Let’s see this index notation in use:"
   ]
  },
  {
   "cell_type": "code",
   "execution_count": null,
   "metadata": {},
   "outputs": [],
   "source": [
    "b<-c(4,3,-1,2)\n",
    "b[1]\n",
    "b[2]\n",
    "b[3]\n",
    "b[4]"
   ]
  },
  {
   "cell_type": "markdown",
   "metadata": {},
   "source": [
    "The first index is 1 and the last index is 4 for this vector. In some\n",
    "programming languages the first element in a vector would be refered to\n",
    "with an index of 0, not 1."
   ]
  },
  {
   "cell_type": "code",
   "execution_count": null,
   "metadata": {},
   "outputs": [],
   "source": [
    "b[5]"
   ]
  },
  {
   "cell_type": "markdown",
   "metadata": {},
   "source": [
    "This returns `NA`, which means “not applicable”. `NA` is a type that\n",
    "usually means “missing data” for some reason. Often times in data\n",
    "science you are collecting data but some of it is deleted or missing.\n",
    "For that you would use `NA`."
   ]
  },
  {
   "cell_type": "code",
   "execution_count": null,
   "metadata": {},
   "outputs": [],
   "source": [
    "d<-c(3,5,NA)\n",
    "d\n",
    "str(d)"
   ]
  },
  {
   "cell_type": "markdown",
   "metadata": {},
   "source": [
    "### Applying Functions to a Vector\n",
    "\n",
    "Vectors are convenient for applying functions that depend on a list of\n",
    "numbers.\n",
    "\n",
    "Perhaps the simplest example is the function `sum`:"
   ]
  },
  {
   "cell_type": "code",
   "execution_count": null,
   "metadata": {},
   "outputs": [],
   "source": [
    "v<-c(4, 3.4, 2.9, 3)\n",
    "sum(v)"
   ]
  },
  {
   "cell_type": "markdown",
   "metadata": {},
   "source": [
    "The above finds the sum of the 4 values in the vector\n",
    "\n",
    "More examples are the `mean` and `median` of a set of numbers."
   ]
  },
  {
   "cell_type": "code",
   "execution_count": null,
   "metadata": {},
   "outputs": [],
   "source": [
    "mean(v)\n",
    "median(v)"
   ]
  },
  {
   "cell_type": "markdown",
   "metadata": {},
   "source": [
    "And more examples are the `min` and `max` of a set of numbers:"
   ]
  },
  {
   "cell_type": "code",
   "execution_count": null,
   "metadata": {},
   "outputs": [],
   "source": [
    "min(v)\n",
    "max(v)"
   ]
  },
  {
   "cell_type": "markdown",
   "metadata": {},
   "source": [
    "Some functions will apply the function to each element in the vector\n",
    "individually. For example `sqrt`:"
   ]
  },
  {
   "cell_type": "code",
   "execution_count": null,
   "metadata": {},
   "outputs": [],
   "source": [
    "w<- c(9,16,25)\n",
    "z<-sqrt(w)\n",
    "z"
   ]
  },
  {
   "cell_type": "markdown",
   "metadata": {},
   "source": [
    "### Converting Vectors To Different Type\n",
    "\n",
    "#### Converting Characters to Numeric\n",
    "\n",
    "Let’s see an example of taking a vector of strings and converting it to\n",
    "vector of numerics;"
   ]
  },
  {
   "cell_type": "code",
   "execution_count": null,
   "metadata": {},
   "outputs": [],
   "source": [
    "myStrings<- c(\"1.23\", \"2.4\", \"0.32\")\n",
    "myNumbers<- as.numeric(myStrings)\n",
    "myNumbers\n",
    "str(myNumbers)"
   ]
  },
  {
   "cell_type": "markdown",
   "metadata": {},
   "source": [
    "#### Converting Vector of Numeric to Characters\n",
    "\n",
    "Let’s see an example of taking a vector of strings and converting it to\n",
    "vector of numerics;"
   ]
  },
  {
   "cell_type": "code",
   "execution_count": null,
   "metadata": {},
   "outputs": [],
   "source": [
    "myNumbers<- c(2.3, -1.23, 0.24)\n",
    "myStrings<- as.character(myNumbers)\n",
    "myStrings\n",
    "str(myStrings)"
   ]
  },
  {
   "cell_type": "markdown",
   "metadata": {},
   "source": [
    "### Applications Using Vectors"
   ]
  },
  {
   "cell_type": "code",
   "execution_count": null,
   "metadata": {},
   "outputs": [],
   "source": [
    "x<-c(12,63,55,38,45,81)\n",
    "y<-c(22,51,56,43,62,78)"
   ]
  },
  {
   "cell_type": "markdown",
   "metadata": {},
   "source": [
    "Scatterplots are easy to do if the x-variable and the y-variable for\n",
    "scatterplot are in two vectors:"
   ]
  },
  {
   "cell_type": "code",
   "execution_count": null,
   "metadata": {},
   "outputs": [],
   "source": [
    "plot(x,y)"
   ]
  },
  {
   "cell_type": "markdown",
   "metadata": {},
   "source": [
    "Then it is easy to do a regression model as well:"
   ]
  },
  {
   "cell_type": "code",
   "execution_count": null,
   "metadata": {},
   "outputs": [],
   "source": [
    "model<-lm(y~x)\n",
    "summary(model)"
   ]
  }
 ],
 "nbformat": 4,
 "nbformat_minor": 5,
 "metadata": {
  "kernelspec": {
   "name": "ir",
   "display_name": "R",
   "language": "R"
  }
 }
}
