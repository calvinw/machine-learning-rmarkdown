{
 "cells": [
  {
   "cell_type": "code",
   "execution_count": null,
   "metadata": {},
   "outputs": [],
   "source": [
    "options(repr.plot.width=6, repr.plot.height=6)\n",
    "knitr::opts_chunk$set(fig.width=6, fig.height=6)\n",
    "if (!require(\"rvest\")) install.packages(\"rvest\")\n",
    "library(\"rvest\")"
   ]
  },
  {
   "cell_type": "code",
   "execution_count": null,
   "metadata": {},
   "outputs": [],
   "source": [
    "baseurl <- 'https://www.amazon.com/DKSUKO-Womens-Waterproof-Boots-Ankle/product-reviews/B07TJ6M46B/ref=cm_cr_arp_d_paging_btm_next_2?ie=UTF8&reviewerType=all_reviews&pageNumber='\n",
    "getreviews<-function(url){\n",
    "    webpage <- read_html(url)\n",
    "    nodes<-html_nodes(webpage,'.review-text-content span')\n",
    "    html_text(nodes)\n",
    "}\n",
    "\n",
    "#process several webpages\n",
    "body <- lapply(paste0(baseurl, 1:2), getreviews)\n",
    "body<-unlist(body)\n",
    "str(body)\n",
    "head(body, 20)"
   ]
  }
 ],
 "nbformat": 4,
 "nbformat_minor": 5,
 "metadata": {
  "kernelspec": {
   "name": "ir",
   "display_name": "R",
   "language": "R"
  }
 }
}

