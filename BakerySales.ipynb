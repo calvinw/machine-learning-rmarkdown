{
  "cells": [
    {
      "cell_type": "markdown",
      "metadata": {},
      "source": [
        "# Bakery Sales"
      ],
      "id": "2860102f-5d63-4446-adb4-90dfd4d22ad5"
    },
    {
      "cell_type": "code",
      "execution_count": null,
      "metadata": {},
      "outputs": [
        {
          "output_type": "stream",
          "name": "stderr",
          "text": [
            "Loading required package: readr"
          ]
        }
      ],
      "source": [
        "options(repr.plot.width=4, repr.plot.height=4)\n",
        "options(\"scipen\"=100, \"digits\"=4)\n",
        "if(!require(\"readr\")) install.packages(\"readr\")"
      ],
      "id": "945cfb61-aa1c-4487-9aa2-476d50dc1b08"
    },
    {
      "cell_type": "markdown",
      "metadata": {},
      "source": [
        "Complete the analysis by copying the Newspaper and Radio Ads and Sales\n",
        "example from earlier\n",
        "\n",
        "-   Include graphics that show the scatterplots for everything you have\n",
        "-   Include the outputs below as one of your text cells after you run\n",
        "    the lm the first time. Fill in the m1, m2, m3 and b (since you first\n",
        "    have 3 x variables)\n",
        "-   Include the outputs below as one of your text cells after you run\n",
        "    the lm the second time. Fill in the m1, m2, and b\n",
        "\n",
        "Here is the structure of the data set."
      ],
      "id": "db31832c-d311-41a4-8644-74bc29aff25c"
    },
    {
      "cell_type": "code",
      "execution_count": null,
      "metadata": {},
      "outputs": [
        {
          "output_type": "stream",
          "name": "stdout",
          "text": [
            "'data.frame':   10 obs. of  4 variables:\n",
            " $ Floor: int  10 8 8 5 7 8 7 9 6 9\n",
            " $ Dist : int  80 0 200 200 300 230 40 0 330 180\n",
            " $ Age  : int  42 29 33 41 33 35 40 46 44 34\n",
            " $ Sales: int  469 366 371 208 246 297 363 436 198 364"
          ]
        },
        {
          "output_type": "stream",
          "name": "stdout",
          "text": [
            "                        Floor Dist Age Sales\n",
            "Yumenooka Shop             10   80  42   469\n",
            "Terai Station Shop          8    0  29   366\n",
            "Sone Shop                   8  200  33   371\n",
            "Hashimoto Station Shop      5  200  41   208\n",
            "Kikyou Town Shop            7  300  33   246\n",
            "Post Office Shop            8  230  35   297\n",
            "Suidobashi Station Shop     7   40  40   363\n",
            "Rokujo Station Shop         9    0  46   436\n",
            "Wakaba Riverside Shop       6  330  44   198\n",
            "Misato Shop                 9  180  34   364"
          ]
        }
      ],
      "source": [
        "str(df)"
      ],
      "id": "51cac360-63ac-47ae-b3cf-e1f78393f83c"
    },
    {
      "cell_type": "code",
      "execution_count": null,
      "metadata": {},
      "outputs": [
        {
          "output_type": "stream",
          "name": "stdout",
          "text": [
            "         Floor     Dist      Age    Sales\n",
            "Floor  1.00000 -0.49215 -0.09131  0.89238\n",
            "Dist  -0.49215  1.00000 -0.07636 -0.77508\n",
            "Age   -0.09131 -0.07636  1.00000  0.03684\n",
            "Sales  0.89238 -0.77508  0.03684  1.00000"
          ]
        },
        {
          "output_type": "display_data",
          "metadata": {},
          "data": {
            "image/png": "[encoded data removed]"
          }
        }
      ],
      "source": [
        "cor(df)"
      ],
      "id": "bf49c587-6469-40cc-b08a-c43ab35e135a"
    },
    {
      "cell_type": "code",
      "execution_count": null,
      "metadata": {},
      "outputs": [
        {
          "output_type": "stream",
          "name": "stdout",
          "text": [
            "\n",
            "Call:\n",
            "lm(formula = Sales ~ Floor + Dist + Age, data = df)\n",
            "\n",
            "Residuals:\n",
            "   Min     1Q Median     3Q    Max \n",
            "-20.90 -11.45  -6.95   7.92  46.29 \n",
            "\n",
            "Coefficients:\n",
            "            Estimate Std. Error t value Pr(>|t|)    \n",
            "(Intercept)  17.6998    88.2761    0.20  0.84771    \n",
            "Floor        42.2088     6.5603    6.43  0.00067 ***\n",
            "Dist         -0.3327     0.0818   -4.07  0.00661 ** \n",
            "Age           1.0874     1.5234    0.71  0.50218    \n",
            "---\n",
            "Signif. codes:  0 '***' 0.001 '**' 0.01 '*' 0.05 '.' 0.1 ' ' 1\n",
            "\n",
            "Residual standard error: 25.3 on 6 degrees of freedom\n",
            "Multiple R-squared:  0.95,  Adjusted R-squared:  0.924 \n",
            "F-statistic: 37.6 on 3 and 6 DF,  p-value: 0.000276"
          ]
        }
      ],
      "source": [
        "model1 <- lm(Sales ~ Floor + Dist + Age, data=df)\n",
        "summary(model1)"
      ],
      "id": "527b8c93-1256-4cc5-8349-fae42ad05504"
    },
    {
      "cell_type": "markdown",
      "metadata": {},
      "source": [
        "Test for overall significant of linear relationship:\n",
        "\n",
        "$$ \\text{p-value} = 0.000276 $$\n",
        "\n",
        "p-value for Floor:\n",
        "\n",
        "$$ \\text{p-value} = 0.00067 $$\n",
        "\n",
        "p-value for Dist:\n",
        "\n",
        "$$ \\text{p-value} = 0.00661 $$\n",
        "\n",
        "p-value for Age:\n",
        "\n",
        "$$ \\text{p-value} = 0.50218 $$\n",
        "\n",
        "So we need to exclude Age from the model and rerun the analysis:"
      ],
      "id": "8b817b8e-f978-4432-b5d4-08290d8a42e8"
    },
    {
      "cell_type": "code",
      "execution_count": null,
      "metadata": {},
      "outputs": [
        {
          "output_type": "stream",
          "name": "stdout",
          "text": [
            "\n",
            "Call:\n",
            "lm(formula = Sales ~ Floor + Dist, data = df)\n",
            "\n",
            "Residuals:\n",
            "   Min     1Q Median     3Q    Max \n",
            "-31.43 -12.10  -3.43  12.68  41.74 \n",
            "\n",
            "Coefficients:\n",
            "            Estimate Std. Error t value Pr(>|t|)    \n",
            "(Intercept)  65.3239    55.7383    1.17  0.27955    \n",
            "Floor        41.5135     6.2561    6.64  0.00029 ***\n",
            "Dist         -0.3409     0.0781   -4.36  0.00330 ** \n",
            "---\n",
            "Signif. codes:  0 '***' 0.001 '**' 0.01 '*' 0.05 '.' 0.1 ' ' 1\n",
            "\n",
            "Residual standard error: 24.4 on 7 degrees of freedom\n",
            "Multiple R-squared:  0.945, Adjusted R-squared:  0.93 \n",
            "F-statistic: 60.4 on 2 and 7 DF,  p-value: 0.0000384"
          ]
        }
      ],
      "source": [
        "model2 <- lm(Sales ~ Floor+ Dist, data=df)\n",
        "summary(model2)"
      ],
      "id": "c5dab698-9071-4e09-8868-5752b116f556"
    },
    {
      "cell_type": "markdown",
      "metadata": {},
      "source": [
        "Test for overall significant of linear relationship:\n",
        "\n",
        "$$ \\text{p-value} = 0.0000384 $$\n",
        "\n",
        "p-value for Floor:\n",
        "\n",
        "$$ \\text{p-value} = 0.00029 $$\n",
        "\n",
        "p-value for Dist:\n",
        "\n",
        "$$ \\text{p-value} = 0.00330 $$\n",
        "\n",
        "The regression equation would be:\n",
        "\n",
        "$$ Sales = 41.5135(Floor) -0.3409(Dist) + 65.3239 $$\n",
        "\n",
        "The standard error is:\n",
        "\n",
        "$$ \\text{standard error} = 24.4 $$"
      ],
      "id": "1ecf6562-cf99-42ca-8160-5a657a7c64e4"
    }
  ],
  "nbformat": 4,
  "nbformat_minor": 5,
  "metadata": {
    "kernelspec": {
      "name": "ir",
      "display_name": "R",
      "language": "R"
    }
  }
}