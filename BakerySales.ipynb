{
 "cells": [
  {
   "cell_type": "code",
   "execution_count": null,
   "metadata": {},
   "outputs": [],
   "source": [
    "options(repr.plot.width=4, repr.plot.height=4)\n",
    "options(\"scipen\"=100, \"digits\"=4)\n",
    "if(!require(\"readr\")) install.packages(\"readr\")\n",
    "library(\"readr\")\n",
    "url<- \"https://docs.google.com/spreadsheets/d/e/2PACX-1vS3t-anI3_buZrdM_AnbXT9HUssfzBbiC9on_3C4G5gZMQay3sbZ3SwEHKyTIZaer4J96DZoBZdvl_i/pub?gid=0&single=true&output=csv\"\n",
    "df<-read.csv(url, row.names=1, stringsAsFactor=FALSE)"
   ]
  },
  {
   "cell_type": "markdown",
   "metadata": {},
   "source": [
    "Complete the analysis by copying the Newspaper and Radio Ads and Sales\n",
    "example from earlier\n",
    "\n",
    "-   Include graphics that show the scatterplots for everything you have\n",
    "-   Include the outputs below as one of your text cells after you run\n",
    "    the lm the first time. Fill in the m1, m2, m3 and b (since you first\n",
    "    have 3 x variables)\n",
    "-   Include the outputs below as one of your text cells after you run\n",
    "    the lm the second time. Fill in the m1, m2, and b\n",
    "\n",
    "Here is the structure of the data set."
   ]
  },
  {
   "cell_type": "code",
   "execution_count": null,
   "metadata": {},
   "outputs": [],
   "source": [
    "str(df)\n",
    "df"
   ]
  },
  {
   "cell_type": "code",
   "execution_count": null,
   "metadata": {},
   "outputs": [],
   "source": [
    "cor(df)\n",
    "plot(df, upper.panel=NULL, pch=19)"
   ]
  },
  {
   "cell_type": "code",
   "execution_count": null,
   "metadata": {},
   "outputs": [],
   "source": [
    "model1 <- lm(Sales ~ Floor + Dist + Age, data=df)\n",
    "summary(model1)"
   ]
  },
  {
   "cell_type": "markdown",
   "metadata": {},
   "source": [
    "Test for overall significant of linear relationship:\n",
    "\n",
    "$$ \\text{p-value} = 0.000276 $$\n",
    "\n",
    "p-value for Floor:\n",
    "\n",
    "$$ \\text{p-value} = 0.00067 $$\n",
    "\n",
    "p-value for Dist:\n",
    "\n",
    "$$ \\text{p-value} = 0.00661 $$\n",
    "\n",
    "p-value for Age:\n",
    "\n",
    "$$ \\text{p-value} = 0.50218 $$\n",
    "\n",
    "So we need to exclude Age from the model and rerun the analysis:"
   ]
  },
  {
   "cell_type": "code",
   "execution_count": null,
   "metadata": {},
   "outputs": [],
   "source": [
    "model2 <- lm(Sales ~ Floor+ Dist, data=df)\n",
    "summary(model2)"
   ]
  },
  {
   "cell_type": "markdown",
   "metadata": {},
   "source": [
    "Test for overall significant of linear relationship:\n",
    "\n",
    "$$ \\text{p-value} = 0.0000384 $$\n",
    "\n",
    "p-value for Floor:\n",
    "\n",
    "$$ \\text{p-value} = 0.00029 $$\n",
    "\n",
    "p-value for Dist:\n",
    "\n",
    "$$ \\text{p-value} = 0.00330 $$\n",
    "\n",
    "The regression equation would be:\n",
    "\n",
    "$$ Sales = 41.5135(Floor) -0.3409(Dist) + 65.3239 $$\n",
    "\n",
    "The standard error is:\n",
    "\n",
    "$$ \\text{standard error} = 24.4 $$"
   ]
  }
 ],
 "nbformat": 4,
 "nbformat_minor": 5,
 "metadata": {
  "kernelspec": {
   "name": "ir",
   "display_name": "R",
   "language": "R"
  }
 }
}
