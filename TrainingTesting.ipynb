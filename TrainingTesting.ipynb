{
  "cells": [
    {
      "cell_type": "markdown",
      "metadata": {},
      "source": [
        "# Training and Testing"
      ],
      "id": "6094ab19-5f0b-4f4e-838f-143319f2b409"
    },
    {
      "cell_type": "code",
      "execution_count": null,
      "metadata": {},
      "outputs": [],
      "source": [
        "options(\"scipen\"=100, \"digits\"=4)"
      ],
      "id": "5df2ff14-51bb-4992-a3d1-e10026c3dc6a"
    },
    {
      "cell_type": "markdown",
      "metadata": {},
      "source": [
        "## Load the Training Data"
      ],
      "id": "81d92fb9-311c-41df-92df-1cd456df4442"
    },
    {
      "cell_type": "code",
      "execution_count": null,
      "metadata": {},
      "outputs": [
        {
          "output_type": "stream",
          "name": "stdout",
          "text": [
            "'data.frame':   7 obs. of  3 variables:\n",
            " $ gender : chr  \"F\" \"M\" \"F\" \"F\" ...\n",
            " $ age    : chr  \"Adult\" \"Adult\" \"Adult\" \"Young\" ...\n",
            " $ product: chr  \"MindCraft\" \"MindCraft\" \"MindCraft\" \"MindCraft\" ..."
          ]
        }
      ],
      "source": [
        "url<-\"https://docs.google.com/spreadsheets/d/e/2PACX-1vTFmRX4RW3PitgcJya0X2sRbSiD0J2t0oYewyhkkyWwR9i8NIaHiuQKrBtLlrwG9fzn4MvNOM92olnK/pub?gid=0&single=true&output=csv\"\n",
        "train<-read.csv(url)\n",
        "str(train)"
      ],
      "id": "d2a780a9-6e78-4d14-9514-eb06960f4650"
    },
    {
      "cell_type": "code",
      "execution_count": null,
      "metadata": {},
      "outputs": [
        {
          "output_type": "stream",
          "name": "stdout",
          "text": [
            "  gender   age        product\n",
            "1      F Adult      MindCraft\n",
            "2      M Adult      MindCraft\n",
            "3      F Adult      MindCraft\n",
            "4      F Young      MindCraft\n",
            "5      M Young AlienBetweenUs\n",
            "6      M Young AlienBetweenUs\n",
            "7      F Young      MindCraft"
          ]
        }
      ],
      "source": [
        "print(train)"
      ],
      "id": "00a7346e-0e28-46cc-8ec6-c20c2ff9d3cc"
    },
    {
      "cell_type": "markdown",
      "metadata": {},
      "source": [
        "## Load the Testing Data"
      ],
      "id": "f33e0011-65a7-4990-a31e-7e604176b2b9"
    },
    {
      "cell_type": "code",
      "execution_count": null,
      "metadata": {},
      "outputs": [
        {
          "output_type": "stream",
          "name": "stdout",
          "text": [
            "'data.frame':   9 obs. of  3 variables:\n",
            " $ gender : chr  \"F\" \"F\" \"F\" \"F\" ...\n",
            " $ age    : chr  \"Adult\" \"Young\" \"Adult\" \"Young\" ...\n",
            " $ product: chr  \"MindCraft\" \"AlienBetweenUs\" \"MindCraft\" \"MindCraft\" ..."
          ]
        }
      ],
      "source": [
        "url<-\"https://docs.google.com/spreadsheets/d/e/2PACX-1vTFmRX4RW3PitgcJya0X2sRbSiD0J2t0oYewyhkkyWwR9i8NIaHiuQKrBtLlrwG9fzn4MvNOM92olnK/pub?gid=1744064271&single=true&output=csv\"\n",
        "test<-read.csv(url)\n",
        "str(test)"
      ],
      "id": "343d9624-4f03-441e-a1e5-670c14f2e180"
    },
    {
      "cell_type": "code",
      "execution_count": null,
      "metadata": {},
      "outputs": [
        {
          "output_type": "stream",
          "name": "stdout",
          "text": [
            "  gender   age        product\n",
            "1      F Adult      MindCraft\n",
            "2      F Young AlienBetweenUs\n",
            "3      F Adult      MindCraft\n",
            "4      F Young      MindCraft\n",
            "5      M Young AlienBetweenUs\n",
            "6      M Young AlienBetweenUs\n",
            "7      F Adult AlienBetweenUs\n",
            "8      F Young      MindCraft\n",
            "9      M Adult      MindCraft"
          ]
        }
      ],
      "source": [
        "print(test)"
      ],
      "id": "9ad94d77-2ace-4001-83d2-c0772fab730f"
    }
  ],
  "nbformat": 4,
  "nbformat_minor": 5,
  "metadata": {
    "kernelspec": {
      "name": "ir",
      "display_name": "R",
      "language": "R"
    }
  }
}