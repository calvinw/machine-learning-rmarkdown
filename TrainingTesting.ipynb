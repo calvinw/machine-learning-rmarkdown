{
  "cells": [
    {
      "cell_type": "markdown",
      "metadata": {},
      "source": [
        "# Training and Testing"
      ],
      "id": "b4677c90-5df2-4989-b748-608b8a5a09b0"
    },
    {
      "cell_type": "code",
      "execution_count": null,
      "metadata": {},
      "outputs": [],
      "source": [
        "options(\"scipen\"=100, \"digits\"=4)"
      ],
      "id": "40d76976-3548-4846-bf49-535a89959ec8"
    },
    {
      "cell_type": "markdown",
      "metadata": {},
      "source": [
        "## Load the Training Data"
      ],
      "id": "c9574517-df86-4a0f-ae32-4aeb1a09e54d"
    },
    {
      "cell_type": "code",
      "execution_count": null,
      "metadata": {},
      "outputs": [
        {
          "output_type": "stream",
          "name": "stdout",
          "text": [
            "'data.frame':   7 obs. of  3 variables:\n",
            " $ gender : chr  \"F\" \"M\" \"F\" \"F\" ...\n",
            " $ age    : chr  \"Adult\" \"Adult\" \"Adult\" \"Young\" ...\n",
            " $ product: chr  \"MindCraft\" \"MindCraft\" \"MindCraft\" \"MindCraft\" ..."
          ]
        }
      ],
      "source": [
        "url<-\"https://docs.google.com/spreadsheets/d/e/2PACX-1vTFmRX4RW3PitgcJya0X2sRbSiD0J2t0oYewyhkkyWwR9i8NIaHiuQKrBtLlrwG9fzn4MvNOM92olnK/pub?gid=0&single=true&output=csv\"\n",
        "train<-read.csv(url)\n",
        "str(train)"
      ],
      "id": "5c6ebe4e-0a42-407d-b193-a7e5fbc51383"
    },
    {
      "cell_type": "code",
      "execution_count": null,
      "metadata": {},
      "outputs": [
        {
          "output_type": "stream",
          "name": "stdout",
          "text": [
            "  gender   age        product\n",
            "1      F Adult      MindCraft\n",
            "2      M Adult      MindCraft\n",
            "3      F Adult      MindCraft\n",
            "4      F Young      MindCraft\n",
            "5      M Young AlienBetweenUs\n",
            "6      M Young AlienBetweenUs\n",
            "7      F Young      MindCraft"
          ]
        }
      ],
      "source": [
        "print(train)"
      ],
      "id": "0151de66-414f-40c7-93a9-461869375003"
    },
    {
      "cell_type": "markdown",
      "metadata": {},
      "source": [
        "## Load the Testing Data"
      ],
      "id": "00551177-a7fe-40db-b21a-0747b6758f32"
    },
    {
      "cell_type": "code",
      "execution_count": null,
      "metadata": {},
      "outputs": [
        {
          "output_type": "stream",
          "name": "stdout",
          "text": [
            "'data.frame':   9 obs. of  3 variables:\n",
            " $ gender : chr  \"F\" \"F\" \"F\" \"F\" ...\n",
            " $ age    : chr  \"Adult\" \"Young\" \"Adult\" \"Young\" ...\n",
            " $ product: chr  \"MindCraft\" \"AlienBetweenUs\" \"MindCraft\" \"MindCraft\" ..."
          ]
        }
      ],
      "source": [
        "url<-\"https://docs.google.com/spreadsheets/d/e/2PACX-1vTFmRX4RW3PitgcJya0X2sRbSiD0J2t0oYewyhkkyWwR9i8NIaHiuQKrBtLlrwG9fzn4MvNOM92olnK/pub?gid=1744064271&single=true&output=csv\"\n",
        "test<-read.csv(url)\n",
        "str(test)"
      ],
      "id": "4410bbb8-680d-4048-a8b7-7fc3df76d049"
    },
    {
      "cell_type": "code",
      "execution_count": null,
      "metadata": {},
      "outputs": [
        {
          "output_type": "stream",
          "name": "stdout",
          "text": [
            "  gender   age        product\n",
            "1      F Adult      MindCraft\n",
            "2      F Young AlienBetweenUs\n",
            "3      F Adult      MindCraft\n",
            "4      F Young      MindCraft\n",
            "5      M Young AlienBetweenUs\n",
            "6      M Young AlienBetweenUs\n",
            "7      F Adult AlienBetweenUs\n",
            "8      F Young      MindCraft\n",
            "9      M Adult      MindCraft"
          ]
        }
      ],
      "source": [
        "print(test)"
      ],
      "id": "614e7b1a-2a71-4ce1-a79d-0543fce2d426"
    }
  ],
  "nbformat": 4,
  "nbformat_minor": 5,
  "metadata": {
    "kernelspec": {
      "name": "ir",
      "display_name": "R",
      "language": "R"
    }
  }
}