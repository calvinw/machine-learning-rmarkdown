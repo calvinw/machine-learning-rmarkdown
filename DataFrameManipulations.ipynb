{
 "cells": [
  {
   "cell_type": "markdown",
   "metadata": {},
   "source": [
    "Lets look at a simple example that has data from the Poshmark website.\n",
    "We scraped the names of some items, the original retail, and their\n",
    "current offering prices for some items being offered:\n",
    "\n",
    "Lets make them into a dataframe see how R deals with these:"
   ]
  },
  {
   "cell_type": "code",
   "execution_count": null,
   "metadata": {},
   "outputs": [],
   "source": [
    "name <- c(\"Jcrew blazer\",           \n",
    "      \"Forever 21 lace zip up blazer\",                     \n",
    "      \"Banana Republic Navy  Blazer\",                     \n",
    "      \"Julian Taylor Pant And Blazer Size 12\",             \n",
    "      \"Bernard Zins Paris Multi Colored Jacket\")  \n",
    "original <- c(\"198\",\"49\",\"129\",\"999\",\"129\")\n",
    "offered<- c(\"60\",\"29\",\"45\",\"30\",\"22\")\n",
    "items <- data.frame(name, original, offered)"
   ]
  },
  {
   "cell_type": "code",
   "execution_count": null,
   "metadata": {},
   "outputs": [],
   "source": [
    "head(items)"
   ]
  },
  {
   "cell_type": "code",
   "execution_count": null,
   "metadata": {},
   "outputs": [],
   "source": [
    "str(items)"
   ]
  },
  {
   "cell_type": "markdown",
   "metadata": {},
   "source": [
    "But we would really like to have the original and the offered columns be\n",
    "numeric so that we can do calculations with them (of the markdown from\n",
    "original to offered)\n",
    "\n",
    "We could try converting the price columns to numeric:"
   ]
  },
  {
   "cell_type": "code",
   "execution_count": null,
   "metadata": {},
   "outputs": [],
   "source": [
    "items$original <- as.numeric(items$original)\n",
    "items$offered <- as.numeric(items$offered)\n",
    "str(items)"
   ]
  },
  {
   "cell_type": "code",
   "execution_count": null,
   "metadata": {},
   "outputs": [],
   "source": [
    "head(items)"
   ]
  },
  {
   "cell_type": "markdown",
   "metadata": {},
   "source": [
    "Finally looks like we are ready to calculate markdown percents. We will\n",
    "just calculate the `original - offered` and divide by `original`."
   ]
  },
  {
   "cell_type": "code",
   "execution_count": null,
   "metadata": {},
   "outputs": [],
   "source": [
    "markdown <- (items$original-items$offered)/items$original;\n",
    "head(markdown)"
   ]
  },
  {
   "cell_type": "markdown",
   "metadata": {},
   "source": [
    "Almost, lets round it to the nearest percent instead"
   ]
  },
  {
   "cell_type": "code",
   "execution_count": null,
   "metadata": {},
   "outputs": [],
   "source": [
    "markdown <- round(markdown*100);\n",
    "head(markdown)"
   ]
  },
  {
   "cell_type": "markdown",
   "metadata": {},
   "source": [
    "Finally lets add it as a new column to the original data frame:"
   ]
  },
  {
   "cell_type": "code",
   "execution_count": null,
   "metadata": {},
   "outputs": [],
   "source": [
    "items$markdown<-markdown \n",
    "str(items)"
   ]
  },
  {
   "cell_type": "markdown",
   "metadata": {},
   "source": [
    "Now lets print it out:"
   ]
  },
  {
   "cell_type": "code",
   "execution_count": null,
   "metadata": {},
   "outputs": [],
   "source": [
    "head(items)"
   ]
  },
  {
   "cell_type": "markdown",
   "metadata": {},
   "source": [
    "We dont have that much data but you could find the average markdown:"
   ]
  },
  {
   "cell_type": "code",
   "execution_count": null,
   "metadata": {},
   "outputs": [],
   "source": [
    "mean(items$markdown)"
   ]
  },
  {
   "cell_type": "markdown",
   "metadata": {},
   "source": [
    "For this set of data the offered price was 71% off the original. Lets\n",
    "see the range of markdowns:"
   ]
  },
  {
   "cell_type": "code",
   "execution_count": null,
   "metadata": {},
   "outputs": [],
   "source": [
    "range(items$markdown)"
   ]
  },
  {
   "cell_type": "markdown",
   "metadata": {},
   "source": [
    "Anywhere from 41% to 97% off the original price."
   ]
  }
 ],
 "nbformat": 4,
 "nbformat_minor": 5,
 "metadata": {
  "kernelspec": {
   "name": "ir",
   "display_name": "R",
   "language": "R"
  }
 }
}
