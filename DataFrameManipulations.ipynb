{
 "cells": [
  {
   "cell_type": "markdown",
   "metadata": {},
   "source": [
    "Lets look at a simple example that has data from the Poshmark website.\n",
    "We scraped the names of some items, the original retail, and their\n",
    "current offering prices for some items being offered:\n",
    "\n",
    "Lets make them into a dataframe see how R deals with these:"
   ]
  },
  {
   "cell_type": "code",
   "execution_count": null,
   "metadata": {},
   "outputs": [],
   "source": [
    "name <- c(\"Jcrew blazer\",           \n",
    "      \"Forever 21 lace zip up blazer\",                     \n",
    "      \"Banana Republic Navy  Blazer\",                     \n",
    "      \"Julian Taylor Pant And Blazer Size 12\",             \n",
    "      \"Bernard Zins Paris Multi Colored Jacket\")  \n",
    "original <- c(\"$198\",\"$49\",\"$129\",\"$999\",\"$129\")\n",
    "current <- c(\"$60\",\"$29\",\"$45\",\"$30\",\"$22\")\n",
    "items <- data.frame(name, original, current)"
   ]
  },
  {
   "cell_type": "code",
   "execution_count": null,
   "metadata": {},
   "outputs": [],
   "source": [
    "head(items)"
   ]
  },
  {
   "cell_type": "code",
   "execution_count": null,
   "metadata": {},
   "outputs": [],
   "source": [
    "str(items)"
   ]
  },
  {
   "cell_type": "markdown",
   "metadata": {},
   "source": [
    "We can see that R thinks each of these is a factor. But really its\n",
    "questionable if any of these should be a factor. Lets try to fix things\n",
    "up so we can do some calculations.\n",
    "\n",
    "For example suppose we want to find the typical percent off or typical\n",
    "markdown from original being offered on Poshmark. Maybe this is so that\n",
    "we can send interested customers some alerts when an item is a “steal”.\n",
    "\n",
    "First lets turn the name column into strings, instead of factors:"
   ]
  },
  {
   "cell_type": "code",
   "execution_count": null,
   "metadata": {},
   "outputs": [],
   "source": [
    "items$name <- as.character(items$name)\n",
    "str(items)"
   ]
  },
  {
   "cell_type": "markdown",
   "metadata": {},
   "source": [
    "This looks better and now the name column is a `character` vector:"
   ]
  },
  {
   "cell_type": "code",
   "execution_count": null,
   "metadata": {},
   "outputs": [],
   "source": [
    "str(items$name)"
   ]
  },
  {
   "cell_type": "markdown",
   "metadata": {},
   "source": [
    "But we would really like to have the original and the current columns be\n",
    "numeric so that we can do calculations with them (of the markdown from\n",
    "original to offered)\n",
    "\n",
    "We could try converting one of the price columns to numeric:"
   ]
  },
  {
   "cell_type": "code",
   "execution_count": null,
   "metadata": {},
   "outputs": [],
   "source": [
    "numericOriginal <- as.numeric(items$original)\n",
    "str(numericOriginal)"
   ]
  },
  {
   "cell_type": "markdown",
   "metadata": {},
   "source": [
    "Hmm… R does not seem to know that we want to convert things like the\n",
    "string “\\$49” to the number 49. What it is doing instead is giving us\n",
    "the number that it uses internally to store factors. Its saying the\n",
    "first item is the first level, the second item is the third level.\n",
    "\n",
    "This does not work because of the \\$ in each of the prices. We have to\n",
    "remove those. We can remove those by using the `gsub` function which\n",
    "does string substitutions. What we will do is replace the \\$ sign by\n",
    "empty character, or replace the string “\\$” by the empty string \"\". This\n",
    "leaves the number part of the field."
   ]
  },
  {
   "cell_type": "code",
   "execution_count": null,
   "metadata": {},
   "outputs": [],
   "source": [
    "newOriginal<- gsub(\"$\",\"\", items$original, fixed=TRUE)\n",
    "str(newOriginal)"
   ]
  },
  {
   "cell_type": "markdown",
   "metadata": {},
   "source": [
    "To see if this will work lets convert this to numeric:"
   ]
  },
  {
   "cell_type": "code",
   "execution_count": null,
   "metadata": {},
   "outputs": [],
   "source": [
    "newOriginal <- as.numeric(newOriginal)\n",
    "str(newOriginal)"
   ]
  },
  {
   "cell_type": "markdown",
   "metadata": {},
   "source": [
    "Cool. That looks fine. Okay lets remove the \\$ sign from the original\n",
    "and current columns now:"
   ]
  },
  {
   "cell_type": "code",
   "execution_count": null,
   "metadata": {},
   "outputs": [],
   "source": [
    "items$original<-gsub(\"$\",\"\", items$original, fixed=TRUE)\n",
    "items$current<-gsub(\"$\",\"\", items$current, fixed=TRUE)\n",
    "\n",
    "str(items)"
   ]
  },
  {
   "cell_type": "markdown",
   "metadata": {},
   "source": [
    "Now we convert both of these the to numeric:"
   ]
  },
  {
   "cell_type": "code",
   "execution_count": null,
   "metadata": {},
   "outputs": [],
   "source": [
    "items$original <- as.numeric(items$original)\n",
    "items$current <- as.numeric(items$current)\n",
    "str(items)"
   ]
  },
  {
   "cell_type": "markdown",
   "metadata": {},
   "source": [
    "Lets print it out the first few items:"
   ]
  },
  {
   "cell_type": "code",
   "execution_count": null,
   "metadata": {},
   "outputs": [],
   "source": [
    "head(items)"
   ]
  },
  {
   "cell_type": "markdown",
   "metadata": {},
   "source": [
    "Finally looks like we are ready to calculate markdown percents. We will\n",
    "just calculate the proportion of the offered price to the original price\n",
    "and subtract from 1.0 (100%)."
   ]
  },
  {
   "cell_type": "code",
   "execution_count": null,
   "metadata": {},
   "outputs": [],
   "source": [
    "reduced <- 1.0 - (items$current/items$original);\n",
    "head(reduced)"
   ]
  },
  {
   "cell_type": "markdown",
   "metadata": {},
   "source": [
    "Almost, lets round it to the nearest percent instead"
   ]
  },
  {
   "cell_type": "code",
   "execution_count": null,
   "metadata": {},
   "outputs": [],
   "source": [
    "reduced <- round(reduced*100);\n",
    "head(reduced)"
   ]
  },
  {
   "cell_type": "markdown",
   "metadata": {},
   "source": [
    "Finally lets add it as a new column to the original data frame:"
   ]
  },
  {
   "cell_type": "code",
   "execution_count": null,
   "metadata": {},
   "outputs": [],
   "source": [
    "items$reduced <- reduced\n",
    "str(items)"
   ]
  },
  {
   "cell_type": "markdown",
   "metadata": {},
   "source": [
    "Now lets print it out:"
   ]
  },
  {
   "cell_type": "code",
   "execution_count": null,
   "metadata": {},
   "outputs": [],
   "source": [
    "head(items)"
   ]
  },
  {
   "cell_type": "markdown",
   "metadata": {},
   "source": [
    "We dont have that much data but you could find the average reduction:"
   ]
  },
  {
   "cell_type": "code",
   "execution_count": null,
   "metadata": {},
   "outputs": [],
   "source": [
    "mean(items$reduced)"
   ]
  },
  {
   "cell_type": "markdown",
   "metadata": {},
   "source": [
    "For this set of data the offered price was 71% off the original. Lets\n",
    "see the range of reductions:"
   ]
  },
  {
   "cell_type": "code",
   "execution_count": null,
   "metadata": {},
   "outputs": [],
   "source": [
    "range(items$reduced)"
   ]
  },
  {
   "cell_type": "markdown",
   "metadata": {},
   "source": [
    "Anywhere from 41% to 97% off the original price."
   ]
  }
 ],
 "nbformat": 4,
 "nbformat_minor": 5,
 "metadata": {
  "kernelspec": {
   "name": "ir",
   "display_name": "R",
   "language": "R"
  }
 }
}

