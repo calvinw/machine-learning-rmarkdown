{
 "cells": [
  {
   "cell_type": "markdown",
   "metadata": {},
   "source": [
    "Lets look at a simple example that has data from the Poshmark website.\n",
    "We scraped the names of some items, the original retail, and their\n",
    "current offering prices for some items being offered:\n",
    "\n",
    "Lets make the data into some vectors:"
   ]
  },
  {
   "cell_type": "code",
   "execution_count": null,
   "metadata": {},
   "outputs": [],
   "source": [
    "name <- c(\"Jcrew blazer\",           \n",
    "      \"Forever 21 lace zip up blazer\",                     \n",
    "      \"Banana Republic Navy  Blazer\",                     \n",
    "      \"Julian Taylor Pant And Blazer Size 12\",             \n",
    "      \"Bernard Zins Paris Multi Colored Jacket\",\n",
    "      \"Evan Picone Suit Blazer - 6\",\n",
    "      \"Black blazer\",\n",
    "      \"Jones Studio Blazer\")  \n",
    "original <- c(198,49,129,999,129,74,80,59)\n",
    "offered<- c(60,29,45,30,22,13,15,25)"
   ]
  },
  {
   "cell_type": "markdown",
   "metadata": {},
   "source": [
    "Next we will create a dataframe with the items above in it.\n",
    "\n",
    "-   create a data frame called `items` using the 3 vectors above.\n",
    "    Replace CODE with the 3 vectors names, and use commas between them"
   ]
  },
  {
   "cell_type": "code",
   "execution_count": null,
   "metadata": {},
   "outputs": [],
   "source": [
    "items <- data.frame(CODE)"
   ]
  },
  {
   "cell_type": "markdown",
   "metadata": {},
   "source": [
    "-   print out info on the `items` using `str`"
   ]
  },
  {
   "cell_type": "code",
   "execution_count": null,
   "metadata": {},
   "outputs": [],
   "source": [
    "CODE"
   ]
  },
  {
   "cell_type": "markdown",
   "metadata": {},
   "source": [
    "-   print out all the records on `items` using `print(items)`"
   ]
  },
  {
   "cell_type": "code",
   "execution_count": null,
   "metadata": {},
   "outputs": [],
   "source": [
    "CODE"
   ]
  },
  {
   "cell_type": "markdown",
   "metadata": {},
   "source": [
    "Looks like one of the values is wrong or made up: 999 is just wrong.\n",
    "Lets fix that to be \\$54.\n",
    "\n",
    "-   change “Julian Taylor” item’s price to be 54 (replace CODE with\n",
    "    correct value)"
   ]
  },
  {
   "cell_type": "code",
   "execution_count": null,
   "metadata": {},
   "outputs": [],
   "source": [
    "items[4,2]<-CODE"
   ]
  },
  {
   "cell_type": "markdown",
   "metadata": {},
   "source": [
    "Lets check to make sure this looks okay.\n",
    "\n",
    "-   print out all the records again using `print(items)`"
   ]
  },
  {
   "cell_type": "code",
   "execution_count": null,
   "metadata": {},
   "outputs": [],
   "source": [
    "CODE"
   ]
  },
  {
   "cell_type": "markdown",
   "metadata": {},
   "source": [
    "Let’s calculate markdown percents. We will just calculate the\n",
    "`original - offered` and divide by `original`.\n",
    "\n",
    "-   assign `markdown <- (items$original-items$offered)/items$original`\n",
    "-   print out `markdown`"
   ]
  },
  {
   "cell_type": "code",
   "execution_count": null,
   "metadata": {},
   "outputs": [],
   "source": [
    "CODE"
   ]
  },
  {
   "cell_type": "markdown",
   "metadata": {},
   "source": [
    "Almost, lets round it to the nearest percent instead\n",
    "\n",
    "-   assign `markdown <- 100*round(markdown,2)`\n",
    "-   print out `markdown`"
   ]
  },
  {
   "cell_type": "code",
   "execution_count": null,
   "metadata": {},
   "outputs": [],
   "source": [
    "CODE"
   ]
  },
  {
   "cell_type": "markdown",
   "metadata": {},
   "source": [
    "Finally lets add it as a new column to the original data frame:\n",
    "\n",
    "-   add the column to the data frame with `items$markdown<-markdown`\n",
    "-   print out info on the new dataframe with `str`"
   ]
  },
  {
   "cell_type": "code",
   "execution_count": null,
   "metadata": {},
   "outputs": [],
   "source": [
    "CODE"
   ]
  },
  {
   "cell_type": "markdown",
   "metadata": {},
   "source": [
    "Now lets print it out:\n",
    "\n",
    "-   print out the first few records of `items` using `head`"
   ]
  },
  {
   "cell_type": "code",
   "execution_count": null,
   "metadata": {},
   "outputs": [],
   "source": [
    "CODE"
   ]
  },
  {
   "cell_type": "markdown",
   "metadata": {},
   "source": [
    "We dont have that much data but you could find the average markdown:\n",
    "\n",
    "-   use `mean` to find the average, pass it `items$markdown` as\n",
    "    argument(change CODE below)"
   ]
  },
  {
   "cell_type": "code",
   "execution_count": null,
   "metadata": {},
   "outputs": [],
   "source": [
    "mean(CODE)"
   ]
  },
  {
   "cell_type": "markdown",
   "metadata": {},
   "source": [
    "For this set of data the average offered price was 66% off the original.\n",
    "Lets see the range of markdowns:\n",
    "\n",
    "-   use `range` to find the range, pass it `items$markdown` as argument\n",
    "    (change CODE below)"
   ]
  },
  {
   "cell_type": "code",
   "execution_count": null,
   "metadata": {},
   "outputs": [],
   "source": [
    "range(CODE)"
   ]
  },
  {
   "cell_type": "markdown",
   "metadata": {},
   "source": [
    "This gives the ranges of the markdowns from this set of data from 41% to\n",
    "83%\n",
    "\n",
    "Lets create a model that predicts the offered price from the original:\n",
    "\n",
    "-   create a model using `lm` that predicts `offered` from the\n",
    "    `original` (fill in CODE with the appropriate thing below)"
   ]
  },
  {
   "cell_type": "code",
   "execution_count": null,
   "metadata": {},
   "outputs": [],
   "source": [
    "model<-lm(CODE, data=items)\n",
    "summary(model)"
   ]
  },
  {
   "cell_type": "markdown",
   "metadata": {},
   "source": [
    "Find the correlation between **offered** and **original**\n",
    "\n",
    "-   find the correlation between `items$offered` and `items$original`\n",
    "    using the function `cor` (pass `items$original` as first argument\n",
    "    and `items$offered` as the second argument)"
   ]
  },
  {
   "cell_type": "code",
   "execution_count": null,
   "metadata": {},
   "outputs": [],
   "source": [
    "cor(CODE)"
   ]
  },
  {
   "cell_type": "markdown",
   "metadata": {},
   "source": [
    "Now find the scatterplot of **offered** and **original**\n",
    "\n",
    "-   plot the scatterplot of `offered` vs `original` using `plot`. Pass\n",
    "    `items$original` and `items$offered` as the first and second\n",
    "    argument to `plot`\n",
    "-   add the regression line using `abline`. Pass the `model` to that\n",
    "    function."
   ]
  },
  {
   "cell_type": "code",
   "execution_count": null,
   "metadata": {},
   "outputs": [],
   "source": [
    "plot(CODE)\n",
    "abline(CODE)"
   ]
  }
 ],
 "nbformat": 4,
 "nbformat_minor": 5,
 "metadata": {
  "kernelspec": {
   "name": "ir",
   "display_name": "R",
   "language": "R"
  }
 }
}
