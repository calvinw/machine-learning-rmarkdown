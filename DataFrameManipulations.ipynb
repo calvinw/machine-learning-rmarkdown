{
  "cells": [
    {
      "cell_type": "markdown",
      "metadata": {},
      "source": [
        "# Data Frames Manipulations\n",
        "\n",
        "Lets look at a simple example that has data from the Poshmark website.\n",
        "We scraped the names of some items, the original retail, and their\n",
        "current offering prices for some items being offered:\n",
        "\n",
        "Lets make the data into some vectors:"
      ],
      "id": "3639b253-0d31-4e09-9963-cf1e240fd115"
    },
    {
      "cell_type": "code",
      "execution_count": null,
      "metadata": {},
      "outputs": [],
      "source": [
        "name <- c(\"Jcrew blazer\",           \n",
        "      \"Forever 21 lace zip up blazer\",                     \n",
        "      \"Banana Republic Navy  Blazer\",                     \n",
        "      \"Julian Taylor Pant And Blazer Size 12\",             \n",
        "      \"Bernard Zins Paris Multi Colored Jacket\",\n",
        "      \"Evan Picone Suit Blazer - 6\",\n",
        "      \"Black blazer\",\n",
        "      \"Jones Studio Blazer\")  \n",
        "original <- c(198,49,129,999,129,74,80,59)\n",
        "offered<- c(60,29,45,30,22,13,15,25)"
      ],
      "id": "d5754c15-b6c5-47e2-bcaf-eb2185c6dddf"
    },
    {
      "cell_type": "markdown",
      "metadata": {},
      "source": [
        "Next we will create a dataframe with the items above in it.\n",
        "\n",
        "-   create a data frame called `items` using the 3 vectors above.\n",
        "    Replace CODE with the 3 vectors names, and use commas between them"
      ],
      "id": "14a2b0e6-1601-483c-8406-f9992614170b"
    },
    {
      "cell_type": "code",
      "execution_count": null,
      "metadata": {},
      "outputs": [],
      "source": [
        "items <- data.frame(CODE)"
      ],
      "id": "2d8059c4-3540-4f67-8f18-0af104659bef"
    },
    {
      "cell_type": "markdown",
      "metadata": {},
      "source": [
        "-   print out info on the `items` using `str`"
      ],
      "id": "18ac75fa-2e94-4d5b-b1dd-0abed2afff88"
    },
    {
      "cell_type": "code",
      "execution_count": null,
      "metadata": {},
      "outputs": [],
      "source": [
        "CODE"
      ],
      "id": "f33fa94e-e180-469e-8da4-b779dcf10327"
    },
    {
      "cell_type": "markdown",
      "metadata": {},
      "source": [
        "-   print out all the records on `items` using `print(items)`"
      ],
      "id": "a49d1db6-f55d-4e91-b92a-4feacc2a0e44"
    },
    {
      "cell_type": "code",
      "execution_count": null,
      "metadata": {},
      "outputs": [],
      "source": [
        "CODE"
      ],
      "id": "f7017bb2-b3a5-4bf6-90ca-db01b5d02483"
    },
    {
      "cell_type": "markdown",
      "metadata": {},
      "source": [
        "Looks like one of the values is wrong or made up: 999 is just wrong.\n",
        "Lets fix that to be \\$54.\n",
        "\n",
        "-   change “Julian Taylor” item’s price to be 54 (replace CODE with\n",
        "    correct value)"
      ],
      "id": "bef6af74-432c-4f21-98cd-fef5f9fadb70"
    },
    {
      "cell_type": "code",
      "execution_count": null,
      "metadata": {},
      "outputs": [],
      "source": [
        "items[4,2]<-CODE"
      ],
      "id": "c77bdaea-8b3c-4e47-9af5-600d5e433883"
    },
    {
      "cell_type": "markdown",
      "metadata": {},
      "source": [
        "Lets check to make sure this looks okay.\n",
        "\n",
        "-   print out all the records again using `print(items)`"
      ],
      "id": "4e591df6-cbb0-4664-933e-551dc6226d1b"
    },
    {
      "cell_type": "code",
      "execution_count": null,
      "metadata": {},
      "outputs": [],
      "source": [
        "CODE"
      ],
      "id": "15936148-1db8-4888-be78-b83f2f8b7123"
    },
    {
      "cell_type": "markdown",
      "metadata": {},
      "source": [
        "Let’s calculate markdown percents. We will just calculate the\n",
        "`original - offered` and divide by `original`.\n",
        "\n",
        "-   assign `markdown <- (items$original-items$offered)/items$original`\n",
        "-   print out `markdown`"
      ],
      "id": "648243c0-3a2c-4acb-92cf-450087a0162f"
    },
    {
      "cell_type": "code",
      "execution_count": null,
      "metadata": {},
      "outputs": [],
      "source": [
        "CODE"
      ],
      "id": "91ddce2f-7a02-47a7-be7c-00a162d512d8"
    },
    {
      "cell_type": "markdown",
      "metadata": {},
      "source": [
        "Almost, lets round it to the nearest percent instead\n",
        "\n",
        "-   assign `markdown <- 100*round(markdown,2)`\n",
        "-   print out `markdown`"
      ],
      "id": "c796d64a-b5fd-43cc-acbf-6b37710044f2"
    },
    {
      "cell_type": "code",
      "execution_count": null,
      "metadata": {},
      "outputs": [],
      "source": [
        "CODE"
      ],
      "id": "1bb5692c-3fca-4129-a6ea-a13c977eea6a"
    },
    {
      "cell_type": "markdown",
      "metadata": {},
      "source": [
        "Finally lets add it as a new column to the original data frame:\n",
        "\n",
        "-   add the column to the data frame with `items$markdown<-markdown`\n",
        "-   print out info on the new dataframe with `str`"
      ],
      "id": "4eb6126a-0d71-4494-97b0-fd03c32d682c"
    },
    {
      "cell_type": "code",
      "execution_count": null,
      "metadata": {},
      "outputs": [],
      "source": [
        "CODE"
      ],
      "id": "8e84e8ae-3e2d-479c-828b-caefe55a081e"
    },
    {
      "cell_type": "markdown",
      "metadata": {},
      "source": [
        "Now lets print it out:\n",
        "\n",
        "-   print out the first few records of `items` using `head`"
      ],
      "id": "5646a4ad-7d5b-46cf-b698-7886c6cf7191"
    },
    {
      "cell_type": "code",
      "execution_count": null,
      "metadata": {},
      "outputs": [],
      "source": [
        "CODE"
      ],
      "id": "1c28eef3-41c7-49d9-bc5f-838e9b8f37ed"
    },
    {
      "cell_type": "markdown",
      "metadata": {},
      "source": [
        "We dont have that much data but you could find the average markdown:\n",
        "\n",
        "-   use `mean` to find the average, pass it `items$markdown` as\n",
        "    argument(change CODE below)"
      ],
      "id": "48ab40bb-b4d8-4fcb-b079-136dea07a157"
    },
    {
      "cell_type": "code",
      "execution_count": null,
      "metadata": {},
      "outputs": [],
      "source": [
        "mean(CODE)"
      ],
      "id": "61ad4d92-703f-4dee-8513-f70cfebd1a3a"
    },
    {
      "cell_type": "markdown",
      "metadata": {},
      "source": [
        "For this set of data the average offered price was 66% off the original.\n",
        "Lets see the range of markdowns:\n",
        "\n",
        "-   use `range` to find the range, pass it `items$markdown` as argument\n",
        "    (change CODE below)"
      ],
      "id": "2610841a-1565-436a-9007-190243f21fe2"
    },
    {
      "cell_type": "code",
      "execution_count": null,
      "metadata": {},
      "outputs": [],
      "source": [
        "range(CODE)"
      ],
      "id": "b66f25bb-5cc7-4d76-92ef-ef27453831c9"
    },
    {
      "cell_type": "markdown",
      "metadata": {},
      "source": [
        "This gives the ranges of the markdowns from this set of data from 41% to\n",
        "83%\n",
        "\n",
        "Lets create a model that predicts the offered price from the original:\n",
        "\n",
        "-   create a model using `lm` that predicts `offered` from the\n",
        "    `original` (fill in CODE with the appropriate thing below)"
      ],
      "id": "0770a708-3b22-48c3-a773-84a7709f56ed"
    },
    {
      "cell_type": "code",
      "execution_count": null,
      "metadata": {},
      "outputs": [],
      "source": [
        "model<-lm(CODE, data=items)\n",
        "summary(model)"
      ],
      "id": "2f1f88b1-5409-4f14-ace6-f07c4c0f7757"
    },
    {
      "cell_type": "markdown",
      "metadata": {},
      "source": [
        "Find the correlation between **offered** and **original**\n",
        "\n",
        "-   find the correlation between `items$offered` and `items$original`\n",
        "    using the function `cor` (pass `items$original` as first argument\n",
        "    and `items$offered` as the second argument)"
      ],
      "id": "c70f84cc-ee85-4dd0-8b68-b2406088f5f9"
    },
    {
      "cell_type": "code",
      "execution_count": null,
      "metadata": {},
      "outputs": [],
      "source": [
        "cor(CODE)"
      ],
      "id": "3599643c-d38a-426b-a55f-536e6e5b7312"
    },
    {
      "cell_type": "markdown",
      "metadata": {},
      "source": [
        "Now find the scatterplot of **offered** and **original**\n",
        "\n",
        "-   plot the scatterplot of `offered` vs `original` using `plot`. Pass\n",
        "    `items$original` and `items$offered` as the first and second\n",
        "    argument to `plot`\n",
        "-   add the regression line using `abline`. Pass the `model` to that\n",
        "    function."
      ],
      "id": "a05809e5-3fb4-4efa-bc87-dd07bb007e95"
    },
    {
      "cell_type": "code",
      "execution_count": null,
      "metadata": {},
      "outputs": [],
      "source": [
        "plot(CODE)\n",
        "abline(CODE)"
      ],
      "id": "8e97a84c-dda6-4f86-8220-161fa6878a6a"
    }
  ],
  "nbformat": 4,
  "nbformat_minor": 5,
  "metadata": {
    "kernelspec": {
      "name": "ir",
      "display_name": "R",
      "language": "R"
    }
  }
}