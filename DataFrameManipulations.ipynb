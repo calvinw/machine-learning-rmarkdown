{
  "cells": [
    {
      "cell_type": "markdown",
      "metadata": {},
      "source": [
        "# Data Frames Manipulations\n",
        "\n",
        "Lets look at a simple example that has data from the Poshmark website.\n",
        "We scraped the names of some items, the original retail, and their\n",
        "current offering prices for some items being offered:\n",
        "\n",
        "Lets make the data into some vectors:"
      ],
      "id": "abcfc94f-4dbd-4515-a49b-6d1dc87b7f31"
    },
    {
      "cell_type": "code",
      "execution_count": null,
      "metadata": {},
      "outputs": [],
      "source": [
        "name <- c(\"Jcrew blazer\",           \n",
        "      \"Forever 21 lace zip up blazer\",                     \n",
        "      \"Banana Republic Navy  Blazer\",                     \n",
        "      \"Julian Taylor Pant And Blazer Size 12\",             \n",
        "      \"Bernard Zins Paris Multi Colored Jacket\",\n",
        "      \"Evan Picone Suit Blazer - 6\",\n",
        "      \"Black blazer\",\n",
        "      \"Jones Studio Blazer\")  \n",
        "original <- c(198,49,129,999,129,74,80,59)\n",
        "offered<- c(60,29,45,30,22,13,15,25)"
      ],
      "id": "0d382ef7-72de-4657-a914-fec4a86ba98b"
    },
    {
      "cell_type": "markdown",
      "metadata": {},
      "source": [
        "Next we will create a dataframe with the items above in it.\n",
        "\n",
        "-   create a data frame called `items` using the 3 vectors above.\n",
        "    Replace CODE with the 3 vectors names, and use commas between them"
      ],
      "id": "ea1b70d8-61ed-4f51-baca-18c3d3134051"
    },
    {
      "cell_type": "code",
      "execution_count": null,
      "metadata": {},
      "outputs": [],
      "source": [
        "items <- data.frame(CODE)"
      ],
      "id": "dbc78328-67ca-4410-bf49-4c2d6d26fc69"
    },
    {
      "cell_type": "markdown",
      "metadata": {},
      "source": [
        "-   print out info on the `items` using `str`"
      ],
      "id": "88845599-031e-4b1b-9453-a941fc29290f"
    },
    {
      "cell_type": "code",
      "execution_count": null,
      "metadata": {},
      "outputs": [],
      "source": [
        "CODE"
      ],
      "id": "49df313e-9543-4c24-91dc-305927d89fd2"
    },
    {
      "cell_type": "markdown",
      "metadata": {},
      "source": [
        "-   print out all the records on `items` using `print(items)`"
      ],
      "id": "980eaaa1-b762-4aef-bb7a-4e1946257d0c"
    },
    {
      "cell_type": "code",
      "execution_count": null,
      "metadata": {},
      "outputs": [],
      "source": [
        "CODE"
      ],
      "id": "cdd232de-d69c-49fa-887b-1c8d580e14ef"
    },
    {
      "cell_type": "markdown",
      "metadata": {},
      "source": [
        "Looks like one of the values is wrong or made up: 999 is just wrong.\n",
        "Lets fix that to be \\$54.\n",
        "\n",
        "-   change “Julian Taylor” item’s price to be 54 (replace CODE with\n",
        "    correct value)"
      ],
      "id": "e01a37fa-0d88-4346-8db3-1bb0f11bfb9f"
    },
    {
      "cell_type": "code",
      "execution_count": null,
      "metadata": {},
      "outputs": [],
      "source": [
        "items[4,2]<-CODE"
      ],
      "id": "54998ebc-eae2-419f-94b6-c40d227a2bd0"
    },
    {
      "cell_type": "markdown",
      "metadata": {},
      "source": [
        "Lets check to make sure this looks okay.\n",
        "\n",
        "-   print out all the records again using `print(items)`"
      ],
      "id": "f0017bae-c233-4eb2-ac7a-e700f28b74d8"
    },
    {
      "cell_type": "code",
      "execution_count": null,
      "metadata": {},
      "outputs": [],
      "source": [
        "CODE"
      ],
      "id": "a8e9b221-043f-48c3-96e0-5a658410a196"
    },
    {
      "cell_type": "markdown",
      "metadata": {},
      "source": [
        "Let’s calculate markdown percents. We will just calculate the\n",
        "`original - offered` and divide by `original`.\n",
        "\n",
        "-   assign `markdown <- (items$original-items$offered)/items$original`\n",
        "-   print out `markdown`"
      ],
      "id": "438f3bd4-715a-4d17-8534-bb3e89c96c5a"
    },
    {
      "cell_type": "code",
      "execution_count": null,
      "metadata": {},
      "outputs": [],
      "source": [
        "CODE"
      ],
      "id": "31a33e6b-047c-4e00-995e-cbd7cde16230"
    },
    {
      "cell_type": "markdown",
      "metadata": {},
      "source": [
        "Almost, lets round it to the nearest percent instead\n",
        "\n",
        "-   assign `markdown <- 100*round(markdown,2)`\n",
        "-   print out `markdown`"
      ],
      "id": "4a951b10-0da1-49bb-b267-3d15954c48ec"
    },
    {
      "cell_type": "code",
      "execution_count": null,
      "metadata": {},
      "outputs": [],
      "source": [
        "CODE"
      ],
      "id": "e7365220-1a39-4c4b-8175-522917f02592"
    },
    {
      "cell_type": "markdown",
      "metadata": {},
      "source": [
        "Finally lets add it as a new column to the original data frame:\n",
        "\n",
        "-   add the column to the data frame with `items$markdown<-markdown`\n",
        "-   print out info on the new dataframe with `str`"
      ],
      "id": "7b759418-6226-4d57-b8e5-2211f489ed13"
    },
    {
      "cell_type": "code",
      "execution_count": null,
      "metadata": {},
      "outputs": [],
      "source": [
        "CODE"
      ],
      "id": "1a0a3045-7bb9-4fc9-8676-797cc42f2bc0"
    },
    {
      "cell_type": "markdown",
      "metadata": {},
      "source": [
        "Now lets print it out:\n",
        "\n",
        "-   print out the first few records of `items` using `head`"
      ],
      "id": "72d2e9ee-d7d1-4b23-8c7f-f203d38ec5b6"
    },
    {
      "cell_type": "code",
      "execution_count": null,
      "metadata": {},
      "outputs": [],
      "source": [
        "CODE"
      ],
      "id": "014c5e62-924c-4327-a413-e03f56c000a6"
    },
    {
      "cell_type": "markdown",
      "metadata": {},
      "source": [
        "We dont have that much data but you could find the average markdown:\n",
        "\n",
        "-   use `mean` to find the average, pass it `items$markdown` as\n",
        "    argument(change CODE below)"
      ],
      "id": "9ea64cc7-9f94-4296-9dcc-314f5bae4832"
    },
    {
      "cell_type": "code",
      "execution_count": null,
      "metadata": {},
      "outputs": [],
      "source": [
        "mean(CODE)"
      ],
      "id": "42da9611-1b20-43e7-b522-72e410896796"
    },
    {
      "cell_type": "markdown",
      "metadata": {},
      "source": [
        "For this set of data the average offered price was 66% off the original.\n",
        "Lets see the range of markdowns:\n",
        "\n",
        "-   use `range` to find the range, pass it `items$markdown` as argument\n",
        "    (change CODE below)"
      ],
      "id": "7fc4abf4-82f5-4b01-8200-0e06968c43c8"
    },
    {
      "cell_type": "code",
      "execution_count": null,
      "metadata": {},
      "outputs": [],
      "source": [
        "range(CODE)"
      ],
      "id": "6595db1b-5dc9-4d30-a6de-5458ca33da89"
    },
    {
      "cell_type": "markdown",
      "metadata": {},
      "source": [
        "This gives the ranges of the markdowns from this set of data from 41% to\n",
        "83%\n",
        "\n",
        "Lets create a model that predicts the offered price from the original:\n",
        "\n",
        "-   create a model using `lm` that predicts `offered` from the\n",
        "    `original` (fill in CODE with the appropriate thing below)"
      ],
      "id": "cf057770-7cd1-4cf7-938d-4ea53d14afcd"
    },
    {
      "cell_type": "code",
      "execution_count": null,
      "metadata": {},
      "outputs": [],
      "source": [
        "model<-lm(CODE, data=items)\n",
        "summary(model)"
      ],
      "id": "c830d4c7-132f-4f16-bce3-d45747741bed"
    },
    {
      "cell_type": "markdown",
      "metadata": {},
      "source": [
        "Find the correlation between **offered** and **original**\n",
        "\n",
        "-   find the correlation between `items$offered` and `items$original`\n",
        "    using the function `cor` (pass `items$original` as first argument\n",
        "    and `items$offered` as the second argument)"
      ],
      "id": "dba72739-f12a-48fa-9a5b-8acc7ddfb603"
    },
    {
      "cell_type": "code",
      "execution_count": null,
      "metadata": {},
      "outputs": [],
      "source": [
        "cor(CODE)"
      ],
      "id": "036c3d49-b14a-4d1e-aa6d-1579431a5c48"
    },
    {
      "cell_type": "markdown",
      "metadata": {},
      "source": [
        "Now find the scatterplot of **offered** and **original**\n",
        "\n",
        "-   plot the scatterplot of `offered` vs `original` using `plot`. Pass\n",
        "    `items$original` and `items$offered` as the first and second\n",
        "    argument to `plot`\n",
        "-   add the regression line using `abline`. Pass the `model` to that\n",
        "    function."
      ],
      "id": "6822683c-4b1a-4bb7-9722-be0a766c4916"
    },
    {
      "cell_type": "code",
      "execution_count": null,
      "metadata": {},
      "outputs": [],
      "source": [
        "plot(CODE)\n",
        "abline(CODE)"
      ],
      "id": "30d2a631-5c60-414b-af48-35e43bf15325"
    }
  ],
  "nbformat": 4,
  "nbformat_minor": 5,
  "metadata": {
    "kernelspec": {
      "name": "ir",
      "display_name": "R",
      "language": "R"
    }
  }
}