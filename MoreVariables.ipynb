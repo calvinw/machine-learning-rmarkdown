{
  "cells": [
    {
      "cell_type": "markdown",
      "metadata": {},
      "source": [
        "# More Variables\n",
        "\n",
        "Lets start by storing a number in a variable. Store 4 in the variable\n",
        "`x` (Hint: Use the assignment operator \\<-)"
      ],
      "id": "1d28d267-55a2-46b3-bae7-523a563f7070"
    },
    {
      "cell_type": "code",
      "execution_count": null,
      "metadata": {},
      "outputs": [],
      "source": [
        "CODE"
      ],
      "id": "1b8a6250-6545-4cee-b656-bce573a7fd5a"
    },
    {
      "cell_type": "markdown",
      "metadata": {},
      "source": [
        "Print out the variable `x`:"
      ],
      "id": "47b5accc-4ca7-4b0e-b124-0806a37c7460"
    },
    {
      "cell_type": "code",
      "execution_count": null,
      "metadata": {},
      "outputs": [],
      "source": [
        "CODE"
      ],
      "id": "03229db6-6c77-4014-ac08-548189a7bc9a"
    },
    {
      "cell_type": "markdown",
      "metadata": {},
      "source": [
        "Set `y` equal to `5*x`"
      ],
      "id": "84f57a93-273c-4195-80ef-2dc2984d9f80"
    },
    {
      "cell_type": "code",
      "execution_count": null,
      "metadata": {},
      "outputs": [],
      "source": [
        "CODE"
      ],
      "id": "0e91f514-ee19-4c40-84fc-aaa4a1a631fb"
    },
    {
      "cell_type": "markdown",
      "metadata": {},
      "source": [
        "Now y will have a value after we do this. What is the current value of\n",
        "y? Since the current value of `x` is 4, the value of y should be\n",
        "$5(4)=20$.\n",
        "\n",
        "Now print out the value of `y`"
      ],
      "id": "9785faf9-3a07-4b07-a0d8-f6fcab5128a8"
    },
    {
      "cell_type": "code",
      "execution_count": null,
      "metadata": {},
      "outputs": [],
      "source": [
        "CODE"
      ],
      "id": "b2bab25d-aa7e-494b-b69b-2ad63162d075"
    },
    {
      "cell_type": "markdown",
      "metadata": {},
      "source": [
        "Variables can be changed as a program proceeds.\n",
        "\n",
        "Change the value of x to be 7:"
      ],
      "id": "477d5833-cf47-4203-ae9e-90eb93b7d0c2"
    },
    {
      "cell_type": "code",
      "execution_count": null,
      "metadata": {},
      "outputs": [],
      "source": [
        "CODE"
      ],
      "id": "35c18bc1-ca83-473e-bdc6-dea9136b8e0a"
    },
    {
      "cell_type": "markdown",
      "metadata": {},
      "source": [
        "One thing you might wonder is that if you change the value of x at some\n",
        "point, does that affect the value of y we defined earlier using x? Let’s\n",
        "check:"
      ],
      "id": "b1a4c7f2-b946-4af2-80f9-ebb3538b321b"
    },
    {
      "cell_type": "code",
      "execution_count": null,
      "metadata": {},
      "outputs": [],
      "source": [
        "CODE"
      ],
      "id": "4b3de754-fa35-4d0a-b330-81bb41ccdb5e"
    },
    {
      "cell_type": "markdown",
      "metadata": {},
      "source": [
        "No. It doesn’t. This y still has the same value it had before which is\n",
        "$5(4) = 20$ since at the time we assigned y the x was equal to 4. If we\n",
        "want y to update, we would have to assign it again to give it a new\n",
        "value. Go ahead and do that."
      ],
      "id": "ce9d5777-8b7d-42ec-9445-38139adc1ed9"
    },
    {
      "cell_type": "code",
      "execution_count": null,
      "metadata": {},
      "outputs": [],
      "source": [
        "CODE"
      ],
      "id": "8b185426-2941-490a-a17a-28886056e9b9"
    },
    {
      "cell_type": "markdown",
      "metadata": {},
      "source": [
        "Now print out the new version of y:"
      ],
      "id": "e92a4419-841d-4829-965e-dd04a2738cc6"
    },
    {
      "cell_type": "code",
      "execution_count": null,
      "metadata": {},
      "outputs": [],
      "source": [
        "CODE"
      ],
      "id": "c9d96da2-4b5f-468f-8eee-1846031bb50c"
    },
    {
      "cell_type": "markdown",
      "metadata": {},
      "source": [
        "It has the value $5(7) = 35$ now since currently the x is assigned to be\n",
        "7.\n",
        "\n",
        "Next go ahead and set a variable `z` equal to 1.2 and `w` equal to 7 and\n",
        "then print them both out in this block of code"
      ],
      "id": "fdbb7855-e6d2-4f28-a82e-ae7868a3a6f7"
    },
    {
      "cell_type": "code",
      "execution_count": null,
      "metadata": {},
      "outputs": [],
      "source": [
        "CODE"
      ],
      "id": "b4c82242-e573-495e-a525-8432977d8280"
    },
    {
      "cell_type": "markdown",
      "metadata": {},
      "source": [
        "Now we change (assign) `z` to be `3*w-5` and print out the new `z`"
      ],
      "id": "09a15e0d-f2c9-418a-85d5-d10cf92ebe63"
    },
    {
      "cell_type": "code",
      "execution_count": null,
      "metadata": {},
      "outputs": [],
      "source": [
        "CODE"
      ],
      "id": "6ccffdbf-889e-4ca5-8ea1-211b0b4a6dc8"
    },
    {
      "cell_type": "markdown",
      "metadata": {},
      "source": [
        "Since `w` was 7 above, the new value of `z` is $3(7)-5 = 16$\n",
        "\n",
        "Below we are trying to assign x to be 21 but it does not work. If you\n",
        "try running the code it says that x is still 7."
      ],
      "id": "8d915296-38a5-417d-9aec-b44869f379ed"
    },
    {
      "cell_type": "code",
      "execution_count": null,
      "metadata": {},
      "outputs": [
        {
          "output_type": "stream",
          "name": "stdout",
          "text": [
            "[1] TRUE"
          ]
        },
        {
          "output_type": "stream",
          "name": "stdout",
          "text": [
            "[1] 7"
          ]
        }
      ],
      "source": [
        "x <= 21"
      ],
      "id": "d5a4983f-0f37-42f3-8b5b-eb0992d0a067"
    },
    {
      "cell_type": "markdown",
      "metadata": {},
      "source": [
        "Provide a correct version below, so that it prints out 21:"
      ],
      "id": "d6b3aa0e-fb16-4633-9e4f-8497561ac855"
    },
    {
      "cell_type": "code",
      "execution_count": null,
      "metadata": {},
      "outputs": [],
      "source": [
        "x <= 21\n",
        "x"
      ],
      "id": "732bd893-18d5-48d5-8b74-dad95960d26a"
    }
  ],
  "nbformat": 4,
  "nbformat_minor": 5,
  "metadata": {
    "kernelspec": {
      "name": "ir",
      "display_name": "R",
      "language": "R"
    }
  }
}