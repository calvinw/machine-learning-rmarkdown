{
  "cells": [
    {
      "cell_type": "markdown",
      "metadata": {},
      "source": [
        "# More Variables\n",
        "\n",
        "Lets start by storing a number in a variable. Store 4 in the variable\n",
        "`x` (Hint: Use the assignment operator \\<-)"
      ],
      "id": "355e5223-db01-4e5d-9ad4-0f45204a7d43"
    },
    {
      "cell_type": "code",
      "execution_count": null,
      "metadata": {},
      "outputs": [],
      "source": [
        "CODE"
      ],
      "id": "11a7745e-6089-4018-93d3-d03994470e59"
    },
    {
      "cell_type": "markdown",
      "metadata": {},
      "source": [
        "Print out the variable `x`:"
      ],
      "id": "b0a0fe2a-3ecc-44bd-a8bc-f7ad35dfbfe7"
    },
    {
      "cell_type": "code",
      "execution_count": null,
      "metadata": {},
      "outputs": [],
      "source": [
        "CODE"
      ],
      "id": "8dff0aa6-0453-413f-a8a3-43848a1803f6"
    },
    {
      "cell_type": "markdown",
      "metadata": {},
      "source": [
        "Set `y` equal to `5*x`"
      ],
      "id": "3a68ab5d-9f09-4ce9-9595-7081501bfc23"
    },
    {
      "cell_type": "code",
      "execution_count": null,
      "metadata": {},
      "outputs": [],
      "source": [
        "CODE"
      ],
      "id": "5adfe57b-5075-40da-8907-c8869f0f3b2a"
    },
    {
      "cell_type": "markdown",
      "metadata": {},
      "source": [
        "Now y will have a value after we do this. What is the current value of\n",
        "y? Since the current value of `x` is 4, the value of y should be\n",
        "$5(4)=20$.\n",
        "\n",
        "Now print out the value of `y`"
      ],
      "id": "d43477f6-63d4-453f-bf9a-7286e761d4f3"
    },
    {
      "cell_type": "code",
      "execution_count": null,
      "metadata": {},
      "outputs": [],
      "source": [
        "CODE"
      ],
      "id": "b04235f7-5a43-4158-ab8e-9d50223b2ffa"
    },
    {
      "cell_type": "markdown",
      "metadata": {},
      "source": [
        "Variables can be changed as a program proceeds.\n",
        "\n",
        "Change the value of x to be 7:"
      ],
      "id": "a28eac58-6322-40f7-82d3-3d40c72ba069"
    },
    {
      "cell_type": "code",
      "execution_count": null,
      "metadata": {},
      "outputs": [],
      "source": [
        "CODE"
      ],
      "id": "25f7133e-1127-4829-aaa7-8554828af21f"
    },
    {
      "cell_type": "markdown",
      "metadata": {},
      "source": [
        "One thing you might wonder is that if you change the value of x at some\n",
        "point, does that affect the value of y we defined earlier using x? Let’s\n",
        "check:"
      ],
      "id": "4d8a9f54-26da-4433-8a7f-5b97d9e5754e"
    },
    {
      "cell_type": "code",
      "execution_count": null,
      "metadata": {},
      "outputs": [],
      "source": [
        "CODE"
      ],
      "id": "c2d58b20-bdfa-42f7-ad07-4f9df224fc0d"
    },
    {
      "cell_type": "markdown",
      "metadata": {},
      "source": [
        "No. It doesn’t. This y still has the same value it had before which is\n",
        "$5(4) = 20$ since at the time we assigned y the x was equal to 4. If we\n",
        "want y to update, we would have to assign it again to give it a new\n",
        "value. Go ahead and do that."
      ],
      "id": "e964bf38-869c-4dba-99ca-0659bbab7423"
    },
    {
      "cell_type": "code",
      "execution_count": null,
      "metadata": {},
      "outputs": [],
      "source": [
        "CODE"
      ],
      "id": "35614f5b-1a8a-45cb-877d-e21d0e758b6d"
    },
    {
      "cell_type": "markdown",
      "metadata": {},
      "source": [
        "Now print out the new version of y:"
      ],
      "id": "cdfd24c5-3da2-4391-a406-3428cff4a74f"
    },
    {
      "cell_type": "code",
      "execution_count": null,
      "metadata": {},
      "outputs": [],
      "source": [
        "CODE"
      ],
      "id": "ae240490-9e5c-49a5-a934-e3188703d5e4"
    },
    {
      "cell_type": "markdown",
      "metadata": {},
      "source": [
        "It has the value $5(7) = 35$ now since currently the x is assigned to be\n",
        "7.\n",
        "\n",
        "Next go ahead and set a variable `z` equal to 1.2 and `w` equal to 7 and\n",
        "then print them both out in this block of code"
      ],
      "id": "cf6ac14a-48c0-40c3-86a9-dfa4e68f2b29"
    },
    {
      "cell_type": "code",
      "execution_count": null,
      "metadata": {},
      "outputs": [],
      "source": [
        "CODE"
      ],
      "id": "9196707e-6f65-4a93-8fda-e94de95a3cf2"
    },
    {
      "cell_type": "markdown",
      "metadata": {},
      "source": [
        "Now we change (assign) `z` to be `3*w-5` and print out the new `z`"
      ],
      "id": "0cac3e49-41c1-4fa1-ba0b-791fce9af8be"
    },
    {
      "cell_type": "code",
      "execution_count": null,
      "metadata": {},
      "outputs": [],
      "source": [
        "CODE"
      ],
      "id": "5f186ffa-1749-412a-ad7a-be813ccfcbd4"
    },
    {
      "cell_type": "markdown",
      "metadata": {},
      "source": [
        "Since `w` was 7 above, the new value of `z` is $3(7)-5 = 16$\n",
        "\n",
        "Below we are trying to assign x to be 21 but it does not work. If you\n",
        "try running the code it says that x is still 7."
      ],
      "id": "808e6e89-b0b3-4dc1-8d91-225cc2b886d9"
    },
    {
      "cell_type": "code",
      "execution_count": null,
      "metadata": {},
      "outputs": [
        {
          "output_type": "stream",
          "name": "stdout",
          "text": [
            "[1] TRUE"
          ]
        },
        {
          "output_type": "stream",
          "name": "stdout",
          "text": [
            "[1] 7"
          ]
        }
      ],
      "source": [
        "x <= 21"
      ],
      "id": "dd2cce82-f1a4-4c33-b363-d94697aa1d3e"
    },
    {
      "cell_type": "markdown",
      "metadata": {},
      "source": [
        "Provide a correct version below, so that it prints out 21:"
      ],
      "id": "84e050cf-2909-4ef6-bd55-7724545a0748"
    },
    {
      "cell_type": "code",
      "execution_count": null,
      "metadata": {},
      "outputs": [],
      "source": [
        "x <= 21\n",
        "x"
      ],
      "id": "f1a44899-d840-403f-b513-fd4dbe87473d"
    }
  ],
  "nbformat": 4,
  "nbformat_minor": 5,
  "metadata": {
    "kernelspec": {
      "name": "ir",
      "display_name": "R",
      "language": "R"
    }
  }
}