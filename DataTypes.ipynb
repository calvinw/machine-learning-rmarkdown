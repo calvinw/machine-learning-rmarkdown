{
  "cells": [
    {
      "cell_type": "markdown",
      "metadata": {},
      "source": [
        "# Data Types\n",
        "\n",
        "Variables and expressions in R have data types. The following charts\n",
        "shows the main data types:\n",
        "\n",
        "| Data Type           | R version | Examples     |\n",
        "|---------------------|-----------|--------------|\n",
        "| decimal (number)    | numeric   | 2.32,-0.45   |\n",
        "| string (text)       | character | “hello”, “k” |\n",
        "| integer             | integer   | 12L          |\n",
        "| boolean(true/false) | logical   | TRUE,FALSE   |\n",
        "\n",
        "You can find out what data type a variable holds by using the `class`\n",
        "function.\n",
        "\n",
        "`class` is a function that gives info on the data type of an object.\n",
        "\n",
        "### Numeric\n",
        "\n",
        "The data type of numbers like 3.2, -2.34, 0.0 is numeric\n",
        "\n",
        "The following variable has data type numeric:"
      ],
      "id": "63ecf0d2-abcf-4bc7-84cc-7b3f3c96e9a2"
    },
    {
      "cell_type": "code",
      "execution_count": null,
      "metadata": {},
      "outputs": [
        {
          "output_type": "stream",
          "name": "stdout",
          "text": [
            "[1] \"numeric\""
          ]
        }
      ],
      "source": [
        "x<-3.2\n",
        "class(x)"
      ],
      "id": "769053ee-93a5-44e9-a43a-c5fbb770b3ac"
    },
    {
      "cell_type": "markdown",
      "metadata": {},
      "source": [
        "### Character\n",
        "\n",
        "The data type of a text or string is character.\n",
        "\n",
        "Examples are “Bob”, “We are the champions”, “Fee Fi Fo”"
      ],
      "id": "fedb07cd-a0a2-4f98-9746-0c4600b4b077"
    },
    {
      "cell_type": "code",
      "execution_count": null,
      "metadata": {},
      "outputs": [
        {
          "output_type": "stream",
          "name": "stdout",
          "text": [
            "[1] \"character\""
          ]
        },
        {
          "output_type": "stream",
          "name": "stdout",
          "text": [
            "[1] \"character\""
          ]
        }
      ],
      "source": [
        "y<-\"hi there\"\n",
        "class(y)"
      ],
      "id": "5058356b-c9c4-43fb-90c0-1f5e5e13c5e9"
    },
    {
      "cell_type": "markdown",
      "metadata": {},
      "source": [
        "### Logical\n",
        "\n",
        "The data type of something that holds ‘TRUE’ or ‘FALSE’ is ‘logical’.\n",
        "\n",
        "This is Rs name for booleans, things that can just be TRUE or FALSE."
      ],
      "id": "94820e49-396c-47e4-8783-b7f394b3d005"
    },
    {
      "cell_type": "code",
      "execution_count": null,
      "metadata": {},
      "outputs": [
        {
          "output_type": "stream",
          "name": "stdout",
          "text": [
            "[1] \"logical\""
          ]
        },
        {
          "output_type": "stream",
          "name": "stdout",
          "text": [
            "[1] \"logical\""
          ]
        }
      ],
      "source": [
        "u<-TRUE\n",
        "class(u)"
      ],
      "id": "b0bb900d-cb8f-4059-9a3b-505effa2b0d8"
    },
    {
      "cell_type": "markdown",
      "metadata": {},
      "source": [
        "### Integer\n",
        "\n",
        "There is also a type for integers (…, -3,-2,-1,0,1,2,3,…), it is not\n",
        "used as frequently as “numeric”.\n",
        "\n",
        "To create an integer type, you have to use an L after the integer:"
      ],
      "id": "9f8756ee-4906-4542-96e0-16528c2f2fbf"
    },
    {
      "cell_type": "code",
      "execution_count": null,
      "metadata": {},
      "outputs": [
        {
          "output_type": "stream",
          "name": "stdout",
          "text": [
            "[1] \"integer\""
          ]
        }
      ],
      "source": [
        "a<-3L\n",
        "class(a)"
      ],
      "id": "41db8764-a40e-4152-99f3-2ef4786341b0"
    },
    {
      "cell_type": "markdown",
      "metadata": {},
      "source": [
        "If you do not use an L, then R will make it a ‘numeric’ type:"
      ],
      "id": "8b7e6375-c098-477a-8cd8-fc213901d286"
    },
    {
      "cell_type": "code",
      "execution_count": null,
      "metadata": {},
      "outputs": [
        {
          "output_type": "stream",
          "name": "stdout",
          "text": [
            "[1] \"numeric\""
          ]
        }
      ],
      "source": [
        "b<-3\n",
        "class(b)"
      ],
      "id": "b942a754-5825-43e4-ba69-6a155af82515"
    },
    {
      "cell_type": "markdown",
      "metadata": {},
      "source": [
        "## Using `str` Function For Info\n",
        "\n",
        "There is an even better function to give you info on an object or\n",
        "variable in R. It is called the `str` function (which stands for\n",
        "structure) and it gives the info a little more succintly than `class`."
      ],
      "id": "e05eb69c-65a0-43ed-bb0f-09ff86a2ef09"
    },
    {
      "cell_type": "code",
      "execution_count": null,
      "metadata": {},
      "outputs": [
        {
          "output_type": "stream",
          "name": "stdout",
          "text": [
            " num 3.2"
          ]
        }
      ],
      "source": [
        "x<-3.2\n",
        "str(x)"
      ],
      "id": "5f557c69-8cf0-4ed6-93da-4057e213d52a"
    },
    {
      "cell_type": "code",
      "execution_count": null,
      "metadata": {},
      "outputs": [
        {
          "output_type": "stream",
          "name": "stdout",
          "text": [
            " chr \"hi there\""
          ]
        }
      ],
      "source": [
        "y<-\"hi there\"\n",
        "str(y)"
      ],
      "id": "9b51e0e8-f1ee-4371-bdb6-d11935ce5f2d"
    },
    {
      "cell_type": "code",
      "execution_count": null,
      "metadata": {},
      "outputs": [
        {
          "output_type": "stream",
          "name": "stdout",
          "text": [
            " chr \"XXXYYYZZZ\""
          ]
        }
      ],
      "source": [
        "z<-\"XXXYYYZZZ\"\n",
        "str(z)"
      ],
      "id": "75985883-1434-4a3a-86df-dff64bc02edf"
    },
    {
      "cell_type": "code",
      "execution_count": null,
      "metadata": {},
      "outputs": [
        {
          "output_type": "stream",
          "name": "stdout",
          "text": [
            " int 3"
          ]
        }
      ],
      "source": [
        "a<-3L\n",
        "str(a)"
      ],
      "id": "a698a69d-ce71-4908-a51e-cf3cbeff7458"
    },
    {
      "cell_type": "code",
      "execution_count": null,
      "metadata": {},
      "outputs": [
        {
          "output_type": "stream",
          "name": "stdout",
          "text": [
            " logi TRUE"
          ]
        }
      ],
      "source": [
        "u<-TRUE\n",
        "str(u)"
      ],
      "id": "af1bba0d-2b20-45f8-aa08-a4688a598e16"
    },
    {
      "cell_type": "code",
      "execution_count": null,
      "metadata": {},
      "outputs": [
        {
          "output_type": "stream",
          "name": "stdout",
          "text": [
            " logi FALSE"
          ]
        }
      ],
      "source": [
        "v<-FALSE\n",
        "str(v)"
      ],
      "id": "0bc336b5-cf94-48d8-a770-c4b1b1d50102"
    },
    {
      "cell_type": "markdown",
      "metadata": {},
      "source": [
        "One thing that is nice about `str` is that it outputs the value of the\n",
        "variable as well. We will see some other nice things about `str` for\n",
        "more complicated data types like vectors and lists later.\n",
        "\n",
        "## Checking Types\n",
        "\n",
        "There are functions for checking the type of a variable or expression,\n",
        "which are sometimes more convenient than using the `class` for `str`\n",
        "function. Each of these answers `TRUE` or `FALSE` depending on whether\n",
        "the value is that type or not:\n",
        "\n",
        "| Checking types      | function     | Example               |\n",
        "|---------------------|--------------|-----------------------|\n",
        "| decimal number      | is.numeric   | is.numeric(2.32)      |\n",
        "| string              | is.character | is.character(“hello”) |\n",
        "| integer             | is.integer   | is.integer(2L)        |\n",
        "| boolean(true/false) | is.logical   | is.logical(TRUE)      |\n",
        "\n",
        "It turns out that an integer is also a numeric type"
      ],
      "id": "dcef3ad9-d7fc-4919-9cf2-f488ee44e6f1"
    },
    {
      "cell_type": "code",
      "execution_count": null,
      "metadata": {},
      "outputs": [
        {
          "output_type": "stream",
          "name": "stdout",
          "text": [
            "[1] TRUE"
          ]
        },
        {
          "output_type": "stream",
          "name": "stdout",
          "text": [
            "[1] TRUE"
          ]
        }
      ],
      "source": [
        "b<-3L\n",
        "is.integer(b)"
      ],
      "id": "cc1ad7ff-4522-4dff-b395-7d41556fde41"
    },
    {
      "cell_type": "markdown",
      "metadata": {},
      "source": [
        "But ‘numeric’ variables are not necessarily ‘integer’ types. 3.4 is not\n",
        "an integer, and `is.integer` returns `FALSE`"
      ],
      "id": "032abc61-fbe5-4895-a180-011a77e1a051"
    },
    {
      "cell_type": "code",
      "execution_count": null,
      "metadata": {},
      "outputs": [
        {
          "output_type": "stream",
          "name": "stdout",
          "text": [
            "[1] TRUE"
          ]
        },
        {
          "output_type": "stream",
          "name": "stdout",
          "text": [
            "[1] FALSE"
          ]
        }
      ],
      "source": [
        "c<-3.4\n",
        "is.numeric(c)"
      ],
      "id": "ced96b2c-2bb8-4b13-a847-0758716ffe14"
    },
    {
      "cell_type": "markdown",
      "metadata": {},
      "source": [
        "## Converting Types\n",
        "\n",
        "You can change a variables type if you need to using these functions:\n",
        "\n",
        "| Changing types      | function     | Example           |\n",
        "|---------------------|--------------|-------------------|\n",
        "| decimal number      | as.numeric   | as.numeric(2L)    |\n",
        "| string              | as.character | as.character(123) |\n",
        "| integer             | as.integer   | as.integer(2.0)   |\n",
        "| boolean(true/false) | as.logical   | as.logical(1)     |\n",
        "\n",
        "### Character to Numeric\n",
        "\n",
        "One use for this is to convert a string like “1.23” to a number 1.23.\n",
        "This happens frequently since when we read in data from files, even\n",
        "though the file may contain numbers, they will often be strings to begin\n",
        "with.\n",
        "\n",
        "With quotes around it, a number will be seen as a string. Here is an\n",
        "example:"
      ],
      "id": "a7909ac1-3712-4a0e-86c5-8e056aca21ce"
    },
    {
      "cell_type": "code",
      "execution_count": null,
      "metadata": {},
      "outputs": [
        {
          "output_type": "stream",
          "name": "stdout",
          "text": [
            "[1] TRUE"
          ]
        },
        {
          "output_type": "stream",
          "name": "stdout",
          "text": [
            "[1] FALSE"
          ]
        }
      ],
      "source": [
        "myData<-\"1.23\"\n",
        "is.character(myData)"
      ],
      "id": "2d9df8f5-58fd-455c-8d65-85aa1d91e9a8"
    },
    {
      "cell_type": "markdown",
      "metadata": {},
      "source": [
        "So if we want to change the string “1.23” to a number, we must use\n",
        "`as.numeric` to convert the string to a number:"
      ],
      "id": "09a23c85-8830-409c-bc64-073d3bf6402b"
    },
    {
      "cell_type": "code",
      "execution_count": null,
      "metadata": {},
      "outputs": [
        {
          "output_type": "stream",
          "name": "stdout",
          "text": [
            "[1] TRUE"
          ]
        },
        {
          "output_type": "stream",
          "name": "stdout",
          "text": [
            "[1] 1.23"
          ]
        }
      ],
      "source": [
        "myOtherData<-as.numeric(myData)\n",
        "is.numeric(myOtherData)"
      ],
      "id": "3fa39fde-3fe0-41aa-a1cd-0dfa1671f25f"
    },
    {
      "cell_type": "markdown",
      "metadata": {},
      "source": [
        "### Numeric to Character\n",
        "\n",
        "The other direction from number to a string happens sometimes as well.\n",
        "\n",
        "Below we create a number, then convert it to a string."
      ],
      "id": "5f8e03e8-7f7f-416f-b17c-dc1ee0f6151b"
    },
    {
      "cell_type": "code",
      "execution_count": null,
      "metadata": {},
      "outputs": [
        {
          "output_type": "stream",
          "name": "stdout",
          "text": [
            "[1] TRUE"
          ]
        }
      ],
      "source": [
        "aNumber<-4.56\n",
        "aString<-as.character(aNumber)\n",
        "is.character(aString)"
      ],
      "id": "50c03445-18ec-4272-b216-cbb9a915618a"
    }
  ],
  "nbformat": 4,
  "nbformat_minor": 5,
  "metadata": {
    "kernelspec": {
      "name": "ir",
      "display_name": "R",
      "language": "R"
    }
  }
}