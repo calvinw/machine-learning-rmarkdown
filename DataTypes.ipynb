{
 "cells": [
  {
   "cell_type": "markdown",
   "metadata": {},
   "source": [
    "Variables and expressions in R have data types. The following charts\n",
    "shows the main data types:\n",
    "\n",
    "| Data Type           | R version | Examples     |\n",
    "|---------------------|-----------|--------------|\n",
    "| decimal (number)    | numeric   | 2.32,-0.45   |\n",
    "| string (text)       | character | “hello”, “k” |\n",
    "| integer             | integer   | 12L          |\n",
    "| boolean(true/false) | logical   | TRUE,FALSE   |\n",
    "\n",
    "You can find out what data type a variable holds by using the `class`\n",
    "function. `class` is a function that gives info on the data type of an\n",
    "object.\n",
    "\n",
    "The following variable has data type ‘numeric’. Examples are 3.2, -2.34,\n",
    "0.0"
   ]
  },
  {
   "cell_type": "code",
   "execution_count": null,
   "metadata": {},
   "outputs": [],
   "source": [
    "x<-3.2\n",
    "class(x)"
   ]
  },
  {
   "cell_type": "markdown",
   "metadata": {},
   "source": [
    "The data type of a text or string is ‘character’.\n",
    "\n",
    "Examples are “Bob”, “We are the champions”, “Fee Fi Fo”"
   ]
  },
  {
   "cell_type": "code",
   "execution_count": null,
   "metadata": {},
   "outputs": [],
   "source": [
    "y<-\"hi there\"\n",
    "class(y)\n",
    "z<-\"XXXYYYZZZ\"\n",
    "class(z)"
   ]
  },
  {
   "cell_type": "markdown",
   "metadata": {},
   "source": [
    "The data type of something that holds ‘TRUE’ or ‘FALSE’ is ‘logical’.\n",
    "\n",
    "This is Rs name for booleans, things that can just be TRUE or FALSE."
   ]
  },
  {
   "cell_type": "code",
   "execution_count": null,
   "metadata": {},
   "outputs": [],
   "source": [
    "u<-TRUE\n",
    "class(u)\n",
    "v<-FALSE\n",
    "class(v)"
   ]
  },
  {
   "cell_type": "markdown",
   "metadata": {},
   "source": [
    "There is also a type for integers (…, -3,-2,-1,0,1,2,3,…), it is not\n",
    "used as frequently as “numeric”.\n",
    "\n",
    "To create an integer type, you have to use an L after the integer:"
   ]
  },
  {
   "cell_type": "code",
   "execution_count": null,
   "metadata": {},
   "outputs": [],
   "source": [
    "a<-3L\n",
    "class(a)"
   ]
  },
  {
   "cell_type": "markdown",
   "metadata": {},
   "source": [
    "If you do not use an L, then R will make it a ‘numeric’ type:"
   ]
  },
  {
   "cell_type": "code",
   "execution_count": null,
   "metadata": {},
   "outputs": [],
   "source": [
    "b<-3\n",
    "class(b)"
   ]
  },
  {
   "cell_type": "markdown",
   "metadata": {},
   "source": [
    "Checking Types\n",
    "--------------\n",
    "\n",
    "There are functions for checking the type of a variable or expression,\n",
    "which are sometimes more convenient than using the `class` function.\n",
    "Each of these answers `TRUE` or `FALSE` depending on whether the value\n",
    "is that type or not:\n",
    "\n",
    "| Checking types      | function     | Example               |\n",
    "|---------------------|--------------|-----------------------|\n",
    "| decimal number      | is.numeric   | is.numeric(2.32)      |\n",
    "| string              | is.character | is.character(“hello”) |\n",
    "| integer             | is.integer   | is.integer(2L)        |\n",
    "| boolean(true/false) | is.logical   | is.logical(TRUE)      |\n",
    "\n",
    "It turns out that an integer is also a numeric type"
   ]
  },
  {
   "cell_type": "code",
   "execution_count": null,
   "metadata": {},
   "outputs": [],
   "source": [
    "b<-3L\n",
    "is.integer(b)\n",
    "is.numeric(b)"
   ]
  },
  {
   "cell_type": "markdown",
   "metadata": {},
   "source": [
    "But ‘numeric’ variables are not necessarily ‘integer’ types. 3.4 is not\n",
    "an integer, and `is.integer` returns `FALSE`"
   ]
  },
  {
   "cell_type": "code",
   "execution_count": null,
   "metadata": {},
   "outputs": [],
   "source": [
    "c<-3.4\n",
    "is.numeric(c)\n",
    "is.integer(c)"
   ]
  },
  {
   "cell_type": "markdown",
   "metadata": {},
   "source": [
    "Converting Types\n",
    "----------------\n",
    "\n",
    "You can change a variables type if you need to using these functions:\n",
    "\n",
    "| Changing types      | function     | Example           |\n",
    "|---------------------|--------------|-------------------|\n",
    "| decimal number      | as.numeric   | as.numeric(2L)    |\n",
    "| string              | as.character | as.character(123) |\n",
    "| integer             | as.integer   | as.integer(2.0)   |\n",
    "| boolean(true/false) | as.logical   | as.logical(1)     |\n",
    "\n",
    "One use for this is to convert a string like “1.23” to a number 1.23.\n",
    "This happens frequently since when we read in data from files, even\n",
    "though the file may contain numbers, they will often be strings to begin\n",
    "with.\n",
    "\n",
    "With quotes around it, a number will be seen as a string. Here is an\n",
    "example:"
   ]
  },
  {
   "cell_type": "code",
   "execution_count": null,
   "metadata": {},
   "outputs": [],
   "source": [
    "aString<-\"1.23\"\n",
    "is.character(aString)"
   ]
  },
  {
   "cell_type": "markdown",
   "metadata": {},
   "source": [
    "So if we want to change the string “1.23” to a number, we must use\n",
    "`as.numeric` to convert the string to a number:"
   ]
  },
  {
   "cell_type": "code",
   "execution_count": null,
   "metadata": {},
   "outputs": [],
   "source": [
    "aNumber<-as.numeric(aString)\n",
    "is.numeric(aNumber)"
   ]
  },
  {
   "cell_type": "markdown",
   "metadata": {},
   "source": [
    "The other direction from number to a string happens sometimes as well.\n",
    "\n",
    "Below we create a number, then convert it to a string."
   ]
  },
  {
   "cell_type": "code",
   "execution_count": null,
   "metadata": {},
   "outputs": [],
   "source": [
    "aNumber<-4.56\n",
    "aString<-as.character(aNumber)\n",
    "is.character(aString)"
   ]
  },
  {
   "cell_type": "markdown",
   "metadata": {},
   "source": [
    "Combining Types\n",
    "---------------\n",
    "\n",
    "One reason for having types is so that R can check if you are doing\n",
    "things that make sense.  \n",
    "For example adding two numeric types makes sense"
   ]
  },
  {
   "cell_type": "code",
   "execution_count": null,
   "metadata": {},
   "outputs": [],
   "source": [
    "d<-3.4\n",
    "e<-4.23\n",
    "d+e"
   ]
  },
  {
   "cell_type": "markdown",
   "metadata": {},
   "source": [
    "But adding two strings (with type ‘character’) does not:"
   ]
  },
  {
   "cell_type": "code",
   "execution_count": null,
   "metadata": {},
   "outputs": [],
   "source": [
    "f<-\"Goodbye\"\n",
    "g<-\"Cruel World\"\n",
    "f+g"
   ]
  },
  {
   "cell_type": "markdown",
   "metadata": {},
   "source": [
    "    ## Error in f + g: non-numeric argument to binary operator\n",
    "\n",
    "The error is telling us we cannot use `+` on two strings\n",
    "\n",
    "Lets try adding an ‘integer’ and a ‘numeric’"
   ]
  },
  {
   "cell_type": "code",
   "execution_count": null,
   "metadata": {},
   "outputs": [],
   "source": [
    "h<-3L\n",
    "i<-2.3\n",
    "h+i"
   ]
  },
  {
   "cell_type": "markdown",
   "metadata": {},
   "source": [
    "That seems to work fine.\n",
    "\n",
    "Finally what happens if we add a ‘numeric’ and a ‘character’ type:"
   ]
  },
  {
   "cell_type": "code",
   "execution_count": null,
   "metadata": {},
   "outputs": [],
   "source": [
    "k<-3.2\n",
    "l<-\"hello\"\n",
    "k+l"
   ]
  },
  {
   "cell_type": "markdown",
   "metadata": {},
   "source": [
    "    ## Error in k + l: non-numeric argument to binary operator"
   ]
  }
 ],
 "nbformat": 4,
 "nbformat_minor": 5,
 "metadata": {
  "kernelspec": {
   "name": "ir",
   "display_name": "R",
   "language": "R"
  }
 }
}
