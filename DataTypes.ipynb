{
  "cells": [
    {
      "cell_type": "markdown",
      "metadata": {},
      "source": [
        "# Data Types\n",
        "\n",
        "Variables and expressions in R have data types. The following charts\n",
        "shows the main data types:\n",
        "\n",
        "| Data Type           | R version | Examples     |\n",
        "|---------------------|-----------|--------------|\n",
        "| decimal (number)    | numeric   | 2.32,-0.45   |\n",
        "| string (text)       | character | “hello”, “k” |\n",
        "| integer             | integer   | 12L          |\n",
        "| boolean(true/false) | logical   | TRUE,FALSE   |\n",
        "\n",
        "You can find out what data type a variable holds by using the `class`\n",
        "function.\n",
        "\n",
        "`class` is a function that gives info on the data type of an object.\n",
        "\n",
        "### Numeric\n",
        "\n",
        "The data type of numbers like 3.2, -2.34, 0.0 is numeric\n",
        "\n",
        "The following variable has data type numeric:"
      ],
      "id": "f944f514-80e3-4d76-a0a0-b4481b788352"
    },
    {
      "cell_type": "code",
      "execution_count": null,
      "metadata": {},
      "outputs": [
        {
          "output_type": "stream",
          "name": "stdout",
          "text": [
            "[1] \"numeric\""
          ]
        }
      ],
      "source": [
        "x<-3.2\n",
        "class(x)"
      ],
      "id": "fe140c1b-69b9-4cb2-8d1d-107f13c46b55"
    },
    {
      "cell_type": "markdown",
      "metadata": {},
      "source": [
        "### Character\n",
        "\n",
        "The data type of a text or string is character.\n",
        "\n",
        "Examples are “Bob”, “We are the champions”, “Fee Fi Fo”"
      ],
      "id": "eeba4641-3479-4f92-837e-ab58bdf318dc"
    },
    {
      "cell_type": "code",
      "execution_count": null,
      "metadata": {},
      "outputs": [
        {
          "output_type": "stream",
          "name": "stdout",
          "text": [
            "[1] \"character\""
          ]
        },
        {
          "output_type": "stream",
          "name": "stdout",
          "text": [
            "[1] \"character\""
          ]
        }
      ],
      "source": [
        "y<-\"hi there\"\n",
        "class(y)"
      ],
      "id": "34b5dc8f-3167-4ba5-b564-baa4f5f216c3"
    },
    {
      "cell_type": "markdown",
      "metadata": {},
      "source": [
        "### Logical\n",
        "\n",
        "The data type of something that holds ‘TRUE’ or ‘FALSE’ is ‘logical’.\n",
        "\n",
        "This is Rs name for booleans, things that can just be TRUE or FALSE."
      ],
      "id": "878d1ec9-e4f7-42e0-bcb9-bf693719be77"
    },
    {
      "cell_type": "code",
      "execution_count": null,
      "metadata": {},
      "outputs": [
        {
          "output_type": "stream",
          "name": "stdout",
          "text": [
            "[1] \"logical\""
          ]
        },
        {
          "output_type": "stream",
          "name": "stdout",
          "text": [
            "[1] \"logical\""
          ]
        }
      ],
      "source": [
        "u<-TRUE\n",
        "class(u)"
      ],
      "id": "e3cfd610-a2d0-403c-a9b5-112742ecde94"
    },
    {
      "cell_type": "markdown",
      "metadata": {},
      "source": [
        "### Integer\n",
        "\n",
        "There is also a type for integers (…, -3,-2,-1,0,1,2,3,…), it is not\n",
        "used as frequently as “numeric”.\n",
        "\n",
        "To create an integer type, you have to use an L after the integer:"
      ],
      "id": "10ace591-5de6-4d4c-8b9f-0375ce4cc11d"
    },
    {
      "cell_type": "code",
      "execution_count": null,
      "metadata": {},
      "outputs": [
        {
          "output_type": "stream",
          "name": "stdout",
          "text": [
            "[1] \"integer\""
          ]
        }
      ],
      "source": [
        "a<-3L\n",
        "class(a)"
      ],
      "id": "077536ce-7b82-4b3a-8263-2e5ac325de41"
    },
    {
      "cell_type": "markdown",
      "metadata": {},
      "source": [
        "If you do not use an L, then R will make it a ‘numeric’ type:"
      ],
      "id": "9860dfa1-1b93-4aa0-8d80-014dabeab9c0"
    },
    {
      "cell_type": "code",
      "execution_count": null,
      "metadata": {},
      "outputs": [
        {
          "output_type": "stream",
          "name": "stdout",
          "text": [
            "[1] \"numeric\""
          ]
        }
      ],
      "source": [
        "b<-3\n",
        "class(b)"
      ],
      "id": "0c22b305-1a8f-4e80-ba3b-bc4ce4809711"
    },
    {
      "cell_type": "markdown",
      "metadata": {},
      "source": [
        "## Using `str` Function For Info\n",
        "\n",
        "There is an even better function to give you info on an object or\n",
        "variable in R. It is called the `str` function (which stands for\n",
        "structure) and it gives the info a little more succintly than `class`."
      ],
      "id": "a192e62f-efa3-46c3-a56a-ebaeef65e107"
    },
    {
      "cell_type": "code",
      "execution_count": null,
      "metadata": {},
      "outputs": [
        {
          "output_type": "stream",
          "name": "stdout",
          "text": [
            " num 3.2"
          ]
        }
      ],
      "source": [
        "x<-3.2\n",
        "str(x)"
      ],
      "id": "6fa38d58-535a-4ba2-a2f3-6c47beb89834"
    },
    {
      "cell_type": "code",
      "execution_count": null,
      "metadata": {},
      "outputs": [
        {
          "output_type": "stream",
          "name": "stdout",
          "text": [
            " chr \"hi there\""
          ]
        }
      ],
      "source": [
        "y<-\"hi there\"\n",
        "str(y)"
      ],
      "id": "a7f2cbc4-6fc4-4f9f-9869-df4dc287712b"
    },
    {
      "cell_type": "code",
      "execution_count": null,
      "metadata": {},
      "outputs": [
        {
          "output_type": "stream",
          "name": "stdout",
          "text": [
            " chr \"XXXYYYZZZ\""
          ]
        }
      ],
      "source": [
        "z<-\"XXXYYYZZZ\"\n",
        "str(z)"
      ],
      "id": "97148a0a-d97b-4065-b7df-a167ab08d975"
    },
    {
      "cell_type": "code",
      "execution_count": null,
      "metadata": {},
      "outputs": [
        {
          "output_type": "stream",
          "name": "stdout",
          "text": [
            " int 3"
          ]
        }
      ],
      "source": [
        "a<-3L\n",
        "str(a)"
      ],
      "id": "e7ecc8fb-c206-464d-a8b2-e5dbf87dbe09"
    },
    {
      "cell_type": "code",
      "execution_count": null,
      "metadata": {},
      "outputs": [
        {
          "output_type": "stream",
          "name": "stdout",
          "text": [
            " logi TRUE"
          ]
        }
      ],
      "source": [
        "u<-TRUE\n",
        "str(u)"
      ],
      "id": "6b058c67-7504-4113-b28e-597c94ce53c1"
    },
    {
      "cell_type": "code",
      "execution_count": null,
      "metadata": {},
      "outputs": [
        {
          "output_type": "stream",
          "name": "stdout",
          "text": [
            " logi FALSE"
          ]
        }
      ],
      "source": [
        "v<-FALSE\n",
        "str(v)"
      ],
      "id": "6c3377cd-13a3-4fd2-8c91-cfab952fff57"
    },
    {
      "cell_type": "markdown",
      "metadata": {},
      "source": [
        "One thing that is nice about `str` is that it outputs the value of the\n",
        "variable as well. We will see some other nice things about `str` for\n",
        "more complicated data types like vectors and lists later.\n",
        "\n",
        "## Checking Types\n",
        "\n",
        "There are functions for checking the type of a variable or expression,\n",
        "which are sometimes more convenient than using the `class` for `str`\n",
        "function. Each of these answers `TRUE` or `FALSE` depending on whether\n",
        "the value is that type or not:\n",
        "\n",
        "| Checking types      | function     | Example               |\n",
        "|---------------------|--------------|-----------------------|\n",
        "| decimal number      | is.numeric   | is.numeric(2.32)      |\n",
        "| string              | is.character | is.character(“hello”) |\n",
        "| integer             | is.integer   | is.integer(2L)        |\n",
        "| boolean(true/false) | is.logical   | is.logical(TRUE)      |\n",
        "\n",
        "It turns out that an integer is also a numeric type"
      ],
      "id": "f9a61aa2-524a-430c-af79-0795046e6728"
    },
    {
      "cell_type": "code",
      "execution_count": null,
      "metadata": {},
      "outputs": [
        {
          "output_type": "stream",
          "name": "stdout",
          "text": [
            "[1] TRUE"
          ]
        },
        {
          "output_type": "stream",
          "name": "stdout",
          "text": [
            "[1] TRUE"
          ]
        }
      ],
      "source": [
        "b<-3L\n",
        "is.integer(b)"
      ],
      "id": "1c900fd2-fee2-45dd-bc8e-dcae61db5f8f"
    },
    {
      "cell_type": "markdown",
      "metadata": {},
      "source": [
        "But ‘numeric’ variables are not necessarily ‘integer’ types. 3.4 is not\n",
        "an integer, and `is.integer` returns `FALSE`"
      ],
      "id": "568a5c85-0061-4ec1-bda7-8282e1b96d56"
    },
    {
      "cell_type": "code",
      "execution_count": null,
      "metadata": {},
      "outputs": [
        {
          "output_type": "stream",
          "name": "stdout",
          "text": [
            "[1] TRUE"
          ]
        },
        {
          "output_type": "stream",
          "name": "stdout",
          "text": [
            "[1] FALSE"
          ]
        }
      ],
      "source": [
        "c<-3.4\n",
        "is.numeric(c)"
      ],
      "id": "0db02677-9188-490c-a9c5-62b68e5ac881"
    },
    {
      "cell_type": "markdown",
      "metadata": {},
      "source": [
        "## Converting Types\n",
        "\n",
        "You can change a variables type if you need to using these functions:\n",
        "\n",
        "| Changing types      | function     | Example           |\n",
        "|---------------------|--------------|-------------------|\n",
        "| decimal number      | as.numeric   | as.numeric(2L)    |\n",
        "| string              | as.character | as.character(123) |\n",
        "| integer             | as.integer   | as.integer(2.0)   |\n",
        "| boolean(true/false) | as.logical   | as.logical(1)     |\n",
        "\n",
        "### Character to Numeric\n",
        "\n",
        "One use for this is to convert a string like “1.23” to a number 1.23.\n",
        "This happens frequently since when we read in data from files, even\n",
        "though the file may contain numbers, they will often be strings to begin\n",
        "with.\n",
        "\n",
        "With quotes around it, a number will be seen as a string. Here is an\n",
        "example:"
      ],
      "id": "d56d0590-dff7-45cf-b0dc-340672f14705"
    },
    {
      "cell_type": "code",
      "execution_count": null,
      "metadata": {},
      "outputs": [
        {
          "output_type": "stream",
          "name": "stdout",
          "text": [
            "[1] TRUE"
          ]
        },
        {
          "output_type": "stream",
          "name": "stdout",
          "text": [
            "[1] FALSE"
          ]
        }
      ],
      "source": [
        "myData<-\"1.23\"\n",
        "is.character(myData)"
      ],
      "id": "92c3dae3-f78c-497d-a47e-c66ee74c6ec6"
    },
    {
      "cell_type": "markdown",
      "metadata": {},
      "source": [
        "So if we want to change the string “1.23” to a number, we must use\n",
        "`as.numeric` to convert the string to a number:"
      ],
      "id": "f41c76f3-be4f-403c-a529-c9c0df112eb2"
    },
    {
      "cell_type": "code",
      "execution_count": null,
      "metadata": {},
      "outputs": [
        {
          "output_type": "stream",
          "name": "stdout",
          "text": [
            "[1] TRUE"
          ]
        },
        {
          "output_type": "stream",
          "name": "stdout",
          "text": [
            "[1] 1.23"
          ]
        }
      ],
      "source": [
        "myOtherData<-as.numeric(myData)\n",
        "is.numeric(myOtherData)"
      ],
      "id": "6e5ec76e-c400-4b66-9fee-893bfcbe60a6"
    },
    {
      "cell_type": "markdown",
      "metadata": {},
      "source": [
        "### Numeric to Character\n",
        "\n",
        "The other direction from number to a string happens sometimes as well.\n",
        "\n",
        "Below we create a number, then convert it to a string."
      ],
      "id": "be6f45ab-e0e2-4c08-80ab-580b5c7b079a"
    },
    {
      "cell_type": "code",
      "execution_count": null,
      "metadata": {},
      "outputs": [
        {
          "output_type": "stream",
          "name": "stdout",
          "text": [
            "[1] TRUE"
          ]
        }
      ],
      "source": [
        "aNumber<-4.56\n",
        "aString<-as.character(aNumber)\n",
        "is.character(aString)"
      ],
      "id": "b56e6819-c712-4bd2-a922-1bae5b4b3747"
    }
  ],
  "nbformat": 4,
  "nbformat_minor": 5,
  "metadata": {
    "kernelspec": {
      "name": "ir",
      "display_name": "R",
      "language": "R"
    }
  }
}