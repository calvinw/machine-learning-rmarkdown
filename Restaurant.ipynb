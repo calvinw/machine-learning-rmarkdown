{
 "cells": [
  {
   "cell_type": "code",
   "execution_count": null,
   "metadata": {},
   "outputs": [],
   "source": [
    "options(\"scipen\"=100, \"digits\"=4)\n",
    "if(!require(\"readr\")) install.packages(\"readr\")\n",
    "if(!require(\"rpart\")) install.packages(\"rpart\")\n",
    "if(!require(\"rpart.plot\")) install.packages(\"rpart.plot\")\n",
    "if (!require(\"Metrics\")) install.packages(\"Metrics\")\n",
    "library(\"readr\")\n",
    "library(\"rpart\")\n",
    "library(\"rpart.plot\")\n",
    "library(\"Metrics\")"
   ]
  },
  {
   "cell_type": "markdown",
   "metadata": {},
   "source": [
    "Here is some data that involves trying to predict when someone will be\n",
    "willing to wait for a table in a restaurant vs when they will leave. The\n",
    "restaurant would like to understand both when this will happen and also\n",
    "under what conditions. Here is the data that we hae so far:\n",
    "\n",
    "| Alternate | Bar | Fri/Sat | Hungry | Patrons | Price     | Raining | Reservation | Type    | WaitEstimate | WillWait |\n",
    "|-----------|-----|---------|--------|---------|-----------|---------|-------------|---------|--------------|----------|\n",
    "| Yes       | No  | No      | Yes    | Some    | Expensive | No      | Yes         | French  | 0-10         | Yes      |\n",
    "| Yes       | No  | No      | Yes    | Full    | Cheap     | No      | No          | Thai    | 30-60        | No       |\n",
    "| No        | Yes | No      | No     | Some    | Cheap     | No      | No          | Burger  | 0-10         | Yes      |\n",
    "| Yes       | No  | Yes     | Yes    | Full    | Cheap     | No      | No          | Thai    | 10-30        | Yes      |\n",
    "| Yes       | No  | Yes     | No     | Full    | Expensive | No      | Yes         | French  | \\>60         | No       |\n",
    "| No        | Yes | No      | Yes    | Some    | Moderate  | Yes     | Yes         | Italian | 0-10         | Yes      |\n",
    "| No        | Yes | No      | No     | None    | Cheap     | Yes     | No          | Burger  | 0-10         | No       |\n",
    "| No        | No  | No      | Yes    | Some    | Moderate  | Yes     | Yes         | Thai    | 0-10         | Yes      |\n",
    "| No        | Yes | Yes     | No     | Full    | Cheap     | Yes     | No          | Burger  | \\>60         | No       |\n",
    "| Yes       | Yes | Yes     | Yes    | Full    | Expensive | No      | Yes         | Italian | 10-30        | No       |\n",
    "| No        | No  | No      | No     | None    | Cheap     | No      | No          | Thai    | 0-10         | No       |\n",
    "| Yes       | Yes | Yes     | Yes    | Full    | Cheap     | No      | No          | Burger  | 30-60        | Yes      |\n",
    "\n",
    "Note we are trying to predict `WillWait` from the rest of the\n",
    "predictors. There are 10 predictors in this case."
   ]
  },
  {
   "cell_type": "code",
   "execution_count": null,
   "metadata": {},
   "outputs": [],
   "source": [
    "url<-\"https://docs.google.com/spreadsheets/d/e/2PACX-1vQvQ1hQJoj_3BmOV3uLWcDzwIw3GFhkS84NePBS57lnCmXSN86KU8kn4aQUE9rGsxJPMi32S55JBl9w/pub?gid=0&single=true&output=csv\"\n",
    "traindf<-read.csv(url, stringsAsFactor=TRUE)"
   ]
  },
  {
   "cell_type": "markdown",
   "metadata": {},
   "source": [
    "Now let’s print out the training set to make sure we read it correctly:"
   ]
  },
  {
   "cell_type": "code",
   "execution_count": null,
   "metadata": {},
   "outputs": [],
   "source": [
    "print(traindf)"
   ]
  },
  {
   "cell_type": "markdown",
   "metadata": {},
   "source": [
    "Create models for the following individual predictors with maxdepth=1."
   ]
  },
  {
   "cell_type": "code",
   "execution_count": null,
   "metadata": {},
   "outputs": [],
   "source": [
    "PUT CODE HERE to create a model  WillWait~Price (use maxdepth = 1) "
   ]
  },
  {
   "cell_type": "code",
   "execution_count": null,
   "metadata": {},
   "outputs": [],
   "source": [
    "control = rpart.control(minsplit=1, maxdepth=1)\n",
    "model <- rpart(WillWait~Price, data=traindf, method=\"class\", control = control)\n",
    "rpart.plot(model, type=4, extra = 1, digits=-2)"
   ]
  },
  {
   "cell_type": "code",
   "execution_count": null,
   "metadata": {},
   "outputs": [],
   "source": [
    "PUT CODE HERE to create a model  WillWait~Patrons(use maxdepth = 1) "
   ]
  },
  {
   "cell_type": "code",
   "execution_count": null,
   "metadata": {},
   "outputs": [],
   "source": [
    "control = rpart.control(minsplit=1, maxdepth=1)\n",
    "model <- rpart(WillWait~Patrons, data=traindf, method=\"class\", control = control)\n",
    "rpart.plot(model, type=4, extra = 1, digits=-2)"
   ]
  },
  {
   "cell_type": "markdown",
   "metadata": {},
   "source": [
    "Which of the above models is better?\n",
    "\n",
    "Finally here is a model using all the variables"
   ]
  },
  {
   "cell_type": "code",
   "execution_count": null,
   "metadata": {},
   "outputs": [],
   "source": [
    "control = rpart.control(minsplit=1)\n",
    "model <- rpart(WillWait~., data=traindf, method=\"class\", control = control)\n",
    "rpart.plot(model, type=4, extra = 1, digits=-2)"
   ]
  },
  {
   "cell_type": "markdown",
   "metadata": {},
   "source": [
    "Note that not all predictors get used in this example. The model figures\n",
    "out which ones are relevant on its own here.\n",
    "\n",
    "Lets read in the testing data set:"
   ]
  },
  {
   "cell_type": "code",
   "execution_count": null,
   "metadata": {},
   "outputs": [],
   "source": [
    "testurl<-\"https://docs.google.com/spreadsheets/d/e/2PACX-1vQvQ1hQJoj_3BmOV3uLWcDzwIw3GFhkS84NePBS57lnCmXSN86KU8kn4aQUE9rGsxJPMi32S55JBl9w/pub?gid=289547774&single=true&output=csv\"\n",
    "testdf<-read.csv(testurl, stringsAsFactors=TRUE)\n",
    "str(testdf)"
   ]
  },
  {
   "cell_type": "markdown",
   "metadata": {},
   "source": [
    "Do a prediction for the testing data set using the model above:"
   ]
  },
  {
   "cell_type": "code",
   "execution_count": null,
   "metadata": {},
   "outputs": [],
   "source": [
    "pred <- predict(model, newdata = testdf, type = 'class')"
   ]
  },
  {
   "cell_type": "markdown",
   "metadata": {},
   "source": [
    "Now lets compare the actuals and the predictions:"
   ]
  },
  {
   "cell_type": "code",
   "execution_count": null,
   "metadata": {},
   "outputs": [],
   "source": [
    "comparedf <- data.frame(actual=testdf$WillWait, predictions=pred)\n",
    "print(comparedf)"
   ]
  },
  {
   "cell_type": "markdown",
   "metadata": {},
   "source": [
    "Calculate the accuracy:"
   ]
  },
  {
   "cell_type": "code",
   "execution_count": null,
   "metadata": {},
   "outputs": [],
   "source": [
    "accuracy(testdf$WillWait, pred)"
   ]
  }
 ],
 "nbformat": 4,
 "nbformat_minor": 5,
 "metadata": {
  "kernelspec": {
   "name": "ir",
   "display_name": "R",
   "language": "R"
  }
 }
}
