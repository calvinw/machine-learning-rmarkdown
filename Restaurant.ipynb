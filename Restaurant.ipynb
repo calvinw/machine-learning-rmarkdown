{
  "cells": [
    {
      "cell_type": "markdown",
      "metadata": {},
      "source": [
        "# Restaurant"
      ],
      "id": "bd03093d-4561-45a5-93ab-e77d18053979"
    },
    {
      "cell_type": "code",
      "execution_count": null,
      "metadata": {},
      "outputs": [],
      "source": [
        "options(\"scipen\"=100, \"digits\"=4)\n",
        "\n",
        "if(!require(\"rpart\")) install.packages(\"rpart\")\n",
        "if(!require(\"rpart.plot\")) install.packages(\"rpart.plot\")\n",
        "if (!require(\"Metrics\")) install.packages(\"Metrics\")\n",
        "\n",
        "library(\"rpart\")\n",
        "library(\"rpart.plot\")\n",
        "library(\"Metrics\")"
      ],
      "id": "70dd9644-6522-444c-9abe-273701c08af9"
    },
    {
      "cell_type": "markdown",
      "metadata": {},
      "source": [
        "## Load the Training Data\n",
        "\n",
        "Here is some data that involves trying to predict when someone will be\n",
        "willing to wait for a table in a restaurant vs when they will leave. The\n",
        "restaurant would like to understand both when this will happen and also\n",
        "under what conditions. Here is the data that we hae so far:\n",
        "\n",
        "| Alternate | Bar | Fri/Sat | Hungry | Patrons | Price     | Raining | Reservation | Type    | WaitEstimate | WillWait |\n",
        "|--------|----|-------|------|-------|--------|-------|---------|-------|---------|-------|\n",
        "| Yes       | No  | No      | Yes    | Some    | Expensive | No      | Yes         | French  | 0-10         | Yes      |\n",
        "| Yes       | No  | No      | Yes    | Full    | Cheap     | No      | No          | Thai    | 30-60        | No       |\n",
        "| No        | Yes | No      | No     | Some    | Cheap     | No      | No          | Burger  | 0-10         | Yes      |\n",
        "| Yes       | No  | Yes     | Yes    | Full    | Cheap     | No      | No          | Thai    | 10-30        | Yes      |\n",
        "| Yes       | No  | Yes     | No     | Full    | Expensive | No      | Yes         | French  | \\>60         | No       |\n",
        "| No        | Yes | No      | Yes    | Some    | Moderate  | Yes     | Yes         | Italian | 0-10         | Yes      |\n",
        "| No        | Yes | No      | No     | None    | Cheap     | Yes     | No          | Burger  | 0-10         | No       |\n",
        "| No        | No  | No      | Yes    | Some    | Moderate  | Yes     | Yes         | Thai    | 0-10         | Yes      |\n",
        "| No        | Yes | Yes     | No     | Full    | Cheap     | Yes     | No          | Burger  | \\>60         | No       |\n",
        "| Yes       | Yes | Yes     | Yes    | Full    | Expensive | No      | Yes         | Italian | 10-30        | No       |\n",
        "| No        | No  | No      | No     | None    | Cheap     | No      | No          | Thai    | 0-10         | No       |\n",
        "| Yes       | Yes | Yes     | Yes    | Full    | Cheap     | No      | No          | Burger  | 30-60        | Yes      |\n",
        "\n",
        "Note we are trying to predict `WillWait` from the rest of the\n",
        "predictors. There are 10 predictors in this case."
      ],
      "id": "1c790301-617b-43bd-a0cf-0f8f9c407262"
    },
    {
      "cell_type": "code",
      "execution_count": null,
      "metadata": {},
      "outputs": [],
      "source": [
        "url<-\"https://docs.google.com/spreadsheets/d/e/2PACX-1vQvQ1hQJoj_3BmOV3uLWcDzwIw3GFhkS84NePBS57lnCmXSN86KU8kn4aQUE9rGsxJPMi32S55JBl9w/pub?gid=0&single=true&output=csv\"\n",
        "train<-read.csv(url, stringsAsFactor=F)"
      ],
      "id": "298e88b0-2a6e-4b0e-917a-9e65c2de3846"
    },
    {
      "cell_type": "markdown",
      "metadata": {},
      "source": [
        "Now let’s print out the training set to make sure we read it correctly:"
      ],
      "id": "bd5a0e1c-d00d-4301-962c-30e48a0b92cc"
    },
    {
      "cell_type": "code",
      "execution_count": null,
      "metadata": {},
      "outputs": [
        {
          "output_type": "stream",
          "name": "stdout",
          "text": [
            "   Alternate Bar Fri.Sat Hungry Patrons     Price Raining Reservation    Type\n",
            "1        Yes  No      No    Yes    Some Expensive      No         Yes  French\n",
            "2        Yes  No      No    Yes    Full     Cheap      No          No    Thai\n",
            "3         No Yes      No     No    Some     Cheap      No          No  Burger\n",
            "4        Yes  No     Yes    Yes    Full     Cheap      No          No    Thai\n",
            "5        Yes  No     Yes     No    Full Expensive      No         Yes  French\n",
            "6         No Yes      No    Yes    Some  Moderate     Yes         Yes Italian\n",
            "7         No Yes      No     No    None     Cheap     Yes          No  Burger\n",
            "8         No  No      No    Yes    Some  Moderate     Yes         Yes    Thai\n",
            "9         No Yes     Yes     No    Full     Cheap     Yes          No  Burger\n",
            "10       Yes Yes     Yes    Yes    Full Expensive      No         Yes Italian\n",
            "11        No  No      No     No    None     Cheap      No          No    Thai\n",
            "12       Yes Yes     Yes    Yes    Full     Cheap      No          No  Burger\n",
            "   WaitEstimate WillWait\n",
            "1          0-10      Yes\n",
            "2         30-60       No\n",
            "3          0-10      Yes\n",
            "4         10-30      Yes\n",
            "5           >60       No\n",
            "6          0-10      Yes\n",
            "7          0-10       No\n",
            "8          0-10      Yes\n",
            "9           >60       No\n",
            "10        10-30       No\n",
            "11         0-10       No\n",
            "12        30-60      Yes"
          ]
        }
      ],
      "source": [
        "print(train)"
      ],
      "id": "4c5364cc-79fa-4e1e-9678-27d16c7e921d"
    },
    {
      "cell_type": "markdown",
      "metadata": {},
      "source": [
        "## Load the Testing Data\n",
        "\n",
        "Lets read in the testing data set:"
      ],
      "id": "bedfd2d4-e42e-4a9d-9961-cffc722a4778"
    },
    {
      "cell_type": "code",
      "execution_count": null,
      "metadata": {},
      "outputs": [
        {
          "output_type": "stream",
          "name": "stdout",
          "text": [
            "'data.frame':   7 obs. of  11 variables:\n",
            " $ Alternate   : chr  \"Yes\" \"Yes\" \"Yes\" \"Yes\" ...\n",
            " $ Bar         : chr  \"Yes\" \"No\" \"Yes\" \"No\" ...\n",
            " $ Fri.Sat     : chr  \"No\" \"No\" \"Yes\" \"Yes\" ...\n",
            " $ Hungry      : chr  \"Yes\" \"No\" \"No\" \"Yes\" ...\n",
            " $ Patrons     : chr  \"Full\" \"Full\" \"Some\" \"None\" ...\n",
            " $ Price       : chr  \"Expensive\" \"Moderate\" \"Expensive\" \"Cheap\" ...\n",
            " $ Raining     : chr  \"Yes\" \"Yes\" \"No\" \"No\" ...\n",
            " $ Reservation : chr  \"Yes\" \"No\" \"No\" \"No\" ...\n",
            " $ Type        : chr  \"Thai\" \"Italian\" \"French\" \"Burger\" ...\n",
            " $ WaitEstimate: chr  \"0-10\" \"0-10\" \"30-60\" \"0-10\" ...\n",
            " $ WillWait    : chr  \"No\" \"No\" \"Yes\" \"No\" ..."
          ]
        }
      ],
      "source": [
        "testurl<-\"https://docs.google.com/spreadsheets/d/e/2PACX-1vQvQ1hQJoj_3BmOV3uLWcDzwIw3GFhkS84NePBS57lnCmXSN86KU8kn4aQUE9rGsxJPMi32S55JBl9w/pub?gid=289547774&single=true&output=csv\"\n",
        "test<-read.csv(testurl, stringsAsFactors=F)\n",
        "str(test)"
      ],
      "id": "1582f598-ebc9-4a98-b8bf-5a392fe89b23"
    },
    {
      "cell_type": "markdown",
      "metadata": {},
      "source": [
        "Now let’s print out the testing set to make sure we read it correctly:"
      ],
      "id": "d70f0e82-ebca-480d-bbac-f0ce82bf6364"
    },
    {
      "cell_type": "code",
      "execution_count": null,
      "metadata": {},
      "outputs": [
        {
          "output_type": "stream",
          "name": "stdout",
          "text": [
            "  Alternate Bar Fri.Sat Hungry Patrons     Price Raining Reservation    Type\n",
            "1       Yes Yes      No    Yes    Full Expensive     Yes         Yes    Thai\n",
            "2       Yes  No      No     No    Full  Moderate     Yes          No Italian\n",
            "3       Yes Yes     Yes     No    Some Expensive      No          No  French\n",
            "4       Yes  No     Yes    Yes    None     Cheap      No          No  Burger\n",
            "5       Yes Yes      No     No    Some     Cheap      No         Yes    Thai\n",
            "6        No  No     Yes    Yes    Full Expensive      No         Yes Italian\n",
            "7       Yes  No      No     No    Full     Cheap     Yes          No  Burger\n",
            "  WaitEstimate WillWait\n",
            "1         0-10       No\n",
            "2         0-10       No\n",
            "3        30-60      Yes\n",
            "4         0-10       No\n",
            "5        10-30      Yes\n",
            "6          >60       No\n",
            "7         0-10       No"
          ]
        }
      ],
      "source": [
        "print(test)"
      ],
      "id": "7814b760-941a-4a1c-bdc0-c2a81faf9df4"
    },
    {
      "cell_type": "markdown",
      "metadata": {},
      "source": [
        "### Model 1 - predict `WillWait` from `Price`\n",
        "\n",
        "#### Train with Training Data"
      ],
      "id": "d5445043-16e9-4331-b2be-ab3a76dc8b92"
    },
    {
      "cell_type": "code",
      "execution_count": null,
      "metadata": {},
      "outputs": [
        {
          "output_type": "display_data",
          "metadata": {},
          "data": {
            "image/png": "[encoded data removed]"
          }
        }
      ],
      "source": [
        "control = rpart.control(minsplit=1, maxdepth=1)\n",
        "model <- rpart(WillWait~Price, \n",
        "               data=train, \n",
        "               method=\"class\", \n",
        "               control = control)\n",
        "rpart.plot(model, type=4, extra = 1, digits=-2)"
      ],
      "id": "96bb6609-76f2-4e26-b9a5-d9438ac2c171"
    },
    {
      "cell_type": "markdown",
      "metadata": {},
      "source": [
        "#### Test With Testing Data\n",
        "\n",
        "Here are the predictions for our test data:"
      ],
      "id": "3193855e-9c8a-49c3-8563-92a5b54d519f"
    },
    {
      "cell_type": "code",
      "execution_count": null,
      "metadata": {},
      "outputs": [
        {
          "output_type": "stream",
          "name": "stdout",
          "text": [
            "  actual predictions\n",
            "1     No          No\n",
            "2     No         Yes\n",
            "3    Yes          No\n",
            "4     No          No\n",
            "5    Yes          No\n",
            "6     No          No\n",
            "7     No          No"
          ]
        }
      ],
      "source": [
        "pred <- predict(model, newdata = test, type = 'class')\n",
        "compare <- data.frame(actual=test$WillWait, predictions=pred)\n",
        "print(compare)"
      ],
      "id": "e4d9bbc6-bd8c-4e69-8660-eff71abf09c6"
    },
    {
      "cell_type": "markdown",
      "metadata": {},
      "source": [
        "Here is the confusion matrix:"
      ],
      "id": "a176b0b3-2c3c-481d-a961-514543f1aed1"
    },
    {
      "cell_type": "code",
      "execution_count": null,
      "metadata": {},
      "outputs": [
        {
          "output_type": "stream",
          "name": "stdout",
          "text": [
            "     pred\n",
            "      No Yes\n",
            "  No   4   1\n",
            "  Yes  2   0"
          ]
        }
      ],
      "source": [
        "table(test$WillWait, pred)"
      ],
      "id": "d1d465da-caff-4fb2-93de-0d82ec68e024"
    },
    {
      "cell_type": "markdown",
      "metadata": {},
      "source": [
        "Here is the accuracy:"
      ],
      "id": "ea3f1279-714f-4e76-8c29-40ab7edd41db"
    },
    {
      "cell_type": "code",
      "execution_count": null,
      "metadata": {},
      "outputs": [
        {
          "output_type": "stream",
          "name": "stdout",
          "text": [
            "[1] 0.5714"
          ]
        }
      ],
      "source": [
        "accuracy(test$WillWait, pred)"
      ],
      "id": "281eeb41-2178-44fc-a967-b0bc3a143b22"
    },
    {
      "cell_type": "markdown",
      "metadata": {},
      "source": [
        "### Model 2 - predict `WillWait` from `Patrons`\n",
        "\n",
        "#### Train with Training Data"
      ],
      "id": "e0db77eb-bae7-4bf0-abde-bbda61631eba"
    },
    {
      "cell_type": "code",
      "execution_count": null,
      "metadata": {},
      "outputs": [
        {
          "output_type": "display_data",
          "metadata": {},
          "data": {
            "image/png": "[encoded data removed]"
          }
        }
      ],
      "source": [
        "control = rpart.control(minsplit=1, maxdepth=1)\n",
        "model <- rpart(WillWait~Patrons, \n",
        "               data=train, \n",
        "               method=\"class\", \n",
        "               control = control)\n",
        "rpart.plot(model, type=4, extra = 1, digits=-2)"
      ],
      "id": "4f4733fd-2e8e-43db-b45f-6237f9d3281e"
    },
    {
      "cell_type": "markdown",
      "metadata": {},
      "source": [
        "#### Test With Testing Data\n",
        "\n",
        "Here are the predictions for our test data:"
      ],
      "id": "510e5d33-d3d1-4243-b919-7d435c85bad7"
    },
    {
      "cell_type": "code",
      "execution_count": null,
      "metadata": {},
      "outputs": [
        {
          "output_type": "stream",
          "name": "stdout",
          "text": [
            "  actual predictions\n",
            "1     No          No\n",
            "2     No          No\n",
            "3    Yes         Yes\n",
            "4     No          No\n",
            "5    Yes         Yes\n",
            "6     No          No\n",
            "7     No          No"
          ]
        }
      ],
      "source": [
        "pred <- predict(model, newdata = test, type = 'class')\n",
        "compare <- data.frame(actual=test$WillWait, predictions=pred)\n",
        "print(compare)"
      ],
      "id": "515295bc-a924-4099-a9ca-accf74d650ec"
    },
    {
      "cell_type": "markdown",
      "metadata": {},
      "source": [
        "Here is the confusion matrix:"
      ],
      "id": "60d36eb7-fd7d-4e5b-8647-e1ff7d1ce7c6"
    },
    {
      "cell_type": "code",
      "execution_count": null,
      "metadata": {},
      "outputs": [
        {
          "output_type": "stream",
          "name": "stdout",
          "text": [
            "     pred\n",
            "      No Yes\n",
            "  No   5   0\n",
            "  Yes  0   2"
          ]
        }
      ],
      "source": [
        "table(test$WillWait, pred)"
      ],
      "id": "8e3db285-2695-400f-bd39-30f0f0a0bfad"
    },
    {
      "cell_type": "markdown",
      "metadata": {},
      "source": [
        "Here is the accuracy:"
      ],
      "id": "0408f1bf-f83e-4bf7-a373-39acbefba828"
    },
    {
      "cell_type": "code",
      "execution_count": null,
      "metadata": {},
      "outputs": [
        {
          "output_type": "stream",
          "name": "stdout",
          "text": [
            "[1] 1"
          ]
        }
      ],
      "source": [
        "accuracy(test$WillWait, pred)"
      ],
      "id": "1b362d16-3013-4fb3-aea5-767d5615ce5c"
    },
    {
      "cell_type": "markdown",
      "metadata": {},
      "source": [
        "### Model 3 - all predictors\n",
        "\n",
        "#### Train with Training Data\n",
        "\n",
        "Finally here is a model using all the variables"
      ],
      "id": "335ab8d3-db4f-494d-9c60-da4460a0dfea"
    },
    {
      "cell_type": "code",
      "execution_count": null,
      "metadata": {},
      "outputs": [
        {
          "output_type": "display_data",
          "metadata": {},
          "data": {
            "image/png": "[encoded data removed]"
          }
        }
      ],
      "source": [
        "control = rpart.control(minsplit=1)\n",
        "model <- rpart(WillWait~., data=train, method=\"class\", control = control)\n",
        "rpart.plot(model, type=4, extra = 1, digits=-2)"
      ],
      "id": "19638c56-300f-4dbf-b978-ab07f7a3b49e"
    },
    {
      "cell_type": "markdown",
      "metadata": {},
      "source": [
        "Note that not all predictors get used in this example. The model figures\n",
        "out which ones are relevant on its own here.\n",
        "\n",
        "#### Test With Testing Data\n",
        "\n",
        "Here are the predictions for our test data:"
      ],
      "id": "4495345d-fbcf-409f-a7c2-751cb0ada900"
    },
    {
      "cell_type": "code",
      "execution_count": null,
      "metadata": {},
      "outputs": [
        {
          "output_type": "stream",
          "name": "stdout",
          "text": [
            "  actual predictions\n",
            "1     No          No\n",
            "2     No          No\n",
            "3    Yes         Yes\n",
            "4     No         Yes\n",
            "5    Yes         Yes\n",
            "6     No          No\n",
            "7     No          No"
          ]
        }
      ],
      "source": [
        "pred <- predict(model, newdata = test, type = 'class')\n",
        "compare <- data.frame(actual=test$WillWait, predictions=pred)\n",
        "print(compare)"
      ],
      "id": "ac3aa0c5-c9a7-47b2-a948-ca75fdf72830"
    },
    {
      "cell_type": "markdown",
      "metadata": {},
      "source": [
        "Here is the confusion matrix:"
      ],
      "id": "05b00e01-301e-4793-b243-8a11bdc06396"
    },
    {
      "cell_type": "code",
      "execution_count": null,
      "metadata": {},
      "outputs": [
        {
          "output_type": "stream",
          "name": "stdout",
          "text": [
            "     pred\n",
            "      No Yes\n",
            "  No   4   1\n",
            "  Yes  0   2"
          ]
        }
      ],
      "source": [
        "table(test$WillWait, pred)"
      ],
      "id": "e90cbc0c-48ef-44ed-b81f-73ecaa882ccf"
    },
    {
      "cell_type": "markdown",
      "metadata": {},
      "source": [
        "Here is the accuracy:"
      ],
      "id": "a436aead-ee70-45da-9029-f53d0b00da45"
    },
    {
      "cell_type": "code",
      "execution_count": null,
      "metadata": {},
      "outputs": [
        {
          "output_type": "stream",
          "name": "stdout",
          "text": [
            "[1] 0.8571"
          ]
        }
      ],
      "source": [
        "accuracy(test$WillWait, pred)"
      ],
      "id": "21ab8043-5dbe-46d3-9c75-46a5e6173fdd"
    }
  ],
  "nbformat": 4,
  "nbformat_minor": 5,
  "metadata": {
    "kernelspec": {
      "name": "ir",
      "display_name": "R",
      "language": "R"
    }
  }
}