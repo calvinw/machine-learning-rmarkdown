{
 "cells": [
  {
   "cell_type": "code",
   "execution_count": null,
   "metadata": {},
   "outputs": [],
   "source": [
    "options(\"scipen\"=100, \"digits\"=4)\n",
    "if(!require(\"readr\")) install.packages(\"readr\")\n",
    "if(!require(\"rpart\")) install.packages(\"rpart\")\n",
    "if(!require(\"rpart.plot\")) install.packages(\"rpart.plot\")\n",
    "library(\"readr\")\n",
    "library(\"rpart\")\n",
    "library(\"rpart.plot\")"
   ]
  },
  {
   "cell_type": "markdown",
   "metadata": {},
   "source": [
    "<table style=\"width:98%;\">\n",
    "<colgroup>\n",
    "<col style=\"width: 9%\" />\n",
    "<col style=\"width: 4%\" />\n",
    "<col style=\"width: 8%\" />\n",
    "<col style=\"width: 7%\" />\n",
    "<col style=\"width: 8%\" />\n",
    "<col style=\"width: 9%\" />\n",
    "<col style=\"width: 8%\" />\n",
    "<col style=\"width: 11%\" />\n",
    "<col style=\"width: 8%\" />\n",
    "<col style=\"width: 12%\" />\n",
    "<col style=\"width: 9%\" />\n",
    "</colgroup>\n",
    "<thead>\n",
    "<tr class=\"header\">\n",
    "<th style=\"text-align: left;\">Alternate</th>\n",
    "<th style=\"text-align: left;\">Bar</th>\n",
    "<th style=\"text-align: left;\">Fri/Sat</th>\n",
    "<th style=\"text-align: left;\">Hungry</th>\n",
    "<th style=\"text-align: left;\">Patrons</th>\n",
    "<th style=\"text-align: left;\">Price</th>\n",
    "<th style=\"text-align: left;\">Raining</th>\n",
    "<th style=\"text-align: left;\">Reservation</th>\n",
    "<th style=\"text-align: left;\">Type</th>\n",
    "<th style=\"text-align: left;\">WaitEstimate</th>\n",
    "<th style=\"text-align: left;\">WillWait</th>\n",
    "</tr>\n",
    "</thead>\n",
    "<tbody>\n",
    "<tr class=\"odd\">\n",
    "<td style=\"text-align: left;\">Yes</td>\n",
    "<td style=\"text-align: left;\">No</td>\n",
    "<td style=\"text-align: left;\">No</td>\n",
    "<td style=\"text-align: left;\">Yes</td>\n",
    "<td style=\"text-align: left;\">Some</td>\n",
    "<td style=\"text-align: left;\">Expensive</td>\n",
    "<td style=\"text-align: left;\">No</td>\n",
    "<td style=\"text-align: left;\">Yes</td>\n",
    "<td style=\"text-align: left;\">French</td>\n",
    "<td style=\"text-align: left;\">0-10</td>\n",
    "<td style=\"text-align: left;\">Yes</td>\n",
    "</tr>\n",
    "<tr class=\"even\">\n",
    "<td style=\"text-align: left;\">Yes</td>\n",
    "<td style=\"text-align: left;\">No</td>\n",
    "<td style=\"text-align: left;\">No</td>\n",
    "<td style=\"text-align: left;\">Yes</td>\n",
    "<td style=\"text-align: left;\">Full</td>\n",
    "<td style=\"text-align: left;\">Cheap</td>\n",
    "<td style=\"text-align: left;\">No</td>\n",
    "<td style=\"text-align: left;\">No</td>\n",
    "<td style=\"text-align: left;\">Thai</td>\n",
    "<td style=\"text-align: left;\">30-60</td>\n",
    "<td style=\"text-align: left;\">No</td>\n",
    "</tr>\n",
    "<tr class=\"odd\">\n",
    "<td style=\"text-align: left;\">No</td>\n",
    "<td style=\"text-align: left;\">Yes</td>\n",
    "<td style=\"text-align: left;\">No</td>\n",
    "<td style=\"text-align: left;\">No</td>\n",
    "<td style=\"text-align: left;\">Some</td>\n",
    "<td style=\"text-align: left;\">Cheap</td>\n",
    "<td style=\"text-align: left;\">No</td>\n",
    "<td style=\"text-align: left;\">No</td>\n",
    "<td style=\"text-align: left;\">Burger</td>\n",
    "<td style=\"text-align: left;\">0-10</td>\n",
    "<td style=\"text-align: left;\">Yes</td>\n",
    "</tr>\n",
    "<tr class=\"even\">\n",
    "<td style=\"text-align: left;\">Yes</td>\n",
    "<td style=\"text-align: left;\">No</td>\n",
    "<td style=\"text-align: left;\">Yes</td>\n",
    "<td style=\"text-align: left;\">Yes</td>\n",
    "<td style=\"text-align: left;\">Full</td>\n",
    "<td style=\"text-align: left;\">Cheap</td>\n",
    "<td style=\"text-align: left;\">No</td>\n",
    "<td style=\"text-align: left;\">No</td>\n",
    "<td style=\"text-align: left;\">Thai</td>\n",
    "<td style=\"text-align: left;\">10-30</td>\n",
    "<td style=\"text-align: left;\">Yes</td>\n",
    "</tr>\n",
    "<tr class=\"odd\">\n",
    "<td style=\"text-align: left;\">Yes</td>\n",
    "<td style=\"text-align: left;\">No</td>\n",
    "<td style=\"text-align: left;\">Yes</td>\n",
    "<td style=\"text-align: left;\">No</td>\n",
    "<td style=\"text-align: left;\">Full</td>\n",
    "<td style=\"text-align: left;\">Expensive</td>\n",
    "<td style=\"text-align: left;\">No</td>\n",
    "<td style=\"text-align: left;\">Yes</td>\n",
    "<td style=\"text-align: left;\">French</td>\n",
    "<td style=\"text-align: left;\">&gt;60</td>\n",
    "<td style=\"text-align: left;\">No</td>\n",
    "</tr>\n",
    "<tr class=\"even\">\n",
    "<td style=\"text-align: left;\">No</td>\n",
    "<td style=\"text-align: left;\">Yes</td>\n",
    "<td style=\"text-align: left;\">No</td>\n",
    "<td style=\"text-align: left;\">Yes</td>\n",
    "<td style=\"text-align: left;\">Some</td>\n",
    "<td style=\"text-align: left;\">Moderate</td>\n",
    "<td style=\"text-align: left;\">Yes</td>\n",
    "<td style=\"text-align: left;\">Yes</td>\n",
    "<td style=\"text-align: left;\">Italian</td>\n",
    "<td style=\"text-align: left;\">0-10</td>\n",
    "<td style=\"text-align: left;\">Yes</td>\n",
    "</tr>\n",
    "<tr class=\"odd\">\n",
    "<td style=\"text-align: left;\">No</td>\n",
    "<td style=\"text-align: left;\">Yes</td>\n",
    "<td style=\"text-align: left;\">No</td>\n",
    "<td style=\"text-align: left;\">No</td>\n",
    "<td style=\"text-align: left;\">None</td>\n",
    "<td style=\"text-align: left;\">Cheap</td>\n",
    "<td style=\"text-align: left;\">Yes</td>\n",
    "<td style=\"text-align: left;\">No</td>\n",
    "<td style=\"text-align: left;\">Burger</td>\n",
    "<td style=\"text-align: left;\">0-10</td>\n",
    "<td style=\"text-align: left;\">No</td>\n",
    "</tr>\n",
    "<tr class=\"even\">\n",
    "<td style=\"text-align: left;\">No</td>\n",
    "<td style=\"text-align: left;\">No</td>\n",
    "<td style=\"text-align: left;\">No</td>\n",
    "<td style=\"text-align: left;\">Yes</td>\n",
    "<td style=\"text-align: left;\">Some</td>\n",
    "<td style=\"text-align: left;\">Moderate</td>\n",
    "<td style=\"text-align: left;\">Yes</td>\n",
    "<td style=\"text-align: left;\">Yes</td>\n",
    "<td style=\"text-align: left;\">Thai</td>\n",
    "<td style=\"text-align: left;\">0-10</td>\n",
    "<td style=\"text-align: left;\">Yes</td>\n",
    "</tr>\n",
    "<tr class=\"odd\">\n",
    "<td style=\"text-align: left;\">No</td>\n",
    "<td style=\"text-align: left;\">Yes</td>\n",
    "<td style=\"text-align: left;\">Yes</td>\n",
    "<td style=\"text-align: left;\">No</td>\n",
    "<td style=\"text-align: left;\">Full</td>\n",
    "<td style=\"text-align: left;\">Cheap</td>\n",
    "<td style=\"text-align: left;\">Yes</td>\n",
    "<td style=\"text-align: left;\">No</td>\n",
    "<td style=\"text-align: left;\">Burger</td>\n",
    "<td style=\"text-align: left;\">&gt;60</td>\n",
    "<td style=\"text-align: left;\">No</td>\n",
    "</tr>\n",
    "<tr class=\"even\">\n",
    "<td style=\"text-align: left;\">Yes</td>\n",
    "<td style=\"text-align: left;\">Yes</td>\n",
    "<td style=\"text-align: left;\">Yes</td>\n",
    "<td style=\"text-align: left;\">Yes</td>\n",
    "<td style=\"text-align: left;\">Full</td>\n",
    "<td style=\"text-align: left;\">Expensive</td>\n",
    "<td style=\"text-align: left;\">No</td>\n",
    "<td style=\"text-align: left;\">Yes</td>\n",
    "<td style=\"text-align: left;\">Italian</td>\n",
    "<td style=\"text-align: left;\">10-30</td>\n",
    "<td style=\"text-align: left;\">No</td>\n",
    "</tr>\n",
    "<tr class=\"odd\">\n",
    "<td style=\"text-align: left;\">No</td>\n",
    "<td style=\"text-align: left;\">No</td>\n",
    "<td style=\"text-align: left;\">No</td>\n",
    "<td style=\"text-align: left;\">No</td>\n",
    "<td style=\"text-align: left;\">None</td>\n",
    "<td style=\"text-align: left;\">Cheap</td>\n",
    "<td style=\"text-align: left;\">No</td>\n",
    "<td style=\"text-align: left;\">No</td>\n",
    "<td style=\"text-align: left;\">Thai</td>\n",
    "<td style=\"text-align: left;\">0-10</td>\n",
    "<td style=\"text-align: left;\">No</td>\n",
    "</tr>\n",
    "<tr class=\"even\">\n",
    "<td style=\"text-align: left;\">Yes</td>\n",
    "<td style=\"text-align: left;\">Yes</td>\n",
    "<td style=\"text-align: left;\">Yes</td>\n",
    "<td style=\"text-align: left;\">Yes</td>\n",
    "<td style=\"text-align: left;\">Full</td>\n",
    "<td style=\"text-align: left;\">Cheap</td>\n",
    "<td style=\"text-align: left;\">No</td>\n",
    "<td style=\"text-align: left;\">No</td>\n",
    "<td style=\"text-align: left;\">Burger</td>\n",
    "<td style=\"text-align: left;\">30-60</td>\n",
    "<td style=\"text-align: left;\">Yes</td>\n",
    "</tr>\n",
    "</tbody>\n",
    "</table>"
   ]
  },
  {
   "cell_type": "code",
   "execution_count": null,
   "metadata": {},
   "outputs": [],
   "source": [
    "url<-\"https://docs.google.com/spreadsheets/d/e/2PACX-1vQvQ1hQJoj_3BmOV3uLWcDzwIw3GFhkS84NePBS57lnCmXSN86KU8kn4aQUE9rGsxJPMi32S55JBl9w/pub?gid=0&single=true&output=csv\"\n",
    "traindf<-read.csv(url, stringsAsFactor=TRUE)"
   ]
  },
  {
   "cell_type": "markdown",
   "metadata": {},
   "source": [
    "Now let’s print out the training set to make sure we read it correctly:"
   ]
  },
  {
   "cell_type": "code",
   "execution_count": null,
   "metadata": {},
   "outputs": [],
   "source": [
    "print(traindf)"
   ]
  },
  {
   "cell_type": "markdown",
   "metadata": {},
   "source": [
    "Create models for the following individual predictors with maxdepth=1."
   ]
  },
  {
   "cell_type": "code",
   "execution_count": null,
   "metadata": {},
   "outputs": [],
   "source": [
    "PUT CODE HERE to create a model  WillWait~Price (use maxdepth = 1) "
   ]
  },
  {
   "cell_type": "code",
   "execution_count": null,
   "metadata": {},
   "outputs": [],
   "source": [
    "PUT CODE HERE to create a model  WillWait~Patrons(use maxdepth = 1) "
   ]
  },
  {
   "cell_type": "markdown",
   "metadata": {},
   "source": [
    "Which of the above models is better?\n",
    "\n",
    "Finally here is a model using all the variables"
   ]
  },
  {
   "cell_type": "code",
   "execution_count": null,
   "metadata": {},
   "outputs": [],
   "source": [
    "control = rpart.control(minsplit=1)\n",
    "model <- rpart(WillWait~., data=traindf, method=\"class\", control = control)\n",
    "rpart.plot(model, type=4, extra = 1, digits=-2)"
   ]
  },
  {
   "cell_type": "markdown",
   "metadata": {},
   "source": [
    "Lets read in the testing data set:"
   ]
  },
  {
   "cell_type": "code",
   "execution_count": null,
   "metadata": {},
   "outputs": [],
   "source": [
    "testurl<-\"https://docs.google.com/spreadsheets/d/e/2PACX-1vQvQ1hQJoj_3BmOV3uLWcDzwIw3GFhkS84NePBS57lnCmXSN86KU8kn4aQUE9rGsxJPMi32S55JBl9w/pub?gid=289547774&single=true&output=csv\"\n",
    "testdf<-read.csv(testurl, stringsAsFactors=TRUE)\n",
    "str(testdf)"
   ]
  },
  {
   "cell_type": "markdown",
   "metadata": {},
   "source": [
    "Do a prediction for the testing data set using the model above:"
   ]
  },
  {
   "cell_type": "code",
   "execution_count": null,
   "metadata": {},
   "outputs": [],
   "source": [
    "pred <- predict(model, newdata = testdf, type = 'class')"
   ]
  },
  {
   "cell_type": "markdown",
   "metadata": {},
   "source": [
    "Lets print out the predictions:"
   ]
  },
  {
   "cell_type": "code",
   "execution_count": null,
   "metadata": {},
   "outputs": [],
   "source": [
    "print(pred)"
   ]
  },
  {
   "cell_type": "markdown",
   "metadata": {},
   "source": [
    "Lets compare these with the actuals:"
   ]
  },
  {
   "cell_type": "code",
   "execution_count": null,
   "metadata": {},
   "outputs": [],
   "source": [
    "print(testdf$WillWait)"
   ]
  },
  {
   "cell_type": "markdown",
   "metadata": {},
   "source": [
    "Make the agreement vector and calculate the accuracy which is the mean\n",
    "of the agreement vector:"
   ]
  },
  {
   "cell_type": "code",
   "execution_count": null,
   "metadata": {},
   "outputs": [],
   "source": [
    "agreement <- (pred == testdf$WillWait)\n",
    "agreement\n",
    "mean(agreement)"
   ]
  }
 ],
 "nbformat": 4,
 "nbformat_minor": 5,
 "metadata": {
  "kernelspec": {
   "name": "ir",
   "display_name": "R",
   "language": "R"
  }
 }
}

