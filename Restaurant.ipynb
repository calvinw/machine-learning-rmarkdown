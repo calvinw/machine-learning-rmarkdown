{
 "cells": [
  {
   "cell_type": "code",
   "execution_count": null,
   "metadata": {},
   "outputs": [],
   "source": [
    "options(\"scipen\"=100, \"digits\"=4)\n",
    "\n",
    "if(!require(\"rpart\")) install.packages(\"rpart\")\n",
    "if(!require(\"rpart.plot\")) install.packages(\"rpart.plot\")\n",
    "if (!require(\"Metrics\")) install.packages(\"Metrics\")\n",
    "\n",
    "library(\"rpart\")\n",
    "library(\"rpart.plot\")\n",
    "library(\"Metrics\")"
   ]
  },
  {
   "cell_type": "markdown",
   "metadata": {},
   "source": [
    "Load the Training Data\n",
    "----------------------\n",
    "\n",
    "Here is some data that involves trying to predict when someone will be\n",
    "willing to wait for a table in a restaurant vs when they will leave. The\n",
    "restaurant would like to understand both when this will happen and also\n",
    "under what conditions. Here is the data that we hae so far:\n",
    "\n",
    "| Alternate | Bar | Fri/Sat | Hungry | Patrons | Price     | Raining | Reservation | Type    | WaitEstimate | WillWait |\n",
    "|-----------|-----|---------|--------|---------|-----------|---------|-------------|---------|--------------|----------|\n",
    "| Yes       | No  | No      | Yes    | Some    | Expensive | No      | Yes         | French  | 0-10         | Yes      |\n",
    "| Yes       | No  | No      | Yes    | Full    | Cheap     | No      | No          | Thai    | 30-60        | No       |\n",
    "| No        | Yes | No      | No     | Some    | Cheap     | No      | No          | Burger  | 0-10         | Yes      |\n",
    "| Yes       | No  | Yes     | Yes    | Full    | Cheap     | No      | No          | Thai    | 10-30        | Yes      |\n",
    "| Yes       | No  | Yes     | No     | Full    | Expensive | No      | Yes         | French  | \\>60         | No       |\n",
    "| No        | Yes | No      | Yes    | Some    | Moderate  | Yes     | Yes         | Italian | 0-10         | Yes      |\n",
    "| No        | Yes | No      | No     | None    | Cheap     | Yes     | No          | Burger  | 0-10         | No       |\n",
    "| No        | No  | No      | Yes    | Some    | Moderate  | Yes     | Yes         | Thai    | 0-10         | Yes      |\n",
    "| No        | Yes | Yes     | No     | Full    | Cheap     | Yes     | No          | Burger  | \\>60         | No       |\n",
    "| Yes       | Yes | Yes     | Yes    | Full    | Expensive | No      | Yes         | Italian | 10-30        | No       |\n",
    "| No        | No  | No      | No     | None    | Cheap     | No      | No          | Thai    | 0-10         | No       |\n",
    "| Yes       | Yes | Yes     | Yes    | Full    | Cheap     | No      | No          | Burger  | 30-60        | Yes      |\n",
    "\n",
    "Note we are trying to predict `WillWait` from the rest of the\n",
    "predictors. There are 10 predictors in this case."
   ]
  },
  {
   "cell_type": "code",
   "execution_count": null,
   "metadata": {},
   "outputs": [],
   "source": [
    "url<-\"https://docs.google.com/spreadsheets/d/e/2PACX-1vQvQ1hQJoj_3BmOV3uLWcDzwIw3GFhkS84NePBS57lnCmXSN86KU8kn4aQUE9rGsxJPMi32S55JBl9w/pub?gid=0&single=true&output=csv\"\n",
    "train<-read.csv(url, stringsAsFactor=F)"
   ]
  },
  {
   "cell_type": "markdown",
   "metadata": {},
   "source": [
    "Now let’s print out the training set to make sure we read it correctly:"
   ]
  },
  {
   "cell_type": "code",
   "execution_count": null,
   "metadata": {},
   "outputs": [],
   "source": [
    "print(train)"
   ]
  },
  {
   "cell_type": "markdown",
   "metadata": {},
   "source": [
    "Load the Testing Data\n",
    "---------------------\n",
    "\n",
    "Lets read in the testing data set:"
   ]
  },
  {
   "cell_type": "code",
   "execution_count": null,
   "metadata": {},
   "outputs": [],
   "source": [
    "testurl<-\"https://docs.google.com/spreadsheets/d/e/2PACX-1vQvQ1hQJoj_3BmOV3uLWcDzwIw3GFhkS84NePBS57lnCmXSN86KU8kn4aQUE9rGsxJPMi32S55JBl9w/pub?gid=289547774&single=true&output=csv\"\n",
    "test<-read.csv(testurl, stringsAsFactors=F)\n",
    "str(test)"
   ]
  },
  {
   "cell_type": "markdown",
   "metadata": {},
   "source": [
    "Now let’s print out the testing set to make sure we read it correctly:"
   ]
  },
  {
   "cell_type": "code",
   "execution_count": null,
   "metadata": {},
   "outputs": [],
   "source": [
    "print(test)"
   ]
  },
  {
   "cell_type": "markdown",
   "metadata": {},
   "source": [
    "### Model 1 - predict `WillWait` from `Price`\n",
    "\n",
    "#### Train with Training Data"
   ]
  },
  {
   "cell_type": "code",
   "execution_count": null,
   "metadata": {},
   "outputs": [],
   "source": [
    "control = rpart.control(minsplit=1, maxdepth=1)\n",
    "model <- rpart(WillWait~Price, \n",
    "               data=train, \n",
    "               method=\"class\", \n",
    "               control = control)\n",
    "rpart.plot(model, type=4, extra = 1, digits=-2)"
   ]
  },
  {
   "cell_type": "markdown",
   "metadata": {},
   "source": [
    "#### Test With Testing Data\n",
    "\n",
    "Here are the predictions for our test data:"
   ]
  },
  {
   "cell_type": "code",
   "execution_count": null,
   "metadata": {},
   "outputs": [],
   "source": [
    "pred <- predict(model, newdata = test, type = 'class')\n",
    "compare <- data.frame(actual=test$WillWait, predictions=pred)\n",
    "print(compare)"
   ]
  },
  {
   "cell_type": "markdown",
   "metadata": {},
   "source": [
    "Here is the confusion matrix:"
   ]
  },
  {
   "cell_type": "code",
   "execution_count": null,
   "metadata": {},
   "outputs": [],
   "source": [
    "table(test$WillWait, pred)"
   ]
  },
  {
   "cell_type": "markdown",
   "metadata": {},
   "source": [
    "Here is the accuracy:"
   ]
  },
  {
   "cell_type": "code",
   "execution_count": null,
   "metadata": {},
   "outputs": [],
   "source": [
    "accuracy(test$WillWait, pred)"
   ]
  },
  {
   "cell_type": "markdown",
   "metadata": {},
   "source": [
    "### Model 2 - predict `WillWait` from `Patrons`\n",
    "\n",
    "#### Train with Training Data"
   ]
  },
  {
   "cell_type": "code",
   "execution_count": null,
   "metadata": {},
   "outputs": [],
   "source": [
    "control = rpart.control(minsplit=1, maxdepth=1)\n",
    "model <- rpart(WillWait~Patrons, \n",
    "               data=train, \n",
    "               method=\"class\", \n",
    "               control = control)\n",
    "rpart.plot(model, type=4, extra = 1, digits=-2)"
   ]
  },
  {
   "cell_type": "markdown",
   "metadata": {},
   "source": [
    "#### Test With Testing Data\n",
    "\n",
    "Here are the predictions for our test data:"
   ]
  },
  {
   "cell_type": "code",
   "execution_count": null,
   "metadata": {},
   "outputs": [],
   "source": [
    "pred <- predict(model, newdata = test, type = 'class')\n",
    "compare <- data.frame(actual=test$WillWait, predictions=pred)\n",
    "print(compare)"
   ]
  },
  {
   "cell_type": "markdown",
   "metadata": {},
   "source": [
    "Here is the confusion matrix:"
   ]
  },
  {
   "cell_type": "code",
   "execution_count": null,
   "metadata": {},
   "outputs": [],
   "source": [
    "table(test$WillWait, pred)"
   ]
  },
  {
   "cell_type": "markdown",
   "metadata": {},
   "source": [
    "Here is the accuracy:"
   ]
  },
  {
   "cell_type": "code",
   "execution_count": null,
   "metadata": {},
   "outputs": [],
   "source": [
    "accuracy(test$WillWait, pred)"
   ]
  },
  {
   "cell_type": "markdown",
   "metadata": {},
   "source": [
    "### Model 3 - all predictors\n",
    "\n",
    "#### Train with Training Data\n",
    "\n",
    "Finally here is a model using all the variables"
   ]
  },
  {
   "cell_type": "code",
   "execution_count": null,
   "metadata": {},
   "outputs": [],
   "source": [
    "control = rpart.control(minsplit=1)\n",
    "model <- rpart(WillWait~., data=train, method=\"class\", control = control)\n",
    "rpart.plot(model, type=4, extra = 1, digits=-2)"
   ]
  },
  {
   "cell_type": "markdown",
   "metadata": {},
   "source": [
    "Note that not all predictors get used in this example. The model figures\n",
    "out which ones are relevant on its own here.\n",
    "\n",
    "#### Test With Testing Data\n",
    "\n",
    "Here are the predictions for our test data:"
   ]
  },
  {
   "cell_type": "code",
   "execution_count": null,
   "metadata": {},
   "outputs": [],
   "source": [
    "pred <- predict(model, newdata = test, type = 'class')\n",
    "compare <- data.frame(actual=test$WillWait, predictions=pred)\n",
    "print(compare)"
   ]
  },
  {
   "cell_type": "markdown",
   "metadata": {},
   "source": [
    "Here is the confusion matrix:"
   ]
  },
  {
   "cell_type": "code",
   "execution_count": null,
   "metadata": {},
   "outputs": [],
   "source": [
    "table(test$WillWait, pred)"
   ]
  },
  {
   "cell_type": "markdown",
   "metadata": {},
   "source": [
    "Here is the accuracy:"
   ]
  },
  {
   "cell_type": "code",
   "execution_count": null,
   "metadata": {},
   "outputs": [],
   "source": [
    "accuracy(test$WillWait, pred)"
   ]
  }
 ],
 "nbformat": 4,
 "nbformat_minor": 5,
 "metadata": {
  "kernelspec": {
   "name": "ir",
   "display_name": "R",
   "language": "R"
  }
 }
}
