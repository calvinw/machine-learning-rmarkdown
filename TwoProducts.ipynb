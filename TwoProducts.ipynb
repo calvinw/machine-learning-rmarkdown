{
 "cells": [
  {
   "cell_type": "code",
   "execution_count": null,
   "metadata": {},
   "outputs": [],
   "source": [
    "options(\"scipen\"=100, \"digits\"=4)\n",
    "\n",
    "if(!require(\"rpart\")) install.packages(\"rpart\")\n",
    "if(!require(\"rpart.plot\")) install.packages(\"rpart.plot\")\n",
    "if(!require(\"Metrics\")) install.packages(\"Metrics\")\n",
    "\n",
    "library(\"rpart\")\n",
    "library(\"rpart.plot\")\n",
    "library(\"Metrics\")\n",
    "con <- rpart.control(minsplit=1, maxdepth=1, cp=-1)"
   ]
  },
  {
   "cell_type": "markdown",
   "metadata": {},
   "source": [
    "Training Data - Building a Model\n",
    "--------------------------------"
   ]
  },
  {
   "cell_type": "code",
   "execution_count": null,
   "metadata": {},
   "outputs": [],
   "source": [
    "url<-\"https://docs.google.com/spreadsheets/d/e/2PACX-1vTFmRX4RW3PitgcJya0X2sRbSiD0J2t0oYewyhkkyWwR9i8NIaHiuQKrBtLlrwG9fzn4MvNOM92olnK/pub?gid=0&single=true&output=csv\"\n",
    "train<-read.csv(url)\n",
    "str(train)"
   ]
  },
  {
   "cell_type": "markdown",
   "metadata": {},
   "source": [
    "Here is the original data frame. There are two predictors `gender` and\n",
    "`age` and the result we are trying predict is `product`, which is the\n",
    "product they will buy."
   ]
  },
  {
   "cell_type": "code",
   "execution_count": null,
   "metadata": {},
   "outputs": [],
   "source": [
    "print(train)"
   ]
  },
  {
   "cell_type": "markdown",
   "metadata": {},
   "source": [
    "### Model 1 - Split on Gender\n",
    "\n",
    "Lets sort it by gender:"
   ]
  },
  {
   "cell_type": "code",
   "execution_count": null,
   "metadata": {},
   "outputs": [],
   "source": [
    "print(train[order(train$gender),])"
   ]
  },
  {
   "cell_type": "markdown",
   "metadata": {},
   "source": [
    "So if we split on gender here is what we would get:"
   ]
  },
  {
   "cell_type": "code",
   "execution_count": null,
   "metadata": {},
   "outputs": [],
   "source": [
    "modelGender <- rpart(product~gender, \n",
    "               data=train, \n",
    "               control = rpart.control(minsplit=1, maxdepth=1),\n",
    "               method=\"class\")\n",
    "rpart.plot(modelGender, type=4, extra = 1, digits=-2)"
   ]
  },
  {
   "cell_type": "markdown",
   "metadata": {},
   "source": [
    "The tree above makes 1 mistake out of 7.\n",
    "\n",
    "### Model 2 - Split on Age\n",
    "\n",
    "Lets sort it by age:"
   ]
  },
  {
   "cell_type": "code",
   "execution_count": null,
   "metadata": {},
   "outputs": [],
   "source": [
    "print(train[order(train$age),])"
   ]
  },
  {
   "cell_type": "code",
   "execution_count": null,
   "metadata": {},
   "outputs": [],
   "source": [
    "modelAge <- rpart(product~age, \n",
    "               data=train, \n",
    "               control = rpart.control(minsplit=1, maxdepth=1, cp=-1),\n",
    "               method=\"class\")\n",
    "rpart.plot(modelAge, type=4, extra = 1, digits=-2)"
   ]
  },
  {
   "cell_type": "markdown",
   "metadata": {},
   "source": [
    "The tree above makes 2 mistake out of 7.\n",
    "\n",
    "### Model 3 - Split on Gender, then Age"
   ]
  },
  {
   "cell_type": "code",
   "execution_count": null,
   "metadata": {},
   "outputs": [],
   "source": [
    "modelGenderAge <- rpart(product~gender+age, \n",
    "               data=train, \n",
    "               control = rpart.control(minsplit=1, maxdepth=3),\n",
    "               method=\"class\")\n",
    "rpart.plot(modelGenderAge, type=4, extra = 1, digits=-2)"
   ]
  },
  {
   "cell_type": "markdown",
   "metadata": {},
   "source": [
    "Testing Data - Predictions and Accuracy\n",
    "---------------------------------------"
   ]
  },
  {
   "cell_type": "code",
   "execution_count": null,
   "metadata": {},
   "outputs": [],
   "source": [
    "url<-\"https://docs.google.com/spreadsheets/d/e/2PACX-1vTFmRX4RW3PitgcJya0X2sRbSiD0J2t0oYewyhkkyWwR9i8NIaHiuQKrBtLlrwG9fzn4MvNOM92olnK/pub?gid=1744064271&single=true&output=csv\"\n",
    "test<-read.csv(url)\n",
    "str(test)"
   ]
  },
  {
   "cell_type": "code",
   "execution_count": null,
   "metadata": {},
   "outputs": [],
   "source": [
    "print(test)"
   ]
  },
  {
   "cell_type": "markdown",
   "metadata": {},
   "source": [
    "### Make Predictions Using Model 1"
   ]
  },
  {
   "cell_type": "code",
   "execution_count": null,
   "metadata": {},
   "outputs": [],
   "source": [
    "predictions <- predict(modelGender, newdata = test, type = 'class')\n",
    "compare <- data.frame(test=test, predictions=predictions)\n",
    "print(compare)"
   ]
  },
  {
   "cell_type": "markdown",
   "metadata": {},
   "source": [
    "Now one thing we can calculate is the proportion of agreement. This is\n",
    "called the “accuracy” of the model. The accuracy is just\n",
    "\n",
    "$$accuracy = \\frac{\\text{number of correct predictions}}{\\text{number of all predictions}}$$\n",
    "\n",
    "### Find the Accuracy of Model 1\n",
    "\n",
    "We can find it by using the accuracy function in the `Metrics` package"
   ]
  },
  {
   "cell_type": "code",
   "execution_count": null,
   "metadata": {},
   "outputs": [],
   "source": [
    "accuracy(test$product, predictions)\n",
    "table(actual=test$product, predictions)"
   ]
  },
  {
   "cell_type": "markdown",
   "metadata": {},
   "source": [
    "### Make Predictions Using Model 2"
   ]
  },
  {
   "cell_type": "code",
   "execution_count": null,
   "metadata": {},
   "outputs": [],
   "source": [
    "predictions <- predict(modelAge, newdata = test, type = 'class')\n",
    "compare <- data.frame(test=test, predictions=predictions)\n",
    "print(compare)"
   ]
  },
  {
   "cell_type": "markdown",
   "metadata": {},
   "source": [
    "### Find the Accuracy of Model 2"
   ]
  },
  {
   "cell_type": "code",
   "execution_count": null,
   "metadata": {},
   "outputs": [],
   "source": [
    "accuracy(test$product, predictions)\n",
    "table(actual=test$product, predictions)"
   ]
  },
  {
   "cell_type": "markdown",
   "metadata": {},
   "source": [
    "### Make Predictions Using Model 3"
   ]
  },
  {
   "cell_type": "code",
   "execution_count": null,
   "metadata": {},
   "outputs": [],
   "source": [
    "predictions <- predict(modelGenderAge, newdata = test, type = 'class')\n",
    "compare <- data.frame(test=test, predictions=predictions)\n",
    "print(compare)"
   ]
  },
  {
   "cell_type": "markdown",
   "metadata": {},
   "source": [
    "### Find the Accuracy of Model 3"
   ]
  },
  {
   "cell_type": "code",
   "execution_count": null,
   "metadata": {},
   "outputs": [],
   "source": [
    "accuracy(test$product, predictions)\n",
    "table(actual=test$product, predictions)"
   ]
  },
  {
   "cell_type": "markdown",
   "metadata": {},
   "source": [
    "The best model on these training sets is the last one, since the\n",
    "accuracy is smallest for that one."
   ]
  }
 ],
 "nbformat": 4,
 "nbformat_minor": 5,
 "metadata": {
  "kernelspec": {
   "name": "ir",
   "display_name": "R",
   "language": "R"
  }
 }
}
