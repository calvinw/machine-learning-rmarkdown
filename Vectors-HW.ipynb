{
  "cells": [
    {
      "cell_type": "markdown",
      "metadata": {},
      "source": [
        "# DataTypes and Vectors HW\n",
        "\n",
        "## Data Types Practice\n",
        "\n",
        "-   Assign a character (string) `u` with the value “5.16” (include the\n",
        "    quotes)\n",
        "-   print `u`\n",
        "-   use `str` to print out info on `u`"
      ],
      "id": "03297e2c-4b73-4521-91b4-c2c169a8be1f"
    },
    {
      "cell_type": "code",
      "execution_count": null,
      "metadata": {},
      "outputs": [],
      "source": [
        "CODE"
      ],
      "id": "48ce2a52-cee9-4dd7-b6f0-725713430d98"
    },
    {
      "cell_type": "markdown",
      "metadata": {},
      "source": [
        "-   Use the `as.numeric` function to convert the above `u` and assign it\n",
        "    to a numeric variable `v`\n",
        "-   print `v`\n",
        "-   use `str` to print out info on `v`"
      ],
      "id": "8256fdcc-55f0-40ea-8f32-03b839b2cdc1"
    },
    {
      "cell_type": "code",
      "execution_count": null,
      "metadata": {},
      "outputs": [],
      "source": [
        "CODE"
      ],
      "id": "dc1445e6-d6d4-484c-adf7-6683c902b6b2"
    },
    {
      "cell_type": "markdown",
      "metadata": {},
      "source": [
        "Discover the data types of the following expressions:\n",
        "\n",
        "| Expression         |\n",
        "|--------------------|\n",
        "| -2                 |\n",
        "| 2.32               |\n",
        "| TRUE               |\n",
        "| “FALSE”            |\n",
        "| “hi”               |\n",
        "| “6L”               |\n",
        "| “bye bye”          |\n",
        "| c(“bye”,“bye”)     |\n",
        "| c(2,3)             |\n",
        "| c(“2”,“3”)         |\n",
        "| c(“2.34”, “hello”) |\n",
        "\n",
        "-   Use `str` on each of the above to discover their data types"
      ],
      "id": "976874b2-63df-4d6d-874e-c06c7a932b78"
    },
    {
      "cell_type": "code",
      "execution_count": null,
      "metadata": {},
      "outputs": [],
      "source": [
        "CODE"
      ],
      "id": "f8419770-b1b0-4bde-9dd1-76901a280570"
    },
    {
      "cell_type": "markdown",
      "metadata": {},
      "source": [
        "## Multiple Regression Equation with 15 predictors\n",
        "\n",
        "Here are the coefficients from the predictors in a multiple regression\n",
        "for predicting pregnancy (with a \"pregnancy score\") from the purchasing\n",
        "behavior of customers:\n",
        "\n",
        "|                           | Coefficients |\n",
        "|---------------------------|--------------|\n",
        "| Pregnancy Test            | 0.218058401  |\n",
        "| Birth Control             | -0.274472752 |\n",
        "| Feminine Hygiene          | -0.245079751 |\n",
        "| Folic Acid                | 0.34405342   |\n",
        "| Prenatal Vitamins         | 0.298086596  |\n",
        "| Prenatal Yoga             | 0.318919562  |\n",
        "| Body Pillow               | 0.184546094  |\n",
        "| Ginger Ale                | 0.226086097  |\n",
        "| Sea Bands                 | 0.140434527  |\n",
        "| Stopped buying cigarettes | 0.159818146  |\n",
        "| Cigarettes                | -0.164941603 |\n",
        "| Smoking Cessation         | 0.165721439  |\n",
        "| Stopped buying wine       | 0.191146551  |\n",
        "| Wine                      | -0.207701535 |\n",
        "| Maternity Clothes         | 0.240508913  |\n",
        "\n",
        "And here is the intercept\n",
        "\n",
        "| Intercept   |\n",
        "|-------------|\n",
        "| 0.413672294 |\n",
        "\n",
        "These may have come from `LINEST` in a spreadsheet or they may have come\n",
        "from using R’s `lm` function.\n",
        "\n",
        "-   Create a vector `m` with the 15 values above\n",
        "-   print `m`"
      ],
      "id": "86ce671c-f983-4737-abac-8e17d5c1e5e6"
    },
    {
      "cell_type": "code",
      "execution_count": null,
      "metadata": {},
      "outputs": [],
      "source": [
        "CODE"
      ],
      "id": "0680ede5-31f2-4063-abfe-80fcb42276e3"
    },
    {
      "cell_type": "markdown",
      "metadata": {},
      "source": [
        "-   Use the function `str` to print out info about the vector `m`"
      ],
      "id": "f5ae5de6-ab5c-46a8-b6ba-31c1ecbae52d"
    },
    {
      "cell_type": "code",
      "execution_count": null,
      "metadata": {},
      "outputs": [],
      "source": [
        "CODE"
      ],
      "id": "6ef6b3c3-cd97-458c-be31-97a3de1d75ba"
    },
    {
      "cell_type": "markdown",
      "metadata": {},
      "source": [
        "## Making Predictions with the Vector of Predictors\n",
        "\n",
        "Now suppose we want to do some predictions using our regression\n",
        "equation.\n",
        "\n",
        "### Customer 1\n",
        "\n",
        "Here is one prediction we want to do. Suppose our customer has these\n",
        "values for the predictors (x-variables).\n",
        "\n",
        "| Predictor               | value |\n",
        "|-------------------------|-------|\n",
        "| PregnancyTest           | 1     |\n",
        "| BirthControl            | 0     |\n",
        "| FeminineHygiene         | 0     |\n",
        "| FolicAcid               | 0     |\n",
        "| PrenatalVitamins        | 1     |\n",
        "| PrenatalYoga            | 0     |\n",
        "| BodyPillow              | 0     |\n",
        "| GingerAle               | 0     |\n",
        "| SeaBands                | 0     |\n",
        "| StoppedBuyingCigerettes | 1     |\n",
        "| Cigarettes              | 0     |\n",
        "| SmokingCessation        | 1     |\n",
        "| StoppedBuyingWine       | 1     |\n",
        "| Wine                    | 0     |\n",
        "| MaternityClothes        | 0     |\n",
        "\n",
        "Remember 1 means the customer purchased the item during the period or\n",
        "that something did happen (1 for SmokingCessation means they were bying\n",
        "cigarettes at some point but stopped):\n",
        "\n",
        "-   Create a vector `x` with the values above  \n",
        "-   print `x`"
      ],
      "id": "40552d87-5f2b-49e0-a204-3f17f5aea8b6"
    },
    {
      "cell_type": "code",
      "execution_count": null,
      "metadata": {},
      "outputs": [],
      "source": [
        "CODE"
      ],
      "id": "a536d447-d5ed-44c0-b2ce-765508924813"
    },
    {
      "cell_type": "markdown",
      "metadata": {},
      "source": [
        "-   Assign the intecept value to a variable `b`\n",
        "-   Assign `sum(m*x)+b` to a variable `y1`\n",
        "-   Print out `y1`"
      ],
      "id": "cda93b45-fde7-4398-9325-d40f3d145a85"
    },
    {
      "cell_type": "code",
      "execution_count": null,
      "metadata": {},
      "outputs": [],
      "source": [
        "CODE"
      ],
      "id": "9e2d6bf7-439d-4965-80cd-3305d187dd62"
    },
    {
      "cell_type": "markdown",
      "metadata": {},
      "source": [
        "### Customer 2\n",
        "\n",
        "Here is another prediction we will like to do:\n",
        "\n",
        "| Predictor               | value |\n",
        "|-------------------------|-------|\n",
        "| PregnancyTest           | 0     |\n",
        "| BirthControl            | 1     |\n",
        "| FeminineHygiene         | 0     |\n",
        "| FolicAcid               | 0     |\n",
        "| PrenatalVitamins        | 0     |\n",
        "| PrenatalYoga            | 0     |\n",
        "| BodyPillow              | 0     |\n",
        "| GingerAle               | 0     |\n",
        "| SeaBands                | 0     |\n",
        "| StoppedBuyingCigerettes | 0     |\n",
        "| Cigarettes              | 1     |\n",
        "| SmokingCessation        | 0     |\n",
        "| StoppedBuyingWine       | 0     |\n",
        "| Wine                    | 1     |\n",
        "| MaternityClothes        | 0     |\n",
        "\n",
        "-   Create a vector `x` with the values above  \n",
        "-   Assign `sum(m*x)+b` to a variable `y2`\n",
        "-   Print out `y2`"
      ],
      "id": "bcb64cb7-760f-466c-8fe6-dcc25d8fac79"
    },
    {
      "cell_type": "code",
      "execution_count": null,
      "metadata": {},
      "outputs": [],
      "source": [
        "CODE"
      ],
      "id": "8c39d464-1930-4a20-9aa5-feb6b6789c5e"
    },
    {
      "cell_type": "markdown",
      "metadata": {},
      "source": [
        "### Which Customer Was Pregnant?\n",
        "\n",
        "Does the value of these predictions lead you to conclude the customer is\n",
        "pregnant?\n",
        "\n",
        "Here are the two predictions (scores) that we got:\n",
        "\n",
        "| prediction 1 | prediction 2 |\n",
        "|--------------|--------------|\n",
        "| 1.45         | -0.23        |\n",
        "\n",
        "One of the predictions was positive and one was negative. What do you\n",
        "think this means here? Can you guess?"
      ],
      "id": "88f233a9-2332-433a-acc3-1ebc82c1b5d0"
    }
  ],
  "nbformat": 4,
  "nbformat_minor": 5,
  "metadata": {
    "kernelspec": {
      "name": "ir",
      "display_name": "R",
      "language": "R"
    }
  }
}