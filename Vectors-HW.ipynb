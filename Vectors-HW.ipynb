{
  "cells": [
    {
      "cell_type": "markdown",
      "metadata": {},
      "source": [
        "# DataTypes and Vectors HW\n",
        "\n",
        "## Data Types Practice\n",
        "\n",
        "-   Assign a character (string) `u` with the value “5.16” (include the\n",
        "    quotes)\n",
        "-   print `u`\n",
        "-   use `str` to print out info on `u`"
      ],
      "id": "f1e0e72c-0467-40eb-a620-d9e46b46c920"
    },
    {
      "cell_type": "code",
      "execution_count": null,
      "metadata": {},
      "outputs": [],
      "source": [
        "CODE"
      ],
      "id": "113e17ab-5b2e-44cf-be6d-76cea2adc591"
    },
    {
      "cell_type": "markdown",
      "metadata": {},
      "source": [
        "-   Use the `as.numeric` function to convert the above `u` and assign it\n",
        "    to a numeric variable `v`\n",
        "-   print `v`\n",
        "-   use `str` to print out info on `v`"
      ],
      "id": "c6669422-4346-49a3-80f4-ac121bb707fd"
    },
    {
      "cell_type": "code",
      "execution_count": null,
      "metadata": {},
      "outputs": [],
      "source": [
        "CODE"
      ],
      "id": "c71d0020-cb95-4cd0-862e-1d3c78a94d45"
    },
    {
      "cell_type": "markdown",
      "metadata": {},
      "source": [
        "Discover the data types of the following expressions:\n",
        "\n",
        "| Expression         |\n",
        "|--------------------|\n",
        "| -2                 |\n",
        "| 2.32               |\n",
        "| TRUE               |\n",
        "| “FALSE”            |\n",
        "| “hi”               |\n",
        "| “6L”               |\n",
        "| “bye bye”          |\n",
        "| c(“bye”,“bye”)     |\n",
        "| c(2,3)             |\n",
        "| c(“2”,“3”)         |\n",
        "| c(“2.34”, “hello”) |\n",
        "\n",
        "-   Use `str` on each of the above to discover their data types"
      ],
      "id": "5521ead0-1e6d-43a2-a217-ffe84ef422ab"
    },
    {
      "cell_type": "code",
      "execution_count": null,
      "metadata": {},
      "outputs": [],
      "source": [
        "CODE"
      ],
      "id": "06bad2f4-8f97-4df1-bcba-5177d5aff7e8"
    },
    {
      "cell_type": "markdown",
      "metadata": {},
      "source": [
        "## Multiple Regression Equation with 15 predictors\n",
        "\n",
        "Here are the coefficients from the predictors in a multiple regression\n",
        "for predicting pregnancy (with a \"pregnancy score\") from the purchasing\n",
        "behavior of customers:\n",
        "\n",
        "|                           | Coefficients |\n",
        "|---------------------------|--------------|\n",
        "| Pregnancy Test            | 0.218058401  |\n",
        "| Birth Control             | -0.274472752 |\n",
        "| Feminine Hygiene          | -0.245079751 |\n",
        "| Folic Acid                | 0.34405342   |\n",
        "| Prenatal Vitamins         | 0.298086596  |\n",
        "| Prenatal Yoga             | 0.318919562  |\n",
        "| Body Pillow               | 0.184546094  |\n",
        "| Ginger Ale                | 0.226086097  |\n",
        "| Sea Bands                 | 0.140434527  |\n",
        "| Stopped buying cigarettes | 0.159818146  |\n",
        "| Cigarettes                | -0.164941603 |\n",
        "| Smoking Cessation         | 0.165721439  |\n",
        "| Stopped buying wine       | 0.191146551  |\n",
        "| Wine                      | -0.207701535 |\n",
        "| Maternity Clothes         | 0.240508913  |\n",
        "\n",
        "And here is the intercept\n",
        "\n",
        "| Intercept   |\n",
        "|-------------|\n",
        "| 0.413672294 |\n",
        "\n",
        "These may have come from `LINEST` in a spreadsheet or they may have come\n",
        "from using R’s `lm` function.\n",
        "\n",
        "-   Create a vector `m` with the 15 values above\n",
        "-   print `m`"
      ],
      "id": "ffc97d92-f149-4cdb-b268-db2bfbc5c3d1"
    },
    {
      "cell_type": "code",
      "execution_count": null,
      "metadata": {},
      "outputs": [],
      "source": [
        "CODE"
      ],
      "id": "479181b9-f5d1-40b9-9c75-0d232a3c1f72"
    },
    {
      "cell_type": "markdown",
      "metadata": {},
      "source": [
        "-   Use the function `str` to print out info about the vector `m`"
      ],
      "id": "3b5b6ef7-974f-4585-a6af-5e83aaabafb8"
    },
    {
      "cell_type": "code",
      "execution_count": null,
      "metadata": {},
      "outputs": [],
      "source": [
        "CODE"
      ],
      "id": "35c1c79c-0139-4fe6-b7b7-2da495661d6f"
    },
    {
      "cell_type": "markdown",
      "metadata": {},
      "source": [
        "## Making Predictions with the Vector of Predictors\n",
        "\n",
        "Now suppose we want to do some predictions using our regression\n",
        "equation.\n",
        "\n",
        "### Customer 1\n",
        "\n",
        "Here is one prediction we want to do. Suppose our customer has these\n",
        "values for the predictors (x-variables).\n",
        "\n",
        "| Predictor               | value |\n",
        "|-------------------------|-------|\n",
        "| PregnancyTest           | 1     |\n",
        "| BirthControl            | 0     |\n",
        "| FeminineHygiene         | 0     |\n",
        "| FolicAcid               | 0     |\n",
        "| PrenatalVitamins        | 1     |\n",
        "| PrenatalYoga            | 0     |\n",
        "| BodyPillow              | 0     |\n",
        "| GingerAle               | 0     |\n",
        "| SeaBands                | 0     |\n",
        "| StoppedBuyingCigerettes | 1     |\n",
        "| Cigarettes              | 0     |\n",
        "| SmokingCessation        | 1     |\n",
        "| StoppedBuyingWine       | 1     |\n",
        "| Wine                    | 0     |\n",
        "| MaternityClothes        | 0     |\n",
        "\n",
        "Remember 1 means the customer purchased the item during the period or\n",
        "that something did happen (1 for SmokingCessation means they were bying\n",
        "cigarettes at some point but stopped):\n",
        "\n",
        "-   Create a vector `x` with the values above  \n",
        "-   print `x`"
      ],
      "id": "cddc9972-4b2e-417e-83ab-1596d4728b87"
    },
    {
      "cell_type": "code",
      "execution_count": null,
      "metadata": {},
      "outputs": [],
      "source": [
        "CODE"
      ],
      "id": "415574ab-f93b-4178-a03c-8c26a3942d14"
    },
    {
      "cell_type": "markdown",
      "metadata": {},
      "source": [
        "-   Assign the intecept value to a variable `b`\n",
        "-   Assign `sum(m*x)+b` to a variable `y1`\n",
        "-   Print out `y1`"
      ],
      "id": "f30bb411-a412-40f3-aacd-aed29d0d9dec"
    },
    {
      "cell_type": "code",
      "execution_count": null,
      "metadata": {},
      "outputs": [],
      "source": [
        "CODE"
      ],
      "id": "a9951d2c-1cfe-4fee-ad0e-971d1303331f"
    },
    {
      "cell_type": "markdown",
      "metadata": {},
      "source": [
        "### Customer 2\n",
        "\n",
        "Here is another prediction we will like to do:\n",
        "\n",
        "| Predictor               | value |\n",
        "|-------------------------|-------|\n",
        "| PregnancyTest           | 0     |\n",
        "| BirthControl            | 1     |\n",
        "| FeminineHygiene         | 0     |\n",
        "| FolicAcid               | 0     |\n",
        "| PrenatalVitamins        | 0     |\n",
        "| PrenatalYoga            | 0     |\n",
        "| BodyPillow              | 0     |\n",
        "| GingerAle               | 0     |\n",
        "| SeaBands                | 0     |\n",
        "| StoppedBuyingCigerettes | 0     |\n",
        "| Cigarettes              | 1     |\n",
        "| SmokingCessation        | 0     |\n",
        "| StoppedBuyingWine       | 0     |\n",
        "| Wine                    | 1     |\n",
        "| MaternityClothes        | 0     |\n",
        "\n",
        "-   Create a vector `x` with the values above  \n",
        "-   Assign `sum(m*x)+b` to a variable `y2`\n",
        "-   Print out `y2`"
      ],
      "id": "5aa42ea5-483e-4dab-a477-8224fd40df1b"
    },
    {
      "cell_type": "code",
      "execution_count": null,
      "metadata": {},
      "outputs": [],
      "source": [
        "CODE"
      ],
      "id": "76c37cbf-b389-4be2-901e-9b6a6ad3aec8"
    },
    {
      "cell_type": "markdown",
      "metadata": {},
      "source": [
        "### Which Customer Was Pregnant?\n",
        "\n",
        "Does the value of these predictions lead you to conclude the customer is\n",
        "pregnant?\n",
        "\n",
        "Here are the two predictions (scores) that we got:\n",
        "\n",
        "| prediction 1 | prediction 2 |\n",
        "|--------------|--------------|\n",
        "| 1.45         | -0.23        |\n",
        "\n",
        "One of the predictions was positive and one was negative. What do you\n",
        "think this means here? Can you guess?"
      ],
      "id": "d120e50c-2fcb-4368-8c16-0a246229e86a"
    }
  ],
  "nbformat": 4,
  "nbformat_minor": 5,
  "metadata": {
    "kernelspec": {
      "name": "ir",
      "display_name": "R",
      "language": "R"
    }
  }
}