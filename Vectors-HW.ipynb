{
 "cells": [
  {
   "cell_type": "markdown",
   "metadata": {},
   "source": [
    "Data Types Practice\n",
    "-------------------\n",
    "\n",
    "-   Assign a character (string) `u` with the value “5.16” (include the\n",
    "    quotes)\n",
    "-   print `u`\n",
    "-   use `str` to print out info on `u`"
   ]
  },
  {
   "cell_type": "code",
   "execution_count": null,
   "metadata": {},
   "outputs": [],
   "source": [
    "u<-\"5.16\"\n",
    "u\n",
    "str(u)"
   ]
  },
  {
   "cell_type": "markdown",
   "metadata": {},
   "source": [
    "-   Use the `as.numeric` function to convert the above `u` and assign it\n",
    "    to a numeric variable `v`\n",
    "-   print `v`\n",
    "-   use `str` to print out info on `v`"
   ]
  },
  {
   "cell_type": "code",
   "execution_count": null,
   "metadata": {},
   "outputs": [],
   "source": [
    "v<-as.numeric(u)\n",
    "v\n",
    "str(v)"
   ]
  },
  {
   "cell_type": "markdown",
   "metadata": {},
   "source": [
    "Discover the data types of the following expressions:\n",
    "\n",
    "| Expression         |\n",
    "|--------------------|\n",
    "| -2                 |\n",
    "| 2.32               |\n",
    "| TRUE               |\n",
    "| “FALSE”            |\n",
    "| “hi”               |\n",
    "| “6L”               |\n",
    "| “bye bye”          |\n",
    "| c(“bye”,“bye”)     |\n",
    "| c(2,3)             |\n",
    "| c(“2”,“3”)         |\n",
    "| c(“2.34”, “hello”) |\n",
    "\n",
    "-   Use `str` on each of the above to discover their data types"
   ]
  },
  {
   "cell_type": "code",
   "execution_count": null,
   "metadata": {},
   "outputs": [],
   "source": [
    "str(-2)\n",
    "str(2.32)\n",
    "str(TRUE)\n",
    "str(\"FALSE\")\n",
    "str(\"hi\")\n",
    "str(\"6L\")\n",
    "str(\"bye bye\")\n",
    "str(c(\"bye\",\"bye\"))\n",
    "str(c(2,3))\n",
    "str(c(\"2\",\"3\"))\n",
    "str(c(\"2.34\", \"hello\"))"
   ]
  },
  {
   "cell_type": "markdown",
   "metadata": {},
   "source": [
    "Multiple Regression Equation with 15 predictors\n",
    "-----------------------------------------------\n",
    "\n",
    "Here are the coefficients from the predictors in a multiple regression\n",
    "for predicting pregnancy (with a \"pregnancy score\") from the purchasing\n",
    "behavior of customers:\n",
    "\n",
    "|                           | Coefficients |\n",
    "|---------------------------|--------------|\n",
    "| Pregnancy Test            | 0.218058401  |\n",
    "| Birth Control             | -0.274472752 |\n",
    "| Feminine Hygiene          | -0.245079751 |\n",
    "| Folic Acid                | 0.34405342   |\n",
    "| Prenatal Vitamins         | 0.298086596  |\n",
    "| Prenatal Yoga             | 0.318919562  |\n",
    "| Body Pillow               | 0.184546094  |\n",
    "| Ginger Ale                | 0.226086097  |\n",
    "| Sea Bands                 | 0.140434527  |\n",
    "| Stopped buying cigarettes | 0.159818146  |\n",
    "| Cigarettes                | -0.164941603 |\n",
    "| Smoking Cessation         | 0.165721439  |\n",
    "| Stopped buying wine       | 0.191146551  |\n",
    "| Wine                      | -0.207701535 |\n",
    "| Maternity Clothes         | 0.240508913  |\n",
    "\n",
    "And here is the intercept\n",
    "\n",
    "| Intercept   |\n",
    "|-------------|\n",
    "| 0.413672294 |\n",
    "\n",
    "These may have come from `LINEST` in a spreadsheet or they may have come\n",
    "from using R’s `lm` function.\n",
    "\n",
    "-   Create a vector `m` with the 15 values above\n",
    "-   print `m`"
   ]
  },
  {
   "cell_type": "code",
   "execution_count": null,
   "metadata": {},
   "outputs": [],
   "source": [
    "m<- c(0.218058401, -0.274472752, -0.245079751, 0.34405342, 0.298086596, 0.318919562, 0.184546094, 0.226086097, 0.140434527, 0.159818146, -0.164941603, 0.165721439, 0.191146551, -0.207701535, 0.240508913)\n",
    "m"
   ]
  },
  {
   "cell_type": "markdown",
   "metadata": {},
   "source": [
    "-   Use the function `str` to print out info about the vector `m`"
   ]
  },
  {
   "cell_type": "code",
   "execution_count": null,
   "metadata": {},
   "outputs": [],
   "source": [
    "str(m)"
   ]
  },
  {
   "cell_type": "markdown",
   "metadata": {},
   "source": [
    "Making Predictions with the Vector of Predictors\n",
    "------------------------------------------------\n",
    "\n",
    "Now suppose we want to do some predictions using our regression\n",
    "equation.\n",
    "\n",
    "Here is one prediction we want to do:\n",
    "\n",
    "| PregnancyTest | BirthControl | FeminineHygiene | FolicAcid | PrenatalVitamins | PrenatalYoga | BodyPillow | GingerAle | SeaBands | StoppedBuyingCigerettes | Cigarettes | SmokingCessation | StoppedBuyingWine | Wine | MaternityClothes |\n",
    "|---------------|--------------|-----------------|-----------|------------------|--------------|------------|-----------|----------|-------------------------|------------|------------------|-------------------|------|------------------|\n",
    "| 1             | 0            | 0               | 0         | 1                | 0            | 0          | 0         | 0        | 1                       | 0          | 1                | 1                 | 0    | 0                |\n",
    "\n",
    "-   Create a vector `x` with the values above  \n",
    "-   print `x`"
   ]
  },
  {
   "cell_type": "code",
   "execution_count": null,
   "metadata": {},
   "outputs": [],
   "source": [
    "x<-c(1,0,0,0,1,0,0,0,0,1,0,1,1,0,0)\n",
    "x"
   ]
  },
  {
   "cell_type": "markdown",
   "metadata": {},
   "source": [
    "-   Assign the intecept value to a variable `b`\n",
    "-   Assign `sum(m*x)+b` to a variable `y1`\n",
    "-   Print out `y1`"
   ]
  },
  {
   "cell_type": "code",
   "execution_count": null,
   "metadata": {},
   "outputs": [],
   "source": [
    "b<-0.413672294\n",
    "y1<-sum(m*x)+b\n",
    "y1"
   ]
  },
  {
   "cell_type": "markdown",
   "metadata": {},
   "source": [
    "| PregnancyTest | BirthControl | FeminineHygiene | FolicAcid | PrenatalVitamins | PrenatalYoga | BodyPillow | GingerAle | SeaBands | StoppedBuyingCigerettes | Cigarettes | SmokingCessation | StoppedBuyingWine | Wine | MaternityClothes |\n",
    "|---------------|--------------|-----------------|-----------|------------------|--------------|------------|-----------|----------|-------------------------|------------|------------------|-------------------|------|------------------|\n",
    "| 0             | 1            | 0               | 0         | 0                | 0            | 0          | 0         | 0        | 0                       | 1          | 0                | 0                 | 1    | 0                |\n",
    "\n",
    "-   Create a vector `x` with the values above  \n",
    "-   Assign `sum(m*x)+b` to a variable `y2`\n",
    "-   Print out `y2`"
   ]
  },
  {
   "cell_type": "code",
   "execution_count": null,
   "metadata": {},
   "outputs": [],
   "source": [
    "x<-c(0,1,0,0,0,0,0,0,0,0,1,0,0,1,0)\n",
    "y2<-sum(m*x)+b\n",
    "y2"
   ]
  },
  {
   "cell_type": "markdown",
   "metadata": {},
   "source": [
    "Does the value of these predictions lead you to conclude the customer is\n",
    "pregnant?\n",
    "\n",
    "| prediction 1 | prediction 2 |\n",
    "|--------------|--------------|\n",
    "| 1.45         | -0.23        |\n",
    "\n",
    "One of the predictions was positive and one was negative. What do you\n",
    "think this means here? Can you guess?"
   ]
  }
 ],
 "nbformat": 4,
 "nbformat_minor": 5,
 "metadata": {
  "kernelspec": {
   "name": "ir",
   "display_name": "R",
   "language": "R"
  }
 }
}
