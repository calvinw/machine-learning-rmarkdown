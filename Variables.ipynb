{
  "cells": [
    {
      "cell_type": "markdown",
      "metadata": {},
      "source": [
        "# Variables\n",
        "\n",
        "R is a programming language and so has variables. Variables can hold\n",
        "data, and can be used in calculations and in program logic.\n",
        "Understanding how variables work is very important in any programming\n",
        "language.\n",
        "\n",
        "Lets start by storing a number in a variable. Below we store the number\n",
        "3 in a variable called `x`."
      ],
      "id": "3996ce1c-5a63-47fe-b1f2-645fb2a5cd5b"
    },
    {
      "cell_type": "code",
      "execution_count": null,
      "metadata": {},
      "outputs": [],
      "source": [
        "x<-3"
      ],
      "id": "e6ce5628-9f99-4315-ae95-4f0da54a009b"
    },
    {
      "cell_type": "markdown",
      "metadata": {},
      "source": [
        "This is typed as first a `<` symbol followed by the `-` symbol. So it\n",
        "takes two characters to type this.\n",
        "\n",
        "Storing a number in a variable like this is also called an assignment.\n",
        "We are assigning the variable x to be 3.\n",
        "\n",
        "Now the way variables work is that x now has the value 3. So for now\n",
        "anything we do with x, like other calculations or manipulations, it will\n",
        "have the value 3 as we do those calculations.\n",
        "\n",
        "For example, we can just print it out:"
      ],
      "id": "5fcf8dee-3832-4551-abac-ca5cf24f49b8"
    },
    {
      "cell_type": "code",
      "execution_count": null,
      "metadata": {},
      "outputs": [
        {
          "output_type": "stream",
          "name": "stdout",
          "text": [
            "[1] 3"
          ]
        }
      ],
      "source": [
        "x"
      ],
      "id": "82254085-945e-4c0a-9613-a359dc7e4619"
    },
    {
      "cell_type": "markdown",
      "metadata": {},
      "source": [
        "We can do arithmetic to it:"
      ],
      "id": "33ec295e-be3d-4dc0-b170-a5f304e4beef"
    },
    {
      "cell_type": "code",
      "execution_count": null,
      "metadata": {},
      "outputs": [
        {
          "output_type": "stream",
          "name": "stdout",
          "text": [
            "[1] 6"
          ]
        }
      ],
      "source": [
        "2*x"
      ],
      "id": "2efce26a-ad26-4894-966a-9a61bc7bd895"
    },
    {
      "cell_type": "markdown",
      "metadata": {},
      "source": [
        "Notice this is 6 since x currently is 3. So $2x=2(3)=6$\n",
        "\n",
        "We can do a calculation using x and store the result in another\n",
        "variable:"
      ],
      "id": "6d62eaa4-1f98-4a79-8503-26a102cfced3"
    },
    {
      "cell_type": "code",
      "execution_count": null,
      "metadata": {},
      "outputs": [],
      "source": [
        "y<-5*x"
      ],
      "id": "8388451e-3e2f-41c9-8388-f948196447c3"
    },
    {
      "cell_type": "markdown",
      "metadata": {},
      "source": [
        "Now y will have a value after we do this. What is the current value of\n",
        "y? Since the current value of x is 3, the value of y should be\n",
        "$5(3)=15$. Lets print it out to see if that is true:"
      ],
      "id": "29b1bd1d-98b9-47cc-bb72-8af94177522a"
    },
    {
      "cell_type": "code",
      "execution_count": null,
      "metadata": {},
      "outputs": [
        {
          "output_type": "stream",
          "name": "stdout",
          "text": [
            "[1] 15"
          ]
        }
      ],
      "source": [
        "y"
      ],
      "id": "cf6f0228-bf2a-4e12-9728-e7ce6b5e02b0"
    },
    {
      "cell_type": "markdown",
      "metadata": {},
      "source": [
        "Variables can be changed as a program proceeds. They do not always have\n",
        "to hold the value they were initially assigned. (They are called\n",
        "variables after all)\n",
        "\n",
        "For example we can change the value of x as follows with another\n",
        "assignment:"
      ],
      "id": "7ead197f-b432-4b9a-af72-4e77c809b4d2"
    },
    {
      "cell_type": "code",
      "execution_count": null,
      "metadata": {},
      "outputs": [],
      "source": [
        "x<-2"
      ],
      "id": "c6d8d234-216b-4d15-bf1b-444fda89c994"
    },
    {
      "cell_type": "markdown",
      "metadata": {},
      "source": [
        "One thing you might wonder is that if you change the value of x at some\n",
        "point, does that affect the value of y we defined earlier using x? Let’s\n",
        "check:"
      ],
      "id": "9814103f-11cf-4bba-b81c-5dc4b8e6f595"
    },
    {
      "cell_type": "code",
      "execution_count": null,
      "metadata": {},
      "outputs": [
        {
          "output_type": "stream",
          "name": "stdout",
          "text": [
            "[1] 15"
          ]
        }
      ],
      "source": [
        "y"
      ],
      "id": "d02622b8-749a-4294-a23f-6ea332de4e03"
    },
    {
      "cell_type": "markdown",
      "metadata": {},
      "source": [
        "No. It doesn’t. This y still has the same value it had before which is (\n",
        "5(3) = 15 ) since at the time we assigned y the x was equal to 3. If we\n",
        "want y to update, we would have to assign it again to give it a new\n",
        "value:"
      ],
      "id": "51006358-ad06-41a6-b897-f015cf0de91d"
    },
    {
      "cell_type": "code",
      "execution_count": null,
      "metadata": {},
      "outputs": [],
      "source": [
        "y<-5*x"
      ],
      "id": "2eb693aa-60a3-4201-af0e-82ed947c0b01"
    },
    {
      "cell_type": "markdown",
      "metadata": {},
      "source": [
        "Now we can see that its value is updated."
      ],
      "id": "d5534101-918e-403f-805a-9e3b94e090ba"
    },
    {
      "cell_type": "code",
      "execution_count": null,
      "metadata": {},
      "outputs": [
        {
          "output_type": "stream",
          "name": "stdout",
          "text": [
            "[1] 10"
          ]
        }
      ],
      "source": [
        "y"
      ],
      "id": "09730fa6-522b-4837-9a40-d2198bd77278"
    },
    {
      "cell_type": "markdown",
      "metadata": {},
      "source": [
        "It has the value $5(2) = 10$ now since currently the x is assigned to be\n",
        "2.\n",
        "\n",
        "This shows how variables work. As programs are being run, each variable\n",
        "has a current value, which you can check by just typing the name of the\n",
        "variable and executing that line of code.\n",
        "\n",
        "Below we set a couple variables and then print them out:"
      ],
      "id": "27d06396-ab9d-42c7-a4d1-89cadeb54cc5"
    },
    {
      "cell_type": "code",
      "execution_count": null,
      "metadata": {},
      "outputs": [
        {
          "output_type": "stream",
          "name": "stdout",
          "text": [
            "[1] 2.3"
          ]
        },
        {
          "output_type": "stream",
          "name": "stdout",
          "text": [
            "[1] 5"
          ]
        }
      ],
      "source": [
        "z<-2.3\n",
        "w<-5\n",
        "z"
      ],
      "id": "4b1655d1-2136-48b3-ac4a-0a50f6057c6e"
    },
    {
      "cell_type": "markdown",
      "metadata": {},
      "source": [
        "Now we change z and print it out:"
      ],
      "id": "ea8a9da4-82e7-41ec-973f-7b5be28be4c4"
    },
    {
      "cell_type": "code",
      "execution_count": null,
      "metadata": {},
      "outputs": [
        {
          "output_type": "stream",
          "name": "stdout",
          "text": [
            "[1] 14"
          ]
        }
      ],
      "source": [
        "z<-2*w + 4\n",
        "z"
      ],
      "id": "1d325f01-ae6c-45bb-8bd3-f916d363ba05"
    },
    {
      "cell_type": "markdown",
      "metadata": {},
      "source": [
        "Since w was 5 above, the new value of z is $2(5) + 4 = 14$\n",
        "\n",
        "Usually for variable assignments, the left hand side is just the\n",
        "variable we are setting while the right hand side can be any\n",
        "mathematical expression. We can use about anything on the right hand\n",
        "side during an assignment. Functions, $\\pi$, other variables…"
      ],
      "id": "72a8277a-16e8-4db8-8bb4-a370beef58bf"
    },
    {
      "cell_type": "code",
      "execution_count": null,
      "metadata": {},
      "outputs": [
        {
          "output_type": "stream",
          "name": "stdout",
          "text": [
            "[1] 3.741657"
          ]
        }
      ],
      "source": [
        "z<-sqrt(2*w + 4)\n",
        "z"
      ],
      "id": "72c3bb37-09ac-4fd6-8f44-10045a56e8c7"
    },
    {
      "cell_type": "markdown",
      "metadata": {},
      "source": [
        "Above we are taking the square root of 14, or in symbols $\\sqrt{14}$.\n",
        "\n",
        "Other programming languages use `=` to do variable assignments but R\n",
        "usually uses the “arrow” which is typed as two symbols.\n",
        "\n",
        "First the `<` symbol followed by the `-` symbol. You should say it\n",
        "outloud as “is assigned to be”, so for this:"
      ],
      "id": "ae553b79-0057-4bf2-a06b-0c5e035720d1"
    },
    {
      "cell_type": "code",
      "execution_count": null,
      "metadata": {},
      "outputs": [],
      "source": [
        "x<-8"
      ],
      "id": "182e395b-6a53-47ec-bbdd-135602ffc3e7"
    },
    {
      "cell_type": "markdown",
      "metadata": {},
      "source": [
        "you would say “x is assigned to be 8”."
      ],
      "id": "faff8e1a-39e1-4259-9132-9a01dea16eb4"
    }
  ],
  "nbformat": 4,
  "nbformat_minor": 5,
  "metadata": {
    "kernelspec": {
      "name": "ir",
      "display_name": "R",
      "language": "R"
    }
  }
}