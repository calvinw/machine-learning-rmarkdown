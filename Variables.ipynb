{
  "cells": [
    {
      "cell_type": "markdown",
      "metadata": {},
      "source": [
        "# Variables\n",
        "\n",
        "R is a programming language and so has variables. Variables can hold\n",
        "data, and can be used in calculations and in program logic.\n",
        "Understanding how variables work is very important in any programming\n",
        "language.\n",
        "\n",
        "Lets start by storing a number in a variable. Below we store the number\n",
        "3 in a variable called `x`."
      ],
      "id": "fa488b72-d7d9-4339-a711-fd67cece165e"
    },
    {
      "cell_type": "code",
      "execution_count": null,
      "metadata": {},
      "outputs": [],
      "source": [
        "x<-3"
      ],
      "id": "52a75822-79cb-43ac-bce5-18a9e72165c1"
    },
    {
      "cell_type": "markdown",
      "metadata": {},
      "source": [
        "This is typed as first a `<` symbol followed by the `-` symbol. So it\n",
        "takes two characters to type this.\n",
        "\n",
        "Storing a number in a variable like this is also called an assignment.\n",
        "We are assigning the variable x to be 3.\n",
        "\n",
        "Now the way variables work is that x now has the value 3. So for now\n",
        "anything we do with x, like other calculations or manipulations, it will\n",
        "have the value 3 as we do those calculations.\n",
        "\n",
        "For example, we can just print it out:"
      ],
      "id": "e58510d8-4b0e-4b1a-9e3f-ab4d384db62a"
    },
    {
      "cell_type": "code",
      "execution_count": null,
      "metadata": {},
      "outputs": [
        {
          "output_type": "stream",
          "name": "stdout",
          "text": [
            "[1] 3"
          ]
        }
      ],
      "source": [
        "x"
      ],
      "id": "8debacbd-3fe3-4bc9-8f4d-a8affd0e519d"
    },
    {
      "cell_type": "markdown",
      "metadata": {},
      "source": [
        "We can do arithmetic to it:"
      ],
      "id": "3030734d-4946-4f67-a45f-c57ce88229df"
    },
    {
      "cell_type": "code",
      "execution_count": null,
      "metadata": {},
      "outputs": [
        {
          "output_type": "stream",
          "name": "stdout",
          "text": [
            "[1] 6"
          ]
        }
      ],
      "source": [
        "2*x"
      ],
      "id": "02d7b24b-c534-4cc3-8961-65324e9f37c2"
    },
    {
      "cell_type": "markdown",
      "metadata": {},
      "source": [
        "Notice this is 6 since x currently is 3. So $2x=2(3)=6$\n",
        "\n",
        "We can do a calculation using x and store the result in another\n",
        "variable:"
      ],
      "id": "93594fc8-47cf-4621-a449-70b699129436"
    },
    {
      "cell_type": "code",
      "execution_count": null,
      "metadata": {},
      "outputs": [],
      "source": [
        "y<-5*x"
      ],
      "id": "f3133f87-3978-462a-a439-abd16b99813c"
    },
    {
      "cell_type": "markdown",
      "metadata": {},
      "source": [
        "Now y will have a value after we do this. What is the current value of\n",
        "y? Since the current value of x is 3, the value of y should be\n",
        "$5(3)=15$. Lets print it out to see if that is true:"
      ],
      "id": "e1a209d0-18e8-47ce-86f8-4ba47f8a0923"
    },
    {
      "cell_type": "code",
      "execution_count": null,
      "metadata": {},
      "outputs": [
        {
          "output_type": "stream",
          "name": "stdout",
          "text": [
            "[1] 15"
          ]
        }
      ],
      "source": [
        "y"
      ],
      "id": "73c06f15-7f25-4000-9680-ac2d0002eafd"
    },
    {
      "cell_type": "markdown",
      "metadata": {},
      "source": [
        "Variables can be changed as a program proceeds. They do not always have\n",
        "to hold the value they were initially assigned. (They are called\n",
        "variables after all)\n",
        "\n",
        "For example we can change the value of x as follows with another\n",
        "assignment:"
      ],
      "id": "836166bd-e487-4252-9786-f33f4c6877f2"
    },
    {
      "cell_type": "code",
      "execution_count": null,
      "metadata": {},
      "outputs": [],
      "source": [
        "x<-2"
      ],
      "id": "b695f603-b6bd-4e1c-b970-dd6327fc5989"
    },
    {
      "cell_type": "markdown",
      "metadata": {},
      "source": [
        "One thing you might wonder is that if you change the value of x at some\n",
        "point, does that affect the value of y we defined earlier using x? Let’s\n",
        "check:"
      ],
      "id": "5c173924-00c9-4dd2-a1df-98bcd7ef181e"
    },
    {
      "cell_type": "code",
      "execution_count": null,
      "metadata": {},
      "outputs": [
        {
          "output_type": "stream",
          "name": "stdout",
          "text": [
            "[1] 15"
          ]
        }
      ],
      "source": [
        "y"
      ],
      "id": "5d61b57d-10ad-44bc-88c7-cb9056e8e0d3"
    },
    {
      "cell_type": "markdown",
      "metadata": {},
      "source": [
        "No. It doesn’t. This y still has the same value it had before which is (\n",
        "5(3) = 15 ) since at the time we assigned y the x was equal to 3. If we\n",
        "want y to update, we would have to assign it again to give it a new\n",
        "value:"
      ],
      "id": "cdfbe06d-c4ec-478a-a03b-3f67880b46e6"
    },
    {
      "cell_type": "code",
      "execution_count": null,
      "metadata": {},
      "outputs": [],
      "source": [
        "y<-5*x"
      ],
      "id": "9f74ccc7-6bae-4dbe-a70d-c9e38b4d6505"
    },
    {
      "cell_type": "markdown",
      "metadata": {},
      "source": [
        "Now we can see that its value is updated."
      ],
      "id": "ff8f00d2-aa7a-4730-ae17-9f00a8e7bf15"
    },
    {
      "cell_type": "code",
      "execution_count": null,
      "metadata": {},
      "outputs": [
        {
          "output_type": "stream",
          "name": "stdout",
          "text": [
            "[1] 10"
          ]
        }
      ],
      "source": [
        "y"
      ],
      "id": "26cdc1e6-efb8-435e-bea1-1cd1d0d5e2e2"
    },
    {
      "cell_type": "markdown",
      "metadata": {},
      "source": [
        "It has the value $5(2) = 10$ now since currently the x is assigned to be\n",
        "2.\n",
        "\n",
        "This shows how variables work. As programs are being run, each variable\n",
        "has a current value, which you can check by just typing the name of the\n",
        "variable and executing that line of code.\n",
        "\n",
        "Below we set a couple variables and then print them out:"
      ],
      "id": "e9db294b-caee-45ff-8b46-78eb4a5df722"
    },
    {
      "cell_type": "code",
      "execution_count": null,
      "metadata": {},
      "outputs": [
        {
          "output_type": "stream",
          "name": "stdout",
          "text": [
            "[1] 2.3"
          ]
        },
        {
          "output_type": "stream",
          "name": "stdout",
          "text": [
            "[1] 5"
          ]
        }
      ],
      "source": [
        "z<-2.3\n",
        "w<-5\n",
        "z"
      ],
      "id": "57b47480-0d68-4f58-8926-72a3e087f9e2"
    },
    {
      "cell_type": "markdown",
      "metadata": {},
      "source": [
        "Now we change z and print it out:"
      ],
      "id": "d4210162-9b6f-4c28-9699-ee8c75087d04"
    },
    {
      "cell_type": "code",
      "execution_count": null,
      "metadata": {},
      "outputs": [
        {
          "output_type": "stream",
          "name": "stdout",
          "text": [
            "[1] 14"
          ]
        }
      ],
      "source": [
        "z<-2*w + 4\n",
        "z"
      ],
      "id": "f1b795e3-459a-4a0e-af01-ae34bc6aab3a"
    },
    {
      "cell_type": "markdown",
      "metadata": {},
      "source": [
        "Since w was 5 above, the new value of z is $2(5) + 4 = 14$\n",
        "\n",
        "Usually for variable assignments, the left hand side is just the\n",
        "variable we are setting while the right hand side can be any\n",
        "mathematical expression. We can use about anything on the right hand\n",
        "side during an assignment. Functions, $\\pi$, other variables…"
      ],
      "id": "0d833eb2-22b2-4798-b019-852845b8b8d7"
    },
    {
      "cell_type": "code",
      "execution_count": null,
      "metadata": {},
      "outputs": [
        {
          "output_type": "stream",
          "name": "stdout",
          "text": [
            "[1] 3.741657"
          ]
        }
      ],
      "source": [
        "z<-sqrt(2*w + 4)\n",
        "z"
      ],
      "id": "44d8d2ef-7fd0-4606-b3e8-986e50287779"
    },
    {
      "cell_type": "markdown",
      "metadata": {},
      "source": [
        "Above we are taking the square root of 14, or in symbols $\\sqrt{14}$.\n",
        "\n",
        "Other programming languages use `=` to do variable assignments but R\n",
        "usually uses the “arrow” which is typed as two symbols.\n",
        "\n",
        "First the `<` symbol followed by the `-` symbol. You should say it\n",
        "outloud as “is assigned to be”, so for this:"
      ],
      "id": "cc4eb22b-a7c5-4313-a1ef-9c4e0dc198f0"
    },
    {
      "cell_type": "code",
      "execution_count": null,
      "metadata": {},
      "outputs": [],
      "source": [
        "x<-8"
      ],
      "id": "37634fd6-d043-463d-a10a-cf2d405a0615"
    },
    {
      "cell_type": "markdown",
      "metadata": {},
      "source": [
        "you would say “x is assigned to be 8”."
      ],
      "id": "43f2b2a4-9590-4b57-9e74-17c04a4b710d"
    }
  ],
  "nbformat": 4,
  "nbformat_minor": 5,
  "metadata": {
    "kernelspec": {
      "name": "ir",
      "display_name": "R",
      "language": "R"
    }
  }
}