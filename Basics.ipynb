{
  "cells": [
    {
      "cell_type": "markdown",
      "metadata": {},
      "source": [
        "# Basics\n",
        "\n",
        "-   Create a variable `x` that has value 5"
      ],
      "id": "8bcb0f20-9762-42d7-ba45-0a6f7e9bf3ac"
    },
    {
      "cell_type": "code",
      "execution_count": null,
      "metadata": {},
      "outputs": [],
      "source": [
        "CODE"
      ],
      "id": "4b5c111c-3926-413b-8e20-cf49665f4204"
    },
    {
      "cell_type": "markdown",
      "metadata": {},
      "source": [
        "-   Create a variable `y` that is equal to `12*x`"
      ],
      "id": "627d425e-cb28-4d95-925e-94ae19e5328e"
    },
    {
      "cell_type": "code",
      "execution_count": null,
      "metadata": {},
      "outputs": [],
      "source": [
        "CODE"
      ],
      "id": "d66bf8db-aa6a-4136-812c-d19f217b54ba"
    },
    {
      "cell_type": "markdown",
      "metadata": {},
      "source": [
        "-   Define a character vector `v` that has these strings on it “yes”,\n",
        "    “no”, “maybe”:"
      ],
      "id": "e4432f9e-4fca-458c-9b83-af7150bfeb56"
    },
    {
      "cell_type": "code",
      "execution_count": null,
      "metadata": {},
      "outputs": [],
      "source": [
        "CODE"
      ],
      "id": "0a92b4d5-3e1c-43df-a880-0bacfe02188c"
    },
    {
      "cell_type": "markdown",
      "metadata": {},
      "source": [
        "-   Define a vector variable `q` that has 4,-3,-2,2,3 on it."
      ],
      "id": "e74e75e3-b932-4819-b845-54cf096aa79f"
    },
    {
      "cell_type": "code",
      "execution_count": null,
      "metadata": {},
      "outputs": [],
      "source": [
        "CODE"
      ],
      "id": "9cc86820-1ce0-47eb-90c6-420a51dbc867"
    },
    {
      "cell_type": "markdown",
      "metadata": {},
      "source": [
        "Next create a dataframe for this data:\n",
        "\n",
        "|  name   | major | gpa |  phone   |\n",
        "|:-------:|:-----:|:---:|:--------:|\n",
        "| William |  ITM  | 2.4 | 326 2375 |\n",
        "|  Sandy  |  TDM  | 3.4 | 231 3040 |\n",
        "|  Joan   |  FBM  | 3.1 | 342 3023 |\n",
        "\n",
        "-   create a dataframe for this data"
      ],
      "id": "8e65bda8-116c-4e93-b66f-1d707638533d"
    },
    {
      "cell_type": "code",
      "execution_count": null,
      "metadata": {},
      "outputs": [],
      "source": [
        "name<-CODE\n",
        "major<-CODE\n",
        "gpa<-CODE\n",
        "phone<-CODE\n",
        "df <- data.frame(CODE,CODE,CODE,CODE) "
      ],
      "id": "426a9b8d-b634-4e1a-934c-bab2220a2d6b"
    },
    {
      "cell_type": "markdown",
      "metadata": {},
      "source": [
        "-   Print out the structure of your data frame using `str`"
      ],
      "id": "4a3d8afb-a124-4728-a40f-f45ebf7bc7ef"
    },
    {
      "cell_type": "code",
      "execution_count": null,
      "metadata": {},
      "outputs": [],
      "source": [
        "CODE"
      ],
      "id": "c3777915-5aa6-4356-b99b-9e879197503f"
    },
    {
      "cell_type": "markdown",
      "metadata": {},
      "source": [
        "-   Print out just the phone column using \\$ sign: (Replace CODE below\n",
        "    with the right column name for this."
      ],
      "id": "8f4551fd-77c6-4ed4-bf15-2597f761725e"
    },
    {
      "cell_type": "code",
      "execution_count": null,
      "metadata": {},
      "outputs": [],
      "source": [
        "df$CODE"
      ],
      "id": "ea5d5455-8847-4cb1-8173-1c30c597953e"
    },
    {
      "cell_type": "markdown",
      "metadata": {},
      "source": [
        "-   Now print out the first few lines of the data frame using `head`"
      ],
      "id": "8bca67bd-0786-4149-a36a-2b35ab8d9dbc"
    },
    {
      "cell_type": "code",
      "execution_count": null,
      "metadata": {},
      "outputs": [],
      "source": [
        "CODE"
      ],
      "id": "1a47aef2-99db-4116-9bda-fce6ce098e4b"
    },
    {
      "cell_type": "markdown",
      "metadata": {},
      "source": [
        "-   Use `summary(df)` to print out a summary of the data frame data:"
      ],
      "id": "99e913a1-0de7-4f60-956d-7343ad0a99ea"
    },
    {
      "cell_type": "code",
      "execution_count": null,
      "metadata": {},
      "outputs": [],
      "source": [
        "CODE"
      ],
      "id": "848ef6ea-df35-47cc-be6a-bb2f6bc400b3"
    },
    {
      "cell_type": "markdown",
      "metadata": {},
      "source": [
        "-   Delete the column “gpa” from the data frame:"
      ],
      "id": "1a8e81ff-2fd1-4ef7-83c5-90f332cd2d07"
    },
    {
      "cell_type": "code",
      "execution_count": null,
      "metadata": {},
      "outputs": [],
      "source": [
        "CODE"
      ],
      "id": "b8068eb4-1ac8-4242-8937-3bd49c1b8734"
    },
    {
      "cell_type": "markdown",
      "metadata": {},
      "source": [
        "-   Print out the structure of your data frame showing the column above\n",
        "    removed:"
      ],
      "id": "0aa6fd9b-e2f6-45a8-ba91-2a4872ca99dc"
    },
    {
      "cell_type": "code",
      "execution_count": null,
      "metadata": {},
      "outputs": [],
      "source": [
        "CODE"
      ],
      "id": "1881181d-e95d-4bc6-bf21-f256929a5d06"
    },
    {
      "cell_type": "markdown",
      "metadata": {},
      "source": [
        "Finally add a column called “id” Your data frame will look like this\n",
        "after doing this:\n",
        "\n",
        "|  name   | major |  phone   |  id  |\n",
        "|:-------:|:-----:|:--------:|:----:|\n",
        "| William |  ITM  | 326 2375 | 1001 |\n",
        "|  Sandy  |  TDM  | 231 3040 | 1002 |\n",
        "|  Joan   |  FBM  | 342 3023 | 1003 |\n",
        "\n",
        "-   add a column called “id”"
      ],
      "id": "e4c024bb-69b1-4b43-a538-8327a9e6f40f"
    },
    {
      "cell_type": "code",
      "execution_count": null,
      "metadata": {},
      "outputs": [],
      "source": [
        "df$id <- CODE "
      ],
      "id": "82120dcc-800e-41e1-a2f8-242afebf20f4"
    },
    {
      "cell_type": "markdown",
      "metadata": {},
      "source": [
        "-   Print out the structure of the new data frame using `str`:"
      ],
      "id": "185677e6-39c7-4549-8f55-f6f540d6fe6e"
    },
    {
      "cell_type": "code",
      "execution_count": null,
      "metadata": {},
      "outputs": [],
      "source": [
        "CODE"
      ],
      "id": "8af4e24f-65c0-4576-a19e-dbf98d2fee2c"
    },
    {
      "cell_type": "markdown",
      "metadata": {},
      "source": [
        "-   Change Sandy’s id in the dataframe to be `1004`"
      ],
      "id": "f28231a9-6336-473a-89fa-ba67c0c3e30f"
    },
    {
      "cell_type": "code",
      "execution_count": null,
      "metadata": {},
      "outputs": [],
      "source": [
        "CODE "
      ],
      "id": "8ab4edaa-d939-47db-a973-cf413fbd7b4f"
    },
    {
      "cell_type": "markdown",
      "metadata": {},
      "source": [
        "-   Print out the data frame using `head` to make sure her GPA is\n",
        "    changed:"
      ],
      "id": "c7b54b76-7f4a-4b86-99e8-bdfed5fabcdd"
    },
    {
      "cell_type": "code",
      "execution_count": null,
      "metadata": {},
      "outputs": [],
      "source": [
        "CODE"
      ],
      "id": "903e0554-ea65-40df-adfa-4608a2cc1931"
    }
  ],
  "nbformat": 4,
  "nbformat_minor": 5,
  "metadata": {
    "kernelspec": {
      "name": "ir",
      "display_name": "R",
      "language": "R"
    }
  }
}