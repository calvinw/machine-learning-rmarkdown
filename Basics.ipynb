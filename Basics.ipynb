{
  "cells": [
    {
      "cell_type": "markdown",
      "metadata": {},
      "source": [
        "# Basics\n",
        "\n",
        "-   Create a variable `x` that has value 5"
      ],
      "id": "f462b945-a086-4255-85ba-4517ad4a23cb"
    },
    {
      "cell_type": "code",
      "execution_count": null,
      "metadata": {},
      "outputs": [],
      "source": [
        "CODE"
      ],
      "id": "16591b30-3fe9-467c-b07d-1911e72bb31f"
    },
    {
      "cell_type": "markdown",
      "metadata": {},
      "source": [
        "-   Create a variable `y` that is equal to `12*x`"
      ],
      "id": "7bd5a0fd-fb3d-496a-b92c-d5bc850187c9"
    },
    {
      "cell_type": "code",
      "execution_count": null,
      "metadata": {},
      "outputs": [],
      "source": [
        "CODE"
      ],
      "id": "040262d8-9919-41c6-a9c7-4e553f4f9961"
    },
    {
      "cell_type": "markdown",
      "metadata": {},
      "source": [
        "-   Define a character vector `v` that has these strings on it “yes”,\n",
        "    “no”, “maybe”:"
      ],
      "id": "34ab4297-0988-4dac-a614-fc8cee0b277c"
    },
    {
      "cell_type": "code",
      "execution_count": null,
      "metadata": {},
      "outputs": [],
      "source": [
        "CODE"
      ],
      "id": "ad976caa-3150-46c6-b553-1e2b758b8840"
    },
    {
      "cell_type": "markdown",
      "metadata": {},
      "source": [
        "-   Define a vector variable `q` that has 4,-3,-2,2,3 on it."
      ],
      "id": "02c94dfc-6c07-4b72-af80-629eca12da90"
    },
    {
      "cell_type": "code",
      "execution_count": null,
      "metadata": {},
      "outputs": [],
      "source": [
        "CODE"
      ],
      "id": "ddc15e5e-af82-4f1b-ac8a-9d40a4ad1621"
    },
    {
      "cell_type": "markdown",
      "metadata": {},
      "source": [
        "Next create a dataframe for this data:\n",
        "\n",
        "|  name   | major | gpa |  phone   |\n",
        "|:-------:|:-----:|:---:|:--------:|\n",
        "| William |  ITM  | 2.4 | 326 2375 |\n",
        "|  Sandy  |  TDM  | 3.4 | 231 3040 |\n",
        "|  Joan   |  FBM  | 3.1 | 342 3023 |\n",
        "\n",
        "-   create a dataframe for this data"
      ],
      "id": "6c744b3d-75e0-4b9d-a796-0f026c532e69"
    },
    {
      "cell_type": "code",
      "execution_count": null,
      "metadata": {},
      "outputs": [],
      "source": [
        "name<-CODE\n",
        "major<-CODE\n",
        "gpa<-CODE\n",
        "phone<-CODE\n",
        "df <- data.frame(CODE,CODE,CODE,CODE) "
      ],
      "id": "1ed06bd8-0805-4789-bdfe-e9ef0cf7160f"
    },
    {
      "cell_type": "markdown",
      "metadata": {},
      "source": [
        "-   Print out the structure of your data frame using `str`"
      ],
      "id": "bd83dc15-3cc4-4bab-a069-0d16af904634"
    },
    {
      "cell_type": "code",
      "execution_count": null,
      "metadata": {},
      "outputs": [],
      "source": [
        "CODE"
      ],
      "id": "cf8f6a64-a924-4430-9a24-043c8b951a23"
    },
    {
      "cell_type": "markdown",
      "metadata": {},
      "source": [
        "-   Print out just the phone column using \\$ sign: (Replace CODE below\n",
        "    with the right column name for this."
      ],
      "id": "ce0deda5-279f-44f2-a8c5-c651d1be2768"
    },
    {
      "cell_type": "code",
      "execution_count": null,
      "metadata": {},
      "outputs": [],
      "source": [
        "df$CODE"
      ],
      "id": "a9f2dffe-526a-4893-bba4-0b0e1b1bf9d4"
    },
    {
      "cell_type": "markdown",
      "metadata": {},
      "source": [
        "-   Now print out the first few lines of the data frame using `head`"
      ],
      "id": "50f8bf11-f103-4737-b612-ac6b320465bd"
    },
    {
      "cell_type": "code",
      "execution_count": null,
      "metadata": {},
      "outputs": [],
      "source": [
        "CODE"
      ],
      "id": "53cc594a-c818-438d-b5e8-1ec855efd686"
    },
    {
      "cell_type": "markdown",
      "metadata": {},
      "source": [
        "-   Use `summary(df)` to print out a summary of the data frame data:"
      ],
      "id": "d105a7e9-efc0-46c3-95fa-4ccac9c66ddd"
    },
    {
      "cell_type": "code",
      "execution_count": null,
      "metadata": {},
      "outputs": [],
      "source": [
        "CODE"
      ],
      "id": "ba32cd4f-eed7-49af-9e30-6063aef71fe4"
    },
    {
      "cell_type": "markdown",
      "metadata": {},
      "source": [
        "-   Delete the column “gpa” from the data frame:"
      ],
      "id": "9cd8b757-6a41-4919-9faa-3c40d7e1a103"
    },
    {
      "cell_type": "code",
      "execution_count": null,
      "metadata": {},
      "outputs": [],
      "source": [
        "CODE"
      ],
      "id": "40087092-a20f-440b-98e1-b180c4485af8"
    },
    {
      "cell_type": "markdown",
      "metadata": {},
      "source": [
        "-   Print out the structure of your data frame showing the column above\n",
        "    removed:"
      ],
      "id": "14c19d3e-9404-492a-b933-0fd7bc676cc2"
    },
    {
      "cell_type": "code",
      "execution_count": null,
      "metadata": {},
      "outputs": [],
      "source": [
        "CODE"
      ],
      "id": "510e5a2f-edc1-4d29-8aa0-a4910cd4a712"
    },
    {
      "cell_type": "markdown",
      "metadata": {},
      "source": [
        "Finally add a column called “id” Your data frame will look like this\n",
        "after doing this:\n",
        "\n",
        "|  name   | major |  phone   |  id  |\n",
        "|:-------:|:-----:|:--------:|:----:|\n",
        "| William |  ITM  | 326 2375 | 1001 |\n",
        "|  Sandy  |  TDM  | 231 3040 | 1002 |\n",
        "|  Joan   |  FBM  | 342 3023 | 1003 |\n",
        "\n",
        "-   add a column called “id”"
      ],
      "id": "ad59b93b-bd16-4b03-806d-b2219936343b"
    },
    {
      "cell_type": "code",
      "execution_count": null,
      "metadata": {},
      "outputs": [],
      "source": [
        "df$id <- CODE "
      ],
      "id": "090c21bf-297e-467a-860f-c1c7f3a2ebc6"
    },
    {
      "cell_type": "markdown",
      "metadata": {},
      "source": [
        "-   Print out the structure of the new data frame using `str`:"
      ],
      "id": "6c2b5bce-c69e-490a-885e-29b9cf293ba8"
    },
    {
      "cell_type": "code",
      "execution_count": null,
      "metadata": {},
      "outputs": [],
      "source": [
        "CODE"
      ],
      "id": "5d21e86b-ee64-462d-a449-6b1cc9d1805f"
    },
    {
      "cell_type": "markdown",
      "metadata": {},
      "source": [
        "-   Change Sandy’s id in the dataframe to be `1004`"
      ],
      "id": "a1dc54cb-c437-4040-824b-224ad66100f9"
    },
    {
      "cell_type": "code",
      "execution_count": null,
      "metadata": {},
      "outputs": [],
      "source": [
        "CODE "
      ],
      "id": "3703f398-d31e-4c60-9d2d-3fa8af5dd91e"
    },
    {
      "cell_type": "markdown",
      "metadata": {},
      "source": [
        "-   Print out the data frame using `head` to make sure her GPA is\n",
        "    changed:"
      ],
      "id": "d4658173-b4cf-403e-af88-1b6a45e08f53"
    },
    {
      "cell_type": "code",
      "execution_count": null,
      "metadata": {},
      "outputs": [],
      "source": [
        "CODE"
      ],
      "id": "8d818fe6-8ffb-4793-b000-1853058fe00d"
    }
  ],
  "nbformat": 4,
  "nbformat_minor": 5,
  "metadata": {
    "kernelspec": {
      "name": "ir",
      "display_name": "R",
      "language": "R"
    }
  }
}