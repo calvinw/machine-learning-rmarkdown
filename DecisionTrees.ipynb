{
 "cells": [
  {
   "cell_type": "code",
   "execution_count": null,
   "metadata": {},
   "outputs": [],
   "source": [
    "options(\"scipen\"=100, \"digits\"=4)\n",
    "\n",
    "if(!require(\"rpart\")) install.packages(\"rpart\")\n",
    "if(!require(\"rpart.plot\")) install.packages(\"rpart.plot\")\n",
    "if(!require(\"Metrics\")) install.packages(\"Metrics\")\n",
    "\n",
    "library(\"knitr\")\n",
    "library(\"rpart\")\n",
    "library(\"rpart.plot\")\n",
    "library(\"Metrics\")"
   ]
  },
  {
   "cell_type": "markdown",
   "metadata": {},
   "source": [
    "Building the Decision Tree\n",
    "--------------------------"
   ]
  },
  {
   "cell_type": "code",
   "execution_count": null,
   "metadata": {},
   "outputs": [],
   "source": [
    "url<- \"https://docs.google.com/spreadsheets/d/e/2PACX-1vTFmRX4RW3PitgcJya0X2sRbSiD0J2t0oYewyhkkyWwR9i8NIaHiuQKrBtLlrwG9fzn4MvNOM92olnK/pub?gid=0&single=true&output=csv\"\n",
    "df<-read.csv(url, stringsAsFactor=TRUE)"
   ]
  },
  {
   "cell_type": "code",
   "execution_count": null,
   "metadata": {},
   "outputs": [],
   "source": [
    "str(df)\n",
    "print(df)\n",
    "library(knitr)"
   ]
  },
  {
   "cell_type": "code",
   "execution_count": null,
   "metadata": {},
   "outputs": [],
   "source": [
    "control = rpart.control(minsplit=1, maxdepth=1)\n",
    "model <- rpart(product~gender, data=df, method=\"class\", control = control)\n",
    "rpart.plot(model, type=4, extra = 1, digits=-2)"
   ]
  },
  {
   "cell_type": "code",
   "execution_count": null,
   "metadata": {},
   "outputs": [],
   "source": [
    "control = rpart.control(minsplit=1,maxdepth=1,cp=-1)\n",
    "model <- rpart(product~age, data=df, method=\"class\", control = control)\n",
    "rpart.plot(model, type=4, extra = 1, digits=-2)"
   ]
  },
  {
   "cell_type": "code",
   "execution_count": null,
   "metadata": {},
   "outputs": [],
   "source": [
    "control = rpart.control(minsplit=1, maxdepth=3,cp=-1)\n",
    "model <- rpart(product~age+gender, data=df, method=\"class\", control=control)\n",
    "rpart.plot(model, type=4, extra = 1, digits=-2)"
   ]
  },
  {
   "cell_type": "code",
   "execution_count": null,
   "metadata": {},
   "outputs": [],
   "source": [
    "url2<- \"https://docs.google.com/spreadsheets/d/e/2PACX-1vTFmRX4RW3PitgcJya0X2sRbSiD0J2t0oYewyhkkyWwR9i8NIaHiuQKrBtLlrwG9fzn4MvNOM92olnK/pub?gid=121756806&single=true&output=csv\"\n",
    "df2<-read.csv(url2, stringsAsFactor=TRUE)\n",
    "str(df2)"
   ]
  },
  {
   "cell_type": "code",
   "execution_count": null,
   "metadata": {},
   "outputs": [],
   "source": [
    "control = rpart.control(minsplit=1,maxdepth=1)\n",
    "model <- rpart(product~age, data=df2, method=\"class\", control = control)\n",
    "rpart.plot(model, type=4, extra = 1, digits=-2)"
   ]
  },
  {
   "cell_type": "code",
   "execution_count": null,
   "metadata": {},
   "outputs": [],
   "source": [
    "knitr::knit_exit()"
   ]
  }
 ],
 "nbformat": 4,
 "nbformat_minor": 5,
 "metadata": {
  "kernelspec": {
   "name": "ir",
   "display_name": "R",
   "language": "R"
  }
 }
}
