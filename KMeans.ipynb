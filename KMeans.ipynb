{
  "cells": [
    {
      "cell_type": "markdown",
      "metadata": {},
      "source": [
        "# KMeans"
      ],
      "id": "fd1417b6-3f1f-4d4b-a0cc-5220009e3198"
    },
    {
      "cell_type": "code",
      "execution_count": null,
      "metadata": {},
      "outputs": [],
      "source": [
        "options(\"scipen\"=100, \"digits\"=4)\n",
        "if(!require(\"readr\")) install.packages(\"readr\")\n",
        "if(!require(\"Metrics\")) install.packages(\"Metrics\")\n",
        "library(\"Metrics\")\n",
        "library(\"readr\")"
      ],
      "id": "178c0dbf-d879-4dc4-aae3-0adf9cbd042f"
    },
    {
      "cell_type": "markdown",
      "metadata": {},
      "source": [
        "This simple example is taken from [KMeans\n",
        "Clustering](https://www.guru99.com/r-k-means-clustering.html)\n",
        "\n",
        "Suppose we have the age of some customers and the amount they spent on\n",
        "an online retail website for a month. Can we get an idea of what kinds\n",
        "of groups we have here? We would like to cluster the data in some way."
      ],
      "id": "d0d9d7fd-50da-4b23-8fe5-88ac10ec70e1"
    },
    {
      "cell_type": "code",
      "execution_count": null,
      "metadata": {},
      "outputs": [
        {
          "output_type": "display_data",
          "metadata": {},
          "data": {
            "image/png": "[encoded data removed]"
          }
        }
      ],
      "source": [
        "age = c(18, 21, 22, 24, 26, 26, 27, 30, 31, 35, 39, 40, 41, 42, 44, 46, 47, 48, 49, 54)\n",
        "spent= c(10, 11, 22, 15, 12, 13, 14, 33, 39, 37, 44, 27, 29, 20, 28, 21, 30, 31, 23, 24)\n",
        "plot(age, spent, pch=19)"
      ],
      "id": "55ea104d-3b3a-4112-8a35-b6e72c2d6fbd"
    },
    {
      "cell_type": "markdown",
      "metadata": {},
      "source": [
        "It looks like maybe there are 2 or 3 clusters.\n",
        "\n",
        "Lets create a dataframe with this data:"
      ],
      "id": "b25eef09-c9ff-4268-b9a3-b019996668ee"
    },
    {
      "cell_type": "code",
      "execution_count": null,
      "metadata": {},
      "outputs": [
        {
          "output_type": "stream",
          "name": "stdout",
          "text": [
            "'data.frame':   20 obs. of  2 variables:\n",
            " $ age  : num  18 21 22 24 26 26 27 30 31 35 ...\n",
            " $ spent: num  10 11 22 15 12 13 14 33 39 37 ..."
          ]
        }
      ],
      "source": [
        "df <- data.frame(age = age, spent=spent)\n",
        "str(df)"
      ],
      "id": "4a92f259-a08d-4b9c-b91f-ad839cf8730a"
    },
    {
      "cell_type": "markdown",
      "metadata": {},
      "source": [
        "Lets print out a little of the dataframe:"
      ],
      "id": "373d107f-417b-4877-97b9-131998c2a26c"
    },
    {
      "cell_type": "code",
      "execution_count": null,
      "metadata": {},
      "outputs": [
        {
          "output_type": "stream",
          "name": "stdout",
          "text": [
            "  age spent\n",
            "1  18    10\n",
            "2  21    11\n",
            "3  22    22\n",
            "4  24    15\n",
            "5  26    12\n",
            "6  26    13"
          ]
        }
      ],
      "source": [
        "head(df)"
      ],
      "id": "9b8402d4-c79b-4904-a828-61118220acc9"
    },
    {
      "cell_type": "markdown",
      "metadata": {},
      "source": [
        "Now lets go ahead and use `kmeans` with K=2 and see what it finds."
      ],
      "id": "cddf929c-6eb4-40f2-97c7-d0b0fc6d080f"
    },
    {
      "cell_type": "code",
      "execution_count": null,
      "metadata": {},
      "outputs": [],
      "source": [
        "set.seed(2)\n",
        "model<-kmeans(df,2, nstart=20)"
      ],
      "id": "5f9d578c-4b0a-424d-a537-d9aead7fe258"
    },
    {
      "cell_type": "markdown",
      "metadata": {},
      "source": [
        "Lets show each point according to the cluster it has been added to and\n",
        "also add the centers in blue."
      ],
      "id": "c7f0ccce-fe4a-4135-870e-9c3673192dc7"
    },
    {
      "cell_type": "code",
      "execution_count": null,
      "metadata": {},
      "outputs": [
        {
          "output_type": "display_data",
          "metadata": {},
          "data": {
            "image/png": "[encoded data removed]"
          }
        }
      ],
      "source": [
        "plot(age, spent, col=model$cluster, pch=19)\n",
        "points(model$centers, pch=19, col=\"blue\")"
      ],
      "id": "1f25fc99-9eac-4a6f-a28b-cd0645104aab"
    },
    {
      "cell_type": "markdown",
      "metadata": {},
      "source": [
        "Now we add a column to the dataframe `df` to show which cluster each of\n",
        "the points in the data set belong to:"
      ],
      "id": "f149f830-7a1e-452e-ae36-1445e2b13ca9"
    },
    {
      "cell_type": "code",
      "execution_count": null,
      "metadata": {},
      "outputs": [
        {
          "output_type": "stream",
          "name": "stdout",
          "text": [
            "   age spent cluster\n",
            "1   18    10       2\n",
            "2   21    11       2\n",
            "3   22    22       2\n",
            "4   24    15       2\n",
            "5   26    12       2\n",
            "6   26    13       2\n",
            "7   27    14       2\n",
            "8   30    33       1\n",
            "9   31    39       1\n",
            "10  35    37       1\n",
            "11  39    44       1\n",
            "12  40    27       1\n",
            "13  41    29       1\n",
            "14  42    20       1\n",
            "15  44    28       1\n",
            "16  46    21       1\n",
            "17  47    30       1\n",
            "18  48    31       1\n",
            "19  49    23       1\n",
            "20  54    24       1"
          ]
        }
      ],
      "source": [
        "df$cluster <- model$cluster\n",
        "print(df)"
      ],
      "id": "5933526c-0495-4498-b5b1-59634b1b2e66"
    },
    {
      "cell_type": "markdown",
      "metadata": {},
      "source": [
        "The cluster column is either 1 or 2 depending on which cluster the\n",
        "algorithm assigned the data point.\n",
        "\n",
        "What about if we wanted to try 3 clusters. Lets run `kmeans` again with\n",
        "K=3:"
      ],
      "id": "770bdf53-80b8-4494-b126-8db392bc711a"
    },
    {
      "cell_type": "code",
      "execution_count": null,
      "metadata": {},
      "outputs": [],
      "source": [
        "set.seed(3)\n",
        "model<-kmeans(df,3, nstart=20)"
      ],
      "id": "35b60cdb-57a0-47a0-83f6-7fdf1365fd19"
    },
    {
      "cell_type": "markdown",
      "metadata": {},
      "source": [
        "Lets show each point according to the cluster it has been added to and\n",
        "also add the centers in blue."
      ],
      "id": "ac0b0ba9-383d-4699-b614-f4f0349edbb2"
    },
    {
      "cell_type": "code",
      "execution_count": null,
      "metadata": {},
      "outputs": [
        {
          "output_type": "display_data",
          "metadata": {},
          "data": {
            "image/png": "[encoded data removed]"
          }
        }
      ],
      "source": [
        "plot(age, spent, col=model$cluster, pch=19)\n",
        "points(model$centers, pch=19, col=\"blue\")"
      ],
      "id": "5e5dd983-a29c-4146-83bf-2fd672a35df1"
    },
    {
      "cell_type": "markdown",
      "metadata": {},
      "source": [
        "Now we set the column `cluster` to show the current cluster:"
      ],
      "id": "5b01fdff-efbd-4c81-8021-9c8550741451"
    },
    {
      "cell_type": "code",
      "execution_count": null,
      "metadata": {},
      "outputs": [
        {
          "output_type": "stream",
          "name": "stdout",
          "text": [
            "   age spent cluster\n",
            "1   18    10       1\n",
            "2   21    11       1\n",
            "3   22    22       1\n",
            "4   24    15       1\n",
            "5   26    12       1\n",
            "6   26    13       1\n",
            "7   27    14       1\n",
            "8   30    33       2\n",
            "9   31    39       2\n",
            "10  35    37       2\n",
            "11  39    44       2\n",
            "12  40    27       3\n",
            "13  41    29       3\n",
            "14  42    20       3\n",
            "15  44    28       3\n",
            "16  46    21       3\n",
            "17  47    30       3\n",
            "18  48    31       3\n",
            "19  49    23       3\n",
            "20  54    24       3"
          ]
        }
      ],
      "source": [
        "df$cluster <- model$cluster\n",
        "print(df)"
      ],
      "id": "b6c306a4-0a9e-4de5-b934-0edc2a8714bb"
    },
    {
      "cell_type": "markdown",
      "metadata": {},
      "source": [
        "With 3 groups of customers we found these three groups:\n",
        "\n",
        "1.  Those that are younger and spend less\n",
        "2.  Those that are middle age and spend more\n",
        "3.  Those that are older age and spend midrange between more and less"
      ],
      "id": "85967a43-1022-48b5-b4c1-41c59104d032"
    }
  ],
  "nbformat": 4,
  "nbformat_minor": 5,
  "metadata": {
    "kernelspec": {
      "name": "ir",
      "display_name": "R",
      "language": "R"
    }
  }
}