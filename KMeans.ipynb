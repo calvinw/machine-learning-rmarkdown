{
 "cells": [
  {
   "cell_type": "markdown",
   "metadata": {},
   "source": [
    "This simple example is taken from here: [KMeans\n",
    "Clustering](https://www.guru99.com/r-k-means-clustering.html)\n",
    "\n",
    "Suppose we have the age of some customers and the amount they spent on\n",
    "an online retail website for a month. Can we get an idea of what kinds\n",
    "of groups we have here? We would like to cluster the data in some way."
   ]
  },
  {
   "cell_type": "code",
   "execution_count": null,
   "metadata": {},
   "outputs": [],
   "source": [
    "age = c(18, 21, 22, 24, 26, 26, 27, 30, 31, 35, 39, 40, 41, 42, 44, 46, 47, 48, 49, 54)\n",
    "spent= c(10, 11, 22, 15, 12, 13, 14, 33, 39, 37, 44, 27, 29, 20, 28, 21, 30, 31, 23, 24)"
   ]
  },
  {
   "cell_type": "markdown",
   "metadata": {},
   "source": [
    "Lets create a dataframe with this data and print out some info on the\n",
    "dataframe:"
   ]
  },
  {
   "cell_type": "code",
   "execution_count": null,
   "metadata": {},
   "outputs": [],
   "source": [
    "df <- data.frame(age = age, spent=spent)\n",
    "str(df)\n",
    "summary(df)\n",
    "head(df, 10)"
   ]
  },
  {
   "cell_type": "markdown",
   "metadata": {},
   "source": [
    "Plot the data:"
   ]
  },
  {
   "cell_type": "code",
   "execution_count": null,
   "metadata": {},
   "outputs": [],
   "source": [
    "plot(age, spent, pch=19)"
   ]
  },
  {
   "cell_type": "code",
   "execution_count": null,
   "metadata": {},
   "outputs": [],
   "source": [
    "set.seed(3)\n",
    "clusters<-kmeans(df,3)"
   ]
  },
  {
   "cell_type": "code",
   "execution_count": null,
   "metadata": {},
   "outputs": [],
   "source": [
    "clusterdf <- data.frame(age = age, spent=spent, cluster=clusters$cluster)"
   ]
  },
  {
   "cell_type": "code",
   "execution_count": null,
   "metadata": {},
   "outputs": [],
   "source": [
    "plot(age, spent, col=clusterdf$cluster, pch=19)"
   ]
  },
  {
   "cell_type": "markdown",
   "metadata": {},
   "source": [
    "TODO… finish details of this example. Discuss why this solution seems\n",
    "odd. Visually there appears to be some obvious clusters you would\n",
    "identify by eyeballing it. But this run did not pick those out. You need\n",
    "to run this several times… using something like`nstart=20` to be sure\n",
    "KMeans is not finding an oddball solution.\n",
    "\n",
    "Also show coloring the graph with the different groups and also showing\n",
    "the centroids.\n",
    "\n",
    "Basically there are 3 groups of customers:\n",
    "\n",
    "1.  Those that are younger and spend less\n",
    "2.  Those that are middle age and spend more\n",
    "3.  Those that are older age and spend less"
   ]
  }
 ],
 "nbformat": 4,
 "nbformat_minor": 5,
 "metadata": {
  "kernelspec": {
   "name": "ir",
   "display_name": "R",
   "language": "R"
  }
 }
}

