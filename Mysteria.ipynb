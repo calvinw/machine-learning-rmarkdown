{
  "cells": [
    {
      "cell_type": "markdown",
      "metadata": {},
      "source": [
        "# Mysteria\n",
        "\n",
        "A small cosmetics company Mysteria believes sales (in thousands of\n",
        "dollars) at its stores is affected by advertising expenditures and by\n",
        "the population size of the vicinity of the area. They collect data for 6\n",
        "stores and get the following:\n",
        "\n",
        "| Adv Expenditures (\\$ thousands) | Pop Size (millions) | Sales(\\$ thousands) |\n",
        "|-------------------------------|----------------------|--------------------|\n",
        "| 50                              | 5                   | 350                 |\n",
        "| 55                              | 4                   | 400                 |\n",
        "| 100                             | 8                   | 500                 |\n",
        "| 30                              | 1.5                 | 300                 |\n",
        "| 25                              | 3.5                 | 350                 |\n",
        "| 60                              | 1                   | 400                 |\n",
        "\n",
        "Create a dataframe for this data, which shows the advertising\n",
        "expenditures for stores and their sales together with the population\n",
        "size for the stores locations.\n",
        "\n",
        "Then run a multiple regression analyis for predicting Sales from\n",
        "Advertising Expenditures and Population Size for some stores.\n",
        "\n",
        "Using your chosen model, predict the value of sales if the advertising\n",
        "expenditure is \\$40,000 and the population is 2 million. Also if the\n",
        "advertising expenditure is \\$30,000 and the population is 1.6 million.\n",
        "\n",
        "-   create 3 vectors called `ads`, `pop`, and `sales` to hold data above\n",
        "-   create a dataframe called `df`, using the vectors above"
      ],
      "id": "a79c1a7d-3b0c-4a82-b162-f463f41b3137"
    },
    {
      "cell_type": "code",
      "execution_count": null,
      "metadata": {},
      "outputs": [],
      "source": [
        "ads<-c(50,55,100,30,25,60)\n",
        "pop<-c(5,4,8,1.5,3.5,1)\n",
        "sales<-c(350,400,500,300,350,400)\n",
        "\n",
        "df<-data.frame(ads, pop, sales)"
      ],
      "id": "f64740c5-d1b4-40a0-a2aa-f2afa87d2aec"
    },
    {
      "cell_type": "markdown",
      "metadata": {},
      "source": [
        "-   print out the data frame above using `str`"
      ],
      "id": "adf76fa4-71e7-45c3-a1fa-0af96309e987"
    },
    {
      "cell_type": "code",
      "execution_count": null,
      "metadata": {},
      "outputs": [
        {
          "output_type": "stream",
          "name": "stdout",
          "text": [
            "'data.frame':   6 obs. of  3 variables:\n",
            " $ ads  : num  50 55 100 30 25 60\n",
            " $ pop  : num  5 4 8 1.5 3.5 1\n",
            " $ sales: num  350 400 500 300 350 400"
          ]
        }
      ],
      "source": [
        "str(df)"
      ],
      "id": "50f1595e-f785-4f41-afcc-7a49bd33ca3c"
    },
    {
      "cell_type": "markdown",
      "metadata": {},
      "source": [
        "Lets look at the correlation coefficient R for correlation between ads\n",
        "and sales\n",
        "\n",
        "-   assign a variable called `R` to be the output of the `cor` function\n",
        "    using `df$ads` as x and `df$sales` as y\n",
        "-   print out the value of `R`"
      ],
      "id": "037488e8-7d77-49da-93b0-e5cea6e810aa"
    },
    {
      "cell_type": "code",
      "execution_count": null,
      "metadata": {},
      "outputs": [
        {
          "output_type": "stream",
          "name": "stdout",
          "text": [
            "[1] 0.9386939"
          ]
        }
      ],
      "source": [
        "R <- cor(df$ads, df$sales)\n",
        "R"
      ],
      "id": "ea27c232-bc7e-4847-bafb-07452a25d41b"
    },
    {
      "cell_type": "markdown",
      "metadata": {},
      "source": [
        "Lets take a look at the scatterplot for ads and sales:\n",
        "\n",
        "-   use `plot` to examine the scatterplot for ads and sales"
      ],
      "id": "5687fe1b-0d77-48be-a349-78fe833500a7"
    },
    {
      "cell_type": "code",
      "execution_count": null,
      "metadata": {},
      "outputs": [
        {
          "output_type": "display_data",
          "metadata": {},
          "data": {
            "image/png": "[encoded data removed]"
          }
        }
      ],
      "source": [
        "plot(df$ads,df$sales)"
      ],
      "id": "23e62ea4-d151-4d87-ab4f-a90273d83105"
    },
    {
      "cell_type": "markdown",
      "metadata": {},
      "source": [
        "Fix the plot to have some titles and labels for the axes, and filled\n",
        "circles:\n",
        "\n",
        "-   Call `plot` as above but pass `main=\"Ads and Sales`, `xlab=\"Ads\"`,\n",
        "    `ylab=\"Sales\"` and `pch=19` as arguments."
      ],
      "id": "16a1d3ec-f312-4323-9482-685ecf066dd8"
    },
    {
      "cell_type": "code",
      "execution_count": null,
      "metadata": {},
      "outputs": [
        {
          "output_type": "display_data",
          "metadata": {},
          "data": {
            "image/png": "[encoded data removed]"
          }
        }
      ],
      "source": [
        "plot(df$ads,df$sales, \n",
        "     main=\"Ads and Sales\", \n",
        "     xlab=\"Ads\", \n",
        "     ylab=\"Sales\", \n",
        "     pch=19)"
      ],
      "id": "ec2a6b41-689b-4cb4-be9f-79e7bc2f3d9a"
    },
    {
      "cell_type": "markdown",
      "metadata": {},
      "source": [
        "Lets take a look at the correlation and a scatterplot for pop and sales:\n",
        "\n",
        "-   assign a variable called `R` to be the output of the `cor` function\n",
        "    using `df$pop` as x and `df$sales` as y\n",
        "-   print out the value of `R`"
      ],
      "id": "aabbc301-2092-41df-bf27-7f0f6954573a"
    },
    {
      "cell_type": "code",
      "execution_count": null,
      "metadata": {},
      "outputs": [
        {
          "output_type": "stream",
          "name": "stdout",
          "text": [
            "[1] 0.7003707"
          ]
        }
      ],
      "source": [
        "R <- cor(df$pop, df$sales)\n",
        "R"
      ],
      "id": "bd320de0-0518-4195-a603-7ac563c097cd"
    },
    {
      "cell_type": "markdown",
      "metadata": {},
      "source": [
        "-   use `plot` to examine the scatterplot for pop and sales. Use a title\n",
        "    and labels for the axes like above"
      ],
      "id": "6d9a4b64-80c3-43ef-bcc7-ab4b9325a0ea"
    },
    {
      "cell_type": "code",
      "execution_count": null,
      "metadata": {},
      "outputs": [
        {
          "output_type": "display_data",
          "metadata": {},
          "data": {
            "image/png": "[encoded data removed]"
          }
        }
      ],
      "source": [
        "plot(df$pop,df$sales, \n",
        "     main=\"Population and Sales\", \n",
        "     xlab=\"Population\", \n",
        "     ylab=\"Sales\", \n",
        "     pch=19)"
      ],
      "id": "d812859b-3e6d-4abc-b1fe-bb1b627017ee"
    },
    {
      "cell_type": "markdown",
      "metadata": {},
      "source": [
        "The following shows the correlation matrix for `df`:\n",
        "\n",
        "-   use `cor(df)` to show the correlation matrix:"
      ],
      "id": "d1308940-5c14-4828-8450-94e8731ae903"
    },
    {
      "cell_type": "code",
      "execution_count": null,
      "metadata": {},
      "outputs": [
        {
          "output_type": "stream",
          "name": "stdout",
          "text": [
            "            ads       pop     sales\n",
            "ads   1.0000000 0.6928454 0.9386939\n",
            "pop   0.6928454 1.0000000 0.7003707\n",
            "sales 0.9386939 0.7003707 1.0000000"
          ]
        }
      ],
      "source": [
        "cor(df)"
      ],
      "id": "4397d1ac-13ca-4eab-bd87-e650b3317811"
    },
    {
      "cell_type": "markdown",
      "metadata": {},
      "source": [
        "Fill in the ??? below with the right value:\n",
        "\n",
        "-   what is the correlation between `ads` and `sales`: ???\n",
        "-   what is the correlation between `pop` and `sales`: ???\n",
        "-   what is the correlation between `ads` and `pop`: ???\n",
        "\n",
        "Now show the scatterplots for `df`:\n",
        "\n",
        "-   use `plot(df,upper.panel=NULL, pch=19)` to show the scatterplots of\n",
        "    the variables"
      ],
      "id": "ee5f03aa-57d4-48a7-ab7f-71a0ad9266d2"
    },
    {
      "cell_type": "code",
      "execution_count": null,
      "metadata": {},
      "outputs": [
        {
          "output_type": "display_data",
          "metadata": {},
          "data": {
            "image/png": "[encoded data removed]"
          }
        }
      ],
      "source": [
        "plot(df, upper.panel = NULL, pch = 19)"
      ],
      "id": "fc4901f2-452e-4d75-82d6-e52ff01ae218"
    },
    {
      "cell_type": "markdown",
      "metadata": {},
      "source": [
        "We can see that there is a fair amount of correlation between ads and\n",
        "population. This could affect which is the best model.\n",
        "\n",
        "-   set up a regression model using `ads` and `pop` to predict `sales`\n",
        "-   print out the info for the model using `summary(model)`"
      ],
      "id": "9f78f90f-1231-4816-a235-790eec082a7f"
    },
    {
      "cell_type": "code",
      "execution_count": null,
      "metadata": {},
      "outputs": [
        {
          "output_type": "stream",
          "name": "stdout",
          "text": [
            "\n",
            "Call:\n",
            "lm(formula = sales ~ ads + pop, data = df)\n",
            "\n",
            "Residuals:\n",
            "      1       2       3       4       5       6 \n",
            "-28.929  12.527   2.054 -25.381  30.579   9.150 \n",
            "\n",
            "Coefficients:\n",
            "            Estimate Std. Error t value Pr(>|t|)   \n",
            "(Intercept)  254.746     29.282   8.700   0.0032 **\n",
            "ads            2.225      0.690   3.225   0.0484 * \n",
            "pop            2.583      7.264   0.356   0.7456   \n",
            "---\n",
            "Signif. codes:  0 '***' 0.001 '**' 0.01 '*' 0.05 '.' 0.1 ' ' 1\n",
            "\n",
            "Residual standard error: 29.78 on 3 degrees of freedom\n",
            "Multiple R-squared:  0.886, Adjusted R-squared:  0.8099 \n",
            "F-statistic: 11.65 on 2 and 3 DF,  p-value: 0.03851"
          ]
        }
      ],
      "source": [
        "model <- lm(sales ~ ads + pop, data=df)\n",
        "summary(model)"
      ],
      "id": "364fc421-ceef-4264-a1fa-9b822f7b6096"
    },
    {
      "cell_type": "markdown",
      "metadata": {},
      "source": [
        "Fill in the ??? below with the right value:\n",
        "\n",
        "**Test for overall significant:**\n",
        "\n",
        "overall p = ???\n",
        "\n",
        "**Ads**\n",
        "\n",
        "p-value for ads = ???\n",
        "\n",
        "**Pop**\n",
        "\n",
        "p-value for pop = ???\n",
        "\n",
        "We can see that population is not significant in this model. So we\n",
        "exclude it and run the regression again using only sales and ads. Part\n",
        "of the problem here is that ads and population have some collinearity."
      ],
      "id": "7dcd2649-9948-41bc-850e-af7c4e95962c"
    },
    {
      "cell_type": "code",
      "execution_count": null,
      "metadata": {},
      "outputs": [
        {
          "output_type": "stream",
          "name": "stdout",
          "text": [
            "\n",
            "Call:\n",
            "lm(formula = sales ~ ads, data = df)\n",
            "\n",
            "Residuals:\n",
            "       1        2        3        4        5        6 \n",
            "-25.3488  12.6744   4.8837 -27.4419  34.5349   0.6977 \n",
            "\n",
            "Coefficients:\n",
            "            Estimate Std. Error t value Pr(>|t|)    \n",
            "(Intercept) 255.5814    25.8051   9.904 0.000583 ***\n",
            "ads           2.3953     0.4399   5.446 0.005522 ** \n",
            "---\n",
            "Signif. codes:  0 '***' 0.001 '**' 0.01 '*' 0.05 '.' 0.1 ' ' 1\n",
            "\n",
            "Residual standard error: 26.33 on 4 degrees of freedom\n",
            "Multiple R-squared:  0.8811,    Adjusted R-squared:  0.8514 \n",
            "F-statistic: 29.65 on 1 and 4 DF,  p-value: 0.005522"
          ]
        }
      ],
      "source": [
        "modelAds = lm(sales ~ ads, data=df)\n",
        "summary(modelAds)"
      ],
      "id": "f3d74839-24bf-467a-b28d-e6c180625cae"
    },
    {
      "cell_type": "markdown",
      "metadata": {},
      "source": [
        "Fill in the ??? below with the right value:\n",
        "\n",
        "**Test for overall significant:**\n",
        "\n",
        "overall p = ???\n",
        "\n",
        "**The regression equation is this:**\n",
        "\n",
        "sales =???(ads) + ???\n",
        "\n",
        "**The standard error is:**\n",
        "\n",
        "std error = ???\n",
        "\n",
        "Using your chosen model, predict the value of sales as follows.\n",
        "\n",
        "Make predictions when:\n",
        "\n",
        "-   spending is \\$40,000 on ads and a population of 2.0 million\n",
        "-   spending is \\$35,000 on ads and a population of 1.6 million\n",
        "-   spending is \\$50,000 on ads and a population of 3.6 million\n",
        "\n",
        "To do this:\n",
        "\n",
        "-   assign a vector `ads` to hold the predictors above\n",
        "-   create a dataframe called `predictors` using the `ads` vector  \n",
        "-   print out the `predictors` dataframe"
      ],
      "id": "791395fa-f3cd-42b2-9f10-d1ce352b1599"
    },
    {
      "cell_type": "code",
      "execution_count": null,
      "metadata": {},
      "outputs": [
        {
          "output_type": "stream",
          "name": "stdout",
          "text": [
            "  ads\n",
            "1  40\n",
            "2  35\n",
            "3  50"
          ]
        }
      ],
      "source": [
        "ads<-c(40,35,50)\n",
        "predictors <- data.frame(ads)\n",
        "predictors"
      ],
      "id": "1a612de4-1d1a-4261-9cad-422eb49f9937"
    },
    {
      "cell_type": "markdown",
      "metadata": {},
      "source": [
        "Now lets do the predictions:\n",
        "\n",
        "-   make predictions using the `predict` function passing in the\n",
        "    `modelAds` and the `predictors` dataframe you just made\n",
        "-   print out the `predictions`"
      ],
      "id": "a6dc7a63-ca0f-4c93-9e5b-a02da09a8a02"
    },
    {
      "cell_type": "code",
      "execution_count": null,
      "metadata": {},
      "outputs": [
        {
          "output_type": "stream",
          "name": "stdout",
          "text": [
            "       1        2        3 \n",
            "351.3953 339.4186 375.3488 "
          ]
        }
      ],
      "source": [
        "predictions<-predict(modelAds, predictors)\n",
        "predictions"
      ],
      "id": "73806628-7b7f-402c-a31e-bf26385f4bcf"
    },
    {
      "cell_type": "markdown",
      "metadata": {},
      "source": [
        "Fill in the correct answers below:\n",
        "\n",
        "-   Prediction when `ads` is \\$40,000: ???\n",
        "-   Prediction when `ads` is \\$35,000: ???\n",
        "-   Prediction when `ads` is \\$50,000: ???\n",
        "\n",
        "Can you do the regression analysis for `pop` and `sales`, just for\n",
        "comparision? What do you get?"
      ],
      "id": "96bef58d-735d-4aed-af38-7907e6df28d6"
    }
  ],
  "nbformat": 4,
  "nbformat_minor": 5,
  "metadata": {
    "kernelspec": {
      "name": "ir",
      "display_name": "R",
      "language": "R"
    }
  }
}