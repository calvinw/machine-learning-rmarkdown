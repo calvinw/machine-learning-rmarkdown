{
 "cells": [
  {
   "cell_type": "code",
   "execution_count": null,
   "metadata": {},
   "outputs": [],
   "source": [
    "options(repr.plot.width=4, repr.plot.height=4)\n",
    "options(\"scipen\"=100, \"digits\"=4)"
   ]
  },
  {
   "cell_type": "markdown",
   "metadata": {},
   "source": [
    "A small cosmetics company Mysteria believes sales (in thousands of\n",
    "dollars) at its stores is affected by advertising expenditures and by\n",
    "the population size of the vicinity of the area. They collect data for 6\n",
    "stores and get the following:\n",
    "\n",
    "| Adv Expenditures (\\$ thousands) | Pop Size (millions) | Sales(\\$ thousands) |\n",
    "|:--------------------------------|:--------------------|:--------------------|\n",
    "| 50                              | 5                   | 350                 |\n",
    "| 55                              | 4                   | 400                 |\n",
    "| 100                             | 8                   | 500                 |\n",
    "| 30                              | 1.5                 | 300                 |\n",
    "| 25                              | 3.5                 | 350                 |\n",
    "| 60                              | 1                   | 400                 |\n",
    "\n",
    "Create a dataframe for this data, which shows the advertising\n",
    "expenditures for stores and their sales together with the population\n",
    "size for the stores locations.\n",
    "\n",
    "Then run a multiple regression analyis for predicting Sales from\n",
    "Advertising Expenditures and Population Size for some stores.\n",
    "\n",
    "Make sure to address the following:\n",
    "\n",
    "-   Whether there is an overall significant linear relationship between\n",
    "    sales (y) and advertising expenditures and population size (the\n",
    "    x-variables).\n",
    "-   What are the p-values for each predictor (x-variable)? What is the\n",
    "    best model based on your answer? Which x-variables would you\n",
    "    recommend using in the best model?\n",
    "-   Using your chosen model, predict the value of sales if the\n",
    "    advertising expenditure is \\$40,000 and the population is 2 million.\n",
    "    Also if the advertising expenditure is \\$30,000 and the population\n",
    "    is 1.6 million."
   ]
  }
 ],
 "nbformat": 4,
 "nbformat_minor": 5,
 "metadata": {
  "kernelspec": {
   "name": "ir",
   "display_name": "R",
   "language": "R"
  }
 }
}

