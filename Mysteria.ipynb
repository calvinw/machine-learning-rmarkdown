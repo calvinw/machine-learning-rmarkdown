{
 "cells": [
  {
   "cell_type": "markdown",
   "metadata": {},
   "source": [
    "A small cosmetics company Mysteria believes sales (in thousands of\n",
    "dollars) at its stores is affected by advertising expenditures and by\n",
    "the population size of the vicinity of the area. They collect data for 6\n",
    "stores and get the following:\n",
    "\n",
    "| Adv Expenditures (\\$ thousands) | Pop Size (millions) | Sales(\\$ thousands) |\n",
    "|---------------------------------|---------------------|---------------------|\n",
    "| 50                              | 5                   | 350                 |\n",
    "| 55                              | 4                   | 400                 |\n",
    "| 100                             | 8                   | 500                 |\n",
    "| 30                              | 1.5                 | 300                 |\n",
    "| 25                              | 3.5                 | 350                 |\n",
    "| 60                              | 1                   | 400                 |\n",
    "\n",
    "Create a dataframe for this data, which shows the advertising\n",
    "expenditures for stores and their sales together with the population\n",
    "size for the stores locations.\n",
    "\n",
    "Then run a multiple regression analyis for predicting Sales from\n",
    "Advertising Expenditures and Population Size for some stores.\n",
    "\n",
    "Using your chosen model, predict the value of sales if the advertising\n",
    "expenditure is \\$40,000 and the population is 2 million. Also if the\n",
    "advertising expenditure is \\$30,000 and the population is 1.6 million.\n",
    "\n",
    "-   create 3 vectors called `ads`, `pop`, and `sales` to hold data above\n",
    "-   create a dataframe called `df`, using the vectors above"
   ]
  },
  {
   "cell_type": "code",
   "execution_count": null,
   "metadata": {},
   "outputs": [],
   "source": [
    "ads<-c(50,55,100,30,25,60)\n",
    "pop<-c(5,4,8,1.5,3.5,1)\n",
    "sales<-c(350,400,500,300,350,400)\n",
    "\n",
    "df<-data.frame(ads, pop, sales)"
   ]
  },
  {
   "cell_type": "markdown",
   "metadata": {},
   "source": [
    "-   print out the data frame above using `str`"
   ]
  },
  {
   "cell_type": "code",
   "execution_count": null,
   "metadata": {},
   "outputs": [],
   "source": [
    "str(df)"
   ]
  },
  {
   "cell_type": "markdown",
   "metadata": {},
   "source": [
    "Lets look at the correlation coefficient R for correlation between ads\n",
    "and sales\n",
    "\n",
    "-   assign a variable called `R` to be the output of the `cor` function\n",
    "    using `df$ads` as x and `df$sales` as y\n",
    "-   print out the value of `R`"
   ]
  },
  {
   "cell_type": "code",
   "execution_count": null,
   "metadata": {},
   "outputs": [],
   "source": [
    "R <- cor(df$ads, df$sales)\n",
    "R"
   ]
  },
  {
   "cell_type": "markdown",
   "metadata": {},
   "source": [
    "Lets take a look at the scatterplot for ads and sales:\n",
    "\n",
    "-   use `plot` to examine the scatterplot for ads and sales"
   ]
  },
  {
   "cell_type": "code",
   "execution_count": null,
   "metadata": {},
   "outputs": [],
   "source": [
    "plot(df$ads,df$sales)"
   ]
  },
  {
   "cell_type": "markdown",
   "metadata": {},
   "source": [
    "Fix the plot to have some titles and labels for the axes, and filled\n",
    "circles:\n",
    "\n",
    "-   Call `plot` as above but pass `main=\"Ads and Sales`, `xlab=\"Ads\"`,\n",
    "    `ylab=\"Sales\"` and `pch=19` as arguments."
   ]
  },
  {
   "cell_type": "code",
   "execution_count": null,
   "metadata": {},
   "outputs": [],
   "source": [
    "plot(df$ads,df$sales, main=\"Ads and Sales\", xlab=\"Ads\", ylab=\"Sales\", pch=19)"
   ]
  },
  {
   "cell_type": "markdown",
   "metadata": {},
   "source": [
    "Lets take a look at the correlation and a scatterplot for pop and sales:\n",
    "\n",
    "-   assign a variable called `R` to be the output of the `cor` function\n",
    "    using `df$pop` as x and `df$sales` as y\n",
    "-   print out the value of `R`"
   ]
  },
  {
   "cell_type": "code",
   "execution_count": null,
   "metadata": {},
   "outputs": [],
   "source": [
    "R <- cor(df$pop, df$sales)\n",
    "R"
   ]
  },
  {
   "cell_type": "markdown",
   "metadata": {},
   "source": [
    "-   use `plot` to examine the scatterplot for pop and sales. Use a title\n",
    "    and labels for the axes like above"
   ]
  },
  {
   "cell_type": "code",
   "execution_count": null,
   "metadata": {},
   "outputs": [],
   "source": [
    "plot(df$pop,df$sales, main=\"Population and Sales\", xlab=\"Population\", ylab=\"Sales\", pch=19)"
   ]
  },
  {
   "cell_type": "markdown",
   "metadata": {},
   "source": [
    "The following shows the correlation matrix for `df`:\n",
    "\n",
    "-   use `cor(df)` to show the correlation matrix:"
   ]
  },
  {
   "cell_type": "code",
   "execution_count": null,
   "metadata": {},
   "outputs": [],
   "source": [
    "cor(df)"
   ]
  },
  {
   "cell_type": "markdown",
   "metadata": {},
   "source": [
    "Fill in the ??? below with the right value:\n",
    "\n",
    "-   what is the correlation between `ads` and `sales`: ???\n",
    "-   what is the correlation between `pop` and `sales`: ???\n",
    "-   what is the correlation between `ads` and `pop`: ???\n",
    "\n",
    "Now show the scatterplots for `df`:\n",
    "\n",
    "-   use `plot(df,upper.panel=NULL, pch=19)` to show the scatterplots of\n",
    "    the variables"
   ]
  },
  {
   "cell_type": "code",
   "execution_count": null,
   "metadata": {},
   "outputs": [],
   "source": [
    "plot(df, upper.panel = NULL, pch = 19)"
   ]
  },
  {
   "cell_type": "markdown",
   "metadata": {},
   "source": [
    "We can see that there is a fair amount of correlation between ads and\n",
    "population. This could affect which is the best model.\n",
    "\n",
    "-   set up a regression model using `ads` and `pop` to predict `sales`\n",
    "-   print out the info for the model using `summary(model)`"
   ]
  },
  {
   "cell_type": "code",
   "execution_count": null,
   "metadata": {},
   "outputs": [],
   "source": [
    "model <- lm(sales ~ ads + pop, data=df)\n",
    "summary(model)"
   ]
  },
  {
   "cell_type": "markdown",
   "metadata": {},
   "source": [
    "Fill in the ??? below with the right value:\n",
    "\n",
    "**Test for overall significant:**\n",
    "\n",
    "overall p = ???\n",
    "\n",
    "**Ads**\n",
    "\n",
    "p-value for ads = ???\n",
    "\n",
    "**Pop**\n",
    "\n",
    "p-value for pop = ???\n",
    "\n",
    "We can see that population is not significant in this model. So we\n",
    "exclude it and run the regression again using only sales and ads. Part\n",
    "of the problem here is that ads and population have some collinearity."
   ]
  },
  {
   "cell_type": "code",
   "execution_count": null,
   "metadata": {},
   "outputs": [],
   "source": [
    "modelAds = lm(sales ~ ads, data=df)\n",
    "summary(modelAds)"
   ]
  },
  {
   "cell_type": "markdown",
   "metadata": {},
   "source": [
    "Fill in the ??? below with the right value:\n",
    "\n",
    "**Test for overall significant:**\n",
    "\n",
    "overall p = ???\n",
    "\n",
    "**The regression equation is this:**\n",
    "\n",
    "sales =???(ads) + ???\n",
    "\n",
    "**The standard error is:**\n",
    "\n",
    "std error = ???\n",
    "\n",
    "Using your chosen model, predict the value of sales as follows.\n",
    "\n",
    "Make predictions when:\n",
    "\n",
    "-   spending is \\$40,000 on ads and a population of 2.0 million\n",
    "-   spending is \\$35,000 on ads and a population of 1.6 million\n",
    "-   spending is \\$50,000 on ads and a population of 3.6 million\n",
    "\n",
    "To do this:\n",
    "\n",
    "-   assign a vector `ads` to hold the predictors above\n",
    "-   create a dataframe called `predictors` using the `ads` vector  \n",
    "-   print out the `predictors` dataframe"
   ]
  },
  {
   "cell_type": "code",
   "execution_count": null,
   "metadata": {},
   "outputs": [],
   "source": [
    "ads<-c(40,35,50)\n",
    "predictors <- data.frame(ads)\n",
    "predictors"
   ]
  },
  {
   "cell_type": "markdown",
   "metadata": {},
   "source": [
    "Now lets do the predictions:\n",
    "\n",
    "-   make predictions using the `predict` function passing in the\n",
    "    `modelAds` and the `predictors` dataframe you just made\n",
    "-   print out the `predictions`"
   ]
  },
  {
   "cell_type": "code",
   "execution_count": null,
   "metadata": {},
   "outputs": [],
   "source": [
    "predictions<-predict(modelAds, predictors)\n",
    "predictions"
   ]
  },
  {
   "cell_type": "markdown",
   "metadata": {},
   "source": [
    "Fill in the correct answers below:\n",
    "\n",
    "-   Prediction when `ads` is \\$40,000: ???\n",
    "-   Prediction when `ads` is \\$35,000: ???\n",
    "-   Prediction when `ads` is \\$50,000: ???\n",
    "\n",
    "Can you do the regression analysis for `pop` and `sales`, just for\n",
    "comparision? What do you get?"
   ]
  }
 ],
 "nbformat": 4,
 "nbformat_minor": 5,
 "metadata": {
  "kernelspec": {
   "name": "ir",
   "display_name": "R",
   "language": "R"
  }
 }
}
