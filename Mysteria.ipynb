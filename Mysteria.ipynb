{
 "cells": [
  {
   "cell_type": "markdown",
   "metadata": {},
   "source": [
    "Create a dataframe for this data, which shows the advertising\n",
    "expenditures for stores and their sales together with the population\n",
    "size for the stores locations:\n",
    "\n",
    "| Adv Expenditures (\\$ thousands) | Pop Size (millions) | Sales(\\$ thousands) |\n",
    "|:--------------------------------|:--------------------|:--------------------|\n",
    "| 50                              | 5                   | 350                 |\n",
    "| 55                              | 4                   | 400                 |\n",
    "| 100                             | 8                   | 500                 |\n",
    "| 30                              | 1.5                 | 300                 |\n",
    "| 25                              | 3.5                 | 350                 |\n",
    "| 60                              | 1                   | 400                 |\n",
    "\n",
    "Then run a multiple regression analyis for predicting Sales from\n",
    "Advertising Expenditures and Population Size for some stores."
   ]
  }
 ],
 "nbformat": 4,
 "nbformat_minor": 5,
 "metadata": {
  "kernelspec": {
   "name": "ir",
   "display_name": "R",
   "language": "R"
  }
 }
}

