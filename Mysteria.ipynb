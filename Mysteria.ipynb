{
 "cells": [
  {
   "cell_type": "markdown",
   "metadata": {},
   "source": [
    "A small cosmetics company Mysteria believes sales (in thousands of\n",
    "dollars) at its stores is affected by advertising expenditures and by\n",
    "the population size of the vicinity of the area. They collect data for 6\n",
    "stores and get the following:\n",
    "\n",
    "| Adv Expenditures (\\$ thousands) | Pop Size (millions) | Sales(\\$ thousands) |\n",
    "|:--------------------------------|:--------------------|:--------------------|\n",
    "| 50                              | 5                   | 350                 |\n",
    "| 55                              | 4                   | 400                 |\n",
    "| 100                             | 8                   | 500                 |\n",
    "| 30                              | 1.5                 | 300                 |\n",
    "| 25                              | 3.5                 | 350                 |\n",
    "| 60                              | 1                   | 400                 |\n",
    "\n",
    "Create a dataframe for this data, which shows the advertising\n",
    "expenditures for stores and their sales together with the population\n",
    "size for the stores locations.\n",
    "\n",
    "Then run a multiple regression analyis for predicting Sales from\n",
    "Advertising Expenditures and Population Size for some stores.\n",
    "\n",
    "Make sure to address the following:\n",
    "\n",
    "-   Whether there is an overall significant linear relationship between\n",
    "    sales (y) and advertising expenditures and population size (the\n",
    "    x-variables).\n",
    "-   What are the p-values for each predictor (x-variable)? What is the\n",
    "    best model based on your answer? Which x-variables would you\n",
    "    recommend using in the best model?\n",
    "-   Using your chosen model, predict the value of sales if the\n",
    "    advertising expenditure is \\$40,000 and the population is 2 million.\n",
    "    Also if the advertising expenditure is \\$30,000 and the population\n",
    "    is 1.6 million."
   ]
  },
  {
   "cell_type": "code",
   "execution_count": null,
   "metadata": {},
   "outputs": [],
   "source": [
    "ads<-c(50,55,100,30,25,60)\n",
    "pop<-c(5,4,8,1.5,3.5,1)\n",
    "sales<-c(350,400,500,300,350,400)\n",
    "\n",
    "df<-data.frame(ads, pop, sales)"
   ]
  },
  {
   "cell_type": "code",
   "execution_count": null,
   "metadata": {},
   "outputs": [],
   "source": [
    "str(df)"
   ]
  },
  {
   "cell_type": "markdown",
   "metadata": {},
   "source": [
    "Lets look at the correlation coefficient R for correlation between ads\n",
    "and sales"
   ]
  },
  {
   "cell_type": "code",
   "execution_count": null,
   "metadata": {},
   "outputs": [],
   "source": [
    "R = cor(df$ads, df$sales)\n",
    "R\n",
    "R*R"
   ]
  },
  {
   "cell_type": "markdown",
   "metadata": {},
   "source": [
    "Lets take a look at the scatterplot for ads and sales:"
   ]
  },
  {
   "cell_type": "code",
   "execution_count": null,
   "metadata": {},
   "outputs": [],
   "source": [
    "plot(df$ads,df$sales, main=\"Ads and Sales\", xlab=\"Ads\", ylab=\"Sales\", pch=19)"
   ]
  },
  {
   "cell_type": "markdown",
   "metadata": {},
   "source": [
    "Here is the R squared for population and sales"
   ]
  },
  {
   "cell_type": "code",
   "execution_count": null,
   "metadata": {},
   "outputs": [],
   "source": [
    "R = cor(df$pop, df$sales)\n",
    "R\n",
    "R*R"
   ]
  },
  {
   "cell_type": "markdown",
   "metadata": {},
   "source": [
    "Lets take a look at the scatterplot for population and sales:"
   ]
  },
  {
   "cell_type": "code",
   "execution_count": null,
   "metadata": {},
   "outputs": [],
   "source": [
    "plot(df$pop,df$sales, main=\"Population and Sales\", xlab=\"Population\", ylab=\"Sales\", pch=19)"
   ]
  },
  {
   "cell_type": "markdown",
   "metadata": {},
   "source": [
    "The following shows the correlation matrix"
   ]
  },
  {
   "cell_type": "code",
   "execution_count": null,
   "metadata": {},
   "outputs": [],
   "source": [
    "cor(df)"
   ]
  },
  {
   "cell_type": "code",
   "execution_count": null,
   "metadata": {},
   "outputs": [],
   "source": [
    "plot(df, upper.panel = NULL, pch = 19, cex.labels=1.25)"
   ]
  },
  {
   "cell_type": "markdown",
   "metadata": {},
   "source": [
    "We can see that there is a fair amount of correlation between ads and\n",
    "population. This could affect which is the best model."
   ]
  },
  {
   "cell_type": "code",
   "execution_count": null,
   "metadata": {},
   "outputs": [],
   "source": [
    "model1 = lm(sales ~ ads + pop, data=df)\n",
    "summary(model1)"
   ]
  },
  {
   "cell_type": "markdown",
   "metadata": {},
   "source": [
    "Test for overall significant:\n",
    "\n",
    "$$ \\large{\\text{p-value} = ???} $$\n",
    "\n",
    "p-value for ads:\n",
    "\n",
    "$$ \\large{\\text{p-value} = ???} $$\n",
    "\n",
    "p-value for population:\n",
    "\n",
    "$$ \\large{\\text{p-value} = ???} $$\n",
    "\n",
    "We can see that population is not significant in this model. So we\n",
    "exclude it and run the regression again using only sales and ads:"
   ]
  },
  {
   "cell_type": "code",
   "execution_count": null,
   "metadata": {},
   "outputs": [],
   "source": [
    "model2 = lm(sales ~ ads, data=df)\n",
    "summary(model2)"
   ]
  },
  {
   "cell_type": "markdown",
   "metadata": {},
   "source": [
    "Test for overall significant of linear relationship:\n",
    "\n",
    "$$ \\large{\\text{p-value} = ???} $$\n",
    "\n",
    "The regression equation is this:\n",
    "\n",
    "$$ \\large{y = m1(x1) + b} $$\n",
    "\n",
    "The standard error is:\n",
    "\n",
    "$$ \\large{\\text{standard error} = ???}  $$\n",
    "\n",
    "-   Using your chosen model, predict the value of sales if the\n",
    "    advertising expenditure is \\$40,000 and the population is 2 million.\n",
    "    Also if the advertising expenditure is \\$30,000 and the population\n",
    "    is 1.6 million.\n",
    "\n",
    "Make some predictions when for:\n",
    "\n",
    "1.  spending \\$40,000 on ads and a population of 2.0 million\n",
    "2.  spending \\$35,000 on ads and a population of 1.6 million\n",
    "3.  spending \\$50,000 on ads and a population of 3.6 million"
   ]
  },
  {
   "cell_type": "code",
   "execution_count": null,
   "metadata": {},
   "outputs": [],
   "source": [
    "predictors = data.frame(ads=c(40,35,50), pop=c(2.0,1.6,3.6))\n",
    "predictions<-predict(model2, predictors)\n",
    "round(predictions)"
   ]
  }
 ],
 "nbformat": 4,
 "nbformat_minor": 5,
 "metadata": {
  "kernelspec": {
   "name": "ir",
   "display_name": "R",
   "language": "R"
  }
 }
}

