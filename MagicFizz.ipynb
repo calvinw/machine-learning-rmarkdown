{
 "cells": [
  {
   "cell_type": "markdown",
   "metadata": {},
   "source": [
    "Run this code block to set things up:"
   ]
  },
  {
   "cell_type": "code",
   "execution_count": null,
   "metadata": {},
   "outputs": [],
   "source": [
    "url<- \"https://docs.google.com/spreadsheets/d/e/2PACX-1vQhffJe1DftYdhSqfznMvmO5l_0S9z0sf_PN8NAn1XExaLjlIc-HQcYgry10iphx9egxGtjBqOCcEEB/pub?gid=897298122&single=true&output=csv\"\n",
    "df<-read.csv(url)"
   ]
  },
  {
   "cell_type": "markdown",
   "metadata": {},
   "source": [
    "The above loads in some data collected from 20 respondents to a survey\n",
    "about a new soft drink called **MagicFizz**. Each of the respondents\n",
    "rated the drink for each of the categories `Flavor` ,`Texture`\n",
    "`FizzSensation` and `PackageDesign` and also for `OverallSatisfaction`.\n",
    "\n",
    "The data frame `df` is loaded with all the responses.\n",
    "\n",
    "The goal here is to try to predict `OverallSatisfaction` from the rest\n",
    "of the variables.\n",
    "\n",
    "-   print out some info on `df` using `str(df)`"
   ]
  },
  {
   "cell_type": "code",
   "execution_count": null,
   "metadata": {},
   "outputs": [],
   "source": [
    "CODE"
   ]
  },
  {
   "cell_type": "markdown",
   "metadata": {},
   "source": [
    "-   print out `df` using `print(df)`"
   ]
  },
  {
   "cell_type": "code",
   "execution_count": null,
   "metadata": {},
   "outputs": [],
   "source": [
    "CODE"
   ]
  },
  {
   "cell_type": "markdown",
   "metadata": {},
   "source": [
    "-   print out the correlation matrix for df using `cor(df)`"
   ]
  },
  {
   "cell_type": "code",
   "execution_count": null,
   "metadata": {},
   "outputs": [],
   "source": [
    "CODE"
   ]
  },
  {
   "cell_type": "markdown",
   "metadata": {},
   "source": [
    "FILL IN THE ???? below with the right values from above:\n",
    "\n",
    "Correlation:\n",
    "\n",
    "-   between `Flavor` and `Texture` ???\n",
    "-   between `Flavor` and `OverallSatisfaction` ???\n",
    "-   between `Texture` and `OverallSatisfaction` ???\n",
    "-   between `FizzSensation` and `OverallSatisfaction` ???\n",
    "-   between `PackageDesign` and `OveralllSatisfaction` ???\n",
    "\n",
    "Let’s run our regression model using all the variables:\n",
    "\n",
    "-   assign `model1` the result of `lm`, using\n",
    "    `OverallSatisfaction ~ Flavor + Texture + FizzSensation + PackageDesign`\n",
    "    as the first argument to `lm` and then `data=df` as the second\n",
    "    argument\n",
    "-   call `summary(model1)` to print out the regression model info after\n",
    "    creating the model"
   ]
  },
  {
   "cell_type": "code",
   "execution_count": null,
   "metadata": {},
   "outputs": [],
   "source": [
    "model1 <- lm(CODE, data=df)\n",
    "summary(model1)"
   ]
  },
  {
   "cell_type": "markdown",
   "metadata": {},
   "source": [
    "FILL IN THE ???? below with the right values from above:\n",
    "\n",
    "**Test for overall significant of linear relationship:**\n",
    "\n",
    "overall p-value = ????\n",
    "\n",
    "**Texture:**\n",
    "\n",
    "p-value for Texture = ???\n",
    "\n",
    "**Flavor:**\n",
    "\n",
    "p-value for Flavor= ???\n",
    "\n",
    "**FizzSensation:**\n",
    "\n",
    "p-value for FizzSensation= ???\n",
    "\n",
    "**PackageDesign:**\n",
    "\n",
    "p-value for PackageDesign= ???\n",
    "\n",
    "Eliminate the `Texture` variable, since it has the highest p-value.\n",
    "\n",
    "Then run the regression again:\n",
    "\n",
    "-   assign `model2` the result of `lm`, using\n",
    "    `OverallSatisfaction ~ Flavor + FizzSensation + PackageDesign` as\n",
    "    the first argument to `lm` and then `data=df` as the second argument\n",
    "-   call `summary(model2)` to print out the regression model info after\n",
    "    creating the model"
   ]
  },
  {
   "cell_type": "code",
   "execution_count": null,
   "metadata": {},
   "outputs": [],
   "source": [
    "CODE"
   ]
  },
  {
   "cell_type": "markdown",
   "metadata": {},
   "source": [
    "FILL IN THE ???? below with the right values from above:\n",
    "\n",
    "**Test for overall significant of linear relationship:**\n",
    "\n",
    "overall p-value = ????\n",
    "\n",
    "**Flavor:**\n",
    "\n",
    "p-value for Flavor= ???\n",
    "\n",
    "**FizzSensation:**\n",
    "\n",
    "p-value for FizzSensation= ???\n",
    "\n",
    "**PackageDesign:**\n",
    "\n",
    "p-value for PackageDesign= ???\n",
    "\n",
    "Eliminate the `FizzSensation` with the highest p-value and run the\n",
    "regression again:\n",
    "\n",
    "-   assign `model3` the result of `lm`, using\n",
    "    `OverallSatisfaction ~ Flavor + PackageDesign` as the first argument\n",
    "    to `lm` and then `data=df` as the second argument\n",
    "-   call `summary(model1)` to print out the regression model info after\n",
    "    creating the model"
   ]
  },
  {
   "cell_type": "code",
   "execution_count": null,
   "metadata": {},
   "outputs": [],
   "source": [
    "CODE"
   ]
  },
  {
   "cell_type": "markdown",
   "metadata": {},
   "source": [
    "FILL IN THE ???? below with the right values from above:\n",
    "\n",
    "**Test for overall significant of linear relationship:**\n",
    "\n",
    "overall p-value = ????\n",
    "\n",
    "**Flavor:**\n",
    "\n",
    "p-value for Flavor= ???\n",
    "\n",
    "**PackageDesign:**\n",
    "\n",
    "p-value for PackageDesign= ???\n",
    "\n",
    "This is your final model.\n",
    "\n",
    "**The regression equation is this:**\n",
    "\n",
    "OverallSatisfaction = ???(Flavor) + ???(PackageDesign) + ???\n",
    "\n",
    "#### Predictions\n",
    "\n",
    "Make a dataframe to hold our predictors:\n",
    "\n",
    "-   rates Flavor 1 and rates PackageDesign 1\n",
    "-   rates Flavor 2 and rates PackageDesign 3\n",
    "-   rates Flavor 3 and rates PackageDesign 2\n",
    "\n",
    "Do this:\n",
    "\n",
    "-   assign a vector `Flavor` to hold the three `Flavor` predictor values\n",
    "-   assign a vector `PackageDesign` to hold the three `PackageDesign`\n",
    "    predictor values\n",
    "-   create a dataframe with\n",
    "    `predictors<-data.frame(Flavor,PackageDesign)`\n",
    "-   print `predictors`"
   ]
  },
  {
   "cell_type": "code",
   "execution_count": null,
   "metadata": {},
   "outputs": [],
   "source": [
    "Flavor<-CODE\n",
    "PackageDesign<-CODE\n",
    "predictors <- data.frame(Flavor, PackageDesign)\n",
    "predictors"
   ]
  },
  {
   "cell_type": "markdown",
   "metadata": {},
   "source": [
    "-   make predictions with `predictions<-predict(model3,predictors)`\n",
    "-   print out the predictions using `print(predictions)`"
   ]
  },
  {
   "cell_type": "code",
   "execution_count": null,
   "metadata": {},
   "outputs": [],
   "source": [
    "CODE"
   ]
  },
  {
   "cell_type": "markdown",
   "metadata": {},
   "source": [
    "Fill in the correct answers below:\n",
    "\n",
    "-   Prediction when rates Flavor 1 and rates PackageDesign 1: ???\n",
    "-   Prediction when rates Flavor 2 and rates PackageDesign 3: ???\n",
    "-   Prediction when rates Flavor 3 and rates PackageDesign 2: ???"
   ]
  }
 ],
 "nbformat": 4,
 "nbformat_minor": 5,
 "metadata": {
  "kernelspec": {
   "name": "ir",
   "display_name": "R",
   "language": "R"
  }
 }
}
