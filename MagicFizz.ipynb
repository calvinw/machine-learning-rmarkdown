{
  "cells": [
    {
      "cell_type": "markdown",
      "metadata": {},
      "source": [
        "# Magic Fizz\n",
        "\n",
        "Run this code block to set things up:"
      ],
      "id": "73a6afca-63d6-4e81-bbb0-b7e72abdafd8"
    },
    {
      "cell_type": "code",
      "execution_count": null,
      "metadata": {},
      "outputs": [],
      "source": [
        "url<- \"https://docs.google.com/spreadsheets/d/e/2PACX-1vQhffJe1DftYdhSqfznMvmO5l_0S9z0sf_PN8NAn1XExaLjlIc-HQcYgry10iphx9egxGtjBqOCcEEB/pub?gid=897298122&single=true&output=csv\"\n",
        "df<-read.csv(url)"
      ],
      "id": "9760dbfc-1ec1-4af8-8b6c-01f89569f355"
    },
    {
      "cell_type": "markdown",
      "metadata": {},
      "source": [
        "The above loads in some data collected from 20 respondents to a survey\n",
        "about a new soft drink called **MagicFizz**. Each of the respondents\n",
        "rated the drink for each of the categories `Flavor` ,`Texture`\n",
        "`FizzSensation` and `PackageDesign` and also for `OverallSatisfaction`.\n",
        "\n",
        "The data frame `df` is loaded with all the responses.\n",
        "\n",
        "The goal here is to try to predict `OverallSatisfaction` from the rest\n",
        "of the variables.\n",
        "\n",
        "-   print out some info on `df` using `str(df)`"
      ],
      "id": "d9e65d1e-5052-49b7-81c3-40ae7f798162"
    },
    {
      "cell_type": "code",
      "execution_count": null,
      "metadata": {},
      "outputs": [],
      "source": [
        "CODE"
      ],
      "id": "0446c386-3f0b-40a5-8d06-fb4bdcacb96e"
    },
    {
      "cell_type": "markdown",
      "metadata": {},
      "source": [
        "-   print out `df` using `print(df)`"
      ],
      "id": "2f89d736-a01a-4264-8117-de48a97164a8"
    },
    {
      "cell_type": "code",
      "execution_count": null,
      "metadata": {},
      "outputs": [],
      "source": [
        "CODE"
      ],
      "id": "93d10008-eb95-45a7-8e48-cfb20481638c"
    },
    {
      "cell_type": "markdown",
      "metadata": {},
      "source": [
        "-   print out the correlation matrix for df using `cor(df)`"
      ],
      "id": "534dbd19-1097-4ac5-9dd0-f3f0a4d409ed"
    },
    {
      "cell_type": "code",
      "execution_count": null,
      "metadata": {},
      "outputs": [],
      "source": [
        "CODE"
      ],
      "id": "9b68f1df-ffda-49b9-87a6-714977d3e4ba"
    },
    {
      "cell_type": "markdown",
      "metadata": {},
      "source": [
        "FILL IN THE ???? below with the right values from above:\n",
        "\n",
        "Correlation:\n",
        "\n",
        "-   between `Flavor` and `Texture` ???\n",
        "-   between `Flavor` and `OverallSatisfaction` ???\n",
        "-   between `Texture` and `OverallSatisfaction` ???\n",
        "-   between `FizzSensation` and `OverallSatisfaction` ???\n",
        "-   between `PackageDesign` and `OveralllSatisfaction` ???\n",
        "\n",
        "Let’s run our regression model using all the variables:\n",
        "\n",
        "-   assign `model1` the result of `lm`, using\n",
        "    `OverallSatisfaction ~ Flavor + Texture + FizzSensation + PackageDesign`\n",
        "    as the first argument to `lm` and then `data=df` as the second\n",
        "    argument\n",
        "-   call `summary(model1)` to print out the regression model info after\n",
        "    creating the model"
      ],
      "id": "5a225af6-8eda-489a-98a2-4948460b99b7"
    },
    {
      "cell_type": "code",
      "execution_count": null,
      "metadata": {},
      "outputs": [],
      "source": [
        "model1 <- lm(CODE, data=df)\n",
        "summary(model1)"
      ],
      "id": "f0902ed7-9ada-4359-bff3-ad81264b60ea"
    },
    {
      "cell_type": "markdown",
      "metadata": {},
      "source": [
        "FILL IN THE ???? below with the right values from above:\n",
        "\n",
        "**Test for overall significant of linear relationship:**\n",
        "\n",
        "overall p-value = ????\n",
        "\n",
        "**Texture:**\n",
        "\n",
        "p-value for Texture = ???\n",
        "\n",
        "**Flavor:**\n",
        "\n",
        "p-value for Flavor= ???\n",
        "\n",
        "**FizzSensation:**\n",
        "\n",
        "p-value for FizzSensation= ???\n",
        "\n",
        "**PackageDesign:**\n",
        "\n",
        "p-value for PackageDesign= ???\n",
        "\n",
        "Eliminate the `Texture` variable, since it has the highest p-value.\n",
        "\n",
        "Then run the regression again:\n",
        "\n",
        "-   assign `model2` the result of `lm`, using\n",
        "    `OverallSatisfaction ~ Flavor + FizzSensation + PackageDesign` as\n",
        "    the first argument to `lm` and then `data=df` as the second argument\n",
        "-   call `summary(model2)` to print out the regression model info after\n",
        "    creating the model"
      ],
      "id": "c4d43a29-a43c-4c8a-b89e-88b60fad1347"
    },
    {
      "cell_type": "code",
      "execution_count": null,
      "metadata": {},
      "outputs": [],
      "source": [
        "CODE"
      ],
      "id": "80a0c28f-30a5-4d1f-abad-743586b45afd"
    },
    {
      "cell_type": "markdown",
      "metadata": {},
      "source": [
        "FILL IN THE ???? below with the right values from above:\n",
        "\n",
        "**Test for overall significant of linear relationship:**\n",
        "\n",
        "overall p-value = ????\n",
        "\n",
        "**Flavor:**\n",
        "\n",
        "p-value for Flavor= ???\n",
        "\n",
        "**FizzSensation:**\n",
        "\n",
        "p-value for FizzSensation= ???\n",
        "\n",
        "**PackageDesign:**\n",
        "\n",
        "p-value for PackageDesign= ???\n",
        "\n",
        "Eliminate the `FizzSensation` with the highest p-value and run the\n",
        "regression again:\n",
        "\n",
        "-   assign `model3` the result of `lm`, using\n",
        "    `OverallSatisfaction ~ Flavor + PackageDesign` as the first argument\n",
        "    to `lm` and then `data=df` as the second argument\n",
        "-   call `summary(model1)` to print out the regression model info after\n",
        "    creating the model"
      ],
      "id": "99b1b4f1-e827-4060-9313-039592313a18"
    },
    {
      "cell_type": "code",
      "execution_count": null,
      "metadata": {},
      "outputs": [],
      "source": [
        "CODE"
      ],
      "id": "6f6ea0c6-47bc-4113-bac4-4b8fc3513a46"
    },
    {
      "cell_type": "markdown",
      "metadata": {},
      "source": [
        "FILL IN THE ???? below with the right values from above:\n",
        "\n",
        "**Test for overall significant of linear relationship:**\n",
        "\n",
        "overall p-value = ????\n",
        "\n",
        "**Flavor:**\n",
        "\n",
        "p-value for Flavor= ???\n",
        "\n",
        "**PackageDesign:**\n",
        "\n",
        "p-value for PackageDesign= ???\n",
        "\n",
        "This is your final model.\n",
        "\n",
        "**The regression equation is this:**\n",
        "\n",
        "OverallSatisfaction = ???(Flavor) + ???(PackageDesign) + ???\n",
        "\n",
        "#### Predictions\n",
        "\n",
        "Make a dataframe to hold our predictors:\n",
        "\n",
        "-   rates Flavor 1 and rates PackageDesign 1\n",
        "-   rates Flavor 2 and rates PackageDesign 3\n",
        "-   rates Flavor 3 and rates PackageDesign 2\n",
        "\n",
        "Do this:\n",
        "\n",
        "-   assign a vector `Flavor` to hold the three `Flavor` predictor values\n",
        "-   assign a vector `PackageDesign` to hold the three `PackageDesign`\n",
        "    predictor values\n",
        "-   create a dataframe with\n",
        "    `predictors<-data.frame(Flavor,PackageDesign)`\n",
        "-   print `predictors`"
      ],
      "id": "7ed7667d-a320-4e6e-8f5d-e5c18892038d"
    },
    {
      "cell_type": "code",
      "execution_count": null,
      "metadata": {},
      "outputs": [],
      "source": [
        "Flavor<-CODE\n",
        "PackageDesign<-CODE\n",
        "predictors <- data.frame(Flavor, PackageDesign)\n",
        "predictors"
      ],
      "id": "abe691bb-9d62-4621-b98b-d6da8a5fddfc"
    },
    {
      "cell_type": "markdown",
      "metadata": {},
      "source": [
        "-   make predictions with `predictions<-predict(model3,predictors)`\n",
        "-   print out the predictions using `print(predictions)`"
      ],
      "id": "fd98f9f0-9bb7-4175-a24e-b754c4096345"
    },
    {
      "cell_type": "code",
      "execution_count": null,
      "metadata": {},
      "outputs": [],
      "source": [
        "CODE"
      ],
      "id": "4610676e-733a-46f6-9b3c-aff64935431b"
    },
    {
      "cell_type": "markdown",
      "metadata": {},
      "source": [
        "Fill in the correct answers below:\n",
        "\n",
        "-   Prediction when rates Flavor 1 and rates PackageDesign 1: ???\n",
        "-   Prediction when rates Flavor 2 and rates PackageDesign 3: ???\n",
        "-   Prediction when rates Flavor 3 and rates PackageDesign 2: ???"
      ],
      "id": "887e4a4c-58cd-4ca1-adb6-09a4eb0f89a8"
    }
  ],
  "nbformat": 4,
  "nbformat_minor": 5,
  "metadata": {
    "kernelspec": {
      "name": "ir",
      "display_name": "R",
      "language": "R"
    }
  }
}