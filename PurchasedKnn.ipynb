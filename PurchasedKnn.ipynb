{
  "cells": [
    {
      "cell_type": "markdown",
      "metadata": {},
      "source": [
        "# Purchased Knn"
      ],
      "id": "ba565e60-c344-4583-a841-d0d9b01e7d3e"
    },
    {
      "cell_type": "code",
      "execution_count": null,
      "metadata": {},
      "outputs": [],
      "source": [
        "options(repr.plot.width=4, repr.plot.height=4)\n",
        "options(\"scipen\"=100, \"digits\"=4)\n",
        "if(!require(\"readr\")) install.packages(\"readr\")\n",
        "if(!require(\"knitr\")) install.packages(\"knitr\")\n",
        "if(!require(\"Metrics\")) install.packages(\"Metrics\")\n",
        "if(!require(\"class\")) install.packages(\"class\")\n",
        "library(\"readr\")\n",
        "library(\"Metrics\")\n",
        "library(\"class\")\n",
        "library(\"knitr\")\n",
        "knitr::opts_chunk$set(fig.width=4, fig.height=4)\n",
        "normalize <- function(x) {\n",
        "    return ( (x-min(x))/(max(x)-min(x)) )\n",
        "}"
      ],
      "id": "7bc113ff-9572-42bf-80fe-0aa3c1675906"
    },
    {
      "cell_type": "markdown",
      "metadata": {},
      "source": [
        "## Using Knn to predict will Purchase\n",
        "\n",
        "So here is the data we have, this will be our training data:\n",
        "\n",
        "-   `Purchased` is our result or outcome\n",
        "-   `Salary`, `Age` are the predictors\n",
        "\n",
        "This data is about what kinds of customers responded to an email ad\n",
        "offering a special deal on a product. Were they high salary or low\n",
        "salary and what about their age? We would like to know if `Salary` and\n",
        "`Age` of the customer can predict whether they bought an item based on\n",
        "the offer they received.\n",
        "\n",
        "Here is our training set:\n",
        "\n",
        "| Salary | Age | Purchased |\n",
        "|--------|-----|-----------|\n",
        "| 53700  | 41  | no        |\n",
        "| 65300  | 37  | no        |\n",
        "| 48900  | 45  | yes       |\n",
        "| 64800  | 49  | yes       |\n",
        "| 69200  | 30  | yes       |\n",
        "| 55900  | 57  | yes       |\n",
        "| 48600  | 26  | no        |\n",
        "| 72000  | 60  | yes       |\n",
        "| 45300  | 34  | no        |\n",
        "| 69000  | 32  | yes       |\n",
        "| 73200  | 52  | yes       |\n",
        "\n",
        "Lets read it in:"
      ],
      "id": "ffa09a21-3002-4cc8-970b-99edd143eecb"
    },
    {
      "cell_type": "code",
      "execution_count": null,
      "metadata": {},
      "outputs": [
        {
          "output_type": "stream",
          "name": "stdout",
          "text": [
            "'data.frame':   11 obs. of  3 variables:\n",
            " $ Salary   : int  53700 65300 48900 64800 69200 55900 48600 72000 45300 69000 ...\n",
            " $ Age      : int  41 37 45 49 30 57 26 60 34 32 ...\n",
            " $ Purchased: Factor w/ 2 levels \"no\",\"yes\": 1 1 2 2 2 2 1 2 1 2 ..."
          ]
        }
      ],
      "source": [
        "trainurl<- \"https://docs.google.com/spreadsheets/d/e/2PACX-1vTx21HIv4xKL2c94OLQzMiNPmv5YXw-vAy3dRBL0gnknSMKMK4Ur_4nYGGyDtvS20iU3_r-_zZfQQmj/pub?gid=0&single=true&output=csv\"\n",
        "traindf<-read.csv(trainurl, stringsAsFactors=TRUE)\n",
        "str(traindf)"
      ],
      "id": "ed208096-8f9d-4f09-94f6-4956523a093d"
    },
    {
      "cell_type": "markdown",
      "metadata": {},
      "source": [
        "Lets print it out to make sure it looks okay:"
      ],
      "id": "d6679bfb-acdb-4c58-a22b-68948b070035"
    },
    {
      "cell_type": "code",
      "execution_count": null,
      "metadata": {},
      "outputs": [
        {
          "output_type": "stream",
          "name": "stdout",
          "text": [
            "   Salary Age Purchased\n",
            "1   53700  41        no\n",
            "2   65300  37        no\n",
            "3   48900  45       yes\n",
            "4   64800  49       yes\n",
            "5   69200  30       yes\n",
            "6   55900  57       yes\n",
            "7   48600  26        no\n",
            "8   72000  60       yes\n",
            "9   45300  34        no\n",
            "10  69000  32       yes\n",
            "11  73200  52       yes"
          ]
        }
      ],
      "source": [
        "print(traindf)"
      ],
      "id": "8c57c621-cfff-4e9b-bff5-87495ed0e9ef"
    },
    {
      "cell_type": "markdown",
      "metadata": {},
      "source": [
        "Lets take a look at a graph of the two predictors:"
      ],
      "id": "c1690eab-661c-4539-8a58-1b8781bbad5c"
    },
    {
      "cell_type": "code",
      "execution_count": null,
      "metadata": {},
      "outputs": [
        {
          "output_type": "display_data",
          "metadata": {},
          "data": {
            "image/png": "[encoded data removed]"
          }
        }
      ],
      "source": [
        "plot(traindf$Salary, traindf$Age, col=traindf$Purchased, \n",
        "     pch=19,\n",
        "     xlab=\"Salary\",\n",
        "     ylab=\"Age\",\n",
        "     xlim=c(40000,80000), ylim=c(20,70))"
      ],
      "id": "54e9d25b-5e35-40f8-b29c-75de43710a56"
    },
    {
      "cell_type": "markdown",
      "metadata": {},
      "source": [
        "Red dots represent “yes” and black dots represent “no”\n",
        "\n",
        "We are going to model this situation using Knn (K nearest neighbors):\n",
        "\n",
        "Knn needs both the training and the test set passed to it:\n",
        "\n",
        "Here is our test set:\n",
        "\n",
        "| Salary | Age | Purchased |\n",
        "|--------|-----|-----------|\n",
        "| 53900  | 45  | yes       |\n",
        "| 64800  | 49  | yes       |\n",
        "| 50000  | 32  | no        |\n",
        "| 55900  | 57  | yes       |\n",
        "| 55600  | 29  | no        |\n",
        "| 60000  | 25  | no        |\n",
        "\n",
        "Lets read it in:"
      ],
      "id": "c1aa44a1-165e-4107-93d5-8460e66ded45"
    },
    {
      "cell_type": "code",
      "execution_count": null,
      "metadata": {},
      "outputs": [
        {
          "output_type": "stream",
          "name": "stdout",
          "text": [
            "'data.frame':   8 obs. of  3 variables:\n",
            " $ Salary   : int  53900 64800 50000 55900 55600 60000 80000 66000\n",
            " $ Age      : int  45 49 32 57 29 25 30 62\n",
            " $ Purchased: Factor w/ 2 levels \"no\",\"yes\": 2 2 1 2 2 1 2 2"
          ]
        }
      ],
      "source": [
        "#read the testing set\n",
        "testurl<- \"https://docs.google.com/spreadsheets/d/e/2PACX-1vTx21HIv4xKL2c94OLQzMiNPmv5YXw-vAy3dRBL0gnknSMKMK4Ur_4nYGGyDtvS20iU3_r-_zZfQQmj/pub?gid=572053114&single=true&output=csv\"\n",
        "testdf<-read.csv(testurl, stringsAsFactors=TRUE)\n",
        "str(testdf)"
      ],
      "id": "ffb53f00-1640-4430-9a30-e61e89a55f0a"
    },
    {
      "cell_type": "markdown",
      "metadata": {},
      "source": [
        "Lets print it out:"
      ],
      "id": "7e150a64-6ac4-4f12-87f9-22b07f6cb700"
    },
    {
      "cell_type": "code",
      "execution_count": null,
      "metadata": {},
      "outputs": [
        {
          "output_type": "stream",
          "name": "stdout",
          "text": [
            "  Salary Age Purchased\n",
            "1  53900  45       yes\n",
            "2  64800  49       yes\n",
            "3  50000  32        no\n",
            "4  55900  57       yes\n",
            "5  55600  29       yes\n",
            "6  60000  25        no\n",
            "7  80000  30       yes\n",
            "8  66000  62       yes"
          ]
        }
      ],
      "source": [
        "print(testdf)"
      ],
      "id": "8c7df545-e7b5-48ae-8249-3008aa54bbc0"
    },
    {
      "cell_type": "markdown",
      "metadata": {},
      "source": [
        "Now lets extract the last column of the training dataset since we need\n",
        "it as the ‘cl’ argument in the knn function. We also remove the\n",
        "`Purchased` column from both the training and the testing data frames\n",
        "since knn expects these both to have no result column.\n",
        "\n",
        "Before we remove it from each dataframe though we save it in a vector:"
      ],
      "id": "96c6b027-d81e-4e7b-b725-b0dd0ceec11b"
    },
    {
      "cell_type": "code",
      "execution_count": null,
      "metadata": {},
      "outputs": [
        {
          "output_type": "stream",
          "name": "stdout",
          "text": [
            "   Salary Age\n",
            "1   53700  41\n",
            "2   65300  37\n",
            "3   48900  45\n",
            "4   64800  49\n",
            "5   69200  30\n",
            "6   55900  57\n",
            "7   48600  26\n",
            "8   72000  60\n",
            "9   45300  34\n",
            "10  69000  32\n",
            "11  73200  52"
          ]
        }
      ],
      "source": [
        "train_target <- traindf$Purchased \n",
        "traindf$Purchased <- NULL\n",
        "\n",
        "test_target <- testdf$Purchased\n",
        "testdf$Purchased <- NULL\n",
        "\n",
        "print(traindf)"
      ],
      "id": "20c72f1d-677e-4087-a78c-b888665fa678"
    },
    {
      "cell_type": "markdown",
      "metadata": {},
      "source": [
        "Now before we run the Knn algorithm, we need to normalize (or rescale)\n",
        "the predictors. The following code normalizes both the predictor columns\n",
        "in the each of our dataframes:"
      ],
      "id": "0cc1ec69-5fd3-468a-bdc4-7eab6191824f"
    },
    {
      "cell_type": "code",
      "execution_count": null,
      "metadata": {},
      "outputs": [
        {
          "output_type": "stream",
          "name": "stdout",
          "text": [
            "   Salary    Age\n",
            "1  0.3011 0.4412\n",
            "2  0.7168 0.3235\n",
            "3  0.1290 0.5588\n",
            "4  0.6989 0.6765\n",
            "5  0.8566 0.1176\n",
            "6  0.3799 0.9118\n",
            "7  0.1183 0.0000\n",
            "8  0.9570 1.0000\n",
            "9  0.0000 0.2353\n",
            "10 0.8495 0.1765\n",
            "11 1.0000 0.7647"
          ]
        }
      ],
      "source": [
        "traindf_n <- as.data.frame(lapply(traindf, normalize))\n",
        "testdf_n <- as.data.frame(lapply(testdf, normalize))\n",
        "print(traindf_n)"
      ],
      "id": "285f5e09-e96d-4902-aebf-1ef48f123745"
    },
    {
      "cell_type": "markdown",
      "metadata": {},
      "source": [
        "Notice how the predictors are all normalized into the range 0.0 to 1.0\n",
        "\n",
        "Next we call the knn method, which creates the model using the training\n",
        "data, then does predictions for the testing data, and returns the\n",
        "predictions all at once. You must also pass a k value to tell the method\n",
        "how many “nearest neighbors” to use for the model."
      ],
      "id": "a7689e66-ded5-45b2-ae72-f4d2808daeef"
    },
    {
      "cell_type": "code",
      "execution_count": null,
      "metadata": {},
      "outputs": [
        {
          "output_type": "stream",
          "name": "stdout",
          "text": [
            "[1] no  yes no  yes no  no  yes yes\n",
            "Levels: no yes"
          ]
        }
      ],
      "source": [
        "set.seed(1234)\n",
        "prediction<-knn(traindf_n, testdf_n, cl=train_target, k=3)\n",
        "print(prediction)"
      ],
      "id": "888bb19b-07b4-4f41-af71-ac9d260414eb"
    },
    {
      "cell_type": "markdown",
      "metadata": {},
      "source": [
        "We put the actuals and predictions back into the test data frame so we\n",
        "can check accuracy:"
      ],
      "id": "d1dafc50-5833-4f4d-836d-19cd9b729014"
    },
    {
      "cell_type": "code",
      "execution_count": null,
      "metadata": {},
      "outputs": [
        {
          "output_type": "stream",
          "name": "stdout",
          "text": [
            "  Salary Age Purchased Prediction\n",
            "1  53900  45       yes         no\n",
            "2  64800  49       yes        yes\n",
            "3  50000  32        no         no\n",
            "4  55900  57       yes        yes\n",
            "5  55600  29       yes         no\n",
            "6  60000  25        no         no\n",
            "7  80000  30       yes        yes\n",
            "8  66000  62       yes        yes"
          ]
        }
      ],
      "source": [
        "testdf$Purchased <- test_target\n",
        "testdf$Prediction <- prediction\n",
        "print(testdf)"
      ],
      "id": "2bf448a2-767e-4f12-9825-f48ba1fb800d"
    },
    {
      "cell_type": "markdown",
      "metadata": {},
      "source": [
        "Here is the confusion matrix and the accuracy:"
      ],
      "id": "931f8354-2cd2-4bb2-bae2-4dcb5ca55657"
    },
    {
      "cell_type": "code",
      "execution_count": null,
      "metadata": {},
      "outputs": [
        {
          "output_type": "stream",
          "name": "stdout",
          "text": [
            "          actual\n",
            "prediction no yes\n",
            "       no   2   2\n",
            "       yes  0   4"
          ]
        },
        {
          "output_type": "stream",
          "name": "stdout",
          "text": [
            "[1] 0.75"
          ]
        }
      ],
      "source": [
        "table(prediction=prediction,actual=test_target)"
      ],
      "id": "cb533e41-c498-43ef-9a40-29e02429852a"
    },
    {
      "cell_type": "markdown",
      "metadata": {},
      "source": [
        "Lets look at some plots of the test data values.\n",
        "\n",
        "First we normalize the predictors for those test values:"
      ],
      "id": "f3936702-880c-481e-92bf-6cef338b46fd"
    },
    {
      "cell_type": "code",
      "execution_count": null,
      "metadata": {},
      "outputs": [],
      "source": [
        "normSalary<-normalize(testdf_n$Salary)\n",
        "normAge<-normalize(testdf_n$Age)"
      ],
      "id": "32344766-b1bb-40e4-b7bf-95177ddbd132"
    },
    {
      "cell_type": "markdown",
      "metadata": {},
      "source": [
        "Now lets examine the 1st data value in the test set:"
      ],
      "id": "5af23d7c-c8b8-4026-b4ae-55931a223757"
    },
    {
      "cell_type": "code",
      "execution_count": null,
      "metadata": {},
      "outputs": [
        {
          "output_type": "display_data",
          "metadata": {},
          "data": {
            "image/png": "[encoded data removed]"
          }
        },
        {
          "output_type": "stream",
          "name": "stdout",
          "text": [
            "  Salary Age Purchased Prediction\n",
            "1  53900  45       yes         no"
          ]
        }
      ],
      "source": [
        "plot(traindf_n$Salary, traindf_n$Age, col=train_target, pch=19, xlab=\"Salary\", ylab=\"Age\", xaxt='n', yaxt='n') \n",
        "points(normSalary[1], normAge[1], pch=19, col=\"blue\")"
      ],
      "id": "d1ad568d-24cd-456d-8190-d27388d0cebc"
    },
    {
      "cell_type": "markdown",
      "metadata": {},
      "source": [
        "Here is the 2nd data value in the testing set:"
      ],
      "id": "c36cda8c-9d4a-412c-95ac-3ad2c4b85d63"
    },
    {
      "cell_type": "code",
      "execution_count": null,
      "metadata": {},
      "outputs": [
        {
          "output_type": "display_data",
          "metadata": {},
          "data": {
            "image/png": "[encoded data removed]"
          }
        },
        {
          "output_type": "stream",
          "name": "stdout",
          "text": [
            "  Salary Age Purchased Prediction\n",
            "2  64800  49       yes        yes"
          ]
        }
      ],
      "source": [
        "plot(traindf_n$Salary, traindf_n$Age, col=train_target, pch=19, xlab=\"Salary\", ylab=\"Age\", xaxt='n', yaxt='n') \n",
        "points(normSalary[2], normAge[2], pch=19, col=\"blue\")"
      ],
      "id": "b8219328-02ac-4cb8-8601-d974ba4f8212"
    },
    {
      "cell_type": "markdown",
      "metadata": {},
      "source": [
        "Here is the 3nd data value in the testing set:"
      ],
      "id": "2727fd20-3ad7-4e83-a0d0-0f03f8297085"
    },
    {
      "cell_type": "code",
      "execution_count": null,
      "metadata": {},
      "outputs": [
        {
          "output_type": "display_data",
          "metadata": {},
          "data": {
            "image/png": "[encoded data removed]"
          }
        },
        {
          "output_type": "stream",
          "name": "stdout",
          "text": [
            "  Salary Age Purchased Prediction\n",
            "3  50000  32        no         no"
          ]
        }
      ],
      "source": [
        "plot(traindf_n$Salary, traindf_n$Age, col=train_target, pch=19, xlab=\"Salary\", ylab=\"Age\", xaxt='n', yaxt='n') \n",
        "points(normSalary[3], normAge[3], pch=19, col=\"blue\")"
      ],
      "id": "5f54c6d7-57ae-4341-836d-f3111a0a42db"
    },
    {
      "cell_type": "markdown",
      "metadata": {},
      "source": [
        "Here is the 4th data value in the testing set:"
      ],
      "id": "0e4173fb-2864-485c-b1c2-f728f00a2b71"
    },
    {
      "cell_type": "code",
      "execution_count": null,
      "metadata": {},
      "outputs": [
        {
          "output_type": "display_data",
          "metadata": {},
          "data": {
            "image/png": "[encoded data removed]"
          }
        },
        {
          "output_type": "stream",
          "name": "stdout",
          "text": [
            "  Salary Age Purchased Prediction\n",
            "4  55900  57       yes        yes"
          ]
        }
      ],
      "source": [
        "plot(traindf_n$Salary, traindf_n$Age, col=train_target, pch=19, xlab=\"Salary\", ylab=\"Age\", xaxt='n', yaxt='n') \n",
        "points(normSalary[4], normAge[4], pch=19, col=\"blue\")"
      ],
      "id": "5186e0d4-c383-4599-9145-c05f7f9d6386"
    },
    {
      "cell_type": "markdown",
      "metadata": {},
      "source": [
        "Here is the 5th data value in the testing set:"
      ],
      "id": "2d1f0cff-0692-41e3-a31d-b29c17c53bf6"
    },
    {
      "cell_type": "code",
      "execution_count": null,
      "metadata": {},
      "outputs": [
        {
          "output_type": "display_data",
          "metadata": {},
          "data": {
            "image/png": "[encoded data removed]"
          }
        },
        {
          "output_type": "stream",
          "name": "stdout",
          "text": [
            "  Salary Age Purchased Prediction\n",
            "5  55600  29       yes         no"
          ]
        }
      ],
      "source": [
        "plot(traindf_n$Salary, traindf_n$Age, col=train_target, pch=19, xlab=\"Salary\", ylab=\"Age\", xaxt='n', yaxt='n') \n",
        "points(normSalary[5], normAge[5], pch=19, col=\"blue\")"
      ],
      "id": "05164409-5d8e-467d-a129-1ef983b472f5"
    },
    {
      "cell_type": "markdown",
      "metadata": {},
      "source": [
        "Here is the 6th data value in the testing set:"
      ],
      "id": "b735b4d4-6785-4384-bee0-483d15f63506"
    },
    {
      "cell_type": "code",
      "execution_count": null,
      "metadata": {},
      "outputs": [
        {
          "output_type": "display_data",
          "metadata": {},
          "data": {
            "image/png": "[encoded data removed]"
          }
        },
        {
          "output_type": "stream",
          "name": "stdout",
          "text": [
            "  Salary Age Purchased Prediction\n",
            "6  60000  25        no         no"
          ]
        }
      ],
      "source": [
        "plot(traindf_n$Salary, traindf_n$Age, col=train_target, pch=19, xlab=\"Salary\", ylab=\"Age\", xaxt='n', yaxt='n') \n",
        "points(normSalary[6], normAge[6], pch=19, col=\"blue\")"
      ],
      "id": "3d913300-214c-4063-8890-7f30df6cbc02"
    }
  ],
  "nbformat": 4,
  "nbformat_minor": 5,
  "metadata": {
    "kernelspec": {
      "name": "ir",
      "display_name": "R",
      "language": "R"
    }
  }
}