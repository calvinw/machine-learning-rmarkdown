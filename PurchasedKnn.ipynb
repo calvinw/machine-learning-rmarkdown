{
 "cells": [
  {
   "cell_type": "code",
   "execution_count": null,
   "metadata": {},
   "outputs": [],
   "source": [
    "options(repr.plot.width=4, repr.plot.height=4)\n",
    "options(\"scipen\"=100, \"digits\"=4)\n",
    "if(!require(\"readr\")) install.packages(\"readr\")\n",
    "if(!require(\"knitr\")) install.packages(\"knitr\")\n",
    "if(!require(\"Metrics\")) install.packages(\"Metrics\")\n",
    "if(!require(\"class\")) install.packages(\"class\")\n",
    "library(\"readr\")\n",
    "library(\"Metrics\")\n",
    "library(\"class\")\n",
    "library(\"knitr\")\n",
    "knitr::opts_chunk$set(fig.width=4, fig.height=4)\n",
    "normalize <- function(x) {\n",
    "    return ( (x-min(x))/(max(x)-min(x)) )\n",
    "}"
   ]
  },
  {
   "cell_type": "markdown",
   "metadata": {},
   "source": [
    "Using Knn to predict will Purchase\n",
    "----------------------------------\n",
    "\n",
    "So here is the data we have, this will be our training data:\n",
    "\n",
    "-   `Purchased` is our result or outcome\n",
    "-   `Salary`, `Age` are the predictors\n",
    "\n",
    "This data is about what kinds of customers responded to an email ad\n",
    "offering a special deal on a product. Were they high salary or low\n",
    "salary and what about their age? We would like to know if `Salary` and\n",
    "`Age` of the customer can predict whether they bought an item based on\n",
    "the offer they received.\n",
    "\n",
    "Here is our training set:\n",
    "\n",
    "| Salary | Age | Purchased |\n",
    "|:-------|:----|:----------|\n",
    "| 53700  | 41  | no        |\n",
    "| 65300  | 37  | no        |\n",
    "| 48900  | 45  | yes       |\n",
    "| 64800  | 49  | yes       |\n",
    "| 69200  | 30  | yes       |\n",
    "| 55900  | 57  | yes       |\n",
    "| 48600  | 26  | no        |\n",
    "| 72000  | 60  | yes       |\n",
    "| 45300  | 34  | no        |\n",
    "| 69000  | 32  | yes       |\n",
    "| 73200  | 52  | yes       |\n",
    "\n",
    "Lets read it in:"
   ]
  },
  {
   "cell_type": "code",
   "execution_count": null,
   "metadata": {},
   "outputs": [],
   "source": [
    "trainurl<- \"https://docs.google.com/spreadsheets/d/e/2PACX-1vTx21HIv4xKL2c94OLQzMiNPmv5YXw-vAy3dRBL0gnknSMKMK4Ur_4nYGGyDtvS20iU3_r-_zZfQQmj/pub?gid=0&single=true&output=csv\"\n",
    "traindf<-read.csv(trainurl, stringsAsFactors=TRUE)\n",
    "str(traindf)"
   ]
  },
  {
   "cell_type": "markdown",
   "metadata": {},
   "source": [
    "Lets print it out to make sure it looks okay:"
   ]
  },
  {
   "cell_type": "code",
   "execution_count": null,
   "metadata": {},
   "outputs": [],
   "source": [
    "print(traindf)"
   ]
  },
  {
   "cell_type": "markdown",
   "metadata": {},
   "source": [
    "Lets take a look at a graph of the two predictors:"
   ]
  },
  {
   "cell_type": "code",
   "execution_count": null,
   "metadata": {},
   "outputs": [],
   "source": [
    "plot(traindf$Salary, traindf$Age, col=traindf$Purchased, \n",
    "     pch=19,\n",
    "     xlab=\"Salary\",\n",
    "     ylab=\"Age\",\n",
    "     xlim=c(40000,80000), ylim=c(20,70))"
   ]
  },
  {
   "cell_type": "markdown",
   "metadata": {},
   "source": [
    "Red dots represent “yes” and black dots represent “no”\n",
    "\n",
    "We are going to model this situation using Knn (K nearest neighbors):\n",
    "\n",
    "Knn needs both the training and the test set passed to it:\n",
    "\n",
    "Here is our test set:\n",
    "\n",
    "| Salary | Age | Purchased |\n",
    "|:-------|:----|:----------|\n",
    "| 53900  | 45  | yes       |\n",
    "| 64800  | 49  | yes       |\n",
    "| 50000  | 32  | no        |\n",
    "| 55900  | 57  | yes       |\n",
    "| 55600  | 29  | no        |\n",
    "| 60000  | 25  | no        |\n",
    "\n",
    "Lets read it in:"
   ]
  },
  {
   "cell_type": "code",
   "execution_count": null,
   "metadata": {},
   "outputs": [],
   "source": [
    "#read the testing set\n",
    "testurl<- \"https://docs.google.com/spreadsheets/d/e/2PACX-1vTx21HIv4xKL2c94OLQzMiNPmv5YXw-vAy3dRBL0gnknSMKMK4Ur_4nYGGyDtvS20iU3_r-_zZfQQmj/pub?gid=572053114&single=true&output=csv\"\n",
    "testdf<-read.csv(testurl, stringsAsFactors=TRUE)\n",
    "str(testdf)"
   ]
  },
  {
   "cell_type": "markdown",
   "metadata": {},
   "source": [
    "Lets print it out:"
   ]
  },
  {
   "cell_type": "code",
   "execution_count": null,
   "metadata": {},
   "outputs": [],
   "source": [
    "print(testdf)"
   ]
  },
  {
   "cell_type": "markdown",
   "metadata": {},
   "source": [
    "Now lets extract the last column of the training dataset since we need\n",
    "it as the ‘cl’ argument in the knn function. We also remove the\n",
    "`Purchased` column from both the training and the testing data frames\n",
    "since knn expects these both to have no result column.\n",
    "\n",
    "Before we remove it from each dataframe though we save it in a vector:"
   ]
  },
  {
   "cell_type": "code",
   "execution_count": null,
   "metadata": {},
   "outputs": [],
   "source": [
    "train_target <- traindf$Purchased \n",
    "traindf$Purchased <- NULL\n",
    "\n",
    "test_target <- testdf$Purchased\n",
    "testdf$Purchased <- NULL\n",
    "\n",
    "print(traindf)"
   ]
  },
  {
   "cell_type": "markdown",
   "metadata": {},
   "source": [
    "Now before we run the Knn algorithm, we need to normalize (or rescale)\n",
    "the predictors. The following code normalizes both the predictor columns\n",
    "in the each of our dataframes:"
   ]
  },
  {
   "cell_type": "code",
   "execution_count": null,
   "metadata": {},
   "outputs": [],
   "source": [
    "traindf_n <- as.data.frame(lapply(traindf, normalize))\n",
    "testdf_n <- as.data.frame(lapply(testdf, normalize))\n",
    "print(traindf_n)"
   ]
  },
  {
   "cell_type": "markdown",
   "metadata": {},
   "source": [
    "Notice how the predictors are all normalized into the range 0.0 to 1.0\n",
    "\n",
    "Next we call the knn method, which creates the model using the training\n",
    "data, then does predictions for the testing data, and returns the\n",
    "predictions all at once. You must also pass a k value to tell the method\n",
    "how many “nearest neighbors” to use for the model."
   ]
  },
  {
   "cell_type": "code",
   "execution_count": null,
   "metadata": {},
   "outputs": [],
   "source": [
    "set.seed(1234)\n",
    "prediction<-knn(traindf_n, testdf_n, cl=train_target, k=3)\n",
    "print(prediction)"
   ]
  },
  {
   "cell_type": "markdown",
   "metadata": {},
   "source": [
    "We put the actuals and predictions back into the test data frame so we\n",
    "can check accuracy:"
   ]
  },
  {
   "cell_type": "code",
   "execution_count": null,
   "metadata": {},
   "outputs": [],
   "source": [
    "testdf$Purchased <- test_target\n",
    "testdf$Prediction <- prediction\n",
    "print(testdf)"
   ]
  },
  {
   "cell_type": "markdown",
   "metadata": {},
   "source": [
    "Here is the confusion matrix and the accuracy:"
   ]
  },
  {
   "cell_type": "code",
   "execution_count": null,
   "metadata": {},
   "outputs": [],
   "source": [
    "table(prediction=prediction,actual=test_target)\n",
    "accuracy(test_target, prediction)"
   ]
  },
  {
   "cell_type": "markdown",
   "metadata": {},
   "source": [
    "Lets look at some plots of the test data values.\n",
    "\n",
    "First we normalize the predictors for those test values:"
   ]
  },
  {
   "cell_type": "code",
   "execution_count": null,
   "metadata": {},
   "outputs": [],
   "source": [
    "normSalary<-normalize(testdf_n$Salary)\n",
    "normAge<-normalize(testdf_n$Age)"
   ]
  },
  {
   "cell_type": "markdown",
   "metadata": {},
   "source": [
    "Now lets examine the 1st data value in the test set:"
   ]
  },
  {
   "cell_type": "code",
   "execution_count": null,
   "metadata": {},
   "outputs": [],
   "source": [
    "plot(traindf_n$Salary, traindf_n$Age, col=train_target, pch=19, xlab=\"Salary\", ylab=\"Age\", xaxt='n', yaxt='n') \n",
    "points(normSalary[1], normAge[1], pch=19, col=\"blue\")"
   ]
  },
  {
   "cell_type": "code",
   "execution_count": null,
   "metadata": {},
   "outputs": [],
   "source": [
    "print(testdf[1,])"
   ]
  },
  {
   "cell_type": "markdown",
   "metadata": {},
   "source": [
    "Here is the 2nd data value in the testing set:"
   ]
  },
  {
   "cell_type": "code",
   "execution_count": null,
   "metadata": {},
   "outputs": [],
   "source": [
    "plot(traindf_n$Salary, traindf_n$Age, col=train_target, pch=19, xlab=\"Salary\", ylab=\"Age\", xaxt='n', yaxt='n') \n",
    "points(normSalary[2], normAge[2], pch=19, col=\"blue\")"
   ]
  },
  {
   "cell_type": "code",
   "execution_count": null,
   "metadata": {},
   "outputs": [],
   "source": [
    "print(testdf[2,])"
   ]
  },
  {
   "cell_type": "markdown",
   "metadata": {},
   "source": [
    "Here is the 3nd data value in the testing set:"
   ]
  },
  {
   "cell_type": "code",
   "execution_count": null,
   "metadata": {},
   "outputs": [],
   "source": [
    "plot(traindf_n$Salary, traindf_n$Age, col=train_target, pch=19, xlab=\"Salary\", ylab=\"Age\", xaxt='n', yaxt='n') \n",
    "points(normSalary[3], normAge[3], pch=19, col=\"blue\")"
   ]
  },
  {
   "cell_type": "code",
   "execution_count": null,
   "metadata": {},
   "outputs": [],
   "source": [
    "print(testdf[3,])"
   ]
  },
  {
   "cell_type": "markdown",
   "metadata": {},
   "source": [
    "Here is the 4th data value in the testing set:"
   ]
  },
  {
   "cell_type": "code",
   "execution_count": null,
   "metadata": {},
   "outputs": [],
   "source": [
    "plot(traindf_n$Salary, traindf_n$Age, col=train_target, pch=19, xlab=\"Salary\", ylab=\"Age\", xaxt='n', yaxt='n') \n",
    "points(normSalary[4], normAge[4], pch=19, col=\"blue\")"
   ]
  },
  {
   "cell_type": "code",
   "execution_count": null,
   "metadata": {},
   "outputs": [],
   "source": [
    "print(testdf[4,])"
   ]
  },
  {
   "cell_type": "markdown",
   "metadata": {},
   "source": [
    "Here is the 5th data value in the testing set:"
   ]
  },
  {
   "cell_type": "code",
   "execution_count": null,
   "metadata": {},
   "outputs": [],
   "source": [
    "plot(traindf_n$Salary, traindf_n$Age, col=train_target, pch=19, xlab=\"Salary\", ylab=\"Age\", xaxt='n', yaxt='n') \n",
    "points(normSalary[5], normAge[5], pch=19, col=\"blue\")"
   ]
  },
  {
   "cell_type": "code",
   "execution_count": null,
   "metadata": {},
   "outputs": [],
   "source": [
    "print(testdf[5,])"
   ]
  },
  {
   "cell_type": "markdown",
   "metadata": {},
   "source": [
    "Here is the 6th data value in the testing set:"
   ]
  },
  {
   "cell_type": "code",
   "execution_count": null,
   "metadata": {},
   "outputs": [],
   "source": [
    "plot(traindf_n$Salary, traindf_n$Age, col=train_target, pch=19, xlab=\"Salary\", ylab=\"Age\", xaxt='n', yaxt='n') \n",
    "points(normSalary[6], normAge[6], pch=19, col=\"blue\")"
   ]
  },
  {
   "cell_type": "code",
   "execution_count": null,
   "metadata": {},
   "outputs": [],
   "source": [
    "print(testdf[6,])"
   ]
  }
 ],
 "nbformat": 4,
 "nbformat_minor": 5,
 "metadata": {
  "kernelspec": {
   "name": "ir",
   "display_name": "R",
   "language": "R"
  }
 }
}

