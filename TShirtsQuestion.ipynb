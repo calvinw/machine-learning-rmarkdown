{
 "cells": [
  {
   "cell_type": "code",
   "execution_count": null,
   "metadata": {},
   "outputs": [],
   "source": [
    "options(\"scipen\"=100, \"digits\"=4)\n",
    "if(!require(\"readr\")) install.packages(\"readr\")\n",
    "if(!require(\"rpart\")) install.packages(\"rpart\")\n",
    "if(!require(\"rpart.plot\")) install.packages(\"rpart.plot\")\n",
    "if(!require(\"Metrics\")) install.packages(\"Metrics\")\n",
    "library(\"readr\")\n",
    "library(\"rpart\")\n",
    "library(\"rpart.plot\")\n",
    "library(\"Metrics\")"
   ]
  },
  {
   "cell_type": "markdown",
   "metadata": {},
   "source": [
    "Predicting TShirt Size using (Classification) Decision Tree\n",
    "-----------------------------------------------------------\n",
    "\n",
    "First lets take a look at the data we will work with.\n",
    "\n",
    "So here is the data we have, this will be our training data:\n",
    "\n",
    "-   `Size` is our result or outcome\n",
    "-   `Height` and `Weight` are the predictors\n",
    "\n",
    "We hope that we can predict the T Shirt size from the Height and Weight:\n",
    "\n",
    "| Height | Weight | Size |\n",
    "|:-------|:-------|:-----|\n",
    "| 158    | 59     | M    |\n",
    "| 160    | 59     | M    |\n",
    "| 160    | 60     | M    |\n",
    "| 163    | 61     | M    |\n",
    "| 160    | 64     | L    |\n",
    "| 165    | 61     | L    |\n",
    "| 165    | 62     | L    |\n",
    "| 168    | 62     | L    |\n",
    "| 168    | 63     | L    |\n",
    "| 170    | 63     | L    |\n",
    "| 170    | 68     | L    |"
   ]
  },
  {
   "cell_type": "code",
   "execution_count": null,
   "metadata": {},
   "outputs": [],
   "source": [
    "trainurl<-\"https://docs.google.com/spreadsheets/d/e/2PACX-1vQb1-HxaC0FoyX5qGgAqcYRIVS5eZqwwfnECQucfqZ-Kn-65Pdacy80UX4K2AAJQH0WwgPd_OH_6Y7d/pub?gid=0&single=true&output=csv\"\n",
    "traindf<-read.csv(trainurl, stringsAsFactors=TRUE)\n",
    "str(traindf)"
   ]
  },
  {
   "cell_type": "markdown",
   "metadata": {},
   "source": [
    "Now let’s print out the training set to make sure we read it correctly:"
   ]
  },
  {
   "cell_type": "code",
   "execution_count": null,
   "metadata": {},
   "outputs": [],
   "source": [
    "print(traindf)"
   ]
  },
  {
   "cell_type": "markdown",
   "metadata": {},
   "source": [
    "Model - use `Height` and `Weight` to predict `Size`\n",
    "---------------------------------------------------"
   ]
  },
  {
   "cell_type": "code",
   "execution_count": null,
   "metadata": {},
   "outputs": [],
   "source": [
    "control = rpart.control(minsplit=1)\n",
    "model <- PUT CODE HERE \n",
    "rpart.plot(model, type=4, extra = 1, digits=-2)"
   ]
  },
  {
   "cell_type": "markdown",
   "metadata": {},
   "source": [
    "### Fill in the following infomation for this model:\n",
    "\n",
    "This models prediction if `Height` \\>= 164\n",
    "\n",
    "PUT ANSWER HERE\n",
    "\n",
    "This models prediction if `Height` \\< 164 and `Weight` \\< 63\n",
    "\n",
    "PUT ANSWER HERE\n",
    "\n",
    "We also need a testing data set so here it is:\n",
    "\n",
    "| Height | Weight | Size |\n",
    "|:-------|:-------|:-----|\n",
    "| 158    | 58     | M    |\n",
    "| 158    | 63     | M    |\n",
    "| 163    | 60     | M    |\n",
    "| 163    | 64     | L    |\n",
    "| 165    | 65     | L    |\n",
    "| 168    | 66     | L    |\n",
    "| 170    | 64     | L    |"
   ]
  },
  {
   "cell_type": "code",
   "execution_count": null,
   "metadata": {},
   "outputs": [],
   "source": [
    "testurl<-\"https://docs.google.com/spreadsheets/d/e/2PACX-1vQb1-HxaC0FoyX5qGgAqcYRIVS5eZqwwfnECQucfqZ-Kn-65Pdacy80UX4K2AAJQH0WwgPd_OH_6Y7d/pub?gid=15577345&single=true&output=csv\"\n",
    "testdf<-read.csv(testurl, stringsAsFactors=TRUE)\n",
    "str(testdf)"
   ]
  },
  {
   "cell_type": "code",
   "execution_count": null,
   "metadata": {},
   "outputs": [],
   "source": [
    "print(testdf)"
   ]
  },
  {
   "cell_type": "markdown",
   "metadata": {},
   "source": [
    "Now lets do a prediction:"
   ]
  },
  {
   "cell_type": "code",
   "execution_count": null,
   "metadata": {},
   "outputs": [],
   "source": [
    "predictions <- PUT CODE HERE \n",
    "print(predictions)"
   ]
  },
  {
   "cell_type": "markdown",
   "metadata": {},
   "source": [
    "And lets find the accuracy"
   ]
  },
  {
   "cell_type": "code",
   "execution_count": null,
   "metadata": {},
   "outputs": [],
   "source": [
    "actuals <- testdf$Size\n",
    "accuracy(PUT CODE HERE)"
   ]
  }
 ],
 "nbformat": 4,
 "nbformat_minor": 5,
 "metadata": {
  "kernelspec": {
   "name": "ir",
   "display_name": "R",
   "language": "R"
  }
 }
}

