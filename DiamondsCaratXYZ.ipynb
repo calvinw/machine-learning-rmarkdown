{
 "cells": [
  {
   "cell_type": "code",
   "execution_count": null,
   "metadata": {},
   "outputs": [],
   "source": [
    "ads<-c(50,55,100,30,25,60)\n",
    "pop<-c(5,4,8,1.5,3.5,1)\n",
    "sales<-c(350,400,500,300,350,400)\n",
    "\n",
    "df<-data.frame(ads, pop, sales)"
   ]
  },
  {
   "cell_type": "code",
   "execution_count": null,
   "metadata": {},
   "outputs": [],
   "source": [
    "str(df)"
   ]
  },
  {
   "cell_type": "markdown",
   "metadata": {},
   "source": [
    "Lets look at the correlation coefficient R for correlation between ads\n",
    "and sales"
   ]
  },
  {
   "cell_type": "code",
   "execution_count": null,
   "metadata": {},
   "outputs": [],
   "source": [
    "R = cor(df$ads, df$sales)\n",
    "R\n",
    "R*R"
   ]
  },
  {
   "cell_type": "markdown",
   "metadata": {},
   "source": [
    "Lets take a look at the scatterplot for ads and sales:"
   ]
  },
  {
   "cell_type": "code",
   "execution_count": null,
   "metadata": {},
   "outputs": [],
   "source": [
    "plot(df$ads,df$sales, main=\"Ads and Sales\", xlab=\"Ads\", ylab=\"Sales\", pch=19)"
   ]
  },
  {
   "cell_type": "markdown",
   "metadata": {},
   "source": [
    "Here is the R squared for population and sales"
   ]
  },
  {
   "cell_type": "code",
   "execution_count": null,
   "metadata": {},
   "outputs": [],
   "source": [
    "R = cor(df$pop, df$sales)\n",
    "R\n",
    "R*R"
   ]
  },
  {
   "cell_type": "markdown",
   "metadata": {},
   "source": [
    "Lets take a look at the scatterplot for population and sales:"
   ]
  },
  {
   "cell_type": "code",
   "execution_count": null,
   "metadata": {},
   "outputs": [],
   "source": [
    "plot(df$pop,df$sales, \n",
    "     main=\"Population and Sales\", \n",
    "     xlab=\"Population\", \n",
    "     ylab=\"Sales\", \n",
    "     pch=19)"
   ]
  },
  {
   "cell_type": "markdown",
   "metadata": {},
   "source": [
    "The following shows the correlation matrix"
   ]
  },
  {
   "cell_type": "code",
   "execution_count": null,
   "metadata": {},
   "outputs": [],
   "source": [
    "cor(df)"
   ]
  },
  {
   "cell_type": "code",
   "execution_count": null,
   "metadata": {},
   "outputs": [],
   "source": [
    "plot(df, \n",
    "     upper.panel = NULL, \n",
    "     pch = 19, \n",
    "     cex.labels=1.25)"
   ]
  },
  {
   "cell_type": "markdown",
   "metadata": {},
   "source": [
    "We can see that there is a fair amount of correlation between ads and\n",
    "population. This could affect which is the best model."
   ]
  },
  {
   "cell_type": "code",
   "execution_count": null,
   "metadata": {},
   "outputs": [],
   "source": [
    "model1 = lm(sales ~ ads + pop, data=df)\n",
    "summary(model1)"
   ]
  },
  {
   "cell_type": "markdown",
   "metadata": {},
   "source": [
    "Test for overall significant:\n",
    "\n",
    "$$ \\text{p-value} = .0385 $$\n",
    "\n",
    "p-value for ads:\n",
    "\n",
    "$$ \\text{p-value} = .0484 $$\n",
    "\n",
    "p-value for population:\n",
    "\n",
    "$$ \\text{p-value} = 0.7456 $$\n",
    "\n",
    "We can see that population is not significant in this model. So we\n",
    "exclude it and run the regression again using only sales and ads. Part\n",
    "of the problem here is that ads and population have some collinearity."
   ]
  },
  {
   "cell_type": "code",
   "execution_count": null,
   "metadata": {},
   "outputs": [],
   "source": [
    "model2 = lm(sales ~ ads, data=df)\n",
    "summary(model2)"
   ]
  },
  {
   "cell_type": "markdown",
   "metadata": {},
   "source": [
    "Test for overall significant of linear relationship:\n",
    "\n",
    "$$ \\text{p-value} = 0.00552 $$\n",
    "\n",
    "The regression equation is this:\n",
    "\n",
    "$$ sales =2.40(ads) + 255.58 $$\n",
    "\n",
    "The standard error is:\n",
    "\n",
    "$$ \\text{standard error} = 26.3  $$\n",
    "\n",
    "Using your chosen model, predict the value of sales as follows.\n",
    "\n",
    "Make predictions when:\n",
    "\n",
    "1.  spending is \\$40,000 on ads and a population of 2.0 million\n",
    "2.  spending is \\$35,000 on ads and a population of 1.6 million\n",
    "3.  spending is \\$50,000 on ads and a population of 3.6 million"
   ]
  },
  {
   "cell_type": "code",
   "execution_count": null,
   "metadata": {},
   "outputs": [],
   "source": [
    "predictors = data.frame(ads=c(40,35,50))\n",
    "predictions<-predict(model2, predictors)\n",
    "round(predictions)"
   ]
  }
 ],
 "nbformat": 4,
 "nbformat_minor": 5,
 "metadata": {
  "kernelspec": {
   "name": "ir",
   "display_name": "R",
   "language": "R"
  }
 }
}
