{
 "cells": [
  {
   "cell_type": "code",
   "execution_count": null,
   "metadata": {},
   "outputs": [],
   "source": [
    "options(\"scipen\"=100, \"digits\"=4)\n",
    "diamonds<-read.csv(\"https://docs.google.com/spreadsheets/d/e/2PACX-1vRg0HUg626uF8xJrZaYZsgOa2Gtfhlnsn00e9fPofb01nRreOucglncXo1xU_cwhueUY8iqC_60ua9t/pub?gid=1994063173&single=true&output=csv\")\n",
    "df<-diamonds[100:200,]\n",
    "row.names(df)<-NULL"
   ]
  },
  {
   "cell_type": "code",
   "execution_count": null,
   "metadata": {},
   "outputs": [],
   "source": [
    "str(df)\n",
    "head(df)"
   ]
  },
  {
   "cell_type": "code",
   "execution_count": null,
   "metadata": {},
   "outputs": [],
   "source": [
    "df$cut <- NULL\n",
    "df$depth <- NULL\n",
    "df$table<-NULL\n",
    "df$clarity<-NULL\n",
    "df$color<-NULL\n",
    "df$carat<-NULL\n",
    "str(df)\n",
    "head(df)"
   ]
  },
  {
   "cell_type": "code",
   "execution_count": null,
   "metadata": {},
   "outputs": [],
   "source": [
    "model<-lm(price~x+y+z,data=df)\n",
    "summary(model)"
   ]
  },
  {
   "cell_type": "code",
   "execution_count": null,
   "metadata": {},
   "outputs": [],
   "source": [
    "cor(df)"
   ]
  },
  {
   "cell_type": "code",
   "execution_count": null,
   "metadata": {},
   "outputs": [],
   "source": [
    "plot(df, upper.panel=NULL, pch=19)"
   ]
  },
  {
   "cell_type": "code",
   "execution_count": null,
   "metadata": {},
   "outputs": [],
   "source": [
    "modelXandZ<-lm(price~x+z, data=df)\n",
    "summary(modelXandZ)"
   ]
  },
  {
   "cell_type": "code",
   "execution_count": null,
   "metadata": {},
   "outputs": [],
   "source": [
    "modelY<-lm(price~y, data=df)\n",
    "summary(modelY)\n",
    "\n",
    "plot(df$y, df$price, pch=19)\n",
    "abline(modelY)"
   ]
  },
  {
   "cell_type": "code",
   "execution_count": null,
   "metadata": {},
   "outputs": [],
   "source": [
    "modelX<-lm(price~x, data=df)\n",
    "summary(modelX)\n",
    "\n",
    "plot(df$x, df$price, pch=19)\n",
    "abline(modelX)"
   ]
  },
  {
   "cell_type": "code",
   "execution_count": null,
   "metadata": {},
   "outputs": [],
   "source": [
    "modelZ<-lm(price~z, data=df)\n",
    "summary(modelZ)\n",
    "\n",
    "plot(df$z, df$price, pch=19)\n",
    "abline(modelZ)"
   ]
  }
 ],
 "nbformat": 4,
 "nbformat_minor": 5,
 "metadata": {
  "kernelspec": {
   "name": "ir",
   "display_name": "R",
   "language": "R"
  }
 }
}
