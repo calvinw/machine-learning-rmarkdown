{
 "cells": [
  {
   "cell_type": "markdown",
   "metadata": {},
   "source": [
    "Install rvest if needed and then load it:"
   ]
  },
  {
   "cell_type": "code",
   "execution_count": null,
   "metadata": {},
   "outputs": [],
   "source": [
    "options(repr.plot.width=7, repr.plot.height=7)\n",
    "knitr::opts_chunk$set(fig.width=7, fig.height=7)\n",
    "if (!require(\"rvest\")) install.packages(\"rvest\")\n",
    "library(\"rvest\")"
   ]
  },
  {
   "cell_type": "code",
   "execution_count": null,
   "metadata": {},
   "outputs": [],
   "source": [
    "url <- \"https://www.tradesy.com/on-sale/?page=1&num_per_page=192\"\n",
    "webpage <- read_html(url)"
   ]
  },
  {
   "cell_type": "code",
   "execution_count": null,
   "metadata": {},
   "outputs": [],
   "source": [
    "nodes <- html_nodes(webpage, \".item-brand\")\n",
    "brand <- html_text(nodes)\n",
    "brand<-trimws(brand)\n",
    "str(brand)\n",
    "allbrands<-brand"
   ]
  },
  {
   "cell_type": "code",
   "execution_count": null,
   "metadata": {},
   "outputs": [],
   "source": [
    "nodes <- html_nodes(webpage, \".item-title\")\n",
    "title <- html_text(nodes)\n",
    "title<-trimws(title)\n",
    "str(title)"
   ]
  },
  {
   "cell_type": "code",
   "execution_count": null,
   "metadata": {},
   "outputs": [],
   "source": [
    "nodes <- html_nodes(webpage, \".item-price>em\")\n",
    "price<- html_text(nodes)\n",
    "price<-gsub(\"\\\\s\", \"\", price)\n",
    "price<-gsub(\",\",\"\",price)\n",
    "price<-sub(\"$\", \"\", price, fixed=TRUE)\n",
    "price<-as.numeric(price)\n",
    "allprices<-as.numeric(price)\n",
    "str(price)"
   ]
  },
  {
   "cell_type": "code",
   "execution_count": null,
   "metadata": {},
   "outputs": [],
   "source": [
    "nodes <- html_nodes(webpage, \".item-price\")\n",
    "orig<- html_text(nodes)\n",
    "orig<-gsub(\"\\\\s\", \"\", orig)\n",
    "orig<-gsub(\",\",\"\",orig)\n",
    "orig<-sub(\"$\", \"\", orig, fixed=TRUE)\n",
    "orig<-strsplit(orig, \"$\", fixed=TRUE)\n",
    "orig<-lapply(orig, function(v){v[2]}) \n",
    "orig<-unlist(orig)\n",
    "orig<-as.numeric(orig)\n",
    "str(orig)"
   ]
  },
  {
   "cell_type": "code",
   "execution_count": null,
   "metadata": {},
   "outputs": [],
   "source": [
    "brand <- brand[!is.na(orig)]\n",
    "title <- title[!is.na(orig)]\n",
    "price<- price[!is.na(orig)]\n",
    "orig <- orig[!is.na(orig)]\n",
    "str(brand)\n",
    "str(title)\n",
    "str(price)\n",
    "str(orig)"
   ]
  },
  {
   "cell_type": "code",
   "execution_count": null,
   "metadata": {},
   "outputs": [],
   "source": [
    "discount<- round((orig - price)/orig * 100)\n",
    "df<-data.frame(brand, title, price, orig, discount)\n",
    "str(df)\n",
    "head(df)"
   ]
  },
  {
   "cell_type": "code",
   "execution_count": null,
   "metadata": {},
   "outputs": [],
   "source": [
    "barplot(table(allbrands), las=2, horiz=TRUE, main=\"Brands\", cex.names=.5)"
   ]
  },
  {
   "cell_type": "code",
   "execution_count": null,
   "metadata": {},
   "outputs": [],
   "source": [
    "hist(discount, breaks=20, main=\"Discounts\")"
   ]
  },
  {
   "cell_type": "code",
   "execution_count": null,
   "metadata": {},
   "outputs": [],
   "source": [
    "hist(allprices, xlab=\"prices\", breaks=20, main=\"Prices\")"
   ]
  },
  {
   "cell_type": "code",
   "execution_count": null,
   "metadata": {},
   "outputs": [],
   "source": [
    "plot(orig,price, pch=19, main=\"Price vs Original\")"
   ]
  }
 ],
 "nbformat": 4,
 "nbformat_minor": 5,
 "metadata": {
  "kernelspec": {
   "name": "ir",
   "display_name": "R",
   "language": "R"
  }
 }
}
