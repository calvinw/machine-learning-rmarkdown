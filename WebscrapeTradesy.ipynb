{
 "cells": [
  {
   "cell_type": "markdown",
   "metadata": {},
   "source": [
    "Install rvest if needed and then load it:"
   ]
  },
  {
   "cell_type": "code",
   "execution_count": null,
   "metadata": {},
   "outputs": [],
   "source": [
    "options(repr.plot.width=8, repr.plot.height=8)\n",
    "knitr::opts_chunk$set(fig.width=6, fig.height=10)\n",
    "if (!require(\"rvest\")) install.packages(\"rvest\")\n",
    "library(\"rvest\")"
   ]
  },
  {
   "cell_type": "code",
   "execution_count": null,
   "metadata": {},
   "outputs": [],
   "source": [
    "url <- \"https://www.tradesy.com/on-sale/?page=3&num_per_page=192\"\n",
    "webpage <- read_html(url)"
   ]
  },
  {
   "cell_type": "code",
   "execution_count": null,
   "metadata": {},
   "outputs": [],
   "source": [
    "nodes <- html_nodes(webpage, \".item-brand\")\n",
    "brand <- html_text(nodes)\n",
    "brand<-trimws(brand)\n",
    "str(brand)"
   ]
  },
  {
   "cell_type": "code",
   "execution_count": null,
   "metadata": {},
   "outputs": [],
   "source": [
    "nodes <- html_nodes(webpage, \".item-title\")\n",
    "title <- html_text(nodes)\n",
    "title<-trimws(title)\n",
    "str(title)"
   ]
  },
  {
   "cell_type": "code",
   "execution_count": null,
   "metadata": {},
   "outputs": [],
   "source": [
    "nodes <- html_nodes(webpage, \".item-price\")\n",
    "prices<- html_text(nodes)\n",
    "prices<-gsub(\"\\\\s\", \"\", prices)\n",
    "prices<-strsplit(prices, \"\\\\$\")\n",
    "head(prices)"
   ]
  },
  {
   "cell_type": "code",
   "execution_count": null,
   "metadata": {},
   "outputs": [],
   "source": [
    "price<-lapply(prices, function(x){x[2]}) \n",
    "price<-gsub(\",\", \"\", price)\n",
    "price<-as.numeric(price)\n",
    "str(price)\n",
    "head(price)"
   ]
  },
  {
   "cell_type": "code",
   "execution_count": null,
   "metadata": {},
   "outputs": [],
   "source": [
    "orig<-lapply(prices, function(x){x[3]}) \n",
    "orig<-gsub(\",\", \"\", orig)\n",
    "orig[is.na(orig)]<-\"\"\n",
    "orig<-as.numeric(orig)\n",
    "str(orig)\n",
    "head(orig)"
   ]
  },
  {
   "cell_type": "code",
   "execution_count": null,
   "metadata": {},
   "outputs": [],
   "source": [
    "df<-data.frame(brand, title, price, orig)\n",
    "str(df)"
   ]
  },
  {
   "cell_type": "code",
   "execution_count": null,
   "metadata": {},
   "outputs": [],
   "source": [
    "barplot(table(df$brand), las=2, horiz=TRUE, cex.names=.5)"
   ]
  },
  {
   "cell_type": "code",
   "execution_count": null,
   "metadata": {},
   "outputs": [],
   "source": [
    "dfprices<-data.frame(price,orig)\n",
    "reduction<- round((orig - price)/orig * 100)\n",
    "dfprices$reduction<- reduction\n",
    "dfprices"
   ]
  },
  {
   "cell_type": "code",
   "execution_count": null,
   "metadata": {},
   "outputs": [],
   "source": [
    "hist(dfprices$reduction)"
   ]
  },
  {
   "cell_type": "code",
   "execution_count": null,
   "metadata": {},
   "outputs": [],
   "source": [
    "plot(dfprices$orig,dfprices$price)"
   ]
  }
 ],
 "nbformat": 4,
 "nbformat_minor": 5,
 "metadata": {
  "kernelspec": {
   "name": "ir",
   "display_name": "R",
   "language": "R"
  }
 }
}

