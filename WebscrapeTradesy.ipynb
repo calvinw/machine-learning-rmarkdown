{
  "cells": [
    {
      "cell_type": "markdown",
      "metadata": {},
      "source": [
        "# Webscraping Tradesy\n",
        "\n",
        "Install rvest if needed and then load it:"
      ],
      "id": "94b18d23-dabb-4623-a092-1fc6c3c2fbab"
    },
    {
      "cell_type": "code",
      "execution_count": null,
      "metadata": {},
      "outputs": [],
      "source": [
        "options(repr.plot.width=7, repr.plot.height=7)\n",
        "knitr::opts_chunk$set(fig.width=7, fig.height=7)\n",
        "if (!require(\"rvest\")) install.packages(\"rvest\")\n",
        "library(\"rvest\")"
      ],
      "id": "4917b562-a5f3-4e04-b027-6db2ffa23996"
    },
    {
      "cell_type": "markdown",
      "metadata": {},
      "source": [
        "-   Now read one of the pages for on-sale at tradesy:"
      ],
      "id": "f84a88c6-fb25-4cbc-92e8-b206ca5e248d"
    },
    {
      "cell_type": "code",
      "execution_count": null,
      "metadata": {},
      "outputs": [],
      "source": [
        "url <- \"https://www.tradesy.com/on-sale/?page=1&num_per_page=191\"\n",
        "webpage <- read_html(url)"
      ],
      "id": "7068498b-9edc-4c7e-beb4-12194f89fa8a"
    },
    {
      "cell_type": "markdown",
      "metadata": {},
      "source": [
        "-   Lets try to find the brand from the webpage using selector gadget:"
      ],
      "id": "e173f6e7-5f28-4059-bd36-4350862ca3c5"
    },
    {
      "cell_type": "code",
      "execution_count": null,
      "metadata": {},
      "outputs": [
        {
          "output_type": "stream",
          "name": "stdout",
          "text": [
            " chr [1:191] \"Louis Vuitton\" \"Louis Vuitton\" \"Chanel\" \"Louis Vuitton\" ..."
          ]
        }
      ],
      "source": [
        "nodes <- html_nodes(webpage, \".item-tile__title-link .tdc-bold\")\n",
        "brand <- html_text(nodes)\n",
        "brand<-trimws(brand)\n",
        "str(brand)"
      ],
      "id": "4f1fa021-e434-4ffc-8805-74e9c97a9d7f"
    },
    {
      "cell_type": "markdown",
      "metadata": {},
      "source": [
        "-   Let’s use the `table` function to print out a frequency table (or\n",
        "    tally) of the brands."
      ],
      "id": "8bc816f7-a9be-4694-b6cc-34acfbadd199"
    },
    {
      "cell_type": "code",
      "execution_count": null,
      "metadata": {},
      "outputs": [
        {
          "output_type": "stream",
          "name": "stdout",
          "text": [
            "brand\n",
            "         Balenciaga            Burberry             Cartier              Chanel \n",
            "                  2                   2                   1                  22 \n",
            "Christian Louboutin                Dior               Fendi            Givenchy \n",
            "                  1                   2                   4                   1 \n",
            "             Goyard               Gucci              Hermès       Louis Vuitton \n",
            "                  3                  31                   5                  97 \n",
            "                MCM               Prada               Rolex       Saint Laurent \n",
            "                  1                   6                   2                   6 \n",
            "      Tiffany & Co.          Tory Burch           Valentino          ZIMMERMANN \n",
            "                  2                   1                   1                   1 "
          ]
        }
      ],
      "source": [
        "table(brand)"
      ],
      "id": "53e047fb-175b-4814-a447-63d046701715"
    },
    {
      "cell_type": "markdown",
      "metadata": {},
      "source": [
        "-   Now let’s use `barplot` to get a barplot of the frequency table from\n",
        "    above."
      ],
      "id": "edac399c-1315-4759-9187-10252b0eec0d"
    },
    {
      "cell_type": "code",
      "execution_count": null,
      "metadata": {},
      "outputs": [
        {
          "output_type": "display_data",
          "metadata": {},
          "data": {
            "image/png": "[encoded data removed]"
          }
        }
      ],
      "source": [
        "barplot(table(brand), las=2, horiz=TRUE, main=\"Brands\", cex.names=.5)"
      ],
      "id": "3556d785-f244-4a8c-8ee1-c93da0097ba2"
    },
    {
      "cell_type": "markdown",
      "metadata": {},
      "source": [
        "-   Now let’s use use selector gadget to the the item title"
      ],
      "id": "0e1e52cb-c801-4cd1-b194-fd333dd85652"
    },
    {
      "cell_type": "code",
      "execution_count": null,
      "metadata": {},
      "outputs": [
        {
          "output_type": "stream",
          "name": "stdout",
          "text": [
            " chr [1:191] \"Small Kirigami Only Brown Mono...\" ..."
          ]
        }
      ],
      "source": [
        "nodes <- html_nodes(webpage, \".item-tile__title-link .tdc-ellipsis-text\")\n",
        "title <- html_text(nodes)\n",
        "title<-trimws(title)\n",
        "str(title)"
      ],
      "id": "5d1c0c36-ca60-40fa-81f9-2dd1ed6c7963"
    },
    {
      "cell_type": "markdown",
      "metadata": {},
      "source": [
        "-   Now let’s use use selector gadget to the the price"
      ],
      "id": "24877e07-1604-45b7-8ec8-9ad59daa4894"
    },
    {
      "cell_type": "code",
      "execution_count": null,
      "metadata": {},
      "outputs": [
        {
          "output_type": "stream",
          "name": "stdout",
          "text": [
            " num [1:191] 479 670 963 689 504 ..."
          ]
        }
      ],
      "source": [
        "nodes <- html_nodes(webpage, \".item-tile__display-price--sale span:nth-child(1)\")\n",
        "prices<- html_text(nodes)\n",
        "prices<-gsub(\",\",\"\",prices)\n",
        "prices<-sub(\"$\", \"\", prices, fixed=TRUE)\n",
        "#orig<-as.numeric(orig)\n",
        "#price<-gsub(\"\\\\s\", \"\", price)\n",
        "#price<-sub(\"$\", \"\", price, fixed=TRUE)\n",
        "#price<-as.numeric(price)\n",
        "prices<-as.numeric(prices)\n",
        "str(prices)"
      ],
      "id": "8039665c-066c-4d49-b5e4-4f419559f844"
    },
    {
      "cell_type": "markdown",
      "metadata": {},
      "source": [
        "-   Now print out the prices and a histogram of prices"
      ],
      "id": "1fa873e3-6a14-4b10-967d-77ed8e2f6304"
    },
    {
      "cell_type": "code",
      "execution_count": null,
      "metadata": {},
      "outputs": [
        {
          "output_type": "stream",
          "name": "stdout",
          "text": [
            "  [1]  479.10  670.50  963.00  689.00  504.29  715.00  230.00  425.00  325.72\n",
            " [10] 2799.60 1298.99 1325.00  699.00  879.00 1404.60  638.00  498.00  999.00\n",
            " [19]  998.70  815.00  450.00  575.50  690.00  338.95 1112.49  410.00  631.00\n",
            " [28]  703.00  894.75  265.00  540.00  468.57 2515.00 1890.00 1075.72  898.00\n",
            " [37] 1224.75  408.00  815.00  465.00  265.00  775.75  517.17  555.00  937.50\n",
            " [46]  799.00  999.00  962.00  338.00  728.65  703.75  200.00  350.00  917.70\n",
            " [55]  611.43  965.00  695.25  984.75  423.00 1247.50  386.00 1075.72 1550.25\n",
            " [64]  790.00  125.00  565.00  515.00  700.00  973.50  384.00  984.75  897.15\n",
            " [73] 1222.99  564.10  197.00  342.19  756.60  984.75  381.00  504.29  697.00\n",
            " [82]  893.00  660.00  390.00 2102.00  540.00  165.00  490.00  603.60  790.00\n",
            " [91]  888.00 1265.25  248.63 1725.00 1033.00  230.00 1265.00  904.80  409.00\n",
            "[100]  182.86  815.00 1015.00 1509.00  930.00  780.00  340.00  267.00 1395.00\n",
            "[109]  545.25  894.75 1630.00  566.00  397.15 1235.25 4030.00  212.50   49.00\n",
            "[118]  749.00 1728.00 1095.00 1015.00  865.00  468.57  775.00  294.00  298.00\n",
            "[127]  432.86  373.15  444.75 1073.00  450.00 1682.86  836.53 4965.00 3014.00\n",
            "[136] 1065.00  418.75 2090.95 1616.00  699.00  234.80 1950.00  525.00  548.10\n",
            "[145] 1185.00  329.80 3189.64 1662.50  303.38 4300.20 2391.00 2450.25 1199.00\n",
            "[154] 1869.30 1499.25 1682.86 5079.99  490.00  620.00  999.00 3800.25 1040.00\n",
            "[163] 1395.00 1599.00  540.00  575.72  281.00  373.00 1098.20  432.86  199.00\n",
            "[172]  330.00  395.00  307.86  279.10  115.99 2515.00  399.50  505.00  997.75\n",
            "[181]  799.00 1229.99 1432.86  323.00 1280.00  294.00  515.00  492.00 3449.00\n",
            "[190] 6426.00 1614.00"
          ]
        }
      ],
      "source": [
        "prices"
      ],
      "id": "46169096-ab42-4597-803f-93a6abe75bd6"
    },
    {
      "cell_type": "markdown",
      "metadata": {},
      "source": [
        "-   Now print out a histogram of prices"
      ],
      "id": "91cfef3b-e456-4369-b00e-042eed0f2bdf"
    },
    {
      "cell_type": "code",
      "execution_count": null,
      "metadata": {},
      "outputs": [
        {
          "output_type": "display_data",
          "metadata": {},
          "data": {
            "image/png": "[encoded data removed]"
          }
        }
      ],
      "source": [
        "hist(prices, xlab=\"prices\", breaks=20, main=\"Prices\")"
      ],
      "id": "57f444c0-69a8-496c-915c-60cf64f4c699"
    }
  ],
  "nbformat": 4,
  "nbformat_minor": 5,
  "metadata": {
    "kernelspec": {
      "name": "ir",
      "display_name": "R",
      "language": "R"
    }
  }
}