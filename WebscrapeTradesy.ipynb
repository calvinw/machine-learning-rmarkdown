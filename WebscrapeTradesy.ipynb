{
 "cells": [
  {
   "cell_type": "markdown",
   "metadata": {},
   "source": [
    "Install rvest if needed and then load it:"
   ]
  },
  {
   "cell_type": "code",
   "execution_count": null,
   "metadata": {},
   "outputs": [],
   "source": [
    "options(repr.plot.width=7, repr.plot.height=7)\n",
    "knitr::opts_chunk$set(fig.width=7, fig.height=7)\n",
    "if (!require(\"rvest\")) install.packages(\"rvest\")\n",
    "library(\"rvest\")"
   ]
  },
  {
   "cell_type": "markdown",
   "metadata": {},
   "source": [
    "-   Now read one of the pages for on-sale at tradesy:"
   ]
  },
  {
   "cell_type": "code",
   "execution_count": null,
   "metadata": {},
   "outputs": [],
   "source": [
    "url <- \"https://www.tradesy.com/on-sale/?page=1&num_per_page=191\"\n",
    "webpage <- read_html(url)"
   ]
  },
  {
   "cell_type": "markdown",
   "metadata": {},
   "source": [
    "-   Lets try to find the brand from the webpage using selector gadget:"
   ]
  },
  {
   "cell_type": "code",
   "execution_count": null,
   "metadata": {},
   "outputs": [],
   "source": [
    "nodes <- html_nodes(webpage, \".item-tile__title-link .tdc-bold\")\n",
    "brand <- html_text(nodes)\n",
    "brand<-trimws(brand)\n",
    "str(brand)"
   ]
  },
  {
   "cell_type": "markdown",
   "metadata": {},
   "source": [
    "-   Let’s use the `table` function to print out a frequency table (or\n",
    "    tally) of the brands."
   ]
  },
  {
   "cell_type": "code",
   "execution_count": null,
   "metadata": {},
   "outputs": [],
   "source": [
    "table(brand)"
   ]
  },
  {
   "cell_type": "markdown",
   "metadata": {},
   "source": [
    "-   Now let’s use `barplot` to get a barplot of the frequency table from\n",
    "    above."
   ]
  },
  {
   "cell_type": "code",
   "execution_count": null,
   "metadata": {},
   "outputs": [],
   "source": [
    "barplot(table(brand), las=2, horiz=TRUE, main=\"Brands\", cex.names=.5)"
   ]
  },
  {
   "cell_type": "markdown",
   "metadata": {},
   "source": [
    "-   Now let’s use use selector gadget to the the item title"
   ]
  },
  {
   "cell_type": "code",
   "execution_count": null,
   "metadata": {},
   "outputs": [],
   "source": [
    "nodes <- html_nodes(webpage, \".item-tile__title-link .tdc-ellipsis-text\")\n",
    "title <- html_text(nodes)\n",
    "title<-trimws(title)\n",
    "str(title)"
   ]
  },
  {
   "cell_type": "markdown",
   "metadata": {},
   "source": [
    "-   Now let’s use use selector gadget to the the price"
   ]
  },
  {
   "cell_type": "code",
   "execution_count": null,
   "metadata": {},
   "outputs": [],
   "source": [
    "nodes <- html_nodes(webpage, \".item-tile__display-price--sale span:nth-child(1)\")\n",
    "prices<- html_text(nodes)\n",
    "prices<-gsub(\",\",\"\",prices)\n",
    "prices<-sub(\"$\", \"\", prices, fixed=TRUE)\n",
    "#orig<-as.numeric(orig)\n",
    "#price<-gsub(\"\\\\s\", \"\", price)\n",
    "#price<-sub(\"$\", \"\", price, fixed=TRUE)\n",
    "#price<-as.numeric(price)\n",
    "prices<-as.numeric(prices)\n",
    "str(prices)"
   ]
  },
  {
   "cell_type": "markdown",
   "metadata": {},
   "source": [
    "-   Now print out the prices and a histogram of prices"
   ]
  },
  {
   "cell_type": "code",
   "execution_count": null,
   "metadata": {},
   "outputs": [],
   "source": [
    "prices"
   ]
  },
  {
   "cell_type": "markdown",
   "metadata": {},
   "source": [
    "-   Now print out a histogram of prices"
   ]
  },
  {
   "cell_type": "code",
   "execution_count": null,
   "metadata": {},
   "outputs": [],
   "source": [
    "hist(prices, xlab=\"prices\", breaks=20, main=\"Prices\")"
   ]
  }
 ],
 "nbformat": 4,
 "nbformat_minor": 5,
 "metadata": {
  "kernelspec": {
   "name": "ir",
   "display_name": "R",
   "language": "R"
  }
 }
}
