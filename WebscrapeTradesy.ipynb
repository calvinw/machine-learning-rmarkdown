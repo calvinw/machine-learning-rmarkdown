{
  "cells": [
    {
      "cell_type": "markdown",
      "metadata": {},
      "source": [
        "# Webscraping Tradesy\n",
        "\n",
        "Install rvest if needed and then load it:"
      ],
      "id": "4d58b790-a768-4fe3-a1b2-2e2083ed0445"
    },
    {
      "cell_type": "code",
      "execution_count": null,
      "metadata": {},
      "outputs": [],
      "source": [
        "options(repr.plot.width=7, repr.plot.height=7)\n",
        "knitr::opts_chunk$set(fig.width=7, fig.height=7)\n",
        "if (!require(\"rvest\")) install.packages(\"rvest\")\n",
        "library(\"rvest\")"
      ],
      "id": "3b11cc3a-ff3e-4ef3-b595-8e1d5925a9e9"
    },
    {
      "cell_type": "markdown",
      "metadata": {},
      "source": [
        "-   Now read one of the pages for on-sale at tradesy:"
      ],
      "id": "2418a869-ef72-4061-9ee0-bd4842a9cde6"
    },
    {
      "cell_type": "code",
      "execution_count": null,
      "metadata": {},
      "outputs": [],
      "source": [
        "url <- \"https://www.tradesy.com/on-sale/?page=1&num_per_page=191\"\n",
        "webpage <- read_html(url)"
      ],
      "id": "109edbec-2f02-48f2-8f11-727cdcec716a"
    },
    {
      "cell_type": "markdown",
      "metadata": {},
      "source": [
        "-   Lets try to find the brand from the webpage using selector gadget:"
      ],
      "id": "31d81b57-8841-4226-8f83-47e4079aeb3f"
    },
    {
      "cell_type": "code",
      "execution_count": null,
      "metadata": {},
      "outputs": [
        {
          "output_type": "stream",
          "name": "stdout",
          "text": [
            " chr [1:191] \"Louis Vuitton\" \"Louis Vuitton\" \"Chanel\" \"Louis Vuitton\" ..."
          ]
        }
      ],
      "source": [
        "nodes <- html_nodes(webpage, \".item-tile__title-link .tdc-bold\")\n",
        "brand <- html_text(nodes)\n",
        "brand<-trimws(brand)\n",
        "str(brand)"
      ],
      "id": "28461260-29cd-4106-b7c7-5a87fbc1392f"
    },
    {
      "cell_type": "markdown",
      "metadata": {},
      "source": [
        "-   Let’s use the `table` function to print out a frequency table (or\n",
        "    tally) of the brands."
      ],
      "id": "4a4d464b-6977-4526-a6f6-ef01e975bdc3"
    },
    {
      "cell_type": "code",
      "execution_count": null,
      "metadata": {},
      "outputs": [
        {
          "output_type": "stream",
          "name": "stdout",
          "text": [
            "brand\n",
            "         Balenciaga            Burberry             Cartier              Chanel \n",
            "                  2                   2                   1                  21 \n",
            "Christian Louboutin                Dior               Fendi            Givenchy \n",
            "                  1                   3                   5                   1 \n",
            "             Goyard               Gucci              Hermès       Louis Vuitton \n",
            "                  3                  31                   5                  96 \n",
            "                MCM               Prada               Rolex       Saint Laurent \n",
            "                  1                   6                   2                   6 \n",
            "      Tiffany & Co.          Tory Burch           Valentino          ZIMMERMANN \n",
            "                  2                   1                   1                   1 "
          ]
        }
      ],
      "source": [
        "table(brand)"
      ],
      "id": "9d249b6b-1457-4c08-86a5-90d26519f1fe"
    },
    {
      "cell_type": "markdown",
      "metadata": {},
      "source": [
        "-   Now let’s use `barplot` to get a barplot of the frequency table from\n",
        "    above."
      ],
      "id": "16ec525c-c073-4db1-ad7f-41c743a747d2"
    },
    {
      "cell_type": "code",
      "execution_count": null,
      "metadata": {},
      "outputs": [
        {
          "output_type": "display_data",
          "metadata": {},
          "data": {
            "image/png": "[encoded data removed]"
          }
        }
      ],
      "source": [
        "barplot(table(brand), las=2, horiz=TRUE, main=\"Brands\", cex.names=.5)"
      ],
      "id": "08671cb8-a107-4884-800f-54037bc7f026"
    },
    {
      "cell_type": "markdown",
      "metadata": {},
      "source": [
        "-   Now let’s use use selector gadget to the the item title"
      ],
      "id": "bff43b96-1567-48b6-98aa-96da2997995f"
    },
    {
      "cell_type": "code",
      "execution_count": null,
      "metadata": {},
      "outputs": [
        {
          "output_type": "stream",
          "name": "stdout",
          "text": [
            " chr [1:191] \"Small Kirigami Only Brown Mono...\" ..."
          ]
        }
      ],
      "source": [
        "nodes <- html_nodes(webpage, \".item-tile__title-link .tdc-ellipsis-text\")\n",
        "title <- html_text(nodes)\n",
        "title<-trimws(title)\n",
        "str(title)"
      ],
      "id": "1ce0d72a-4429-4c90-8839-87de45e426ea"
    },
    {
      "cell_type": "markdown",
      "metadata": {},
      "source": [
        "-   Now let’s use use selector gadget to the the price"
      ],
      "id": "37296fda-3c27-4851-bac2-6db2b9d77cae"
    },
    {
      "cell_type": "code",
      "execution_count": null,
      "metadata": {},
      "outputs": [
        {
          "output_type": "stream",
          "name": "stdout",
          "text": [
            " num [1:191] 479 670 963 689 504 ..."
          ]
        }
      ],
      "source": [
        "nodes <- html_nodes(webpage, \".item-tile__display-price--sale span:nth-child(1)\")\n",
        "prices<- html_text(nodes)\n",
        "prices<-gsub(\",\",\"\",prices)\n",
        "prices<-sub(\"$\", \"\", prices, fixed=TRUE)\n",
        "#orig<-as.numeric(orig)\n",
        "#price<-gsub(\"\\\\s\", \"\", price)\n",
        "#price<-sub(\"$\", \"\", price, fixed=TRUE)\n",
        "#price<-as.numeric(price)\n",
        "prices<-as.numeric(prices)\n",
        "str(prices)"
      ],
      "id": "d11d16ee-6f00-4c06-a2f9-4382cd8caa92"
    },
    {
      "cell_type": "markdown",
      "metadata": {},
      "source": [
        "-   Now print out the prices and a histogram of prices"
      ],
      "id": "b4df5339-1b15-40c6-a2ba-2d1927bf3a6e"
    },
    {
      "cell_type": "code",
      "execution_count": null,
      "metadata": {},
      "outputs": [
        {
          "output_type": "stream",
          "name": "stdout",
          "text": [
            "  [1]  479.10  670.50  963.00  689.00  504.29  715.00  230.00  425.00  325.72\n",
            " [10] 2799.60 1298.99 1325.00  699.00  879.00  638.00  498.00  999.00  998.70\n",
            " [19]  815.00  450.00  575.50  690.00  338.95 1112.49  410.00  631.00  703.00\n",
            " [28]  894.75  265.00  540.00  468.57 2515.00 1890.00 1075.72  898.00 1224.75\n",
            " [37]  408.00  815.00  265.00  775.75  517.17  555.00  937.50  799.00  999.00\n",
            " [46]  962.00  338.00  728.65  703.75  200.00  350.00  917.70  611.43  965.00\n",
            " [55]  695.25  984.75  423.00 1247.50  386.00 1075.72 1550.25  790.00  125.00\n",
            " [64]  565.00  515.00  700.00  973.50  384.00  984.75  897.15 1222.99  564.10\n",
            " [73]  197.00  342.19  756.60  984.75  381.00  504.29  697.00  893.00  660.00\n",
            " [82]  390.00 2102.00  540.00  165.00  490.00  603.60  790.00  888.00 1265.25\n",
            " [91]  248.63 1725.00 1033.00  230.00 1265.00  904.80  409.00  182.86  815.00\n",
            "[100] 1015.00 1509.00  930.00  780.00  340.00  267.00 1395.00  545.25  894.75\n",
            "[109] 1630.00  566.00  397.15 1235.25 4030.00  212.50   49.00  749.00 1728.00\n",
            "[118] 1095.00 1015.00  865.00  468.57  775.00  294.00  298.00  432.86  373.15\n",
            "[127]  444.75 1073.00  450.00 1682.86  836.53 4965.00 3014.00 1065.00  418.75\n",
            "[136] 2090.95 1616.00  699.00  234.80 1950.00  525.00  548.10 1185.00  329.80\n",
            "[145] 3189.64 1662.50  303.38 4300.20 2391.00 1199.00 1869.30 1499.25 1682.86\n",
            "[154] 5079.99  490.00  620.00  999.00 3800.25 1040.00 1395.00 1599.00  540.00\n",
            "[163]  575.72  281.00  373.00 1098.20  432.86  199.00  330.00  395.00  307.86\n",
            "[172]  279.10  115.99 2515.00  399.50  505.00  997.75  799.00 1229.99 1432.86\n",
            "[181]  323.00 1280.00  294.00  515.00  492.00 3449.00 6426.00 1614.00  778.80\n",
            "[190] 1395.00  728.00"
          ]
        }
      ],
      "source": [
        "prices"
      ],
      "id": "d1f50664-824e-44d6-bab5-7ecffab17c3a"
    },
    {
      "cell_type": "markdown",
      "metadata": {},
      "source": [
        "-   Now print out a histogram of prices"
      ],
      "id": "cf298271-b2e8-4a2d-8f9c-a7b9456da0a6"
    },
    {
      "cell_type": "code",
      "execution_count": null,
      "metadata": {},
      "outputs": [
        {
          "output_type": "display_data",
          "metadata": {},
          "data": {
            "image/png": "[encoded data removed]"
          }
        }
      ],
      "source": [
        "hist(prices, xlab=\"prices\", breaks=20, main=\"Prices\")"
      ],
      "id": "318a80d7-6669-410d-849d-e7eaa0bf1476"
    }
  ],
  "nbformat": 4,
  "nbformat_minor": 5,
  "metadata": {
    "kernelspec": {
      "name": "ir",
      "display_name": "R",
      "language": "R"
    }
  }
}