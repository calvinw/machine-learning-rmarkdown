{
 "cells": [
  {
   "cell_type": "markdown",
   "metadata": {},
   "source": [
    "Suppose we have the income of some customers and the amount they spent\n",
    "on an online retail website for a month. Can we get an idea of what\n",
    "kinds of groups we have here?\n",
    "\n",
    "The example is based on this [Clustering algorithms for customer\n",
    "segmentation](https://towardsdatascience.com/clustering-algorithms-for-customer-segmentation-af637c6830ac)"
   ]
  },
  {
   "cell_type": "code",
   "execution_count": null,
   "metadata": {},
   "outputs": [],
   "source": [
    "url<-\"https://raw.githubusercontent.com/sowmyacr/kmeans_cluster/master/CLV.csv\" \n",
    "df<-read.csv(url)\n",
    "str(df)"
   ]
  },
  {
   "cell_type": "markdown",
   "metadata": {},
   "source": [
    "Plot the data:"
   ]
  },
  {
   "cell_type": "code",
   "execution_count": null,
   "metadata": {},
   "outputs": [],
   "source": [
    "plot(df$INCOME, df$SPEND, pch=19)"
   ]
  },
  {
   "cell_type": "code",
   "execution_count": null,
   "metadata": {},
   "outputs": [],
   "source": [
    "summary(df)"
   ]
  },
  {
   "cell_type": "markdown",
   "metadata": {},
   "source": [
    "Now lets run the"
   ]
  },
  {
   "cell_type": "code",
   "execution_count": null,
   "metadata": {},
   "outputs": [],
   "source": [
    "set.seed(2)\n",
    "model<-kmeans(df,4, nstart=20)"
   ]
  },
  {
   "cell_type": "code",
   "execution_count": null,
   "metadata": {},
   "outputs": [],
   "source": [
    "plot(df, col=model$cluster, pch=19)\n",
    "points(model$centers, pch=19, col=\"brown\")"
   ]
  },
  {
   "cell_type": "markdown",
   "metadata": {},
   "source": [
    "Here is a quote from the website above:\n",
    "\n",
    "> The plot shows the distribution of the 4 clusters. We could interpret\n",
    "> them as the following customer segments:\n",
    "\n",
    "> -   Cluster 1: Customers with medium annual income and low annual\n",
    ">     spend\n",
    "> -   Cluster 2: Customers with high annual income and medium to high\n",
    ">     annual spend\n",
    "> -   Cluster 3: Customers with low annual income\n",
    "> -   Cluster 4: Customers with medium annual income but high annual\n",
    ">     spend\n",
    "\n",
    "> Cluster 4 straight away is one potential customer segment. However,\n",
    "> Cluster 2 and 3 can be segmented further to arrive at a more specific\n",
    "> target customer group."
   ]
  },
  {
   "cell_type": "code",
   "execution_count": null,
   "metadata": {},
   "outputs": [],
   "source": [
    "set.seed(2)\n",
    "model<-kmeans(df,6, nstart=20)"
   ]
  },
  {
   "cell_type": "code",
   "execution_count": null,
   "metadata": {},
   "outputs": [],
   "source": [
    "plot(df, col=model$cluster, pch=19)\n",
    "points(model$centers, pch=19, col=\"brown\")"
   ]
  },
  {
   "cell_type": "markdown",
   "metadata": {},
   "source": [
    "Another quote from the website:\n",
    "\n",
    "> Setting the number of clusters to 6 seems to provide a more meaningful\n",
    "> customer segmentation.\n",
    "\n",
    "> -   Cluster 1: Medium income, low annual spend\n",
    "> -   Cluster 2: Low income, low annual spend\n",
    "> -   Cluster 3: High income, high annual spend\n",
    "> -   Cluster 4: Low income, high annual spend\n",
    "> -   Cluster 5: Medium income, low annual spend\n",
    "> -   Cluster 6: Very high income, high annual spend\n",
    "\n",
    "> Thus it is evident that 6 clusters provides a more meaningful\n",
    "> segmentation of the customers.\n",
    "\n",
    "> Marketing strategies for the customer segments\n",
    "\n",
    "> Based on the 6 clusters, we could formulate marketing strategies\n",
    "> relevant to each cluster: A typical strategy would focus certain\n",
    "> promotional efforts for the high value customers of Cluster 6 &\n",
    "> Cluster 3.\n",
    "\n",
    "> Cluster 4 is a unique customer segment, where in spite of their\n",
    "> relatively lower annual income, these customers tend to spend more on\n",
    "> the site, indicating their loyalty. There could be some discounted\n",
    "> pricing based promotional campaigns for this group so as to retain\n",
    "> them.\n",
    "\n",
    "> For Cluster 2 where both the income and annual spend are low, further\n",
    "> analysis could be needed to find the reasons for the lower spend and\n",
    "> price-sensitive strategies could be introduced to increase the spend\n",
    "> from this segment.\n",
    "\n",
    "> Customers in clusters 1 and 5 are not spending enough on the site in\n",
    "> spite of a good annual income — further analysis of these segments\n",
    "> could lead to insights on the satisfaction / dissatisfaction of these\n",
    "> customers or lesser visibility of the e-commerce site to these\n",
    "> customers. Strategies could be evolved accordingly."
   ]
  }
 ],
 "nbformat": 4,
 "nbformat_minor": 5,
 "metadata": {
  "kernelspec": {
   "name": "ir",
   "display_name": "R",
   "language": "R"
  }
 }
}

