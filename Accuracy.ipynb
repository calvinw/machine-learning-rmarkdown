{
  "cells": [
    {
      "cell_type": "markdown",
      "metadata": {},
      "source": [
        "# Accuracy"
      ],
      "id": "a3aa95c7-e3a0-42d1-9631-f07c1583b7bb"
    },
    {
      "cell_type": "code",
      "execution_count": null,
      "metadata": {},
      "outputs": [],
      "source": [
        "if (!require(\"Metrics\")) install.packages(\"Metrics\")\n",
        "library(\"Metrics\")"
      ],
      "id": "49f0b928-4bd9-42a0-afaa-c39edb4df3bb"
    },
    {
      "cell_type": "markdown",
      "metadata": {},
      "source": [
        "Suppose we had a machine learning model, which was predicting a\n",
        "categorical result like `yes` or `no` based on some predictors.\n",
        "\n",
        "Here is an example where we are predicting `Purchased` based on `Salary`\n",
        "and `Age`. Suppose we started with this **actual** data:\n",
        "\n",
        "#### Actual Observed Data\n",
        "\n",
        "| Salary | Age | Purchased |\n",
        "|--------|-----|-----------|\n",
        "| 53900  | 45  | yes       |\n",
        "| 50000  | 32  | no        |\n",
        "| 55900  | 57  | yes       |\n",
        "| 55600  | 29  | yes       |\n",
        "\n",
        "This means we know for sure that there was someone with `53900` salary\n",
        "and who was `45` and they did purchase whatever we are interested in\n",
        "here.\n",
        "\n",
        "Suppose we came up with a model, that made predictions of this data.\n",
        "\n",
        "And suppose this model made predictions like these:\n",
        "\n",
        "#### Model Predictions\n",
        "\n",
        "| Salary | Age | Prediction |\n",
        "|--------|-----|------------|\n",
        "| 53900  | 45  | no         |\n",
        "| 50000  | 32  | no         |\n",
        "| 55900  | 57  | yes        |\n",
        "| 55600  | 29  | yes        |\n",
        "\n",
        "We are interested how accurate our model is on this data.\n",
        "\n",
        "So for our predictions, how many of them did we get wrong?\n",
        "\n",
        "## Accuracy of Predictions\n",
        "\n",
        "Suppose we have some actuals and predicted to compare."
      ],
      "id": "c65d42b7-c903-409e-b69c-39a2e48fdf05"
    },
    {
      "cell_type": "code",
      "execution_count": null,
      "metadata": {},
      "outputs": [
        {
          "output_type": "stream",
          "name": "stdout",
          "text": [
            "  actuals predicted\n",
            "1     yes        no\n",
            "2      no        no\n",
            "3     yes       yes\n",
            "4     yes       yes"
          ]
        }
      ],
      "source": [
        "actuals   <- c(\"yes\", \"no\", \"yes\", \"yes\")\n",
        "predicted   <- c(\"no\", \"no\", \"yes\", \"yes\")\n",
        "df<- data.frame(actuals, predicted)\n",
        "print(df)"
      ],
      "id": "23edfd91-d59d-4654-bc61-fd6a3c4773f6"
    },
    {
      "cell_type": "markdown",
      "metadata": {},
      "source": [
        "### Calculating Accuracy\n",
        "\n",
        "We can find the accuracy from this table as follows:\n",
        "\n",
        "We calculate the proportion of agreement. This is called the\n",
        "**accuracy** of the model. The formula is just this:\n",
        "\n",
        "$$accuracy = \\frac{\\text{number of correct predictions}}{\\text{number of all predictions}}$$"
      ],
      "id": "b521532e-7f22-4935-8cfa-f2a05447f5e6"
    },
    {
      "cell_type": "code",
      "execution_count": null,
      "metadata": {},
      "outputs": [
        {
          "output_type": "stream",
          "name": "stdout",
          "text": [
            "[1] 0.75"
          ]
        }
      ],
      "source": [
        "accuracy(actuals, predicted)"
      ],
      "id": "0131d0be-ec00-4613-8aa2-c7b4655f1c40"
    },
    {
      "cell_type": "markdown",
      "metadata": {},
      "source": [
        "### Confusion Matrix\n",
        "\n",
        "Terminology:\n",
        "\n",
        "The prediction is called **positive** or **negative**:\n",
        "\n",
        "-   When the **prediction** is **yes** that is called a **positive**.\n",
        "-   When the **prediction** is **no** that is called a **negative**.\n",
        "\n",
        "The prediction is correct or incorrect:\n",
        "\n",
        "-   **true** means the prediction was correct\n",
        "-   **false** means the prediction was incorrect\n",
        "\n",
        "| Prediction Correct? | Prediction           |\n",
        "|---------------------|----------------------|\n",
        "| True or False       | Positive or Negative |\n",
        "\n",
        "So we have *true positive*, *false positive*, *true negative*, and\n",
        "*false negative*\n",
        "\n",
        "-   $TP$ prediction was yes, actual was yes\n",
        "-   $FP$ prediction was yes, actual was no\n",
        "-   $TN$ prediction was no, actual was no\n",
        "-   $FN$ prediction was no, actual was yes\n",
        "\n",
        "We can print out the confusion matrix like this:"
      ],
      "id": "cf948f37-b340-4dd9-8f3a-f7f0e3bfe092"
    },
    {
      "cell_type": "code",
      "execution_count": null,
      "metadata": {},
      "outputs": [
        {
          "output_type": "stream",
          "name": "stdout",
          "text": [
            "       predicted\n",
            "actuals no yes\n",
            "    no   1   0\n",
            "    yes  1   2"
          ]
        }
      ],
      "source": [
        "table(actuals, predicted)"
      ],
      "id": "2a370415-e86b-4d1e-9aa3-9d7a00f8fa14"
    },
    {
      "cell_type": "markdown",
      "metadata": {},
      "source": [
        "## Confusion Matrix\n",
        "\n",
        "|            |            | **Predicted** |            |\n",
        "|------------|------------|---------------|------------|\n",
        "|            |            | *Negative*    | *Positive* |\n",
        "| **Actual** | *Negative* | TN            | FP         |\n",
        "|            | *Positive* | FN            | TP         |\n",
        "\n",
        "Here are the results from the above:\n",
        "\n",
        "-   $TP$ prediction yes, actual yes - ??? times\n",
        "-   $FP$ prediction yes, actual no - ??? times\n",
        "-   $TN$ prediction no, actual no - ??? time\n",
        "-   $FN$ prediction no, actual yes - ??? time\n",
        "\n",
        "## Model 2"
      ],
      "id": "08287a89-1196-4b47-a157-ff5c583948cc"
    },
    {
      "cell_type": "code",
      "execution_count": null,
      "metadata": {},
      "outputs": [
        {
          "output_type": "stream",
          "name": "stdout",
          "text": [
            "  actuals predicted\n",
            "1     yes       yes\n",
            "2      no       yes\n",
            "3     yes       yes\n",
            "4     yes        no"
          ]
        }
      ],
      "source": [
        "actuals   <- c(\"yes\", \"no\", \"yes\", \"yes\")\n",
        "predicted   <- c(\"yes\", \"yes\", \"yes\", \"no\")\n",
        "df<- data.frame(actuals, predicted)\n",
        "df"
      ],
      "id": "26dc8278-1753-4f5f-8b8d-51b3145cf838"
    },
    {
      "cell_type": "markdown",
      "metadata": {},
      "source": [
        "### Calculating Accuracy"
      ],
      "id": "ba9c6382-8c57-4eff-a9ba-f9296590ebdd"
    },
    {
      "cell_type": "code",
      "execution_count": null,
      "metadata": {},
      "outputs": [
        {
          "output_type": "stream",
          "name": "stdout",
          "text": [
            "[1] 0.5"
          ]
        }
      ],
      "source": [
        "accuracy(actuals, predicted)"
      ],
      "id": "427ac7d0-10a0-4632-9c57-482654265add"
    },
    {
      "cell_type": "markdown",
      "metadata": {},
      "source": [
        "### Confusion Matrix"
      ],
      "id": "b1890657-0649-466e-b7fb-3ffaf5b50bff"
    },
    {
      "cell_type": "code",
      "execution_count": null,
      "metadata": {},
      "outputs": [
        {
          "output_type": "stream",
          "name": "stdout",
          "text": [
            "       predicted\n",
            "actuals no yes\n",
            "    no   0   1\n",
            "    yes  1   2"
          ]
        }
      ],
      "source": [
        "table(actuals, predicted)"
      ],
      "id": "907ac535-478b-4ab2-ae6e-4ad3e76595eb"
    },
    {
      "cell_type": "markdown",
      "metadata": {},
      "source": [
        "-   $TP$ prediction yes, actual yes - ??? times\n",
        "-   $FP$ prediction yes, actual no - ??? times\n",
        "-   $TN$ prediction no, actual no - ??? time\n",
        "-   $FN$ prediction no, actual yes - ??? time\n",
        "\n",
        "Finally we can write the accuracy in terms of these:\n",
        "\n",
        "$$\n",
        "accuracy = \\frac{\\text{number of correct predictions}}{\\text{number of all predictions}} = \\frac{TP+TN}{TP+TN+FP+FN}\n",
        "$$\n",
        "\n",
        "### Similarities with Jury Trials and Hypothesis Testing\n",
        "\n",
        "|            |            | **Predicted** |            |\n",
        "|------------|------------|---------------|------------|\n",
        "|            |            | *Negative*    | *Positive* |\n",
        "| **Actual** | *Negative* | TN            | FP         |\n",
        "|            | *Positive* | FN            | TP         |\n",
        "\n",
        "Analogies:\n",
        "\n",
        "### Jury and Trials\n",
        "\n",
        "|            |            | **Jury**    |                 |\n",
        "|------------|------------|-------------|-----------------|\n",
        "|            |            | *Innocent*  | *Guilty*        |\n",
        "| **Actual** | *Innocent* | ok          | innocent jailed |\n",
        "|            | *Guilty*   | guilty free | ok              |\n",
        "\n",
        "### Hypothesis Testing (from Stat)\n",
        "\n",
        "|            |            | **Hyp Test of Null** |          |\n",
        "|------------|------------|----------------------|----------|\n",
        "|            |            | *accept*             | *reject* |\n",
        "| **Actual** | *true*     | ok                   | type 1   |\n",
        "|            | *not true* | type 2               | ok       |\n",
        "\n",
        "### Pregnancy Tests\n",
        "\n",
        "|            |       | **Pregnancy Test** |            |\n",
        "|------------|-------|--------------------|------------|\n",
        "|            |       | *no*               | *yes*      |\n",
        "| **Actual** | *no*  | test-, no          | test+, no  |\n",
        "|            | *yes* | test-, yes         | test+, yes |"
      ],
      "id": "f66103d9-310c-40b7-8efb-9a091ffb75d9"
    }
  ],
  "nbformat": 4,
  "nbformat_minor": 5,
  "metadata": {
    "kernelspec": {
      "name": "ir",
      "display_name": "R",
      "language": "R"
    }
  }
}