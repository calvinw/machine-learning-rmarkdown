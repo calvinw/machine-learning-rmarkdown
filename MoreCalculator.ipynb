{
  "cells": [
    {
      "cell_type": "markdown",
      "metadata": {},
      "source": [
        "# More Calculator\n",
        "\n",
        "Calculate `4+5` by replacing the line `CODE` with `4+5` and then execute\n",
        "it by hitting the *Run Cell* button"
      ],
      "id": "96d8f28f-b50e-4d9d-a576-35128b52d4e4"
    },
    {
      "cell_type": "code",
      "execution_count": null,
      "metadata": {},
      "outputs": [],
      "source": [
        "CODE"
      ],
      "id": "25da91ca-8f78-4ef5-91f7-9e1ca3112f7c"
    },
    {
      "cell_type": "markdown",
      "metadata": {},
      "source": [
        "Calculate `4*5`"
      ],
      "id": "123c6403-95a3-437b-9203-ef6e12ae6a13"
    },
    {
      "cell_type": "code",
      "execution_count": null,
      "metadata": {},
      "outputs": [],
      "source": [
        "CODE"
      ],
      "id": "c2fd2b33-3db0-4836-9e7f-43fe1aef5c7b"
    },
    {
      "cell_type": "markdown",
      "metadata": {},
      "source": [
        "Calculate `4-5`"
      ],
      "id": "5c108e7e-0dfb-4f94-b799-baad6c17970c"
    },
    {
      "cell_type": "code",
      "execution_count": null,
      "metadata": {},
      "outputs": [],
      "source": [
        "CODE"
      ],
      "id": "e921a489-338b-4e45-8ebd-a5a2fb3e6ad3"
    },
    {
      "cell_type": "markdown",
      "metadata": {},
      "source": [
        "Calculate `4/5`"
      ],
      "id": "37e982ec-0de3-44f8-abc4-375278bffe4d"
    },
    {
      "cell_type": "code",
      "execution_count": null,
      "metadata": {},
      "outputs": [],
      "source": [
        "CODE"
      ],
      "id": "b100f788-337a-495a-bccb-6aa8fe9bbb78"
    },
    {
      "cell_type": "markdown",
      "metadata": {},
      "source": [
        "Calculate `4^2`"
      ],
      "id": "92e7f3dc-e38d-4ca0-a405-ce60002b853d"
    },
    {
      "cell_type": "code",
      "execution_count": null,
      "metadata": {},
      "outputs": [],
      "source": [
        "CODE"
      ],
      "id": "dffcf4f2-f84e-4f3c-98e1-eba01e36c252"
    },
    {
      "cell_type": "markdown",
      "metadata": {},
      "source": [
        "Check $4^2=4(4)=16$\n",
        "\n",
        "Calculate `5^6`"
      ],
      "id": "d4cd09d5-951b-44d7-b0c1-f2d58bf017f5"
    },
    {
      "cell_type": "code",
      "execution_count": null,
      "metadata": {},
      "outputs": [],
      "source": [
        "CODE"
      ],
      "id": "683c3260-e7bf-4e23-b3e1-65f7bf787fe3"
    },
    {
      "cell_type": "markdown",
      "metadata": {},
      "source": [
        "Check $5^6=(5)(5)(5)(5)(5)(5)=15625$\n",
        "\n",
        "Calculate `sqrt(36)`"
      ],
      "id": "f054abca-9ab3-464f-a096-78a7e7de4a10"
    },
    {
      "cell_type": "code",
      "execution_count": null,
      "metadata": {},
      "outputs": [],
      "source": [
        "CODE"
      ],
      "id": "a629ac8f-48c5-4834-bde0-3c5a6b542622"
    },
    {
      "cell_type": "markdown",
      "metadata": {},
      "source": [
        "Check:\n",
        "\n",
        "$$ \\sqrt{ 36 } = 6 $$\n",
        "\n",
        "Find `round(2.45)`"
      ],
      "id": "47f59a35-a02f-412e-bd9e-9578e2ff628d"
    },
    {
      "cell_type": "code",
      "execution_count": null,
      "metadata": {},
      "outputs": [],
      "source": [
        "CODE"
      ],
      "id": "59db113e-72be-452d-b567-ac5d4030398f"
    },
    {
      "cell_type": "markdown",
      "metadata": {},
      "source": [
        "The answer should be 2\n",
        "\n",
        "Find `ceiling(2.45)`"
      ],
      "id": "99436bfa-0597-42a0-967d-9960e5c4b2d6"
    },
    {
      "cell_type": "code",
      "execution_count": null,
      "metadata": {},
      "outputs": [],
      "source": [
        "CODE"
      ],
      "id": "e491f9d6-613a-45e1-b06e-c7fd0aefadf0"
    },
    {
      "cell_type": "markdown",
      "metadata": {},
      "source": [
        "The answer should be 3\n",
        "\n",
        "Find `24%%10`, which is the remainder of $24/10$"
      ],
      "id": "9b69e7f8-15c7-4fef-ae60-39dfea6de2a2"
    },
    {
      "cell_type": "code",
      "execution_count": null,
      "metadata": {},
      "outputs": [],
      "source": [
        "CODE"
      ],
      "id": "dba765c7-acba-4861-84d2-23a0b873c421"
    },
    {
      "cell_type": "markdown",
      "metadata": {},
      "source": [
        "Put parentheses in the expression `4+2*3` so it gives 18.\n",
        "\n",
        "As is, it is 10"
      ],
      "id": "f9968700-339d-4fb0-9622-4283be74ac38"
    },
    {
      "cell_type": "code",
      "execution_count": null,
      "metadata": {},
      "outputs": [],
      "source": [
        "4+2*3"
      ],
      "id": "d69e5e24-ff8c-4119-a7df-cb0a23651858"
    },
    {
      "cell_type": "markdown",
      "metadata": {},
      "source": [
        "Put parentheses in the expression `4*5+3` so it gives 32.\n",
        "\n",
        "As is, it is 23"
      ],
      "id": "956b597c-18a6-4e0a-8473-30074f6ce791"
    },
    {
      "cell_type": "code",
      "execution_count": null,
      "metadata": {},
      "outputs": [],
      "source": [
        "4*5+3"
      ],
      "id": "106cf5ac-502b-47b9-9a24-35be58456a25"
    },
    {
      "cell_type": "markdown",
      "metadata": {},
      "source": [
        "Put parentheses in the expression `20/4*5` so it gives 1.\n",
        "\n",
        "As is, it is 25"
      ],
      "id": "be61696a-6a94-48cf-a41d-5a464f0636f7"
    },
    {
      "cell_type": "code",
      "execution_count": null,
      "metadata": {},
      "outputs": [],
      "source": [
        "20/4*5"
      ],
      "id": "ee228626-5b92-46a0-abd1-d4936c24a477"
    },
    {
      "cell_type": "markdown",
      "metadata": {},
      "source": [
        "Put parentheses in the expression `2*9/3*2-1` so it gives 2.\n",
        "\n",
        "As is, it is 11"
      ],
      "id": "c322404c-6d4e-463f-aea7-fac584155943"
    },
    {
      "cell_type": "code",
      "execution_count": null,
      "metadata": {},
      "outputs": [],
      "source": [
        "2*9/3*2-1"
      ],
      "id": "59c209a6-be1f-4f96-8a54-30323e3ab9b7"
    },
    {
      "cell_type": "markdown",
      "metadata": {},
      "source": [
        "The code below generates an error."
      ],
      "id": "fb79ba2e-7e9a-4cc2-806a-b19012db33c2"
    },
    {
      "cell_type": "code",
      "execution_count": null,
      "metadata": {},
      "outputs": [],
      "source": [
        "sqrt 49"
      ],
      "id": "ce82a67d-c2e3-4ccc-a510-494662a1ac11"
    },
    {
      "cell_type": "markdown",
      "metadata": {},
      "source": [
        "Produce a correct version that computes the square root of 49, which is\n",
        "7"
      ],
      "id": "784f7aec-49b1-4921-b4c0-a198ad4685d5"
    },
    {
      "cell_type": "code",
      "execution_count": null,
      "metadata": {},
      "outputs": [],
      "source": [
        "sqrt 49"
      ],
      "id": "3a010ad0-162e-440d-8e7c-fed7faf54cc9"
    },
    {
      "cell_type": "markdown",
      "metadata": {},
      "source": [
        "The code below generates an error."
      ],
      "id": "196fce61-3f11-471a-8845-ea7316b15f7e"
    },
    {
      "cell_type": "code",
      "execution_count": null,
      "metadata": {},
      "outputs": [],
      "source": [
        "ceil(9.45)"
      ],
      "id": "f1eac976-c5ee-4ccc-9134-5cf2fd3d26cf"
    },
    {
      "cell_type": "markdown",
      "metadata": {},
      "source": [
        "Produce a correct version below with no errors and that gives 10"
      ],
      "id": "7a14043b-87c3-4d79-8d69-adcd00fb2f72"
    },
    {
      "cell_type": "code",
      "execution_count": null,
      "metadata": {},
      "outputs": [],
      "source": [
        "ceil(9.45)"
      ],
      "id": "71810e9f-bd0a-4336-9446-7803c2ac2d3f"
    },
    {
      "cell_type": "markdown",
      "metadata": {},
      "source": [
        "The code below generates an error."
      ],
      "id": "b3b26c69-2834-49ba-88c9-48e4ace36a07"
    },
    {
      "cell_type": "code",
      "execution_count": null,
      "metadata": {},
      "outputs": [],
      "source": [
        "flooring(9.45)"
      ],
      "id": "a2f78a6b-29a4-43e0-b1cd-18fd45f4c2b1"
    },
    {
      "cell_type": "markdown",
      "metadata": {},
      "source": [
        "Produce a correct version below with no errors and that gives 9"
      ],
      "id": "f16ab9b7-4c28-4882-b7ab-7f8c7889eae1"
    },
    {
      "cell_type": "code",
      "execution_count": null,
      "metadata": {},
      "outputs": [],
      "source": [
        "flooring(9.45)"
      ],
      "id": "a3ee0d37-187d-4651-8acf-7586ffe8d380"
    },
    {
      "cell_type": "markdown",
      "metadata": {},
      "source": [
        "The code below generates an error."
      ],
      "id": "09e41bbd-405c-4e4a-b42c-503515b2c7fc"
    },
    {
      "cell_type": "code",
      "execution_count": null,
      "metadata": {},
      "outputs": [],
      "source": [
        "squarert(25)"
      ],
      "id": "5cb70cc8-b908-4ee4-afd1-8773d5a79ae1"
    },
    {
      "cell_type": "markdown",
      "metadata": {},
      "source": [
        "Produce a correct version below with no errors and that gives 5"
      ],
      "id": "996def86-21f9-48da-888d-9c2fc968dee9"
    },
    {
      "cell_type": "code",
      "execution_count": null,
      "metadata": {},
      "outputs": [],
      "source": [
        "squarert(25)"
      ],
      "id": "f6528478-3dfd-4e47-802e-c4458c638952"
    }
  ],
  "nbformat": 4,
  "nbformat_minor": 5,
  "metadata": {
    "kernelspec": {
      "name": "ir",
      "display_name": "R",
      "language": "R"
    }
  }
}