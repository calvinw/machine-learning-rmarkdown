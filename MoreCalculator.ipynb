{
  "cells": [
    {
      "cell_type": "markdown",
      "metadata": {},
      "source": [
        "# More Calculator\n",
        "\n",
        "Calculate `4+5` by replacing the line `CODE` with `4+5` and then execute\n",
        "it by hitting the *Run Cell* button"
      ],
      "id": "d71fd899-f172-4d3d-af6f-aa81331150e5"
    },
    {
      "cell_type": "code",
      "execution_count": null,
      "metadata": {},
      "outputs": [],
      "source": [
        "CODE"
      ],
      "id": "e0c6acd9-f3fb-4356-bf38-c5a936cd5e76"
    },
    {
      "cell_type": "markdown",
      "metadata": {},
      "source": [
        "Calculate `4*5`"
      ],
      "id": "41ed93a7-1ab0-46c1-930f-c3da09041f70"
    },
    {
      "cell_type": "code",
      "execution_count": null,
      "metadata": {},
      "outputs": [],
      "source": [
        "CODE"
      ],
      "id": "bf46ac34-750b-4e32-9c83-85022c8bae61"
    },
    {
      "cell_type": "markdown",
      "metadata": {},
      "source": [
        "Calculate `4-5`"
      ],
      "id": "86379deb-8c89-4c03-91dd-381c1f9cc50b"
    },
    {
      "cell_type": "code",
      "execution_count": null,
      "metadata": {},
      "outputs": [],
      "source": [
        "CODE"
      ],
      "id": "8909c1af-1840-4303-9fdb-5cfd3a480d44"
    },
    {
      "cell_type": "markdown",
      "metadata": {},
      "source": [
        "Calculate `4/5`"
      ],
      "id": "ec2cd1a8-e4b6-4227-8f78-dd9aa1e7c4e8"
    },
    {
      "cell_type": "code",
      "execution_count": null,
      "metadata": {},
      "outputs": [],
      "source": [
        "CODE"
      ],
      "id": "c9f442d2-7675-46a7-9d59-311643b3d0fb"
    },
    {
      "cell_type": "markdown",
      "metadata": {},
      "source": [
        "Calculate `4^2`"
      ],
      "id": "bb8d46b5-c073-4c24-8b68-c08cdecc448f"
    },
    {
      "cell_type": "code",
      "execution_count": null,
      "metadata": {},
      "outputs": [],
      "source": [
        "CODE"
      ],
      "id": "4f6f03fd-ac03-4726-990e-f9f90c20ca19"
    },
    {
      "cell_type": "markdown",
      "metadata": {},
      "source": [
        "Check $4^2=4(4)=16$\n",
        "\n",
        "Calculate `5^6`"
      ],
      "id": "e94ab6aa-1ded-484b-a9ed-dd52c317e9d4"
    },
    {
      "cell_type": "code",
      "execution_count": null,
      "metadata": {},
      "outputs": [],
      "source": [
        "CODE"
      ],
      "id": "a62930ab-e86d-460d-a4d4-032cb0ab923b"
    },
    {
      "cell_type": "markdown",
      "metadata": {},
      "source": [
        "Check $5^6=(5)(5)(5)(5)(5)(5)=15625$\n",
        "\n",
        "Calculate `sqrt(36)`"
      ],
      "id": "44764815-dc31-4ae5-935c-494040f5e94e"
    },
    {
      "cell_type": "code",
      "execution_count": null,
      "metadata": {},
      "outputs": [],
      "source": [
        "CODE"
      ],
      "id": "832f840d-1db3-4a6a-9bc6-2e95abe72da0"
    },
    {
      "cell_type": "markdown",
      "metadata": {},
      "source": [
        "Check:\n",
        "\n",
        "$$ \\sqrt{ 36 } = 6 $$\n",
        "\n",
        "Find `round(2.45)`"
      ],
      "id": "69a5f1dc-7d6d-47d2-94bf-f20288b9c9a9"
    },
    {
      "cell_type": "code",
      "execution_count": null,
      "metadata": {},
      "outputs": [],
      "source": [
        "CODE"
      ],
      "id": "0b90a640-b332-4332-b7f8-61155c4a3b8f"
    },
    {
      "cell_type": "markdown",
      "metadata": {},
      "source": [
        "The answer should be 2\n",
        "\n",
        "Find `ceiling(2.45)`"
      ],
      "id": "3aea142f-f76f-41fa-977b-0c6ae2ed6ae7"
    },
    {
      "cell_type": "code",
      "execution_count": null,
      "metadata": {},
      "outputs": [],
      "source": [
        "CODE"
      ],
      "id": "6239d23b-43de-4413-a2a6-711d85f199a2"
    },
    {
      "cell_type": "markdown",
      "metadata": {},
      "source": [
        "The answer should be 3\n",
        "\n",
        "Find `24%%10`, which is the remainder of $24/10$"
      ],
      "id": "b0908b8e-7e76-4219-84cb-1d2053b47a06"
    },
    {
      "cell_type": "code",
      "execution_count": null,
      "metadata": {},
      "outputs": [],
      "source": [
        "CODE"
      ],
      "id": "218db377-0960-466c-aadc-de6752d50909"
    },
    {
      "cell_type": "markdown",
      "metadata": {},
      "source": [
        "Put parentheses in the expression `4+2*3` so it gives 18.\n",
        "\n",
        "As is, it is 10"
      ],
      "id": "e3ed2b34-8a1c-4da2-9f73-a4a5dc0b991a"
    },
    {
      "cell_type": "code",
      "execution_count": null,
      "metadata": {},
      "outputs": [],
      "source": [
        "4+2*3"
      ],
      "id": "bf065612-6225-40ff-acec-c9af123a416a"
    },
    {
      "cell_type": "markdown",
      "metadata": {},
      "source": [
        "Put parentheses in the expression `4*5+3` so it gives 32.\n",
        "\n",
        "As is, it is 23"
      ],
      "id": "5530b440-7a2e-434e-9fc1-009d1cdb1284"
    },
    {
      "cell_type": "code",
      "execution_count": null,
      "metadata": {},
      "outputs": [],
      "source": [
        "4*5+3"
      ],
      "id": "ed550db5-e883-4abf-97cf-1b6ee144c65c"
    },
    {
      "cell_type": "markdown",
      "metadata": {},
      "source": [
        "Put parentheses in the expression `20/4*5` so it gives 1.\n",
        "\n",
        "As is, it is 25"
      ],
      "id": "18a66ef4-892c-4c77-a48f-472cdf6de223"
    },
    {
      "cell_type": "code",
      "execution_count": null,
      "metadata": {},
      "outputs": [],
      "source": [
        "20/4*5"
      ],
      "id": "0efa141b-bb9f-4cd2-9757-f0b7b386095d"
    },
    {
      "cell_type": "markdown",
      "metadata": {},
      "source": [
        "Put parentheses in the expression `2*9/3*2-1` so it gives 2.\n",
        "\n",
        "As is, it is 11"
      ],
      "id": "ad12b0b4-51ad-4790-ab97-7c7e30f272d8"
    },
    {
      "cell_type": "code",
      "execution_count": null,
      "metadata": {},
      "outputs": [],
      "source": [
        "2*9/3*2-1"
      ],
      "id": "7ab9940c-5000-4ea4-9f3c-340e7ae84787"
    },
    {
      "cell_type": "markdown",
      "metadata": {},
      "source": [
        "The code below generates an error."
      ],
      "id": "2e0a28d3-15df-465c-8467-811880a9012f"
    },
    {
      "cell_type": "code",
      "execution_count": null,
      "metadata": {},
      "outputs": [],
      "source": [
        "sqrt 49"
      ],
      "id": "38fbad62-ac9d-4868-828a-ac0e5caa2a9c"
    },
    {
      "cell_type": "markdown",
      "metadata": {},
      "source": [
        "Produce a correct version that computes the square root of 49, which is\n",
        "7"
      ],
      "id": "99b1e6ab-6495-41a3-bbf2-adcf59cf7975"
    },
    {
      "cell_type": "code",
      "execution_count": null,
      "metadata": {},
      "outputs": [],
      "source": [
        "sqrt 49"
      ],
      "id": "151e1446-a33c-401a-9c69-4e78e9779be2"
    },
    {
      "cell_type": "markdown",
      "metadata": {},
      "source": [
        "The code below generates an error."
      ],
      "id": "e123684e-ff08-4406-8d23-344f5f33fa43"
    },
    {
      "cell_type": "code",
      "execution_count": null,
      "metadata": {},
      "outputs": [],
      "source": [
        "ceil(9.45)"
      ],
      "id": "f9796f6c-2f2f-4914-9ba8-795ad602aecd"
    },
    {
      "cell_type": "markdown",
      "metadata": {},
      "source": [
        "Produce a correct version below with no errors and that gives 10"
      ],
      "id": "a0d337de-c3c4-45c5-a638-53dfaa92e293"
    },
    {
      "cell_type": "code",
      "execution_count": null,
      "metadata": {},
      "outputs": [],
      "source": [
        "ceil(9.45)"
      ],
      "id": "bf72291a-f9d6-4b98-b7d0-4cf58f6e9eb8"
    },
    {
      "cell_type": "markdown",
      "metadata": {},
      "source": [
        "The code below generates an error."
      ],
      "id": "7e94e591-b312-4054-8482-aa5214aec870"
    },
    {
      "cell_type": "code",
      "execution_count": null,
      "metadata": {},
      "outputs": [],
      "source": [
        "flooring(9.45)"
      ],
      "id": "1e4e3885-31c3-42da-879a-9cb06fbde668"
    },
    {
      "cell_type": "markdown",
      "metadata": {},
      "source": [
        "Produce a correct version below with no errors and that gives 9"
      ],
      "id": "c826ecc2-6fbf-4e5b-a6d8-ae93e46eb770"
    },
    {
      "cell_type": "code",
      "execution_count": null,
      "metadata": {},
      "outputs": [],
      "source": [
        "flooring(9.45)"
      ],
      "id": "f641301e-6368-4e5d-84bc-fc975b3cb93e"
    },
    {
      "cell_type": "markdown",
      "metadata": {},
      "source": [
        "The code below generates an error."
      ],
      "id": "154066b8-253e-47a2-981e-4b0f7d928be4"
    },
    {
      "cell_type": "code",
      "execution_count": null,
      "metadata": {},
      "outputs": [],
      "source": [
        "squarert(25)"
      ],
      "id": "f8b9877d-ba99-415d-8ba0-b76c9659d6fe"
    },
    {
      "cell_type": "markdown",
      "metadata": {},
      "source": [
        "Produce a correct version below with no errors and that gives 5"
      ],
      "id": "0fa5f9a6-fa83-455d-99e2-9054a37d3687"
    },
    {
      "cell_type": "code",
      "execution_count": null,
      "metadata": {},
      "outputs": [],
      "source": [
        "squarert(25)"
      ],
      "id": "acf97c9b-f744-4cd2-a38e-5d9268946754"
    }
  ],
  "nbformat": 4,
  "nbformat_minor": 5,
  "metadata": {
    "kernelspec": {
      "name": "ir",
      "display_name": "R",
      "language": "R"
    }
  }
}