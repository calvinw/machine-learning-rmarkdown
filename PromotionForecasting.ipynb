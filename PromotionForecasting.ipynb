{
  "cells": [
    {
      "cell_type": "markdown",
      "metadata": {},
      "source": [
        "# Promotion Forecasting"
      ],
      "id": "e2f55e75-6ca4-44ff-8797-cc63a95e683a"
    },
    {
      "cell_type": "code",
      "execution_count": null,
      "metadata": {},
      "outputs": [],
      "source": [
        "options(\"scipen\"=100, \"digits\"=4)\n",
        "if (!require(\"readr\")) install.packages(\"readr\")\n",
        "library(\"readr\")"
      ],
      "id": "740d19b5-2b1e-4b37-87b2-b262e1bb2987"
    },
    {
      "cell_type": "markdown",
      "metadata": {},
      "source": [
        "This example is taken from the book [Segmentation, Revenue Management\n",
        "and Pricing\n",
        "Analytics](https://www.amazon.com/Segmentation-Revenue-Management-Pricing-Analytics/dp/0415898331)\n",
        "by Tudor Bodea and Mark Ferguson"
      ],
      "id": "c015ab8f-f4e7-43b6-8628-4784bc043b31"
    },
    {
      "cell_type": "code",
      "execution_count": null,
      "metadata": {},
      "outputs": [],
      "source": [
        "url<- \"https://docs.google.com/spreadsheets/d/e/2PACX-1vS2Z4rEXAoVmrunY3BLJ5AX-ZH76U8bHpCCOu8mzziWK1X6WnJJiC2RmrWrLffGUxo9dCZD0HW1n15T/pub?gid=1471239210&single=true&output=csv\"\n",
        "df<-read.csv(url)"
      ],
      "id": "59c81cb6-f9aa-43a4-abb4-4a3c4fe298b7"
    },
    {
      "cell_type": "markdown",
      "metadata": {},
      "source": [
        "This is the demand for 26 weeks of staple item like denim jeans. For\n",
        "this item there were various kinds of promotions. We would like to\n",
        "understand the effect of these promotions on the demand.\n",
        "\n",
        "Here is the structure of the dataframe"
      ],
      "id": "6c20bf4e-1d71-45c8-a6e3-9e32b3f98bc4"
    },
    {
      "cell_type": "code",
      "execution_count": null,
      "metadata": {},
      "outputs": [
        {
          "output_type": "stream",
          "name": "stdout",
          "text": [
            "'data.frame':   26 obs. of  7 variables:\n",
            " $ week         : int  1 2 3 4 5 6 7 8 9 10 ...\n",
            " $ price        : num  115 135 135 135 135 ...\n",
            " $ p114         : int  1 0 0 0 0 1 0 0 0 1 ...\n",
            " $ p101         : int  0 0 0 0 0 0 0 0 0 0 ...\n",
            " $ specialEvents: int  1 0 0 0 0 1 0 0 0 0 ...\n",
            " $ demand       : int  230 71 70 65 60 195 76 51 79 146 ...\n",
            " $ X            : chr  \"Pres Day\" \"\" \"\" \"\" ..."
          ]
        }
      ],
      "source": [
        "str(df)"
      ],
      "id": "143d97e8-f6d2-4a98-922d-c142b979e7d2"
    },
    {
      "cell_type": "markdown",
      "metadata": {},
      "source": [
        "To start there were two different markdown promotions:\n",
        "\n",
        "-   p114 in the data stands for a 15% off promotion\n",
        "-   p101 in the data stands for a 25% off promotion\n",
        "\n",
        "`p114` means the price was set to \\$114.75 for the week. This is 15% of\n",
        "the retail price of \\$135. `p101` means the price was set to \\$101.25\n",
        "for the week. This is 25% off.\n",
        "\n",
        "In addition to that there were special event promotions on holidays.\n",
        "Some dates had both markdowns and special event promotions together. In\n",
        "two weeks there were markdown promotions without special events (week 10\n",
        "and 24):"
      ],
      "id": "79d7ff49-6f4d-40e5-b98d-196dfc5c8568"
    },
    {
      "cell_type": "code",
      "execution_count": null,
      "metadata": {},
      "outputs": [
        {
          "output_type": "stream",
          "name": "stdout",
          "text": [
            "   week price p114 p101 specialEvents demand           X\n",
            "1     1 114.8    1    0             1    230    Pres Day\n",
            "2     2 135.0    0    0             0     71            \n",
            "3     3 135.0    0    0             0     70            \n",
            "4     4 135.0    0    0             0     65            \n",
            "5     5 135.0    0    0             0     60            \n",
            "6     6 114.8    1    0             1    195      Easter\n",
            "7     7 135.0    0    0             0     76            \n",
            "8     8 135.0    0    0             0     51            \n",
            "9     9 135.0    0    0             0     79            \n",
            "10   10 114.8    1    0             0    146            \n",
            "11   11 135.0    0    0             0     69            \n",
            "12   12 135.0    0    0             0     52            \n",
            "13   13 135.0    0    0             0     60            \n",
            "14   14 135.0    0    0             0     50            \n",
            "15   15 101.2    0    1             1    225    Memorial\n",
            "16   16 135.0    0    0             0     46            \n",
            "17   17 135.0    0    0             0     51            \n",
            "18   18 135.0    0    0             0     50            \n",
            "19   19 135.0    0    0             0     46            \n",
            "20   20 101.2    0    1             1    253 4th of July\n",
            "21   21 135.0    0    0             0     47            \n",
            "22   22 135.0    0    0             0     59            \n",
            "23   23 135.0    0    0             0     55            \n",
            "24   24 101.2    0    1             0    168            \n",
            "25   25 135.0    0    0             0     48            \n",
            "26   26 135.0    0    0             0     73            "
          ]
        }
      ],
      "source": [
        "df"
      ],
      "id": "0623a5ce-93e6-4eae-8dbb-91110b5d1f4e"
    },
    {
      "cell_type": "markdown",
      "metadata": {},
      "source": [
        "Lets take a look at the demand over time for the 26 weeks:"
      ],
      "id": "5f2a0c10-b98f-41c6-a6c9-5187a621c2da"
    },
    {
      "cell_type": "code",
      "execution_count": null,
      "metadata": {},
      "outputs": [
        {
          "output_type": "display_data",
          "metadata": {},
          "data": {
            "image/png": "[encoded data removed]"
          }
        }
      ],
      "source": [
        "plot(df$week, df$demand, main=\"Demand for 26 Weeks\", xlab=\"Week\", ylab=\"Demand\", type=\"l\")\n",
        "points(df$week, df$demand, pch=19)"
      ],
      "id": "53932b37-2f98-4bc7-a9df-81333ca8f407"
    },
    {
      "cell_type": "markdown",
      "metadata": {},
      "source": [
        "Clearly you can see the effects of the markdowns and the special event\n",
        "promotions. Lets run a regression to see if the effects of the different\n",
        "promotions are significant:"
      ],
      "id": "01655351-7d42-4cc6-ada6-2e081dc338ca"
    },
    {
      "cell_type": "code",
      "execution_count": null,
      "metadata": {},
      "outputs": [
        {
          "output_type": "stream",
          "name": "stdout",
          "text": [
            "\n",
            "Call:\n",
            "lm(formula = demand ~ p114 + p101 + specialEvents, data = df)\n",
            "\n",
            "Residuals:\n",
            "   Min     1Q Median     3Q    Max \n",
            " -18.2   -8.9   -0.7   10.8   20.1 \n",
            "\n",
            "Coefficients:\n",
            "              Estimate Std. Error t value            Pr(>|t|)    \n",
            "(Intercept)      58.90       2.72   21.65 0.00000000000000025 ***\n",
            "p114             85.60      10.30    8.31 0.00000003120860358 ***\n",
            "p101            110.60      10.30   10.74 0.00000000032579980 ***\n",
            "specialEvents    68.75      10.54    6.52 0.00000145812804573 ***\n",
            "---\n",
            "Signif. codes:  0 '***' 0.001 '**' 0.01 '*' 0.05 '.' 0.1 ' ' 1\n",
            "\n",
            "Residual standard error: 12.2 on 22 degrees of freedom\n",
            "Multiple R-squared:  0.969, Adjusted R-squared:  0.965 \n",
            "F-statistic:  232 on 3 and 22 DF,  p-value: <0.0000000000000002"
          ]
        }
      ],
      "source": [
        "options(\"scipen\"=100, \"digits\"=4)\n",
        "model <- lm(demand~p114+p101+specialEvents, df)\n",
        "summary(model)"
      ],
      "id": "29a220ef-1706-43f0-b503-af41b9074a1e"
    },
    {
      "cell_type": "markdown",
      "metadata": {},
      "source": [
        "This means that both the markdowns and the special events have a\n",
        "significant linear relationship with demand.\n",
        "\n",
        "In particular:\n",
        "\n",
        "-   baseline demand is 58.90\n",
        "-   when the 15% markdown is run it accounts for roughly an increase in\n",
        "    86 units of demand\n",
        "-   when the 25% markdown is run it accounts for roughly an increase in\n",
        "    111 units of demand\n",
        "-   special holiday event promotions account for roughly an increase in\n",
        "    69 units of demand\n",
        "\n",
        "What about a demand (or price response) curve?\n",
        "\n",
        "It is not hard here to see from the model the estmated demand when each\n",
        "one of the markdowns are in effect by themselves.\n",
        "\n",
        "For 15% markdown we have:\n",
        "\n",
        "$$ \n",
        "\\text{Demand} = 58.90 + 85.60 = 144.50 \n",
        "$$\n",
        "\n",
        "For the 25% we have:\n",
        "\n",
        "$$ \n",
        "\\text{Demand} = 58.90 + 110.60 = 169.50 \n",
        "$$\n",
        "\n",
        "So we can use this demand and price data to think about a price response\n",
        "curve:"
      ],
      "id": "01aa1fa8-e6f4-4008-b56f-144214dcd5d0"
    },
    {
      "cell_type": "code",
      "execution_count": null,
      "metadata": {},
      "outputs": [],
      "source": [
        "price <- c(135, 114.75, 101.25)\n",
        "demand <- c(58.9, 144.5, 169.50)"
      ],
      "id": "e631ec67-f53e-4e90-bd09-192b4e0da8ad"
    },
    {
      "cell_type": "markdown",
      "metadata": {},
      "source": [
        "Here is the plot of the demand and price:"
      ],
      "id": "2a636daa-75d1-4a1a-883a-9a6abcce1abd"
    },
    {
      "cell_type": "code",
      "execution_count": null,
      "metadata": {},
      "outputs": [
        {
          "output_type": "display_data",
          "metadata": {},
          "data": {
            "image/png": "[encoded data removed]"
          }
        }
      ],
      "source": [
        "plot(price, demand, main=\"Demand vs Price\", xlab=\"Price\", ylab=\"Demand\", pch=19)\n",
        "model2 <- lm(demand~price)\n",
        "abline(model2)"
      ],
      "id": "beb41fce-c242-4e25-a89a-2bfa069dc280"
    },
    {
      "cell_type": "markdown",
      "metadata": {},
      "source": [
        "Now lets see model summary:"
      ],
      "id": "2a8f7d44-4158-4360-8b68-13a176d74466"
    },
    {
      "cell_type": "code",
      "execution_count": null,
      "metadata": {},
      "outputs": [
        {
          "output_type": "stream",
          "name": "stdout",
          "text": [
            "\n",
            "Call:\n",
            "lm(formula = demand ~ price)\n",
            "\n",
            "Residuals:\n",
            "    1     2     3 \n",
            "-5.06 12.66 -7.59 \n",
            "\n",
            "Coefficients:\n",
            "            Estimate Std. Error t value Pr(>|t|)  \n",
            "(Intercept)   516.49      76.54    6.75    0.094 .\n",
            "price          -3.35       0.65   -5.16    0.122  \n",
            "---\n",
            "Signif. codes:  0 '***' 0.001 '**' 0.01 '*' 0.05 '.' 0.1 ' ' 1\n",
            "\n",
            "Residual standard error: 15.6 on 1 degrees of freedom\n",
            "Multiple R-squared:  0.964, Adjusted R-squared:  0.928 \n",
            "F-statistic: 26.6 on 1 and 1 DF,  p-value: 0.122"
          ]
        }
      ],
      "source": [
        "summary(model2)"
      ],
      "id": "eb0c17f2-2aa4-4bc8-a06d-53196a9aff3c"
    },
    {
      "cell_type": "markdown",
      "metadata": {},
      "source": [
        "The p-value for the price is 0.122, not particularly surpising given\n",
        "that we have just a small amount of data for this demand curve."
      ],
      "id": "b5d1d6b8-655a-4fac-9acf-2bdba289e324"
    }
  ],
  "nbformat": 4,
  "nbformat_minor": 5,
  "metadata": {
    "kernelspec": {
      "name": "ir",
      "display_name": "R",
      "language": "R"
    }
  }
}