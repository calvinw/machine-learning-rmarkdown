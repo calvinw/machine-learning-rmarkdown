{
 "cells": [
  {
   "cell_type": "markdown",
   "metadata": {},
   "source": [
    "This example is taken from the book [Segmentation, Revenue Management\n",
    "and Pricing\n",
    "Analytics](https://www.amazon.com/Segmentation-Revenue-Management-Pricing-Analytics/dp/0415898331)\n",
    "by Tudor Bodea and Mark Ferguson\n",
    "\n",
    "Make sure to install (if needed) RCurl and then load it:"
   ]
  },
  {
   "cell_type": "code",
   "execution_count": null,
   "metadata": {},
   "outputs": [],
   "source": [
    "if (!require(\"RCurl\")) install.packages(\"RCurl\")\n",
    "library(\"RCurl\")"
   ]
  },
  {
   "cell_type": "markdown",
   "metadata": {},
   "source": [
    "We use the getURL and read the data as a csv textstring:"
   ]
  },
  {
   "cell_type": "code",
   "execution_count": null,
   "metadata": {},
   "outputs": [],
   "source": [
    "url<- \"https://docs.google.com/spreadsheets/d/e/2PACX-1vS2Z4rEXAoVmrunY3BLJ5AX-ZH76U8bHpCCOu8mzziWK1X6WnJJiC2RmrWrLffGUxo9dCZD0HW1n15T/pub?gid=1471239210&single=true&output=csv\"\n",
    "textString<-getURL(url)\n",
    "df<-read.csv(text=textString)"
   ]
  },
  {
   "cell_type": "markdown",
   "metadata": {},
   "source": [
    "This is the demand for 26 weeks of staple item like denim jeans. For\n",
    "this item there were various kinds of promotions. We would like to\n",
    "understand the effect of these promotions on the demand.\n",
    "\n",
    "Here is the structure of the dataframe"
   ]
  },
  {
   "cell_type": "code",
   "execution_count": null,
   "metadata": {},
   "outputs": [],
   "source": [
    "str(df)"
   ]
  },
  {
   "cell_type": "markdown",
   "metadata": {},
   "source": [
    "To start there were two different markdown promotions:\n",
    "\n",
    "-   p114 in the data stands for a 15% off promotion\n",
    "-   p101 in the data stands for a 25% off promotion\n",
    "\n",
    "`p114` means the price was set to \\$114.75 for the week. This is 15% of\n",
    "the retail price of \\$135. `p101` means the price was set to \\$101.25\n",
    "for the week. This is 25% off.\n",
    "\n",
    "In addition to that there were special event promotions on holidays.\n",
    "Some dates had both markdowns and special event promotions together. In\n",
    "two weeks there were markdown promotions without special events (week 10\n",
    "and 24):"
   ]
  },
  {
   "cell_type": "code",
   "execution_count": null,
   "metadata": {},
   "outputs": [],
   "source": [
    "df"
   ]
  },
  {
   "cell_type": "markdown",
   "metadata": {},
   "source": [
    "Lets take a look at the demand over time for the 26 weeks:"
   ]
  },
  {
   "cell_type": "code",
   "execution_count": null,
   "metadata": {},
   "outputs": [],
   "source": [
    "plot(df$week, df$demand, main=\"Demand for 26 Weeks\", xlab=\"Week\", ylab=\"Demand\", type=\"l\")\n",
    "points(df$week, df$demand, pch=19)"
   ]
  },
  {
   "cell_type": "markdown",
   "metadata": {},
   "source": [
    "Clearly you can see the effects of the markdowns and the special event\n",
    "promotions. Lets run a regression to see if the effects of the different\n",
    "promotions are significant:"
   ]
  },
  {
   "cell_type": "code",
   "execution_count": null,
   "metadata": {},
   "outputs": [],
   "source": [
    "options(\"scipen\"=100, \"digits\"=4)\n",
    "model <- lm(demand~p114+p101+specialEvents, df)\n",
    "summary(model)"
   ]
  },
  {
   "cell_type": "markdown",
   "metadata": {},
   "source": [
    "This means that both the markdowns and the special events have a\n",
    "significant linear relationship with demand.\n",
    "\n",
    "In particular:\n",
    "\n",
    "-   baseline demand is 58.90\n",
    "-   when the 15% markdown is run it accounts for roughly an increase in\n",
    "    86 units of demand\n",
    "-   when the 25% markdown is run it accounts for roughly an increase in\n",
    "    111 units of demand\n",
    "-   special holiday event promotions account for roughly an increase in\n",
    "    69 units of demand\n",
    "\n",
    "What about a demand (or price response) curve?\n",
    "\n",
    "It is not hard here to see from the model the estmated demand when each\n",
    "one of the markdowns are in effect by themselves.\n",
    "\n",
    "For 15% markdown we have: $$ \n",
    "\\text{Demand} = 58.90 + 85.60 = 144.50 \n",
    "$$\n",
    "\n",
    "For the 25% we have: $$ \n",
    "\\text{Demand} = 58.90 + 110.60 = 169.50 \n",
    "$$\n",
    "\n",
    "So we can use this demand and price data to think about a price response\n",
    "curve:"
   ]
  },
  {
   "cell_type": "code",
   "execution_count": null,
   "metadata": {},
   "outputs": [],
   "source": [
    "price <- c(135, 114.75, 101.25)\n",
    "demand <- c(58.9, 144.5, 169.50)"
   ]
  },
  {
   "cell_type": "markdown",
   "metadata": {},
   "source": [
    "Here is the plot of the demand and price:"
   ]
  },
  {
   "cell_type": "code",
   "execution_count": null,
   "metadata": {},
   "outputs": [],
   "source": [
    "plot(price, demand, main=\"Demand vs Price\", xlab=\"Price\", ylab=\"Demand\", pch=19)\n",
    "model2 <- lm(demand~price)\n",
    "abline(model2)"
   ]
  },
  {
   "cell_type": "markdown",
   "metadata": {},
   "source": [
    "Now lets see model summary:"
   ]
  },
  {
   "cell_type": "code",
   "execution_count": null,
   "metadata": {},
   "outputs": [],
   "source": [
    "summary(model2)"
   ]
  },
  {
   "cell_type": "markdown",
   "metadata": {},
   "source": [
    "The p-value for the price is 0.122, not particularly surpising given\n",
    "that we have just a small amount of data for this demand curve."
   ]
  }
 ],
 "nbformat": 4,
 "nbformat_minor": 5,
 "metadata": {
  "kernelspec": {
   "name": "ir",
   "display_name": "R",
   "language": "R"
  }
 }
}

