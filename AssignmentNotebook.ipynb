{
  "cells": [
    {
      "cell_type": "markdown",
      "metadata": {},
      "source": [
        "# Assignment Notebook\n",
        "\n",
        "Set a equal to `5` Set b equal to the string “hello”"
      ],
      "id": "8df9f3e3-c5aa-4022-aa0d-7e7885c42b1f"
    },
    {
      "cell_type": "code",
      "execution_count": null,
      "metadata": {},
      "outputs": [],
      "source": [
        "a <-  PUT CODE HERE\n",
        "b <-  PUT CODE HERE"
      ],
      "id": "98ca2f1a-da49-4942-884e-d5cbc801d419"
    },
    {
      "cell_type": "markdown",
      "metadata": {},
      "source": [
        "Subset the vector `c` leaving only the items bigger than 3"
      ],
      "id": "49c001a7-55d8-4b4e-921f-851487e400f5"
    },
    {
      "cell_type": "code",
      "execution_count": null,
      "metadata": {},
      "outputs": [],
      "source": [],
      "id": "1e8c434d-4430-46db-b424-5ae930bda20b"
    }
  ],
  "nbformat": 4,
  "nbformat_minor": 5,
  "metadata": {
    "kernelspec": {
      "name": "ir",
      "display_name": "R",
      "language": "R"
    }
  }
}