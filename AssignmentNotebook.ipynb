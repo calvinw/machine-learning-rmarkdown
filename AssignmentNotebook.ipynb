{
 "cells": [
  {
   "cell_type": "markdown",
   "metadata": {},
   "source": [
    "Set a equal to `5` Set b equal to the string “hello”"
   ]
  },
  {
   "cell_type": "code",
   "execution_count": null,
   "metadata": {},
   "outputs": [],
   "source": [
    "# a <-  PUT CODE HERE\n",
    "a <- 5 \n",
    "\n",
    "#b <-  PUT CODE HERE\n",
    "b <- \"hello\" "
   ]
  },
  {
   "cell_type": "markdown",
   "metadata": {},
   "source": [
    "Subset the vector `c` leaving only the items bigger than 3"
   ]
  },
  {
   "cell_type": "code",
   "execution_count": null,
   "metadata": {},
   "outputs": [],
   "source": [
    "c <-  c(3,4,3,3,2,4,5,6) \n",
    "\n",
    "# d <-  PUT CODE HERE\n",
    "d <-  c[c > 3] \n",
    "\n",
    "print(d)"
   ]
  }
 ],
 "nbformat": 4,
 "nbformat_minor": 5,
 "metadata": {
  "kernelspec": {
   "name": "ir",
   "display_name": "R",
   "language": "R"
  }
 }
}

