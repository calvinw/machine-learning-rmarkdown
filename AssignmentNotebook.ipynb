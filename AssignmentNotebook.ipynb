{
  "cells": [
    {
      "cell_type": "markdown",
      "metadata": {},
      "source": [
        "# Assignment Notebook\n",
        "\n",
        "Set a equal to `5` Set b equal to the string “hello”"
      ],
      "id": "c4062e53-5114-4b46-9888-cab973ce9587"
    },
    {
      "cell_type": "code",
      "execution_count": null,
      "metadata": {},
      "outputs": [],
      "source": [
        "a <-  PUT CODE HERE\n",
        "b <-  PUT CODE HERE"
      ],
      "id": "9d3980a6-a07b-4608-b758-2375705c863d"
    },
    {
      "cell_type": "markdown",
      "metadata": {},
      "source": [
        "Subset the vector `c` leaving only the items bigger than 3"
      ],
      "id": "d870dff3-e810-4785-9af9-a58769834303"
    },
    {
      "cell_type": "code",
      "execution_count": null,
      "metadata": {},
      "outputs": [],
      "source": [],
      "id": "7ded440c-72b1-4788-b98b-f1ee5969835b"
    }
  ],
  "nbformat": 4,
  "nbformat_minor": 5,
  "metadata": {
    "kernelspec": {
      "name": "ir",
      "display_name": "R",
      "language": "R"
    }
  }
}