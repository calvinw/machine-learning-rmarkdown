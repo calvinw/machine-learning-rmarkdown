{
 "cells": [
  {
   "cell_type": "markdown",
   "metadata": {},
   "source": [
    "Conditionals and Booleans\n",
    "-------------------------\n",
    "\n",
    "### Is It Equal?\n",
    "\n",
    "Can R tell you if things are equal? Yes, it can.\n",
    "\n",
    "Use the `==`, a double equal sign.\n",
    "\n",
    "It will return TRUE or FALSE depending on whether the right hand side\n",
    "and the left hand side of the double equal sign are the same or not."
   ]
  },
  {
   "cell_type": "code",
   "execution_count": null,
   "metadata": {},
   "outputs": [],
   "source": [
    "2 == 6/3"
   ]
  },
  {
   "cell_type": "markdown",
   "metadata": {},
   "source": [
    "This code means “is 2 equal to 6/3?”\n",
    "\n",
    "The output of this will be `TRUE`\n",
    "\n",
    "### Is It Not Equal?\n",
    "\n",
    "Can R tell you if things are not equal? Yes, it can.\n",
    "\n",
    "Use the `!=`. The exclaimation sign means “not” in programming\n",
    "languages."
   ]
  },
  {
   "cell_type": "code",
   "execution_count": null,
   "metadata": {},
   "outputs": [],
   "source": [
    "2 != 3"
   ]
  },
  {
   "cell_type": "markdown",
   "metadata": {},
   "source": [
    "This code means “is 2 not equal to 3?”\n",
    "\n",
    "The output of this is `TRUE`\n",
    "\n",
    "### Is It Less Than?\n",
    "\n",
    "Can R tell you if something is less than something else?"
   ]
  },
  {
   "cell_type": "code",
   "execution_count": null,
   "metadata": {},
   "outputs": [],
   "source": [
    "2 < 3"
   ]
  },
  {
   "cell_type": "markdown",
   "metadata": {},
   "source": [
    "This code means “is 2 less than 3?”\n",
    "\n",
    "The output of this is `TRUE`\n",
    "\n",
    "### Is It Greater Than?\n",
    "\n",
    "Can R tell you if something is greater than something else?"
   ]
  },
  {
   "cell_type": "code",
   "execution_count": null,
   "metadata": {},
   "outputs": [],
   "source": [
    "2 > 3"
   ]
  },
  {
   "cell_type": "markdown",
   "metadata": {},
   "source": [
    "This code means “is 2 greater than 3?”\n",
    "\n",
    "The output of this is `FALSE`\n",
    "\n",
    "### Program Execution and Booleans\n",
    "\n",
    "“Boolean expressions” that come from comparisons are important in\n",
    "programming. You can make a program do something when one expression is\n",
    "greater than another, or if two things are equal you can make your\n",
    "program do one thing, but if they are not equal you can make your\n",
    "program do something else. We will see lots of examples of this later\n",
    "on…\n",
    "\n",
    "This also works for variables as well:"
   ]
  },
  {
   "cell_type": "code",
   "execution_count": null,
   "metadata": {},
   "outputs": [],
   "source": [
    "x<-3\n",
    "# This line says \"is x greater than 2?\"\n",
    "x > 2\n",
    "# This line says \"is x greater than or equal to 3?\" \n",
    "x >= 3 \n",
    "# This line says \"is x not equal to 4?\" \n",
    "x != 4\n",
    "# This line says \"is x equal to 2?\" \n",
    "x == 2 \n",
    "# This line says \"is x equal to 3?\" \n",
    "x == 3 "
   ]
  }
 ],
 "nbformat": 4,
 "nbformat_minor": 5,
 "metadata": {
  "kernelspec": {
   "name": "ir",
   "display_name": "R",
   "language": "R"
  }
 }
}
