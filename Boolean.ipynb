{
  "cells": [
    {
      "cell_type": "markdown",
      "metadata": {},
      "source": [
        "# Booleans\n",
        "\n",
        "## Conditionals and Booleans\n",
        "\n",
        "### Is It Equal?\n",
        "\n",
        "Can R tell you if things are equal? Yes, it can.\n",
        "\n",
        "Use the `==`, a double equal sign.\n",
        "\n",
        "It will return TRUE or FALSE depending on whether the right hand side\n",
        "and the left hand side of the double equal sign are the same or not."
      ],
      "id": "01f61691-9b74-4b61-b809-7d1e4758c7b0"
    },
    {
      "cell_type": "code",
      "execution_count": null,
      "metadata": {},
      "outputs": [
        {
          "output_type": "stream",
          "name": "stdout",
          "text": [
            "[1] TRUE"
          ]
        }
      ],
      "source": [
        "2 == 6/3"
      ],
      "id": "c16e31e4-db14-4745-8626-820a9a3a8498"
    },
    {
      "cell_type": "markdown",
      "metadata": {},
      "source": [
        "This code means “is 2 equal to 6/3?”\n",
        "\n",
        "The output of this will be `TRUE`\n",
        "\n",
        "### Is It Not Equal?\n",
        "\n",
        "Can R tell you if things are not equal? Yes, it can.\n",
        "\n",
        "Use the `!=`. The exclaimation sign means “not” in programming\n",
        "languages."
      ],
      "id": "f148ba80-8fd5-433f-b9ba-269e07845d87"
    },
    {
      "cell_type": "code",
      "execution_count": null,
      "metadata": {},
      "outputs": [
        {
          "output_type": "stream",
          "name": "stdout",
          "text": [
            "[1] TRUE"
          ]
        }
      ],
      "source": [
        "2 != 3"
      ],
      "id": "f52f0e6e-2655-4902-bb0e-0fccf4bfb237"
    },
    {
      "cell_type": "markdown",
      "metadata": {},
      "source": [
        "This code means “is 2 not equal to 3?”\n",
        "\n",
        "The output of this is `TRUE`\n",
        "\n",
        "### Is It Less Than?\n",
        "\n",
        "Can R tell you if something is less than something else?"
      ],
      "id": "04658497-b70c-44c2-b955-5d12b2b823ac"
    },
    {
      "cell_type": "code",
      "execution_count": null,
      "metadata": {},
      "outputs": [
        {
          "output_type": "stream",
          "name": "stdout",
          "text": [
            "[1] TRUE"
          ]
        }
      ],
      "source": [
        "2 < 3"
      ],
      "id": "61de0f7f-6940-467b-aaaf-9c9f06b0caf8"
    },
    {
      "cell_type": "markdown",
      "metadata": {},
      "source": [
        "This code means “is 2 less than 3?”\n",
        "\n",
        "The output of this is `TRUE`\n",
        "\n",
        "### Is It Greater Than?\n",
        "\n",
        "Can R tell you if something is greater than something else?"
      ],
      "id": "9c33adb0-171f-4846-a11e-45119510b591"
    },
    {
      "cell_type": "code",
      "execution_count": null,
      "metadata": {},
      "outputs": [
        {
          "output_type": "stream",
          "name": "stdout",
          "text": [
            "[1] FALSE"
          ]
        }
      ],
      "source": [
        "2 > 3"
      ],
      "id": "0daf5f13-4d3a-4320-866d-ca43dbba5315"
    },
    {
      "cell_type": "markdown",
      "metadata": {},
      "source": [
        "This code means “is 2 greater than 3?”\n",
        "\n",
        "The output of this is `FALSE`\n",
        "\n",
        "### Program Execution and Booleans\n",
        "\n",
        "“Boolean expressions” that come from comparisons are important in\n",
        "programming. You can make a program do something when one expression is\n",
        "greater than another, or if two things are equal you can make your\n",
        "program do one thing, but if they are not equal you can make your\n",
        "program do something else. We will see lots of examples of this later\n",
        "on…\n",
        "\n",
        "This also works for variables as well:"
      ],
      "id": "88fc526f-1408-4803-8918-485acf8b2190"
    },
    {
      "cell_type": "code",
      "execution_count": null,
      "metadata": {},
      "outputs": [
        {
          "output_type": "stream",
          "name": "stdout",
          "text": [
            "[1] TRUE"
          ]
        },
        {
          "output_type": "stream",
          "name": "stdout",
          "text": [
            "[1] TRUE"
          ]
        },
        {
          "output_type": "stream",
          "name": "stdout",
          "text": [
            "[1] TRUE"
          ]
        },
        {
          "output_type": "stream",
          "name": "stdout",
          "text": [
            "[1] FALSE"
          ]
        },
        {
          "output_type": "stream",
          "name": "stdout",
          "text": [
            "[1] TRUE"
          ]
        }
      ],
      "source": [
        "x<-3\n",
        "# This line says \"is x greater than 2?\"\n",
        "x > 2"
      ],
      "id": "674ab57d-74f3-4f3e-9695-b64f90dbe2b7"
    }
  ],
  "nbformat": 4,
  "nbformat_minor": 5,
  "metadata": {
    "kernelspec": {
      "name": "ir",
      "display_name": "R",
      "language": "R"
    }
  }
}