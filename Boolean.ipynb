{
  "cells": [
    {
      "cell_type": "markdown",
      "metadata": {},
      "source": [
        "# Booleans\n",
        "\n",
        "## Conditionals and Booleans\n",
        "\n",
        "### Is It Equal?\n",
        "\n",
        "Can R tell you if things are equal? Yes, it can.\n",
        "\n",
        "Use the `==`, a double equal sign.\n",
        "\n",
        "It will return TRUE or FALSE depending on whether the right hand side\n",
        "and the left hand side of the double equal sign are the same or not."
      ],
      "id": "4c25aa20-e162-4f91-b17c-17e762cf4641"
    },
    {
      "cell_type": "code",
      "execution_count": null,
      "metadata": {},
      "outputs": [
        {
          "output_type": "stream",
          "name": "stdout",
          "text": [
            "[1] TRUE"
          ]
        }
      ],
      "source": [
        "2 == 6/3"
      ],
      "id": "ee78d4f1-f7ed-4776-b4ce-e5fe6952ca5d"
    },
    {
      "cell_type": "markdown",
      "metadata": {},
      "source": [
        "This code means “is 2 equal to 6/3?”\n",
        "\n",
        "The output of this will be `TRUE`\n",
        "\n",
        "### Is It Not Equal?\n",
        "\n",
        "Can R tell you if things are not equal? Yes, it can.\n",
        "\n",
        "Use the `!=`. The exclaimation sign means “not” in programming\n",
        "languages."
      ],
      "id": "f2e29c7e-ba68-486f-8657-24ca7754e876"
    },
    {
      "cell_type": "code",
      "execution_count": null,
      "metadata": {},
      "outputs": [
        {
          "output_type": "stream",
          "name": "stdout",
          "text": [
            "[1] TRUE"
          ]
        }
      ],
      "source": [
        "2 != 3"
      ],
      "id": "a6ba84ef-3098-40a4-b907-25ef4d395048"
    },
    {
      "cell_type": "markdown",
      "metadata": {},
      "source": [
        "This code means “is 2 not equal to 3?”\n",
        "\n",
        "The output of this is `TRUE`\n",
        "\n",
        "### Is It Less Than?\n",
        "\n",
        "Can R tell you if something is less than something else?"
      ],
      "id": "95036f79-cddd-4b27-ad88-1166ce57dc63"
    },
    {
      "cell_type": "code",
      "execution_count": null,
      "metadata": {},
      "outputs": [
        {
          "output_type": "stream",
          "name": "stdout",
          "text": [
            "[1] TRUE"
          ]
        }
      ],
      "source": [
        "2 < 3"
      ],
      "id": "3bc1b6f6-68fa-4a41-bbf1-38e398b538a2"
    },
    {
      "cell_type": "markdown",
      "metadata": {},
      "source": [
        "This code means “is 2 less than 3?”\n",
        "\n",
        "The output of this is `TRUE`\n",
        "\n",
        "### Is It Greater Than?\n",
        "\n",
        "Can R tell you if something is greater than something else?"
      ],
      "id": "618afc84-f9e6-4d9b-96fe-2378af46ebdf"
    },
    {
      "cell_type": "code",
      "execution_count": null,
      "metadata": {},
      "outputs": [
        {
          "output_type": "stream",
          "name": "stdout",
          "text": [
            "[1] FALSE"
          ]
        }
      ],
      "source": [
        "2 > 3"
      ],
      "id": "7c58ec43-1e43-422a-b19a-b4f4dee40401"
    },
    {
      "cell_type": "markdown",
      "metadata": {},
      "source": [
        "This code means “is 2 greater than 3?”\n",
        "\n",
        "The output of this is `FALSE`\n",
        "\n",
        "### Program Execution and Booleans\n",
        "\n",
        "“Boolean expressions” that come from comparisons are important in\n",
        "programming. You can make a program do something when one expression is\n",
        "greater than another, or if two things are equal you can make your\n",
        "program do one thing, but if they are not equal you can make your\n",
        "program do something else. We will see lots of examples of this later\n",
        "on…\n",
        "\n",
        "This also works for variables as well:"
      ],
      "id": "2f114e3c-4cb2-4b0b-a760-e82640a7788a"
    },
    {
      "cell_type": "code",
      "execution_count": null,
      "metadata": {},
      "outputs": [
        {
          "output_type": "stream",
          "name": "stdout",
          "text": [
            "[1] TRUE"
          ]
        },
        {
          "output_type": "stream",
          "name": "stdout",
          "text": [
            "[1] TRUE"
          ]
        },
        {
          "output_type": "stream",
          "name": "stdout",
          "text": [
            "[1] TRUE"
          ]
        },
        {
          "output_type": "stream",
          "name": "stdout",
          "text": [
            "[1] FALSE"
          ]
        },
        {
          "output_type": "stream",
          "name": "stdout",
          "text": [
            "[1] TRUE"
          ]
        }
      ],
      "source": [
        "x<-3\n",
        "# This line says \"is x greater than 2?\"\n",
        "x > 2"
      ],
      "id": "ca213bd1-3631-4314-adbd-2ddf890cb722"
    }
  ],
  "nbformat": 4,
  "nbformat_minor": 5,
  "metadata": {
    "kernelspec": {
      "name": "ir",
      "display_name": "R",
      "language": "R"
    }
  }
}