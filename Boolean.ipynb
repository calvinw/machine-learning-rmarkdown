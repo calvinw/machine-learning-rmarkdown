{
 "cells": [
  {
   "cell_type": "markdown",
   "metadata": {},
   "source": [
    "Can R tell you if things are equal? Yes, it can. Use the `==`, a double\n",
    "equal sign. It will return TRUE or FALSE depending on whether the right\n",
    "hand side and the left hand side of the double equal sign are the same\n",
    "or not."
   ]
  },
  {
   "cell_type": "code",
   "execution_count": null,
   "metadata": {},
   "outputs": [],
   "source": [
    "2 == 6/3"
   ]
  },
  {
   "cell_type": "markdown",
   "metadata": {},
   "source": [
    "Can R tell you if things are not equal? Yes, it can. Use the `!=`. The\n",
    "exclaimation sign means “not” in programming languages."
   ]
  },
  {
   "cell_type": "code",
   "execution_count": null,
   "metadata": {},
   "outputs": [],
   "source": [
    "2 != 3"
   ]
  },
  {
   "cell_type": "markdown",
   "metadata": {},
   "source": [
    "Can R tell you if something is less than something else?"
   ]
  },
  {
   "cell_type": "code",
   "execution_count": null,
   "metadata": {},
   "outputs": [],
   "source": [
    "2 < 3"
   ]
  },
  {
   "cell_type": "markdown",
   "metadata": {},
   "source": [
    "Can R tell you if something is greater than something else?"
   ]
  },
  {
   "cell_type": "code",
   "execution_count": null,
   "metadata": {},
   "outputs": [],
   "source": [
    "2 > 3"
   ]
  },
  {
   "cell_type": "markdown",
   "metadata": {},
   "source": [
    "Things like this are called “Boolean expressions”, and they are\n",
    "important in programming. You can make a program do something when one\n",
    "expression is greater than another, or if two things are equal you can\n",
    "make your program do one thing, but if they are not equal you can make\n",
    "your program do something else. We will see lots of examples of this\n",
    "later on…"
   ]
  }
 ],
 "nbformat": 4,
 "nbformat_minor": 5,
 "metadata": {
  "kernelspec": {
   "name": "ir",
   "display_name": "R",
   "language": "R"
  }
 }
}
