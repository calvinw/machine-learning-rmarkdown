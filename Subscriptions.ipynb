{
 "cells": [
  {
   "cell_type": "code",
   "execution_count": null,
   "metadata": {},
   "outputs": [],
   "source": [
    "options(repr.plot.width=4, repr.plot.height=4)\n",
    "options(\"scipen\"=100, \"digits\"=4)"
   ]
  },
  {
   "cell_type": "markdown",
   "metadata": {},
   "source": [
    "Create a dataframe for this data showing reported and actual\n",
    "subscriptions in thousands for some magazines:\n",
    "\n",
    "| Magazine   | Reported | Actual |\n",
    "|:-----------|:---------|:-------|\n",
    "| YM         | 621      | 299.6  |\n",
    "| CosmoGirl  | 359.7    | 207.7  |\n",
    "| Rosie      | 530      | 325    |\n",
    "| Esquire    | 70.5     | 48.6   |\n",
    "| TeenPeople | 567      | 400.3  |\n",
    "| More       | 125.5    | 91.2   |\n",
    "| Spin       | 50.6     | 39.1   |\n",
    "| Vogue      | 353.3    | 268.6  |\n",
    "| Elle       | 263.6    | 214.3  |\n",
    "\n",
    "This data shows the reported annual subscriptions (in thousands) for\n",
    "several magazines and the real actual number of subscriptions (also in\n",
    "thousands). It turns out that magazines regularly inflate the numbers\n",
    "when reporting subscriptions, and will report more subscribers than they\n",
    "actually have usually.\n",
    "\n",
    "Run a regression analysis to find out if it is possible to predict the\n",
    "actual subscriptions from the reported ones.\n",
    "\n",
    "First create vectors for the reported and actual subscriber numbers:"
   ]
  },
  {
   "cell_type": "code",
   "execution_count": null,
   "metadata": {},
   "outputs": [],
   "source": [
    "PUT CODE HERE"
   ]
  },
  {
   "cell_type": "markdown",
   "metadata": {},
   "source": [
    "Next create a data frame for this data. Print out the data frame:"
   ]
  },
  {
   "cell_type": "code",
   "execution_count": null,
   "metadata": {},
   "outputs": [],
   "source": [
    "PUT CODE HERE"
   ]
  },
  {
   "cell_type": "markdown",
   "metadata": {},
   "source": [
    "Plot the data by using the `plot` function:"
   ]
  },
  {
   "cell_type": "code",
   "execution_count": null,
   "metadata": {},
   "outputs": [],
   "source": [
    "PUT CODE HERE"
   ]
  },
  {
   "cell_type": "markdown",
   "metadata": {},
   "source": [
    "Give the plot a title (call it “Actual vs Reported Subscriptions”) and\n",
    "label the x and y axes using “Reported(000s)” for the x-axis and\n",
    "“Actual(000s)” for the y-axis:"
   ]
  },
  {
   "cell_type": "code",
   "execution_count": null,
   "metadata": {},
   "outputs": [],
   "source": [
    "PUT CODE HERE"
   ]
  },
  {
   "cell_type": "markdown",
   "metadata": {},
   "source": [
    "The correlation using the `cor` function. The first argument to it will\n",
    "be the reported cololumn of your data frame, the second argument should\n",
    "be the actual column of your data frame"
   ]
  },
  {
   "cell_type": "code",
   "execution_count": null,
   "metadata": {},
   "outputs": [],
   "source": [
    "PUT CODE HERE"
   ]
  },
  {
   "cell_type": "markdown",
   "metadata": {},
   "source": [
    "Next call `lm` and see if you can predict “actual” from “reported”"
   ]
  },
  {
   "cell_type": "code",
   "execution_count": null,
   "metadata": {},
   "outputs": [],
   "source": [
    "PUT CODE HERE"
   ]
  },
  {
   "cell_type": "markdown",
   "metadata": {},
   "source": [
    "Fill in the following output:\n",
    "\n",
    "What is the p-value for the overall significance of a linear\n",
    "relationship:\n",
    "\n",
    "$$ \\text{p-value} = ??? $$\n",
    "\n",
    "The regression equation is this:\n",
    "\n",
    "$$ actual = m(reported) +b $$\n",
    "\n",
    "The standard error is:\n",
    "\n",
    "$$ \\text{standard error} = ???  $$\n",
    "\n",
    "Finally using plot again, and abline add the line to the scatterplot:"
   ]
  },
  {
   "cell_type": "code",
   "execution_count": null,
   "metadata": {},
   "outputs": [],
   "source": [
    "PUT CODE HERE"
   ]
  },
  {
   "cell_type": "markdown",
   "metadata": {},
   "source": [
    "Suppose we want to do some predictions when the reported subscriptions\n",
    "are 100,000, 200,000 and 500,000.\n",
    "\n",
    "Create a data frame for these 3 values and call the `predict` function\n",
    "using your model from above. Print out your predictions for these\n",
    "values."
   ]
  },
  {
   "cell_type": "code",
   "execution_count": null,
   "metadata": {},
   "outputs": [],
   "source": [
    "PUT CODE HERE"
   ]
  }
 ],
 "nbformat": 4,
 "nbformat_minor": 5,
 "metadata": {
  "kernelspec": {
   "name": "ir",
   "display_name": "R",
   "language": "R"
  }
 }
}
