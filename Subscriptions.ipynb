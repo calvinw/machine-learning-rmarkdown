{
 "cells": [
  {
   "cell_type": "markdown",
   "metadata": {},
   "source": [
    "It turns out that magazine publishers regularly overinflate actual\n",
    "subscription numbers when reporting circulation for magazines. Here is\n",
    "some data from some years ago (some of these magazines are long gone!!)\n",
    "that illustrate this.\n",
    "\n",
    "Can we come up with a model that will predict actual subscriptions based\n",
    "on what magazine publishers publicly report their circulation is?\n",
    "\n",
    "Create a dataframe for this data showing reported and actual\n",
    "subscriptions in thousands for some magazines:\n",
    "\n",
    "| Magazine   | Reported | Actual |\n",
    "|------------|----------|--------|\n",
    "| YM         | 621      | 299.6  |\n",
    "| CosmoGirl  | 359.7    | 207.7  |\n",
    "| Rosie      | 530      | 325    |\n",
    "| Esquire    | 70.5     | 48.6   |\n",
    "| TeenPeople | 567      | 400.3  |\n",
    "| More       | 125.5    | 91.2   |\n",
    "| Spin       | 50.6     | 39.1   |\n",
    "| Vogue      | 353.3    | 268.6  |\n",
    "| Elle       | 263.6    | 214.3  |\n",
    "\n",
    "-   So 621 means 621,000\n",
    "-   And 299.6 means 299,600\n",
    "\n",
    "This data shows the reported annual subscriptions (in thousands) for\n",
    "several magazines and the real actual number of subscriptions (also in\n",
    "thousands). As mentioned above, magazines regularly inflate the numbers\n",
    "when reporting subscriptions, and will report more subscribers than they\n",
    "actually have.\n",
    "\n",
    "Run a regression analysis to find out if it is possible to predict the\n",
    "actual subscriptions from the reported ones.\n",
    "\n",
    "First create vectors for the reported and actual subscriber numbers:\n",
    "\n",
    "-   Create a vector called `reported` that has the reported\n",
    "    subscriptions\n",
    "-   Create a vector called `actual` that has the actual subscriptions"
   ]
  },
  {
   "cell_type": "code",
   "execution_count": null,
   "metadata": {},
   "outputs": [],
   "source": [
    "PUT CODE HERE"
   ]
  },
  {
   "cell_type": "markdown",
   "metadata": {},
   "source": [
    "-   Create a data frame using this: `df<-data.frame(reported,actual)`\n",
    "-   use `head(df)` to print out the first few rows"
   ]
  },
  {
   "cell_type": "code",
   "execution_count": null,
   "metadata": {},
   "outputs": [],
   "source": [
    "PUT CODE HERE"
   ]
  },
  {
   "cell_type": "markdown",
   "metadata": {},
   "source": [
    "Plot the data by using the `plot` function:\n",
    "\n",
    "-   Use `plot(df)` to plot the data"
   ]
  },
  {
   "cell_type": "code",
   "execution_count": null,
   "metadata": {},
   "outputs": [],
   "source": [
    "PUT CODE HERE"
   ]
  },
  {
   "cell_type": "markdown",
   "metadata": {},
   "source": [
    "Give the plot a title (call it “Actual vs Reported Subscriptions”) and\n",
    "label the x and y axes using “Reported(000s)” for the x-axis and\n",
    "“Actual(000s)” for the y-axis:\n",
    "\n",
    "-   use\n",
    "    `plot(df, main=\"Actual vs Reported Subscriptions\", xlab=\"Reported(000s)\", ylab=\"Actual(000s)\", pch=19)`\n",
    "    to give the title, x and y axes."
   ]
  },
  {
   "cell_type": "code",
   "execution_count": null,
   "metadata": {},
   "outputs": [],
   "source": [
    "PUT CODE HERE"
   ]
  },
  {
   "cell_type": "markdown",
   "metadata": {},
   "source": [
    "The correlation using the `cor` function. The first argument to it will\n",
    "be the reported cololumn of your data frame, the second argument should\n",
    "be the actual column of your data frame\n",
    "\n",
    "-   use the code `R<-cor(reported, actual)` to find assign the\n",
    "    correlation coefficient to the variable `R`\n",
    "-   print out `R` so you can see"
   ]
  },
  {
   "cell_type": "code",
   "execution_count": null,
   "metadata": {},
   "outputs": [],
   "source": [
    "PUT CODE HERE"
   ]
  },
  {
   "cell_type": "markdown",
   "metadata": {},
   "source": [
    "Next call `lm` and see if you can predict “actual” from “reported”\n",
    "\n",
    "-   Use the code `model<-lm(actual~reported, data=df)` to define the\n",
    "    model"
   ]
  },
  {
   "cell_type": "code",
   "execution_count": null,
   "metadata": {},
   "outputs": [],
   "source": [
    "PUT CODE HERE"
   ]
  },
  {
   "cell_type": "markdown",
   "metadata": {},
   "source": [
    "-   Use the code `summary(model)` to get the regression output"
   ]
  },
  {
   "cell_type": "code",
   "execution_count": null,
   "metadata": {},
   "outputs": [],
   "source": [
    "PUT CODE HERE"
   ]
  },
  {
   "cell_type": "markdown",
   "metadata": {},
   "source": [
    "Fill in the following output (replace the question marks with the\n",
    "answers that you read from above):\n",
    "\n",
    "What is the p-value for the overall significance of a linear\n",
    "relationship:\n",
    "\n",
    "$$ \\text{p-value} = ??? $$\n",
    "\n",
    "The regression equation is this:\n",
    "\n",
    "$$ actual = ???(reported) + ??? $$\n",
    "\n",
    "The standard error is:\n",
    "\n",
    "$$ \\text{standard error} = ???  $$\n",
    "\n",
    "-   Use plot again this way\n",
    "    `plot(df, main=\"Actual vs Reported Subscriptions\", xlab=\"Reported(000s)\", ylab=\"Actual(000s)\", pch=19)`\n",
    "\n",
    "-   Add a line that uses this code: `abline(mode)` to add the trendline."
   ]
  },
  {
   "cell_type": "code",
   "execution_count": null,
   "metadata": {},
   "outputs": [],
   "source": [
    "PUT CODE HERE"
   ]
  },
  {
   "cell_type": "markdown",
   "metadata": {},
   "source": [
    "Suppose we want to do some predictions when the reported subscriptions\n",
    "are 100,000, 200,000 and 500,000.\n",
    "\n",
    "Create a data frame for these 3 values and call the `predict` function\n",
    "using your model from above. Print out your predictions for these\n",
    "values.\n",
    "\n",
    "-   Fill in CODE with the right vector for the 3 predictions you want to\n",
    "    do. Be careful of the units."
   ]
  },
  {
   "cell_type": "code",
   "execution_count": null,
   "metadata": {},
   "outputs": [],
   "source": [
    "reported<-CODE\n",
    "predictors = data.frame(reported)\n",
    "predictions<-predict(model, predictors)\n",
    "predictions"
   ]
  },
  {
   "cell_type": "markdown",
   "metadata": {},
   "source": [
    "-   This means if the magazine reported 100,000 subscriptions, the\n",
    "    likely actual subscriptions was 83,608\n",
    "-   This means if the magazine reported 200,000 subscriptions, the\n",
    "    likely actual subscriptions was 139,552\n",
    "-   This means if the magazine reported 500,000 subscriptions, the\n",
    "    likely actual subscriptions was 307,384"
   ]
  }
 ],
 "nbformat": 4,
 "nbformat_minor": 5,
 "metadata": {
  "kernelspec": {
   "name": "ir",
   "display_name": "R",
   "language": "R"
  }
 }
}
