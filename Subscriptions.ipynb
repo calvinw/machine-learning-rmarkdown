{
 "cells": [
  {
   "cell_type": "markdown",
   "metadata": {},
   "source": [
    "Create a dataframe for this data:\n",
    "\n",
    "| Magazine   | Reported(thousands) | Actual(thousands) |\n",
    "|:-----------|:--------------------|:------------------|\n",
    "| YM         | 621                 | 299.6             |\n",
    "| CosmoGirl  | 359.7               | 207.7             |\n",
    "| Rosie      | 530                 | 325               |\n",
    "| Esquire    | 70.5                | 48.6              |\n",
    "| TeenPeople | 567                 | 400.3             |\n",
    "| More       | 125.5               | 91.2              |\n",
    "| Spin       | 50.6                | 39.1              |\n",
    "| Vogue      | 353.3               | 268.6             |\n",
    "| Elle       | 263.6               | 214.3             |\n",
    "\n",
    "This data shows the reported annual subscriptions for several magazines\n",
    "and the real actual number of subscriptions. It turns out that magazines\n",
    "regularly inflate the numbers when reporting subscriptions, and will\n",
    "report more subscribers than they actually have.\n",
    "\n",
    "Run a regression analysis to find out if it is possible to predict the\n",
    "actual subscriptions from the reported ones."
   ]
  }
 ],
 "nbformat": 4,
 "nbformat_minor": 5,
 "metadata": {
  "kernelspec": {
   "name": "ir",
   "display_name": "R",
   "language": "R"
  }
 }
}

