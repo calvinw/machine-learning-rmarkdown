{
 "cells": [
  {
   "cell_type": "code",
   "execution_count": null,
   "metadata": {},
   "outputs": [],
   "source": [
    "options(repr.plot.width=4, repr.plot.height=4)\n",
    "options(\"scipen\"=100, \"digits\"=4)"
   ]
  },
  {
   "cell_type": "markdown",
   "metadata": {},
   "source": [
    "Create a dataframe for this data:\n",
    "\n",
    "| Magazine   | Reported(thousands) | Actual(thousands) |\n",
    "|:-----------|:--------------------|:------------------|\n",
    "| YM         | 621                 | 299.6             |\n",
    "| CosmoGirl  | 359.7               | 207.7             |\n",
    "| Rosie      | 530                 | 325               |\n",
    "| Esquire    | 70.5                | 48.6              |\n",
    "| TeenPeople | 567                 | 400.3             |\n",
    "| More       | 125.5               | 91.2              |\n",
    "| Spin       | 50.6                | 39.1              |\n",
    "| Vogue      | 353.3               | 268.6             |\n",
    "| Elle       | 263.6               | 214.3             |\n",
    "\n",
    "This data shows the reported annual subscriptions for several magazines\n",
    "and the real actual number of subscriptions. It turns out that magazines\n",
    "regularly inflate the numbers when reporting subscriptions, and will\n",
    "report more subscribers than they actually have.\n",
    "\n",
    "Run a regression analysis to find out if it is possible to predict the\n",
    "actual subscriptions from the reported ones."
   ]
  },
  {
   "cell_type": "code",
   "execution_count": null,
   "metadata": {},
   "outputs": [],
   "source": [
    "reported <- c(621,359.7,530,70.5,567,125.5,50.6,353.3,263.6)\n",
    "actual <- c(299.6, 207.7,325,48.6,400.3,91.2,39.1,268.6,214.3)\n",
    "df<-data.frame(reported, actual)\n",
    "df"
   ]
  },
  {
   "cell_type": "markdown",
   "metadata": {},
   "source": [
    "Lets look at the data:"
   ]
  },
  {
   "cell_type": "code",
   "execution_count": null,
   "metadata": {},
   "outputs": [],
   "source": [
    "plot(df)"
   ]
  },
  {
   "cell_type": "markdown",
   "metadata": {},
   "source": [
    "We can enhance the graph a little by giving it a title, which you do\n",
    "with the `main` argument below. Then we can label the x-axis and the\n",
    "y-axis a little better by using `xlab` and `ylab`. This helps some."
   ]
  },
  {
   "cell_type": "code",
   "execution_count": null,
   "metadata": {},
   "outputs": [],
   "source": [
    "plot(df, main=\"Actual vs Reported Subscriptions\", xlab=\"Reported(000s)\", ylab=\"Actual(000s)\", pch=19)"
   ]
  },
  {
   "cell_type": "markdown",
   "metadata": {},
   "source": [
    "Lets compute the R-squared. First compute the R, which is called the\n",
    "correlation coefficient. Then square that to get the R-squared"
   ]
  },
  {
   "cell_type": "code",
   "execution_count": null,
   "metadata": {},
   "outputs": [],
   "source": [
    "R = cor(df$reported,df$actual)\n",
    "R\n",
    "R*R"
   ]
  },
  {
   "cell_type": "markdown",
   "metadata": {},
   "source": [
    "We call `lm`."
   ]
  },
  {
   "cell_type": "code",
   "execution_count": null,
   "metadata": {},
   "outputs": [],
   "source": [
    "model = lm(actual~reported, data=df)\n",
    "summary(model)"
   ]
  },
  {
   "cell_type": "markdown",
   "metadata": {},
   "source": [
    "The regression equation is this:\n",
    "\n",
    "$$ actual = m(reported) +b $$\n",
    "\n",
    "The standard error is:\n",
    "\n",
    "$$ \\text{standard error} = ???  $$\n",
    "\n",
    "Test for significant linear relationship:\n",
    "\n",
    "$$ \\text{p-value} = ??? $$"
   ]
  },
  {
   "cell_type": "code",
   "execution_count": null,
   "metadata": {},
   "outputs": [],
   "source": [
    "plot(df, main=\"Actual vs Reported Subscriptions\", xlab=\"Reported(000s)\", ylab=\"Actual(000s)\", pch=19)\n",
    "abline(model)"
   ]
  },
  {
   "cell_type": "markdown",
   "metadata": {},
   "source": [
    "Suppose we want to do some predictions for equal to 89, 91 and 72."
   ]
  },
  {
   "cell_type": "code",
   "execution_count": null,
   "metadata": {},
   "outputs": [],
   "source": [
    "predictors = data.frame(temp=c(89,91,72))\n",
    "predictions<-predict(model, predictors)\n",
    "predictions"
   ]
  }
 ],
 "nbformat": 4,
 "nbformat_minor": 5,
 "metadata": {
  "kernelspec": {
   "name": "ir",
   "display_name": "R",
   "language": "R"
  }
 }
}

