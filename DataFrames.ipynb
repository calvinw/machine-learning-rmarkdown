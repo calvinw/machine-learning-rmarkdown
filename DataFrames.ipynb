{
  "cells": [
    {
      "cell_type": "markdown",
      "metadata": {},
      "source": [
        "# Data Frames\n",
        "\n",
        "Data frames are the most used data structure in R. They are essentially\n",
        "equivalent to the rows and columns in a spreadsheet. Each row is a\n",
        "different record from a set of records, and each column is a different\n",
        "attribute or property from that set of records.\n",
        "\n",
        "| name    | age | isStudent | favColor |\n",
        "|---------|-----|-----------|----------|\n",
        "| James   | 23  | TRUE      | red      |\n",
        "| Sally   | 43  | FALSE     | green    |\n",
        "| Rupert  | 19  | TRUE      | blue     |\n",
        "| Octavia | 21  | TRUE      | yellow   |\n",
        "| Belinda | 33  | FALSE     | orange   |\n",
        "\n",
        "In R the columns are vectors, and so each element in a particular column\n",
        "is the same data type.\n",
        "\n",
        "Here is an example where the different columns are given by 4 vectors:"
      ],
      "id": "72de8fc3-c7a5-4b67-a832-23dd45e41b8d"
    },
    {
      "cell_type": "code",
      "execution_count": null,
      "metadata": {},
      "outputs": [],
      "source": [
        "name <- c(\"James\", \"Sally\", \"Rupert\", \"Octavia\", \"Belinda\") \n",
        "age <- c(23, 43, 19, 21, 33) \n",
        "isStudent <- c(TRUE, FALSE, TRUE, TRUE, FALSE)\n",
        "favColor <- c(\"red\", \"green\", \"blue\", \"yellow\", \"orange\")\n",
        "\n",
        "customers <- data.frame(name, \n",
        "                        age, \n",
        "                        isStudent, \n",
        "                        favColor, \n",
        "                        stringsAsFactors=FALSE)"
      ],
      "id": "8b8ae917-47cf-4d5a-a703-1835b4966446"
    },
    {
      "cell_type": "markdown",
      "metadata": {},
      "source": [
        "Notice how each vector has the same length. This is important when you\n",
        "are creating Data frames."
      ],
      "id": "7af04592-e5d7-449f-8a8b-3083c8d8d8a3"
    },
    {
      "cell_type": "code",
      "execution_count": null,
      "metadata": {},
      "outputs": [
        {
          "output_type": "stream",
          "name": "stdout",
          "text": [
            "[1] 5"
          ]
        },
        {
          "output_type": "stream",
          "name": "stdout",
          "text": [
            "[1] 5"
          ]
        },
        {
          "output_type": "stream",
          "name": "stdout",
          "text": [
            "[1] 5"
          ]
        },
        {
          "output_type": "stream",
          "name": "stdout",
          "text": [
            "[1] 5"
          ]
        }
      ],
      "source": [
        "length(name)"
      ],
      "id": "b89c2545-5cb0-4262-bd4e-810b2b626bb4"
    },
    {
      "cell_type": "markdown",
      "metadata": {},
      "source": [
        "What does the structure of the data frame look like:"
      ],
      "id": "3a9e3cca-b440-4a6c-a358-747c8bd816e6"
    },
    {
      "cell_type": "code",
      "execution_count": null,
      "metadata": {},
      "outputs": [
        {
          "output_type": "stream",
          "name": "stdout",
          "text": [
            "'data.frame':   5 obs. of  4 variables:\n",
            " $ name     : chr  \"James\" \"Sally\" \"Rupert\" \"Octavia\" ...\n",
            " $ age      : num  23 43 19 21 33\n",
            " $ isStudent: logi  TRUE FALSE TRUE TRUE FALSE\n",
            " $ favColor : chr  \"red\" \"green\" \"blue\" \"yellow\" ..."
          ]
        }
      ],
      "source": [
        "str(customers)"
      ],
      "id": "8aac85be-e654-4f21-a37d-a0bdccdd5b3f"
    },
    {
      "cell_type": "markdown",
      "metadata": {},
      "source": [
        "Lets look at the first few items in the data frame"
      ],
      "id": "3393d2ec-db81-419a-a64e-99978d5f3f69"
    },
    {
      "cell_type": "code",
      "execution_count": null,
      "metadata": {},
      "outputs": [
        {
          "output_type": "stream",
          "name": "stdout",
          "text": [
            "     name age isStudent favColor\n",
            "1   James  23      TRUE      red\n",
            "2   Sally  43     FALSE    green\n",
            "3  Rupert  19      TRUE     blue\n",
            "4 Octavia  21      TRUE   yellow\n",
            "5 Belinda  33     FALSE   orange"
          ]
        }
      ],
      "source": [
        "head(customers)"
      ],
      "id": "99e805d3-99af-4a6f-aeac-89cd75fdfb1f"
    },
    {
      "cell_type": "markdown",
      "metadata": {},
      "source": [
        "If we try to create a data frame with different length vectors, we get\n",
        "an error message.\n",
        "\n",
        "Here we try it with a vector of length 5 and one of length 2."
      ],
      "id": "cece6393-eb21-48a9-8f68-900c48f29d38"
    },
    {
      "cell_type": "code",
      "execution_count": null,
      "metadata": {},
      "outputs": [],
      "source": [
        "data.frame(x = c(1,2,3,4,5), y = c(1,2)) "
      ],
      "id": "75061bb5-97d0-4b08-bcc4-32d3bc7c6a7c"
    },
    {
      "cell_type": "markdown",
      "metadata": {},
      "source": [
        "Now there are various ways to refer to the rows and the columns in a\n",
        "data frame. Each of the columns we can refer to by using a dollar sign.\n",
        "Here is the name column:"
      ],
      "id": "f85c965e-2e42-4ada-990c-4de56adb4841"
    },
    {
      "cell_type": "code",
      "execution_count": null,
      "metadata": {},
      "outputs": [
        {
          "output_type": "stream",
          "name": "stdout",
          "text": [
            "[1] \"James\"   \"Sally\"   \"Rupert\"  \"Octavia\" \"Belinda\""
          ]
        }
      ],
      "source": [
        "customers$name"
      ],
      "id": "263ce8b5-8744-4876-830d-25f9fc349575"
    },
    {
      "cell_type": "markdown",
      "metadata": {},
      "source": [
        "And the ages column:"
      ],
      "id": "16d7c30e-a287-4e9c-85aa-ba4a25a2b859"
    },
    {
      "cell_type": "code",
      "execution_count": null,
      "metadata": {},
      "outputs": [
        {
          "output_type": "stream",
          "name": "stdout",
          "text": [
            "[1] 23 43 19 21 33"
          ]
        }
      ],
      "source": [
        "customers$age"
      ],
      "id": "397c43bc-ce4a-49cb-b62c-13d78f0bb4b9"
    },
    {
      "cell_type": "markdown",
      "metadata": {},
      "source": [
        "You can remove a column of data by just setting it to NULL:"
      ],
      "id": "61bb2202-e5c4-4bb1-8b01-2133f38e2e80"
    },
    {
      "cell_type": "code",
      "execution_count": null,
      "metadata": {},
      "outputs": [
        {
          "output_type": "stream",
          "name": "stdout",
          "text": [
            "'data.frame':   5 obs. of  3 variables:\n",
            " $ name     : chr  \"James\" \"Sally\" \"Rupert\" \"Octavia\" ...\n",
            " $ age      : num  23 43 19 21 33\n",
            " $ isStudent: logi  TRUE FALSE TRUE TRUE FALSE"
          ]
        }
      ],
      "source": [
        "customers$favColor <- NULL\n",
        "str(customers)"
      ],
      "id": "f4b359b2-fc5b-4083-8afc-23c1e7427860"
    },
    {
      "cell_type": "markdown",
      "metadata": {},
      "source": [
        "You can add a column of data by just setting it as one of the fields of\n",
        "the data frame:"
      ],
      "id": "f790c36c-1ec6-476d-b061-304b6fe9c992"
    },
    {
      "cell_type": "code",
      "execution_count": null,
      "metadata": {},
      "outputs": [
        {
          "output_type": "stream",
          "name": "stdout",
          "text": [
            "'data.frame':   5 obs. of  4 variables:\n",
            " $ name     : chr  \"James\" \"Sally\" \"Rupert\" \"Octavia\" ...\n",
            " $ age      : num  23 43 19 21 33\n",
            " $ isStudent: logi  TRUE FALSE TRUE TRUE FALSE\n",
            " $ favMusic : chr  \"jazz\" \"classical\" \"electronic\" \"country\" ..."
          ]
        }
      ],
      "source": [
        "favMusic <- c(\"jazz\", \"classical\", \"electronic\", \"country\", \"electronic\")\n",
        "customers$favMusic <- favMusic \n",
        "str(customers)"
      ],
      "id": "fb6b941a-5a7c-490c-b83b-f10b96453372"
    },
    {
      "cell_type": "markdown",
      "metadata": {},
      "source": [
        "Finally you can get some info on the data in a data frame:"
      ],
      "id": "a96f0d46-d5d1-4a86-8852-f862885ce07c"
    },
    {
      "cell_type": "code",
      "execution_count": null,
      "metadata": {},
      "outputs": [
        {
          "output_type": "stream",
          "name": "stdout",
          "text": [
            "     name                age       isStudent         favMusic        \n",
            " Length:5           Min.   :19.0   Mode :logical   Length:5          \n",
            " Class :character   1st Qu.:21.0   FALSE:2         Class :character  \n",
            " Mode  :character   Median :23.0   TRUE :3         Mode  :character  \n",
            "                    Mean   :27.8                                     \n",
            "                    3rd Qu.:33.0                                     \n",
            "                    Max.   :43.0                                     "
          ]
        }
      ],
      "source": [
        "summary(customers)"
      ],
      "id": "bff7ca61-b216-4aee-842f-27dadcf65ef8"
    },
    {
      "cell_type": "markdown",
      "metadata": {},
      "source": [
        "You can see here that is shows the mean age is 27.8 and the min and the\n",
        "max of the ages are 19 and 43. There are 3 who are students and 2 who\n",
        "are not. For name and favMusic there is not much it can tell us. It says\n",
        "those are “character” types and there are 5 of them.\n",
        "\n",
        "We can also refer to one particular entry in the data frame by using\n",
        "indices. The first index is for the row and the second index is for the\n",
        "column.\n",
        "\n",
        "For example this is the entry in the 2nd row and the 3rd column:"
      ],
      "id": "f63667b5-8290-47ff-b999-619cd4330a28"
    },
    {
      "cell_type": "code",
      "execution_count": null,
      "metadata": {},
      "outputs": [
        {
          "output_type": "stream",
          "name": "stdout",
          "text": [
            "[1] FALSE"
          ]
        }
      ],
      "source": [
        "customers[2,3]"
      ],
      "id": "51e8e354-0b60-42ee-976e-1ec22f5616ae"
    },
    {
      "cell_type": "code",
      "execution_count": null,
      "metadata": {},
      "outputs": [
        {
          "output_type": "stream",
          "name": "stdout",
          "text": [
            "     name age isStudent   favMusic\n",
            "1   James  23      TRUE       jazz\n",
            "2   Sally  43     FALSE  classical\n",
            "3  Rupert  19      TRUE electronic\n",
            "4 Octavia  21      TRUE    country\n",
            "5 Belinda  33     FALSE electronic"
          ]
        }
      ],
      "source": [
        "head(customers)"
      ],
      "id": "193530ee-3c7e-4de0-9e55-fb08e46e27b8"
    },
    {
      "cell_type": "markdown",
      "metadata": {},
      "source": [
        "Here is the entry for the 4th row and the 1st column:"
      ],
      "id": "8331fe6a-c6f0-4cbb-943f-ee58bb0ac583"
    },
    {
      "cell_type": "code",
      "execution_count": null,
      "metadata": {},
      "outputs": [
        {
          "output_type": "stream",
          "name": "stdout",
          "text": [
            "[1] \"Octavia\""
          ]
        }
      ],
      "source": [
        "customers[4,1]"
      ],
      "id": "6f4761f3-34c7-4c92-8288-f06c382761c4"
    },
    {
      "cell_type": "markdown",
      "metadata": {},
      "source": [
        "This is the 2nd row in its entirety:"
      ],
      "id": "93e1f756-d3c0-47d0-b726-fea7094142d4"
    },
    {
      "cell_type": "code",
      "execution_count": null,
      "metadata": {},
      "outputs": [
        {
          "output_type": "stream",
          "name": "stdout",
          "text": [
            "   name age isStudent  favMusic\n",
            "2 Sally  43     FALSE classical"
          ]
        }
      ],
      "source": [
        "customers[2,]"
      ],
      "id": "add959bd-3a91-476f-b06f-6ea787068db0"
    },
    {
      "cell_type": "code",
      "execution_count": null,
      "metadata": {},
      "outputs": [
        {
          "output_type": "stream",
          "name": "stdout",
          "text": [
            "     name age isStudent   favMusic\n",
            "1   James  23      TRUE       jazz\n",
            "2   Sally  43     FALSE  classical\n",
            "3  Rupert  19      TRUE electronic\n",
            "4 Octavia  21      TRUE    country\n",
            "5 Belinda  33     FALSE electronic"
          ]
        }
      ],
      "source": [
        "head(customers)"
      ],
      "id": "ee169311-bcac-4d2b-8137-5602c5e20620"
    }
  ],
  "nbformat": 4,
  "nbformat_minor": 5,
  "metadata": {
    "kernelspec": {
      "name": "ir",
      "display_name": "R",
      "language": "R"
    }
  }
}