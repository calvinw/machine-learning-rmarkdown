{
  "cells": [
    {
      "cell_type": "markdown",
      "metadata": {},
      "source": [
        "# Data Frames\n",
        "\n",
        "Data frames are the most used data structure in R. They are essentially\n",
        "equivalent to the rows and columns in a spreadsheet. Each row is a\n",
        "different record from a set of records, and each column is a different\n",
        "attribute or property from that set of records.\n",
        "\n",
        "| name    | age | isStudent | favColor |\n",
        "|---------|-----|-----------|----------|\n",
        "| James   | 23  | TRUE      | red      |\n",
        "| Sally   | 43  | FALSE     | green    |\n",
        "| Rupert  | 19  | TRUE      | blue     |\n",
        "| Octavia | 21  | TRUE      | yellow   |\n",
        "| Belinda | 33  | FALSE     | orange   |\n",
        "\n",
        "In R the columns are vectors, and so each element in a particular column\n",
        "is the same data type.\n",
        "\n",
        "Here is an example where the different columns are given by 4 vectors:"
      ],
      "id": "9ac969d3-c9a3-4659-a6d0-994d9aa7edb5"
    },
    {
      "cell_type": "code",
      "execution_count": null,
      "metadata": {},
      "outputs": [],
      "source": [
        "name <- c(\"James\", \"Sally\", \"Rupert\", \"Octavia\", \"Belinda\") \n",
        "age <- c(23, 43, 19, 21, 33) \n",
        "isStudent <- c(TRUE, FALSE, TRUE, TRUE, FALSE)\n",
        "favColor <- c(\"red\", \"green\", \"blue\", \"yellow\", \"orange\")\n",
        "\n",
        "customers <- data.frame(name, \n",
        "                        age, \n",
        "                        isStudent, \n",
        "                        favColor, \n",
        "                        stringsAsFactors=FALSE)"
      ],
      "id": "27d8cf4e-5324-4e65-b095-d68343a3467c"
    },
    {
      "cell_type": "markdown",
      "metadata": {},
      "source": [
        "Notice how each vector has the same length. This is important when you\n",
        "are creating Data frames."
      ],
      "id": "292673f4-2dbe-4a03-904b-c5a017f63740"
    },
    {
      "cell_type": "code",
      "execution_count": null,
      "metadata": {},
      "outputs": [
        {
          "output_type": "stream",
          "name": "stdout",
          "text": [
            "[1] 5"
          ]
        },
        {
          "output_type": "stream",
          "name": "stdout",
          "text": [
            "[1] 5"
          ]
        },
        {
          "output_type": "stream",
          "name": "stdout",
          "text": [
            "[1] 5"
          ]
        },
        {
          "output_type": "stream",
          "name": "stdout",
          "text": [
            "[1] 5"
          ]
        }
      ],
      "source": [
        "length(name)"
      ],
      "id": "05272ba1-1678-4446-ad8e-7f276b3fea3d"
    },
    {
      "cell_type": "markdown",
      "metadata": {},
      "source": [
        "What does the structure of the data frame look like:"
      ],
      "id": "0308d11b-5e78-47de-857b-f525dc19c23b"
    },
    {
      "cell_type": "code",
      "execution_count": null,
      "metadata": {},
      "outputs": [
        {
          "output_type": "stream",
          "name": "stdout",
          "text": [
            "'data.frame':   5 obs. of  4 variables:\n",
            " $ name     : chr  \"James\" \"Sally\" \"Rupert\" \"Octavia\" ...\n",
            " $ age      : num  23 43 19 21 33\n",
            " $ isStudent: logi  TRUE FALSE TRUE TRUE FALSE\n",
            " $ favColor : chr  \"red\" \"green\" \"blue\" \"yellow\" ..."
          ]
        }
      ],
      "source": [
        "str(customers)"
      ],
      "id": "0e927079-c76b-4b51-91a9-397884868dfb"
    },
    {
      "cell_type": "markdown",
      "metadata": {},
      "source": [
        "Lets look at the first few items in the data frame"
      ],
      "id": "f6c99b38-5a5b-47f0-a9a9-c6da086c69fc"
    },
    {
      "cell_type": "code",
      "execution_count": null,
      "metadata": {},
      "outputs": [
        {
          "output_type": "stream",
          "name": "stdout",
          "text": [
            "     name age isStudent favColor\n",
            "1   James  23      TRUE      red\n",
            "2   Sally  43     FALSE    green\n",
            "3  Rupert  19      TRUE     blue\n",
            "4 Octavia  21      TRUE   yellow\n",
            "5 Belinda  33     FALSE   orange"
          ]
        }
      ],
      "source": [
        "head(customers)"
      ],
      "id": "82eeee16-626b-46d3-a0f1-9650cca12524"
    },
    {
      "cell_type": "markdown",
      "metadata": {},
      "source": [
        "If we try to create a data frame with different length vectors, we get\n",
        "an error message.\n",
        "\n",
        "Here we try it with a vector of length 5 and one of length 2."
      ],
      "id": "4da07e57-70e4-4fc5-9e97-309a50541106"
    },
    {
      "cell_type": "code",
      "execution_count": null,
      "metadata": {},
      "outputs": [],
      "source": [
        "data.frame(x = c(1,2,3,4,5), y = c(1,2)) "
      ],
      "id": "baf57211-ee7e-44d8-821e-f867cb0006c8"
    },
    {
      "cell_type": "markdown",
      "metadata": {},
      "source": [
        "Now there are various ways to refer to the rows and the columns in a\n",
        "data frame. Each of the columns we can refer to by using a dollar sign.\n",
        "Here is the name column:"
      ],
      "id": "a6f15c4e-f398-43c7-b27a-e9a8a258fc44"
    },
    {
      "cell_type": "code",
      "execution_count": null,
      "metadata": {},
      "outputs": [
        {
          "output_type": "stream",
          "name": "stdout",
          "text": [
            "[1] \"James\"   \"Sally\"   \"Rupert\"  \"Octavia\" \"Belinda\""
          ]
        }
      ],
      "source": [
        "customers$name"
      ],
      "id": "bd5e9580-d93d-4a87-9384-068d0e81adea"
    },
    {
      "cell_type": "markdown",
      "metadata": {},
      "source": [
        "And the ages column:"
      ],
      "id": "b8ee7d2a-b0c2-4a04-af53-94191adc43f2"
    },
    {
      "cell_type": "code",
      "execution_count": null,
      "metadata": {},
      "outputs": [
        {
          "output_type": "stream",
          "name": "stdout",
          "text": [
            "[1] 23 43 19 21 33"
          ]
        }
      ],
      "source": [
        "customers$age"
      ],
      "id": "c57e24b1-838e-4bff-bfcb-06fe36f3fa53"
    },
    {
      "cell_type": "markdown",
      "metadata": {},
      "source": [
        "You can remove a column of data by just setting it to NULL:"
      ],
      "id": "f6efd10b-4fc5-41e4-86b7-a1356a52c04a"
    },
    {
      "cell_type": "code",
      "execution_count": null,
      "metadata": {},
      "outputs": [
        {
          "output_type": "stream",
          "name": "stdout",
          "text": [
            "'data.frame':   5 obs. of  3 variables:\n",
            " $ name     : chr  \"James\" \"Sally\" \"Rupert\" \"Octavia\" ...\n",
            " $ age      : num  23 43 19 21 33\n",
            " $ isStudent: logi  TRUE FALSE TRUE TRUE FALSE"
          ]
        }
      ],
      "source": [
        "customers$favColor <- NULL\n",
        "str(customers)"
      ],
      "id": "f98b15ed-ff22-453f-90dc-81791fe88652"
    },
    {
      "cell_type": "markdown",
      "metadata": {},
      "source": [
        "You can add a column of data by just setting it as one of the fields of\n",
        "the data frame:"
      ],
      "id": "9363db40-46c3-493f-8a0b-72fcb2e8b310"
    },
    {
      "cell_type": "code",
      "execution_count": null,
      "metadata": {},
      "outputs": [
        {
          "output_type": "stream",
          "name": "stdout",
          "text": [
            "'data.frame':   5 obs. of  4 variables:\n",
            " $ name     : chr  \"James\" \"Sally\" \"Rupert\" \"Octavia\" ...\n",
            " $ age      : num  23 43 19 21 33\n",
            " $ isStudent: logi  TRUE FALSE TRUE TRUE FALSE\n",
            " $ favMusic : chr  \"jazz\" \"classical\" \"electronic\" \"country\" ..."
          ]
        }
      ],
      "source": [
        "favMusic <- c(\"jazz\", \"classical\", \"electronic\", \"country\", \"electronic\")\n",
        "customers$favMusic <- favMusic \n",
        "str(customers)"
      ],
      "id": "ffc8eccb-1462-4457-b3c9-8ec7412cbc79"
    },
    {
      "cell_type": "markdown",
      "metadata": {},
      "source": [
        "Finally you can get some info on the data in a data frame:"
      ],
      "id": "73fed2ef-4b27-43c1-8559-f7f11cd6ce76"
    },
    {
      "cell_type": "code",
      "execution_count": null,
      "metadata": {},
      "outputs": [
        {
          "output_type": "stream",
          "name": "stdout",
          "text": [
            "     name                age       isStudent         favMusic        \n",
            " Length:5           Min.   :19.0   Mode :logical   Length:5          \n",
            " Class :character   1st Qu.:21.0   FALSE:2         Class :character  \n",
            " Mode  :character   Median :23.0   TRUE :3         Mode  :character  \n",
            "                    Mean   :27.8                                     \n",
            "                    3rd Qu.:33.0                                     \n",
            "                    Max.   :43.0                                     "
          ]
        }
      ],
      "source": [
        "summary(customers)"
      ],
      "id": "9b45c865-ab73-427d-aefd-c6b02a568251"
    },
    {
      "cell_type": "markdown",
      "metadata": {},
      "source": [
        "You can see here that is shows the mean age is 27.8 and the min and the\n",
        "max of the ages are 19 and 43. There are 3 who are students and 2 who\n",
        "are not. For name and favMusic there is not much it can tell us. It says\n",
        "those are “character” types and there are 5 of them.\n",
        "\n",
        "We can also refer to one particular entry in the data frame by using\n",
        "indices. The first index is for the row and the second index is for the\n",
        "column.\n",
        "\n",
        "For example this is the entry in the 2nd row and the 3rd column:"
      ],
      "id": "5ec582c3-17dc-4638-9528-4ea0b5d02955"
    },
    {
      "cell_type": "code",
      "execution_count": null,
      "metadata": {},
      "outputs": [
        {
          "output_type": "stream",
          "name": "stdout",
          "text": [
            "[1] FALSE"
          ]
        }
      ],
      "source": [
        "customers[2,3]"
      ],
      "id": "19a7278c-2150-4542-8b4f-df50f72e75d7"
    },
    {
      "cell_type": "code",
      "execution_count": null,
      "metadata": {},
      "outputs": [
        {
          "output_type": "stream",
          "name": "stdout",
          "text": [
            "     name age isStudent   favMusic\n",
            "1   James  23      TRUE       jazz\n",
            "2   Sally  43     FALSE  classical\n",
            "3  Rupert  19      TRUE electronic\n",
            "4 Octavia  21      TRUE    country\n",
            "5 Belinda  33     FALSE electronic"
          ]
        }
      ],
      "source": [
        "head(customers)"
      ],
      "id": "2f8ff3d7-d81f-4343-a8b0-af29eaaf715d"
    },
    {
      "cell_type": "markdown",
      "metadata": {},
      "source": [
        "Here is the entry for the 4th row and the 1st column:"
      ],
      "id": "8369d54a-9ae2-4e37-b525-a4ceff5e4afb"
    },
    {
      "cell_type": "code",
      "execution_count": null,
      "metadata": {},
      "outputs": [
        {
          "output_type": "stream",
          "name": "stdout",
          "text": [
            "[1] \"Octavia\""
          ]
        }
      ],
      "source": [
        "customers[4,1]"
      ],
      "id": "953be96b-3544-4d74-9c4d-33b7bb80bb3f"
    },
    {
      "cell_type": "markdown",
      "metadata": {},
      "source": [
        "This is the 2nd row in its entirety:"
      ],
      "id": "96c2d724-f878-4a64-a0b9-fd9062d47554"
    },
    {
      "cell_type": "code",
      "execution_count": null,
      "metadata": {},
      "outputs": [
        {
          "output_type": "stream",
          "name": "stdout",
          "text": [
            "   name age isStudent  favMusic\n",
            "2 Sally  43     FALSE classical"
          ]
        }
      ],
      "source": [
        "customers[2,]"
      ],
      "id": "20e463df-2029-4f56-b6f6-7b6bf30ad99c"
    },
    {
      "cell_type": "code",
      "execution_count": null,
      "metadata": {},
      "outputs": [
        {
          "output_type": "stream",
          "name": "stdout",
          "text": [
            "     name age isStudent   favMusic\n",
            "1   James  23      TRUE       jazz\n",
            "2   Sally  43     FALSE  classical\n",
            "3  Rupert  19      TRUE electronic\n",
            "4 Octavia  21      TRUE    country\n",
            "5 Belinda  33     FALSE electronic"
          ]
        }
      ],
      "source": [
        "head(customers)"
      ],
      "id": "5fa21f44-3ce0-42a6-a76d-211f4f107f12"
    }
  ],
  "nbformat": 4,
  "nbformat_minor": 5,
  "metadata": {
    "kernelspec": {
      "name": "ir",
      "display_name": "R",
      "language": "R"
    }
  }
}