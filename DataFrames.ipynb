{
 "cells": [
  {
   "cell_type": "markdown",
   "metadata": {},
   "source": [
    "Data frames are the most used data structure in R. They are essentially\n",
    "equivalent to the rows and columns in a spreadsheet. Each row is a\n",
    "different record from a set of records, and each column is a different\n",
    "attribute or property from that set of records.\n",
    "\n",
    "| name    | age | isStudent | favColor |\n",
    "|:--------|:----|:----------|:---------|\n",
    "| James   | 23  | TRUE      | red      |\n",
    "| Sally   | 43  | FALSE     | green    |\n",
    "| Rupert  | 19  | TRUE      | blue     |\n",
    "| Octavia | 21  | TRUE      | yellow   |\n",
    "| Belinda | 33  | FALSE     | orange   |\n",
    "\n",
    "In R the columns are vectors, and so each element in a particular column\n",
    "is the same data type.\n",
    "\n",
    "Here is an example where the different columns are given by 4 vectors:"
   ]
  },
  {
   "cell_type": "code",
   "execution_count": null,
   "metadata": {},
   "outputs": [],
   "source": [
    "name <- c(\"James\", \"Sally\", \"Rupert\", \"Octavia\", \"Belinda\") \n",
    "age <- c(23, 43, 19, 21, 33) \n",
    "isStudent <- c(TRUE, FALSE, TRUE, TRUE, FALSE)\n",
    "favColor <- c(\"red\", \"green\", \"blue\", \"yellow\", \"orange\")\n",
    "\n",
    "customers <- data.frame(name, age, isStudent, favColor, stringsAsFactors=FALSE)"
   ]
  },
  {
   "cell_type": "markdown",
   "metadata": {},
   "source": [
    "Notice how each vector has the same length. This is important when you\n",
    "are creating Data frames."
   ]
  },
  {
   "cell_type": "code",
   "execution_count": null,
   "metadata": {},
   "outputs": [],
   "source": [
    "length(name)\n",
    "length(age)\n",
    "length(isStudent)\n",
    "length(favColor)"
   ]
  },
  {
   "cell_type": "markdown",
   "metadata": {},
   "source": [
    "What does the structure of the data frame look like:"
   ]
  },
  {
   "cell_type": "code",
   "execution_count": null,
   "metadata": {},
   "outputs": [],
   "source": [
    "str(customers)"
   ]
  },
  {
   "cell_type": "markdown",
   "metadata": {},
   "source": [
    "Lets look at the first few items in the data frame"
   ]
  },
  {
   "cell_type": "code",
   "execution_count": null,
   "metadata": {},
   "outputs": [],
   "source": [
    "head(customers)"
   ]
  },
  {
   "cell_type": "markdown",
   "metadata": {},
   "source": [
    "If we try to create a data frame with different length vectors, we get\n",
    "an error message.\n",
    "\n",
    "Here we try it with a vector of length 5 and one of length 2."
   ]
  },
  {
   "cell_type": "code",
   "execution_count": null,
   "metadata": {},
   "outputs": [],
   "source": [
    "data.frame(x = 1:5, y = 1:2) "
   ]
  },
  {
   "cell_type": "markdown",
   "metadata": {},
   "source": [
    "    ## Error in data.frame(x = 1:5, y = 1:2): arguments imply differing number of rows: 5, 2\n",
    "\n",
    "Now there are various ways to refer to the rows and the columns in a\n",
    "data frame. Each of the columns we can refer to by using a dollar sign.\n",
    "Here is the name column:"
   ]
  },
  {
   "cell_type": "code",
   "execution_count": null,
   "metadata": {},
   "outputs": [],
   "source": [
    "customers$name"
   ]
  },
  {
   "cell_type": "markdown",
   "metadata": {},
   "source": [
    "And the ages column:"
   ]
  },
  {
   "cell_type": "code",
   "execution_count": null,
   "metadata": {},
   "outputs": [],
   "source": [
    "customers$age"
   ]
  },
  {
   "cell_type": "markdown",
   "metadata": {},
   "source": [
    "We can also refer to one particular entry in the data frame by using\n",
    "indices. The first index is for the row and the second index is for the\n",
    "column.\n",
    "\n",
    "For example this is the entry in the 2nd row and the 3rd column:"
   ]
  },
  {
   "cell_type": "code",
   "execution_count": null,
   "metadata": {},
   "outputs": [],
   "source": [
    "customers[2,3]"
   ]
  },
  {
   "cell_type": "markdown",
   "metadata": {},
   "source": [
    "Here is the entry for the 4th row and the 1st column:"
   ]
  },
  {
   "cell_type": "code",
   "execution_count": null,
   "metadata": {},
   "outputs": [],
   "source": [
    "customers[4,1]"
   ]
  },
  {
   "cell_type": "markdown",
   "metadata": {},
   "source": [
    "This is the 2nd row in its entirety:"
   ]
  },
  {
   "cell_type": "code",
   "execution_count": null,
   "metadata": {},
   "outputs": [],
   "source": [
    "customers[2,]"
   ]
  },
  {
   "cell_type": "markdown",
   "metadata": {},
   "source": [
    "We can use a sequence to get a range of rows or columns. This is the 2nd\n",
    "through 4th rows:"
   ]
  },
  {
   "cell_type": "code",
   "execution_count": null,
   "metadata": {},
   "outputs": [],
   "source": [
    "customers[2:4,]"
   ]
  },
  {
   "cell_type": "markdown",
   "metadata": {},
   "source": [
    "If you want to you can create a new data frame and exclude some rows"
   ]
  },
  {
   "cell_type": "code",
   "execution_count": null,
   "metadata": {},
   "outputs": [],
   "source": [
    "bestCustomers <- customers[3:5,]\n",
    "str(bestCustomers)"
   ]
  },
  {
   "cell_type": "markdown",
   "metadata": {},
   "source": [
    "This has the same fields (columns) as the original data frame but it\n",
    "excludes some of the rows.\n",
    "\n",
    "You can remove a column of data by just setting it to NULL:"
   ]
  },
  {
   "cell_type": "code",
   "execution_count": null,
   "metadata": {},
   "outputs": [],
   "source": [
    "customers$favColor <- NULL\n",
    "str(customers)"
   ]
  },
  {
   "cell_type": "markdown",
   "metadata": {},
   "source": [
    "You can add a column of data by just setting it as one of the fields of\n",
    "the data frame:"
   ]
  },
  {
   "cell_type": "code",
   "execution_count": null,
   "metadata": {},
   "outputs": [],
   "source": [
    "favMusic <- c(\"jazz\", \"classical\", \"electronic\", \"country\", \"electronic\")\n",
    "customers$favMusic <- favMusic \n",
    "str(customers)"
   ]
  },
  {
   "cell_type": "markdown",
   "metadata": {},
   "source": [
    "Finally you can get some info on the data in a data frame:"
   ]
  },
  {
   "cell_type": "code",
   "execution_count": null,
   "metadata": {},
   "outputs": [],
   "source": [
    "summary(customers)"
   ]
  },
  {
   "cell_type": "markdown",
   "metadata": {},
   "source": [
    "You can see here that is shows the mean age is 27.8 and the min and the\n",
    "max of the ages are 19 and 43. There are 3 who are students and 2 who\n",
    "are not. For name and favMusic there is not much it can tell us. It says\n",
    "those are “character” types and there are 5 of them."
   ]
  }
 ],
 "nbformat": 4,
 "nbformat_minor": 5,
 "metadata": {
  "kernelspec": {
   "name": "ir",
   "display_name": "R",
   "language": "R"
  }
 }
}

