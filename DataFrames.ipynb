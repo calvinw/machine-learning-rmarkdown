{
 "cells": [
  {
   "cell_type": "markdown",
   "metadata": {},
   "source": [
    "Data frames are the most used data structure in R. They are essentially\n",
    "equivalent to the rows and columns in a spreadsheet. Each row is a\n",
    "different record from a set of records, and each column in a different\n",
    "attribute or property from that set of records.\n",
    "\n",
    "In R the columns are vectors, and so each element in a particular column\n",
    "is the same data type.\n",
    "\n",
    "Here is an example"
   ]
  },
  {
   "cell_type": "code",
   "execution_count": null,
   "metadata": {},
   "outputs": [],
   "source": [
    "name <- c(\"James\", \"Sally\", \"Rupert\", \"Octavia\", \"Belinda\") \n",
    "age <- c(23, 43, 19, 21, 33) \n",
    "isStudent <- c(TRUE, FALSE, TRUE, TRUE, FALSE)\n",
    "favColor <- c(\"red\", \"green\", \"blue\", \"yellow\", \"orange\")\n",
    "\n",
    "customers <- data.frame(name, age, isStudent, favColor)"
   ]
  },
  {
   "cell_type": "markdown",
   "metadata": {},
   "source": [
    "Notice how each vector has the same length. This is important when you\n",
    "are creating Data frames."
   ]
  },
  {
   "cell_type": "code",
   "execution_count": null,
   "metadata": {},
   "outputs": [],
   "source": [
    "length(name)\n",
    "length(age)\n",
    "length(isStudent)\n",
    "length(favColor)"
   ]
  },
  {
   "cell_type": "markdown",
   "metadata": {},
   "source": [
    "If we try to create a data frame with different length vectors, we get\n",
    "an error message.\n",
    "\n",
    "Here we try it with a vector of length 5 and one of length 2."
   ]
  },
  {
   "cell_type": "code",
   "execution_count": null,
   "metadata": {},
   "outputs": [],
   "source": [
    "data.frame(x = 1:5, y = 1:2) "
   ]
  },
  {
   "cell_type": "markdown",
   "metadata": {},
   "source": [
    "    ## Error in data.frame(x = 1:5, y = 1:2): arguments imply differing number of rows: 5, 2\n",
    "\n",
    "Lets look at the first few items in the data frame"
   ]
  },
  {
   "cell_type": "code",
   "execution_count": null,
   "metadata": {},
   "outputs": [],
   "source": [
    "head(customers)"
   ]
  }
 ],
 "nbformat": 4,
 "nbformat_minor": 5,
 "metadata": {
  "kernelspec": {
   "name": "ir",
   "display_name": "R",
   "language": "R"
  }
 }
}

