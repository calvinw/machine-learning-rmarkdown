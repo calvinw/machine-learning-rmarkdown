{
 "cells": [
  {
   "cell_type": "markdown",
   "metadata": {},
   "source": [
    "Data frames are the most used data structure in R. They are essentially\n",
    "equivalent to the rows and columns in a spreadsheet. Each row is a\n",
    "different record from a set of records, and each column in a different\n",
    "attribute or property from that set of records.\n",
    "\n",
    "In R the columns are vectors, and so each element in a particular column\n",
    "is the same data type.\n",
    "\n",
    "Lets start with a simple example that has data describing the Day, Date\n",
    "and Temperature for some area:"
   ]
  },
  {
   "cell_type": "code",
   "execution_count": null,
   "metadata": {},
   "outputs": [],
   "source": [
    "Day <- c(\"Saturday\", \"Sunday\", \"Monday\", \"Tuesday\", \"Wednesday\")\n",
    "Date <- c(\"Jul 4\", \"Jul 5\", \"Jul 6\", \"Jul 7\", \"Jul 8\")\n",
    "Temp <- c(75, 86, 83, 83, 87)"
   ]
  },
  {
   "cell_type": "markdown",
   "metadata": {},
   "source": [
    "Notice how each vector has the same length. This is important when you\n",
    "are creating Data frames."
   ]
  },
  {
   "cell_type": "code",
   "execution_count": null,
   "metadata": {},
   "outputs": [],
   "source": [
    "length(Day)\n",
    "length(Date)\n",
    "length(Temp)"
   ]
  },
  {
   "cell_type": "markdown",
   "metadata": {},
   "source": [
    "So these will be the 3 columns in this data frame. One for the day of\n",
    "the week, one for the date, and one for the temperature that day:"
   ]
  },
  {
   "cell_type": "code",
   "execution_count": null,
   "metadata": {},
   "outputs": [],
   "source": [
    "weather <- data.frame(Day, Date, Temp)\n",
    "str(weather)"
   ]
  },
  {
   "cell_type": "markdown",
   "metadata": {},
   "source": [
    "We can see that R does not know that the factor Day should have 7\n",
    "levels. That might be okay, depends on what we are doing with the data."
   ]
  },
  {
   "cell_type": "code",
   "execution_count": null,
   "metadata": {},
   "outputs": [],
   "source": [
    "weather"
   ]
  },
  {
   "cell_type": "markdown",
   "metadata": {},
   "source": [
    "If we try to create a data frame with different length vectors, we get\n",
    "an error message.\n",
    "\n",
    "Here we try it with a vector of length 5 and one of length 2."
   ]
  },
  {
   "cell_type": "code",
   "execution_count": null,
   "metadata": {},
   "outputs": [],
   "source": [
    "data.frame(x = 1:5, y = 1:2) "
   ]
  },
  {
   "cell_type": "markdown",
   "metadata": {},
   "source": [
    "    ## Error in data.frame(x = 1:5, y = 1:2): arguments imply differing number of rows: 5, 2"
   ]
  }
 ],
 "nbformat": 4,
 "nbformat_minor": 5,
 "metadata": {
  "kernelspec": {
   "name": "ir",
   "display_name": "R",
   "language": "R"
  }
 }
}

