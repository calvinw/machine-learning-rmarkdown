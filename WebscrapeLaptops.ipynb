{
  "cells": [
    {
      "cell_type": "markdown",
      "metadata": {},
      "source": [
        "# Webscraping Laptops"
      ],
      "id": "8381c8eb-2285-4463-b04c-d7ab95a79b60"
    },
    {
      "cell_type": "code",
      "execution_count": null,
      "metadata": {},
      "outputs": [],
      "source": [
        "if (!require(\"rvest\")) install.packages(\"rvest\")\n",
        "library(\"rvest\")"
      ],
      "id": "c1884695-a965-44de-bbfd-172e05e5f9d2"
    },
    {
      "cell_type": "markdown",
      "metadata": {},
      "source": [
        "Read in the page and look for the title the price and the description of\n",
        "each of the items: [e-commerce wepscrape test\n",
        "site](https://webscraper.io/test-sites/e-commerce/allinone/computers/laptops)"
      ],
      "id": "375a1320-2771-4f6c-bf73-39e6227ef68c"
    },
    {
      "cell_type": "code",
      "execution_count": null,
      "metadata": {},
      "outputs": [],
      "source": [
        "url<-\"https://webscraper.io/test-sites/e-commerce/allinone/computers/laptops\"\n",
        "webpage <- read_html(url)"
      ],
      "id": "8f22387b-5941-4f88-acf0-cdcc59c8ebe9"
    },
    {
      "cell_type": "markdown",
      "metadata": {},
      "source": [
        "-   Use the selector gadget selector for the title"
      ],
      "id": "cab4a0da-9fac-4307-9153-3407ef9892af"
    },
    {
      "cell_type": "code",
      "execution_count": null,
      "metadata": {},
      "outputs": [],
      "source": [
        "nodes <- html_nodes(webpage, CODE)\n",
        "title<- html_text(nodes)\n",
        "str(title)"
      ],
      "id": "6eddf68d-b3ee-4e6a-b54e-523647f39d11"
    },
    {
      "cell_type": "markdown",
      "metadata": {},
      "source": [
        "Lets see the first 20 titles in the what we got:"
      ],
      "id": "dae2a693-38a2-4367-81d1-f04c3d10d1f5"
    },
    {
      "cell_type": "code",
      "execution_count": null,
      "metadata": {},
      "outputs": [],
      "source": [
        "head(title,20)"
      ],
      "id": "9bda6e6c-e901-49f3-ac0a-3b70124e553c"
    },
    {
      "cell_type": "markdown",
      "metadata": {},
      "source": [
        "-   Next use the selector gadget selector for the price:"
      ],
      "id": "9f25d906-4618-4d14-b1b2-1b909a16fffb"
    },
    {
      "cell_type": "code",
      "execution_count": null,
      "metadata": {},
      "outputs": [],
      "source": [
        "nodes <- html_nodes(webpage, CODE)\n",
        "price <- html_text(nodes)\n",
        "str(price)"
      ],
      "id": "a4679ac0-ded8-46bf-8e90-8f58410affa7"
    },
    {
      "cell_type": "markdown",
      "metadata": {},
      "source": [
        "-   Next remove the \\$ sign:"
      ],
      "id": "51aa0243-d050-4143-b1ff-3fcc1c030cd4"
    },
    {
      "cell_type": "code",
      "execution_count": null,
      "metadata": {},
      "outputs": [],
      "source": [
        "price<-gsub(\"$\", \"\", price, fixed=TRUE)\n",
        "price <- as.numeric(price)"
      ],
      "id": "f92b7837-0491-427d-9147-d679ee308ae2"
    },
    {
      "cell_type": "markdown",
      "metadata": {},
      "source": [
        "Lets see the first 20 prices in the what we got:"
      ],
      "id": "f6f1a6c4-4f06-4fe7-a332-062e4e54f9ba"
    },
    {
      "cell_type": "code",
      "execution_count": null,
      "metadata": {},
      "outputs": [],
      "source": [
        "head(price,20)"
      ],
      "id": "aa26f229-2b81-48ed-a479-04a4249350f9"
    },
    {
      "cell_type": "markdown",
      "metadata": {},
      "source": [
        "-   Next use the selector gadget selector for the description"
      ],
      "id": "a11bf773-f7da-483d-9bb9-d9e107d6a0f9"
    },
    {
      "cell_type": "code",
      "execution_count": null,
      "metadata": {},
      "outputs": [],
      "source": [
        "nodes <- html_nodes(webpage, CODE)\n",
        "description<- html_text(nodes)\n",
        "str(description)"
      ],
      "id": "0e223dd9-ae83-4879-87dd-36933549e0c3"
    },
    {
      "cell_type": "markdown",
      "metadata": {},
      "source": [
        "Lets see the first few descriptions in the what we got:"
      ],
      "id": "af93772c-f3c6-4880-b47a-eaeb3498d198"
    },
    {
      "cell_type": "code",
      "execution_count": null,
      "metadata": {},
      "outputs": [],
      "source": [
        "head(description)"
      ],
      "id": "7d6d3322-74c8-417f-948d-0b52a896c55f"
    },
    {
      "cell_type": "markdown",
      "metadata": {},
      "source": [
        "-   Next use the selector gadget selector for the number of reviews"
      ],
      "id": "d14abce6-41fd-4ded-be23-e4da5273187c"
    },
    {
      "cell_type": "code",
      "execution_count": null,
      "metadata": {},
      "outputs": [],
      "source": [
        "nodes <- html_nodes(webpage, CODE)\n",
        "ratings<- html_text(nodes)\n",
        "str(ratings)"
      ],
      "id": "a6f14c92-3370-4384-96ff-8bb0d0f55d4b"
    },
    {
      "cell_type": "markdown",
      "metadata": {},
      "source": [
        "Lets see the first few descriptions in the what we got:"
      ],
      "id": "2e680487-ae06-4a9d-8c27-8826b4f0e26c"
    },
    {
      "cell_type": "code",
      "execution_count": null,
      "metadata": {},
      "outputs": [],
      "source": [
        "head(ratings)"
      ],
      "id": "d92de223-4636-4363-a83d-83c0d9f824eb"
    },
    {
      "cell_type": "markdown",
      "metadata": {},
      "source": [
        "-   Lets make a data frame with the `title`, `price`,`description` and\n",
        "    `ratings`.\n",
        "-   print out the data frame using the code `knitr::kable(df)`."
      ],
      "id": "084b3834-3499-46d5-8806-6f43a4abe822"
    },
    {
      "cell_type": "code",
      "execution_count": null,
      "metadata": {},
      "outputs": [],
      "source": [
        "df <- data.frame(CODE, CODE, CODE, CODE) \n",
        "knitr::kable(df)"
      ],
      "id": "4ade2120-ba24-47e5-885d-6f8cae0c61ab"
    },
    {
      "cell_type": "markdown",
      "metadata": {},
      "source": [
        "Lets take a look at the histogram of prices:"
      ],
      "id": "43e682ff-479d-4bf4-8ab7-8a23b4798c56"
    },
    {
      "cell_type": "code",
      "execution_count": null,
      "metadata": {},
      "outputs": [],
      "source": [
        "hist(price)"
      ],
      "id": "a339bd09-7bdb-44fb-95e4-c3e5f47b96f6"
    },
    {
      "cell_type": "code",
      "execution_count": null,
      "metadata": {},
      "outputs": [],
      "source": [
        "range(price)\n",
        "mean(price)"
      ],
      "id": "560642f1-4435-4394-9a84-98cf5c2eb353"
    }
  ],
  "nbformat": 4,
  "nbformat_minor": 5,
  "metadata": {
    "kernelspec": {
      "name": "ir",
      "display_name": "R",
      "language": "R"
    }
  }
}