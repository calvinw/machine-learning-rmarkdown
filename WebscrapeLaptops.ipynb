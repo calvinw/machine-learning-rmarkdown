{
  "cells": [
    {
      "cell_type": "markdown",
      "metadata": {},
      "source": [
        "# Webscraping Laptops"
      ],
      "id": "59d11c40-5b70-424c-887d-c46548bc7b43"
    },
    {
      "cell_type": "code",
      "execution_count": null,
      "metadata": {},
      "outputs": [],
      "source": [
        "if (!require(\"rvest\")) install.packages(\"rvest\")\n",
        "library(\"rvest\")"
      ],
      "id": "5ef851cc-56f4-4143-b59b-1f6d05f3dee5"
    },
    {
      "cell_type": "markdown",
      "metadata": {},
      "source": [
        "Read in the page and look for the title the price and the description of\n",
        "each of the items: [e-commerce wepscrape test\n",
        "site](https://webscraper.io/test-sites/e-commerce/allinone/computers/laptops)"
      ],
      "id": "250f51ce-0b45-4645-ade1-884c829f6dec"
    },
    {
      "cell_type": "code",
      "execution_count": null,
      "metadata": {},
      "outputs": [],
      "source": [
        "url<-\"https://webscraper.io/test-sites/e-commerce/allinone/computers/laptops\"\n",
        "webpage <- read_html(url)"
      ],
      "id": "2feee294-da79-4dfb-b2d1-a3aa6934a3a7"
    },
    {
      "cell_type": "markdown",
      "metadata": {},
      "source": [
        "-   Use the selector gadget selector for the title"
      ],
      "id": "a9de5467-58b8-4e12-87e4-92b6bd55a2d1"
    },
    {
      "cell_type": "code",
      "execution_count": null,
      "metadata": {},
      "outputs": [],
      "source": [
        "nodes <- html_nodes(webpage, CODE)\n",
        "title<- html_text(nodes)\n",
        "str(title)"
      ],
      "id": "02f53374-10a5-41c6-b9ee-864bce62dd76"
    },
    {
      "cell_type": "markdown",
      "metadata": {},
      "source": [
        "Lets see the first 20 titles in the what we got:"
      ],
      "id": "ac70e136-f026-4d5c-abe6-b2714eb79ed8"
    },
    {
      "cell_type": "code",
      "execution_count": null,
      "metadata": {},
      "outputs": [],
      "source": [
        "head(title,20)"
      ],
      "id": "428e963e-0c7a-4abc-a4b9-cc52f96c0c27"
    },
    {
      "cell_type": "markdown",
      "metadata": {},
      "source": [
        "-   Next use the selector gadget selector for the price:"
      ],
      "id": "4ae469ec-11b6-4574-ae66-272a34132673"
    },
    {
      "cell_type": "code",
      "execution_count": null,
      "metadata": {},
      "outputs": [],
      "source": [
        "nodes <- html_nodes(webpage, CODE)\n",
        "price <- html_text(nodes)\n",
        "str(price)"
      ],
      "id": "f0204129-8c38-4415-ad47-b0097afcbda5"
    },
    {
      "cell_type": "markdown",
      "metadata": {},
      "source": [
        "-   Next remove the \\$ sign:"
      ],
      "id": "3d9ae1f1-fc03-4bcd-9316-4537d700fa3d"
    },
    {
      "cell_type": "code",
      "execution_count": null,
      "metadata": {},
      "outputs": [],
      "source": [
        "price<-gsub(\"$\", \"\", price, fixed=TRUE)\n",
        "price <- as.numeric(price)"
      ],
      "id": "3bf901da-12fb-4032-88dc-70c9f6bce1b2"
    },
    {
      "cell_type": "markdown",
      "metadata": {},
      "source": [
        "Lets see the first 20 prices in the what we got:"
      ],
      "id": "f3f37e02-b6b9-4ff3-b74e-f0b4f4a84dee"
    },
    {
      "cell_type": "code",
      "execution_count": null,
      "metadata": {},
      "outputs": [],
      "source": [
        "head(price,20)"
      ],
      "id": "7b87410d-0ea8-4a33-be63-821113c573b9"
    },
    {
      "cell_type": "markdown",
      "metadata": {},
      "source": [
        "-   Next use the selector gadget selector for the description"
      ],
      "id": "e881bf7c-b1a5-405f-9095-30cec8eedf97"
    },
    {
      "cell_type": "code",
      "execution_count": null,
      "metadata": {},
      "outputs": [],
      "source": [
        "nodes <- html_nodes(webpage, CODE)\n",
        "description<- html_text(nodes)\n",
        "str(description)"
      ],
      "id": "e866daf9-3d7b-4b15-a477-84ce6c28d713"
    },
    {
      "cell_type": "markdown",
      "metadata": {},
      "source": [
        "Lets see the first few descriptions in the what we got:"
      ],
      "id": "822e0000-030a-4ce2-9103-f013187a7198"
    },
    {
      "cell_type": "code",
      "execution_count": null,
      "metadata": {},
      "outputs": [],
      "source": [
        "head(description)"
      ],
      "id": "833273d6-08c1-47b0-a8d9-961632aab87e"
    },
    {
      "cell_type": "markdown",
      "metadata": {},
      "source": [
        "-   Next use the selector gadget selector for the number of reviews"
      ],
      "id": "350344c7-eb58-43a3-a597-74270b2785fc"
    },
    {
      "cell_type": "code",
      "execution_count": null,
      "metadata": {},
      "outputs": [],
      "source": [
        "nodes <- html_nodes(webpage, CODE)\n",
        "ratings<- html_text(nodes)\n",
        "str(ratings)"
      ],
      "id": "f5c98a81-ef55-4fde-a70c-771564397a4f"
    },
    {
      "cell_type": "markdown",
      "metadata": {},
      "source": [
        "Lets see the first few descriptions in the what we got:"
      ],
      "id": "28910b81-6020-4687-9091-24e3c9e986f5"
    },
    {
      "cell_type": "code",
      "execution_count": null,
      "metadata": {},
      "outputs": [],
      "source": [
        "head(ratings)"
      ],
      "id": "90575a14-5205-4034-b8ef-b920b4687299"
    },
    {
      "cell_type": "markdown",
      "metadata": {},
      "source": [
        "-   Lets make a data frame with the `title`, `price`,`description` and\n",
        "    `ratings`.\n",
        "-   print out the data frame using the code `knitr::kable(df)`."
      ],
      "id": "516e2d5f-6be2-4b1d-b89d-bd6aa01795a2"
    },
    {
      "cell_type": "code",
      "execution_count": null,
      "metadata": {},
      "outputs": [],
      "source": [
        "df <- data.frame(CODE, CODE, CODE, CODE) \n",
        "knitr::kable(df)"
      ],
      "id": "736c8c86-3ef1-493a-8825-92cb21c21f09"
    },
    {
      "cell_type": "markdown",
      "metadata": {},
      "source": [
        "Lets take a look at the histogram of prices:"
      ],
      "id": "47c4d899-0169-4f60-8ef6-f9b2063d9c00"
    },
    {
      "cell_type": "code",
      "execution_count": null,
      "metadata": {},
      "outputs": [],
      "source": [
        "hist(price)"
      ],
      "id": "e3e66f80-273a-486c-865d-3c7cca60c2c1"
    },
    {
      "cell_type": "code",
      "execution_count": null,
      "metadata": {},
      "outputs": [],
      "source": [
        "range(price)\n",
        "mean(price)"
      ],
      "id": "2c87f474-05e8-47ec-a8d7-b0db70dfc569"
    }
  ],
  "nbformat": 4,
  "nbformat_minor": 5,
  "metadata": {
    "kernelspec": {
      "name": "ir",
      "display_name": "R",
      "language": "R"
    }
  }
}