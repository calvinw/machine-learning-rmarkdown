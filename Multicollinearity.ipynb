{
  "cells": [
    {
      "cell_type": "markdown",
      "metadata": {},
      "source": [
        "# Multicollinearity in Ice Cream Sales"
      ],
      "id": "df89527c-c411-43dd-a592-f63940180a64"
    },
    {
      "cell_type": "code",
      "execution_count": null,
      "metadata": {},
      "outputs": [],
      "source": [
        "options(\"scipen\"=100)"
      ],
      "id": "e9a12f2b-6a0f-4089-94df-9bb6184a815f"
    },
    {
      "cell_type": "markdown",
      "metadata": {},
      "source": [
        "Suppose we have some data for gallons of ice cream sold and the\n",
        "temperatures on two different scales. Does this affect the regression\n",
        "model? Yes, since there is redundancy in the fahrenheit and celsius\n",
        "predictors that leads to what is called “collinearity”. It may mean that\n",
        "the p-values for one or more of the predictors is large even when there\n",
        "is some correlation between the predictor and the outcome.\n",
        "\n",
        "Usually one of the predictors needs to be excluded from the model to fix\n",
        "this. You can search for this kind of thing by looking at the\n",
        "correlation matrix in R.\n",
        "\n",
        "Here is the original data:"
      ],
      "id": "9f7e9252-e5c4-491c-afb3-1cb073af0782"
    },
    {
      "cell_type": "code",
      "execution_count": null,
      "metadata": {},
      "outputs": [],
      "source": [
        "fahrenheit <- c(73,65,81,90,75,77,82,93,86,79)\n",
        "celsius <- c(22,18,27,32,23,25,27,33,30,26)\n",
        "gallons <- c(110,95,135,160,97,105,120,175,140,121)"
      ],
      "id": "715d5fe4-a738-422f-9249-cc77a99cd4db"
    },
    {
      "cell_type": "markdown",
      "metadata": {},
      "source": [
        "Let’s create a data frame:\n",
        "\n",
        "-   create a dataframe `df` using the vectors above\n",
        "-   print out `df`"
      ],
      "id": "dbd4c21c-3ab9-4767-ad18-19d40a9bca4a"
    },
    {
      "cell_type": "code",
      "execution_count": null,
      "metadata": {},
      "outputs": [],
      "source": [
        "CODE"
      ],
      "id": "cec2ddc8-323a-4e20-8b6f-673907ce48bb"
    },
    {
      "cell_type": "markdown",
      "metadata": {},
      "source": [
        "Now lets print out a correlation matrix for this situation:\n",
        "\n",
        "-   use the code `cor(df)` to print out the correlation matrix"
      ],
      "id": "db16f248-0709-4e4d-8116-1340663f4cfa"
    },
    {
      "cell_type": "code",
      "execution_count": null,
      "metadata": {},
      "outputs": [],
      "source": [
        "CODE"
      ],
      "id": "bc5278dc-1088-4fd1-a6b2-4168b5851ded"
    },
    {
      "cell_type": "markdown",
      "metadata": {},
      "source": [
        "List the correlations for each situation:\n",
        "\n",
        "-   correlation between `fahrenheit` and `gallons`: ???\n",
        "-   correlation between `celsius` and `gallons`: ???\n",
        "-   correlation between `fahrenheit` and `celsius`: ???\n",
        "\n",
        "Note the very strong correlation between `fahrenheit` and `celsius`.\n",
        "This does not always help to include such highly correlated predictors\n",
        "together in a regression model.\n",
        "\n",
        "-   plot the scatterplots by using the code `plot(df,upper.panel=NULL)`"
      ],
      "id": "16cfaa78-cc02-4955-bfce-d379df78fbba"
    },
    {
      "cell_type": "code",
      "execution_count": null,
      "metadata": {},
      "outputs": [],
      "source": [
        "CODE"
      ],
      "id": "75921007-8817-4864-b66f-6c57194faed9"
    },
    {
      "cell_type": "markdown",
      "metadata": {},
      "source": [
        "-   run the full model using `gallons~fahrenheit+celsius` for CODE below"
      ],
      "id": "a95670b0-2a23-4e45-8d66-1ce9e9296b76"
    },
    {
      "cell_type": "code",
      "execution_count": null,
      "metadata": {},
      "outputs": [],
      "source": [
        "model<- lm(CODE, data=df)\n",
        "summary(model)"
      ],
      "id": "a904c50e-7783-432a-8735-ce2db5f18c0a"
    },
    {
      "cell_type": "markdown",
      "metadata": {},
      "source": [
        "This says to run a regression model using both `fahrenheit` and\n",
        "`celsius` to model `gallons`\n",
        "\n",
        "Fill in the ??? below with the right value:\n",
        "\n",
        "**Test for overall significant:**\n",
        "\n",
        "overall p = ???\n",
        "\n",
        "**Fahrenheit**\n",
        "\n",
        "p-value for fahrenheit = ???\n",
        "\n",
        "**Celsius**\n",
        "\n",
        "p-value for celsius = ???\n",
        "\n",
        "We see that both p-values are two big. We remove the predictor that has\n",
        "the highest p-value, which is `celsius`.\n",
        "\n",
        "-   run the model using `gallons~fahrenheit` for CODE below"
      ],
      "id": "e36c0547-4cd4-4586-a00b-259ecf31669d"
    },
    {
      "cell_type": "code",
      "execution_count": null,
      "metadata": {},
      "outputs": [],
      "source": [
        "modelFahrenheit<- lm(CODE, data=df)\n",
        "summary(modelFahrenheit)"
      ],
      "id": "7715de13-4269-4497-8cf1-50dfefade649"
    },
    {
      "cell_type": "markdown",
      "metadata": {},
      "source": [
        "We see now that `fahrenheit` is significant and the model looks good for\n",
        "one predictor.\n",
        "\n",
        "Fill in the ??? below with the right value:\n",
        "\n",
        "**Test for overall significant:**\n",
        "\n",
        "overall p = ???\n",
        "\n",
        "**The regression equation is this:**\n",
        "\n",
        "gallons =???(fahrenheit) + ???\n",
        "\n",
        "**The standard error is:**\n",
        "\n",
        "std error = ???\n",
        "\n",
        "Probably the model with just `celsius` would work as well. Just for\n",
        "comparison lets run the model with just `celsius`:\n",
        "\n",
        "-   run the model using `gallons~celsius` for CODE below"
      ],
      "id": "1740a6f3-1b1f-4fca-87bf-422168864973"
    },
    {
      "cell_type": "code",
      "execution_count": null,
      "metadata": {},
      "outputs": [],
      "source": [
        "modelCelsius = lm(CODE, data=df)\n",
        "summary(modelCelsius)"
      ],
      "id": "e820d4d5-4b43-4068-adaa-2af3cc815c2c"
    },
    {
      "cell_type": "markdown",
      "metadata": {},
      "source": [
        "Fill in the ??? below with the right value:\n",
        "\n",
        "**Test for overall significant:**\n",
        "\n",
        "overall p = ???\n",
        "\n",
        "**The regression equation is this:**\n",
        "\n",
        "gallons =???(celsius) + ???\n",
        "\n",
        "**The standard error is:**\n",
        "\n",
        "std error = ???"
      ],
      "id": "528cc49d-73d8-42ed-8eb6-cdd1b92b04e2"
    }
  ],
  "nbformat": 4,
  "nbformat_minor": 5,
  "metadata": {
    "kernelspec": {
      "name": "ir",
      "display_name": "R",
      "language": "R"
    }
  }
}