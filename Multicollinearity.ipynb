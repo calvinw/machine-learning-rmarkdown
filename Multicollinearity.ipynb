{
 "cells": [
  {
   "cell_type": "code",
   "execution_count": null,
   "metadata": {},
   "outputs": [],
   "source": [
    "options(\"scipen\"=100)"
   ]
  },
  {
   "cell_type": "markdown",
   "metadata": {},
   "source": [
    "Suppose we have some data for gallons of ice cream sold and the\n",
    "temperatures on two different scales. Does this affect the regression\n",
    "model? Yes, since there is redundancy in the fahrenheit and celsius\n",
    "predictors that leads to what is called “collinearity”. It may mean that\n",
    "the p-values for one or more of the predictors is large even when there\n",
    "is some correlation between the predictor and the outcome.\n",
    "\n",
    "Usually one of the predictors needs to be excluded from the model to fix\n",
    "this. You can search for this kind of thing by looking at the\n",
    "correlation matrix in R.\n",
    "\n",
    "Here is the original data:"
   ]
  },
  {
   "cell_type": "code",
   "execution_count": null,
   "metadata": {},
   "outputs": [],
   "source": [
    "fahrenheit <- c(73,65,81,90,75,77,82,93,86,79)\n",
    "celsius <- c(22,18,27,32,23,25,27,33,30,26)\n",
    "gallons <- c(110,95,135,160,97,105,120,175,140,121)"
   ]
  },
  {
   "cell_type": "markdown",
   "metadata": {},
   "source": [
    "Let’s create a data frame:\n",
    "\n",
    "-   create a dataframe `df` using the vectors above\n",
    "-   print out `df`"
   ]
  },
  {
   "cell_type": "code",
   "execution_count": null,
   "metadata": {},
   "outputs": [],
   "source": [
    "CODE"
   ]
  },
  {
   "cell_type": "markdown",
   "metadata": {},
   "source": [
    "Now lets print out a correlation matrix for this situation:\n",
    "\n",
    "-   use the code `cor(df)` to print out the correlation matrix"
   ]
  },
  {
   "cell_type": "code",
   "execution_count": null,
   "metadata": {},
   "outputs": [],
   "source": [
    "CODE"
   ]
  },
  {
   "cell_type": "markdown",
   "metadata": {},
   "source": [
    "List the correlations for each situation:\n",
    "\n",
    "-   correlation between `fahrenheit` and `gallons`: ???\n",
    "-   correlation between `celsius` and `gallons`: ???\n",
    "-   correlation between `fahrenheit` and `celsius`: ???\n",
    "\n",
    "Note the very strong correlation between `fahrenheit` and `celsius`.\n",
    "This does not always help to include such highly correlated predictors\n",
    "together in a regression model.\n",
    "\n",
    "-   plot the scatterplots by using the code `plot(df,upper.panel=NULL)`"
   ]
  },
  {
   "cell_type": "code",
   "execution_count": null,
   "metadata": {},
   "outputs": [],
   "source": [
    "CODE"
   ]
  },
  {
   "cell_type": "markdown",
   "metadata": {},
   "source": [
    "-   run the full model using `gallons~fahrenheit+celsius` for CODE below"
   ]
  },
  {
   "cell_type": "code",
   "execution_count": null,
   "metadata": {},
   "outputs": [],
   "source": [
    "model<- lm(CODE, data=df)\n",
    "summary(model)"
   ]
  },
  {
   "cell_type": "markdown",
   "metadata": {},
   "source": [
    "This says to run a regression model using both `fahrenheit` and\n",
    "`celsius` to model `gallons`\n",
    "\n",
    "Fill in the ??? below with the right value:\n",
    "\n",
    "**Test for overall significant:**\n",
    "\n",
    "overall p = ???\n",
    "\n",
    "**Fahrenheit**\n",
    "\n",
    "p-value for fahrenheit = ???\n",
    "\n",
    "**Celsius**\n",
    "\n",
    "p-value for celsius = ???\n",
    "\n",
    "We see that both p-values are two big. We remove the predictor that has\n",
    "the highest p-value, which is `celsius`.\n",
    "\n",
    "-   run the model using `gallons~fahrenheit` for CODE below"
   ]
  },
  {
   "cell_type": "code",
   "execution_count": null,
   "metadata": {},
   "outputs": [],
   "source": [
    "modelFahrenheit<- lm(CODE, data=df)\n",
    "summary(modelFahrenheit)"
   ]
  },
  {
   "cell_type": "markdown",
   "metadata": {},
   "source": [
    "We see now that `fahrenheit` is significant and the model looks good for\n",
    "one predictor.\n",
    "\n",
    "Fill in the ??? below with the right value:\n",
    "\n",
    "**Test for overall significant:**\n",
    "\n",
    "overall p = ???\n",
    "\n",
    "**The regression equation is this:**\n",
    "\n",
    "gallons =???(fahrenheit) + ???\n",
    "\n",
    "**The standard error is:**\n",
    "\n",
    "std error = ???\n",
    "\n",
    "Probably the model with just `celsius` would work as well. Just for\n",
    "comparison lets run the model with just `celsius`:\n",
    "\n",
    "-   run the model using `gallons~celsius` for CODE below"
   ]
  },
  {
   "cell_type": "code",
   "execution_count": null,
   "metadata": {},
   "outputs": [],
   "source": [
    "modelCelsius = lm(CODE, data=df)\n",
    "summary(modelCelsius)"
   ]
  },
  {
   "cell_type": "markdown",
   "metadata": {},
   "source": [
    "Fill in the ??? below with the right value:\n",
    "\n",
    "**Test for overall significant:**\n",
    "\n",
    "overall p = ???\n",
    "\n",
    "**The regression equation is this:**\n",
    "\n",
    "gallons =???(celsius) + ???\n",
    "\n",
    "**The standard error is:**\n",
    "\n",
    "std error = ???"
   ]
  }
 ],
 "nbformat": 4,
 "nbformat_minor": 5,
 "metadata": {
  "kernelspec": {
   "name": "ir",
   "display_name": "R",
   "language": "R"
  }
 }
}
