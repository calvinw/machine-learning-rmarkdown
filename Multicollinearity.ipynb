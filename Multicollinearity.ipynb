{
 "cells": [
  {
   "cell_type": "code",
   "execution_count": null,
   "metadata": {},
   "outputs": [],
   "source": [
    "options(repr.plot.width=4, repr.plot.height=4)\n",
    "options(\"scipen\"=100, \"digits\"=4)"
   ]
  },
  {
   "cell_type": "markdown",
   "metadata": {},
   "source": [
    "Suppose we have some data for gallons of ice cream sold and the\n",
    "temperatures on two different scales. Does this affect the regression\n",
    "model? Yes, since there is redundancy in the fahrenheit and celsius\n",
    "predictors that leads to what is called “collinearity”. It may mean that\n",
    "the p-values for one or more of the predictors is large even when there\n",
    "is some correlation between the predictor and the outcome.\n",
    "\n",
    "Usually one of the predictors needs to be excluded from the model to fix\n",
    "this. You can search for this kind of thing by looking at the\n",
    "correlation matrix in R.\n",
    "\n",
    "Here is the original data:"
   ]
  },
  {
   "cell_type": "code",
   "execution_count": null,
   "metadata": {},
   "outputs": [],
   "source": [
    "fahrenheit <- c(73,65,81,90,75,77,82,93,86,79)\n",
    "celsius <- c(22,18,27,32,23,25,27,33,30,26)\n",
    "gallons <- c(110,95,135,160,97,105,120,175,140,121)"
   ]
  }
 ],
 "nbformat": 4,
 "nbformat_minor": 5,
 "metadata": {
  "kernelspec": {
   "name": "ir",
   "display_name": "R",
   "language": "R"
  }
 }
}

