{
 "cells": [
  {
   "cell_type": "code",
   "execution_count": null,
   "metadata": {},
   "outputs": [],
   "source": [
    "options(\"scipen\"=100, \"digits\"=4)"
   ]
  },
  {
   "cell_type": "markdown",
   "metadata": {},
   "source": [
    "Suppose we have some data for gallons of ice cream sold and the\n",
    "temperatures on two different scales. Does this affect the regression\n",
    "model? Yes, since there is redundancy in the fahrenheit and celsius\n",
    "predictors that leads to what is called “collinearity”. It may mean that\n",
    "the p-values for one or more of the predictors is large even when there\n",
    "is some correlation between the predictor and the outcome.\n",
    "\n",
    "Usually one of the predictors needs to be excluded from the model to fix\n",
    "this. You can search for this kind of thing by looking at the\n",
    "correlation matrix in R.\n",
    "\n",
    "Here is the original data:"
   ]
  },
  {
   "cell_type": "code",
   "execution_count": null,
   "metadata": {},
   "outputs": [],
   "source": [
    "fahrenheit <- c(73,65,81,90,75,77,82,93,86,79)\n",
    "celsius <- c(22,18,27,32,23,25,27,33,30,26)\n",
    "gallons <- c(110,95,135,160,97,105,120,175,140,121)"
   ]
  },
  {
   "cell_type": "markdown",
   "metadata": {},
   "source": [
    "Let’s create a data frame:"
   ]
  },
  {
   "cell_type": "code",
   "execution_count": null,
   "metadata": {},
   "outputs": [],
   "source": [
    "df <- data.frame(fahrenheit, celsius, gallons)\n",
    "df"
   ]
  },
  {
   "cell_type": "code",
   "execution_count": null,
   "metadata": {},
   "outputs": [],
   "source": [
    "cor(df)"
   ]
  },
  {
   "cell_type": "code",
   "execution_count": null,
   "metadata": {},
   "outputs": [],
   "source": [
    "plot(df, upper.panel=NULL)"
   ]
  },
  {
   "cell_type": "code",
   "execution_count": null,
   "metadata": {},
   "outputs": [],
   "source": [
    "model = lm(gallons~fahrenheit+celsius, data=df)\n",
    "summary(model)"
   ]
  },
  {
   "cell_type": "markdown",
   "metadata": {},
   "source": [
    "We see that both p-values are two big. We remove the predictor that has\n",
    "the highest p-value, which is `celsius`."
   ]
  },
  {
   "cell_type": "code",
   "execution_count": null,
   "metadata": {},
   "outputs": [],
   "source": [
    "modelFahrenheight = lm(gallons~fahrenheit, data=df)\n",
    "summary(modelFahrenheight)"
   ]
  },
  {
   "cell_type": "markdown",
   "metadata": {},
   "source": [
    "We see now that `fahrenheit` is significant and the model looks good for\n",
    "one predictor.\n",
    "\n",
    "Probably the model with just `celsius` would work as well. Just for\n",
    "comparison lets run the model with just `celsius`:"
   ]
  },
  {
   "cell_type": "code",
   "execution_count": null,
   "metadata": {},
   "outputs": [],
   "source": [
    "modelCelsius = lm(gallons~celsius, data=df)\n",
    "summary(modelCelsius)"
   ]
  }
 ],
 "nbformat": 4,
 "nbformat_minor": 5,
 "metadata": {
  "kernelspec": {
   "name": "ir",
   "display_name": "R",
   "language": "R"
  }
 }
}
