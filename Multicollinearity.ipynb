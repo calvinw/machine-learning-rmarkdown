{
  "cells": [
    {
      "cell_type": "markdown",
      "metadata": {},
      "source": [
        "# Multicollinearity in Ice Cream Sales"
      ],
      "id": "82f6ae0d-db03-4979-909a-41ce73d92cbb"
    },
    {
      "cell_type": "code",
      "execution_count": null,
      "metadata": {},
      "outputs": [],
      "source": [
        "options(\"scipen\"=100)"
      ],
      "id": "896a3d11-0131-47a4-925f-7b5b9824d3a1"
    },
    {
      "cell_type": "markdown",
      "metadata": {},
      "source": [
        "Suppose we have some data for gallons of ice cream sold and the\n",
        "temperatures on two different scales. Does this affect the regression\n",
        "model? Yes, since there is redundancy in the fahrenheit and celsius\n",
        "predictors that leads to what is called “collinearity”. It may mean that\n",
        "the p-values for one or more of the predictors is large even when there\n",
        "is some correlation between the predictor and the outcome.\n",
        "\n",
        "Usually one of the predictors needs to be excluded from the model to fix\n",
        "this. You can search for this kind of thing by looking at the\n",
        "correlation matrix in R.\n",
        "\n",
        "Here is the original data:"
      ],
      "id": "708bae5d-51cf-4f43-adb6-e46d6f24d8f0"
    },
    {
      "cell_type": "code",
      "execution_count": null,
      "metadata": {},
      "outputs": [],
      "source": [
        "fahrenheit <- c(73,65,81,90,75,77,82,93,86,79)\n",
        "celsius <- c(22,18,27,32,23,25,27,33,30,26)\n",
        "gallons <- c(110,95,135,160,97,105,120,175,140,121)"
      ],
      "id": "8fb6c34a-ce13-4b0b-9a13-76d6b5bce875"
    },
    {
      "cell_type": "markdown",
      "metadata": {},
      "source": [
        "Let’s create a data frame:\n",
        "\n",
        "-   create a dataframe `df` using the vectors above\n",
        "-   print out `df`"
      ],
      "id": "1d72ffe7-c85e-4d5c-b193-3af8a67556fc"
    },
    {
      "cell_type": "code",
      "execution_count": null,
      "metadata": {},
      "outputs": [],
      "source": [
        "CODE"
      ],
      "id": "16de1bd1-53d8-4129-9538-9c0f63b8ea91"
    },
    {
      "cell_type": "markdown",
      "metadata": {},
      "source": [
        "Now lets print out a correlation matrix for this situation:\n",
        "\n",
        "-   use the code `cor(df)` to print out the correlation matrix"
      ],
      "id": "0e9d8a6b-88a3-4e4b-be43-595adf13ce2c"
    },
    {
      "cell_type": "code",
      "execution_count": null,
      "metadata": {},
      "outputs": [],
      "source": [
        "CODE"
      ],
      "id": "5aae9753-6707-4fcc-b7ed-50618a2088fc"
    },
    {
      "cell_type": "markdown",
      "metadata": {},
      "source": [
        "List the correlations for each situation:\n",
        "\n",
        "-   correlation between `fahrenheit` and `gallons`: ???\n",
        "-   correlation between `celsius` and `gallons`: ???\n",
        "-   correlation between `fahrenheit` and `celsius`: ???\n",
        "\n",
        "Note the very strong correlation between `fahrenheit` and `celsius`.\n",
        "This does not always help to include such highly correlated predictors\n",
        "together in a regression model.\n",
        "\n",
        "-   plot the scatterplots by using the code `plot(df,upper.panel=NULL)`"
      ],
      "id": "c4743491-114f-4642-b51a-a89c5d1c84c5"
    },
    {
      "cell_type": "code",
      "execution_count": null,
      "metadata": {},
      "outputs": [],
      "source": [
        "CODE"
      ],
      "id": "faba410b-b810-49fc-8952-12674b38a96d"
    },
    {
      "cell_type": "markdown",
      "metadata": {},
      "source": [
        "-   run the full model using `gallons~fahrenheit+celsius` for CODE below"
      ],
      "id": "4d706606-e579-468e-92e5-02ec218212fe"
    },
    {
      "cell_type": "code",
      "execution_count": null,
      "metadata": {},
      "outputs": [],
      "source": [
        "model<- lm(CODE, data=df)\n",
        "summary(model)"
      ],
      "id": "b81ccfeb-f30c-4498-b267-40d185afe418"
    },
    {
      "cell_type": "markdown",
      "metadata": {},
      "source": [
        "This says to run a regression model using both `fahrenheit` and\n",
        "`celsius` to model `gallons`\n",
        "\n",
        "Fill in the ??? below with the right value:\n",
        "\n",
        "**Test for overall significant:**\n",
        "\n",
        "overall p = ???\n",
        "\n",
        "**Fahrenheit**\n",
        "\n",
        "p-value for fahrenheit = ???\n",
        "\n",
        "**Celsius**\n",
        "\n",
        "p-value for celsius = ???\n",
        "\n",
        "We see that both p-values are two big. We remove the predictor that has\n",
        "the highest p-value, which is `celsius`.\n",
        "\n",
        "-   run the model using `gallons~fahrenheit` for CODE below"
      ],
      "id": "45cfb40c-70c3-40de-ad8f-4af4e052ad02"
    },
    {
      "cell_type": "code",
      "execution_count": null,
      "metadata": {},
      "outputs": [],
      "source": [
        "modelFahrenheit<- lm(CODE, data=df)\n",
        "summary(modelFahrenheit)"
      ],
      "id": "de208a60-edb7-4006-b654-daa2aa263fe2"
    },
    {
      "cell_type": "markdown",
      "metadata": {},
      "source": [
        "We see now that `fahrenheit` is significant and the model looks good for\n",
        "one predictor.\n",
        "\n",
        "Fill in the ??? below with the right value:\n",
        "\n",
        "**Test for overall significant:**\n",
        "\n",
        "overall p = ???\n",
        "\n",
        "**The regression equation is this:**\n",
        "\n",
        "gallons =???(fahrenheit) + ???\n",
        "\n",
        "**The standard error is:**\n",
        "\n",
        "std error = ???\n",
        "\n",
        "Probably the model with just `celsius` would work as well. Just for\n",
        "comparison lets run the model with just `celsius`:\n",
        "\n",
        "-   run the model using `gallons~celsius` for CODE below"
      ],
      "id": "702bd564-e9e5-43da-aac3-773d4449c69e"
    },
    {
      "cell_type": "code",
      "execution_count": null,
      "metadata": {},
      "outputs": [],
      "source": [
        "modelCelsius = lm(CODE, data=df)\n",
        "summary(modelCelsius)"
      ],
      "id": "5298ca33-1b18-4f4a-bf28-42663b1b7d92"
    },
    {
      "cell_type": "markdown",
      "metadata": {},
      "source": [
        "Fill in the ??? below with the right value:\n",
        "\n",
        "**Test for overall significant:**\n",
        "\n",
        "overall p = ???\n",
        "\n",
        "**The regression equation is this:**\n",
        "\n",
        "gallons =???(celsius) + ???\n",
        "\n",
        "**The standard error is:**\n",
        "\n",
        "std error = ???"
      ],
      "id": "be16652d-691c-49ef-a089-0ced4204a56e"
    }
  ],
  "nbformat": 4,
  "nbformat_minor": 5,
  "metadata": {
    "kernelspec": {
      "name": "ir",
      "display_name": "R",
      "language": "R"
    }
  }
}