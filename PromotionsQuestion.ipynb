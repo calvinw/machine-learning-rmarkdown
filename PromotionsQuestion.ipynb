{
  "cells": [
    {
      "cell_type": "markdown",
      "metadata": {},
      "source": [
        "# Regression Tree: Predicting Demand from Radio and Email"
      ],
      "id": "f65b5d33-a42b-495e-a242-cb13149dc26c"
    },
    {
      "cell_type": "code",
      "execution_count": null,
      "metadata": {},
      "outputs": [],
      "source": [
        "if(!require(\"rpart\")) install.packages(\"rpart\")\n",
        "if(!require(\"rpart.plot\")) install.packages(\"rpart.plot\")\n",
        "if(!require(\"Metrics\")) install.packages(\"Metrics\")\n",
        "library(\"rpart\")\n",
        "library(\"rpart.plot\")\n",
        "library(\"Metrics\")"
      ],
      "id": "3e1408c5-7f07-4bb2-ac6d-8dd4130b65d6"
    },
    {
      "cell_type": "markdown",
      "metadata": {},
      "source": [
        "We have training data for 13 weeks.\n",
        "\n",
        "-   `demand` is the demand for the week\n",
        "-   `radio` (yes or no), is whether we ran radio ads that week\n",
        "-   `email` (yes or no) is whether we emailed potential customers that\n",
        "    week\n",
        "\n",
        "## Training Data\n",
        "\n",
        "Lets read in the training data:"
      ],
      "id": "3e2eaef1-e195-4281-9faf-7e54d98650d8"
    },
    {
      "cell_type": "code",
      "execution_count": null,
      "metadata": {},
      "outputs": [],
      "source": [
        "url<-\"https://docs.google.com/spreadsheets/d/e/2PACX-1vSi4B1BrrvBiibT9af_txYMmTNxPJ7Q7Y9502MFjeYUpMXBiiIT3Mlv28h2hPa69bmAuzIc95PuNvN-/pub?gid=1414619388&single=true&output=csv\"\n",
        "train<-read.csv(url, stringsAsFactors=TRUE)"
      ],
      "id": "d2f2fe81-5d42-498c-b802-e6282c1378f6"
    },
    {
      "cell_type": "markdown",
      "metadata": {},
      "source": [
        "-   print out info about the `train` dataset using `str`:"
      ],
      "id": "b357de69-5b2f-4abd-9466-0c63870b6c89"
    },
    {
      "cell_type": "code",
      "execution_count": null,
      "metadata": {},
      "outputs": [],
      "source": [
        "CODE"
      ],
      "id": "0fddc1b8-275f-4033-8989-f070bb72d695"
    },
    {
      "cell_type": "markdown",
      "metadata": {},
      "source": [
        "-   And now print out the training set using `print`:"
      ],
      "id": "a27e17d4-41ea-46da-a6f8-e3baa5ce3867"
    },
    {
      "cell_type": "code",
      "execution_count": null,
      "metadata": {},
      "outputs": [],
      "source": [
        "CODE"
      ],
      "id": "c2efb680-d39f-47b9-b344-a7ea1926b438"
    },
    {
      "cell_type": "markdown",
      "metadata": {},
      "source": [
        "## Testing Data"
      ],
      "id": "af2f9af3-ee6d-4e3f-956b-3b5185ae4ad0"
    },
    {
      "cell_type": "code",
      "execution_count": null,
      "metadata": {},
      "outputs": [],
      "source": [
        "url<-\"https://docs.google.com/spreadsheets/d/e/2PACX-1vSi4B1BrrvBiibT9af_txYMmTNxPJ7Q7Y9502MFjeYUpMXBiiIT3Mlv28h2hPa69bmAuzIc95PuNvN-/pub?gid=0&single=true&output=csv\"\n",
        "test<-read.csv(url, stringsAsFactors=TRUE)"
      ],
      "id": "eae44c71-8393-461f-b7de-61577d9518a9"
    },
    {
      "cell_type": "markdown",
      "metadata": {},
      "source": [
        "-   print out info about the `test` dataset using `str`:"
      ],
      "id": "f9943c31-547c-40f3-ac2d-67396e3749a1"
    },
    {
      "cell_type": "code",
      "execution_count": null,
      "metadata": {},
      "outputs": [],
      "source": [
        "CODE"
      ],
      "id": "2d0f6b2f-ba0e-474b-911b-6c40e511ffc5"
    },
    {
      "cell_type": "markdown",
      "metadata": {},
      "source": [
        "-   And now print out the test set using `print`:"
      ],
      "id": "57257912-40d7-40dc-9d91-576b567f5a4f"
    },
    {
      "cell_type": "code",
      "execution_count": null,
      "metadata": {},
      "outputs": [],
      "source": [
        "CODE"
      ],
      "id": "59e13732-1a84-4758-b8db-2ace840bf9e6"
    },
    {
      "cell_type": "markdown",
      "metadata": {},
      "source": [
        "## Model 1 - use `radio` only to predict `demand`\n",
        "\n",
        "-   sort the data frame using `radio`"
      ],
      "id": "9451e2c2-4d5c-4b70-8753-ced70e13b633"
    },
    {
      "cell_type": "code",
      "execution_count": null,
      "metadata": {},
      "outputs": [
        {
          "output_type": "stream",
          "name": "stdout",
          "text": [
            "   radio email demand\n",
            "1     no    no     12\n",
            "2     no    no     10\n",
            "3     no   yes     25\n",
            "4     no   yes     27\n",
            "5     no    no     12\n",
            "6     no    no     11\n",
            "7     no   yes     28\n",
            "8    yes   yes     40\n",
            "9    yes    no     20\n",
            "10   yes    no     22\n",
            "11   yes   yes     43\n",
            "12   yes    no     22\n",
            "13   yes   yes     52"
          ]
        }
      ],
      "source": [
        "print(train[order(train$radio),])"
      ],
      "id": "118e7fde-0623-4dc0-87f4-cb70b1679a9a"
    },
    {
      "cell_type": "markdown",
      "metadata": {},
      "source": [
        "Now lets make model 1 using just one predictor `radio` and one node to\n",
        "predict `demand`:\n",
        "\n",
        "-   replace CODE below with the correct model to predict `demand` from\n",
        "    `radio` only"
      ],
      "id": "264edd0b-c0c5-44e8-8667-f3ebb10105c5"
    },
    {
      "cell_type": "code",
      "execution_count": null,
      "metadata": {},
      "outputs": [],
      "source": [
        "control <- rpart.control(minbucket=1, maxdepth=1)\n",
        "model <- rpart(CODE, data=train, method=\"anova\", control=control)\n",
        "rpart.plot(model, type=4, extra=101)"
      ],
      "id": "f01cdbbc-4715-4b31-8003-594e9dd5ad4d"
    },
    {
      "cell_type": "markdown",
      "metadata": {},
      "source": [
        "### Fill in the following information for this model:\n",
        "\n",
        "Prediction if there is there is no radio promotion: ???\n",
        "\n",
        "Prediction if there is radio promotion: ???\n",
        "\n",
        "These values come from taking averages over radio `no` and radio `yes`\n",
        "\n",
        "-   Now we are ready to do some predictions using\n",
        "    `predictions <- predict(model, newdata = test)`:"
      ],
      "id": "7f96360b-50f3-40fd-b615-2a9875fab3b8"
    },
    {
      "cell_type": "code",
      "execution_count": null,
      "metadata": {},
      "outputs": [],
      "source": [
        "predictions <- CODE "
      ],
      "id": "b87c7306-72d2-46ac-9854-0b7ac8fc23ec"
    },
    {
      "cell_type": "markdown",
      "metadata": {},
      "source": [
        "-   Compute the MAE, MAPE and RMSE for this model using\n",
        "    `mae(actuals,predictions)`, `mape(actuals, predictions)` and\n",
        "    `rmse(actuals, predictions)`"
      ],
      "id": "87ab82eb-108e-44d5-8f92-c5236cc224c1"
    },
    {
      "cell_type": "code",
      "execution_count": null,
      "metadata": {},
      "outputs": [],
      "source": [
        "actuals <- test$demand\n",
        "mae(CODE)\n",
        "mape(CODE)\n",
        "rmse(CODE)"
      ],
      "id": "2d8c0d11-1c3d-4d72-9b0b-22f827102b0c"
    },
    {
      "cell_type": "markdown",
      "metadata": {},
      "source": [
        "## Model 2 - use `radio` and `email` to predict `demand`\n",
        "\n",
        "Now lets do model 2 using both `radio` and `email` and one node to\n",
        "predict `demand`:\n",
        "\n",
        "-   replace CODE below with the correct model to predict `demand` from\n",
        "    `radio`and `email`"
      ],
      "id": "a2f26eef-43f5-4002-979a-ac58b1c40e34"
    },
    {
      "cell_type": "code",
      "execution_count": null,
      "metadata": {},
      "outputs": [],
      "source": [
        "control <- rpart.control(minbucket=1)\n",
        "model <- rpart(CODE, data=train, method=\"anova\", control=control)\n",
        "rpart.plot(model, type=4, extra=101)"
      ],
      "id": "246d7f47-9672-4bca-8b61-6ccdb74fbd3e"
    },
    {
      "cell_type": "markdown",
      "metadata": {},
      "source": [
        "### Fill in the following information for this model:\n",
        "\n",
        "Prediction if there is there is no email promotion and there is radio\n",
        "promotion: ???\n",
        "\n",
        "Prediction if there is there is email promotion and there is radio\n",
        "promotion ???\n",
        "\n",
        "-   make some predictions using\n",
        "    `predictions <- predict(model, newdata = test)`"
      ],
      "id": "63235634-9c8e-4557-9fbf-9837990729b9"
    },
    {
      "cell_type": "code",
      "execution_count": null,
      "metadata": {},
      "outputs": [],
      "source": [
        "predictions <- CODE "
      ],
      "id": "5b488188-dfe0-4de6-81a7-857a56e26b29"
    },
    {
      "cell_type": "markdown",
      "metadata": {},
      "source": [
        "-   Compute the MAE, MAPE and RMSE for this model using\n",
        "    `mae(actuals,predictions)`, `mape(actuals, predictions)` and\n",
        "    `rmse(actuals, predictions)`"
      ],
      "id": "165c33b7-b587-47dd-a888-102fa64bb9cd"
    },
    {
      "cell_type": "code",
      "execution_count": null,
      "metadata": {},
      "outputs": [],
      "source": [
        "actuals <- test$demand\n",
        "mae(CODE)\n",
        "mape(CODE)\n",
        "rmse(CODE)"
      ],
      "id": "3859671b-08f1-4387-8b11-d833618e8217"
    },
    {
      "cell_type": "markdown",
      "metadata": {},
      "source": [
        "### Which Model is Better?\n",
        "\n",
        "Which model was better, model1 or model2 ???"
      ],
      "id": "0c27b09b-cb7f-4713-982d-bec5fb0e956f"
    }
  ],
  "nbformat": 4,
  "nbformat_minor": 5,
  "metadata": {
    "kernelspec": {
      "name": "ir",
      "display_name": "R",
      "language": "R"
    }
  }
}