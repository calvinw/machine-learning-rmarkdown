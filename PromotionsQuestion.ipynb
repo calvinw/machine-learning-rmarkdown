{
 "cells": [
  {
   "cell_type": "code",
   "execution_count": null,
   "metadata": {},
   "outputs": [],
   "source": [
    "options(\"scipen\"=100, \"digits\"=4)\n",
    "if(!require(\"rpart\")) install.packages(\"rpart\")\n",
    "if(!require(\"rpart.plot\")) install.packages(\"rpart.plot\")\n",
    "if(!require(\"Metrics\")) install.packages(\"Metrics\")\n",
    "library(\"rpart\")\n",
    "library(\"rpart.plot\")\n",
    "library(\"Metrics\")"
   ]
  },
  {
   "cell_type": "markdown",
   "metadata": {},
   "source": [
    "We have data for 14 weeks.\n",
    "\n",
    "-   `demand` is the demand for the week\n",
    "-   `radio` (yes or no), is whether we ran radio ads that week\n",
    "-   `email` (yes or no) is whether we emailed potential customers that\n",
    "    week\n",
    "\n",
    "Lets read in the training data:"
   ]
  },
  {
   "cell_type": "code",
   "execution_count": null,
   "metadata": {},
   "outputs": [],
   "source": [
    "url<-\"https://docs.google.com/spreadsheets/d/e/2PACX-1vSi4B1BrrvBiibT9af_txYMmTNxPJ7Q7Y9502MFjeYUpMXBiiIT3Mlv28h2hPa69bmAuzIc95PuNvN-/pub?gid=1414619388&single=true&output=csv\"\n",
    "train<-read.csv(url, stringsAsFactors=TRUE)"
   ]
  },
  {
   "cell_type": "markdown",
   "metadata": {},
   "source": [
    "-   print out info about the `train` dataset using `str`:"
   ]
  },
  {
   "cell_type": "code",
   "execution_count": null,
   "metadata": {},
   "outputs": [],
   "source": [
    "str(train)"
   ]
  },
  {
   "cell_type": "markdown",
   "metadata": {},
   "source": [
    "-   And now print out the training set using `print`:"
   ]
  },
  {
   "cell_type": "code",
   "execution_count": null,
   "metadata": {},
   "outputs": [],
   "source": [
    "print(train)"
   ]
  },
  {
   "cell_type": "markdown",
   "metadata": {},
   "source": [
    "Model1 - use `radio` only to predict `demand`\n",
    "---------------------------------------------\n",
    "\n",
    "Now lets make model 1 using just one predictor `radio` and one node to\n",
    "predict `demand`:"
   ]
  },
  {
   "cell_type": "code",
   "execution_count": null,
   "metadata": {},
   "outputs": [],
   "source": [
    "control <- rpart.control(minbucket=1, maxdepth=1)\n",
    "model <- rpart(CODE, data=train, method=\"anova\", control=control)\n",
    "rpart.plot(model, type=4, extra=101)"
   ]
  },
  {
   "cell_type": "markdown",
   "metadata": {},
   "source": [
    "### Fill in the following infomation for this model:\n",
    "\n",
    "Prediction if there is there is no radio promotion:\n",
    "\n",
    "PUT ANSWER HERE\n",
    "\n",
    "Prediction if there is radio promition:\n",
    "\n",
    "PUT ANSWER HERE"
   ]
  },
  {
   "cell_type": "code",
   "execution_count": null,
   "metadata": {},
   "outputs": [],
   "source": [
    "url<-\"https://docs.google.com/spreadsheets/d/e/2PACX-1vSi4B1BrrvBiibT9af_txYMmTNxPJ7Q7Y9502MFjeYUpMXBiiIT3Mlv28h2hPa69bmAuzIc95PuNvN-/pub?gid=0&single=true&output=csv\"\n",
    "test<-read.csv(url, stringsAsFactors=TRUE)"
   ]
  },
  {
   "cell_type": "markdown",
   "metadata": {},
   "source": [
    "-   print out info about the `test` dataset using `str`:"
   ]
  },
  {
   "cell_type": "code",
   "execution_count": null,
   "metadata": {},
   "outputs": [],
   "source": [
    "str(test)"
   ]
  },
  {
   "cell_type": "markdown",
   "metadata": {},
   "source": [
    "-   And now print out the test set using `print`:"
   ]
  },
  {
   "cell_type": "code",
   "execution_count": null,
   "metadata": {},
   "outputs": [],
   "source": [
    "print(test)"
   ]
  },
  {
   "cell_type": "markdown",
   "metadata": {},
   "source": [
    "-   Now we are ready to do some predictions using\n",
    "    `predictions <- predict(model, newdata = test)`:"
   ]
  },
  {
   "cell_type": "code",
   "execution_count": null,
   "metadata": {},
   "outputs": [],
   "source": [
    "CODE"
   ]
  },
  {
   "cell_type": "markdown",
   "metadata": {},
   "source": [
    "-   Compute the MAE, MAPE and RMSE for this model using\n",
    "    `mae(actuals,predictions)`, `mape(actuals, predictions)` and\n",
    "    `rmse(actuals, predictions)`"
   ]
  },
  {
   "cell_type": "code",
   "execution_count": null,
   "metadata": {},
   "outputs": [],
   "source": [
    "actuals <- test$demand\n",
    "mae(CODE)\n",
    "mape(CODE)\n",
    "rmse(CODE)"
   ]
  },
  {
   "cell_type": "markdown",
   "metadata": {},
   "source": [
    "Model2 - use `radio` and `email` to predict `demand`\n",
    "----------------------------------------------------\n",
    "\n",
    "Now lets do model2 using both `radio` and `email` and one node to\n",
    "predict `demand`:"
   ]
  },
  {
   "cell_type": "code",
   "execution_count": null,
   "metadata": {},
   "outputs": [],
   "source": [
    "control <- rpart.control(minbucket=1)\n",
    "model <- rpart(CODE, data=train, method=\"anova\", control=control)\n",
    "rpart.plot(model, type=4, extra=101)"
   ]
  },
  {
   "cell_type": "markdown",
   "metadata": {},
   "source": [
    "### Fill in the following infomation for this model:\n",
    "\n",
    "Prediction if there is there is no email promotion and there is radio\n",
    "promotion:\n",
    "\n",
    "PUT ANSWER HERE\n",
    "\n",
    "Prediction if there is there is email promotion and there is radio\n",
    "promotion:\n",
    "\n",
    "PUT ANSWER HERE\n",
    "\n",
    "Now read in the test dataframe"
   ]
  },
  {
   "cell_type": "code",
   "execution_count": null,
   "metadata": {},
   "outputs": [],
   "source": [
    "testurl<-\"https://docs.google.com/spreadsheets/d/e/2PACX-1vSi4B1BrrvBiibT9af_txYMmTNxPJ7Q7Y9502MFjeYUpMXBiiIT3Mlv28h2hPa69bmAuzIc95PuNvN-/pub?gid=0&single=true&output=csv\"\n",
    "testdf<-read.csv(testurl, stringsAsFactors=TRUE)"
   ]
  },
  {
   "cell_type": "markdown",
   "metadata": {},
   "source": [
    "And now print out the test set:"
   ]
  },
  {
   "cell_type": "code",
   "execution_count": null,
   "metadata": {},
   "outputs": [],
   "source": [
    "print(testdf)"
   ]
  },
  {
   "cell_type": "markdown",
   "metadata": {},
   "source": [
    "Now we are ready to do some predictions using the test dataframe:"
   ]
  },
  {
   "cell_type": "code",
   "execution_count": null,
   "metadata": {},
   "outputs": [],
   "source": [
    "predictions <- PUT CODE HERE "
   ]
  },
  {
   "cell_type": "code",
   "execution_count": null,
   "metadata": {},
   "outputs": [],
   "source": [
    "actuals <- testdf$demand\n",
    "mae(PUT CODE HERE)\n",
    "mape(PUT CODE HERE)\n",
    "rmse(PUT CODE HERE)"
   ]
  },
  {
   "cell_type": "markdown",
   "metadata": {},
   "source": [
    "Which model was better, `model1` or `model2` and why?"
   ]
  }
 ],
 "nbformat": 4,
 "nbformat_minor": 5,
 "metadata": {
  "kernelspec": {
   "name": "ir",
   "display_name": "R",
   "language": "R"
  }
 }
}
