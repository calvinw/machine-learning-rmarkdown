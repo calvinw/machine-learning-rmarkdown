{
  "cells": [
    {
      "cell_type": "markdown",
      "metadata": {},
      "source": [
        "# Regression Tree: Predicting Demand from Radio and Email"
      ],
      "id": "8f18e16e-7c7a-4d40-a242-099b36c39335"
    },
    {
      "cell_type": "code",
      "execution_count": null,
      "metadata": {},
      "outputs": [],
      "source": [
        "if(!require(\"rpart\")) install.packages(\"rpart\")\n",
        "if(!require(\"rpart.plot\")) install.packages(\"rpart.plot\")\n",
        "if(!require(\"Metrics\")) install.packages(\"Metrics\")\n",
        "library(\"rpart\")\n",
        "library(\"rpart.plot\")\n",
        "library(\"Metrics\")"
      ],
      "id": "ec5bfaa5-dfa4-426b-b312-5b2f27cd946e"
    },
    {
      "cell_type": "markdown",
      "metadata": {},
      "source": [
        "We have training data for 13 weeks.\n",
        "\n",
        "-   `demand` is the demand for the week\n",
        "-   `radio` (yes or no), is whether we ran radio ads that week\n",
        "-   `email` (yes or no) is whether we emailed potential customers that\n",
        "    week\n",
        "\n",
        "## Training Data\n",
        "\n",
        "Lets read in the training data:"
      ],
      "id": "dc3327ad-db73-4abf-ae4f-7232de093c23"
    },
    {
      "cell_type": "code",
      "execution_count": null,
      "metadata": {},
      "outputs": [],
      "source": [
        "url<-\"https://docs.google.com/spreadsheets/d/e/2PACX-1vSi4B1BrrvBiibT9af_txYMmTNxPJ7Q7Y9502MFjeYUpMXBiiIT3Mlv28h2hPa69bmAuzIc95PuNvN-/pub?gid=1414619388&single=true&output=csv\"\n",
        "train<-read.csv(url, stringsAsFactors=TRUE)"
      ],
      "id": "649e95b9-5a5f-4430-a3a6-b0d9bd9fc85e"
    },
    {
      "cell_type": "markdown",
      "metadata": {},
      "source": [
        "-   print out info about the `train` dataset using `str`:"
      ],
      "id": "f95d132e-f2b8-4644-b54c-eefa14eba9e3"
    },
    {
      "cell_type": "code",
      "execution_count": null,
      "metadata": {},
      "outputs": [],
      "source": [
        "CODE"
      ],
      "id": "f981ea12-0137-4c7c-a307-eb9ac9796728"
    },
    {
      "cell_type": "markdown",
      "metadata": {},
      "source": [
        "-   And now print out the training set using `print`:"
      ],
      "id": "15c1cb8a-ede0-4d70-979d-a30731b68958"
    },
    {
      "cell_type": "code",
      "execution_count": null,
      "metadata": {},
      "outputs": [],
      "source": [
        "CODE"
      ],
      "id": "7a764a75-775f-4c35-a89b-1149476fef80"
    },
    {
      "cell_type": "markdown",
      "metadata": {},
      "source": [
        "## Testing Data"
      ],
      "id": "1c935e7a-98e8-4795-a9a9-18977b885b54"
    },
    {
      "cell_type": "code",
      "execution_count": null,
      "metadata": {},
      "outputs": [],
      "source": [
        "url<-\"https://docs.google.com/spreadsheets/d/e/2PACX-1vSi4B1BrrvBiibT9af_txYMmTNxPJ7Q7Y9502MFjeYUpMXBiiIT3Mlv28h2hPa69bmAuzIc95PuNvN-/pub?gid=0&single=true&output=csv\"\n",
        "test<-read.csv(url, stringsAsFactors=TRUE)"
      ],
      "id": "19746beb-5bce-4df6-a951-653804cda10d"
    },
    {
      "cell_type": "markdown",
      "metadata": {},
      "source": [
        "-   print out info about the `test` dataset using `str`:"
      ],
      "id": "18dc2181-c077-41fe-b039-f0050454a088"
    },
    {
      "cell_type": "code",
      "execution_count": null,
      "metadata": {},
      "outputs": [],
      "source": [
        "CODE"
      ],
      "id": "2e1b2d55-43dd-4e60-9cb2-6e1d94a07a6f"
    },
    {
      "cell_type": "markdown",
      "metadata": {},
      "source": [
        "-   And now print out the test set using `print`:"
      ],
      "id": "bb024171-0e36-4bdc-bfe3-ea93264b91ec"
    },
    {
      "cell_type": "code",
      "execution_count": null,
      "metadata": {},
      "outputs": [],
      "source": [
        "CODE"
      ],
      "id": "c57224bd-ca96-44c7-bb1c-16c01ea150e7"
    },
    {
      "cell_type": "markdown",
      "metadata": {},
      "source": [
        "## Model 1 - use `radio` only to predict `demand`\n",
        "\n",
        "-   sort the data frame using `radio`"
      ],
      "id": "7d47dc6a-aeb1-4551-a832-9979f6566c2d"
    },
    {
      "cell_type": "code",
      "execution_count": null,
      "metadata": {},
      "outputs": [
        {
          "output_type": "stream",
          "name": "stdout",
          "text": [
            "   radio email demand\n",
            "1     no    no     12\n",
            "2     no    no     10\n",
            "3     no   yes     25\n",
            "4     no   yes     27\n",
            "5     no    no     12\n",
            "6     no    no     11\n",
            "7     no   yes     28\n",
            "8    yes   yes     40\n",
            "9    yes    no     20\n",
            "10   yes    no     22\n",
            "11   yes   yes     43\n",
            "12   yes    no     22\n",
            "13   yes   yes     52"
          ]
        }
      ],
      "source": [
        "print(train[order(train$radio),])"
      ],
      "id": "5c6b349c-601d-48df-b043-dff1ac3ea2a8"
    },
    {
      "cell_type": "markdown",
      "metadata": {},
      "source": [
        "Now lets make model 1 using just one predictor `radio` and one node to\n",
        "predict `demand`:\n",
        "\n",
        "-   replace CODE below with the correct model to predict `demand` from\n",
        "    `radio` only"
      ],
      "id": "9904e283-e4d2-4422-9c71-7340b5fdd77b"
    },
    {
      "cell_type": "code",
      "execution_count": null,
      "metadata": {},
      "outputs": [],
      "source": [
        "control <- rpart.control(minbucket=1, maxdepth=1)\n",
        "model <- rpart(CODE, data=train, method=\"anova\", control=control)\n",
        "rpart.plot(model, type=4, extra=101)"
      ],
      "id": "7a300e3a-5ec5-44ee-b021-1b686f01cad7"
    },
    {
      "cell_type": "markdown",
      "metadata": {},
      "source": [
        "### Fill in the following information for this model:\n",
        "\n",
        "Prediction if there is there is no radio promotion: ???\n",
        "\n",
        "Prediction if there is radio promotion: ???\n",
        "\n",
        "These values come from taking averages over radio `no` and radio `yes`\n",
        "\n",
        "-   Now we are ready to do some predictions using\n",
        "    `predictions <- predict(model, newdata = test)`:"
      ],
      "id": "73c4ea25-cc99-4908-a3ad-e468e5d31a76"
    },
    {
      "cell_type": "code",
      "execution_count": null,
      "metadata": {},
      "outputs": [],
      "source": [
        "predictions <- CODE "
      ],
      "id": "ecf7e8d5-43bd-4073-8f4b-c8e8a19d3927"
    },
    {
      "cell_type": "markdown",
      "metadata": {},
      "source": [
        "-   Compute the MAE, MAPE and RMSE for this model using\n",
        "    `mae(actuals,predictions)`, `mape(actuals, predictions)` and\n",
        "    `rmse(actuals, predictions)`"
      ],
      "id": "944ca387-1b4b-45f7-ba3a-5c61f2fe4806"
    },
    {
      "cell_type": "code",
      "execution_count": null,
      "metadata": {},
      "outputs": [],
      "source": [
        "actuals <- test$demand\n",
        "mae(CODE)\n",
        "mape(CODE)\n",
        "rmse(CODE)"
      ],
      "id": "d2eaefc4-67a8-439b-bac6-c1050d6ac13e"
    },
    {
      "cell_type": "markdown",
      "metadata": {},
      "source": [
        "## Model 2 - use `radio` and `email` to predict `demand`\n",
        "\n",
        "Now lets do model 2 using both `radio` and `email` and one node to\n",
        "predict `demand`:\n",
        "\n",
        "-   replace CODE below with the correct model to predict `demand` from\n",
        "    `radio`and `email`"
      ],
      "id": "8ecc9f41-9316-450e-800e-072ca1eb33a0"
    },
    {
      "cell_type": "code",
      "execution_count": null,
      "metadata": {},
      "outputs": [],
      "source": [
        "control <- rpart.control(minbucket=1)\n",
        "model <- rpart(CODE, data=train, method=\"anova\", control=control)\n",
        "rpart.plot(model, type=4, extra=101)"
      ],
      "id": "d46cf7ed-e8e4-4b3e-8a03-7317b5a6856d"
    },
    {
      "cell_type": "markdown",
      "metadata": {},
      "source": [
        "### Fill in the following information for this model:\n",
        "\n",
        "Prediction if there is there is no email promotion and there is radio\n",
        "promotion: ???\n",
        "\n",
        "Prediction if there is there is email promotion and there is radio\n",
        "promotion ???\n",
        "\n",
        "-   make some predictions using\n",
        "    `predictions <- predict(model, newdata = test)`"
      ],
      "id": "383fc2ea-f81b-4fa8-8b75-a40da6e2f98f"
    },
    {
      "cell_type": "code",
      "execution_count": null,
      "metadata": {},
      "outputs": [],
      "source": [
        "predictions <- CODE "
      ],
      "id": "844bd38f-dcc3-41eb-98bb-1cd426830e5f"
    },
    {
      "cell_type": "markdown",
      "metadata": {},
      "source": [
        "-   Compute the MAE, MAPE and RMSE for this model using\n",
        "    `mae(actuals,predictions)`, `mape(actuals, predictions)` and\n",
        "    `rmse(actuals, predictions)`"
      ],
      "id": "3223fdb0-e628-42b8-9f23-5a9c079ed4dc"
    },
    {
      "cell_type": "code",
      "execution_count": null,
      "metadata": {},
      "outputs": [],
      "source": [
        "actuals <- test$demand\n",
        "mae(CODE)\n",
        "mape(CODE)\n",
        "rmse(CODE)"
      ],
      "id": "bc7a03c3-51fa-44ce-b86d-c7e9bec10acd"
    },
    {
      "cell_type": "markdown",
      "metadata": {},
      "source": [
        "### Which Model is Better?\n",
        "\n",
        "Which model was better, model1 or model2 ???"
      ],
      "id": "e9384da3-0f9e-4798-a4e9-fe601d4488e5"
    }
  ],
  "nbformat": 4,
  "nbformat_minor": 5,
  "metadata": {
    "kernelspec": {
      "name": "ir",
      "display_name": "R",
      "language": "R"
    }
  }
}