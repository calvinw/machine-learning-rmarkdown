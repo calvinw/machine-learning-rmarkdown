{
  "cells": [
    {
      "cell_type": "markdown",
      "metadata": {},
      "source": [
        "# Rvest HM"
      ],
      "id": "d7014d9c-d29d-4a0f-8f28-060fd62be4b1"
    },
    {
      "cell_type": "code",
      "execution_count": null,
      "metadata": {},
      "outputs": [],
      "source": [
        "if (!require(\"rvest\")) install.packages(\"rvest\")\n",
        "library(\"rvest\")"
      ],
      "id": "67d6d559-54c4-49b6-9195-7a31452f80f0"
    },
    {
      "cell_type": "markdown",
      "metadata": {},
      "source": [
        "We are going to read in a page at\n",
        "<https://www2.hm.com/en_us/sale/women/view-all.html> and get the prices\n",
        "and sale prices on it:"
      ],
      "id": "b7a4ca92-cd9b-488d-aeb3-aa99460b5c13"
    },
    {
      "cell_type": "code",
      "execution_count": null,
      "metadata": {},
      "outputs": [],
      "source": [
        "url<-\"https://www2.hm.com/en_us/sale/women/view-all.html\"\n",
        "webpage <- read_html(url)"
      ],
      "id": "84005888-5041-4cef-8868-e3fb70d2a24b"
    },
    {
      "cell_type": "markdown",
      "metadata": {},
      "source": [
        "Use the selectorgadget to select the prices on the page.\n",
        "\n",
        "-   Enter the string expression for selecting the sale price"
      ],
      "id": "1d09fdf6-9770-4a0c-9e41-9df94e994976"
    },
    {
      "cell_type": "code",
      "execution_count": null,
      "metadata": {},
      "outputs": [],
      "source": [
        "nodes <- html_nodes(webpage, CODE)\n",
        "price <- html_text(nodes)\n",
        "str(price)"
      ],
      "id": "c01db2bf-22a4-4b6c-9978-291a1b183f4e"
    },
    {
      "cell_type": "markdown",
      "metadata": {},
      "source": [
        "Lets take a look at the first few values:"
      ],
      "id": "5f470651-1afa-4f86-a6ba-e9c401141280"
    },
    {
      "cell_type": "code",
      "execution_count": null,
      "metadata": {},
      "outputs": [],
      "source": [
        "head(price)"
      ],
      "id": "c480ab92-73f9-41b0-bf3a-880f5ebf1185"
    },
    {
      "cell_type": "markdown",
      "metadata": {},
      "source": [
        "-   Enter the string expression for selecting the original price"
      ],
      "id": "0d02f6f6-df76-49b7-b98c-69a9f2c6a370"
    },
    {
      "cell_type": "code",
      "execution_count": null,
      "metadata": {},
      "outputs": [],
      "source": [
        "nodes <- html_nodes(webpage, CODE)\n",
        "orig <- html_text(nodes)\n",
        "str(orig)"
      ],
      "id": "932a2861-9ec6-4ad9-9627-2e0378885011"
    },
    {
      "cell_type": "markdown",
      "metadata": {},
      "source": [
        "Lets take a look at the first few values:"
      ],
      "id": "c34642b8-45cf-40a8-86e8-ff2cf135f642"
    },
    {
      "cell_type": "code",
      "execution_count": null,
      "metadata": {},
      "outputs": [],
      "source": [
        "head(orig)"
      ],
      "id": "e5392b36-00e1-48f0-97eb-ee65ab3f19b7"
    },
    {
      "cell_type": "markdown",
      "metadata": {},
      "source": [
        "-   Enter the string expression for selecting the item name (make sure\n",
        "    have 36 of these)"
      ],
      "id": "08f8beb3-49bd-4eb1-a5fd-be85f4752065"
    },
    {
      "cell_type": "code",
      "execution_count": null,
      "metadata": {},
      "outputs": [],
      "source": [
        "nodes <- html_nodes(webpage, CODE)\n",
        "item <- html_text(nodes)\n",
        "item<-trimws(item)\n",
        "str(item)"
      ],
      "id": "a24f597a-ba18-45fd-bb58-562363964ce3"
    },
    {
      "cell_type": "markdown",
      "metadata": {},
      "source": [
        "Lets take a look at the first few values:"
      ],
      "id": "092a1c4c-4282-4e80-bf15-4d99628104c6"
    },
    {
      "cell_type": "code",
      "execution_count": null,
      "metadata": {},
      "outputs": [],
      "source": [
        "df<-data.frame(item,price,orig)\n",
        "df"
      ],
      "id": "2af89173-df51-47c9-99d3-371f6700ade1"
    }
  ],
  "nbformat": 4,
  "nbformat_minor": 5,
  "metadata": {
    "kernelspec": {
      "name": "ir",
      "display_name": "R",
      "language": "R"
    }
  }
}