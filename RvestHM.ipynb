{
  "cells": [
    {
      "cell_type": "markdown",
      "metadata": {},
      "source": [
        "# Rvest HM"
      ],
      "id": "4df2ef06-9cda-4b6e-bb7a-56cc80e0c15f"
    },
    {
      "cell_type": "code",
      "execution_count": null,
      "metadata": {},
      "outputs": [],
      "source": [
        "if (!require(\"rvest\")) install.packages(\"rvest\")\n",
        "library(\"rvest\")"
      ],
      "id": "593106fd-abc5-472e-a18e-c9bd86d1c3e6"
    },
    {
      "cell_type": "markdown",
      "metadata": {},
      "source": [
        "We are going to read in a page at\n",
        "<https://www2.hm.com/en_us/sale/women/view-all.html> and get the prices\n",
        "and sale prices on it:"
      ],
      "id": "25c4dffd-c8f2-44be-b0a3-97229b080aca"
    },
    {
      "cell_type": "code",
      "execution_count": null,
      "metadata": {},
      "outputs": [],
      "source": [
        "url<-\"https://www2.hm.com/en_us/sale/women/view-all.html\"\n",
        "webpage <- read_html(url)"
      ],
      "id": "81fe0a94-98a9-406f-a410-ab3f055b227d"
    },
    {
      "cell_type": "markdown",
      "metadata": {},
      "source": [
        "Use the selectorgadget to select the prices on the page.\n",
        "\n",
        "-   Enter the string expression for selecting the sale price"
      ],
      "id": "ddfe5150-1791-498e-9ae6-72efb2c8d92c"
    },
    {
      "cell_type": "code",
      "execution_count": null,
      "metadata": {},
      "outputs": [],
      "source": [
        "nodes <- html_nodes(webpage, CODE)\n",
        "price <- html_text(nodes)\n",
        "str(price)"
      ],
      "id": "35d217fa-e714-44ae-bf0e-c7df76f71e9d"
    },
    {
      "cell_type": "markdown",
      "metadata": {},
      "source": [
        "Lets take a look at the first few values:"
      ],
      "id": "8dc080ae-aa05-405d-8947-ba4306e444bd"
    },
    {
      "cell_type": "code",
      "execution_count": null,
      "metadata": {},
      "outputs": [],
      "source": [
        "head(price)"
      ],
      "id": "20f03e08-16b6-4358-bc21-c4180e9083fb"
    },
    {
      "cell_type": "markdown",
      "metadata": {},
      "source": [
        "-   Enter the string expression for selecting the original price"
      ],
      "id": "cb21faca-74e9-476b-88c8-843f38008937"
    },
    {
      "cell_type": "code",
      "execution_count": null,
      "metadata": {},
      "outputs": [],
      "source": [
        "nodes <- html_nodes(webpage, CODE)\n",
        "orig <- html_text(nodes)\n",
        "str(orig)"
      ],
      "id": "57ac5151-d5b0-4e4b-b231-16718d86c8f0"
    },
    {
      "cell_type": "markdown",
      "metadata": {},
      "source": [
        "Lets take a look at the first few values:"
      ],
      "id": "6bdbf071-4940-4a46-a8bd-8e8e08f33a5c"
    },
    {
      "cell_type": "code",
      "execution_count": null,
      "metadata": {},
      "outputs": [],
      "source": [
        "head(orig)"
      ],
      "id": "9d13db39-8aa1-47a8-8307-79099a1c34b1"
    },
    {
      "cell_type": "markdown",
      "metadata": {},
      "source": [
        "-   Enter the string expression for selecting the item name (make sure\n",
        "    have 36 of these)"
      ],
      "id": "2f6cea54-9bf0-4f0a-977e-7dbc661e8c30"
    },
    {
      "cell_type": "code",
      "execution_count": null,
      "metadata": {},
      "outputs": [],
      "source": [
        "nodes <- html_nodes(webpage, CODE)\n",
        "item <- html_text(nodes)\n",
        "item<-trimws(item)\n",
        "str(item)"
      ],
      "id": "d18ad33a-ea94-4790-a94b-4aee41879b7a"
    },
    {
      "cell_type": "markdown",
      "metadata": {},
      "source": [
        "Lets take a look at the first few values:"
      ],
      "id": "2d5bf267-9dae-4402-ae73-ec6b590b71af"
    },
    {
      "cell_type": "code",
      "execution_count": null,
      "metadata": {},
      "outputs": [],
      "source": [
        "df<-data.frame(item,price,orig)\n",
        "df"
      ],
      "id": "6536242c-9b60-4a82-bc76-f446b2e42f27"
    }
  ],
  "nbformat": 4,
  "nbformat_minor": 5,
  "metadata": {
    "kernelspec": {
      "name": "ir",
      "display_name": "R",
      "language": "R"
    }
  }
}