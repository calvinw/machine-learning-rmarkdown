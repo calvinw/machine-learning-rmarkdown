{
 "cells": [
  {
   "cell_type": "markdown",
   "metadata": {},
   "source": [
    "R is a programming language and so has variables. Variables can hold\n",
    "data, and can be used in calculations and in program logic.\n",
    "Understanding how variables work is very important in any programming\n",
    "language.\n",
    "\n",
    "Lets start by storing a number in a variable. Below we store the number\n",
    "3 in a variable called `x`."
   ]
  },
  {
   "cell_type": "code",
   "execution_count": null,
   "metadata": {},
   "outputs": [],
   "source": [
    "x<-3"
   ]
  },
  {
   "cell_type": "markdown",
   "metadata": {},
   "source": [
    "This is typed as first a `<` symbol followed by the `-` symbol. So it\n",
    "takes two characters to type this.\n",
    "\n",
    "Storing a number in a variable like this is also called an assignment.\n",
    "We are assigning the variable x to be 3.\n",
    "\n",
    "Now the way variables work is that x now has the value 3. So for now\n",
    "anything we do with x, like other calculations or manipulations, it will\n",
    "have the value 3 as we do those calculations.\n",
    "\n",
    "For example, we can just print it out:"
   ]
  },
  {
   "cell_type": "code",
   "execution_count": null,
   "metadata": {},
   "outputs": [],
   "source": [
    "x"
   ]
  },
  {
   "cell_type": "markdown",
   "metadata": {},
   "source": [
    "We can do arithmetic to it:"
   ]
  },
  {
   "cell_type": "code",
   "execution_count": null,
   "metadata": {},
   "outputs": [],
   "source": [
    "2*x"
   ]
  },
  {
   "cell_type": "markdown",
   "metadata": {},
   "source": [
    "Notice this is 6 since x currently is 3. So $2x=2(3)=6$\n",
    "\n",
    "We can do a calculation using x and store the result in another\n",
    "variable:"
   ]
  },
  {
   "cell_type": "code",
   "execution_count": null,
   "metadata": {},
   "outputs": [],
   "source": [
    "y<-5*x"
   ]
  },
  {
   "cell_type": "markdown",
   "metadata": {},
   "source": [
    "Now y will have a value after we do this. What is the current value of\n",
    "y? Since the current value of x is 3, the value of y should be\n",
    "$5(3)=15$. Lets print it out to see if that is true:"
   ]
  },
  {
   "cell_type": "code",
   "execution_count": null,
   "metadata": {},
   "outputs": [],
   "source": [
    "y"
   ]
  },
  {
   "cell_type": "markdown",
   "metadata": {},
   "source": [
    "Variables can be changed as a program proceeds. They do not always have\n",
    "to hold the value they were initially assigned. (They are called\n",
    "variables after all)\n",
    "\n",
    "For example we can change the value of x as follows with another\n",
    "assignment:"
   ]
  },
  {
   "cell_type": "code",
   "execution_count": null,
   "metadata": {},
   "outputs": [],
   "source": [
    "x<-2"
   ]
  },
  {
   "cell_type": "markdown",
   "metadata": {},
   "source": [
    "One thing you might wonder is that if you change the value of x at some\n",
    "point, does that affect the value of y we defined earlier using x? Let’s\n",
    "check:"
   ]
  },
  {
   "cell_type": "code",
   "execution_count": null,
   "metadata": {},
   "outputs": [],
   "source": [
    "y"
   ]
  },
  {
   "cell_type": "markdown",
   "metadata": {},
   "source": [
    "No. It doesn’t. This y still has the same value it had before which is\n",
    "$5(3) = 15$ since at the time we assigned y the x was equal to 3. If we\n",
    "want y to update, we would have to assign it again to give it a new\n",
    "value:"
   ]
  },
  {
   "cell_type": "code",
   "execution_count": null,
   "metadata": {},
   "outputs": [],
   "source": [
    "y<-5*x"
   ]
  },
  {
   "cell_type": "markdown",
   "metadata": {},
   "source": [
    "Now we can see that its value is updated."
   ]
  },
  {
   "cell_type": "code",
   "execution_count": null,
   "metadata": {},
   "outputs": [],
   "source": [
    "y"
   ]
  },
  {
   "cell_type": "markdown",
   "metadata": {},
   "source": [
    "It has the value $5(2) = 10$ now since currently the x is assigned to be\n",
    "2.\n",
    "\n",
    "This shows how variables work. As programs are being run, each variable\n",
    "has a current value, which you can check by just typing the name of the\n",
    "variable and executing that line of code.\n",
    "\n",
    "Below we set a couple variables and then print them out:"
   ]
  },
  {
   "cell_type": "code",
   "execution_count": null,
   "metadata": {},
   "outputs": [],
   "source": [
    "z<-2.3\n",
    "w<-5\n",
    "z\n",
    "w"
   ]
  },
  {
   "cell_type": "markdown",
   "metadata": {},
   "source": [
    "Now we change z and print it out:"
   ]
  },
  {
   "cell_type": "code",
   "execution_count": null,
   "metadata": {},
   "outputs": [],
   "source": [
    "z<-2*w + 4\n",
    "z"
   ]
  },
  {
   "cell_type": "markdown",
   "metadata": {},
   "source": [
    "Since w was 5 above, the new value of z is $2(5) + 4 = 14$\n",
    "\n",
    "Usually for variable assignments, the left hand side is just the\n",
    "variable we are setting while the right hand side can be any\n",
    "mathematical expression. We can use about anything on the right hand\n",
    "side during an assignment. Functions, $\\pi$, other variables…"
   ]
  },
  {
   "cell_type": "code",
   "execution_count": null,
   "metadata": {},
   "outputs": [],
   "source": [
    "z<-sqrt(2*w + 4)\n",
    "z"
   ]
  },
  {
   "cell_type": "markdown",
   "metadata": {},
   "source": [
    "Above we are taking the square root of 14, or in symbols $\\sqrt{14}$.\n",
    "\n",
    "Other programming languages use `=` to do variable assignments but R\n",
    "usually uses the “arrow” which is typed as two symbols.\n",
    "\n",
    "First the `<` symbol followed by the `-` symbol. You should say it\n",
    "outloud as “is assigned to be”, so for this:"
   ]
  },
  {
   "cell_type": "code",
   "execution_count": null,
   "metadata": {},
   "outputs": [],
   "source": [
    "x<-8"
   ]
  },
  {
   "cell_type": "markdown",
   "metadata": {},
   "source": [
    "you would say “x is assigned to be 8”."
   ]
  }
 ],
 "nbformat": 4,
 "nbformat_minor": 5,
 "metadata": {
  "kernelspec": {
   "name": "ir",
   "display_name": "R",
   "language": "R"
  }
 }
}

