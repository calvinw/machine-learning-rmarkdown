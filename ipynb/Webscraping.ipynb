{
 "cells": [
  {
   "cell_type": "markdown",
   "metadata": {},
   "source": [
    "Here we will show how to do webscraping with rvest and the chrome\n",
    "extension selector gadget. This technique is borrowed from the great\n",
    "explanation at: [Online Bargin Hunting in R with\n",
    "rvest](https://jef.works/blog/2019/01/12/online-bargain-hunting-in-R-with-rvest/)\n",
    "and is basically a simplified version of that description\n",
    "\n",
    "First make sure that you install and load the rvest package:"
   ]
  },
  {
   "cell_type": "code",
   "execution_count": null,
   "metadata": {},
   "outputs": [],
   "source": [
    "if (!require(\"rvest\")) install.packages(\"rvest\")\n",
    "library(\"rvest\")"
   ]
  },
  {
   "cell_type": "markdown",
   "metadata": {},
   "source": [
    "Then once we do this we pick a site we want to get data from. We want to\n",
    "pull some data from\n",
    "<a href=\"http://poshmark.com\" class=\"uri\">http://poshmark.com</a> and\n",
    "compare original prices with the current price, maybe to find excellent\n",
    "bargins. We use the `read_html` method from the rvest package. We will\n",
    "look in the category Jackets and Coats-Blazers, and we will just use the\n",
    "data we find on the first page:"
   ]
  },
  {
   "cell_type": "code",
   "execution_count": null,
   "metadata": {},
   "outputs": [],
   "source": [
    "url <- 'https://poshmark.com/category/Women-Jackets_&_Coats-Blazers'\n",
    "webpage <- read_html(url)"
   ]
  },
  {
   "cell_type": "markdown",
   "metadata": {},
   "source": [
    "Now we use the Selector Gadget to find the part of the website we want\n",
    "to get. [Selector\n",
    "Gadget](https://chrome.google.com/webstore/detail/selectorgadget/mhjhnkcfbdhnjickkkdbjoemdmbfginb?hl=en)\n",
    "is a chrome extension(go ahead and install it) that allows you to grab a\n",
    "css selector for a part of a website that you want to collect in your\n",
    "data. The link above has some screenshots of this in action and there\n",
    "are good [videos](https://www.youtube.com/watch?v=oqNTfWrGdbk) on\n",
    "YouTube showing how to use it as well.\n",
    "\n",
    "First we get the titles using `html_nodes` and the selector\n",
    "`#tiles-con .title` which we got from using SelectorGadget:"
   ]
  },
  {
   "cell_type": "code",
   "execution_count": null,
   "metadata": {},
   "outputs": [],
   "source": [
    "titleNodes <- html_nodes(webpage,'#tiles-con .title')\n",
    "length(titleNodes) # double check 48 products"
   ]
  },
  {
   "cell_type": "markdown",
   "metadata": {},
   "source": [
    "It looks like it is the right length at least. So probably we got the\n",
    "data we wanted. Next we don’t need the html structure of what we pulled\n",
    "but we just want the text inside the tags so we use `html_text` to get\n",
    "that."
   ]
  },
  {
   "cell_type": "code",
   "execution_count": null,
   "metadata": {},
   "outputs": [],
   "source": [
    "titles <- html_text(titleNodes)"
   ]
  },
  {
   "cell_type": "markdown",
   "metadata": {},
   "source": [
    "We have to clean up the titles array, since it sometimes has weird\n",
    "unicode in it. (Like Money Bags unicode). We want to have pure text:"
   ]
  },
  {
   "cell_type": "code",
   "execution_count": null,
   "metadata": {},
   "outputs": [],
   "source": [
    "titles <- iconv(titles, to=\"ASCII\", sub=\"\")\n",
    "titles"
   ]
  },
  {
   "cell_type": "markdown",
   "metadata": {},
   "source": [
    "Next we look for the prices…"
   ]
  },
  {
   "cell_type": "code",
   "execution_count": null,
   "metadata": {},
   "outputs": [],
   "source": [
    "priceNodes <- html_nodes(webpage,'.price')\n",
    "prices <- html_text(priceNodes)\n",
    "length(prices) # double check 48 products\n",
    "head(prices)"
   ]
  },
  {
   "cell_type": "markdown",
   "metadata": {},
   "source": [
    "I wasn’t able to find a way to pull each price separately the way they\n",
    "were written in the html, so we are going to have to split each of the\n",
    "price strings into 2 strings. Its difficult to tell but the strings\n",
    "above with the two prices are actually the prices and a “non breaking\n",
    "space” between them. That is the way they were coded in the html. A\n",
    "nonbreaking space looks like this `&nbsp;` and you will see it in the\n",
    "html if you look carefully. It turns out that the unicode for this\n",
    "non-breaking space is `\\u00A0` so the code that splits the string based\n",
    "on that separator is this:"
   ]
  },
  {
   "cell_type": "code",
   "execution_count": null,
   "metadata": {},
   "outputs": [],
   "source": [
    "prices <- strsplit(prices, split='\\u00A0')\n",
    "head(prices)\n",
    "str(prices[[1]])"
   ]
  },
  {
   "cell_type": "markdown",
   "metadata": {},
   "source": [
    "That looks great. Lets put each of these prices into its own vector so\n",
    "we can make a dataframe.\n",
    "\n",
    "This next function takes the list of prices, and uses the function given\n",
    "on it. The first function `function(l) l[1]` just takes an list as\n",
    "argument, and then gets the first item on the list and returns it. It\n",
    "does this for each list item passed to it. So the result is a vector of\n",
    "all the “first” entries from each entry in the list.\n",
    "\n",
    "Likewise `function(l) l[2]` just gets the second entry from each of\n",
    "lists passed to it. So this will extract the second price in each of the\n",
    "list items in prices:"
   ]
  },
  {
   "cell_type": "code",
   "execution_count": null,
   "metadata": {},
   "outputs": [],
   "source": [
    "current <- sapply(prices, function(l) l[1])\n",
    "original <- sapply(prices, function(l) l[2])"
   ]
  },
  {
   "cell_type": "markdown",
   "metadata": {},
   "source": [
    "Let’s take a look and make sure we have the right things:"
   ]
  },
  {
   "cell_type": "code",
   "execution_count": null,
   "metadata": {},
   "outputs": [],
   "source": [
    "head(current)\n",
    "head(original)"
   ]
  },
  {
   "cell_type": "markdown",
   "metadata": {},
   "source": [
    "Looks great now…\n",
    "\n",
    "Finally lets make a dataframe of our fields."
   ]
  },
  {
   "cell_type": "code",
   "execution_count": null,
   "metadata": {},
   "outputs": [],
   "source": [
    "df <-data.frame(\"name\" = titles, \"original\" =  original, \"current\"= current)\n",
    "df"
   ]
  }
 ],
 "nbformat": 4,
 "nbformat_minor": 5,
 "metadata": {
  "kernelspec": {
   "name": "ir",
   "display_name": "R",
   "language": "R"
  }
 }
}

