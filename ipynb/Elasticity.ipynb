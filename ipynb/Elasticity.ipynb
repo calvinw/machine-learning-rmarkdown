{
 "cells": [
  {
   "cell_type": "markdown",
   "metadata": {},
   "source": [
    "This notebook is an expanded version of the analysis done here: [Price\n",
    "Elasticity with\n",
    "R](http://www.salemmarafi.com/code/price-elasticity-with-r)\n",
    "\n",
    "Also you can see this page as well for a similar version: [Pricing\n",
    "Analysis\n",
    "Example](https://rstudio-pubs-static.s3.amazonaws.com/185880_f9e3e3ee84314609b531524dfa3f4f1b.html)\n",
    "\n",
    "First make sure RCurl is installed (if needed) and loaded"
   ]
  },
  {
   "cell_type": "code",
   "execution_count": null,
   "metadata": {},
   "outputs": [],
   "source": [
    "if (!require(\"RCurl\")) install.packages(\"RCurl\")\n",
    "library(\"RCurl\")"
   ]
  },
  {
   "cell_type": "markdown",
   "metadata": {},
   "source": [
    "We use the getURL function from the RCurl package to load the data from\n",
    "the website. It is returned to us as a text string."
   ]
  },
  {
   "cell_type": "code",
   "execution_count": null,
   "metadata": {},
   "outputs": [],
   "source": [
    "url<- \"http://www.salemmarafi.com/wp-content/uploads/2014/06/supermarket.csv\"\n",
    "textString<-getURL(url)\n",
    "df<-read.csv(text=textString)"
   ]
  },
  {
   "cell_type": "markdown",
   "metadata": {},
   "source": [
    "Here is the structure of the data set."
   ]
  },
  {
   "cell_type": "code",
   "execution_count": null,
   "metadata": {},
   "outputs": [],
   "source": [
    "str(df)"
   ]
  },
  {
   "cell_type": "markdown",
   "metadata": {},
   "source": [
    "First we have 30 observations for demand and price for eggs. Then we\n",
    "have 30 observations of the ad type that was run, where 0 means featured\n",
    "the cookies poster and 1 means featured the eggs poster. Finally we have\n",
    "data on the price of cookies.\n",
    "\n",
    "Here is the data:"
   ]
  },
  {
   "cell_type": "code",
   "execution_count": null,
   "metadata": {},
   "outputs": [],
   "source": [
    "df"
   ]
  },
  {
   "cell_type": "markdown",
   "metadata": {},
   "source": [
    "Let’s start with a summary of the data:"
   ]
  },
  {
   "cell_type": "code",
   "execution_count": null,
   "metadata": {},
   "outputs": [],
   "source": [
    "summary(df)"
   ]
  },
  {
   "cell_type": "markdown",
   "metadata": {},
   "source": [
    "The mean demand is 30 and the mean price is about \\$4.4263333\n",
    "\n",
    "Lets look at the distribution of demand."
   ]
  },
  {
   "cell_type": "code",
   "execution_count": null,
   "metadata": {},
   "outputs": [],
   "source": [
    "par(mfrow=c(1,2))\n",
    "boxplot(df$Sales,main=\"Boxplot for Egg Sales\", xlab=\"Egg Sales\")\n",
    "hist(df$Sales,main='Histogram for Egg Sales',xlab='Egg Sales',prob=T)"
   ]
  },
  {
   "cell_type": "markdown",
   "metadata": {},
   "source": [
    "There are no outliers or other unusual data to speak of here.\n",
    "\n",
    "Lets look at the correlations between the variables."
   ]
  },
  {
   "cell_type": "code",
   "execution_count": null,
   "metadata": {},
   "outputs": [],
   "source": [
    "cor(df)\n",
    "pairs(df, pch=20)"
   ]
  },
  {
   "cell_type": "markdown",
   "metadata": {},
   "source": [
    "It looks like there is a strong correlation between sales and own price.\n",
    "We expected that of course.\n",
    "\n",
    "There is a weaker correlation between egg sales and price of cookies.\n",
    "\n",
    "Let’s model using all the predictors:"
   ]
  },
  {
   "cell_type": "code",
   "execution_count": null,
   "metadata": {},
   "outputs": [],
   "source": [
    "model <- lm(Sales~Price.Eggs+Ad.Type+Price.Cookies, df)\n",
    "summary(model)\n",
    "b<-round(unname(coefficients(model)),2)\n",
    "b"
   ]
  },
  {
   "cell_type": "markdown",
   "metadata": {},
   "source": [
    "This shows the coefficients for the various predictors.\n",
    "\n",
    "Price of eggs, the ad type and price of cookies are all significant with\n",
    "p-value less than .05.\n",
    "\n",
    "The multiple regression equation is:\n",
    "\n",
    "$$\n",
    "    Q = 137.37  \n",
    "        -16.12(P_{eggs}) + \n",
    "    4.15(AdType)  \n",
    "    -8.71(P_{cookies}) \n",
    "$$\n",
    "\n",
    "Next we show the calculation of the price elasticity: For price\n",
    "elasticity we compute the percent change in quantity divided by the\n",
    "percent change in price.\n",
    "\n",
    "$$\n",
    "\\text{Price Elasticity} = \\frac{\\frac{\\Delta Q}{Q}}{\\frac{\\Delta P_{eggs}}{P_{eggs}}}\n",
    "            =(\\frac{\\Delta Q}{\\Delta P_{eggs}})(\\frac{P_{eggs}}{Q})\n",
    "$$\n",
    "\n",
    "For the first part $\\frac{\\Delta Q}{\\Delta P_{eggs}}$, this is just the\n",
    "multiple regression coefficient describing the rate of change of $Q$ as\n",
    "$P_{eggs}$ changes. That is actually just the coefficient from the\n",
    "multiple regression equation! So that is just $b[2] = -16.12$. For\n",
    "$\\frac{P_{eggs}}{Q}$, we will use the mean of the price of eggs and the\n",
    "mean of sales which we saw in the summary of the data above for that.\n",
    "\n",
    "Let’s compute the values:"
   ]
  },
  {
   "cell_type": "code",
   "execution_count": null,
   "metadata": {},
   "outputs": [],
   "source": [
    "priceEggs <- mean(df$Price.Eggs)\n",
    "priceEggs\n",
    "quantity <- mean(df$Sales)\n",
    "quantity\n",
    "priceElasticity <- b[2]* (priceEggs/quantity)\n",
    "priceElasticity"
   ]
  },
  {
   "cell_type": "markdown",
   "metadata": {},
   "source": [
    "The equation looks like this:\n",
    "\n",
    "$$\n",
    "\\text{PriceElasticity} =\n",
    "    \\frac{ \\frac{\\Delta Q}{Q} }{ \\frac{\\Delta P_{eggs}}{P_{eggs}} } =\n",
    "    \\frac{\\Delta Q}{\\Delta P_{eggs}} \\frac{P_{eggs}}{Q} =\n",
    "    (-16.12)(\\frac{4.43}{30}) =\n",
    "    -2.38\n",
    "$$\n",
    "\n",
    "This suggests that a 1% decrease in price of eggs will increase egg\n",
    "sales by 2.4%.\n",
    "\n",
    "Next is the calculation of the Cross Price Elasticity: For cross-price\n",
    "elasticity of eggs with cookies we compute the percent change in\n",
    "quantity of eggs divided by the percent change in the price of cookies:"
   ]
  },
  {
   "cell_type": "code",
   "execution_count": null,
   "metadata": {},
   "outputs": [],
   "source": [
    "PriceCookies <- mean(df$Price.Cookies)\n",
    "Quantity <- mean(df$Sales)\n",
    "CrossPriceElasticity <- b[4]*PriceCookies/Quantity\n",
    "CrossPriceElasticity"
   ]
  },
  {
   "cell_type": "markdown",
   "metadata": {},
   "source": [
    "The equation looks like this:\n",
    "\n",
    "$$\n",
    "\\text{CrossPriceElasticity} =\n",
    "    \\frac{ \\frac{\\Delta Q}{Q} }{ \\frac{\\Delta P_{cookies}}{P_{cookies}} } =\n",
    "    \\frac{\\Delta Q}{\\Delta P_{cookies}} \\frac{P_{cookies}}{Q} =\n",
    "    (-8.71)(\\frac{4.37}{30}) =\n",
    "    -1.27\n",
    "$$\n",
    "\n",
    "This suggests that 1% decrease in cookies price will increase the egg\n",
    "sales by 1.3%, and that cookies and eggs are compliments.\n",
    "\n",
    "For setting the optimal price we need some values for $P_{cookies}$ and\n",
    "$AdType$. Suppose the current cookies price is $P_{cookies}=4.37$ and\n",
    "the $AdType = 0$ for featuring the cookies. We plug these into the\n",
    "multiple regression equation:\n",
    "\n",
    "$$\n",
    "    Q = 137.37  \n",
    "        -16.12(P_{eggs}) + \n",
    "    4.15(0)  \n",
    "    -8.71(4.37) \n",
    "$$\n",
    "\n",
    "So the slope and intercept for the simplified demand equation we will\n",
    "use is this:"
   ]
  },
  {
   "cell_type": "code",
   "execution_count": null,
   "metadata": {},
   "outputs": [],
   "source": [
    "slope<- b[2]\n",
    "slope\n",
    "intercept <- b[1] + b[4]*PriceCookies\n",
    "intercept"
   ]
  },
  {
   "cell_type": "markdown",
   "metadata": {},
   "source": [
    "So our new equation is just this:\n",
    "\n",
    "$$   \n",
    "Q  = 99.28  -16.12(P_{eggs})\n",
    "$$\n",
    "\n",
    "Suppose the unit cost of eggs is \\$1.50. Then here is the profit\n",
    "function:"
   ]
  },
  {
   "cell_type": "code",
   "execution_count": null,
   "metadata": {},
   "outputs": [],
   "source": [
    "profit <- function(p) {\n",
    "    (p-1.50)*(intercept+slope*p)\n",
    "}\n",
    "curve(profit, from=0, to =8, main=\"Profit Function\", xlab=\"Price\", ylab=\"Profit\")"
   ]
  },
  {
   "cell_type": "markdown",
   "metadata": {},
   "source": [
    "Finally we optimize the profit function:"
   ]
  },
  {
   "cell_type": "code",
   "execution_count": null,
   "metadata": {},
   "outputs": [],
   "source": [
    "optimize(profit, lower=0, upper=8, maximum=TRUE)"
   ]
  },
  {
   "cell_type": "markdown",
   "metadata": {},
   "source": [
    "The maximum profit occurs when the price is \\$3.83 and the Profit is\n",
    "\\$87.53.\n",
    "\n",
    "So we would advise to set the price of eggs to \\$3.83.\n",
    "\n",
    "That is where the maximum profit should occur!!"
   ]
  }
 ],
 "nbformat": 4,
 "nbformat_minor": 5,
 "metadata": {
  "kernelspec": {
   "name": "ir",
   "display_name": "R",
   "language": "R"
  }
 }
}

