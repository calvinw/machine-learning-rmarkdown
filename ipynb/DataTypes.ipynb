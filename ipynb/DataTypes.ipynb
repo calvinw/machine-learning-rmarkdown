{
 "cells": [
  {
   "cell_type": "markdown",
   "metadata": {},
   "source": [
    "You can find out what data type a variable holds by using the `class`\n",
    "function.\n",
    "\n",
    "For the following the data type is ‘numeric’. Examples are 3.2, -2.34,\n",
    "0.0"
   ]
  },
  {
   "cell_type": "code",
   "execution_count": null,
   "metadata": {},
   "outputs": [],
   "source": [
    "x<-3.2\n",
    "class(x)"
   ]
  },
  {
   "cell_type": "markdown",
   "metadata": {},
   "source": [
    "`class` is one function that gives info on the data type of an object.\n",
    "Another interesting function is called `str`.\n",
    "\n",
    "This function is called the “structure” function and and also gives\n",
    "information about the object you pass to it.  \n",
    "Lets see what it gives here:"
   ]
  },
  {
   "cell_type": "code",
   "execution_count": null,
   "metadata": {},
   "outputs": [],
   "source": [
    "str(x)"
   ]
  },
  {
   "cell_type": "markdown",
   "metadata": {},
   "source": [
    "This says that `x` is a numeric type and has value 3.2.\n",
    "\n",
    "The data type of a text or string is ‘character’.\n",
    "\n",
    "Examples are “Bob”, “We are the champions”, “Fee Fi Fo”"
   ]
  },
  {
   "cell_type": "code",
   "execution_count": null,
   "metadata": {},
   "outputs": [],
   "source": [
    "y<-\"hello there\"\n",
    "class(y)\n",
    "z<-\"XXXYYYZZZ\"\n",
    "class(z)"
   ]
  },
  {
   "cell_type": "markdown",
   "metadata": {},
   "source": [
    "The data type of something that holds ‘TRUE’ or ‘FALSE’ is ‘logical’.  \n",
    "This is Rs name for Booleans, things that can just be TRUE or FALSE."
   ]
  },
  {
   "cell_type": "code",
   "execution_count": null,
   "metadata": {},
   "outputs": [],
   "source": [
    "z<-TRUE\n",
    "r<-FALSE\n",
    "class(z)\n",
    "class(r)"
   ]
  },
  {
   "cell_type": "markdown",
   "metadata": {},
   "source": [
    "There is also a type for integers (…, -3,-2,-1,0,1,2,3,…), it is not\n",
    "used as frequently as “numeric”.\n",
    "\n",
    "To create a integer type, you have to use an L after the integer:"
   ]
  },
  {
   "cell_type": "code",
   "execution_count": null,
   "metadata": {},
   "outputs": [],
   "source": [
    "a<-3L\n",
    "class(a)"
   ]
  },
  {
   "cell_type": "markdown",
   "metadata": {},
   "source": [
    "If you do not use an L, then R will make it a ‘numeric’ type:"
   ]
  },
  {
   "cell_type": "code",
   "execution_count": null,
   "metadata": {},
   "outputs": [],
   "source": [
    "b<-3\n",
    "class(3)"
   ]
  },
  {
   "cell_type": "markdown",
   "metadata": {},
   "source": [
    "It turns out that an integer is also a numeric type"
   ]
  },
  {
   "cell_type": "code",
   "execution_count": null,
   "metadata": {},
   "outputs": [],
   "source": [
    "b<-3L\n",
    "is.integer(b)\n",
    "is.numeric(b)"
   ]
  },
  {
   "cell_type": "markdown",
   "metadata": {},
   "source": [
    "But not ‘numeric’ variables are not necessarily ‘integer’ types. 3.4 is\n",
    "not an integer, is `is.integer` returns `FALSE`"
   ]
  },
  {
   "cell_type": "code",
   "execution_count": null,
   "metadata": {},
   "outputs": [],
   "source": [
    "c<-3.4\n",
    "is.numeric(c)\n",
    "is.integer(c)"
   ]
  },
  {
   "cell_type": "markdown",
   "metadata": {},
   "source": [
    "You can change a variables type if you need to using these functions:\n",
    "\n",
    "1.  `as.numeric` to make it a numeric\n",
    "2.  `as.integer` to make it an integer\n",
    "3.  `as.character` to make it a string\n",
    "4.  `as.logical` to make it a boolean\n",
    "\n",
    "Below we make the variable `a`, which starts as an ‘integer’ into a\n",
    "‘numeric’. We just re-assign it to do so."
   ]
  },
  {
   "cell_type": "code",
   "execution_count": null,
   "metadata": {},
   "outputs": [],
   "source": [
    "a<-3L\n",
    "is.integer(a)\n",
    "a<-as.numeric(a)\n",
    "is.numeric(a)\n",
    "is.integer(a)"
   ]
  },
  {
   "cell_type": "markdown",
   "metadata": {},
   "source": [
    "One reason for having types is so that R can check if you are doing\n",
    "things that make sense.  \n",
    "For example adding two numeric types makes sense"
   ]
  },
  {
   "cell_type": "code",
   "execution_count": null,
   "metadata": {},
   "outputs": [],
   "source": [
    "d<-3.4\n",
    "e<-4.23\n",
    "d+e"
   ]
  },
  {
   "cell_type": "markdown",
   "metadata": {},
   "source": [
    "But adding two strings (with type ‘character’) does not:"
   ]
  },
  {
   "cell_type": "code",
   "execution_count": null,
   "metadata": {},
   "outputs": [],
   "source": [
    "f<-\"Goodbye\"\n",
    "g<-\"Cruel World\"\n",
    "f+g"
   ]
  },
  {
   "cell_type": "markdown",
   "metadata": {},
   "source": [
    "    ## Error in f + g: non-numeric argument to binary operator\n",
    "\n",
    "The error is telling us we cannot use `+` on two strings\n",
    "\n",
    "Lets try adding an ‘integer’ and a ‘numeric’"
   ]
  },
  {
   "cell_type": "code",
   "execution_count": null,
   "metadata": {},
   "outputs": [],
   "source": [
    "h<-3L\n",
    "i<-2.3\n",
    "h+i"
   ]
  },
  {
   "cell_type": "markdown",
   "metadata": {},
   "source": [
    "That seems to work fine.\n",
    "\n",
    "Finally what happens if we add a ‘numeric’ and a ‘character’ type:"
   ]
  },
  {
   "cell_type": "code",
   "execution_count": null,
   "metadata": {},
   "outputs": [],
   "source": [
    "k<-3.2\n",
    "l<-\"hello\"\n",
    "k+l"
   ]
  },
  {
   "cell_type": "markdown",
   "metadata": {},
   "source": [
    "    ## Error in k + l: non-numeric argument to binary operator"
   ]
  }
 ],
 "nbformat": 4,
 "nbformat_minor": 5,
 "metadata": {
  "kernelspec": {
   "name": "ir",
   "display_name": "R",
   "language": "R"
  }
 }
}

