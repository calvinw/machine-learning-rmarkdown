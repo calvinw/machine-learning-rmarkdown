{
  "cells": [
    {
      "cell_type": "markdown",
      "metadata": {},
      "source": [
        "# Confusion Matrix"
      ],
      "id": "4371ddfe-3002-442a-8e1c-4897b02f22cf"
    },
    {
      "cell_type": "code",
      "execution_count": null,
      "metadata": {},
      "outputs": [],
      "source": [
        "if (!require(\"Metrics\")) install.packages(\"Metrics\")\n",
        "library(\"Metrics\")"
      ],
      "id": "a0c19282-8509-44ba-9f88-92516d33a987"
    },
    {
      "cell_type": "markdown",
      "metadata": {},
      "source": [
        "Suppose we had a machine learning model, which was predicting a category\n",
        "like `yes` or `no` based on some predictors. For example the data might\n",
        "be this:"
      ],
      "id": "4b1e5d92-8c30-41a3-9ab3-887e02f8ce75"
    },
    {
      "cell_type": "code",
      "execution_count": null,
      "metadata": {},
      "outputs": [
        {
          "output_type": "stream",
          "name": "stdout",
          "text": [
            "   predicted actuals\n",
            "1       TRUE    TRUE\n",
            "2       TRUE    TRUE\n",
            "3       TRUE    TRUE\n",
            "4      FALSE   FALSE\n",
            "5       TRUE   FALSE\n",
            "6       TRUE   FALSE\n",
            "7      FALSE    TRUE\n",
            "8       TRUE   FALSE\n",
            "9       TRUE    TRUE\n",
            "10     FALSE   FALSE\n",
            "11      TRUE   FALSE\n",
            "12     FALSE   FALSE"
          ]
        }
      ],
      "source": [
        "actuals   <- factor(c(T,T,T,F,F,F,T,F,T,F,F,F), levels=c(T,F))\n",
        "predicted <- factor(c(T,T,T,F,T,T,F,T,T,F,T,F), levels=c(T,F))\n",
        "df<- data.frame(predicted, actuals)\n",
        "df"
      ],
      "id": "fe751d60-6f6c-4d6e-8e83-4d1b8d8df819"
    },
    {
      "cell_type": "markdown",
      "metadata": {},
      "source": [
        "So to summarize:\n",
        "\n",
        "-   PUT ANSWER HERE were predicted positive and they were actually\n",
        "    positive\n",
        "-   PUT ANSWER HERE were predicted negative and they were actually\n",
        "    negative\n",
        "-   PUT ANSWER HERE were predicted positive and they were actually\n",
        "    negative\n",
        "-   PUT ANSWER HERE were predicted negative and they were actually\n",
        "    positive\n",
        "\n",
        "We can represent that in a table called a “confusion matrix” as follows:\n",
        "\n",
        "|                        | Actual Positive | Actual Negative |\n",
        "|------------------------|-----------------|-----------------|\n",
        "| **Predicted Positive** | PUT ANS HERE    | PUT ANS HERE    |\n",
        "| **Predicted Negative** | PUT ANS HERE    | PUT ANS HERE    |\n",
        "\n",
        "We can find the accuracy from this table as follows:"
      ],
      "id": "0040f1e4-7d4e-4a58-8e55-5557b8084167"
    },
    {
      "cell_type": "code",
      "execution_count": null,
      "metadata": {},
      "outputs": [
        {
          "output_type": "stream",
          "name": "stdout",
          "text": [
            "[1] 0.5833333"
          ]
        }
      ],
      "source": [
        "accuracy(predicted, actuals)"
      ],
      "id": "ff7dccb0-6c12-4ed1-8f2b-af74544329f3"
    },
    {
      "cell_type": "markdown",
      "metadata": {},
      "source": [
        "We can print out the confusion matrix like this:"
      ],
      "id": "d6954304-2431-4e84-bb15-d779a38b841d"
    },
    {
      "cell_type": "code",
      "execution_count": null,
      "metadata": {},
      "outputs": [
        {
          "output_type": "stream",
          "name": "stdout",
          "text": [
            "         actuals\n",
            "predicted TRUE FALSE\n",
            "    TRUE     4     4\n",
            "    FALSE    1     3"
          ]
        }
      ],
      "source": [
        "table(df)"
      ],
      "id": "3c7a7b7a-1768-477b-ad81-14e3b2a55b51"
    }
  ],
  "nbformat": 4,
  "nbformat_minor": 5,
  "metadata": {
    "kernelspec": {
      "name": "ir",
      "display_name": "R",
      "language": "R"
    }
  }
}