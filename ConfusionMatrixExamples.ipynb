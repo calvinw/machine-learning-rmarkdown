{
 "cells": [
  {
   "cell_type": "code",
   "execution_count": null,
   "metadata": {},
   "outputs": [],
   "source": [
    "if (!require(\"Metrics\")) install.packages(\"Metrics\")\n",
    "library(\"Metrics\")"
   ]
  },
  {
   "cell_type": "markdown",
   "metadata": {},
   "source": [
    "Suppose we had a machine learning model, which was predicting a category\n",
    "like `yes` or `no` based on some predictors. For example the data might\n",
    "be this:"
   ]
  },
  {
   "cell_type": "code",
   "execution_count": null,
   "metadata": {},
   "outputs": [],
   "source": [
    "actuals   <- factor(c(T,T,T,F,F,F,T,F,T,F,F,F), levels=c(T,F))\n",
    "predicted <- factor(c(T,T,T,F,T,T,F,T,T,F,T,F), levels=c(T,F))\n",
    "df<- data.frame(predicted, actuals)\n",
    "df"
   ]
  },
  {
   "cell_type": "markdown",
   "metadata": {},
   "source": [
    "So to summarize:\n",
    "\n",
    "-   PUT ANSWER HERE were predicted positive and they were actually\n",
    "    positive\n",
    "-   PUT ANSWER HERE were predicted negative and they were actually\n",
    "    negative\n",
    "-   PUT ANSWER HERE were predicted positive and they were actually\n",
    "    negative\n",
    "-   PUT ANSWER HERE were predicted negative and they were actually\n",
    "    positive\n",
    "\n",
    "We can represent that in a table called a “confusion matrix” as follows:\n",
    "\n",
    "|                        | Actual Positive | Actual Negative |\n",
    "|------------------------|:----------------|:----------------|\n",
    "| **Predicted Positive** | PUT ANS HERE    | PUT ANS HERE    |\n",
    "| **Predicted Negative** | PUT ANS HERE    | PUT ANS HERE    |\n",
    "\n",
    "We can find the accuracy from this table as follows:"
   ]
  },
  {
   "cell_type": "code",
   "execution_count": null,
   "metadata": {},
   "outputs": [],
   "source": [
    "accuracy(predicted, actuals)"
   ]
  },
  {
   "cell_type": "markdown",
   "metadata": {},
   "source": [
    "We can print out the confusion matrix like this:"
   ]
  },
  {
   "cell_type": "code",
   "execution_count": null,
   "metadata": {},
   "outputs": [],
   "source": [
    "table(df)"
   ]
  }
 ],
 "nbformat": 4,
 "nbformat_minor": 5,
 "metadata": {
  "kernelspec": {
   "name": "ir",
   "display_name": "R",
   "language": "R"
  }
 }
}

