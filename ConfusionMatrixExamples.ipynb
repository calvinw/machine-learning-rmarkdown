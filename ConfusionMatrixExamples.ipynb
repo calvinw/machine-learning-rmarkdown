{
  "cells": [
    {
      "cell_type": "markdown",
      "metadata": {},
      "source": [
        "# Confusion Matrix"
      ],
      "id": "91fb8455-4fa3-4545-82de-804adb41d58a"
    },
    {
      "cell_type": "code",
      "execution_count": null,
      "metadata": {},
      "outputs": [],
      "source": [
        "if (!require(\"Metrics\")) install.packages(\"Metrics\")\n",
        "library(\"Metrics\")"
      ],
      "id": "ac96c90d-e1cd-46c0-8687-c55c57ba55ae"
    },
    {
      "cell_type": "markdown",
      "metadata": {},
      "source": [
        "Suppose we had a machine learning model, which was predicting a category\n",
        "like `yes` or `no` based on some predictors. For example the data might\n",
        "be this:"
      ],
      "id": "9bb408b4-7947-48e2-a43e-efedd2f791d1"
    },
    {
      "cell_type": "code",
      "execution_count": null,
      "metadata": {},
      "outputs": [
        {
          "output_type": "stream",
          "name": "stdout",
          "text": [
            "   predicted actuals\n",
            "1       TRUE    TRUE\n",
            "2       TRUE    TRUE\n",
            "3       TRUE    TRUE\n",
            "4      FALSE   FALSE\n",
            "5       TRUE   FALSE\n",
            "6       TRUE   FALSE\n",
            "7      FALSE    TRUE\n",
            "8       TRUE   FALSE\n",
            "9       TRUE    TRUE\n",
            "10     FALSE   FALSE\n",
            "11      TRUE   FALSE\n",
            "12     FALSE   FALSE"
          ]
        }
      ],
      "source": [
        "actuals   <- factor(c(T,T,T,F,F,F,T,F,T,F,F,F), levels=c(T,F))\n",
        "predicted <- factor(c(T,T,T,F,T,T,F,T,T,F,T,F), levels=c(T,F))\n",
        "df<- data.frame(predicted, actuals)\n",
        "df"
      ],
      "id": "20823db8-6b44-4a4a-9b50-8d6f05aebe68"
    },
    {
      "cell_type": "markdown",
      "metadata": {},
      "source": [
        "So to summarize:\n",
        "\n",
        "-   PUT ANSWER HERE were predicted positive and they were actually\n",
        "    positive\n",
        "-   PUT ANSWER HERE were predicted negative and they were actually\n",
        "    negative\n",
        "-   PUT ANSWER HERE were predicted positive and they were actually\n",
        "    negative\n",
        "-   PUT ANSWER HERE were predicted negative and they were actually\n",
        "    positive\n",
        "\n",
        "We can represent that in a table called a “confusion matrix” as follows:\n",
        "\n",
        "|                        | Actual Positive | Actual Negative |\n",
        "|------------------------|-----------------|-----------------|\n",
        "| **Predicted Positive** | PUT ANS HERE    | PUT ANS HERE    |\n",
        "| **Predicted Negative** | PUT ANS HERE    | PUT ANS HERE    |\n",
        "\n",
        "We can find the accuracy from this table as follows:"
      ],
      "id": "b63a8317-6a7a-44b7-8f64-a5c6125df327"
    },
    {
      "cell_type": "code",
      "execution_count": null,
      "metadata": {},
      "outputs": [
        {
          "output_type": "stream",
          "name": "stdout",
          "text": [
            "[1] 0.5833333"
          ]
        }
      ],
      "source": [
        "accuracy(predicted, actuals)"
      ],
      "id": "201e3a80-cd68-4a12-be25-84ced659eacc"
    },
    {
      "cell_type": "markdown",
      "metadata": {},
      "source": [
        "We can print out the confusion matrix like this:"
      ],
      "id": "af67df2d-e11d-435b-9db7-f9709832b9e8"
    },
    {
      "cell_type": "code",
      "execution_count": null,
      "metadata": {},
      "outputs": [
        {
          "output_type": "stream",
          "name": "stdout",
          "text": [
            "         actuals\n",
            "predicted TRUE FALSE\n",
            "    TRUE     4     4\n",
            "    FALSE    1     3"
          ]
        }
      ],
      "source": [
        "table(df)"
      ],
      "id": "9bedf4f0-d00c-42e4-abc4-b97d8695cd06"
    }
  ],
  "nbformat": 4,
  "nbformat_minor": 5,
  "metadata": {
    "kernelspec": {
      "name": "ir",
      "display_name": "R",
      "language": "R"
    }
  }
}