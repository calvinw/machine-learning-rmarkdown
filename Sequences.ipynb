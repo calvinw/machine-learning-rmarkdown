{
  "cells": [
    {
      "cell_type": "markdown",
      "metadata": {},
      "source": [
        "# Sequences\n",
        "\n",
        "We are going to take a look at a simple way to create vectors of\n",
        "numbers.\n",
        "\n",
        "For example suppose we want a vector with just “1,2,3,4,5,6” on it."
      ],
      "id": "cd94ec8f-fe4d-4f72-be87-22f4f53287e5"
    },
    {
      "cell_type": "code",
      "execution_count": null,
      "metadata": {},
      "outputs": [
        {
          "output_type": "stream",
          "name": "stdout",
          "text": [
            "[1] 1 2 3 4 5 6"
          ]
        }
      ],
      "source": [
        "a <- 1:6\n",
        "print(a)"
      ],
      "id": "dbee1b49-e475-43ee-9797-fa79edda6694"
    },
    {
      "cell_type": "markdown",
      "metadata": {},
      "source": [
        "The notation `1:6` means the same here as `c(1,2,3,4,5,6)`. That is we\n",
        "create a vector using the combine function `c` with the 6 numbers we\n",
        "want. This is called a “sequence” in R, since the numbers are listed in\n",
        "order.\n",
        "\n",
        "Sequences are a great way to get certain vectors where the numbers have\n",
        "some pattern to them.\n",
        "\n",
        "What happens if we want to make the numbers “count down” from something:"
      ],
      "id": "16dd3fb2-d918-4451-83ff-f706adda6179"
    },
    {
      "cell_type": "code",
      "execution_count": null,
      "metadata": {},
      "outputs": [
        {
          "output_type": "stream",
          "name": "stdout",
          "text": [
            "[1] 6 5 4 3 2 1"
          ]
        }
      ],
      "source": [
        "b <- 6:1\n",
        "print(b)"
      ],
      "id": "9debdda5-c5eb-433c-993a-73c26e0a6012"
    },
    {
      "cell_type": "markdown",
      "metadata": {},
      "source": [
        "Can we start at something other than 1:"
      ],
      "id": "4054312f-c523-490b-aefa-83ff00864683"
    },
    {
      "cell_type": "code",
      "execution_count": null,
      "metadata": {},
      "outputs": [
        {
          "output_type": "stream",
          "name": "stdout",
          "text": [
            "[1] 4 5 6 7 8 9"
          ]
        }
      ],
      "source": [
        "c <- 4:9\n",
        "print(c)"
      ],
      "id": "fa4f83c5-6180-43c9-a3d7-9985d324842f"
    },
    {
      "cell_type": "markdown",
      "metadata": {},
      "source": [
        "Can we start at a negative number"
      ],
      "id": "c60133e1-830e-468e-9b85-a0e00e2cf175"
    },
    {
      "cell_type": "code",
      "execution_count": null,
      "metadata": {},
      "outputs": [
        {
          "output_type": "stream",
          "name": "stdout",
          "text": [
            "[1] -3 -2 -1  0  1  2  3  4"
          ]
        }
      ],
      "source": [
        "d <- -3:4\n",
        "print(d)"
      ],
      "id": "ff79fbfd-ae3a-4363-ad47-abfb24a67231"
    },
    {
      "cell_type": "markdown",
      "metadata": {},
      "source": [
        "If we use the `seq` function we an create sequences and “count by”\n",
        "whatever value we want. Below we start at 3 and count by 2s up to 21."
      ],
      "id": "070a42ba-40fd-4292-8b67-a5f07ace55b5"
    },
    {
      "cell_type": "code",
      "execution_count": null,
      "metadata": {},
      "outputs": [
        {
          "output_type": "stream",
          "name": "stdout",
          "text": [
            " [1]  3  5  7  9 11 13 15 17 19 21"
          ]
        }
      ],
      "source": [
        "e <- seq(from=3, to=21, by=2) \n",
        "print(e)"
      ],
      "id": "af9f11e0-b609-4687-aca2-67fe70146e60"
    },
    {
      "cell_type": "markdown",
      "metadata": {},
      "source": [
        "Now lets count by 5, starting at 0 and go up to 50:"
      ],
      "id": "617f921d-78b1-4098-8992-d06c3d3bc1f7"
    },
    {
      "cell_type": "code",
      "execution_count": null,
      "metadata": {},
      "outputs": [
        {
          "output_type": "stream",
          "name": "stdout",
          "text": [
            " [1]  0  5 10 15 20 25 30 35 40 45 50"
          ]
        }
      ],
      "source": [
        "f <- seq(from=0, to=50, by=5) \n",
        "print(f)"
      ],
      "id": "981c3997-ebd5-43c0-8751-e1fdd33570ac"
    }
  ],
  "nbformat": 4,
  "nbformat_minor": 5,
  "metadata": {
    "kernelspec": {
      "name": "ir",
      "display_name": "R",
      "language": "R"
    }
  }
}