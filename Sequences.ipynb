{
  "cells": [
    {
      "cell_type": "markdown",
      "metadata": {},
      "source": [
        "# Sequences\n",
        "\n",
        "We are going to take a look at a simple way to create vectors of\n",
        "numbers.\n",
        "\n",
        "For example suppose we want a vector with just “1,2,3,4,5,6” on it."
      ],
      "id": "a74acd73-0bc4-46e1-9f30-31d95c256a8d"
    },
    {
      "cell_type": "code",
      "execution_count": null,
      "metadata": {},
      "outputs": [
        {
          "output_type": "stream",
          "name": "stdout",
          "text": [
            "[1] 1 2 3 4 5 6"
          ]
        }
      ],
      "source": [
        "a <- 1:6\n",
        "print(a)"
      ],
      "id": "1dc77aae-9c8e-4460-b2df-75ff453406db"
    },
    {
      "cell_type": "markdown",
      "metadata": {},
      "source": [
        "The notation `1:6` means the same here as `c(1,2,3,4,5,6)`. That is we\n",
        "create a vector using the combine function `c` with the 6 numbers we\n",
        "want. This is called a “sequence” in R, since the numbers are listed in\n",
        "order.\n",
        "\n",
        "Sequences are a great way to get certain vectors where the numbers have\n",
        "some pattern to them.\n",
        "\n",
        "What happens if we want to make the numbers “count down” from something:"
      ],
      "id": "e021bfcb-5de3-4cd7-b25e-329fbbc09ad4"
    },
    {
      "cell_type": "code",
      "execution_count": null,
      "metadata": {},
      "outputs": [
        {
          "output_type": "stream",
          "name": "stdout",
          "text": [
            "[1] 6 5 4 3 2 1"
          ]
        }
      ],
      "source": [
        "b <- 6:1\n",
        "print(b)"
      ],
      "id": "4499a09b-b0e0-48e8-a653-0f4517c162ef"
    },
    {
      "cell_type": "markdown",
      "metadata": {},
      "source": [
        "Can we start at something other than 1:"
      ],
      "id": "2e9b175e-ceef-4a21-ae63-4144c9d5e028"
    },
    {
      "cell_type": "code",
      "execution_count": null,
      "metadata": {},
      "outputs": [
        {
          "output_type": "stream",
          "name": "stdout",
          "text": [
            "[1] 4 5 6 7 8 9"
          ]
        }
      ],
      "source": [
        "c <- 4:9\n",
        "print(c)"
      ],
      "id": "0958410e-361f-4670-81d5-f966e06e3158"
    },
    {
      "cell_type": "markdown",
      "metadata": {},
      "source": [
        "Can we start at a negative number"
      ],
      "id": "4f37f8fd-7865-4cd0-9235-17d7e66ed41a"
    },
    {
      "cell_type": "code",
      "execution_count": null,
      "metadata": {},
      "outputs": [
        {
          "output_type": "stream",
          "name": "stdout",
          "text": [
            "[1] -3 -2 -1  0  1  2  3  4"
          ]
        }
      ],
      "source": [
        "d <- -3:4\n",
        "print(d)"
      ],
      "id": "1df48474-893a-47c3-bcbb-e7afec822a02"
    },
    {
      "cell_type": "markdown",
      "metadata": {},
      "source": [
        "If we use the `seq` function we an create sequences and “count by”\n",
        "whatever value we want. Below we start at 3 and count by 2s up to 21."
      ],
      "id": "44bc4d07-b45b-4001-8398-ac914d3d5352"
    },
    {
      "cell_type": "code",
      "execution_count": null,
      "metadata": {},
      "outputs": [
        {
          "output_type": "stream",
          "name": "stdout",
          "text": [
            " [1]  3  5  7  9 11 13 15 17 19 21"
          ]
        }
      ],
      "source": [
        "e <- seq(from=3, to=21, by=2) \n",
        "print(e)"
      ],
      "id": "bd9260ed-65fd-484d-bcdc-8b2234cea0b1"
    },
    {
      "cell_type": "markdown",
      "metadata": {},
      "source": [
        "Now lets count by 5, starting at 0 and go up to 50:"
      ],
      "id": "b7d19218-1263-4065-9f12-d440171cd82e"
    },
    {
      "cell_type": "code",
      "execution_count": null,
      "metadata": {},
      "outputs": [
        {
          "output_type": "stream",
          "name": "stdout",
          "text": [
            " [1]  0  5 10 15 20 25 30 35 40 45 50"
          ]
        }
      ],
      "source": [
        "f <- seq(from=0, to=50, by=5) \n",
        "print(f)"
      ],
      "id": "ff083af6-d3e6-4a33-96d0-2a5c90880eaf"
    }
  ],
  "nbformat": 4,
  "nbformat_minor": 5,
  "metadata": {
    "kernelspec": {
      "name": "ir",
      "display_name": "R",
      "language": "R"
    }
  }
}