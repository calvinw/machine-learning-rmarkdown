{
 "cells": [
  {
   "cell_type": "markdown",
   "metadata": {},
   "source": [
    "We are going to take a look at a simple way to create vectors of\n",
    "numbers.\n",
    "\n",
    "For example suppose we want a vector with just “1,2,3,4,5,6” on it."
   ]
  },
  {
   "cell_type": "code",
   "execution_count": null,
   "metadata": {},
   "outputs": [],
   "source": [
    "a <- 1:6\n",
    "print(a)"
   ]
  },
  {
   "cell_type": "markdown",
   "metadata": {},
   "source": [
    "The notation `1:6` means the same here as `c(1,2,3,4,5,6)`. That is we\n",
    "create a vector using the combine function `c` with the 6 numbers we\n",
    "want. This is called a “sequence” in R, since the numbers are listed in\n",
    "order.\n",
    "\n",
    "Sequences are a great way to get certain vectors where the numbers have\n",
    "some pattern to them.\n",
    "\n",
    "What happens if we want to make the numbers “count down” from something:"
   ]
  }
 ],
 "nbformat": 4,
 "nbformat_minor": 5,
 "metadata": {
  "kernelspec": {
   "name": "ir",
   "display_name": "R",
   "language": "R"
  }
 }
}

