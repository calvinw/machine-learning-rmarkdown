{
 "cells": [
  {
   "cell_type": "code",
   "execution_count": null,
   "metadata": {},
   "outputs": [],
   "source": [
    "options(\"scipen\"=100, \"digits\"=4)\n",
    "if(!require(\"readr\")) install.packages(\"readr\")\n",
    "if(!require(\"rpart\")) install.packages(\"rpart\")\n",
    "if(!require(\"rpart.plot\")) install.packages(\"rpart.plot\")\n",
    "library(\"readr\")\n",
    "library(\"rpart\")\n",
    "library(\"rpart.plot\")"
   ]
  },
  {
   "cell_type": "markdown",
   "metadata": {},
   "source": [
    "Building a Regression Tree\n",
    "--------------------------\n",
    "\n",
    "So here is the data we have, this will be our training data:\n",
    "\n",
    "-   `Rentals` is our result or outcome\n",
    "-   `Season`, `Workday` are the predictors\n",
    "\n",
    "This data is from a bicycle rental shop in different seasons and for\n",
    "different kinds of days (work days vs weekends) This is different from a\n",
    "“classification” situation since we are trying to predict and amount\n",
    "(the number of rentals) rather than a category. But we can still make\n",
    "use of building a tree to do our predictions.\n",
    "\n",
    "Here is our training set:\n",
    "\n",
    "Lets read it in:"
   ]
  },
  {
   "cell_type": "code",
   "execution_count": null,
   "metadata": {},
   "outputs": [],
   "source": [
    "read.md <- function(file = clipr::read_clip(),\n",
    "                    delim = '|',\n",
    "                    stringsAsFactors = FALSE,\n",
    "                    strip.white = TRUE,\n",
    "                    ...){\n",
    "    if (length(file) > 1) {\n",
    "        lines <- file\n",
    "    } else if (grepl('\\n', file)) {\n",
    "        con <- textConnection(file)\n",
    "        lines <- readLines(con)\n",
    "        close(con)\n",
    "    } else {\n",
    "        lines <- readLines(file)\n",
    "    }\n",
    "    lines <- lines[!grepl('^[\\\\:\\\\s\\\\+\\\\-\\\\=\\\\_\\\\|]*$', lines, perl = TRUE)]\n",
    "    lines <- gsub('(^\\\\s*?\\\\|)|(\\\\|\\\\s*?$)', '', lines)\n",
    "    utils::read.delim(text = paste(lines, collapse = '\\n'), sep = delim,\n",
    "                      stringsAsFactors = stringsAsFactors,\n",
    "                      strip.white = strip.white, ...)\n",
    "}\n",
    "train<-'\n",
    "| ID | Season | WorkDay | Rentals |\n",
    "|----|--------|---------|---------|\n",
    "| 1  | winter | false   | 800     |\n",
    "| 2  | winter | false   | 826     |\n",
    "| 3  | winter | true    | 900     |\n",
    "| 4  | spring | false   | 2100    |\n",
    "| 5  | spring | true    | 4740    |\n",
    "| 6  | spring | true    | 4900    |\n",
    "| 7  | summer | false   | 3000    |\n",
    "| 8  | summer | true    | 5800    |\n",
    "| 9  | summer | true    | 6200    |\n",
    "| 10 | autumn | false   | 2901    |\n",
    "| 11 | autumn | false   | 2880    |\n",
    "| 12 | autumn | true    | 2820    |\n",
    "'\n",
    "traindf<-read.md(train, stringsAsFactors=TRUE)\n",
    "str(traindf)"
   ]
  },
  {
   "cell_type": "code",
   "execution_count": null,
   "metadata": {},
   "outputs": [],
   "source": [
    "#trainurl<- \"https://docs.google.com/spreadsheets/d/e/2PACX-1vT0xC0V1WOdTsy8RK5yHOskEbWjXSE9oHh-IvLoJyCNFR-IgchGRcLF-nK0USxC2irKXUJmNdpFwSCw/pub?gid=0&single=true&output=csv\"\n",
    "#trainurl<-\"exams.csv\"\n",
    "#traindf<-read.csv(trainurl, stringsAsFactors=TRUE)\n",
    "#str(traindf)"
   ]
  },
  {
   "cell_type": "markdown",
   "metadata": {},
   "source": [
    "We are going to model this situation with a decision tree. We will start\n",
    "by just trying to use `Season` to predict the result `Rentals`"
   ]
  },
  {
   "cell_type": "code",
   "execution_count": null,
   "metadata": {},
   "outputs": [],
   "source": [
    "control <- rpart.control(minbucket=1)\n",
    "model1 <- rpart(Rentals~WorkDay+Season, data=traindf, method=\"anova\", control=control)\n",
    "rpart.plot(model1)"
   ]
  },
  {
   "cell_type": "code",
   "execution_count": null,
   "metadata": {},
   "outputs": [],
   "source": [
    "printcp(model1)"
   ]
  },
  {
   "cell_type": "markdown",
   "metadata": {},
   "source": [
    "We about if we use `WorkDay` but let the tree grow a little:\n",
    "\n",
    "Testing the Regression Tree model using the testing set\n",
    "-------------------------------------------------------\n",
    "\n",
    "Now lets do some predictions using the test dataframe:\n",
    "\n",
    "Here we read the test set:"
   ]
  },
  {
   "cell_type": "code",
   "execution_count": null,
   "metadata": {},
   "outputs": [],
   "source": [
    "#read the testing set\n",
    "#testurl<- \"https://docs.google.com/spreadsheets/d/e/2PACX-1vT0xC0V1WOdTsy8RK5yHOskEbWjXSE9oHh-IvLoJyCNFR-IgchGRcLF-nK0USxC2irKXUJmNdpFwSCw/pub?gid=289547774&single=true&output=csv\"\n",
    "#testdf<-read.csv(testurl, stringsAsFactors=TRUE)\n",
    "#str(testdf)"
   ]
  },
  {
   "cell_type": "markdown",
   "metadata": {},
   "source": [
    "Now lets do our predictions:"
   ]
  },
  {
   "cell_type": "code",
   "execution_count": null,
   "metadata": {},
   "outputs": [],
   "source": [
    "#pred <- predict(model1, newdata = testdf, type = 'vector')"
   ]
  },
  {
   "cell_type": "markdown",
   "metadata": {},
   "source": [
    "Lets build a data frame so we can see the predictions and the actuals"
   ]
  },
  {
   "cell_type": "code",
   "execution_count": null,
   "metadata": {},
   "outputs": [],
   "source": [
    "#predictionsVsActual <- data.frame(predictions=pred)\n",
    "#print(predictionsVsActual)"
   ]
  }
 ],
 "nbformat": 4,
 "nbformat_minor": 5,
 "metadata": {
  "kernelspec": {
   "name": "ir",
   "display_name": "R",
   "language": "R"
  }
 }
}

