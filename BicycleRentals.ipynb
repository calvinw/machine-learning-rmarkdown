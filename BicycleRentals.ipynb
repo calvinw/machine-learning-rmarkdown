{
 "cells": [
  {
   "cell_type": "code",
   "execution_count": null,
   "metadata": {},
   "outputs": [],
   "source": [
    "options(\"scipen\"=100, \"digits\"=4)\n",
    "\n",
    "if(!require(\"rpart\")) install.packages(\"rpart\")\n",
    "if(!require(\"rpart.plot\")) install.packages(\"rpart.plot\")\n",
    "if(!require(\"Metrics\")) install.packages(\"Metrics\")\n",
    "library(\"rpart\")\n",
    "library(\"rpart.plot\")\n",
    "library(\"Metrics\")"
   ]
  },
  {
   "cell_type": "markdown",
   "metadata": {},
   "source": [
    "Training Data\n",
    "-------------\n",
    "\n",
    "So here is the data we have, this will be our training data:\n",
    "\n",
    "| ID  | Season | WorkDay | Rentals |\n",
    "|-----|--------|---------|---------|\n",
    "| 1   | winter | false   | 800     |\n",
    "| 2   | winter | false   | 826     |\n",
    "| 3   | winter | true    | 900     |\n",
    "| 4   | spring | false   | 2100    |\n",
    "| 5   | spring | true    | 4740    |\n",
    "| 6   | spring | true    | 4900    |\n",
    "| 7   | summer | false   | 3000    |\n",
    "| 8   | summer | true    | 5800    |\n",
    "| 9   | summer | true    | 6200    |\n",
    "| 10  | autumn | false   | 2901    |\n",
    "| 11  | autumn | false   | 2880    |\n",
    "| 12  | autumn | true    | 2820    |\n",
    "\n",
    "-   `Rentals` is our result or outcome\n",
    "-   `Season`, `Workday` are the predictors\n",
    "\n",
    "This data is from a bicycle rental shop in different seasons and for\n",
    "different kinds of days (work days vs weekends) This is different from a\n",
    "“classification” situation since we are trying to predict and amount\n",
    "(the number of rentals) rather than a category. But we can still make\n",
    "use of building a tree to do our predictions.\n",
    "\n",
    "Lets read it in:"
   ]
  },
  {
   "cell_type": "code",
   "execution_count": null,
   "metadata": {},
   "outputs": [],
   "source": [
    "url<- \"https://docs.google.com/spreadsheets/d/e/2PACX-1vT0xC0V1WOdTsy8RK5yHOskEbWjXSE9oHh-IvLoJyCNFR-IgchGRcLF-nK0USxC2irKXUJmNdpFwSCw/pub?gid=0&single=true&output=csv\"\n",
    "train<-read.csv(url, stringsAsFactors=TRUE)\n",
    "str(train)"
   ]
  },
  {
   "cell_type": "markdown",
   "metadata": {},
   "source": [
    "Testing Data\n",
    "------------\n",
    "\n",
    "Here is the testing data set:\n",
    "\n",
    "| Season | WorkDay | Rentals |\n",
    "|--------|---------|---------|\n",
    "| winter | false   | 850     |\n",
    "| winter | true    | 921     |\n",
    "| spring | false   | 2412    |\n",
    "| spring | true    | 4713    |\n",
    "| summer | false   | 2500    |\n",
    "| summer | true    | 5893    |\n",
    "| autumn | false   | 3200    |\n",
    "| autumn | true    | 2935    |\n",
    "\n",
    "Lets read it in:"
   ]
  },
  {
   "cell_type": "code",
   "execution_count": null,
   "metadata": {},
   "outputs": [],
   "source": [
    "url<- \"https://docs.google.com/spreadsheets/d/e/2PACX-1vT0xC0V1WOdTsy8RK5yHOskEbWjXSE9oHh-IvLoJyCNFR-IgchGRcLF-nK0USxC2irKXUJmNdpFwSCw/pub?gid=289547774&single=true&output=csv\"\n",
    "test<-read.csv(url, stringsAsFactors=TRUE)\n",
    "str(test)"
   ]
  },
  {
   "cell_type": "markdown",
   "metadata": {},
   "source": [
    "We are going to model this situation with a decision tree. It appears on\n",
    "Work days, there is more demand for bicycles. This is probably since\n",
    "people are at work and they use the bike rentals during workdays,\n",
    "whereas on weekends they tend to be off more, so there is not as much\n",
    "demand on weekends.\n",
    "\n",
    "Model 1 Rentals\\~WorkDay\n",
    "------------------------\n",
    "\n",
    "How about if we just use `WorkDay` to predict the result `Rentals`"
   ]
  },
  {
   "cell_type": "code",
   "execution_count": null,
   "metadata": {},
   "outputs": [],
   "source": [
    "control <- rpart.control(minbucket=1)\n",
    "model <- rpart(Rentals~WorkDay, data=train, method=\"anova\", control=control)\n",
    "rpart.plot(model, type=4, extra=101)"
   ]
  },
  {
   "cell_type": "markdown",
   "metadata": {},
   "source": [
    "### Testing Model 1\n",
    "\n",
    "Lets do our predictions for this model:"
   ]
  },
  {
   "cell_type": "code",
   "execution_count": null,
   "metadata": {},
   "outputs": [],
   "source": [
    "pred <- predict(model, newdata = test, type = 'vector')"
   ]
  },
  {
   "cell_type": "markdown",
   "metadata": {},
   "source": [
    "Lets build a data frame so we can see the predictions and the actuals"
   ]
  },
  {
   "cell_type": "code",
   "execution_count": null,
   "metadata": {},
   "outputs": [],
   "source": [
    "info <- data.frame(actual=test$Rentals, predictions=pred)\n",
    "print(info)"
   ]
  },
  {
   "cell_type": "markdown",
   "metadata": {},
   "source": [
    "Lets calculate the MAPE, MAE, and RMSE"
   ]
  },
  {
   "cell_type": "code",
   "execution_count": null,
   "metadata": {},
   "outputs": [],
   "source": [
    "mape(test$Rentals,pred)\n",
    "mae(test$Rentals,pred)\n",
    "rmse(test$Rentals,pred)"
   ]
  },
  {
   "cell_type": "markdown",
   "metadata": {},
   "source": [
    "Model 2 Rentals\\~Season\n",
    "-----------------------\n",
    "\n",
    "Now lets try just using `Season` to predict the result `Rentals`"
   ]
  },
  {
   "cell_type": "code",
   "execution_count": null,
   "metadata": {},
   "outputs": [],
   "source": [
    "control <- rpart.control(minbucket=1)\n",
    "model <- rpart(Rentals~Season, data=train, method=\"anova\", control=control)\n",
    "rpart.plot(model, type=4, extra=101)"
   ]
  },
  {
   "cell_type": "markdown",
   "metadata": {},
   "source": [
    "### Testing Model 2\n",
    "\n",
    "Lets do our predictions for this model:"
   ]
  },
  {
   "cell_type": "code",
   "execution_count": null,
   "metadata": {},
   "outputs": [],
   "source": [
    "pred <- predict(model, newdata = test, type = 'vector')"
   ]
  },
  {
   "cell_type": "markdown",
   "metadata": {},
   "source": [
    "Lets build a data frame so we can see the predictions and the actuals"
   ]
  },
  {
   "cell_type": "code",
   "execution_count": null,
   "metadata": {},
   "outputs": [],
   "source": [
    "info <- data.frame(actual=test$Rentals, predictions=pred)\n",
    "print(info)"
   ]
  },
  {
   "cell_type": "markdown",
   "metadata": {},
   "source": [
    "Lets calculate the MAPE, MAE, and RMSE"
   ]
  },
  {
   "cell_type": "code",
   "execution_count": null,
   "metadata": {},
   "outputs": [],
   "source": [
    "mape(test$Rentals,pred)\n",
    "mae(test$Rentals,pred)\n",
    "rmse(test$Rentals,pred)"
   ]
  },
  {
   "cell_type": "markdown",
   "metadata": {},
   "source": [
    "Model 3 Rentals\\~Season+WorkDay\n",
    "-------------------------------\n",
    "\n",
    "Now lets build a model using `Season` and `WorkDay` to predict `Rentals`"
   ]
  },
  {
   "cell_type": "code",
   "execution_count": null,
   "metadata": {},
   "outputs": [],
   "source": [
    "control <- rpart.control(minbucket=1)\n",
    "model <- rpart(Rentals~Season+WorkDay, data=train, method=\"anova\", control=control)\n",
    "rpart.plot(model, type=4, extra=101)"
   ]
  },
  {
   "cell_type": "markdown",
   "metadata": {},
   "source": [
    "### Testing Model 3\n",
    "\n",
    "Lets do our predictions for this model:"
   ]
  },
  {
   "cell_type": "code",
   "execution_count": null,
   "metadata": {},
   "outputs": [],
   "source": [
    "pred <- predict(model, newdata = test, type = 'vector')"
   ]
  },
  {
   "cell_type": "markdown",
   "metadata": {},
   "source": [
    "Lets build a data frame so we can see the predictions and the actuals"
   ]
  },
  {
   "cell_type": "code",
   "execution_count": null,
   "metadata": {},
   "outputs": [],
   "source": [
    "info <- data.frame(actual=test$Rentals, predictions=pred)\n",
    "print(info)"
   ]
  },
  {
   "cell_type": "markdown",
   "metadata": {},
   "source": [
    "Lets calculate the MAPE, MAE, and RMSE"
   ]
  },
  {
   "cell_type": "code",
   "execution_count": null,
   "metadata": {},
   "outputs": [],
   "source": [
    "mape(test$Rentals,pred)\n",
    "mae(test$Rentals,pred)\n",
    "rmse(test$Rentals,pred)"
   ]
  }
 ],
 "nbformat": 4,
 "nbformat_minor": 5,
 "metadata": {
  "kernelspec": {
   "name": "ir",
   "display_name": "R",
   "language": "R"
  }
 }
}
