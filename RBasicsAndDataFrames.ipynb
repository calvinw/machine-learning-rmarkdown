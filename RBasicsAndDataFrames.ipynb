{
  "cells": [
    {
      "cell_type": "markdown",
      "metadata": {},
      "source": [
        "# R Basics and DataFrames\n",
        "\n",
        "-   Create a variable `z` that has value 32"
      ],
      "id": "9c9524ae-eb6f-4b72-9abd-d59e625d512b"
    },
    {
      "cell_type": "code",
      "execution_count": null,
      "metadata": {},
      "outputs": [],
      "source": [
        "z <- CODE "
      ],
      "id": "184e50d6-99b7-4faf-892d-972a915f36f2"
    },
    {
      "cell_type": "markdown",
      "metadata": {},
      "source": [
        "-   Create a variable `w` that is equal to `z/3`"
      ],
      "id": "952504c5-a86c-4830-89f0-1adf4af328b6"
    },
    {
      "cell_type": "code",
      "execution_count": null,
      "metadata": {},
      "outputs": [],
      "source": [
        "w <- CODE"
      ],
      "id": "5c59abc7-6be8-4ac4-ad61-2f955b6485bc"
    },
    {
      "cell_type": "markdown",
      "metadata": {},
      "source": [
        "-   Define a character vector `a` that has these strings on it “Hello”,\n",
        "    “Goodbye”, “Goodnight”, “Bye”:"
      ],
      "id": "04254bd6-48cc-4759-9fb6-96a310e394fa"
    },
    {
      "cell_type": "code",
      "execution_count": null,
      "metadata": {},
      "outputs": [],
      "source": [
        "a<-CODE"
      ],
      "id": "d7ea8871-2273-4392-bcc7-07de41e99b7b"
    },
    {
      "cell_type": "markdown",
      "metadata": {},
      "source": [
        "Define a vector variable `q` that has\n",
        "3,-3,2,-1,0,-4,-6,3,-7,4,2,3,-2,-4,4 on it."
      ],
      "id": "507bd434-da52-4285-95f2-d689e65547ab"
    },
    {
      "cell_type": "code",
      "execution_count": null,
      "metadata": {},
      "outputs": [],
      "source": [
        "q<-CODE"
      ],
      "id": "49b2971d-6682-4c00-b16b-e1216473f779"
    },
    {
      "cell_type": "markdown",
      "metadata": {},
      "source": [
        "Next create a dataframe for this data:\n",
        "\n",
        "|  Name  | GPA | Major |    Phone     |\n",
        "|:------:|:---:|:-----:|:------------:|\n",
        "| Alexa  | 3.7 |  FBM  | 212 398 2375 |\n",
        "| Tanya  | 3.6 |  AMC  | 212 323 3040 |\n",
        "| Hubert | 3.4 |  FBM  | 718 232 9392 |\n",
        "\n",
        "-   create a dataframe for this data"
      ],
      "id": "db453471-0d19-4e94-bcfb-565e9c46f67b"
    },
    {
      "cell_type": "code",
      "execution_count": null,
      "metadata": {},
      "outputs": [],
      "source": [
        "Name<-CODE\n",
        "GPA<-CODE\n",
        "Major<-CODE\n",
        "Phone<-CODE\n",
        "df <- data.frame(CODE,CODE,CODE,CODE) "
      ],
      "id": "0c49894f-c903-46a5-8cda-8cadbb192709"
    },
    {
      "cell_type": "markdown",
      "metadata": {},
      "source": [
        "-   Print out the structure of your data frame using `str`"
      ],
      "id": "4ee642f7-8794-497c-86a4-3b7710050ed8"
    },
    {
      "cell_type": "code",
      "execution_count": null,
      "metadata": {},
      "outputs": [],
      "source": [
        "CODE"
      ],
      "id": "229a59f3-5dba-491b-ae5a-6629d68c444a"
    },
    {
      "cell_type": "markdown",
      "metadata": {},
      "source": [
        "-   Print out just the GPA column using \\$ sign: (Replace CODE below\n",
        "    with the right column name for this."
      ],
      "id": "f6e05a84-3f77-458e-9e94-847314e66696"
    },
    {
      "cell_type": "code",
      "execution_count": null,
      "metadata": {},
      "outputs": [],
      "source": [
        "df$CODE"
      ],
      "id": "513c1983-f681-4561-9994-1e6757792d91"
    },
    {
      "cell_type": "markdown",
      "metadata": {},
      "source": [
        "-   Now print out the first few lines of the data frame using `head`"
      ],
      "id": "4ec6f98e-11ff-446d-a532-4d54c933e2b3"
    },
    {
      "cell_type": "code",
      "execution_count": null,
      "metadata": {},
      "outputs": [],
      "source": [
        "CODE"
      ],
      "id": "89ef9f50-8d41-4679-bbdb-a8327c83ef63"
    },
    {
      "cell_type": "markdown",
      "metadata": {},
      "source": [
        "-   Use `summary(df)` to print out a summary of the data frame data:"
      ],
      "id": "42436d69-43af-4f1e-935c-27862efa76eb"
    },
    {
      "cell_type": "code",
      "execution_count": null,
      "metadata": {},
      "outputs": [],
      "source": [
        "CODE"
      ],
      "id": "be11ec39-55b8-4e94-b2dc-af326dd17c2e"
    },
    {
      "cell_type": "markdown",
      "metadata": {},
      "source": [
        "-   Delete the column “Major” from the data frame:"
      ],
      "id": "73c6e217-9525-44b8-ad3a-0324d1f977fc"
    },
    {
      "cell_type": "code",
      "execution_count": null,
      "metadata": {},
      "outputs": [],
      "source": [
        "CODE"
      ],
      "id": "8d81741f-8510-4bcd-b76d-58b5b370e31b"
    },
    {
      "cell_type": "markdown",
      "metadata": {},
      "source": [
        "-   Print out the structure of your data frame showing the column above\n",
        "    removed:"
      ],
      "id": "b11229d8-f5d3-4e12-8f3c-c04e3c16c3d7"
    },
    {
      "cell_type": "code",
      "execution_count": null,
      "metadata": {},
      "outputs": [],
      "source": [
        "CODE"
      ],
      "id": "a84c3eab-323f-4e78-ac28-b070bd193eb5"
    },
    {
      "cell_type": "markdown",
      "metadata": {},
      "source": [
        "Finally add a column called “ID” Your data frame will look like this\n",
        "after doing this:\n",
        "\n",
        "|  Name  | GPA |    Phone     |  ID  |\n",
        "|:------:|:---:|:------------:|:----:|\n",
        "| Alexa  | 3.7 | 212 398 2375 | 1001 |\n",
        "| Tanya  | 3.6 | 212 323 3040 | 1002 |\n",
        "| Hubert | 3.4 | 718 232 9392 | 1003 |\n",
        "\n",
        "-   add a column called “ID”"
      ],
      "id": "59f7bb3c-09bb-4dc7-b8d3-1f8e0629f3c0"
    },
    {
      "cell_type": "code",
      "execution_count": null,
      "metadata": {},
      "outputs": [],
      "source": [
        "df$ID <- CODE "
      ],
      "id": "2a6ad4c0-ee45-46a0-ae5b-4d79a7fce304"
    },
    {
      "cell_type": "markdown",
      "metadata": {},
      "source": [
        "-   Print out the structure of the new data frame using `str`:"
      ],
      "id": "d5560d5e-d2d3-4d06-b868-ac0428a3e762"
    },
    {
      "cell_type": "code",
      "execution_count": null,
      "metadata": {},
      "outputs": [],
      "source": [
        "CODE"
      ],
      "id": "0e303290-0faa-467a-8b15-d89cf5297f7b"
    },
    {
      "cell_type": "markdown",
      "metadata": {},
      "source": [
        "-   Change Tanyas GPA in the dataframe to be `3.98`"
      ],
      "id": "291f324e-0343-4c32-bb65-a523c452ea90"
    },
    {
      "cell_type": "code",
      "execution_count": null,
      "metadata": {},
      "outputs": [],
      "source": [
        "df[2,2] <- CODE "
      ],
      "id": "f088d861-0bf5-4a4a-9395-8bf969eb21e0"
    },
    {
      "cell_type": "markdown",
      "metadata": {},
      "source": [
        "-   Print out the data frame using `head` to make sure her GPA is\n",
        "    changed:"
      ],
      "id": "e398a3ec-53ed-4698-b486-cfeea0355f71"
    },
    {
      "cell_type": "code",
      "execution_count": null,
      "metadata": {},
      "outputs": [],
      "source": [
        "CODE"
      ],
      "id": "37f7ee02-b10d-4562-aef2-6308c6ea7f3a"
    }
  ],
  "nbformat": 4,
  "nbformat_minor": 5,
  "metadata": {
    "kernelspec": {
      "name": "ir",
      "display_name": "R",
      "language": "R"
    }
  }
}