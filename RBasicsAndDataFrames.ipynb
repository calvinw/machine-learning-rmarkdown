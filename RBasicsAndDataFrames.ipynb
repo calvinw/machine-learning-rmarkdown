{
  "cells": [
    {
      "cell_type": "markdown",
      "metadata": {},
      "source": [
        "# R Basics and DataFrames\n",
        "\n",
        "-   Create a variable `z` that has value 32"
      ],
      "id": "de10a48d-7945-4a21-9d0e-39c4b891b9f0"
    },
    {
      "cell_type": "code",
      "execution_count": null,
      "metadata": {},
      "outputs": [],
      "source": [
        "z <- CODE "
      ],
      "id": "9f31a6b9-30ba-48da-901d-ca2261dfbdfc"
    },
    {
      "cell_type": "markdown",
      "metadata": {},
      "source": [
        "-   Create a variable `w` that is equal to `z/3`"
      ],
      "id": "0ce1d6e8-3ee1-4b1d-a9bd-c0cb5ff01c08"
    },
    {
      "cell_type": "code",
      "execution_count": null,
      "metadata": {},
      "outputs": [],
      "source": [
        "w <- CODE"
      ],
      "id": "67a7de07-768a-4654-bae5-d449e05f374f"
    },
    {
      "cell_type": "markdown",
      "metadata": {},
      "source": [
        "-   Define a character vector `a` that has these strings on it “Hello”,\n",
        "    “Goodbye”, “Goodnight”, “Bye”:"
      ],
      "id": "8e782be8-b88c-40f8-bb1e-bcf298810fc5"
    },
    {
      "cell_type": "code",
      "execution_count": null,
      "metadata": {},
      "outputs": [],
      "source": [
        "a<-CODE"
      ],
      "id": "5469ed21-855f-47b3-9885-bd3ea463fa48"
    },
    {
      "cell_type": "markdown",
      "metadata": {},
      "source": [
        "Define a vector variable `q` that has\n",
        "3,-3,2,-1,0,-4,-6,3,-7,4,2,3,-2,-4,4 on it."
      ],
      "id": "cc58159a-a1f2-44a8-9760-10513a84715e"
    },
    {
      "cell_type": "code",
      "execution_count": null,
      "metadata": {},
      "outputs": [],
      "source": [
        "q<-CODE"
      ],
      "id": "18f5daa2-6fb3-4f59-a109-d79f68eed220"
    },
    {
      "cell_type": "markdown",
      "metadata": {},
      "source": [
        "Next create a dataframe for this data:\n",
        "\n",
        "|  Name  | GPA | Major |    Phone     |\n",
        "|:------:|:---:|:-----:|:------------:|\n",
        "| Alexa  | 3.7 |  FBM  | 212 398 2375 |\n",
        "| Tanya  | 3.6 |  AMC  | 212 323 3040 |\n",
        "| Hubert | 3.4 |  FBM  | 718 232 9392 |\n",
        "\n",
        "-   create a dataframe for this data"
      ],
      "id": "06efddd9-7a59-4a91-b947-81642f7943c4"
    },
    {
      "cell_type": "code",
      "execution_count": null,
      "metadata": {},
      "outputs": [],
      "source": [
        "Name<-CODE\n",
        "GPA<-CODE\n",
        "Major<-CODE\n",
        "Phone<-CODE\n",
        "df <- data.frame(CODE,CODE,CODE,CODE) "
      ],
      "id": "0035386a-b94c-4abf-97fa-3228d50b8da7"
    },
    {
      "cell_type": "markdown",
      "metadata": {},
      "source": [
        "-   Print out the structure of your data frame using `str`"
      ],
      "id": "072d928f-a70a-4f8a-92bf-93519841b415"
    },
    {
      "cell_type": "code",
      "execution_count": null,
      "metadata": {},
      "outputs": [],
      "source": [
        "CODE"
      ],
      "id": "c589d113-5c6d-4b98-8e28-d38c03b68774"
    },
    {
      "cell_type": "markdown",
      "metadata": {},
      "source": [
        "-   Print out just the GPA column using \\$ sign: (Replace CODE below\n",
        "    with the right column name for this."
      ],
      "id": "59433c58-eb00-4b24-9680-a511c0f2f2f2"
    },
    {
      "cell_type": "code",
      "execution_count": null,
      "metadata": {},
      "outputs": [],
      "source": [
        "df$CODE"
      ],
      "id": "9ac55ca9-9f3b-4556-a587-a0d9f1c650a8"
    },
    {
      "cell_type": "markdown",
      "metadata": {},
      "source": [
        "-   Now print out the first few lines of the data frame using `head`"
      ],
      "id": "6f3bb20f-53b2-4320-b56f-a10c264dfb3b"
    },
    {
      "cell_type": "code",
      "execution_count": null,
      "metadata": {},
      "outputs": [],
      "source": [
        "CODE"
      ],
      "id": "d1c73d2b-4400-43f5-ae19-8d5b16613556"
    },
    {
      "cell_type": "markdown",
      "metadata": {},
      "source": [
        "-   Use `summary(df)` to print out a summary of the data frame data:"
      ],
      "id": "5441c41f-a010-495d-8673-7f8cab7cc5f4"
    },
    {
      "cell_type": "code",
      "execution_count": null,
      "metadata": {},
      "outputs": [],
      "source": [
        "CODE"
      ],
      "id": "3fa353e8-8f5f-4e23-be28-06143631e5ab"
    },
    {
      "cell_type": "markdown",
      "metadata": {},
      "source": [
        "-   Delete the column “Major” from the data frame:"
      ],
      "id": "f382bffb-ebc1-41bf-ac11-10b95caee732"
    },
    {
      "cell_type": "code",
      "execution_count": null,
      "metadata": {},
      "outputs": [],
      "source": [
        "CODE"
      ],
      "id": "fb968cc9-7761-4765-8326-6f8c5b696fe7"
    },
    {
      "cell_type": "markdown",
      "metadata": {},
      "source": [
        "-   Print out the structure of your data frame showing the column above\n",
        "    removed:"
      ],
      "id": "ad1a550e-045e-43f7-8de2-83d8bfb459be"
    },
    {
      "cell_type": "code",
      "execution_count": null,
      "metadata": {},
      "outputs": [],
      "source": [
        "CODE"
      ],
      "id": "6ccb0ef6-375c-4914-a5cf-7e31472b82c1"
    },
    {
      "cell_type": "markdown",
      "metadata": {},
      "source": [
        "Finally add a column called “ID” Your data frame will look like this\n",
        "after doing this:\n",
        "\n",
        "|  Name  | GPA |    Phone     |  ID  |\n",
        "|:------:|:---:|:------------:|:----:|\n",
        "| Alexa  | 3.7 | 212 398 2375 | 1001 |\n",
        "| Tanya  | 3.6 | 212 323 3040 | 1002 |\n",
        "| Hubert | 3.4 | 718 232 9392 | 1003 |\n",
        "\n",
        "-   add a column called “ID”"
      ],
      "id": "b0571d0f-a8f0-4f93-9517-020d17cbb0b1"
    },
    {
      "cell_type": "code",
      "execution_count": null,
      "metadata": {},
      "outputs": [],
      "source": [
        "df$ID <- CODE "
      ],
      "id": "38c65de6-5448-4996-a4e0-1d96478d587e"
    },
    {
      "cell_type": "markdown",
      "metadata": {},
      "source": [
        "-   Print out the structure of the new data frame using `str`:"
      ],
      "id": "70b6af4e-8f7c-4fbe-8070-2ae48dcf3fdc"
    },
    {
      "cell_type": "code",
      "execution_count": null,
      "metadata": {},
      "outputs": [],
      "source": [
        "CODE"
      ],
      "id": "1d74cea1-a1aa-4e99-bb39-b84e1b3129aa"
    },
    {
      "cell_type": "markdown",
      "metadata": {},
      "source": [
        "-   Change Tanyas GPA in the dataframe to be `3.98`"
      ],
      "id": "3479d634-3da6-42b2-aa07-05158e747e0d"
    },
    {
      "cell_type": "code",
      "execution_count": null,
      "metadata": {},
      "outputs": [],
      "source": [
        "df[2,2] <- CODE "
      ],
      "id": "1ebe3ed0-0205-41ab-9510-03adc3967ae8"
    },
    {
      "cell_type": "markdown",
      "metadata": {},
      "source": [
        "-   Print out the data frame using `head` to make sure her GPA is\n",
        "    changed:"
      ],
      "id": "bf959bb1-e1dc-49cc-94c1-babc5857628e"
    },
    {
      "cell_type": "code",
      "execution_count": null,
      "metadata": {},
      "outputs": [],
      "source": [
        "CODE"
      ],
      "id": "ce95cc4f-52d7-4836-8c20-3caf509b3d42"
    }
  ],
  "nbformat": 4,
  "nbformat_minor": 5,
  "metadata": {
    "kernelspec": {
      "name": "ir",
      "display_name": "R",
      "language": "R"
    }
  }
}