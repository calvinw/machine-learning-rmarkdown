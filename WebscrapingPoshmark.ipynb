{
 "cells": [
  {
   "cell_type": "code",
   "execution_count": null,
   "metadata": {},
   "outputs": [],
   "source": [
    "options(repr.plot.width=6, repr.plot.height=6)\n",
    "knitr::opts_chunk$set(fig.width=6, fig.height=6)\n",
    "if (!require(\"rvest\")) install.packages(\"rvest\")\n",
    "library(\"rvest\")"
   ]
  },
  {
   "cell_type": "markdown",
   "metadata": {},
   "source": [
    "Here we will show how to do webscraping with rvest and the chrome\n",
    "extension selector gadget. This technique is borrowed from the great\n",
    "explanation at: [Online Bargin Hunting in R with\n",
    "rvest](https://jef.works/blog/2019/01/12/online-bargain-hunting-in-R-with-rvest/)\n",
    "and is basically a simplified version of that description\n",
    "\n",
    "So say we want to pull some data from <http://poshmark.com> and compare\n",
    "original prices with the current price, maybe to find excellent bargins.\n",
    "We will look in the category Jackets and Coats-Blazers, and we will just\n",
    "use the data we find on the first page:"
   ]
  },
  {
   "cell_type": "code",
   "execution_count": null,
   "metadata": {},
   "outputs": [],
   "source": [
    "url <- 'https://poshmark.com/category/Women-Jackets_&_Coats-Blazers?max_id=1'\n",
    "webpage <- read_html(url)"
   ]
  },
  {
   "cell_type": "markdown",
   "metadata": {},
   "source": [
    "We just pull the webpage once, then we look for our fields using that\n",
    "pulled page.\n",
    "\n",
    "Lets look for the title of the item first;"
   ]
  },
  {
   "cell_type": "code",
   "execution_count": null,
   "metadata": {},
   "outputs": [],
   "source": [
    "nodes<- html_nodes(webpage,'.tc--b')\n",
    "title <- html_text(nodes)\n",
    "# This removes some weird non-ascii chars in the title\n",
    "title <- iconv(title, to=\"ASCII\", sub=\"\")\n",
    "title<-trimws(title)\n",
    "str(title)\n",
    "head(title, 10)"
   ]
  },
  {
   "cell_type": "markdown",
   "metadata": {},
   "source": [
    "Next we look for the prices:"
   ]
  },
  {
   "cell_type": "code",
   "execution_count": null,
   "metadata": {},
   "outputs": [],
   "source": [
    "nodes <- html_nodes(webpage,'.fw--bold')\n",
    "price <- html_text(nodes)\n",
    "price <- trimws(price)\n",
    "price<-gsub(\"$\",\"\",price, fixed=TRUE)\n",
    "#price<-gsub(\"\\u00A0.*\",\"\",price)\n",
    "price<-gsub(\",\",\"\", price, fixed=TRUE)\n",
    "price<-as.numeric(price)\n",
    "str(price)\n",
    "head(price, 10)"
   ]
  },
  {
   "cell_type": "markdown",
   "metadata": {},
   "source": [
    "Now lets look for the original price:"
   ]
  },
  {
   "cell_type": "code",
   "execution_count": null,
   "metadata": {},
   "outputs": [],
   "source": [
    "#knitr::knit_exit()\n",
    "nodes <- html_nodes(webpage,'.td--lt')\n",
    "original <- html_text(nodes)\n",
    "original <- trimws(original)\n",
    "original<-gsub(\"$\",\"\",original, fixed=TRUE)\n",
    "original<-gsub(\",\",\"\",original, fixed=TRUE)\n",
    "original<-as.numeric(original)\n",
    "str(original)\n",
    "head(original, 10)"
   ]
  },
  {
   "cell_type": "markdown",
   "metadata": {},
   "source": [
    "For our discount analysis we exclude the data where the original is 0:"
   ]
  },
  {
   "cell_type": "code",
   "execution_count": null,
   "metadata": {},
   "outputs": [],
   "source": [
    "price <- price[original > 0]\n",
    "title <- title[original > 0]\n",
    "original <- original[original > 0]"
   ]
  },
  {
   "cell_type": "markdown",
   "metadata": {},
   "source": [
    "Lets compute the discount for each item:"
   ]
  },
  {
   "cell_type": "code",
   "execution_count": null,
   "metadata": {},
   "outputs": [],
   "source": [
    "discount <- round(100*(original - price)/original)"
   ]
  },
  {
   "cell_type": "markdown",
   "metadata": {},
   "source": [
    "Now lets make a dataframe of the info we have:"
   ]
  },
  {
   "cell_type": "code",
   "execution_count": null,
   "metadata": {},
   "outputs": [],
   "source": [
    "df <-data.frame(title, price, original, discount)\n",
    "df[,c(\"title\",\"original\",\"discount\")]"
   ]
  },
  {
   "cell_type": "markdown",
   "metadata": {},
   "source": [
    "Now lets see the distribution of discounts people are offering:"
   ]
  },
  {
   "cell_type": "code",
   "execution_count": null,
   "metadata": {},
   "outputs": [],
   "source": [
    "discount\n",
    "hist(discount)"
   ]
  },
  {
   "cell_type": "code",
   "execution_count": null,
   "metadata": {},
   "outputs": [],
   "source": [
    "mean(discount)\n",
    "range(discount)"
   ]
  },
  {
   "cell_type": "markdown",
   "metadata": {},
   "source": [
    "Now lets see the distribution of original prices:"
   ]
  },
  {
   "cell_type": "code",
   "execution_count": null,
   "metadata": {},
   "outputs": [],
   "source": [
    "original\n",
    "hist(original)"
   ]
  },
  {
   "cell_type": "code",
   "execution_count": null,
   "metadata": {},
   "outputs": [],
   "source": [
    "mean(original)\n",
    "range(original)"
   ]
  },
  {
   "cell_type": "markdown",
   "metadata": {},
   "source": [
    "Here is a plot of the original vs the offering price:"
   ]
  },
  {
   "cell_type": "code",
   "execution_count": null,
   "metadata": {},
   "outputs": [],
   "source": [
    "plot(original,price, pch=19)"
   ]
  },
  {
   "cell_type": "code",
   "execution_count": null,
   "metadata": {},
   "outputs": [],
   "source": [
    "cor(original, price)"
   ]
  }
 ],
 "nbformat": 4,
 "nbformat_minor": 5,
 "metadata": {
  "kernelspec": {
   "name": "ir",
   "display_name": "R",
   "language": "R"
  }
 }
}
