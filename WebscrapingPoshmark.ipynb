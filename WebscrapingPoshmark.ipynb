{
  "cells": [
    {
      "cell_type": "markdown",
      "metadata": {},
      "source": [
        "# Discounts on Poshmark"
      ],
      "id": "9a4fe1f9-4ab9-4e3f-b529-e79b7206187e"
    },
    {
      "cell_type": "code",
      "execution_count": null,
      "metadata": {},
      "outputs": [],
      "source": [
        "options(repr.plot.width=6, repr.plot.height=6)\n",
        "knitr::opts_chunk$set(fig.width=6, fig.height=6)\n",
        "if (!require(\"rvest\")) install.packages(\"rvest\")\n",
        "library(\"rvest\")"
      ],
      "id": "fe9ebdc3-91a0-45b5-a056-3071cf4e2db5"
    },
    {
      "cell_type": "markdown",
      "metadata": {},
      "source": [
        "Here we will show how to do webscraping with rvest and the chrome\n",
        "extension selector gadget. This technique is borrowed from the great\n",
        "explanation at: [Online Bargin Hunting in R with\n",
        "rvest](https://jef.works/blog/2019/01/12/online-bargain-hunting-in-R-with-rvest/)\n",
        "and is basically a simplified version of that description\n",
        "\n",
        "So say we want to pull some data from <http://poshmark.com> and compare\n",
        "original prices with the current price, maybe to find excellent bargins.\n",
        "We will look in the category Jackets and Coats-Blazers, and we will just\n",
        "use the data we find on the first page:"
      ],
      "id": "fd644ebc-208b-4848-a69c-5386a01d9e40"
    },
    {
      "cell_type": "code",
      "execution_count": null,
      "metadata": {},
      "outputs": [],
      "source": [
        "url <- 'https://poshmark.com/category/Women-Jackets_&_Coats-Blazers?max_id=1'\n",
        "webpage <- read_html(url)"
      ],
      "id": "cfcb6973-d4b8-42b0-82da-4955d8cfaf10"
    },
    {
      "cell_type": "markdown",
      "metadata": {},
      "source": [
        "We just pull the webpage once, then we look for our fields using that\n",
        "pulled page.\n",
        "\n",
        "Lets look for the title of the item first;"
      ],
      "id": "ff621f8c-6f37-47d0-8efb-f57406e23134"
    },
    {
      "cell_type": "code",
      "execution_count": null,
      "metadata": {},
      "outputs": [
        {
          "output_type": "stream",
          "name": "stdout",
          "text": [
            " chr [1:48] \"Kasper || Red Blazer Jacket || 4P\" ..."
          ]
        },
        {
          "output_type": "stream",
          "name": "stdout",
          "text": [
            " [1] \"Kasper || Red Blazer Jacket || 4P\"                                               \n",
            " [2] \"Rachel Zoe Striped Blazer Single Button Notch Lapels Pockets Button Cuffs Sz M\"  \n",
            " [3] \"nwtlauren rl silk cropped gingham jacket blazer cardigan shrug\"                  \n",
            " [4] \"Parker Powell Patterned Zip Front Celebrity Cited Revolve Cream Blazer Jacket XS\"\n",
            " [5] \"Kenneth Cole dark gray blazer 8\"                                                 \n",
            " [6] \"Mint Condition like new black blazer\"                                            \n",
            " [7] \"SHEIN 2PC BLAZER HALTER TOP SET\"                                                 \n",
            " [8] \"NEW Talbots Plaid Houndstooth Elbow Patch Wool Bla\"                              \n",
            " [9] \"Suit jacket\"                                                                     \n",
            "[10] \"Peace of Cloth Black Open Cardigan Blazer\"                                       "
          ]
        }
      ],
      "source": [
        "nodes<- html_nodes(webpage,'.tc--b')\n",
        "title <- html_text(nodes)\n",
        "# This removes some weird non-ascii chars in the title\n",
        "title <- iconv(title, to=\"ASCII\", sub=\"\")\n",
        "title<-trimws(title)\n",
        "str(title)"
      ],
      "id": "8216182f-4e75-4ba8-89e5-2fd5a8b09dba"
    },
    {
      "cell_type": "markdown",
      "metadata": {},
      "source": [
        "Next we look for the prices:"
      ],
      "id": "bd9ae66c-2a6b-4ea1-a4a3-78f0d5ec91d9"
    },
    {
      "cell_type": "code",
      "execution_count": null,
      "metadata": {},
      "outputs": [
        {
          "output_type": "stream",
          "name": "stdout",
          "text": [
            " num [1:48] 19 48 89 40 30 12 18 24 50 46 ..."
          ]
        },
        {
          "output_type": "stream",
          "name": "stdout",
          "text": [
            " [1] 19 48 89 40 30 12 18 24 50 46"
          ]
        }
      ],
      "source": [
        "nodes <- html_nodes(webpage,'.fw--bold')\n",
        "price <- html_text(nodes)\n",
        "price <- trimws(price)\n",
        "price<-gsub(\"$\",\"\",price, fixed=TRUE)\n",
        "#price<-gsub(\"\\u00A0.*\",\"\",price)\n",
        "price<-gsub(\",\",\"\", price, fixed=TRUE)\n",
        "price<-as.numeric(price)\n",
        "str(price)"
      ],
      "id": "b3f5e665-3558-4fc6-a203-ba3d80d04cd2"
    },
    {
      "cell_type": "markdown",
      "metadata": {},
      "source": [
        "Now lets look for the original price:"
      ],
      "id": "ab6a6b44-3ad0-4bba-bf51-3b6ba736694c"
    },
    {
      "cell_type": "code",
      "execution_count": null,
      "metadata": {},
      "outputs": [
        {
          "output_type": "stream",
          "name": "stdout",
          "text": [
            " num [1:48] 444 0 150 0 78 52 0 0 175 185 ..."
          ]
        },
        {
          "output_type": "stream",
          "name": "stdout",
          "text": [
            " [1] 444   0 150   0  78  52   0   0 175 185"
          ]
        }
      ],
      "source": [
        "#knitr::knit_exit()\n",
        "nodes <- html_nodes(webpage,'.td--lt')\n",
        "original <- html_text(nodes)\n",
        "original <- trimws(original)\n",
        "original<-gsub(\"$\",\"\",original, fixed=TRUE)\n",
        "original<-gsub(\",\",\"\",original, fixed=TRUE)\n",
        "original<-as.numeric(original)\n",
        "str(original)"
      ],
      "id": "17218b5a-ffa5-431f-b6dd-ac4a2390f943"
    },
    {
      "cell_type": "markdown",
      "metadata": {},
      "source": [
        "For our discount analysis we exclude the data where the original is 0:"
      ],
      "id": "c54d6dda-a18b-40e5-8971-6db2708e905d"
    },
    {
      "cell_type": "code",
      "execution_count": null,
      "metadata": {},
      "outputs": [],
      "source": [
        "price <- price[original > 0]\n",
        "title <- title[original > 0]\n",
        "original <- original[original > 0]"
      ],
      "id": "53c9ceb1-80c2-4c96-8777-e0afe5b5a75e"
    },
    {
      "cell_type": "markdown",
      "metadata": {},
      "source": [
        "Lets compute the discount for each item:"
      ],
      "id": "4474c129-2604-4eb2-afbe-81b27a68dbd6"
    },
    {
      "cell_type": "code",
      "execution_count": null,
      "metadata": {},
      "outputs": [],
      "source": [
        "discount <- round(100*(original - price)/original)"
      ],
      "id": "f0689594-b017-478d-a1da-ff43e830b9f3"
    },
    {
      "cell_type": "markdown",
      "metadata": {},
      "source": [
        "Now lets make a dataframe of the info we have:"
      ],
      "id": "490f4dc1-95d1-41bc-aa33-6cbd4d15a58c"
    },
    {
      "cell_type": "code",
      "execution_count": null,
      "metadata": {},
      "outputs": [
        {
          "output_type": "stream",
          "name": "stdout",
          "text": [
            "                                                                            title\n",
            "1                                               Kasper || Red Blazer Jacket || 4P\n",
            "2                  nwtlauren rl silk cropped gingham jacket blazer cardigan shrug\n",
            "3                                                 Kenneth Cole dark gray blazer 8\n",
            "4                                            Mint Condition like new black blazer\n",
            "5                                                                     Suit jacket\n",
            "6                                       Peace of Cloth Black Open Cardigan Blazer\n",
            "7                                         NWT Philosophy Pinstripe Blazer Stretch\n",
            "8                                                       Rag & Bone Bromley Blazer\n",
            "9                                           NWT Leslie Fay Blazer Jacket. Size 10\n",
            "10                                    BCBGMaxAzria Black Wool Blend Blazer Size M\n",
            "11                                               Jones  New York Signature Jacket\n",
            "12                                                      J. Crew School boy Blazer\n",
            "13                                                      Talbots Red Velvet Jacket\n",
            "14                                                Maggy London Silk Floral Blazer\n",
            "15       Vintage Black Metallic Gold Floral Evening Jacket Blazer Convertible Top\n",
            "16                                          White House Black Market Blazer Small\n",
            "17                                                      Sigrid Olson Sport Jacket\n",
            "18                                                          Black 3 button blazer\n",
            "19                               ST JOHN Yellow Tag Sweater Jacket Size Small EUC\n",
            "20                                  NWT New York & Company Brown Checkered Blazer\n",
            "21 Alfred Dunner 14 purple/blue soft textured tweed\\n6 button cotton blend blazer\n",
            "22                                               HPZENERGY BY CHICOS BLACK JACKET\n",
            "23                                      Ralph Lauren 100% Linen Blue Plaid Blazer\n",
            "24                                          Veronica Beard Farley Dickey Jacket 4\n",
            "25                                                NAVY SHORT WAIST BLAZER 2 LOOKS\n",
            "26                                                         Gap The Academy Blazer\n",
            "27                                    JCP Light Heather Gray Blazer Jacket Medium\n",
            "   original discount\n",
            "1       444       96\n",
            "2       150       41\n",
            "3        78       62\n",
            "4        52       77\n",
            "5       175       71\n",
            "6       185       75\n",
            "7        99       44\n",
            "8       595       88\n",
            "9        89       78\n",
            "10      198       75\n",
            "11       69       78\n",
            "12      138       75\n",
            "13      170       53\n",
            "14      115       69\n",
            "15      111       65\n",
            "16       75       33\n",
            "17       60       60\n",
            "18       60       85\n",
            "19      990       85\n",
            "20       74       59\n",
            "21       68       63\n",
            "22       90       83\n",
            "23      225       71\n",
            "24      595       41\n",
            "25       78       55\n",
            "26       55       67\n",
            "27       55       71"
          ]
        }
      ],
      "source": [
        "df <-data.frame(title, price, original, discount)\n",
        "df[,c(\"title\",\"original\",\"discount\")]"
      ],
      "id": "b84fbc3a-f902-4e7c-8684-682a04ebf6a4"
    },
    {
      "cell_type": "markdown",
      "metadata": {},
      "source": [
        "Now lets see the distribution of discounts people are offering:"
      ],
      "id": "d62fdf08-6e69-4224-b314-a6099c8ce1d1"
    },
    {
      "cell_type": "code",
      "execution_count": null,
      "metadata": {},
      "outputs": [
        {
          "output_type": "stream",
          "name": "stdout",
          "text": [
            " [1] 96 41 62 77 71 75 44 88 78 75 78 75 53 69 65 33 60 85 85 59 63 83 71 41 55\n",
            "[26] 67 71"
          ]
        },
        {
          "output_type": "display_data",
          "metadata": {},
          "data": {
            "image/png": "[encoded data removed]"
          }
        },
        {
          "output_type": "stream",
          "name": "stdout",
          "text": [
            "[1] 67.40741"
          ]
        },
        {
          "output_type": "stream",
          "name": "stdout",
          "text": [
            "[1] 33 96"
          ]
        }
      ],
      "source": [
        "discount"
      ],
      "id": "5f948076-2a15-4683-ac0b-984df50c01e2"
    },
    {
      "cell_type": "markdown",
      "metadata": {},
      "source": [
        "Now lets see the distribution of original prices:"
      ],
      "id": "69a4abbe-6c3d-40cf-9a4f-6ad45c3d9cb6"
    },
    {
      "cell_type": "code",
      "execution_count": null,
      "metadata": {},
      "outputs": [
        {
          "output_type": "stream",
          "name": "stdout",
          "text": [
            " [1] 444 150  78  52 175 185  99 595  89 198  69 138 170 115 111  75  60  60 990\n",
            "[20]  74  68  90 225 595  78  55  55"
          ]
        },
        {
          "output_type": "display_data",
          "metadata": {},
          "data": {
            "image/png": "[encoded data removed]"
          }
        },
        {
          "output_type": "stream",
          "name": "stdout",
          "text": [
            "[1] 188.6296"
          ]
        },
        {
          "output_type": "stream",
          "name": "stdout",
          "text": [
            "[1]  52 990"
          ]
        }
      ],
      "source": [
        "original"
      ],
      "id": "55977b2b-d0d5-47ed-97bd-7d891b38be25"
    },
    {
      "cell_type": "markdown",
      "metadata": {},
      "source": [
        "Here is a plot of the original vs the offering price:"
      ],
      "id": "a27d605b-f082-465d-b0df-e3cad0b1c38f"
    },
    {
      "cell_type": "code",
      "execution_count": null,
      "metadata": {},
      "outputs": [
        {
          "output_type": "display_data",
          "metadata": {},
          "data": {
            "image/png": "[encoded data removed]"
          }
        },
        {
          "output_type": "stream",
          "name": "stdout",
          "text": [
            "[1] 0.6470025"
          ]
        }
      ],
      "source": [
        "plot(original,price, pch=19)"
      ],
      "id": "cc9ee29f-4c97-4a20-9414-657cd4ae99b8"
    }
  ],
  "nbformat": 4,
  "nbformat_minor": 5,
  "metadata": {
    "kernelspec": {
      "name": "ir",
      "display_name": "R",
      "language": "R"
    }
  }
}