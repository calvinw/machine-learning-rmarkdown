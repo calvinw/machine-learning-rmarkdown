{
  "cells": [
    {
      "cell_type": "markdown",
      "metadata": {},
      "source": [
        "# Discounts on Poshmark"
      ],
      "id": "0e5a076d-47e4-4ba9-91ce-9a2951c53110"
    },
    {
      "cell_type": "code",
      "execution_count": null,
      "metadata": {},
      "outputs": [],
      "source": [
        "options(repr.plot.width=6, repr.plot.height=6)\n",
        "knitr::opts_chunk$set(fig.width=6, fig.height=6)\n",
        "if (!require(\"rvest\")) install.packages(\"rvest\")\n",
        "library(\"rvest\")"
      ],
      "id": "e85d95af-2f07-4d4e-85bf-dcee166cca1f"
    },
    {
      "cell_type": "markdown",
      "metadata": {},
      "source": [
        "Here we will show how to do webscraping with rvest and the chrome\n",
        "extension selector gadget. This technique is borrowed from the great\n",
        "explanation at: [Online Bargin Hunting in R with\n",
        "rvest](https://jef.works/blog/2019/01/12/online-bargain-hunting-in-R-with-rvest/)\n",
        "and is basically a simplified version of that description\n",
        "\n",
        "So say we want to pull some data from <http://poshmark.com> and compare\n",
        "original prices with the current price, maybe to find excellent bargins.\n",
        "We will look in the category Jackets and Coats-Blazers, and we will just\n",
        "use the data we find on the first page:"
      ],
      "id": "efc65f1e-ec19-40ef-8ccb-1881a8a4c203"
    },
    {
      "cell_type": "code",
      "execution_count": null,
      "metadata": {},
      "outputs": [],
      "source": [
        "url <- 'https://poshmark.com/category/Women-Jackets_&_Coats-Blazers?max_id=1'\n",
        "webpage <- read_html(url)"
      ],
      "id": "5a0bb451-d0fc-468a-a105-5027f40cd462"
    },
    {
      "cell_type": "markdown",
      "metadata": {},
      "source": [
        "We just pull the webpage once, then we look for our fields using that\n",
        "pulled page.\n",
        "\n",
        "Lets look for the title of the item first;"
      ],
      "id": "204f743c-7903-4feb-8a75-b6de8eb28a5d"
    },
    {
      "cell_type": "code",
      "execution_count": null,
      "metadata": {},
      "outputs": [
        {
          "output_type": "stream",
          "name": "stdout",
          "text": [
            " chr [1:48] \"Vintage Karet Tweed Blazer Size 20W\" ..."
          ]
        },
        {
          "output_type": "stream",
          "name": "stdout",
          "text": [
            " [1] \"Vintage Karet Tweed Blazer Size 20W\"                    \n",
            " [2] \"Tahari Tweed Plaid Blazer Jacket Sz 8 Gray Black\"       \n",
            " [3] \"Pinstriped blazer\"                                      \n",
            " [4] \"White Floral blazer NIPN BOUTIQUE SIZE 4\"               \n",
            " [5] \"Eileen Fisher Wool Blend Petite Open Blazer\"            \n",
            " [6] \"DIANE VON FURSTENBERG Plaid Belted Vintage Blazer\"      \n",
            " [7] \"Banana Republic Tweed Fringe Jacket Blazer\"             \n",
            " [8] \"Velvety Black Blazer by Villager Size 14\"               \n",
            " [9] \"Miss Me Vintage Camo Hooded Shirt Jacket Size Small NEW\"\n",
            "[10] \"DONNA KARAN Black blazer sweater 6\"                     "
          ]
        }
      ],
      "source": [
        "nodes<- html_nodes(webpage,'.tc--b')\n",
        "title <- html_text(nodes)\n",
        "# This removes some weird non-ascii chars in the title\n",
        "title <- iconv(title, to=\"ASCII\", sub=\"\")\n",
        "title<-trimws(title)\n",
        "str(title)"
      ],
      "id": "3cf8e9cb-1693-4afc-8bb1-42170412752e"
    },
    {
      "cell_type": "markdown",
      "metadata": {},
      "source": [
        "Next we look for the prices:"
      ],
      "id": "38a13cbd-2139-450b-85b7-0a9cf68860d5"
    },
    {
      "cell_type": "code",
      "execution_count": null,
      "metadata": {},
      "outputs": [
        {
          "output_type": "stream",
          "name": "stdout",
          "text": [
            " num [1:48] 34 24 9 40 30 32 30 38 60 65 ..."
          ]
        },
        {
          "output_type": "stream",
          "name": "stdout",
          "text": [
            " [1] 34 24  9 40 30 32 30 38 60 65"
          ]
        }
      ],
      "source": [
        "nodes <- html_nodes(webpage,'.fw--bold')\n",
        "price <- html_text(nodes)\n",
        "price <- trimws(price)\n",
        "price<-gsub(\"$\",\"\",price, fixed=TRUE)\n",
        "#price<-gsub(\"\\u00A0.*\",\"\",price)\n",
        "price<-gsub(\",\",\"\", price, fixed=TRUE)\n",
        "price<-as.numeric(price)\n",
        "str(price)"
      ],
      "id": "f9946b99-00ef-419a-9eb4-64879316ee68"
    },
    {
      "cell_type": "markdown",
      "metadata": {},
      "source": [
        "Now lets look for the original price:"
      ],
      "id": "9638c31d-9f3a-4acb-876d-464a06d30e24"
    },
    {
      "cell_type": "code",
      "execution_count": null,
      "metadata": {},
      "outputs": [
        {
          "output_type": "stream",
          "name": "stdout",
          "text": [
            " num [1:48] 0 0 68 0 0 0 90 0 0 0 ..."
          ]
        },
        {
          "output_type": "stream",
          "name": "stdout",
          "text": [
            " [1]  0  0 68  0  0  0 90  0  0  0"
          ]
        }
      ],
      "source": [
        "#knitr::knit_exit()\n",
        "nodes <- html_nodes(webpage,'.td--lt')\n",
        "original <- html_text(nodes)\n",
        "original <- trimws(original)\n",
        "original<-gsub(\"$\",\"\",original, fixed=TRUE)\n",
        "original<-gsub(\",\",\"\",original, fixed=TRUE)\n",
        "original<-as.numeric(original)\n",
        "str(original)"
      ],
      "id": "3af21845-d569-4d3f-b540-78e2928be86b"
    },
    {
      "cell_type": "markdown",
      "metadata": {},
      "source": [
        "For our discount analysis we exclude the data where the original is 0:"
      ],
      "id": "1abb7b56-d395-4a52-ada2-de04170c0f84"
    },
    {
      "cell_type": "code",
      "execution_count": null,
      "metadata": {},
      "outputs": [],
      "source": [
        "price <- price[original > 0]\n",
        "title <- title[original > 0]\n",
        "original <- original[original > 0]"
      ],
      "id": "c518dee8-e21c-4ed7-96de-3d727dc69923"
    },
    {
      "cell_type": "markdown",
      "metadata": {},
      "source": [
        "Lets compute the discount for each item:"
      ],
      "id": "334f2f0a-b938-4a51-a695-423e0f7fbc68"
    },
    {
      "cell_type": "code",
      "execution_count": null,
      "metadata": {},
      "outputs": [],
      "source": [
        "discount <- round(100*(original - price)/original)"
      ],
      "id": "04cb3050-08d0-442c-9d27-f73f5b355457"
    },
    {
      "cell_type": "markdown",
      "metadata": {},
      "source": [
        "Now lets make a dataframe of the info we have:"
      ],
      "id": "f4feb6bc-bdbc-4162-b337-62b65bb81c7b"
    },
    {
      "cell_type": "code",
      "execution_count": null,
      "metadata": {},
      "outputs": [
        {
          "output_type": "stream",
          "name": "stdout",
          "text": [
            "                                                                           title\n",
            "1                                                              Pinstriped blazer\n",
            "2                                     Banana Republic Tweed Fringe Jacket Blazer\n",
            "3   Hugo Boss Jadela Charcoal Gray Layered Look Asymmetric Jacket Blazer Size 14\n",
            "4                              Le Suit Black Textured Blazer One Bling Button 12\n",
            "5                   Womens Talbots Blazer -Size 10 Petite NWT- Color Red- Orange\n",
            "6                                                   DR2 Grey Plaid Blazer Jacket\n",
            "7                                              Womens Sweet Suit Blazer- Size 16\n",
            "8                               Tahari 2 Piece  Houndstooth Suit Blazer Skirt 6P\n",
            "9         Vintage 60's Jackie O Boucle Wool Blazer Lined Exc Pre-owned Condition\n",
            "10                                         UNITED COLORS OF BENETTON Blue Blazer\n",
            "11                                 Chicos Embellished Tweed Blazer Jacket Beaded\n",
            "12                Bishop + Young Broughton Satin Open Blazer in Ivory Size Small\n",
            "13                        NWT Ralph Lauren Classic Gray Pinstripe Blazer Size 16\n",
            "14                                      Joules jersey burgundy knit Molly blazer\n",
            "15 Lauren Ralph Lauren Black Lined Cotton Blend Safari Structured Blazer Size 10\n",
            "16           Carmen Marc Valvo Collection Gold Metallic Embellished Jewel Jacket\n",
            "17                             Tom Ford 4 Yves Saint Laurent Runway Ivory Jacket\n",
            "18              Vintage JH Collectibles Wool Plaid Double Breasted Blazer Size 6\n",
            "19      Womens Positive Attitude Blazer- Soft Material- Size 14- Color- Burgundy\n",
            "20                                 The BRYANT Blazer LANE BRYANT Red suit Jacket\n",
            "21                            J. Crew Factory Seersucker Stripe Schoolboy Blazer\n",
            "22                       Lafayette 148 New York Plaid Tweed Blazer Jacket Size 4\n",
            "23                                  Chicos Gold Neutral Tweed Jacket Size 4 New!\n",
            "   original discount\n",
            "1        68       87\n",
            "2        90       67\n",
            "3      9999       99\n",
            "4       200       80\n",
            "5       188       88\n",
            "6       777       93\n",
            "7        54       63\n",
            "8       200       68\n",
            "9        90       86\n",
            "10      169       66\n",
            "11      159       75\n",
            "12      120       96\n",
            "13      250       50\n",
            "14      150       77\n",
            "15      295       74\n",
            "16      450       91\n",
            "17     2500       78\n",
            "18      999       96\n",
            "19       25      -16\n",
            "20      100       62\n",
            "21      150       49\n",
            "22      598       75\n",
            "23      149       52"
          ]
        }
      ],
      "source": [
        "df <-data.frame(title, price, original, discount)\n",
        "df[,c(\"title\",\"original\",\"discount\")]"
      ],
      "id": "3b61e695-d660-48aa-b8a6-2427a6c19982"
    },
    {
      "cell_type": "markdown",
      "metadata": {},
      "source": [
        "Now lets see the distribution of discounts people are offering:"
      ],
      "id": "8f152fdb-b298-4ca6-922b-dfbef0fc20ad"
    },
    {
      "cell_type": "code",
      "execution_count": null,
      "metadata": {},
      "outputs": [
        {
          "output_type": "stream",
          "name": "stdout",
          "text": [
            " [1]  87  67  99  80  88  93  63  68  86  66  75  96  50  77  74  91  78  96 -16\n",
            "[20]  62  49  75  52"
          ]
        },
        {
          "output_type": "display_data",
          "metadata": {},
          "data": {
            "image/png": "[encoded data removed]"
          }
        },
        {
          "output_type": "stream",
          "name": "stdout",
          "text": [
            "[1] 72"
          ]
        },
        {
          "output_type": "stream",
          "name": "stdout",
          "text": [
            "[1] -16  99"
          ]
        }
      ],
      "source": [
        "discount"
      ],
      "id": "7e358977-d64a-4b6e-9e0c-6aa52ac110d2"
    },
    {
      "cell_type": "markdown",
      "metadata": {},
      "source": [
        "Now lets see the distribution of original prices:"
      ],
      "id": "28660779-25df-476e-bea5-332fb4ae88d5"
    },
    {
      "cell_type": "code",
      "execution_count": null,
      "metadata": {},
      "outputs": [
        {
          "output_type": "stream",
          "name": "stdout",
          "text": [
            " [1]   68   90 9999  200  188  777   54  200   90  169  159  120  250  150  295\n",
            "[16]  450 2500  999   25  100  150  598  149"
          ]
        },
        {
          "output_type": "display_data",
          "metadata": {},
          "data": {
            "image/png": "[encoded data removed]"
          }
        },
        {
          "output_type": "stream",
          "name": "stdout",
          "text": [
            "[1] 773.0435"
          ]
        },
        {
          "output_type": "stream",
          "name": "stdout",
          "text": [
            "[1]   25 9999"
          ]
        }
      ],
      "source": [
        "original"
      ],
      "id": "7b9cc9b4-d4b8-4c10-8ab2-9742ea3375e8"
    },
    {
      "cell_type": "markdown",
      "metadata": {},
      "source": [
        "Here is a plot of the original vs the offering price:"
      ],
      "id": "c8f59473-155a-4b71-9761-a65b447f8158"
    },
    {
      "cell_type": "code",
      "execution_count": null,
      "metadata": {},
      "outputs": [
        {
          "output_type": "display_data",
          "metadata": {},
          "data": {
            "image/png": "[encoded data removed]"
          }
        },
        {
          "output_type": "stream",
          "name": "stdout",
          "text": [
            "[1] 0.3147586"
          ]
        }
      ],
      "source": [
        "plot(original,price, pch=19)"
      ],
      "id": "f5257d84-c8f4-48e1-b7a8-78e75f04e105"
    }
  ],
  "nbformat": 4,
  "nbformat_minor": 5,
  "metadata": {
    "kernelspec": {
      "name": "ir",
      "display_name": "R",
      "language": "R"
    }
  }
}